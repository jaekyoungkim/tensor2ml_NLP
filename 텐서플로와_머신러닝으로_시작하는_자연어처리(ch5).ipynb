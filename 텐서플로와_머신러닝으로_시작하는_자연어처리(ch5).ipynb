{
  "nbformat": 4,
  "nbformat_minor": 0,
  "metadata": {
    "colab": {
      "name": "텐서플로와_머신러닝으로_시작하는_자연어처리(ch5).ipynb",
      "provenance": [],
      "collapsed_sections": [],
      "authorship_tag": "ABX9TyM0XLh1UMkSy5P+sbSl1Ix0",
      "include_colab_link": true
    },
    "kernelspec": {
      "name": "python3",
      "display_name": "Python 3"
    },
    "language_info": {
      "name": "python"
    }
  },
  "cells": [
    {
      "cell_type": "markdown",
      "metadata": {
        "id": "view-in-github",
        "colab_type": "text"
      },
      "source": [
        "<a href=\"https://colab.research.google.com/github/jaekyoungkim/tensor2ml_NLP/blob/main/%ED%85%90%EC%84%9C%ED%94%8C%EB%A1%9C%EC%99%80_%EB%A8%B8%EC%8B%A0%EB%9F%AC%EB%8B%9D%EC%9C%BC%EB%A1%9C_%EC%8B%9C%EC%9E%91%ED%95%98%EB%8A%94_%EC%9E%90%EC%97%B0%EC%96%B4%EC%B2%98%EB%A6%AC(ch5).ipynb\" target=\"_parent\"><img src=\"https://colab.research.google.com/assets/colab-badge.svg\" alt=\"Open In Colab\"/></a>"
      ]
    },
    {
      "cell_type": "code",
      "execution_count": 1,
      "metadata": {
        "id": "Z2p6XzN-zcRr"
      },
      "outputs": [],
      "source": [
        "# quora questions pairs 문제\n",
        "# 서비스에 올라온 질문들 중에서 어떤 질문들 서로 유사한지 파악 (영어 데이터만 다룸)\n",
        "# 쿼라 사용자 월 1억명정도 수많은 질문들이 올라옴\n",
        "#kaggle연결\n",
        "\n",
        "# 1. 먼저 본인의 캐글 계정에서 API Token 을 다운받습니다.\n",
        "# 2. Colab 으로 가서 밑의 코드를 실행시킵니다\n",
        "#!pip install kaggle\n",
        "#from google.colab import files\n",
        "#files.upload()\n",
        "# https://medium.com/hyunjulie/%EC%BA%90%EA%B8%80%EA%B3%BC-%EA%B5%AC%EA%B8%80-colab-%EC%97%B0%EA%B2%B0%ED%95%B4%EC%A3%BC%EA%B8%B0-6a274f6de81d 참고하기"
      ]
    },
    {
      "cell_type": "code",
      "source": [
        "# 데이터 불러오기\n",
        "!pip install kaggle"
      ],
      "metadata": {
        "colab": {
          "base_uri": "https://localhost:8080/"
        },
        "id": "X4Vd5EzY6nM0",
        "outputId": "ccf0581a-70bc-442e-ca04-08fc71037488"
      },
      "execution_count": 28,
      "outputs": [
        {
          "output_type": "stream",
          "name": "stdout",
          "text": [
            "Requirement already satisfied: kaggle in /usr/local/lib/python3.7/dist-packages (1.5.12)\n",
            "Requirement already satisfied: urllib3 in /usr/local/lib/python3.7/dist-packages (from kaggle) (1.24.3)\n",
            "Requirement already satisfied: requests in /usr/local/lib/python3.7/dist-packages (from kaggle) (2.23.0)\n",
            "Requirement already satisfied: python-slugify in /usr/local/lib/python3.7/dist-packages (from kaggle) (5.0.2)\n",
            "Requirement already satisfied: six>=1.10 in /usr/local/lib/python3.7/dist-packages (from kaggle) (1.15.0)\n",
            "Requirement already satisfied: tqdm in /usr/local/lib/python3.7/dist-packages (from kaggle) (4.62.3)\n",
            "Requirement already satisfied: certifi in /usr/local/lib/python3.7/dist-packages (from kaggle) (2021.10.8)\n",
            "Requirement already satisfied: python-dateutil in /usr/local/lib/python3.7/dist-packages (from kaggle) (2.8.2)\n",
            "Requirement already satisfied: text-unidecode>=1.3 in /usr/local/lib/python3.7/dist-packages (from python-slugify->kaggle) (1.3)\n",
            "Requirement already satisfied: idna<3,>=2.5 in /usr/local/lib/python3.7/dist-packages (from requests->kaggle) (2.10)\n",
            "Requirement already satisfied: chardet<4,>=3.0.2 in /usr/local/lib/python3.7/dist-packages (from requests->kaggle) (3.0.4)\n"
          ]
        }
      ]
    },
    {
      "cell_type": "code",
      "source": [
        "!pip install --upgrade --force-reinstall --no-deps kaggle"
      ],
      "metadata": {
        "colab": {
          "base_uri": "https://localhost:8080/"
        },
        "id": "NNxUM05eAG5E",
        "outputId": "75cc54da-f6f7-4640-b309-3c1e8c512939"
      },
      "execution_count": 29,
      "outputs": [
        {
          "output_type": "stream",
          "name": "stdout",
          "text": [
            "Collecting kaggle\n",
            "  Downloading kaggle-1.5.12.tar.gz (58 kB)\n",
            "\u001b[?25l\r\u001b[K     |█████▋                          | 10 kB 22.2 MB/s eta 0:00:01\r\u001b[K     |███████████▏                    | 20 kB 11.4 MB/s eta 0:00:01\r\u001b[K     |████████████████▊               | 30 kB 8.8 MB/s eta 0:00:01\r\u001b[K     |██████████████████████▎         | 40 kB 8.4 MB/s eta 0:00:01\r\u001b[K     |███████████████████████████▉    | 51 kB 4.9 MB/s eta 0:00:01\r\u001b[K     |████████████████████████████████| 58 kB 2.3 MB/s \n",
            "\u001b[?25hBuilding wheels for collected packages: kaggle\n",
            "  Building wheel for kaggle (setup.py) ... \u001b[?25l\u001b[?25hdone\n",
            "  Created wheel for kaggle: filename=kaggle-1.5.12-py3-none-any.whl size=73051 sha256=67f62e9275337526bebd684e4e63c2ad78db849e118e81a1770e80a59f4be3df\n",
            "  Stored in directory: /root/.cache/pip/wheels/62/d6/58/5853130f941e75b2177d281eb7e44b4a98ed46dd155f556dc5\n",
            "Successfully built kaggle\n",
            "Installing collected packages: kaggle\n",
            "  Attempting uninstall: kaggle\n",
            "    Found existing installation: kaggle 1.5.12\n",
            "    Uninstalling kaggle-1.5.12:\n",
            "      Successfully uninstalled kaggle-1.5.12\n",
            "Successfully installed kaggle-1.5.12\n"
          ]
        }
      ]
    },
    {
      "cell_type": "code",
      "source": [
        "from google.colab import files\n",
        "files.upload()"
      ],
      "metadata": {
        "colab": {
          "resources": {
            "http://localhost:8080/nbextensions/google.colab/files.js": {
              "data": "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",
              "ok": true,
              "headers": [
                [
                  "content-type",
                  "application/javascript"
                ]
              ],
              "status": 200,
              "status_text": ""
            }
          },
          "base_uri": "https://localhost:8080/",
          "height": 95
        },
        "id": "8wKrlUWL6pJY",
        "outputId": "7d07e735-3e6d-49cd-f079-ac87ced01d6f"
      },
      "execution_count": 24,
      "outputs": [
        {
          "output_type": "display_data",
          "data": {
            "text/html": [
              "\n",
              "     <input type=\"file\" id=\"files-a83e5a82-82d9-46c7-aacf-d73be17569bc\" name=\"files[]\" multiple disabled\n",
              "        style=\"border:none\" />\n",
              "     <output id=\"result-a83e5a82-82d9-46c7-aacf-d73be17569bc\">\n",
              "      Upload widget is only available when the cell has been executed in the\n",
              "      current browser session. Please rerun this cell to enable.\n",
              "      </output>\n",
              "      <script src=\"/nbextensions/google.colab/files.js\"></script> "
            ],
            "text/plain": [
              "<IPython.core.display.HTML object>"
            ]
          },
          "metadata": {}
        },
        {
          "output_type": "stream",
          "name": "stdout",
          "text": [
            "Saving kaggle.json to kaggle.json\n"
          ]
        },
        {
          "output_type": "execute_result",
          "data": {
            "text/plain": [
              "{'kaggle.json': b'{\"username\":\"kimjaekyoung\",\"key\":\"3e838f9806be93b88eadf3a7744d40ff\"}'}"
            ]
          },
          "metadata": {},
          "execution_count": 24
        }
      ]
    },
    {
      "cell_type": "code",
      "source": [
        "ls -1ha kaggle.json"
      ],
      "metadata": {
        "colab": {
          "base_uri": "https://localhost:8080/"
        },
        "id": "KgigUxF06tDP",
        "outputId": "1f6f1d30-af97-433e-c817-9529a8c49c77"
      },
      "execution_count": 25,
      "outputs": [
        {
          "output_type": "stream",
          "name": "stdout",
          "text": [
            "kaggle.json\n"
          ]
        }
      ]
    },
    {
      "cell_type": "code",
      "source": [
        "!mkdir -p ~/.kaggle\n",
        "!cp kaggle.json ~/.kaggle/\n",
        "# Permission Warning 이 일어나지 않도록 \n",
        "!chmod 600 ~/.kaggle/kaggle.json\n",
        "# 본인이 참가한 모든 대회 보기 \n",
        "!kaggle competitions list\n",
        "\n"
      ],
      "metadata": {
        "colab": {
          "base_uri": "https://localhost:8080/"
        },
        "id": "gR2vmDls7kvJ",
        "outputId": "cc91ebb9-4ef3-4ba7-cf1a-7faa046f86e9"
      },
      "execution_count": 32,
      "outputs": [
        {
          "output_type": "stream",
          "name": "stdout",
          "text": [
            "ref                                            deadline             category            reward  teamCount  userHasEntered  \n",
            "---------------------------------------------  -------------------  ---------------  ---------  ---------  --------------  \n",
            "contradictory-my-dear-watson                   2030-07-01 23:59:00  Getting Started     Prizes         78           False  \n",
            "gan-getting-started                            2030-07-01 23:59:00  Getting Started     Prizes        115           False  \n",
            "store-sales-time-series-forecasting            2030-06-30 23:59:00  Getting Started  Knowledge        898           False  \n",
            "tpu-getting-started                            2030-06-03 23:59:00  Getting Started  Knowledge        176           False  \n",
            "digit-recognizer                               2030-01-01 00:00:00  Getting Started  Knowledge       1879           False  \n",
            "titanic                                        2030-01-01 00:00:00  Getting Started  Knowledge      13680           False  \n",
            "house-prices-advanced-regression-techniques    2030-01-01 00:00:00  Getting Started  Knowledge       5048            True  \n",
            "connectx                                       2030-01-01 00:00:00  Getting Started  Knowledge        225           False  \n",
            "nlp-getting-started                            2030-01-01 00:00:00  Getting Started  Knowledge        873           False  \n",
            "competitive-data-science-predict-future-sales  2022-12-31 23:59:00  Playground           Kudos      13395           False  \n",
            "ubiquant-market-prediction                     2022-04-18 23:59:00  Featured          $100,000        188           False  \n",
            "feedback-prize-2021                            2022-03-15 23:59:00  Featured          $160,000        890           False  \n",
            "tensorflow-great-barrier-reef                  2022-02-14 23:59:00  Research          $150,000       1573           False  \n",
            "jigsaw-toxic-severity-rating                   2022-02-07 23:59:00  Featured           $50,000       1967           False  \n",
            "g-research-crypto-forecasting                  2022-02-01 23:59:00  Featured          $125,000       1819           False  \n",
            "tabular-playground-series-jan-2022             2022-01-31 23:59:00  Playground           Kudos       1141           False  \n",
            "petfinder-pawpularity-score                    2022-01-14 23:59:00  Research           $25,000       3537           False  \n",
            "santa-2021                                     2022-01-12 23:59:00  Featured           $25,000        867           False  \n",
            "optiver-realized-volatility-prediction         2022-01-10 18:36:00  Featured          $100,000       3852           False  \n",
            "nfl-big-data-bowl-2022                         2022-01-06 23:59:00  Analytics         $100,000          0           False  \n"
          ]
        }
      ]
    },
    {
      "cell_type": "code",
      "source": [
        "!mkdir -p ~/.kaggle/ && mv kaggle.json ~/.kaggle/ && chmod 600 ~/.kaggle/kaggle.json"
      ],
      "metadata": {
        "id": "wCkrJJ81AbQY"
      },
      "execution_count": 33,
      "outputs": []
    },
    {
      "cell_type": "code",
      "source": [
        "!kaggle competitions download -c quora-question-pairs"
      ],
      "metadata": {
        "colab": {
          "base_uri": "https://localhost:8080/"
        },
        "id": "z5HKHrHJ7Gga",
        "outputId": "967b4939-e7b8-4546-eb42-291a691793b7"
      },
      "execution_count": 35,
      "outputs": [
        {
          "output_type": "stream",
          "name": "stdout",
          "text": [
            "Downloading quora-question-pairs.zip to /content\n",
            " 96% 297M/309M [00:02<00:00, 130MB/s]\n",
            "100% 309M/309M [00:02<00:00, 115MB/s]\n"
          ]
        }
      ]
    },
    {
      "cell_type": "code",
      "source": [
        "!ls"
      ],
      "metadata": {
        "colab": {
          "base_uri": "https://localhost:8080/"
        },
        "id": "5GI9AZtt8PMR",
        "outputId": "f2e8e7a7-871f-4da7-930a-e7b99aa87e86"
      },
      "execution_count": 36,
      "outputs": [
        {
          "output_type": "stream",
          "name": "stdout",
          "text": [
            "quora-question-pairs.zip  sample_data\n"
          ]
        }
      ]
    },
    {
      "cell_type": "code",
      "source": [
        "!unzip quora-question-pairs.zip"
      ],
      "metadata": {
        "colab": {
          "base_uri": "https://localhost:8080/"
        },
        "id": "FUTtac0oB_5W",
        "outputId": "8a40996d-0136-4248-b700-a89eb56f9f10"
      },
      "execution_count": 37,
      "outputs": [
        {
          "output_type": "stream",
          "name": "stdout",
          "text": [
            "Archive:  quora-question-pairs.zip\n",
            "  inflating: sample_submission.csv.zip  \n",
            "  inflating: test.csv                \n",
            "  inflating: test.csv.zip            \n",
            "  inflating: train.csv.zip           \n"
          ]
        }
      ]
    },
    {
      "cell_type": "code",
      "source": [
        "!unzip train.csv.zip\n",
        "!upzip test.csv.zip"
      ],
      "metadata": {
        "colab": {
          "base_uri": "https://localhost:8080/"
        },
        "id": "qD8AlyeOCjvw",
        "outputId": "60f2a49b-ad10-40e5-da12-9ae348472fb2"
      },
      "execution_count": 44,
      "outputs": [
        {
          "output_type": "stream",
          "name": "stdout",
          "text": [
            "Archive:  train.csv.zip\n",
            "replace train.csv? [y]es, [n]o, [A]ll, [N]one, [r]ename: y\n",
            "  inflating: train.csv               \n",
            "/bin/bash: upzip: command not found\n"
          ]
        }
      ]
    },
    {
      "cell_type": "code",
      "source": [
        "\n",
        "import pandas as pd\n",
        "import numpy as np\n",
        "import os\n",
        "import matplotlib.pyplot as plt\n",
        "import seaborn as sns\n",
        "from pathlib import Path\n",
        "%matplotlib inline\n"
      ],
      "metadata": {
        "id": "jRj-aqCNCFUg"
      },
      "execution_count": 46,
      "outputs": []
    },
    {
      "cell_type": "code",
      "source": [
        "DATA_IN_PATH = '/content/'\n",
        "\n",
        "train_data = pd.read_csv(DATA_IN_PATH + 'train.csv')\n",
        "train_data.head()"
      ],
      "metadata": {
        "colab": {
          "base_uri": "https://localhost:8080/",
          "height": 206
        },
        "id": "iFkaD5LiCVk-",
        "outputId": "a1c36447-eb59-4919-9d28-e3a24cf0dde7"
      },
      "execution_count": 47,
      "outputs": [
        {
          "output_type": "execute_result",
          "data": {
            "text/html": [
              "\n",
              "  <div id=\"df-7c4db321-43a7-46a0-965f-37f23ba4d124\">\n",
              "    <div class=\"colab-df-container\">\n",
              "      <div>\n",
              "<style scoped>\n",
              "    .dataframe tbody tr th:only-of-type {\n",
              "        vertical-align: middle;\n",
              "    }\n",
              "\n",
              "    .dataframe tbody tr th {\n",
              "        vertical-align: top;\n",
              "    }\n",
              "\n",
              "    .dataframe thead th {\n",
              "        text-align: right;\n",
              "    }\n",
              "</style>\n",
              "<table border=\"1\" class=\"dataframe\">\n",
              "  <thead>\n",
              "    <tr style=\"text-align: right;\">\n",
              "      <th></th>\n",
              "      <th>id</th>\n",
              "      <th>qid1</th>\n",
              "      <th>qid2</th>\n",
              "      <th>question1</th>\n",
              "      <th>question2</th>\n",
              "      <th>is_duplicate</th>\n",
              "    </tr>\n",
              "  </thead>\n",
              "  <tbody>\n",
              "    <tr>\n",
              "      <th>0</th>\n",
              "      <td>0</td>\n",
              "      <td>1</td>\n",
              "      <td>2</td>\n",
              "      <td>What is the step by step guide to invest in sh...</td>\n",
              "      <td>What is the step by step guide to invest in sh...</td>\n",
              "      <td>0</td>\n",
              "    </tr>\n",
              "    <tr>\n",
              "      <th>1</th>\n",
              "      <td>1</td>\n",
              "      <td>3</td>\n",
              "      <td>4</td>\n",
              "      <td>What is the story of Kohinoor (Koh-i-Noor) Dia...</td>\n",
              "      <td>What would happen if the Indian government sto...</td>\n",
              "      <td>0</td>\n",
              "    </tr>\n",
              "    <tr>\n",
              "      <th>2</th>\n",
              "      <td>2</td>\n",
              "      <td>5</td>\n",
              "      <td>6</td>\n",
              "      <td>How can I increase the speed of my internet co...</td>\n",
              "      <td>How can Internet speed be increased by hacking...</td>\n",
              "      <td>0</td>\n",
              "    </tr>\n",
              "    <tr>\n",
              "      <th>3</th>\n",
              "      <td>3</td>\n",
              "      <td>7</td>\n",
              "      <td>8</td>\n",
              "      <td>Why am I mentally very lonely? How can I solve...</td>\n",
              "      <td>Find the remainder when [math]23^{24}[/math] i...</td>\n",
              "      <td>0</td>\n",
              "    </tr>\n",
              "    <tr>\n",
              "      <th>4</th>\n",
              "      <td>4</td>\n",
              "      <td>9</td>\n",
              "      <td>10</td>\n",
              "      <td>Which one dissolve in water quikly sugar, salt...</td>\n",
              "      <td>Which fish would survive in salt water?</td>\n",
              "      <td>0</td>\n",
              "    </tr>\n",
              "  </tbody>\n",
              "</table>\n",
              "</div>\n",
              "      <button class=\"colab-df-convert\" onclick=\"convertToInteractive('df-7c4db321-43a7-46a0-965f-37f23ba4d124')\"\n",
              "              title=\"Convert this dataframe to an interactive table.\"\n",
              "              style=\"display:none;\">\n",
              "        \n",
              "  <svg xmlns=\"http://www.w3.org/2000/svg\" height=\"24px\"viewBox=\"0 0 24 24\"\n",
              "       width=\"24px\">\n",
              "    <path d=\"M0 0h24v24H0V0z\" fill=\"none\"/>\n",
              "    <path d=\"M18.56 5.44l.94 2.06.94-2.06 2.06-.94-2.06-.94-.94-2.06-.94 2.06-2.06.94zm-11 1L8.5 8.5l.94-2.06 2.06-.94-2.06-.94L8.5 2.5l-.94 2.06-2.06.94zm10 10l.94 2.06.94-2.06 2.06-.94-2.06-.94-.94-2.06-.94 2.06-2.06.94z\"/><path d=\"M17.41 7.96l-1.37-1.37c-.4-.4-.92-.59-1.43-.59-.52 0-1.04.2-1.43.59L10.3 9.45l-7.72 7.72c-.78.78-.78 2.05 0 2.83L4 21.41c.39.39.9.59 1.41.59.51 0 1.02-.2 1.41-.59l7.78-7.78 2.81-2.81c.8-.78.8-2.07 0-2.86zM5.41 20L4 18.59l7.72-7.72 1.47 1.35L5.41 20z\"/>\n",
              "  </svg>\n",
              "      </button>\n",
              "      \n",
              "  <style>\n",
              "    .colab-df-container {\n",
              "      display:flex;\n",
              "      flex-wrap:wrap;\n",
              "      gap: 12px;\n",
              "    }\n",
              "\n",
              "    .colab-df-convert {\n",
              "      background-color: #E8F0FE;\n",
              "      border: none;\n",
              "      border-radius: 50%;\n",
              "      cursor: pointer;\n",
              "      display: none;\n",
              "      fill: #1967D2;\n",
              "      height: 32px;\n",
              "      padding: 0 0 0 0;\n",
              "      width: 32px;\n",
              "    }\n",
              "\n",
              "    .colab-df-convert:hover {\n",
              "      background-color: #E2EBFA;\n",
              "      box-shadow: 0px 1px 2px rgba(60, 64, 67, 0.3), 0px 1px 3px 1px rgba(60, 64, 67, 0.15);\n",
              "      fill: #174EA6;\n",
              "    }\n",
              "\n",
              "    [theme=dark] .colab-df-convert {\n",
              "      background-color: #3B4455;\n",
              "      fill: #D2E3FC;\n",
              "    }\n",
              "\n",
              "    [theme=dark] .colab-df-convert:hover {\n",
              "      background-color: #434B5C;\n",
              "      box-shadow: 0px 1px 3px 1px rgba(0, 0, 0, 0.15);\n",
              "      filter: drop-shadow(0px 1px 2px rgba(0, 0, 0, 0.3));\n",
              "      fill: #FFFFFF;\n",
              "    }\n",
              "  </style>\n",
              "\n",
              "      <script>\n",
              "        const buttonEl =\n",
              "          document.querySelector('#df-7c4db321-43a7-46a0-965f-37f23ba4d124 button.colab-df-convert');\n",
              "        buttonEl.style.display =\n",
              "          google.colab.kernel.accessAllowed ? 'block' : 'none';\n",
              "\n",
              "        async function convertToInteractive(key) {\n",
              "          const element = document.querySelector('#df-7c4db321-43a7-46a0-965f-37f23ba4d124');\n",
              "          const dataTable =\n",
              "            await google.colab.kernel.invokeFunction('convertToInteractive',\n",
              "                                                     [key], {});\n",
              "          if (!dataTable) return;\n",
              "\n",
              "          const docLinkHtml = 'Like what you see? Visit the ' +\n",
              "            '<a target=\"_blank\" href=https://colab.research.google.com/notebooks/data_table.ipynb>data table notebook</a>'\n",
              "            + ' to learn more about interactive tables.';\n",
              "          element.innerHTML = '';\n",
              "          dataTable['output_type'] = 'display_data';\n",
              "          await google.colab.output.renderOutput(dataTable, element);\n",
              "          const docLink = document.createElement('div');\n",
              "          docLink.innerHTML = docLinkHtml;\n",
              "          element.appendChild(docLink);\n",
              "        }\n",
              "      </script>\n",
              "    </div>\n",
              "  </div>\n",
              "  "
            ],
            "text/plain": [
              "   id  qid1  ...                                          question2 is_duplicate\n",
              "0   0     1  ...  What is the step by step guide to invest in sh...            0\n",
              "1   1     3  ...  What would happen if the Indian government sto...            0\n",
              "2   2     5  ...  How can Internet speed be increased by hacking...            0\n",
              "3   3     7  ...  Find the remainder when [math]23^{24}[/math] i...            0\n",
              "4   4     9  ...            Which fish would survive in salt water?            0\n",
              "\n",
              "[5 rows x 6 columns]"
            ]
          },
          "metadata": {},
          "execution_count": 47
        }
      ]
    },
    {
      "cell_type": "code",
      "source": [
        "print(\"파일크기\")\n",
        "for file in os.listdir(DATA_IN_PATH):\n",
        "  if 'csv' in file and 'zip' not in file:\n",
        "    print(file.ljust(30) + str(round(os.path.getsize(DATA_IN_PATH + file) / 1000000, 2)) + 'MB')"
      ],
      "metadata": {
        "colab": {
          "base_uri": "https://localhost:8080/"
        },
        "id": "BS2SDpPECald",
        "outputId": "1dc9a986-ff50-4afd-85e1-b721053d9bdf"
      },
      "execution_count": 49,
      "outputs": [
        {
          "output_type": "stream",
          "name": "stdout",
          "text": [
            "파일크기\n",
            "train.csv                     63.4MB\n",
            "test.csv                      314.02MB\n"
          ]
        }
      ]
    },
    {
      "cell_type": "code",
      "source": [
        "print(\"전체 학습 데이터의 개수 : {}\".format(len(train_data)))\n"
      ],
      "metadata": {
        "colab": {
          "base_uri": "https://localhost:8080/"
        },
        "id": "x9-nNl-pDL33",
        "outputId": "9b28ddb5-76c1-40d2-dddc-a973c1d91442"
      },
      "execution_count": 50,
      "outputs": [
        {
          "output_type": "stream",
          "name": "stdout",
          "text": [
            "전체 학습 데이터의 개수 : 404290\n"
          ]
        }
      ]
    },
    {
      "cell_type": "code",
      "source": [
        "train_set = pd.Series(train_data['question1'].tolist()+ train_data['question2'].tolist()).astype(str)"
      ],
      "metadata": {
        "id": "cbFAznfTDaMi"
      },
      "execution_count": 51,
      "outputs": []
    },
    {
      "cell_type": "code",
      "source": [
        "train_set.head()  # q1과 q2 를 연결함 # 각각 40만개 씩이었으니 총 80만개의 질문이 잇엇던 셈"
      ],
      "metadata": {
        "colab": {
          "base_uri": "https://localhost:8080/"
        },
        "id": "rbdA6s8aDpZS",
        "outputId": "54f0d8cc-f141-4600-89eb-4a74530abe96"
      },
      "execution_count": 60,
      "outputs": [
        {
          "output_type": "execute_result",
          "data": {
            "text/plain": [
              "0    What is the step by step guide to invest in sh...\n",
              "1    What is the story of Kohinoor (Koh-i-Noor) Dia...\n",
              "2    How can I increase the speed of my internet co...\n",
              "3    Why am I mentally very lonely? How can I solve...\n",
              "4    Which one dissolve in water quikly sugar, salt...\n",
              "dtype: object"
            ]
          },
          "metadata": {},
          "execution_count": 60
        }
      ]
    },
    {
      "cell_type": "code",
      "source": [
        "train_set.value_counts()"
      ],
      "metadata": {
        "colab": {
          "base_uri": "https://localhost:8080/"
        },
        "id": "HFcM04AGGzFX",
        "outputId": "70afb536-3ba1-49e2-fbc5-18cfae0003f8"
      },
      "execution_count": 61,
      "outputs": [
        {
          "output_type": "execute_result",
          "data": {
            "text/plain": [
              "What are the best ways to lose weight?                                                              161\n",
              "How can you look at someone's private Instagram account without following them?                     120\n",
              "How can I lose weight quickly?                                                                      111\n",
              "What's the easiest way to make money online?                                                         88\n",
              "Can you see who views your Instagram?                                                                79\n",
              "                                                                                                   ... \n",
              "What is initiation like for the Crips gang?                                                           1\n",
              "Why is Amway considered a cult?                                                                       1\n",
              "When is CodeIgniter 3 going to be released?                                                           1\n",
              "Which rifles will Indian army replace INSAS with? Will they still be upgraded version of INSAS?       1\n",
              "Why are Americans shocked that Trump won?                                                             1\n",
              "Length: 537361, dtype: int64"
            ]
          },
          "metadata": {},
          "execution_count": 61
        }
      ]
    },
    {
      "cell_type": "code",
      "source": [
        "print('교육데이터의 총 질문수: {}'.format(len(np.unique(train_set)))) # 53만개가 유니크 데이터이므로 80-53 = 27만개가 중복된것을 알 수 있음\n",
        "print('반복해서 나타나는 질문수 : {}'.format(np.sum(train_set.value_counts()>1))) # 27만개 데이터는 11만개의 고유한 질문으로 이루어짐"
      ],
      "metadata": {
        "colab": {
          "base_uri": "https://localhost:8080/"
        },
        "id": "So99vGOeDy1B",
        "outputId": "2de75095-6edd-4e29-cdb4-8868bf7a9f95"
      },
      "execution_count": 56,
      "outputs": [
        {
          "output_type": "stream",
          "name": "stdout",
          "text": [
            "교육데이터의 총 질문수: 537361\n",
            "반복해서 나타나는 질문수 : 111873\n"
          ]
        }
      ]
    },
    {
      "cell_type": "code",
      "source": [
        "plt.figure(figsize=(12,5))\n",
        "plt.hist(train_set.value_counts(), bins=50, alpha=0.5, color='r', label = 'word')\n",
        "plt.yscale('log', nonposy='clip')\n",
        "plt.title('log-histogram of question appearance counts')\n",
        "plt.ylabel('number of questions')\n",
        "plt.xlabel('number of occurrences of questions')"
      ],
      "metadata": {
        "colab": {
          "base_uri": "https://localhost:8080/",
          "height": 368
        },
        "id": "NPUMyFOXDqI2",
        "outputId": "b439612d-bf49-405b-f1ea-d2a9e2c836b3"
      },
      "execution_count": 59,
      "outputs": [
        {
          "output_type": "execute_result",
          "data": {
            "text/plain": [
              "Text(0.5, 0, 'number of occurrences of questions')"
            ]
          },
          "metadata": {},
          "execution_count": 59
        },
        {
          "output_type": "display_data",
          "data": {
            "image/png": "[encoded data removed]",
            "text/plain": [
              "<Figure size 864x360 with 1 Axes>"
            ]
          },
          "metadata": {
            "needs_background": "light"
          }
        }
      ]
    },
    {
      "cell_type": "code",
      "source": [
        "print(\"중복 최대 개수: {}\".format(np.max(train_set.value_counts())))\n",
        "print(\"중복 최소 개수: {}\".format(np.min(train_set.value_counts())))\n",
        "print(\"중복 평균 개수: {}\".format(np.mean(train_set.value_counts())))\n",
        "print(\"중복 중간 개수: {}\".format(np.median(train_set.value_counts())))\n"
      ],
      "metadata": {
        "colab": {
          "base_uri": "https://localhost:8080/"
        },
        "id": "ef5zx82KErAi",
        "outputId": "e8a11217-4e54-4627-c19a-07c5de285d73"
      },
      "execution_count": 64,
      "outputs": [
        {
          "output_type": "stream",
          "name": "stdout",
          "text": [
            "중복 최대 개수: 161\n",
            "중복 최소 개수: 1\n",
            "중복 평균 개수: 1.50472401234924\n",
            "중복 중간 개수: 1.0\n"
          ]
        }
      ]
    },
    {
      "cell_type": "code",
      "source": [
        "plt.figure(figsize=(12,5))\n",
        "plt.boxplot([train_set.value_counts()], labels=['counts'], showmeans =True)"
      ],
      "metadata": {
        "colab": {
          "base_uri": "https://localhost:8080/",
          "height": 466
        },
        "id": "d6hFTvY7HLyV",
        "outputId": "972180dc-8ce2-40f4-f57c-cf8305c8b484"
      },
      "execution_count": 66,
      "outputs": [
        {
          "output_type": "execute_result",
          "data": {
            "text/plain": [
              "{'boxes': [<matplotlib.lines.Line2D at 0x7f4da2e77c10>],\n",
              " 'caps': [<matplotlib.lines.Line2D at 0x7f4da2e7a3d0>,\n",
              "  <matplotlib.lines.Line2D at 0x7f4da2e7a0d0>],\n",
              " 'fliers': [<matplotlib.lines.Line2D at 0x7f4da2e787d0>],\n",
              " 'means': [<matplotlib.lines.Line2D at 0x7f4da2e78cd0>],\n",
              " 'medians': [<matplotlib.lines.Line2D at 0x7f4da3a95a90>],\n",
              " 'whiskers': [<matplotlib.lines.Line2D at 0x7f4da2e772d0>,\n",
              "  <matplotlib.lines.Line2D at 0x7f4da2e774d0>]}"
            ]
          },
          "metadata": {},
          "execution_count": 66
        },
        {
          "output_type": "display_data",
          "data": {
            "image/png": "[encoded data removed]",
            "text/plain": [
              "<Figure size 864x360 with 1 Axes>"
            ]
          },
          "metadata": {
            "needs_background": "light"
          }
        }
      ]
    },
    {
      "cell_type": "code",
      "source": [
        "from wordcloud import WordCloud \n",
        "cloud = WordCloud(width = 800, height=600).generate(\" \".join(train_set.astype(str)))\n",
        "plt.figure(figsize = (15,10))\n",
        "plt.imshow(cloud)\n",
        "plt.axis('off')"
      ],
      "metadata": {
        "colab": {
          "base_uri": "https://localhost:8080/",
          "height": 594
        },
        "id": "-oWlIAqSHZ--",
        "outputId": "c9814fa0-b364-4f5e-c4c6-fc6aadc10fd5"
      },
      "execution_count": 67,
      "outputs": [
        {
          "output_type": "execute_result",
          "data": {
            "text/plain": [
              "(-0.5, 799.5, 599.5, -0.5)"
            ]
          },
          "metadata": {},
          "execution_count": 67
        },
        {
          "output_type": "display_data",
          "data": {
            "image/png": "[encoded data removed]",
            "text/plain": [
              "<Figure size 1080x720 with 1 Axes>"
            ]
          },
          "metadata": {
            "needs_background": "light"
          }
        }
      ]
    },
    {
      "cell_type": "code",
      "source": [
        "fig , axe = plt.subplots(ncols=1)\n",
        "fig.set_size_inches(6,3)\n",
        "sns.countplot(train_data['is_duplicate'])\n"
      ],
      "metadata": {
        "colab": {
          "base_uri": "https://localhost:8080/",
          "height": 301
        },
        "id": "hVvNe8TlHz-y",
        "outputId": "bc3b1bfe-78c4-4e5f-9cf9-d2a8e03360b7"
      },
      "execution_count": 68,
      "outputs": [
        {
          "output_type": "stream",
          "name": "stderr",
          "text": [
            "/usr/local/lib/python3.7/dist-packages/seaborn/_decorators.py:43: FutureWarning: Pass the following variable as a keyword arg: x. From version 0.12, the only valid positional argument will be `data`, and passing other arguments without an explicit keyword will result in an error or misinterpretation.\n",
            "  FutureWarning\n"
          ]
        },
        {
          "output_type": "execute_result",
          "data": {
            "text/plain": [
              "<matplotlib.axes._subplots.AxesSubplot at 0x7f4da465b710>"
            ]
          },
          "metadata": {},
          "execution_count": 68
        },
        {
          "output_type": "display_data",
          "data": {
            "image/png": "[encoded data removed]",
            "text/plain": [
              "<Figure size 432x216 with 1 Axes>"
            ]
          },
          "metadata": {
            "needs_background": "light"
          }
        }
      ]
    },
    {
      "cell_type": "code",
      "source": [
        "train_length = train_set.apply(len);train_length # 각각의 문장길이를 나타냄"
      ],
      "metadata": {
        "colab": {
          "base_uri": "https://localhost:8080/"
        },
        "id": "-7pDv99VJOI4",
        "outputId": "4118ddd3-b2c0-4f61-a03d-2e5168dc459a"
      },
      "execution_count": 71,
      "outputs": [
        {
          "output_type": "execute_result",
          "data": {
            "text/plain": [
              "0          66\n",
              "1          51\n",
              "2          73\n",
              "3          50\n",
              "4          76\n",
              "         ... \n",
              "808575     79\n",
              "808576     42\n",
              "808577     17\n",
              "808578    127\n",
              "808579     45\n",
              "Length: 808580, dtype: int64"
            ]
          },
          "metadata": {},
          "execution_count": 71
        }
      ]
    },
    {
      "cell_type": "code",
      "source": [
        "plt.figure(figsize=(15,10))\n",
        "plt.hist(train_length, bins =200, range = [0,200], facecolor='r',density=True, label='train') # normed 대신 density사용\n",
        "plt.title('normalised histogram of character count in questions', fontsize= 10)\n",
        "plt.legend()\n",
        "plt.xlabel('number of characters')\n",
        "plt.ylabel('probability')"
      ],
      "metadata": {
        "colab": {
          "base_uri": "https://localhost:8080/",
          "height": 637
        },
        "id": "tiVJ2w18JXtk",
        "outputId": "e6136149-d28d-4462-839f-3d7ab2b279c6"
      },
      "execution_count": 76,
      "outputs": [
        {
          "output_type": "execute_result",
          "data": {
            "text/plain": [
              "Text(0, 0.5, 'probability')"
            ]
          },
          "metadata": {},
          "execution_count": 76
        },
        {
          "output_type": "display_data",
          "data": {
            "image/png": "[encoded data removed]",
            "text/plain": [
              "<Figure size 1080x720 with 1 Axes>"
            ]
          },
          "metadata": {
            "needs_background": "light"
          }
        }
      ]
    },
    {
      "cell_type": "code",
      "source": [
        "print('질문 최대길이 :{}'.format(np.max(train_length)))\n",
        "print('질문 최소길이 :{}'.format(np.min(train_length)))\n",
        "print('질문 평균길이 :{}'.format(np.mean(train_length)))\n",
        "print('질문 중간길이 :{}'.format(np.median(train_length)))"
      ],
      "metadata": {
        "colab": {
          "base_uri": "https://localhost:8080/"
        },
        "id": "DthKkTB3JQkX",
        "outputId": "e8d6a8b8-aed6-4e4a-c6e1-0120f242624c"
      },
      "execution_count": 77,
      "outputs": [
        {
          "output_type": "stream",
          "name": "stdout",
          "text": [
            "질문 최대길이 :1169\n",
            "질문 최소길이 :1\n",
            "질문 평균길이 :59.82254817086745\n",
            "질문 중간길이 :51.0\n"
          ]
        }
      ]
    },
    {
      "cell_type": "code",
      "source": [
        "plt.figure(figsize= (12,5))\n",
        "plt.boxplot(train_length, labels =['character counts'])"
      ],
      "metadata": {
        "colab": {
          "base_uri": "https://localhost:8080/",
          "height": 466
        },
        "id": "yFyi-tYYLefr",
        "outputId": "2700f3bf-8180-4b5b-b67a-05aa8b8c6911"
      },
      "execution_count": 78,
      "outputs": [
        {
          "output_type": "execute_result",
          "data": {
            "text/plain": [
              "{'boxes': [<matplotlib.lines.Line2D at 0x7f4da121f890>],\n",
              " 'caps': [<matplotlib.lines.Line2D at 0x7f4da2ea1ed0>,\n",
              "  <matplotlib.lines.Line2D at 0x7f4da3aac850>],\n",
              " 'fliers': [<matplotlib.lines.Line2D at 0x7f4da1203210>],\n",
              " 'means': [],\n",
              " 'medians': [<matplotlib.lines.Line2D at 0x7f4da12034d0>],\n",
              " 'whiskers': [<matplotlib.lines.Line2D at 0x7f4da121fc50>,\n",
              "  <matplotlib.lines.Line2D at 0x7f4da121f850>]}"
            ]
          },
          "metadata": {},
          "execution_count": 78
        },
        {
          "output_type": "display_data",
          "data": {
            "image/png": "[encoded data removed]",
            "text/plain": [
              "<Figure size 864x360 with 1 Axes>"
            ]
          },
          "metadata": {
            "needs_background": "light"
          }
        }
      ]
    },
    {
      "cell_type": "code",
      "source": [
        "# 단어개수를 기준으로 개수 파악하기, 이전에는 문자한글자한글자를 단위로 판단함\n",
        "train_word_counts= train_set.apply(lambda x :len(x.split(' ')))"
      ],
      "metadata": {
        "id": "WsavwsbiLoHq"
      },
      "execution_count": 79,
      "outputs": []
    },
    {
      "cell_type": "code",
      "source": [
        "train_word_counts"
      ],
      "metadata": {
        "colab": {
          "base_uri": "https://localhost:8080/"
        },
        "id": "tH1f4W5xL5WU",
        "outputId": "5bc00443-8969-4813-c3cf-cad2fd193424"
      },
      "execution_count": 80,
      "outputs": [
        {
          "output_type": "execute_result",
          "data": {
            "text/plain": [
              "0         14\n",
              "1          8\n",
              "2         14\n",
              "3         11\n",
              "4         13\n",
              "          ..\n",
              "808575    13\n",
              "808576     9\n",
              "808577     3\n",
              "808578    25\n",
              "808579    10\n",
              "Length: 808580, dtype: int64"
            ]
          },
          "metadata": {},
          "execution_count": 80
        }
      ]
    },
    {
      "cell_type": "code",
      "source": [
        "plt.figure(figsize = (15,10))\n",
        "plt.hist(train_word_counts, bins =50, range =[0,50], facecolor='r', density= True, label = 'train')\n",
        "plt.title('normalised histogram of word count in question')\n",
        "plt.legend()\n",
        "plt.xlabel('number of word')\n",
        "plt.ylabel('prob')"
      ],
      "metadata": {
        "colab": {
          "base_uri": "https://localhost:8080/",
          "height": 639
        },
        "id": "9UR9rz5wMomZ",
        "outputId": "9ac08746-1df0-49d8-f1c1-7eaa8189aa44"
      },
      "execution_count": 81,
      "outputs": [
        {
          "output_type": "execute_result",
          "data": {
            "text/plain": [
              "Text(0, 0.5, 'prob')"
            ]
          },
          "metadata": {},
          "execution_count": 81
        },
        {
          "output_type": "display_data",
          "data": {
            "image/png": "[encoded data removed]",
            "text/plain": [
              "<Figure size 1080x720 with 1 Axes>"
            ]
          },
          "metadata": {
            "needs_background": "light"
          }
        }
      ]
    },
    {
      "cell_type": "code",
      "source": [
        "qmarks = np.mean(train_set.apply(lambda x : \"?\" in x)) # 물음표가 구두점으로사용됨\n",
        "math =np.mean(train_set.apply( lambda x : \"[math]\" in x ))\n",
        "fullstop = np.mean(train_set.apply( lambda x  : '.' in x))\n",
        "capital_first = np.mean(train_set.apply( lambda x : x[0].isupper()))\n",
        "capitals = np.mean(train_set.apply(lambda x : max([y.isupper() for y in x])))\n",
        "numbers = np.mean(train_set.apply(lambda x : max([y.isdigit() for y in x])))\n",
        "print(qmarks) # 물음표가 있는 질문\n",
        "print(math) # 수학 태그가 있는 질문\n",
        "print(fullstop)  # 구두점. \n",
        "print(capital_first) # 첫번째 대문자\n",
        "print(capitals)  # 대문자 포함\n",
        "print(numbers) # 숫자가 있는 질문"
      ],
      "metadata": {
        "colab": {
          "base_uri": "https://localhost:8080/"
        },
        "id": "3D1OiJh7M9x9",
        "outputId": "7392fe82-c890-4443-ab3c-bd935f2af0ca"
      },
      "execution_count": 90,
      "outputs": [
        {
          "output_type": "stream",
          "name": "stdout",
          "text": [
            "0.9987385292735412\n",
            "0.0011736624700091518\n",
            "0.06308219347498083\n",
            "0.9981325286304386\n",
            "0.9995053055974672\n",
            "0.11827153775755027\n"
          ]
        }
      ]
    },
    {
      "cell_type": "code",
      "source": [
        "# 데이터 전처리\n",
        "import pandas as pd\n",
        "import numpy as np\n",
        "import re\n",
        "import json\n",
        "from tensorflow.python.keras.preprocessing.text import Tokenizer\n",
        "from tensorflow.python.keras.preprocessing.sequence import pad_sequences"
      ],
      "metadata": {
        "id": "IRTCVqLxO0i4"
      },
      "execution_count": 94,
      "outputs": []
    },
    {
      "cell_type": "code",
      "source": [
        "DATA_IN_PATH = '/content/'\n",
        "train_data = pd.read_csv(DATA_IN_PATH + 'train.csv', encoding= 'utf-8')\n",
        "train_pos_data = train_data.loc[train_data['is_duplicate'] ==1]\n",
        "train_neg_data = train_data.loc[train_data['is_duplicate'] ==0]\n",
        "\n",
        "class_difference = len(train_neg_data) - len(train_pos_data);  class_difference"
      ],
      "metadata": {
        "colab": {
          "base_uri": "https://localhost:8080/"
        },
        "id": "vgWubwm3RZ3-",
        "outputId": "9b1441e9-6984-4961-ab2c-83e1b917592b"
      },
      "execution_count": 96,
      "outputs": [
        {
          "output_type": "execute_result",
          "data": {
            "text/plain": [
              "105764"
            ]
          },
          "metadata": {},
          "execution_count": 96
        }
      ]
    },
    {
      "cell_type": "code",
      "source": [
        "sample_frac = 1- (class_difference) / len(train_neg_data)  ;sample_frac  # 58% "
      ],
      "metadata": {
        "colab": {
          "base_uri": "https://localhost:8080/"
        },
        "id": "0sBDjZAmR-rQ",
        "outputId": "8dc4926f-2579-4738-ffc2-f52a1106724d"
      },
      "execution_count": 98,
      "outputs": [
        {
          "output_type": "execute_result",
          "data": {
            "text/plain": [
              "0.5852831268846044"
            ]
          },
          "metadata": {},
          "execution_count": 98
        }
      ]
    },
    {
      "cell_type": "code",
      "source": [
        "train_neg_data = train_neg_data.sample(frac =sample_frac) "
      ],
      "metadata": {
        "id": "3GGM5jgMSGVH"
      },
      "execution_count": 100,
      "outputs": []
    },
    {
      "cell_type": "code",
      "source": [
        "# neg와 pos의 비율을 얼추 맞춤\n",
        "print(\"중복질문개수 :{}\".format(len(train_pos_data)))\n",
        "print(\"중복 아닌 질문개수 :{}\".format(len(train_neg_data)))"
      ],
      "metadata": {
        "colab": {
          "base_uri": "https://localhost:8080/"
        },
        "id": "fr1q2mlTSTgR",
        "outputId": "0817d30b-2318-4718-c2ac-b9388cff4815"
      },
      "execution_count": 102,
      "outputs": [
        {
          "output_type": "stream",
          "name": "stdout",
          "text": [
            "중복질문개수 :149263\n",
            "중복 아닌 질문개수 :149263\n"
          ]
        }
      ]
    },
    {
      "cell_type": "code",
      "source": [
        "train_data = pd.concat([train_neg_data, train_pos_data]) ; len(train_data)"
      ],
      "metadata": {
        "colab": {
          "base_uri": "https://localhost:8080/"
        },
        "id": "hxDseuNaSRoB",
        "outputId": "7cd2a110-ee3a-41dd-b4be-5f004afb51c7"
      },
      "execution_count": 103,
      "outputs": [
        {
          "output_type": "execute_result",
          "data": {
            "text/plain": [
              "298526"
            ]
          },
          "metadata": {},
          "execution_count": 103
        }
      ]
    },
    {
      "cell_type": "code",
      "source": [
        "# 이렇게 비율을 맞춘 데이터를 가지고 전처리 진행하기\n",
        "\n",
        "\n",
        "questions1 = [str(s) for s  in train_data['question1']]\n",
        "questions2 = [str(s) for s  in train_data['question2']]\n",
        "print(questions1)\n",
        "print(questions1[1])"
      ],
      "metadata": {
        "colab": {
          "base_uri": "https://localhost:8080/"
        },
        "id": "9eeIDjvsSo9o",
        "outputId": "5280ff46-7661-4b2b-8421-8e838000a18a"
      },
      "execution_count": 113,
      "outputs": [
        {
          "output_type": "stream",
          "name": "stderr",
          "text": [
            "IOPub data rate exceeded.\n",
            "The notebook server will temporarily stop sending output\n",
            "to the client in order to avoid crashing it.\n",
            "To change this limit, set the config variable\n",
            "`--NotebookApp.iopub_data_rate_limit`.\n",
            "\n",
            "Current values:\n",
            "NotebookApp.iopub_data_rate_limit=1000000.0 (bytes/sec)\n",
            "NotebookApp.rate_limit_window=3.0 (secs)\n",
            "\n"
          ]
        }
      ]
    },
    {
      "cell_type": "code",
      "source": [
        "filtered_questions1 = list()\n",
        "filtered_questions2 = list()\n",
        "FILTERS = \"([~.,!?\\\"':;)(])\"\n",
        "change_filter = re.compile(FILTERS) # 패턴 객체 생성. 정규식 표현으로 전처리 하기 위해 설정\n",
        "\n",
        "for q in questions1:\n",
        "  filtered_questions1.append(re.sub(change_filter, \"\",q).lower())\n",
        "\n",
        "for q in questions2:\n",
        "  filtered_questions2.append(re.sub(change_filter, \"\",q).lower())"
      ],
      "metadata": {
        "id": "AkLejE3yTdDH"
      },
      "execution_count": 114,
      "outputs": []
    },
    {
      "cell_type": "code",
      "source": [
        "filtered_questions1"
      ],
      "metadata": {
        "colab": {
          "base_uri": "https://localhost:8080/"
        },
        "id": "L1qBPyyYVlXm",
        "outputId": "ac6691ae-6e71-43ed-f653-34163d7e2910"
      },
      "execution_count": 115,
      "outputs": [
        {
          "output_type": "execute_result",
          "data": {
            "text/plain": [
              "['what do i do if im so nervous and scared of getting my first job because of my social anxiety',\n",
              " 'an adult who doesnt age gets stuck 2000 years in the past how could he/she survive throughout history to reach today',\n",
              " 'how do i know the name of the owner of the vehicle by vehicle number',\n",
              " 'i have an account in the sbi bank can i withdraw the money from different branches across india',\n",
              " 'i want to buy a sony alpha a7ii camera but the price so much high so its good to purchase the camera from another country like dubai',\n",
              " 'how can i become a happier person',\n",
              " 'what are some negative personality traits that could actually help one be a mathematician or theoretical physicist',\n",
              " 'can i mix water with milk',\n",
              " 'why doesnt snapchat allow you to play music from ios via bluetooth while recording a video in the app',\n",
              " 'what universities does century bank recruit new grads from what majors are they looking for',\n",
              " 'who is ratan tata',\n",
              " 'why do people think that girls cant be as good in mathematics',\n",
              " 'what universities does consol energy recruit new grads from what majors are they looking for',\n",
              " 'will it be easy for a 12th pass student to pursue actuarial science how long does it take to become an actuary',\n",
              " 'what are some visually appealing websites',\n",
              " 'why do certain people stay at the top in likes in instagram',\n",
              " 'what does see to it that mean',\n",
              " 'reddit website what does it mean when [deleted] appears where a commenters name should go',\n",
              " 'why does peeing feel so good when you need to go',\n",
              " 'how can i solve mathematics question under pressure',\n",
              " 'what is a good strategy to help you win the game risk',\n",
              " 'how do i start for braking system of a tadpole designed solar vehicle',\n",
              " 'how many newborns will be there at a single hamster birth',\n",
              " 'is it strange if i identify with my moon sign more than my sun sign',\n",
              " 'which is the college accepting cat scores in lucknow ',\n",
              " 'is there a good free software to convert epub files to pdf',\n",
              " 'how do you determine the lewis dot structure for sulfate',\n",
              " 'what happens in coruscants underworld',\n",
              " 'how can you determine the formula for ferrous carbonate',\n",
              " 'what are some examples of sentences using the word hysteria',\n",
              " 'will donating blood temporarily lower blood pressure',\n",
              " 'from which episode is the one piece anime in 720p and 1080p',\n",
              " 'whats the difference between a post office and bank',\n",
              " 'is there a website that shows recent acquisitions on the internet/software industry',\n",
              " 'foreign investments are indirect way of a political party to control countries economy is this true',\n",
              " 'why is sulphuric acid a good drying agent',\n",
              " 'how easy is it to hook up with girls in new delhi india',\n",
              " 'what should i do after i confessed to my crush',\n",
              " 'is it possible to set up an aes-512 bit keys encryption on a server',\n",
              " 'how do i approve icloud keychain from another device',\n",
              " 'how do i get followers on twitter and instagram',\n",
              " 'where can i get weight loss surgery',\n",
              " 'what are the most inspiring/motivational books about life',\n",
              " 'what are some things to do while visiting azerbaijan that a tourist might not know about',\n",
              " 'can i submit my college application if my letter of recommendation hasnt been sent in yet will colleges get the letter after it is turned in to the common app',\n",
              " 'why do bot porn blogs follow me on tumblr',\n",
              " 'how can i get help to get back my money from an internet scammer',\n",
              " 'have psychotherapists ever applied themelves with what they have advised to patients and succeeded',\n",
              " 'why are conductors skewed in an induction motor',\n",
              " 'do you feel sad for voldemort',\n",
              " 'describe obama as human being',\n",
              " 'how do i recover a lost gmail password',\n",
              " 'are intelligent people intelligent because they are lazy or they are lazy because they are intelligent',\n",
              " 'what are the best ways to plant 5 acres or so of hops in e texas',\n",
              " 'what are the chances of admission in private mbbs college with a score of 492 in neet',\n",
              " 'what is the best diet for fat loss',\n",
              " 'what are the things you fear most',\n",
              " 'how do you troubleshoot a direct tv dvr that is having recording problems',\n",
              " 'what is the best medical university to study medicine in ukraine',\n",
              " 'why is it that women are so infatuated with people of fame i have yet to see any dude get even half as star struck as girls do',\n",
              " 'why does sheldon offer a hot beverage to someone in distress',\n",
              " 'is fms delhi a good option for a mba executive program',\n",
              " 'whats the weirdest place one has masturbated',\n",
              " 'the problems of good listening',\n",
              " 'what are the benefits of forward-swept wing design on fighter jets',\n",
              " 'what is an embedding problem',\n",
              " 'are standardized tests eliminators',\n",
              " 'has shopify created the technology for their community',\n",
              " 'is it safer for a plane to make an emergency touchdown on water or on land',\n",
              " 'how is the placement of unitedworld institute of design product design',\n",
              " 'what are the expectations of a police officer',\n",
              " 'what is your favorite avril lavigne song',\n",
              " 'what is your review of by the sea 2015 movie',\n",
              " 'what are some different exonyms your languages gives to places in other countries',\n",
              " 'is liberalsocietycom legit',\n",
              " 'what is the best vampire fiction with a female vampire',\n",
              " 'how do i hire a recruiter to help me find a job',\n",
              " 'how do i prepare for psychology subject in upsc mains',\n",
              " 'quincy larson what advice would you offer to a free code camper wishing to establish himself as a remote worker/freelancer by the end of the program',\n",
              " 'is iamtexancom reliable',\n",
              " 'if i deleted my whatsapp messages as soon as i sent them can they still read it',\n",
              " 'what difficulties may one have to overcome as a foreign student studying in germany',\n",
              " 'what were the major contributions of the political leaders during ww1 and how are the compared to the ones during the arab-israeli war',\n",
              " 'would a religious catholic or muslim face more discrimination in paris',\n",
              " 'why do people in india call strangers uncle or aunty instead of sir or maam',\n",
              " 'can you back register a company in india',\n",
              " 'how would planned parenthood change in a universal healthcare system',\n",
              " 'why do you like benjamin franklin',\n",
              " 'when puppies are separated from their litter-mates at a young age do the dog siblings recognize each other years later',\n",
              " 'is it healthy to eat an apple at night',\n",
              " 'how is it possible for you to get pregnant 8 days before ovulation',\n",
              " 'i am a pre-medical student and kind of homesick i want to go to another city far away from my home in order to study in the best academy but i have a very limited time also hostel problems scare me what should i do',\n",
              " 'is learning music hard',\n",
              " 'how can we improve mathematics for mca',\n",
              " 'how long does it take for trans women on hrt to lactate',\n",
              " 'what are the differences between a brahmin and a non-brahmin asides their food habits',\n",
              " 'if i get a job offer from a company in sweden but i dont have an academic degree will that be an issue when getting a work permit',\n",
              " 'how can a 13 year old make money',\n",
              " 'what is a good solar panel installation provider in roseville california ca',\n",
              " 'what is the meaning of urdu word khairiyat',\n",
              " 'how are wwi and wwii taught in italy',\n",
              " 'what ib subjects to take for engineering',\n",
              " 'does social confidence increase once one stops obsessing over individual people',\n",
              " 'who wants to be a billionaire',\n",
              " 'what is the difference between database and data science',\n",
              " 'what is plate tectonics',\n",
              " 'are there any legitimate pokemon go pokecoin hacks without surveys',\n",
              " 'what is the story of mahabharata',\n",
              " 'what are the best sources for learning about acceleration',\n",
              " 'on snapchat how can you upload a picture out of your gallery to your story',\n",
              " 'in the context of ai how can the following three terms be distinguished - state space - search space - search tree/graph',\n",
              " 'why a bjt is called current controlled device',\n",
              " 'what business can i start with $5000 capital in cash',\n",
              " 'are audi parts expensive',\n",
              " 'regarding the image quality which is better the 18-135mm lens or the 18-55+55-250mm lenses',\n",
              " 'which of the molecules can form hydrogen bonds with water',\n",
              " 'where can i get a copy of john ciancuttis coursera compensation spreadsheet',\n",
              " 'what is the average height of humans in the world',\n",
              " 'how do i recover deleted photos from an android internal memory',\n",
              " 'what is amidite method',\n",
              " 'i think ssn gives preference to tamilnadu and andhra students  they are not considering students from north despite high cut offs any comments',\n",
              " 'what is truth about area 51',\n",
              " 'i am working on a voice to text conversion system in matlab how do i proceed',\n",
              " 'is it true that the higher your iq is the more you dream',\n",
              " 'how milk reduce acidity',\n",
              " 'can we file a case against the british government for the jallianwala bagh massacre in punjab why or why not',\n",
              " 'what are the best sleeping ear muffs to block out sound',\n",
              " 'what is the most shocking thing you saw your sister do',\n",
              " 'why dont guys choose good girls as their girlfriends',\n",
              " 'how do you treat cavities on the side of your tooth',\n",
              " 'why do tiger muskie attack people',\n",
              " 'how do i get over suicidal tendencies',\n",
              " 'if you have been admitted to a top ms in computer science with a non-cs related degree what was your background',\n",
              " 'is gender segregation of toilets necessary',\n",
              " 'is there a word for an adult who never went to school',\n",
              " 'who is a gentleman',\n",
              " 'is it true that in order to present the writing in a more glorious way sometimes writers manipulate with the reality plz see comment below',\n",
              " 'why did god destroy tower of babel',\n",
              " 'i am in first year can ayone guide me with the route for ias',\n",
              " 'what is observed when ydse is performed with white light',\n",
              " 'what are the current directions in knowledge cartography',\n",
              " 'i feel trapped and heartbroken as a black female what should i search for',\n",
              " 'what do thai people think about china',\n",
              " 'what is chad kroeger home address',\n",
              " 'how would you structure an adwords account used in the travel/online booking market',\n",
              " 'how long will it be before flight crews on airliners are replaced by on board computers and remotely managed systems similar to modern drones',\n",
              " 'how do i deal with my abrasive co-worker',\n",
              " 'why dont you care about politics',\n",
              " 'what are fast free online ides for nodejs',\n",
              " 'everyone says that men cannot live without women but in reality can women live without men',\n",
              " 'how can i unlock iphone 5s',\n",
              " 'why do hard drives never need an oil change',\n",
              " 'where can i find free videos',\n",
              " 'what are the strongest majors in terms of job prospects and what are the weakest majors at lindenwood university',\n",
              " 'i had a hit of weed one time four weeks ago what should i do if i have a hair drug test on tuesday',\n",
              " 'do you think hillary clinton is corrupted',\n",
              " 'how do you build a pc for photography',\n",
              " 'is it still love if i forced myself to love',\n",
              " 'what is vocaroocom',\n",
              " 'what are some examples of psychological barriers to communication',\n",
              " 'what are the benefits of possessing/touching a nagamani cobra stone',\n",
              " 'i found these needle cases with arabic on them could someone translate them',\n",
              " 'what is the difference between progressive and carryover effects in research',\n",
              " 'what is the eligibility for snap 2016',\n",
              " 'what are some of the most amazing historical photos',\n",
              " 'why is rbi issuing new 500 1000 and 2000 rupee notes when the existing ones are banned to curb black money',\n",
              " 'does affiliate marketing work for saas',\n",
              " 'a married colleague and i have gone out for drinks/dinner 6 times we mostly talk about business is he being nice or is he interested in me',\n",
              " 'why is there bad smell in some of new jerseys cities',\n",
              " 'what are some things new employees should know going into their first day at algold resources',\n",
              " 'what questions shall i ask in an interventional neurology conference',\n",
              " 'is it ok to speak a foreign language with mistakes',\n",
              " 'why do singaporeans say lah at the end of every sentence',\n",
              " 'what is your review of the family stone 2005 movie',\n",
              " 'what are the differences between a kjv bible and the masonic edition',\n",
              " 'how do i market my restaurant in dubai',\n",
              " 'how do telecom companies earn money given that theyve to spend a lot on buying spectrum and setting up infrastructure pay salaries to employees etc',\n",
              " 'would a tourist driving in the us need an international drivers license',\n",
              " 'im making a playlist of depressing music and need a better name than suicide is plain bliss does anyone have a suggestion',\n",
              " 'if india participated in the european industrial revolution why then didnt india have an industrial revolution of its own',\n",
              " 'how do people get pregnant accidentally',\n",
              " 'what is the course duration for an me in civil engineering at the university of alberta',\n",
              " 'how many questions must be soved from irodov for jee',\n",
              " 'what are some important lesson you learn from your experiences',\n",
              " 'why should your girlfriend be your best friend',\n",
              " 'what percent of grants in earth science come from nsf what percent come from nasa what percent come from other governmental departments and what percent come from other sources',\n",
              " 'fast and slow moving averages stock market',\n",
              " 'how do i use baking soda to clean methamphetamine',\n",
              " 'how do we factor a fringing field into the calculation of capacitance of a parallel plate capacitor',\n",
              " 'what was it like working in the soviet union',\n",
              " 'why do philippine and vietnam divide asean aided by the us',\n",
              " 'what is the difference between centripetal acceleration and centrifugal force',\n",
              " 'how can i know everything about stock market',\n",
              " 'how many keywords are there in the ruby programming language in the latest version',\n",
              " 'what should i paint today',\n",
              " 'why is donald trump so incoherent in his speech',\n",
              " 'with 90 lakh in hand whats the best way to invest it in india in order to get a monthly return of around 80k',\n",
              " 'what skills should a mechanical engineer possess to get an it job',\n",
              " 'what do you think of reliancetreecom',\n",
              " 'what do you have to look forward to',\n",
              " 'why is prostitution legal in india',\n",
              " 'how did you started learning hacking',\n",
              " 'what are the best ps3 snowboarding games',\n",
              " 'which is the best book to clear basic concepts of maths for jee',\n",
              " 'why do some girls wear short or revealing clothes',\n",
              " 'what is the most romantic animal',\n",
              " 'can a dead car battery be completely recharged by just jump starting the car and driving around',\n",
              " 'what creatine monohydrate do',\n",
              " 'why is hong kong dying',\n",
              " 'is there a codecademy for c',\n",
              " 'to what extent does java open single sign-on josso support multidomain partner applications',\n",
              " 'what r packages are you aching to see',\n",
              " 'what is the best programming platform',\n",
              " 'why are people who are not vegan so vehement in criticizing vegans who live with vegan dogs',\n",
              " 'what hotel in shimla hill-station would be safe for unmarried couples without the harassment of police hotel staff and moral police',\n",
              " 'what is the best answer you have ever given to any question',\n",
              " 'whats best way to reply when someone wishes you happy birthday',\n",
              " 'i have to take coaching to crack ntse',\n",
              " 'what are some great wordpress themes for a school',\n",
              " 'how do you cook pork chops on a griddle and for how long should i cook them',\n",
              " 'how can we find the best one videocon service center in hyderabad',\n",
              " 'how does drowning to death feel',\n",
              " 'what does shell mean in python language and does script means is there any difference between script and program',\n",
              " 'are hand sanitizers helpful',\n",
              " 'what does it mean when a guy says that youre bad',\n",
              " 'where is the disable 3g enable 2g option on samsung galaxy grand',\n",
              " 'grammatically which sentence is correct i didnt know or i didnt knew',\n",
              " 'if [math] ffx = 1 - x [/math] then what is [math]fx[/math]',\n",
              " 'what would you do if you knew you had less than a minute to live',\n",
              " 'what led to the rise of the mongol empire',\n",
              " 'what is the cut-off score for bhu mbbs 2016 for general category',\n",
              " 'what is the history of wearing black armbands to show mourning',\n",
              " 'which are the sources availablefor appsc aee general studies preparation',\n",
              " 'what strikes first time visitors as special or unusual when they arrive in hollywood fl',\n",
              " 'is downloading torrents possible on reliance jio',\n",
              " 'what are some reviews of wwwimadcompanypipingdivcom',\n",
              " 'why does a superhero hesitate to kill a villain when the villains are killing dozens of innocent people when a person can kill dozens of innocents why does he deserve to live',\n",
              " 'how do i cure my addiction to knowledge',\n",
              " 'how do i show that fn +gn = omaxfngn',\n",
              " 'if i temporarily suspend my personal facebook profile can i still run ads and manage fanpages from business manager',\n",
              " 'what is the creepiest thing your parent has ever done',\n",
              " 'is there any legal requirement to start a news website in india',\n",
              " 'what is the difference between angularjs and nodejs',\n",
              " 'what is neptunes atmosphere made of',\n",
              " 'what do i do when my girlfriend still loves her ex',\n",
              " 'what is the post request in a web application',\n",
              " 'what are some of the best indian songs in regional languages like kannada marathi telugu gujarati tamil etc',\n",
              " 'can canadian citizens whove never lived in canada apply for a canadian student loan',\n",
              " 'who are the best signings for the premier league this season 2016-2017',\n",
              " 'why is thermomix not sold in the usa',\n",
              " 'what are some cool examples of girl will be girls',\n",
              " 'is it possible to use threejs with playcanvas',\n",
              " 'what is the evolution of god',\n",
              " 'which public companies have the highest p/e ratio in 2016',\n",
              " 'how can i accept life for what it is',\n",
              " 'is the ban on ndtv justified',\n",
              " 'what are the best restaurants to try when visiting erode tamil nadu india what should you try while youre there',\n",
              " 'what is the salary structure on cmm level 3 it company in india',\n",
              " 'what should i do when people make fun of my shoes at school',\n",
              " 'what are the best b2b lead generation websites in singapore',\n",
              " 'why dangal is such a bad movie',\n",
              " 'what are good resolutions to make in 2016 to change my life for the better',\n",
              " 'how many electrons are in the average human body how many atoms are in the average human body how many electrons leave the body at death',\n",
              " 'why are the indians action movies so fake and blatantly awful',\n",
              " 'how is the word placating used in a sentence',\n",
              " 'how do 800 people a year die from being tangled in bedsheets',\n",
              " 'who are some interesting people that have been banned by quora',\n",
              " 'does pm modi needs parliament approval to ban 500 and 1000 notes',\n",
              " 'at what point do a sperm cell and an egg become a boy or a girl',\n",
              " 'what is the salary of homeopathy doctors in india',\n",
              " 'neil degrasse tyson says the earth is pear shaped why do images of earth show it as round',\n",
              " 'how do conjugations in greek latin and sanskrit compare to each other',\n",
              " 'which are the top mobile apps trends now',\n",
              " 'which books should i read to learn about buddhism',\n",
              " 'how and why did some labor unions become intertwined with organized crime like the mafia',\n",
              " 'how do i know if i am ready to monetize my blog',\n",
              " 'why do we have 28 or 29 days in february where as july and august have 31 days consecutively',\n",
              " 'is it worse for your health when jogging in fog than under other weather conditions',\n",
              " 'how can the 4 corners of texas experience some of the growth and success of texass biggest metro areas',\n",
              " 'why does the facebook add friend button disappear sometimes',\n",
              " 'do i need a college degree if i want to work for the department of defense or can i somehow prove my capabilities and knowledge',\n",
              " 'terminator creative franchise how does skynet gain the ability to manufacture androids and other hardware',\n",
              " 'how can we build a model tree in matlab with its pruning and smoothing stages',\n",
              " 'why is arcos gas so much cheaper than other stations',\n",
              " 'what are the differences between antigens and antibodies',\n",
              " 'what is gst for a layman',\n",
              " 'pregnancy after tubal ligation- how will one know if they have ectopic pregnancy can there be a missed period if implantation happens but not in uterus',\n",
              " 'what is best to do after completing bsc horticulture and what are some best career option in it',\n",
              " 'how do i ping',\n",
              " 'what did the us acquire in the treaty of 1818',\n",
              " 'what is the difference between a sales engineer and a salesman',\n",
              " 'where can i find reviews of pravana color extractor',\n",
              " 'what is the probability of middle berth in a coach',\n",
              " 'who really has all the power and directs the critical decisions of the earth',\n",
              " 'which sports should i start to play to paticipate in olympics being 26 years old ',\n",
              " 'what is paraphrasing',\n",
              " 'if you are an employee what do you think of your ceo or immediate boss',\n",
              " 'how do i upgrade a cannondale jekyll 4 drivetrain to xx1',\n",
              " 'a triangle has angles in the ratio 234 what is the size of the smallest of the three angles',\n",
              " 'what is the difference between dissolution and wind up of company',\n",
              " 'what is the answer to this iq test',\n",
              " 'which programming language should i learn java or javascript',\n",
              " 'what are some things new employees should know going into their first day at south jersey',\n",
              " 'how do i get rid of chickenpox marks',\n",
              " 'how does an individual figure his or her self out',\n",
              " 'why did humans come to existence',\n",
              " 'is neil armstrong psychopath',\n",
              " 'what would happen if russia bombed isis',\n",
              " 'is there any chance of getting pending employment pass singapore since 2 months to be approved',\n",
              " 'how do i download torrents using uc browser and utorrent app in my smartphone',\n",
              " 'why is it so difficult to get rid of pimples',\n",
              " 'how effective is video advertising',\n",
              " 'what was the most beautiful moment you have ever experienced the moment that would make a perfect movie scene',\n",
              " 'where do i get songs like moon river',\n",
              " 'top ten websites',\n",
              " 'how do i remove dark circles permanently',\n",
              " 'what are the best fiction novels about math and mathematicians',\n",
              " 'what are the common vc fund management strategies',\n",
              " 'what is core banking and how does core banking work',\n",
              " 'what does the name sheenam mean',\n",
              " 'how many fake employees does facebook have according to facebook',\n",
              " 'how much of myoglobin is there in pork and how much of iron is there in the myoglobin in weight',\n",
              " 'why do i have such a long neck',\n",
              " 'how do i understand these sentences',\n",
              " 'everytime i download doxz or pptx files to my android phone it came out unsuccessful why',\n",
              " 'if you overdose on melatonin will you be fully unconscious even for just 5 minutes',\n",
              " 'what are some logical reasons in support of caste-based reservation system in india',\n",
              " 'which is the best site for downloading anime',\n",
              " 'does hair use energy from body to grow',\n",
              " 'what is the corporate culture like at analogic how is the culture different than other companies',\n",
              " 'where do i get second hand books online in india',\n",
              " 'how do i raise seed capital',\n",
              " 'what does the slogan love trumps hate mean',\n",
              " ' the mortal instruments book series will jace and clary get married',\n",
              " 'are there different length deadlift bars',\n",
              " 'where can i find some pre-trained word vectors for natural language processing/understanding',\n",
              " 'if you were temporarily omniscient what three things would you want to remember afterwards',\n",
              " 'how one should start a corrugated box manufacturing unit what is the minimum invetment amount for such unit',\n",
              " 'there is this cute girl in my neighbourhood who i proposed to a few days ago but she turned down my proposal saying that she did not want to be the girlfriend of an iit nerd is this a view that many girls in india share',\n",
              " 'were timothy learys facial proportions indicative of a man of low testosterone or high testosterone',\n",
              " 'top 10 mba institute',\n",
              " 'if you legally change your name can people still look up your birth name',\n",
              " 'how long does the disable last on instagram',\n",
              " 'do the westerners/europeans still believe themselves to be a superior race',\n",
              " 'mba in 40s',\n",
              " 'will a bath towel be ok on top of the toilet tank or do germs transfer with a toilet flush',\n",
              " 'is the answer to zero divided by zero infinity',\n",
              " 'why did the good friday agreement work',\n",
              " 'how can i act like sherlock holmes from bbc',\n",
              " 'how much money i can withdraw from an sbi atm with an sbi card',\n",
              " 'what is the definition of potential',\n",
              " 'how do you know when an email had been read',\n",
              " 'are there people ready to invest in big brother africa hosted in nigeria',\n",
              " 'why do i feel anxious',\n",
              " 'what would i do if i want to earn some mony',\n",
              " 'what is the bring sally up-push up challenge',\n",
              " 'who would win in a fight doomsday or the kingdom come superman',\n",
              " 'what is the best coffee in marin county',\n",
              " 'what is the procedure to get bail in india',\n",
              " 'is knowing how to code the only way to get a job in google or facebook',\n",
              " 'how can i use omegle on my ipod touch and how is it compared to using roundchat',\n",
              " 'which are the major highways in california and how are they compared to the major highways in indiana',\n",
              " 'what are the ethnicities of the cast of impractical jokers',\n",
              " 'which is the best sniper rifle in behind enemy lines',\n",
              " 'why do celebrities with knock knees still carry it about without undergoing a surgery',\n",
              " 'i keep losing my watch what should i do',\n",
              " 'how is it to date a 1st-year girl in an engineering college',\n",
              " 'why do i have a strange lump in my earlobe',\n",
              " 'when im in love with someone i cant have a normal conservation with that person why',\n",
              " 'should i tell this girl i like her',\n",
              " 'how do anemone crabs feed',\n",
              " 'how did you like union university',\n",
              " 'what is the best configuration of desktop pc for an architect to use lumion revit etc on a budget',\n",
              " 'i am an indian girl how can i show that i am not an easy target for guys who try to harass me',\n",
              " 'what are the foods you should never eat',\n",
              " 'if the superfluid dark matter is what ripples when galaxy clusters collide why wouldnt it be what waves in a double slit experiment',\n",
              " 'what chances does a cw3 category defence female student have to get admission into fms',\n",
              " 'where would i find engineers with windriver simics experience in arizona',\n",
              " 'how much do tv channels pay for a kids show',\n",
              " 'what is the best way to lose weight and not to gain it back',\n",
              " 'what are all the destiny story missions in order',\n",
              " 'what is the meaning of the boondock saints prayer',\n",
              " 'what is the package after mtech from iisc',\n",
              " 'what does mole signify',\n",
              " 'how will the proposed system of payment banks in india earn money make profits',\n",
              " 'if three coins are tossed what is the probability of getting three tails',\n",
              " 'whats the best way to sell my restaurant',\n",
              " 'why does area 51 not exist',\n",
              " 'what are the alternative uses of galvanised corrugated steel sheets apart from roofing in a developing country',\n",
              " 'good chiropractor in london',\n",
              " 'what is the difference between in-vivo and in-situ experiments',\n",
              " 'which is the best digital marketing course in london',\n",
              " 'what is the best way to manage inventory',\n",
              " 'is there a way to block certain sites in chrome on android',\n",
              " 'what is the best way to friend zone a girl',\n",
              " 'what are some good examples of open source websites or guides to create entire websites that i can look at to begin my own web development',\n",
              " 'what is one thing you want to do for your parents before you die',\n",
              " 'what would you do if you have difficulties in communication',\n",
              " 'what is the most important purpose of an antivirus software',\n",
              " 'who are palantirs competitors',\n",
              " 'how much money did you have when you started investing in the stock market',\n",
              " 'i dont want to live anymore what should i do',\n",
              " 'what do they use to ship styrofoam',\n",
              " 'what tips would you give to international student moving to british columbia',\n",
              " 'hi i am studying in class 11th commerce my aim is srcc or any other du college for bcom hons how can i achieve it',\n",
              " 'which books should i use for allen asat',\n",
              " 'if a bollywood movie were made on the life and career of dhirubhai ambani what would be its scene just before the-end',\n",
              " 'how do we die',\n",
              " 'how do i get a fake id in india',\n",
              " 'simple definition for scarcity',\n",
              " 'should i attend a phd program if all the pois are not willing to answer my questions concerning their research and the program',\n",
              " 'as a cs student with an exchange opportunity in the us and europe what course in what university should i absolutely try to take',\n",
              " 'what is a bending moment what is its physical significance',\n",
              " 'what makes a trans person say they are woman or a man what specific things do they take into account that make them decide to be one or the other',\n",
              " 'what was the significance of the battle of somme and how did this battle compare and contrast to the battle of ogaden',\n",
              " 'does shubhra ranjan teach at vajiram and ravi',\n",
              " 'what is your favorite character in the big bang theory',\n",
              " 'is it illegal to download youtube videos in germany',\n",
              " 'is the eu the fourth reich',\n",
              " 'how do you create protocol for your blockchain',\n",
              " 'what is the difference between idf gasket and sms gasket',\n",
              " 'what is the primary duty of the madras sappers in the indian army how do i join the madras sappers',\n",
              " 'how tall will i be im 61 and 17 male',\n",
              " 'what is it like to spend time on quora',\n",
              " 'how did diana princess of wales really die',\n",
              " 'how do i run faster',\n",
              " 'i took a leave for around 2-3 weeks is chickenpox a good excuse how many days until spots go away and what should i say',\n",
              " 'what is the greatest impact that ancient rome made on our civilization',\n",
              " 'what are some good stocks to invest in right now september 2013',\n",
              " 'why do i feel like sleeping always',\n",
              " 'i got 2 different ecg reports how can i believe doctors as they advised for surgery however some doctors fraud',\n",
              " 'what is the process of splitting water called',\n",
              " 'whats the best way to get instagram followers',\n",
              " 'what does to each their own actually mean',\n",
              " 'who is the founder of osbn®',\n",
              " 'if jesus christ was circumcised on the eighth day did his foreskin come back again after his ascension and resurrection',\n",
              " 'in gta vwhen i drive a fast vehicle or am try to aim or zoom with a sniper the game lags pretty bad what can i do to fix it',\n",
              " 'how reliable is a 10 bar water resistant watch',\n",
              " 'entomology is it possible to prevent bot fly infections',\n",
              " 'why do dogs have such short lifespans',\n",
              " 'my man cheated and told me to leave his life but when i picked my staff found him cooking and left some for me he woke up making lunch pack for me',\n",
              " 'im a 27-year-old boy without a girlfriend how do i get one',\n",
              " 'which country has the best prices for rolex watches and how expensive is india to buy rolex relatively',\n",
              " 'where is the management tasks link on my google groups home page am i blind',\n",
              " 'what shall i do to learn about horn amplification mechanically and ear trumpets',\n",
              " 'what i could do with $ 1 million dollars',\n",
              " 'what are some good colleges in india that i can still apply to their mba program for this year’s session',\n",
              " 'how do you download aoe 3',\n",
              " 'what are the best books youve read on finance',\n",
              " 'has hillary clinton lost her law practice license if yes why',\n",
              " 'how do you say good night in japanese',\n",
              " 'how can i buy from amazoncom in india instead of amazonin as they are offering discounts',\n",
              " 'starting at zero how long does it take to establish good credit in the us',\n",
              " 'what is love',\n",
              " 'what is difference between statutory and non statutory body',\n",
              " 'what is navy',\n",
              " 'are we ready for self-driving cars',\n",
              " 'which country does not have a national anthem',\n",
              " 'who are the simpsons',\n",
              " 'how much does starting a website cost',\n",
              " 'what is the difference between the different roles of software development',\n",
              " 'why do i have a fear of working',\n",
              " 'would a college prefer improvement or consistent performance',\n",
              " 'what are some of the best books for practicing numericals in digital signal processing',\n",
              " 'does science support the idea that gay people cant change their sexual orientation',\n",
              " 'how can i get rid of a bee sting fast',\n",
              " 'how much amount to fill in amount of transaction column of form 60/61',\n",
              " 'do american wives really kick their husband out of the bedroom and let them sleep on the couch during a fight',\n",
              " 'what is the difference between an alloy and compound',\n",
              " 'how do i become business analyst with 2 years of experience in software testing',\n",
              " 'what are the rules and regulations when visiting an inmate at valdosta prison and how does it compare to prisons in alabama',\n",
              " 'what should every 14-year-old know',\n",
              " 'what is the most interesting programming language',\n",
              " 'which phone should i buy within rs10000 any suggestions',\n",
              " 'what is it like to work in peta bangalore',\n",
              " 'how can i transfer money from one bank to another',\n",
              " 'what are some good examples of advertising',\n",
              " 'what is rtl in',\n",
              " 'which is better mba in finance or marketing if previous background is b tech it',\n",
              " 'why is it that when a candle wick is bent over in a loop the flame goes really high',\n",
              " 'how quora filter out the contents like spam irrelevant answer advertising in the answer swear words etc',\n",
              " 'what are the career opportunities after qualifying in the net/set/csir exams',\n",
              " 'do ai simulates help create new advanced technologies',\n",
              " 'what is livespherecom',\n",
              " 'what foods begin with the letter k',\n",
              " 'what is the difference between a w9 and 1099',\n",
              " 'do you know utmspace school of profesional and continue education in malaysia',\n",
              " 'how do i move my penis inside a vagina during sex easily',\n",
              " 'i am very emotional i get hurt even if someone cracks a joke about me what should i do to overcome this',\n",
              " 'why cant we change the laws of physics',\n",
              " 'british royal family does queen elizabeth want to keep prince charles from ascending to the throne is she annoyed because of the diana / camilla mess',\n",
              " 'what are the ways to reduce the compilation and execution times for c programs',\n",
              " 'what is important to you as a java developer when you want to get recruited for a big company',\n",
              " 'can u give me a series or movie specially series that depend on mind very much',\n",
              " 'is there a reason why our eyes have trouble picking up the darkish blue light of christmas lights',\n",
              " 'which data structure should i use to compare two huge lists with 50k lines in java',\n",
              " 'what are the discontinuity and zero of the function [math]fx[/math] of [math]\\\\frac{9x^2-36}{3x+6}[/math]',\n",
              " 'what is a tv or movie moment that made you cry as a kid',\n",
              " 'how do you post comments on dribbble',\n",
              " 'can i stop some of my tweets from appearing in certain twitter lists',\n",
              " 'my little sister is now much taller than i am i feel extremely jealous what can i do',\n",
              " 'are you going to think in a foreign language if you live there long enough',\n",
              " 'how can i start a business in banglore karnataka',\n",
              " 'how do police departments choose which officer gets the nicer patrol cars',\n",
              " 'why dont i get sleep at nights',\n",
              " 'what are the best pictures that showcase the earth',\n",
              " 'what is the difference between “would or should have done” and “would or should have been done”',\n",
              " 'are there any sperm donors in bangalore',\n",
              " 'what constellations are prominent during winter',\n",
              " 'how do they film births in call the midwife',\n",
              " 'what is the fortiguard web filter',\n",
              " 'why do people send a picture of their family instead of a christmas card why do they write nothing inside',\n",
              " 'is smartron tbook good',\n",
              " 'how do i get a trial week internship at zomato',\n",
              " 'which school’s program is better uc santa barbara econ/math and stats or uc davis managerial economics',\n",
              " 'how much money should a social media director make',\n",
              " 'what makes a woman attractive',\n",
              " 'where is the royal enfield service center in kota city',\n",
              " 'why does the day start at 12am and not at 1am',\n",
              " 'on a train in india what does sl 1a 2a 3a 2s cc mean',\n",
              " 'how do i clear interview for network analyst i completed ccna',\n",
              " 'my one-year-old doesnt eat any vegetables or meat but only pieces of bread and fruits what should i do',\n",
              " 'fruit where can i buy soursop guanabana in the united states',\n",
              " 'what is unusual or different about the food and cuisine in bulgaria',\n",
              " 'how can i leave indian navy',\n",
              " 'did kim kardashian do porn',\n",
              " 'is it safe to bathe or shower in rusty water',\n",
              " 'why do americans keep saying usa is the land of the free when people like charles guthier aka alienjak didnt receive his justice from his wife',\n",
              " 'how many times have sex in week',\n",
              " 'how can we find 1s complement and 2s complement for both positive and negative decimal numbers',\n",
              " 'how do i read xml data in mysql workbench what will be the stored procedure to insert xml data as a parameter into the table',\n",
              " 'banking what are the procedures to take a demand draft from a nationalised bank of an amount over 1 lakh',\n",
              " 'what are differences b/w fdi fpi and fii',\n",
              " 'what is the cost of sevis',\n",
              " 'in terms of romanians linguistic development how conservative would you perceive the language to be',\n",
              " 'what is the charge to a merchant for using paytm or any other mobile wallet',\n",
              " 'what should i do if my boyfriend doesnt trust me',\n",
              " 'what is the corporate culture like at premier how is the culture different than other companies',\n",
              " 'how do i know im ready for the next relationship',\n",
              " 'what are the best books available for future and options trading in the indian market',\n",
              " 'how do i expand my social circle as a freelancer',\n",
              " 'who are some people who were historically seen as horrible people but were heroes in reality',\n",
              " 'can killing a person in self-defense be considered right in kants morality',\n",
              " 'where can i find the latest hp0-d31 exam dumps',\n",
              " 'are the songs in a playlist really random on shuffle mode or they follow a few specific order',\n",
              " 'how much does a photographer for national geographic get paid',\n",
              " 'how easy is it to do business in english in belgium holland',\n",
              " 'how can you increase the numbers of australian facebook likes and twitter followers',\n",
              " 'how can i download dota 2 without using steam such that i can put it in my usb',\n",
              " 'why can i hear crackling noise in ear when i swallow after stapedectomy surgery',\n",
              " 'have you changed all measuring pparameter and borrowed from france germany sweeden',\n",
              " 'what universities does home properties recruit new grads from what majors are they looking for',\n",
              " 'should prisons be allowed to force-feed prisoners who are on hunger strike',\n",
              " 'is it true that oncologists refuse to be treated for terminal cancer',\n",
              " 'how do i improve my logical thinking and creativity',\n",
              " 'what is a unique number',\n",
              " 'will an indian company having 100% of its shares held by a foreign company constitute as a resident or non-resident of india',\n",
              " 'smoking how many joints in a day is harmless',\n",
              " 'are these signs of depression',\n",
              " 'john lennon on feminism',\n",
              " '',\n",
              " 'how can i get a cast',\n",
              " 'what is the dumbest question youve seen asked on quora',\n",
              " 'how do lgbt members feel in india',\n",
              " 'did ashok bansal gate 2015 mechanical topper give his exam in his final year',\n",
              " 'what international trade isnt occurring that should be',\n",
              " 'what are the best things to do when on cocaine',\n",
              " 'what is the best book for getting started with shell scripting',\n",
              " 'are you allowed to walk down a city street in the us while openly carrying a gun without firing it',\n",
              " 'what is a parliamentary debate',\n",
              " 'how do i update a torrented version of photoshop cc',\n",
              " 'can i open a savings account at bank of america in india and operate the same account in usa while doing ms',\n",
              " 'how are palm tree roots structured',\n",
              " 'how can i travel around the world at home',\n",
              " 'has anyone ever had a very accurate psychic reading in mumbai if so from whom',\n",
              " 'are we able to draw or generate using computers a perfect circle if not then how long until we are',\n",
              " 'what colors go well with green',\n",
              " 'how do you convert 16 into a fraction',\n",
              " 'can i stop crying when i am angry',\n",
              " 'is bill maher a liberal',\n",
              " 'how do i find if the fake torrent download running in torrent app',\n",
              " 'how can i try lsd safely',\n",
              " 'why does plastic surgery go wrong so often and look so strange',\n",
              " 'how do i register news web portal in india',\n",
              " 'i want to buy a laptop budget is 40 to 45 k but confused guys plz suggest me 8 gb ram 1 tb hard disk any suggestion',\n",
              " 'what ages go with each grade in america',\n",
              " 'on the new sat i got a score of 1490 99th percentile and an essay score of 6-5-6 reading/analysis/writing should i retake the sat',\n",
              " 'is it unlimited from 2am-5am in jio welcome offer although daily limit of 4gb is fixed',\n",
              " 'is there an invisible hand',\n",
              " 'what are the use of codecs in mx player pro coedecs like armv7 neon armv7 tegra what do these specifically do',\n",
              " 'how do i improve my jaw line',\n",
              " 'what is a concierge service like',\n",
              " 'does inhaling vapours of glycerine affect human health',\n",
              " 'is there a word for a miserable person who purposely makes others miserable',\n",
              " 'why has russia never hunted the jews for the murder of its 90m citizens',\n",
              " 'what is the next number in the sequence [math] 424672081440[/math]',\n",
              " 'was domenico scarlatti musically far ahead of his time',\n",
              " 'do european women find asian men attractive',\n",
              " 'matter is divided into 3 states solid liquid and gas what state does fire exist in',\n",
              " 'my mobile number seems to be registered with a uan that doesnt belong to me how can i correct it',\n",
              " 'what are the differences and similarities between carbohydrates and lipids',\n",
              " 'does the new start up stay uncle allow admission to unmarried couples in delhi',\n",
              " 'is it possible that baltic sea anomaly and the dark knight satellite have similar architecture/design',\n",
              " 'do atoms rotate',\n",
              " 'how do you say i hate you in korean',\n",
              " 'how can you determine the oxidation number of carbon monoxide',\n",
              " 'does companies train coding to developer',\n",
              " 'should i ask her for permission when i want to kiss her',\n",
              " 'how do i get a gyroscope on my smart phone samsung galaxy a5 2015',\n",
              " 'is patanjali shares available in bse or nse',\n",
              " 'what was apollo 3s mission',\n",
              " 'where can i watch one piece episodes that are dubbed in english',\n",
              " 'whats the difference between a muffin and cupcake pan',\n",
              " 'what are the strongest majors in terms of job prospects and what are the weakest majors at hunter college',\n",
              " 'phd students what is the oldest recommended age to complete a phd',\n",
              " 'where/how can i get section 8 housing quickly if im on ssi/ssdi',\n",
              " 'what is your past life regression experience',\n",
              " 'how is the hostel food at svnit',\n",
              " 'which country is the best country to visit in summers',\n",
              " 'what does it mean when a guy moans when kissing or making out',\n",
              " 'what should men know by the age of 23',\n",
              " 'how do you love someone you know you can never have',\n",
              " 'what is a 3-regular planar graph',\n",
              " 'which is the best sex scenes in game of thrones season 1 to 4',\n",
              " 'how did oprah use her positive and negative freedom on her harvard speech',\n",
              " 'what is computer networking',\n",
              " 'what are the characteristics of an authoritarian government',\n",
              " 'why is wolfram alpha not so popular',\n",
              " 'how much money can an artist make with a number one record',\n",
              " 'where is the best diving place',\n",
              " 'what are the pros and cons of living in australia',\n",
              " 'why do people need love and relationships more than other things',\n",
              " 'what male mammals do not have nipples',\n",
              " 'what are some websites similar to vocabularycom',\n",
              " 'what are some common examples of ethnic traits',\n",
              " 'earth planet why dont we fall directly in the earth from space',\n",
              " 'who is the best porn star',\n",
              " 'i forgot my security code on my nokia 206 how can i unlock it',\n",
              " 'what are fictional characters',\n",
              " 'how can we save fuel for the future',\n",
              " 'whats a day in the life like for an oil trader',\n",
              " 'what is a good solar panel installation provider in oakdale california ca',\n",
              " 'is it true that american girls have sex with guys without condoms',\n",
              " 'is design thinking useless hype',\n",
              " 'what do i do after spiritual awakening',\n",
              " 'how are the provisions of the first amendment of the united states constitution different from the ones in the second amendment',\n",
              " 'what is faith daniels doing now',\n",
              " 'why was right to property removed from fundamental rights in india',\n",
              " 'is intel i5 good for gaming',\n",
              " 'did baba farid lived in a jungle and crows ate his flesh',\n",
              " 'what are important things for people intending to major in nutrition to know about',\n",
              " 'complete knowledge of pakistan',\n",
              " 'from where in the india we can get bacteria free clean & fresh eggsor egg white for eating',\n",
              " 'has any couple met on quora and fallen in love',\n",
              " 'what is laser hair removal',\n",
              " 'why do so many vietnamese have their first name as nguyen',\n",
              " 'can a slouching back and uneven shoulders be fixed',\n",
              " 'what is the full form of the gpl in iit kgp',\n",
              " 'what are the life lessons one can learn from joker in batman',\n",
              " 'can i make 10 million a year as a day trader',\n",
              " 'is there a way to get a users friends email address through facebook api for php',\n",
              " 'what is the difference between hss and carbide tools',\n",
              " 'why is there no longer a mobile app to manage netflix dvds',\n",
              " 'does anyone else feel that getting ahead in a company has a lot more to do with social class than it does actual class',\n",
              " 'what should i do to be as good as richard feynman in physics and mathematics',\n",
              " 'do people in islamabad live in flats or bungalows',\n",
              " 'how can you find the molar mass of deuterium',\n",
              " 'how do i reset a mobile without an apple id',\n",
              " 'what is the most interesting concept',\n",
              " 'how do i integrate 1/1+x^5',\n",
              " 'how can i find fundamentals of electric circuits 3 rd edition practice problem solutions',\n",
              " 'how are careers in philosophy changing and whats necessary to stay current',\n",
              " 'which film will you watch raees or kabil',\n",
              " 'what does å symbol represents',\n",
              " 'where can i find man of steel online',\n",
              " 'where are country the people with the highest iq',\n",
              " 'what are some amazing psychology facts',\n",
              " 'how does breitbartcom rate as a news source',\n",
              " 'how can i lower my depression in last days of gate exam',\n",
              " 'what is the function of dna',\n",
              " 'how is timber wood made',\n",
              " 'should i tell her i like her',\n",
              " 'how do i ask for help from teachers',\n",
              " 'why is there no good sources in the internet for famous indian songs violin notes',\n",
              " 'with the rampant racism in both the southern and northern states how did the 14th amendment to the us constitution ever pass',\n",
              " 'which are the good residential areas near hitec city in hyderabad',\n",
              " 'how can i stop asking and answering questions anonymously on quora',\n",
              " 'in what situations would nunchucks be the optimal weapon to use',\n",
              " 'what is your chance to get call from iims',\n",
              " 'do girls really feel crazy when theyre on periods is pms only psychological and they feel that because theyre made to believe that we feel weird during periods',\n",
              " 'what are the opportunities for freshers as business analyst',\n",
              " 'why do people write in cursive',\n",
              " 'how many episodes of naruto shippuden are english dubbed',\n",
              " 'whats the best thing about you',\n",
              " 'how do i become a certified dog trainer in bangalore',\n",
              " 'us student visa f1 should we use the aadhar card number as the national identification number in ds 160 form',\n",
              " 'what is the fund transfer pin for iob netbanking',\n",
              " 'how does gravity affect aging',\n",
              " 'how do i find out the dos attack',\n",
              " 'what are the best android apps one should have',\n",
              " 'how much did the cotton gin cost in 1793',\n",
              " 'what are some must have books for a data scientist',\n",
              " 'which torrent sites are best for movies',\n",
              " 'what are examples of homeostasis',\n",
              " 'how can i get a driving license in bangalore',\n",
              " 'what hotel in nallamala hills hill-station would be safe for unmarried couples without the harassment of police hotel staff and moral police',\n",
              " 'what is your language exchange experience on lang-8',\n",
              " 'what type of games i can play with an i3 25 ghz cpu 4gb of ram and a geforce 840m 2gb',\n",
              " 'is mexico in debt to the united states even though its naturally rich in resources',\n",
              " 'what do you think about thong panty',\n",
              " 'why do men play mind games',\n",
              " 'is there are some apps that work like that features in interviewbit of maintaining your streak daily that can help us in our day to day life',\n",
              " 'what is known of former ussr central asia & eastern european countries today',\n",
              " 'why in america is it important to move out at 18',\n",
              " 'how reflective is the tv show house md to the real medical world',\n",
              " 'who is the biggest competitor of wikipedia',\n",
              " 'i am a ms student in usa and i will complete my 27 credit hours in dec i want to travel to india for a monthwill i face problems during immigration',\n",
              " 'how much would it cost for a student to live in lublin poland',\n",
              " 'how productive are google/facebook employees',\n",
              " 'how can i ask a guy if he wants to be friends with benefits',\n",
              " 'i dont know if i am in love with my best friend what do i do',\n",
              " 'social media and digital agecncies in banfalore',\n",
              " 'what does a jew make of or explain pauls conversion to acceptance of christianity',\n",
              " 'how do i apply for 6 months internship for mba at ibm',\n",
              " 'how much tax i have to pay if my income is 36lacs/year salaried income rs 12 lacs and professional income of 24lacs i invest 15lacs in ppf/lic',\n",
              " 'should i buy the iphone 7',\n",
              " 'how does nitrobuild plus help to enhancing muscle',\n",
              " 'what do scientists do with extracted dna',\n",
              " 'what is the cost of living in dubai for a couple',\n",
              " 'what are the negative affects of zma zinc monomethionine aspartate',\n",
              " 'stock to invest now in india',\n",
              " 'who is the most powerful mutant in the x-men universe',\n",
              " 'what you dont want to do again in your life',\n",
              " 'what are the best blogs to follow for the pacific crest trail for 2013',\n",
              " 'what are the factors affecting rates of us dollars',\n",
              " 'how do i get rid of headache immediately',\n",
              " 'if you could represent yourself with a single object what would that object be why',\n",
              " 'how do i code ant colony optimization algorithm for group technology',\n",
              " 'which is the best bollywood movie in 2015',\n",
              " 'what is the entrepreneurial ecosystem like in tanzania and east africa',\n",
              " 'when are oil prices expected to rise again',\n",
              " 'how do i upgrade my pc scanner',\n",
              " 'what is president obamas legacy',\n",
              " 'what is the best superpower to have',\n",
              " 'what are the best aspects of living in maturin venezuela as a young adult',\n",
              " 'who is founder of filmybabacom',\n",
              " 'how do you spy on whatsapp for android',\n",
              " 'how do i prepare seminar report',\n",
              " 'what are the benefits of doing an mba after getting an undergraduate degree in ministry',\n",
              " 'why are microwaves called microwaves',\n",
              " 'what are some good recipes of dutch curry and rice soup',\n",
              " 'why is sachin tendulkar called the god of cricket',\n",
              " 'what if water leaks from mediterranean sea into caspian and aral sea',\n",
              " 'why are sleepovers good',\n",
              " 'was sarah palin a good governor of alaska',\n",
              " 'which are some apps that are popular in the usa but not so much in india and have not yet been implemented due to whichever reasons imaginable',\n",
              " 'did raghuram rajan know about the demonetization scheme of narendra modi',\n",
              " 'what is the english of the hindi word diya',\n",
              " 'what if we had a mole of moles',\n",
              " 'what does my ex gf want from me',\n",
              " 'what are the services that are still not on web online but would be of great use to mankind if its brought onto the web',\n",
              " 'when will cognizant start off campus for the freshers 2016-2017 batch',\n",
              " 'what is the price per watt of laser over time',\n",
              " 'if i learn music theory will it help me play any instrument like a pro',\n",
              " 'does anyone in your household possess a gun',\n",
              " 'what are the main problems of northeastern states and their complaint with the central government',\n",
              " 'what are job responsibilities of technical executive',\n",
              " 'are scandinavian countries socialist',\n",
              " 'what is the difference between a cure and a treatment',\n",
              " 'who designed materialtreecom',\n",
              " 'whats a 2 year study plan for ias 2018',\n",
              " 'how do you get rid of the shakes after drinking',\n",
              " 'what are some unusual aspects about politics and government in india',\n",
              " 'client / server architecture',\n",
              " 'what if there was no concept of time',\n",
              " 'why was the hoover dam built',\n",
              " 'how can sarees add beauty to your lifestyle',\n",
              " 'what is a extreme sport',\n",
              " 'what are some reasonable research topics for undergrads in pure mathematics',\n",
              " 'which course should i take in winter training',\n",
              " 'what is form 12bb',\n",
              " 'how much does football physio earns',\n",
              " 'why does the amazon instant video app for iphone only work on wi-fi',\n",
              " 'what things are needed for hitchhiking on a budget',\n",
              " 'who is the most underrated person in india',\n",
              " 'how are glasses made',\n",
              " 'on opening the door of the refrigerator the room gets heated why',\n",
              " 'which bike is better trek or cannondale',\n",
              " 'how powerful are the five families of the ny mafia today',\n",
              " 'does airbnb have to pay taxes in all 178 countries where it operates',\n",
              " 'what purpose does a head serve and what are the advantages over having the brain and sensory organs in the body',\n",
              " 'what is the current it standards at singapore especially in software testing',\n",
              " 'what is the alternative to regards in a formal letter',\n",
              " 'what are the benefits of mastering excel vba as a technology consultant',\n",
              " 'when do shoulders stop growing',\n",
              " 'what are some album and artist recommendations for a jazz beginner',\n",
              " 'what would happen to the us and the world if all us military influence around the globe was gone',\n",
              " 'what is the best source to find a billionaire mentor linkedin or sba-score',\n",
              " 'are you a filipino',\n",
              " 'i got 56 in jee main and 95% in the isc i have taken admission in kiit bhubaneswar and i want to give jee next year is it possible for me to get iit next year',\n",
              " 'what is the corporate culture like at excel trust how is the culture different than other companies',\n",
              " 'what happens if someone poos in a swimming pool',\n",
              " 'if we heat water among hydrogen and oxygen which one is going to evaporated',\n",
              " 'how can you find someone knowing only their first name brothers country and they have been at',\n",
              " 'is anyone using getstreamio in production',\n",
              " 'how do you apply for a patent in the us',\n",
              " 'what is bitcoin blockchain and ethereum',\n",
              " 'what exactly happened between china and japan',\n",
              " 'what software do major studios like pixar and disney use',\n",
              " 'what are some tips for freelancing',\n",
              " 'what is the difference between page rpm and impression rpm which one do i need to consider while calculating the adsense earning',\n",
              " 'what topic should i research for my epq project',\n",
              " 'what is covalent bonding what are some examples',\n",
              " 'how should i plan my 1 week dubai trip',\n",
              " 'is a morning kiss repulsive without brushing your teeth shouldnt it be done after that',\n",
              " 'whats the best harry potter game and why',\n",
              " 'in what country can you purchase high-end watches eg rolex jlc iwc at the cheapest price as a citizen of australia relevant for tax considerations',\n",
              " 'where can i play volleyball in san francisco',\n",
              " 'neuroscience in order for mind-uploading to happen which parts of the brain need to be hooked up to electrodes',\n",
              " 'who is the best jigsaw puzzle manufacturer',\n",
              " 'is it possible to increase from a 25 gpa to a 35 in 2 semesters',\n",
              " 'celebrity popularity meter would you check it out often if there was one that actually works',\n",
              " 'iot project final year ideas suggestion',\n",
              " 'does masturbation cause anxiety panic attacks and pimples if so why',\n",
              " 'how is the htc desire 816g',\n",
              " 'what is the farthest thing in the solar system confirmed',\n",
              " 'is there civil engineering at amity school of engineering & technology in bijwasan delhi',\n",
              " 'i was given a piece of paper with written arabic text whos able to help me with translation',\n",
              " 'how are pressure and temperature related',\n",
              " 'how can i loose weight as a 21 year old bi-gender-queer 16 seater apache helicopter without resorting to a new carbon fibre body',\n",
              " 'how many countries world wide ban the bible',\n",
              " 'what are all the jersey numbers worn by sachin tendulkar',\n",
              " 'pets how would a dog react if i tried to lick its face',\n",
              " 'what is the best kitchen faucets',\n",
              " 'why is the olympic medals table sorted by the number of gold medals and not by total points',\n",
              " 'what do women find attractive in men',\n",
              " 'what would be the in-hand salary of pnb jmg scale 1 officer',\n",
              " 'which 2g band 900/1800mhz was sold during 2g spectrum scam',\n",
              " 'how do i change caste from obc to general legally',\n",
              " 'which religion is followed in japan',\n",
              " 'is seatgiantcom legit',\n",
              " 'whats the origin of share market',\n",
              " 'can airport security scanners detect diamonds',\n",
              " 'what is the correct use of didnt or dont or doesnt',\n",
              " 'which is the best destination for honeymoon in december within a budget of inr 2 lakhs for a couple',\n",
              " 'how do i collect movie tickets booked on bookmyshow',\n",
              " 'how are the swimming pools of srm how much extra money do we need to pay for that',\n",
              " 'what is the best way to study human anatomy in 1st year mbbs',\n",
              " 'what are the recommended hardware for android studio',\n",
              " 'what are the chances of spot round in 2016 by josaa',\n",
              " 'what is the corporate culture like at burlington stores how is the culture different than other companies',\n",
              " 'what is a communication network how are they used and what are some examples',\n",
              " 'what is done in bariatric surgery',\n",
              " 'i am 23years old and my rate of tolerance is decreasing a lot day by day kindly help me',\n",
              " 'why did i wake up with a swollen lip',\n",
              " 'only a sith deals in absolutes is this not a sith phrase',\n",
              " 'what are best practices for deeply nested components with react and redux',\n",
              " 'are tea leaves edible if so why arent they eaten more often if not what harmful effects do they have and how come those effects are not present in teas',\n",
              " 'why are skateboard wheels so small',\n",
              " 'what are the things you should do for your best friend',\n",
              " 'what is the “presidential reference”',\n",
              " 'does editing a comment on facebook send out a notification',\n",
              " 'whats the loudest someone is allowed to scream into anothers ear boot camp loud or something less',\n",
              " 'dual headlight for bike in bangalore',\n",
              " 'how can i get rid of cellulite in two months',\n",
              " 'is it possible to update a website in if yes then how',\n",
              " 'what is the [math]\\\\sqrt{-\\\\dfrac{1}{2}}[/math]',\n",
              " 'how does windows phone compare to android and ios',\n",
              " 'are there any antibiotics that can be purchased over the counter',\n",
              " 'why do the un and almost all the countries consider tel aviv as the capital city of israel',\n",
              " 'is radio advertising effective for startups can anyone tell me how to advertise in radio',\n",
              " 'what kind of programmer will be in shortage in the future',\n",
              " 'what are the best sites to book online tickets besides book my show',\n",
              " 'is bigbasket good place to work ',\n",
              " 'why do some people hate the times of india',\n",
              " 'how do i find a job for post of an odoo developer as a mca fresher in ahmedabad',\n",
              " 'is bread responsible for causing type 2 diabetes',\n",
              " 'how can i become a conductor',\n",
              " 'i am not able to connect to my apple id from my phone im getting an error and cannot connect to the itunes store what should i do',\n",
              " 'why does temperature decrease with increase in altitude',\n",
              " 'what is best for start-ups for a student',\n",
              " 'where do i get pokémon go',\n",
              " 'what do you think of president alassane ouattara being elected for a second term',\n",
              " 'what is the scientific name for the blue rose with sparkling gold tips on the petals',\n",
              " 'how much would it cost to construct 1240 sqft area rcc slab',\n",
              " 'should i wait or move on from a girl who claims that she has feelings for me but dont want a relationship right now',\n",
              " 'how do i score above 90% in class 11 ',\n",
              " 'got placed in tcs cognizant infosys wipro and ey i am thinking to go with ey what is the career growth in it as an associate software engineer',\n",
              " 'is jio sim working by towers or satellite',\n",
              " 'why is it so hard to not judge a step daughter when i raised my own kids and others without a problem',\n",
              " 'what are some good books to read about ancient china history',\n",
              " 'what is the consumption of sweet potato per capita by country',\n",
              " 'who is behind swappedincom',\n",
              " 'what is it like to work at sales and analytics at bloomberg',\n",
              " 'why do the british spend so much money and time on their royals',\n",
              " 'what do shih tzu/bulldog mix dogs look like',\n",
              " 'what are some websites like snapzucom',\n",
              " 'who designed gojeecom',\n",
              " 'what types of expenses are appropriately included in demobilization costs',\n",
              " 'why is the ts pot pressure always 15 times the reactor pressure',\n",
              " 'what are the similarities and differences between a model and a prototype',\n",
              " 'how is josé mourinho doing in manchester united',\n",
              " 'why is the chennai airport maintained in such a bad shape',\n",
              " 'which is the best book about indian struggle for independence',\n",
              " 'can you watch american psycho on netflix',\n",
              " 'why do people discriminate against jews',\n",
              " 'how can i make foreign friends on wechat',\n",
              " 'what wordpress theme is like aboutme',\n",
              " 'what is your review of srm university',\n",
              " 'does iiit bhubaneswar accept jee main marks or rank if marks that i got 161 in mains and i am an outside orrisa obc candidate can i get it',\n",
              " 'what import duties and taxes are applicable on products imported into norway',\n",
              " 'why are almost all answers anonymous in quora',\n",
              " 'is it a sin to steal if you are suffering from kleptomania',\n",
              " 'what is the corporate culture like at farmer brothers how is the culture different than other companies',\n",
              " 'what is lunchbox',\n",
              " 'would you rather the twin towers been hit or the cnn building',\n",
              " 'what is the programming language used to develop windows 10',\n",
              " 'i am a nir i have three properties 2 on my name & 1 on my wife is it my property of wife is bename',\n",
              " 'nintendo 3ds how does streetpass technically work',\n",
              " 'what are some of the words in hindi that cant be translated to english',\n",
              " 'what are the shares between rs10 and rs 50 which can give good returns',\n",
              " 'how many pardons can a president grant',\n",
              " 'is it possible to have only one daily email from quora with a digest of all activity',\n",
              " 'what is marginalism in economics',\n",
              " 'what do you do on a 7-hour trip from stowe vt to montauk ny',\n",
              " 'what is a suitable inpatient drug and alcohol rehab center near mercer county il',\n",
              " 'what is something you know is bad but you do it anyway',\n",
              " 'how can i sleep more',\n",
              " 'are there any crossfit training centres in mysore',\n",
              " 'where should i place a network switch near the router with long cables to the clients or close to the clients with a long cable to the router',\n",
              " 'how become master in database',\n",
              " 'what is the best bank in mexico',\n",
              " 'can i start a sentence with but',\n",
              " 'do human beings have instincts',\n",
              " 'what is the warmest temperature that snow has been recorded at',\n",
              " 'what are some key profitability metrics for freight and logistics companies',\n",
              " 'what is maximum punishment in a ufm case in dtu',\n",
              " 'what is the hardest things about raising children in togo',\n",
              " 'how does an infj deal with loneliness',\n",
              " 'when a guy best friend says sweetheart to you what does it mean',\n",
              " 'where do little people shop for clothes',\n",
              " 'what are some interesting novels for teenagers',\n",
              " 'is quora merging all similar questions',\n",
              " 'why does my mitsubishi lancer make clicking sounds every night at midnight when it is stationary and unused at the time',\n",
              " 'what is the front-end developer salary in chennai',\n",
              " 'what is the answer to a subtraction problem called',\n",
              " 'what is the etymology of the word pussy as a synonym for vagina',\n",
              " 'what happens to a ckwl ticket if it is not confirmed will the amount be refunded',\n",
              " 'can i earn money with uber/ola without driving on my own and also without attaching my own car',\n",
              " 'who won the battle of san juan hill',\n",
              " 'why is it easier to swim in sea water than in fresh water',\n",
              " 'what are some major landforms in texas and how do they compare to the most famous landforms in colorado',\n",
              " 'what does marc andreessen do on the weekends',\n",
              " 'how much time does it take to receive a normal passport in india after printing has been initiated',\n",
              " 'feeling bored what do i do',\n",
              " 'what is pessimism',\n",
              " 'can you list three negative effects of traffic jams or one negative experience you had due to being caught in a traffic jam',\n",
              " 'why do good human beings always have to face problems in their lives',\n",
              " 'how do i multiply two numbers',\n",
              " 'part time jobs in chennai',\n",
              " 'what is a good conversion rate for a website',\n",
              " 'what is it like to be a lesbian in india',\n",
              " 'what are the best and worst feelings in the world',\n",
              " 'is there any notification in gmail that the receiver had read the sent mail like blue ticks in whats app',\n",
              " 'what is a commonwealth and state law',\n",
              " 'how can i stop giving a fuck about anything',\n",
              " 'how can i use omegle on my ipod touch and how is it compared to using roundchat',\n",
              " 'whats it like to date an unattractive girl',\n",
              " 'why do people cheat on their partners',\n",
              " 'how can i learn hungarian in mumbai',\n",
              " 'what are some common myths 2016',\n",
              " 'is jinhao 599 a good pen',\n",
              " 'when should i lose my virginity to a guy',\n",
              " 'is there a difference between classical singing and opera',\n",
              " 'how can i bulk delete my tweets',\n",
              " 'what are the top 10 best special education schools around the world',\n",
              " 'whats romance like',\n",
              " 'how can i get a write-up on websites like buzzfeed huffington post business insider',\n",
              " 'nightlife is it legal discrimination when bars and clubs allow women to dance on pedastols but do not allow men to do the same',\n",
              " 'i have an iphone 4s should i upgrade to iphone 7',\n",
              " 'can time difference between two places be greater than 24 hours',\n",
              " 'what are the differences between bootstrap and angularjs',\n",
              " 'who is the best enfp person that is known',\n",
              " 'how is bill gates richer than steve jobs though apple is a more valuable company compared to microsoft',\n",
              " 'who was jesus and why was he born',\n",
              " 'magnetic induction how exactly can magnets generate electricity',\n",
              " 'what is the best way to make notes for upsc',\n",
              " 'if all matter has dual ie particle and wave character does it include macro objects also',\n",
              " 'what is the best way to commute between jfk and manhattan',\n",
              " 'did joe rogan ever fight professionally',\n",
              " 'why is weed legal in n korea',\n",
              " 'what is the salary for an account executive',\n",
              " 'why do the majority of liberals attack anyone with an opposing view instead of constructing an argument/positive aspect to argue',\n",
              " 'who is founder of filmybabacom',\n",
              " 'what is the average price range for a smartphone unlocking service in the us',\n",
              " 'how do i handle an amazon order that doesnt arrive',\n",
              " 'how can i make my sd card as a default storage for the whatsapp media',\n",
              " 'in the real world how prestigious is the university of michigan as compared to other top-ranked schools',\n",
              " 'are amcat certifications good',\n",
              " 'why do some art teachers and pe teachers take their classes so seriously although in my belief  these subjects are not really classes',\n",
              " ...]"
            ]
          },
          "metadata": {},
          "execution_count": 115
        }
      ]
    },
    {
      "cell_type": "code",
      "source": [
        "tokenizer = Tokenizer()\n",
        "tokenizer.fit_on_texts(filtered_questions1 + filtered_questions2)"
      ],
      "metadata": {
        "id": "fFOZ0ODcTxt2"
      },
      "execution_count": 116,
      "outputs": []
    },
    {
      "cell_type": "code",
      "source": [
        "questions1_sequence = tokenizer.texts_to_sequences(filtered_questions1)\n",
        "questions2_sequence = tokenizer.texts_to_sequences(filtered_questions2)"
      ],
      "metadata": {
        "id": "0QuvzqDBWOMp"
      },
      "execution_count": 119,
      "outputs": []
    },
    {
      "cell_type": "code",
      "source": [
        "MAX"
      ],
      "metadata": {
        "colab": {
          "base_uri": "https://localhost:8080/"
        },
        "id": "u5pDv-KnTWPX",
        "outputId": "b43be13d-66a4-41e2-f2bb-7c162f507298"
      },
      "execution_count": 124,
      "outputs": [
        {
          "output_type": "stream",
          "name": "stderr",
          "text": [
            "IOPub data rate exceeded.\n",
            "The notebook server will temporarily stop sending output\n",
            "to the client in order to avoid crashing it.\n",
            "To change this limit, set the config variable\n",
            "`--NotebookApp.iopub_data_rate_limit`.\n",
            "\n",
            "Current values:\n",
            "NotebookApp.iopub_data_rate_limit=1000000.0 (bytes/sec)\n",
            "NotebookApp.rate_limit_window=3.0 (secs)\n",
            "\n"
          ]
        }
      ]
    },
    {
      "cell_type": "code",
      "source": [
        "MAX_SEQUENCE_LENGTH =31\n",
        "q1_data =pad_sequences(questions1_sequence, maxlen = MAX_SEQUENCE_LENGTH, padding='post')\n",
        "q2_data =pad_sequences(questions2_sequence, maxlen = MAX_SEQUENCE_LENGTH, padding='post')"
      ],
      "metadata": {
        "id": "Kia-UsC5Wknr"
      },
      "execution_count": 125,
      "outputs": []
    },
    {
      "cell_type": "code",
      "source": [
        "q1_data"
      ],
      "metadata": {
        "colab": {
          "base_uri": "https://localhost:8080/"
        },
        "id": "IDhAXVGfX_X7",
        "outputId": "cd7c78bc-0540-44db-9902-2e5a563e8ff0"
      },
      "execution_count": 126,
      "outputs": [
        {
          "output_type": "execute_result",
          "data": {
            "text/plain": [
              "array([[   2,    9,    5, ...,    0,    0,    0],\n",
              "       [  33, 1454,   38, ...,    0,    0,    0],\n",
              "       [   4,    9,    5, ...,    0,    0,    0],\n",
              "       ...,\n",
              "       [   4,   21,    7, ...,    0,    0,    0],\n",
              "       [   2,   21, 7931, ...,    0,    0,    0],\n",
              "       [   9,   15,  311, ...,    0,    0,    0]], dtype=int32)"
            ]
          },
          "metadata": {},
          "execution_count": 126
        }
      ]
    },
    {
      "cell_type": "code",
      "source": [
        "q1_data.shape"
      ],
      "metadata": {
        "colab": {
          "base_uri": "https://localhost:8080/"
        },
        "id": "r8oXpbnUYANh",
        "outputId": "f08c05f3-9f74-465d-d0d7-742d117ad001"
      },
      "execution_count": 127,
      "outputs": [
        {
          "output_type": "execute_result",
          "data": {
            "text/plain": [
              "(298526, 31)"
            ]
          },
          "metadata": {},
          "execution_count": 127
        }
      ]
    },
    {
      "cell_type": "code",
      "source": [
        "word_vocab={}\n",
        "word_vocab = tokenizer.word_index\n",
        "word_vocab[\"<PAD>\"] = 0\n",
        "word_vocab"
      ],
      "metadata": {
        "colab": {
          "base_uri": "https://localhost:8080/"
        },
        "id": "BcIrUQ2xYCCr",
        "outputId": "3907c32f-87b8-4868-b416-8eb9698fe8df"
      },
      "execution_count": 129,
      "outputs": [
        {
          "output_type": "execute_result",
          "data": {
            "text/plain": [
              "{'the': 1,\n",
              " 'what': 2,\n",
              " 'is': 3,\n",
              " 'how': 4,\n",
              " 'i': 5,\n",
              " 'to': 6,\n",
              " 'a': 7,\n",
              " 'in': 8,\n",
              " 'do': 9,\n",
              " 'of': 10,\n",
              " 'are': 11,\n",
              " 'and': 12,\n",
              " 'can': 13,\n",
              " 'for': 14,\n",
              " 'you': 15,\n",
              " 'why': 16,\n",
              " 'best': 17,\n",
              " 'my': 18,\n",
              " 'it': 19,\n",
              " 'on': 20,\n",
              " 'does': 21,\n",
              " 'which': 22,\n",
              " 'be': 23,\n",
              " 'if': 24,\n",
              " 'some': 25,\n",
              " 'or': 26,\n",
              " 'get': 27,\n",
              " 'that': 28,\n",
              " 'have': 29,\n",
              " 'should': 30,\n",
              " 'with': 31,\n",
              " 'your': 32,\n",
              " 'an': 33,\n",
              " 'from': 34,\n",
              " 'india': 35,\n",
              " 'will': 36,\n",
              " 'people': 37,\n",
              " 'who': 38,\n",
              " 'when': 39,\n",
              " 'like': 40,\n",
              " 'good': 41,\n",
              " 'would': 42,\n",
              " 'there': 43,\n",
              " 'at': 44,\n",
              " 'as': 45,\n",
              " 'quora': 46,\n",
              " 'about': 47,\n",
              " 'between': 48,\n",
              " 'most': 49,\n",
              " 'one': 50,\n",
              " 'not': 51,\n",
              " 'way': 52,\n",
              " 'we': 53,\n",
              " 'make': 54,\n",
              " 'did': 55,\n",
              " 'life': 56,\n",
              " 'by': 57,\n",
              " 'where': 58,\n",
              " 'was': 59,\n",
              " 'money': 60,\n",
              " 'any': 61,\n",
              " 'so': 62,\n",
              " 'time': 63,\n",
              " 'me': 64,\n",
              " 'after': 65,\n",
              " 'learn': 66,\n",
              " 'know': 67,\n",
              " 'this': 68,\n",
              " 'they': 69,\n",
              " 'has': 70,\n",
              " 'difference': 71,\n",
              " 'whats': 72,\n",
              " 'new': 73,\n",
              " 'think': 74,\n",
              " 'trump': 75,\n",
              " 'use': 76,\n",
              " 'much': 77,\n",
              " 'am': 78,\n",
              " 'ever': 79,\n",
              " 'indian': 80,\n",
              " 'all': 81,\n",
              " 'many': 82,\n",
              " 'their': 83,\n",
              " 'us': 84,\n",
              " 'work': 85,\n",
              " 'become': 86,\n",
              " 'online': 87,\n",
              " 'find': 88,\n",
              " 'start': 89,\n",
              " 'someone': 90,\n",
              " 'more': 91,\n",
              " 'world': 92,\n",
              " 'than': 93,\n",
              " 'without': 94,\n",
              " 'english': 95,\n",
              " 'better': 96,\n",
              " 'out': 97,\n",
              " 'notes': 98,\n",
              " 'first': 99,\n",
              " '500': 100,\n",
              " 'other': 101,\n",
              " '1000': 102,\n",
              " 'want': 103,\n",
              " 'but': 104,\n",
              " '2016': 105,\n",
              " 'year': 106,\n",
              " 'questions': 107,\n",
              " 'could': 108,\n",
              " 'dont': 109,\n",
              " 'possible': 110,\n",
              " 'donald': 111,\n",
              " 'love': 112,\n",
              " 'job': 113,\n",
              " 'weight': 114,\n",
              " 'up': 115,\n",
              " 'feel': 116,\n",
              " 'mean': 117,\n",
              " 'ways': 118,\n",
              " 'into': 119,\n",
              " 'improve': 120,\n",
              " 'take': 121,\n",
              " 'day': 122,\n",
              " 'really': 123,\n",
              " 'things': 124,\n",
              " 'he': 125,\n",
              " 'were': 126,\n",
              " 'phone': 127,\n",
              " 'go': 128,\n",
              " 'account': 129,\n",
              " 'buy': 130,\n",
              " 'lose': 131,\n",
              " 'engineering': 132,\n",
              " 'its': 133,\n",
              " '2': 134,\n",
              " 'long': 135,\n",
              " 'stop': 136,\n",
              " 'google': 137,\n",
              " 'books': 138,\n",
              " 'person': 139,\n",
              " 'language': 140,\n",
              " 'black': 141,\n",
              " 'number': 142,\n",
              " 'old': 143,\n",
              " 'used': 144,\n",
              " 'girl': 145,\n",
              " 'being': 146,\n",
              " 'war': 147,\n",
              " 'question': 148,\n",
              " 'sex': 149,\n",
              " 'them': 150,\n",
              " 'thing': 151,\n",
              " 'book': 152,\n",
              " 'compare': 153,\n",
              " 'im': 154,\n",
              " 'business': 155,\n",
              " 'movie': 156,\n",
              " 'her': 157,\n",
              " 'programming': 158,\n",
              " 'need': 159,\n",
              " 'facebook': 160,\n",
              " 'using': 161,\n",
              " 'president': 162,\n",
              " 'his': 163,\n",
              " 'years': 164,\n",
              " 'been': 165,\n",
              " '1': 166,\n",
              " 'happen': 167,\n",
              " 'different': 168,\n",
              " 'movies': 169,\n",
              " 'free': 170,\n",
              " 'now': 171,\n",
              " '3': 172,\n",
              " 'see': 173,\n",
              " 'help': 174,\n",
              " 'just': 175,\n",
              " 'under': 176,\n",
              " 'ask': 177,\n",
              " 'hillary': 178,\n",
              " 'had': 179,\n",
              " 'still': 180,\n",
              " 'going': 181,\n",
              " 'rs': 182,\n",
              " 'instagram': 183,\n",
              " 'no': 184,\n",
              " 'change': 185,\n",
              " 'before': 186,\n",
              " 'clinton': 187,\n",
              " 'prepare': 188,\n",
              " 'win': 189,\n",
              " 'increase': 190,\n",
              " 'real': 191,\n",
              " 'examples': 192,\n",
              " 'learning': 193,\n",
              " 'website': 194,\n",
              " 'over': 195,\n",
              " 'company': 196,\n",
              " 'important': 197,\n",
              " 'only': 198,\n",
              " 'system': 199,\n",
              " 'computer': 200,\n",
              " 'college': 201,\n",
              " 'app': 202,\n",
              " 'our': 203,\n",
              " 'live': 204,\n",
              " 'iphone': 205,\n",
              " 'earn': 206,\n",
              " 'women': 207,\n",
              " 'back': 208,\n",
              " 'study': 209,\n",
              " 'country': 210,\n",
              " 'android': 211,\n",
              " 'bad': 212,\n",
              " 'top': 213,\n",
              " 'while': 214,\n",
              " 'read': 215,\n",
              " 'made': 216,\n",
              " 'she': 217,\n",
              " 'energy': 218,\n",
              " 'c': 219,\n",
              " 'data': 220,\n",
              " 'rupee': 221,\n",
              " 'school': 222,\n",
              " 'science': 223,\n",
              " 'government': 224,\n",
              " '10': 225,\n",
              " 'through': 226,\n",
              " 'same': 227,\n",
              " 'two': 228,\n",
              " 'cant': 229,\n",
              " '2017': 230,\n",
              " 'software': 231,\n",
              " 'during': 232,\n",
              " 'water': 233,\n",
              " 'earth': 234,\n",
              " 'mobile': 235,\n",
              " 'exam': 236,\n",
              " 'answer': 237,\n",
              " '5': 238,\n",
              " 'travel': 239,\n",
              " 'card': 240,\n",
              " 'high': 241,\n",
              " 'laptop': 242,\n",
              " 'average': 243,\n",
              " 'anyone': 244,\n",
              " 'give': 245,\n",
              " 'password': 246,\n",
              " 'student': 247,\n",
              " 'math': 248,\n",
              " 'true': 249,\n",
              " 'days': 250,\n",
              " 'getting': 251,\n",
              " 'say': 252,\n",
              " 'men': 253,\n",
              " 'rid': 254,\n",
              " 'right': 255,\n",
              " 'car': 256,\n",
              " 'name': 257,\n",
              " 'doing': 258,\n",
              " 'pakistan': 259,\n",
              " 'web': 260,\n",
              " 'favorite': 261,\n",
              " 'home': 262,\n",
              " 'come': 263,\n",
              " 'career': 264,\n",
              " 'university': 265,\n",
              " 'election': 266,\n",
              " 'china': 267,\n",
              " 'mind': 268,\n",
              " 'word': 269,\n",
              " 'usa': 270,\n",
              " 'tell': 271,\n",
              " 'friends': 272,\n",
              " 'effects': 273,\n",
              " 'youtube': 274,\n",
              " 'own': 275,\n",
              " 'write': 276,\n",
              " 'look': 277,\n",
              " 'hair': 278,\n",
              " 'social': 279,\n",
              " 'then': 280,\n",
              " 'even': 281,\n",
              " 'students': 282,\n",
              " 'relationship': 283,\n",
              " 'companies': 284,\n",
              " 'affect': 285,\n",
              " 'video': 286,\n",
              " 'skills': 287,\n",
              " 'watch': 288,\n",
              " 'done': 289,\n",
              " 'meaning': 290,\n",
              " 'interview': 291,\n",
              " 'girls': 292,\n",
              " 'exist': 293,\n",
              " 'safe': 294,\n",
              " 'eat': 295,\n",
              " 'friend': 296,\n",
              " 'big': 297,\n",
              " 'game': 298,\n",
              " 'place': 299,\n",
              " 'guy': 300,\n",
              " 'him': 301,\n",
              " 'bank': 302,\n",
              " 'man': 303,\n",
              " 'experience': 304,\n",
              " 'off': 305,\n",
              " 'tv': 306,\n",
              " 'food': 307,\n",
              " 'happens': 308,\n",
              " 'places': 309,\n",
              " 'support': 310,\n",
              " 'believe': 311,\n",
              " '4': 312,\n",
              " 'marketing': 313,\n",
              " 'major': 314,\n",
              " 'very': 315,\n",
              " 'future': 316,\n",
              " 'human': 317,\n",
              " 'having': 318,\n",
              " 'working': 319,\n",
              " 'countries': 320,\n",
              " 'chinese': 321,\n",
              " 'doesnt': 322,\n",
              " 'visit': 323,\n",
              " 'whatsapp': 324,\n",
              " 'mechanical': 325,\n",
              " 'service': 326,\n",
              " 'great': 327,\n",
              " 'cost': 328,\n",
              " 'myself': 329,\n",
              " 'email': 330,\n",
              " 'non': 331,\n",
              " 'against': 332,\n",
              " 'test': 333,\n",
              " 'control': 334,\n",
              " 'play': 335,\n",
              " 'history': 336,\n",
              " 'age': 337,\n",
              " 'gmail': 338,\n",
              " 'every': 339,\n",
              " 'next': 340,\n",
              " 'internet': 341,\n",
              " 'end': 342,\n",
              " 'differences': 343,\n",
              " 'too': 344,\n",
              " 'answers': 345,\n",
              " 'fat': 346,\n",
              " 'java': 347,\n",
              " 'download': 348,\n",
              " 'economy': 349,\n",
              " 'state': 350,\n",
              " 'create': 351,\n",
              " 'interesting': 352,\n",
              " 'modi': 353,\n",
              " 'white': 354,\n",
              " 'delhi': 355,\n",
              " 'god': 356,\n",
              " 'body': 357,\n",
              " 'makes': 358,\n",
              " 'last': 359,\n",
              " 'tips': 360,\n",
              " 'engineer': 361,\n",
              " 'states': 362,\n",
              " 'these': 363,\n",
              " 'writing': 364,\n",
              " 'market': 365,\n",
              " 'actually': 366,\n",
              " 'hard': 367,\n",
              " 'universe': 368,\n",
              " 'music': 369,\n",
              " 'united': 370,\n",
              " 'presidential': 371,\n",
              " 'american': 372,\n",
              " 'note': 373,\n",
              " 'never': 374,\n",
              " 'girlfriend': 375,\n",
              " 'class': 376,\n",
              " 'month': 377,\n",
              " '2000': 378,\n",
              " 'youve': 379,\n",
              " 'worth': 380,\n",
              " 'hack': 381,\n",
              " 'ones': 382,\n",
              " 'process': 383,\n",
              " 'power': 384,\n",
              " 'purpose': 385,\n",
              " 'keep': 386,\n",
              " 'around': 387,\n",
              " 'delete': 388,\n",
              " 'available': 389,\n",
              " 'song': 390,\n",
              " 'employees': 391,\n",
              " 'making': 392,\n",
              " 'got': 393,\n",
              " 'series': 394,\n",
              " 'america': 395,\n",
              " 'x': 396,\n",
              " 'reduce': 397,\n",
              " 'self': 398,\n",
              " 'course': 399,\n",
              " 'easily': 400,\n",
              " 'police': 401,\n",
              " 'banning': 402,\n",
              " 'dark': 403,\n",
              " 'die': 404,\n",
              " 'something': 405,\n",
              " 'light': 406,\n",
              " 'traffic': 407,\n",
              " 'deal': 408,\n",
              " 'height': 409,\n",
              " 'digital': 410,\n",
              " 'site': 411,\n",
              " '6': 412,\n",
              " 'idea': 413,\n",
              " 'pay': 414,\n",
              " 'battle': 415,\n",
              " '7': 416,\n",
              " 'salary': 417,\n",
              " 'currency': 418,\n",
              " 'code': 419,\n",
              " 'considered': 420,\n",
              " 'decision': 421,\n",
              " 'ban': 422,\n",
              " 'windows': 423,\n",
              " 'behind': 424,\n",
              " 'always': 425,\n",
              " 'development': 426,\n",
              " 'woman': 427,\n",
              " 'each': 428,\n",
              " 'cat': 429,\n",
              " 'common': 430,\n",
              " 'education': 431,\n",
              " 'happened': 432,\n",
              " 'culture': 433,\n",
              " 'period': 434,\n",
              " 'months': 435,\n",
              " 'reason': 436,\n",
              " 'worst': 437,\n",
              " 'jobs': 438,\n",
              " 'speed': 439,\n",
              " 'parents': 440,\n",
              " 'seen': 441,\n",
              " 'apply': 442,\n",
              " 'hotel': 443,\n",
              " 'space': 444,\n",
              " 'another': 445,\n",
              " 'build': 446,\n",
              " 'services': 447,\n",
              " 'mba': 448,\n",
              " 'cause': 449,\n",
              " 'websites': 450,\n",
              " 'open': 451,\n",
              " 'problem': 452,\n",
              " 'asked': 453,\n",
              " 'post': 454,\n",
              " 'facts': 455,\n",
              " 'list': 456,\n",
              " 'looking': 457,\n",
              " 'games': 458,\n",
              " 'such': 459,\n",
              " 'universities': 460,\n",
              " 'gain': 461,\n",
              " 'today': 462,\n",
              " 'biggest': 463,\n",
              " 'review': 464,\n",
              " 'songs': 465,\n",
              " 'pregnant': 466,\n",
              " 'private': 467,\n",
              " 'type': 468,\n",
              " 'living': 469,\n",
              " 'search': 470,\n",
              " 'well': 471,\n",
              " 'created': 472,\n",
              " 'score': 473,\n",
              " 'instead': 474,\n",
              " 'recover': 475,\n",
              " 'overcome': 476,\n",
              " 'bangalore': 477,\n",
              " 'civil': 478,\n",
              " 'technology': 479,\n",
              " 'ms': 480,\n",
              " 'indians': 481,\n",
              " 'causes': 482,\n",
              " 'hate': 483,\n",
              " 'wrong': 484,\n",
              " 'python': 485,\n",
              " 'apps': 486,\n",
              " 'date': 487,\n",
              " 'stay': 488,\n",
              " 'views': 489,\n",
              " 'current': 490,\n",
              " 'vote': 491,\n",
              " 'design': 492,\n",
              " 'popular': 493,\n",
              " 'show': 494,\n",
              " 'improvement': 495,\n",
              " 'kind': 496,\n",
              " 'able': 497,\n",
              " 'successful': 498,\n",
              " 'join': 499,\n",
              " 'desert': 500,\n",
              " 'public': 501,\n",
              " 'international': 502,\n",
              " 'fast': 503,\n",
              " 'sleep': 504,\n",
              " 'apple': 505,\n",
              " 'call': 506,\n",
              " 'because': 507,\n",
              " 'law': 508,\n",
              " 'found': 509,\n",
              " 'benefits': 510,\n",
              " 'speak': 511,\n",
              " 'sites': 512,\n",
              " 'per': 513,\n",
              " 'run': 514,\n",
              " 'plan': 515,\n",
              " 'management': 516,\n",
              " 'death': 517,\n",
              " 'near': 518,\n",
              " 'main': 519,\n",
              " 'times': 520,\n",
              " 'preparation': 521,\n",
              " 'air': 522,\n",
              " 'stock': 523,\n",
              " 'easiest': 524,\n",
              " 'move': 525,\n",
              " 'order': 526,\n",
              " 'family': 527,\n",
              " 'add': 528,\n",
              " 'fall': 529,\n",
              " 'choose': 530,\n",
              " 'less': 531,\n",
              " 'sydney': 532,\n",
              " 'rupees': 533,\n",
              " 'humans': 534,\n",
              " 'based': 535,\n",
              " 'dog': 536,\n",
              " 'degree': 537,\n",
              " 'safety': 538,\n",
              " 'machine': 539,\n",
              " 'down': 540,\n",
              " 'differ': 541,\n",
              " 'remove': 542,\n",
              " 'suicide': 543,\n",
              " 'media': 544,\n",
              " 'face': 545,\n",
              " 'profile': 546,\n",
              " 'program': 547,\n",
              " 'iit': 548,\n",
              " 'part': 549,\n",
              " 'videos': 550,\n",
              " 'ca': 551,\n",
              " 'story': 552,\n",
              " 'coaching': 553,\n",
              " 'boyfriend': 554,\n",
              " 'visa': 555,\n",
              " 'city': 556,\n",
              " 'startup': 557,\n",
              " 'both': 558,\n",
              " 'child': 559,\n",
              " 'canada': 560,\n",
              " 'products': 561,\n",
              " 'effect': 562,\n",
              " 'porn': 563,\n",
              " 'ias': 564,\n",
              " 'faster': 565,\n",
              " 'health': 566,\n",
              " 'medical': 567,\n",
              " 'ideas': 568,\n",
              " 'theory': 569,\n",
              " 'proposed': 570,\n",
              " 'small': 571,\n",
              " 'distance': 572,\n",
              " 'matter': 573,\n",
              " '20': 574,\n",
              " 'sentence': 575,\n",
              " 'center': 576,\n",
              " 'also': 577,\n",
              " 'easy': 578,\n",
              " 'must': 579,\n",
              " 'gate': 580,\n",
              " 'foreign': 581,\n",
              " 'jee': 582,\n",
              " 'invest': 583,\n",
              " 'drive': 584,\n",
              " 'legal': 585,\n",
              " 'uk': 586,\n",
              " 'pros': 587,\n",
              " 'yourself': 588,\n",
              " 'cons': 589,\n",
              " 'drug': 590,\n",
              " 'e': 591,\n",
              " 'wear': 592,\n",
              " 'point': 593,\n",
              " 'handling': 594,\n",
              " 'precautions': 595,\n",
              " 'called': 596,\n",
              " 'side': 597,\n",
              " 'bollywood': 598,\n",
              " 'level': 599,\n",
              " 'advice': 600,\n",
              " 'grow': 601,\n",
              " 'project': 602,\n",
              " 'majors': 603,\n",
              " 'compared': 604,\n",
              " 'house': 605,\n",
              " 'given': 606,\n",
              " 'didnt': 607,\n",
              " 'product': 608,\n",
              " 'terms': 609,\n",
              " '8': 610,\n",
              " 'quality': 611,\n",
              " 'physics': 612,\n",
              " 'normal': 613,\n",
              " 'languages': 614,\n",
              " 'week': 615,\n",
              " 'impact': 616,\n",
              " 'again': 617,\n",
              " 'others': 618,\n",
              " 'known': 619,\n",
              " 'shotguns': 620,\n",
              " 'options': 621,\n",
              " 'green': 622,\n",
              " 'pro': 623,\n",
              " 'nra': 624,\n",
              " 'form': 625,\n",
              " 'single': 626,\n",
              " 'value': 627,\n",
              " 'follow': 628,\n",
              " 'russia': 629,\n",
              " 'hours': 630,\n",
              " 'rate': 631,\n",
              " 'information': 632,\n",
              " 'guys': 633,\n",
              " 'blog': 634,\n",
              " 'send': 635,\n",
              " 'group': 636,\n",
              " 'germany': 637,\n",
              " 'healthy': 638,\n",
              " 'lot': 639,\n",
              " 'happy': 640,\n",
              " 'field': 641,\n",
              " 'australia': 642,\n",
              " 'famous': 643,\n",
              " 'heard': 644,\n",
              " 'earthquake': 645,\n",
              " 'short': 646,\n",
              " 'view': 647,\n",
              " 'effective': 648,\n",
              " 'security': 649,\n",
              " 'iq': 650,\n",
              " 'research': 651,\n",
              " 'sell': 652,\n",
              " 'studying': 653,\n",
              " 'advantages': 654,\n",
              " 'btech': 655,\n",
              " 'marriage': 656,\n",
              " 'required': 657,\n",
              " 'south': 658,\n",
              " 'kill': 659,\n",
              " 'california': 660,\n",
              " 'talk': 661,\n",
              " 'b': 662,\n",
              " 'anything': 663,\n",
              " 'cell': 664,\n",
              " 'cold': 665,\n",
              " 'started': 666,\n",
              " 'low': 667,\n",
              " 'institute': 668,\n",
              " 'credit': 669,\n",
              " '100': 670,\n",
              " 'inr': 671,\n",
              " 'courses': 672,\n",
              " 'etc': 673,\n",
              " 'full': 674,\n",
              " 'amazon': 675,\n",
              " 'size': 676,\n",
              " '2015': 677,\n",
              " 'night': 678,\n",
              " 'belly': 679,\n",
              " 'force': 680,\n",
              " 'investment': 681,\n",
              " 'deleted': 682,\n",
              " 'application': 683,\n",
              " 'put': 684,\n",
              " 'daily': 685,\n",
              " 'avoid': 686,\n",
              " 'someones': 687,\n",
              " 'general': 688,\n",
              " 'exactly': 689,\n",
              " 'snapchat': 690,\n",
              " 'correct': 691,\n",
              " 'star': 692,\n",
              " 'sim': 693,\n",
              " 'solar': 694,\n",
              " 'needing': 695,\n",
              " 'left': 696,\n",
              " 'marks': 697,\n",
              " 'beautiful': 698,\n",
              " 'lost': 699,\n",
              " 'likes': 700,\n",
              " 'jio': 701,\n",
              " 'narendra': 702,\n",
              " 'corruption': 703,\n",
              " 'dogs': 704,\n",
              " 'similar': 705,\n",
              " 'macbook': 706,\n",
              " 'colleges': 707,\n",
              " 'function': 708,\n",
              " 'mumbai': 709,\n",
              " 'blowing': 710,\n",
              " 'developer': 711,\n",
              " 'develop': 712,\n",
              " 'mass': 713,\n",
              " 'demonetization': 714,\n",
              " 'temperatures': 715,\n",
              " 'blood': 716,\n",
              " '15': 717,\n",
              " 'source': 718,\n",
              " 'reasons': 719,\n",
              " 'infinite': 720,\n",
              " 'solve': 721,\n",
              " 'alcohol': 722,\n",
              " 'loss': 723,\n",
              " 'file': 724,\n",
              " 'quickly': 725,\n",
              " 'three': 726,\n",
              " 'dream': 727,\n",
              " 'messages': 728,\n",
              " 'brain': 729,\n",
              " 'speaking': 730,\n",
              " 'tax': 731,\n",
              " 'picture': 732,\n",
              " 'photos': 733,\n",
              " 'moment': 734,\n",
              " 'pc': 735,\n",
              " 'tech': 736,\n",
              " 'children': 737,\n",
              " 'won': 738,\n",
              " '30': 739,\n",
              " 'those': 740,\n",
              " 'problems': 741,\n",
              " 'coming': 742,\n",
              " 'late': 743,\n",
              " 'gay': 744,\n",
              " 'types': 745,\n",
              " 'depression': 746,\n",
              " 'understand': 747,\n",
              " 'area': 748,\n",
              " 'fix': 749,\n",
              " 'moon': 750,\n",
              " 'set': 751,\n",
              " 'basic': 752,\n",
              " 'isnt': 753,\n",
              " 'care': 754,\n",
              " 'penis': 755,\n",
              " 'electrical': 756,\n",
              " 'communication': 757,\n",
              " 'often': 758,\n",
              " 'term': 759,\n",
              " 'engine': 760,\n",
              " 'prime': 761,\n",
              " 'industry': 762,\n",
              " 'few': 763,\n",
              " 'pass': 764,\n",
              " 'exams': 765,\n",
              " 'north': 766,\n",
              " 'oil': 767,\n",
              " 'japanese': 768,\n",
              " 'words': 769,\n",
              " 'eating': 770,\n",
              " 'fight': 771,\n",
              " 'ex': 772,\n",
              " 'meth': 773,\n",
              " 'turn': 774,\n",
              " 'second': 775,\n",
              " 'hollywood': 776,\n",
              " 'past': 777,\n",
              " 'message': 778,\n",
              " 'religion': 779,\n",
              " 'gold': 780,\n",
              " 'contact': 781,\n",
              " 'everything': 782,\n",
              " 'leave': 783,\n",
              " 'changed': 784,\n",
              " 'text': 785,\n",
              " 'british': 786,\n",
              " 'price': 787,\n",
              " 'share': 788,\n",
              " 'chemical': 789,\n",
              " 'provider': 790,\n",
              " 'everyone': 791,\n",
              " 'users': 792,\n",
              " 'female': 793,\n",
              " 'check': 794,\n",
              " 'married': 795,\n",
              " 'numbers': 796,\n",
              " 'chances': 797,\n",
              " 'opinion': 798,\n",
              " 'meet': 799,\n",
              " 'topics': 800,\n",
              " 'japan': 801,\n",
              " 'male': 802,\n",
              " 'page': 803,\n",
              " 'film': 804,\n",
              " 'bill': 805,\n",
              " '12': 806,\n",
              " 'team': 807,\n",
              " 'mix': 808,\n",
              " 'across': 809,\n",
              " 'party': 810,\n",
              " 'network': 811,\n",
              " 'kerala': 812,\n",
              " 'related': 813,\n",
              " 'rich': 814,\n",
              " 'calculate': 815,\n",
              " 'graduate': 816,\n",
              " 'chance': 817,\n",
              " 'galaxy': 818,\n",
              " 'hire': 819,\n",
              " 'says': 820,\n",
              " 'hyderabad': 821,\n",
              " 'model': 822,\n",
              " 'net': 823,\n",
              " 'americans': 824,\n",
              " 'ios': 825,\n",
              " 'train': 826,\n",
              " 'animals': 827,\n",
              " 'store': 828,\n",
              " 'samsung': 829,\n",
              " 'reading': 830,\n",
              " 'address': 831,\n",
              " 'significance': 832,\n",
              " 'pune': 833,\n",
              " 'likely': 834,\n",
              " 'commit': 835,\n",
              " 'policy': 836,\n",
              " 'enough': 837,\n",
              " 'taken': 838,\n",
              " 'drink': 839,\n",
              " 'resources': 840,\n",
              " 'diet': 841,\n",
              " 'access': 842,\n",
              " 'political': 843,\n",
              " 'offer': 844,\n",
              " 'favourite': 845,\n",
              " 'block': 846,\n",
              " 'personal': 847,\n",
              " 'solution': 848,\n",
              " 'vacuum': 849,\n",
              " 'red': 850,\n",
              " 'break': 851,\n",
              " 'seo': 852,\n",
              " 'marked': 853,\n",
              " 'once': 854,\n",
              " 'training': 855,\n",
              " 'thinking': 856,\n",
              " 'said': 857,\n",
              " 'away': 858,\n",
              " 'office': 859,\n",
              " 'option': 860,\n",
              " 'estate': 861,\n",
              " 'yes': 862,\n",
              " 'uber': 863,\n",
              " 'within': 864,\n",
              " 'boy': 865,\n",
              " 'suitable': 866,\n",
              " 'line': 867,\n",
              " 'studies': 868,\n",
              " 'wife': 869,\n",
              " 'dating': 870,\n",
              " 'taking': 871,\n",
              " 'color': 872,\n",
              " 'greatest': 873,\n",
              " 'smart': 874,\n",
              " 'explain': 875,\n",
              " 'national': 876,\n",
              " 'smartphone': 877,\n",
              " 'letter': 878,\n",
              " 'masters': 879,\n",
              " 'anxiety': 880,\n",
              " 'photo': 881,\n",
              " 'blocked': 882,\n",
              " 'hindi': 883,\n",
              " 'limit': 884,\n",
              " 'paid': 885,\n",
              " 'property': 886,\n",
              " 'attack': 887,\n",
              " 'obama': 888,\n",
              " 'pain': 889,\n",
              " 'muslims': 890,\n",
              " 'already': 891,\n",
              " 'scope': 892,\n",
              " 'elections': 893,\n",
              " 'simple': 894,\n",
              " 'transfer': 895,\n",
              " 'imported': 896,\n",
              " 'evidence': 897,\n",
              " 'allowed': 898,\n",
              " '9': 899,\n",
              " 'please': 900,\n",
              " 'linux': 901,\n",
              " 'method': 902,\n",
              " 'since': 903,\n",
              " 'tools': 904,\n",
              " 'nuclear': 905,\n",
              " 'paper': 906,\n",
              " 'viewed': 907,\n",
              " 'difficult': 908,\n",
              " 'least': 909,\n",
              " 'gift': 910,\n",
              " 'candy': 911,\n",
              " 'crush': 912,\n",
              " 'professional': 913,\n",
              " 'knowledge': 914,\n",
              " 'news': 915,\n",
              " 'german': 916,\n",
              " 'convert': 917,\n",
              " 'admission': 918,\n",
              " 'twitter': 919,\n",
              " 'disadvantages': 920,\n",
              " 'taffy': 921,\n",
              " 'tea': 922,\n",
              " 'preparing': 923,\n",
              " 'accounts': 924,\n",
              " 'watching': 925,\n",
              " 'season': 926,\n",
              " 'olympics': 927,\n",
              " 'laws': 928,\n",
              " 'useful': 929,\n",
              " 'flat': 930,\n",
              " 'islam': 931,\n",
              " 'role': 932,\n",
              " 'financial': 933,\n",
              " 'fear': 934,\n",
              " 'singapore': 935,\n",
              " 'track': 936,\n",
              " 'spend': 937,\n",
              " 'let': 938,\n",
              " 'skin': 939,\n",
              " 'presidency': 940,\n",
              " 'board': 941,\n",
              " 'amount': 942,\n",
              " 'negative': 943,\n",
              " 'sun': 944,\n",
              " 'following': 945,\n",
              " 'buying': 946,\n",
              " 'final': 947,\n",
              " 'try': 948,\n",
              " 'character': 949,\n",
              " 'western': 950,\n",
              " 'trumps': 951,\n",
              " 'europe': 952,\n",
              " 'army': 953,\n",
              " 'charge': 954,\n",
              " 'here': 955,\n",
              " 'pictures': 956,\n",
              " 'youre': 957,\n",
              " 'bang': 958,\n",
              " 'minister': 959,\n",
              " 'followers': 960,\n",
              " 'smoking': 961,\n",
              " 'balance': 962,\n",
              " 'strategy': 963,\n",
              " 'determine': 964,\n",
              " 'towards': 965,\n",
              " 'internship': 966,\n",
              " 'wants': 967,\n",
              " 'fake': 968,\n",
              " 'masturbation': 969,\n",
              " 'natural': 970,\n",
              " 'reset': 971,\n",
              " 'income': 972,\n",
              " 'phones': 973,\n",
              " 'personality': 974,\n",
              " 'exercise': 975,\n",
              " 'coding': 976,\n",
              " 'screen': 977,\n",
              " 'officer': 978,\n",
              " 'capital': 979,\n",
              " 'cut': 980,\n",
              " 'beginner': 981,\n",
              " 'currently': 982,\n",
              " '16': 983,\n",
              " '50': 984,\n",
              " 'memory': 985,\n",
              " 'close': 986,\n",
              " 'funniest': 987,\n",
              " 'blue': 988,\n",
              " 'structure': 989,\n",
              " 'necessary': 990,\n",
              " 'interested': 991,\n",
              " 'resolutions': 992,\n",
              " 'works': 993,\n",
              " 'early': 994,\n",
              " 'starting': 995,\n",
              " 'ive': 996,\n",
              " 'feeling': 997,\n",
              " 'spotify': 998,\n",
              " 'phd': 999,\n",
              " 'vs': 1000,\n",
              " ...}"
            ]
          },
          "metadata": {},
          "execution_count": 129
        }
      ]
    },
    {
      "cell_type": "code",
      "source": [
        "labels = np.array(train_data['is_duplicate'], dtype = int) ; labels.shape"
      ],
      "metadata": {
        "colab": {
          "base_uri": "https://localhost:8080/"
        },
        "id": "HjZp6YaMYKsx",
        "outputId": "f906f796-c834-45cd-a3fa-c66c608a2856"
      },
      "execution_count": 132,
      "outputs": [
        {
          "output_type": "execute_result",
          "data": {
            "text/plain": [
              "(298526,)"
            ]
          },
          "metadata": {},
          "execution_count": 132
        }
      ]
    },
    {
      "cell_type": "code",
      "source": [
        "data_configs = {}\n",
        "data_configs['vocab'] = word_vocab\n",
        "data_configs['vocab_size'] = len(word_vocab) ; \n",
        "print(len(word_vocab))"
      ],
      "metadata": {
        "colab": {
          "base_uri": "https://localhost:8080/"
        },
        "id": "5lhreNj5YR6p",
        "outputId": "c2c441d9-ffbb-4d45-f185-9a0915001028"
      },
      "execution_count": 134,
      "outputs": [
        {
          "output_type": "stream",
          "name": "stdout",
          "text": [
            "76171\n"
          ]
        }
      ]
    },
    {
      "cell_type": "code",
      "source": [
        "# 저장 옵션 설정하기\n",
        "TRAIN_Q1_DATA = 'q1_train.npy'\n",
        "TRAIN_Q2_DATA = 'q2_train.npy'\n",
        "TRAIN_LABEL_DATA = 'label_train.npy'\n",
        "DATA_CONFIGS = 'data_configs.npy'\n",
        "\n",
        "np.save(open(DATA_IN_PATH + TRAIN_Q1_DATA , 'wb'), q1_data)\n",
        "np.save(open(DATA_IN_PATH + TRAIN_Q2_DATA , 'wb'), q2_data)\n",
        "np.save(open(DATA_IN_PATH + TRAIN_LABEL_DATA , 'wb'), labels)\n",
        "\n",
        "json.dump(data_configs, open(DATA_IN_PATH + DATA_CONFIGS, 'w'))\n",
        "# 질문과 라벨 데이터를 저장\n",
        "# 딕셔너리 형태의 데이터 정보는 json파일로 저장함\n",
        "# 전처리 완료!!"
      ],
      "metadata": {
        "id": "uH9Y5MbmYhv2"
      },
      "execution_count": 136,
      "outputs": []
    },
    {
      "cell_type": "code",
      "source": [
        "# 평가데이터에 대해서도 앞의 전처리 \n",
        "test_data = pd.read_csv(DATA_IN_PATH + 'test.csv', encoding= 'utf-8')\n",
        "print(test_data.head())\n",
        "print(test_data.shape)"
      ],
      "metadata": {
        "colab": {
          "base_uri": "https://localhost:8080/"
        },
        "id": "G5hq8NobZGyb",
        "outputId": "9a7243d4-0883-47a4-d088-9a2be2164007"
      },
      "execution_count": 149,
      "outputs": [
        {
          "output_type": "stream",
          "name": "stdout",
          "text": [
            "   test_id  ...                                          question2\n",
            "0        0  ...  Why did Microsoft choose core m3 and not core ...\n",
            "1        1  ...        How much cost does hair transplant require?\n",
            "2        2  ...                      What you send money to China?\n",
            "3        3  ...                                  What foods fibre?\n",
            "4        4  ...                     How their can I start reading?\n",
            "\n",
            "[5 rows x 3 columns]\n",
            "(2345796, 3)\n"
          ]
        }
      ]
    },
    {
      "cell_type": "code",
      "source": [
        "test_data.test_id"
      ],
      "metadata": {
        "colab": {
          "base_uri": "https://localhost:8080/"
        },
        "id": "HwTB1M7QZyOT",
        "outputId": "ae76d64b-b937-4006-de02-690664674539"
      },
      "execution_count": 140,
      "outputs": [
        {
          "output_type": "execute_result",
          "data": {
            "text/plain": [
              "0                0\n",
              "1                1\n",
              "2                2\n",
              "3                3\n",
              "4                4\n",
              "            ...   \n",
              "2345791    2345791\n",
              "2345792    2345792\n",
              "2345793    2345793\n",
              "2345794    2345794\n",
              "2345795    2345795\n",
              "Name: test_id, Length: 2345796, dtype: int64"
            ]
          },
          "metadata": {},
          "execution_count": 140
        }
      ]
    },
    {
      "cell_type": "code",
      "source": [
        "valid_ids = [type(x) == int  for x in test_data.test_id] ; print(valid_ids)\n",
        "test_data = test_data[valid_ids].drop_duplicates()"
      ],
      "metadata": {
        "colab": {
          "base_uri": "https://localhost:8080/"
        },
        "id": "SD7JD4_TZV70",
        "outputId": "3b4a0f27-3d2a-4f19-a0a9-fc5f812c43b5"
      },
      "execution_count": 145,
      "outputs": [
        {
          "output_type": "stream",
          "name": "stderr",
          "text": [
            "IOPub data rate exceeded.\n",
            "The notebook server will temporarily stop sending output\n",
            "to the client in order to avoid crashing it.\n",
            "To change this limit, set the config variable\n",
            "`--NotebookApp.iopub_data_rate_limit`.\n",
            "\n",
            "Current values:\n",
            "NotebookApp.iopub_data_rate_limit=1000000.0 (bytes/sec)\n",
            "NotebookApp.rate_limit_window=3.0 (secs)\n",
            "\n"
          ]
        }
      ]
    },
    {
      "cell_type": "code",
      "source": [
        "test_data.shape"
      ],
      "metadata": {
        "colab": {
          "base_uri": "https://localhost:8080/"
        },
        "id": "xcvXCxhkZ1RC",
        "outputId": "806d59f5-60b7-4729-bc70-43c785f80fa9"
      },
      "execution_count": 147,
      "outputs": [
        {
          "output_type": "execute_result",
          "data": {
            "text/plain": [
              "(2345796, 3)"
            ]
          },
          "metadata": {},
          "execution_count": 147
        }
      ]
    },
    {
      "cell_type": "code",
      "source": [
        "test_questions1 = [str(s) for s in test_data['question1']]\n",
        "test_questions2 = [str(s) for s in test_data['question2']]\n",
        "\n",
        "filtered_test_questions1 = list()\n",
        "filtered_test_questions2 = list()\n",
        "\n",
        "for q in test_questions1 :\n",
        "  filtered_test_questions1.append(re.sub(change_filter, \"\", q).lower())\n",
        "\n",
        "for q in test_questions2 :\n",
        "  filtered_test_questions2.append(re.sub(change_filter, \"\", q).lower())  "
      ],
      "metadata": {
        "id": "4ChSI3_NaNz9"
      },
      "execution_count": 153,
      "outputs": []
    },
    {
      "cell_type": "code",
      "source": [
        "test_questions1_sequence = tokenizer.texts_to_sequences(filtered_test_questions1)\n",
        "test_questions2_sequence = tokenizer.texts_to_sequences(filtered_test_questions2)\n",
        "\n",
        "test_q1_data = pad_sequences(test_questions1_sequence, maxlen = MAX_SEQUENCE_LENGTH, padding='post')\n",
        "test_q2_data = pad_sequences(test_questions2_sequence, maxlen = MAX_SEQUENCE_LENGTH, padding='post')"
      ],
      "metadata": {
        "id": "8cxqcWAca3By"
      },
      "execution_count": 155,
      "outputs": []
    },
    {
      "cell_type": "code",
      "source": [
        "test_id = np.array(test_data['test_id']) ; test_id"
      ],
      "metadata": {
        "colab": {
          "base_uri": "https://localhost:8080/"
        },
        "id": "0yfw9mGWbQQj",
        "outputId": "2ad358e9-9473-4689-c262-e6b5e0fb2ba1"
      },
      "execution_count": 156,
      "outputs": [
        {
          "output_type": "execute_result",
          "data": {
            "text/plain": [
              "array([      0,       1,       2, ..., 2345793, 2345794, 2345795])"
            ]
          },
          "metadata": {},
          "execution_count": 156
        }
      ]
    },
    {
      "cell_type": "code",
      "source": [
        "print(test_q1_data.shape)\n",
        "print(test_q2_data.shape)\n",
        "print(test_id.shape)\n"
      ],
      "metadata": {
        "colab": {
          "base_uri": "https://localhost:8080/"
        },
        "id": "JDG9KDLnbZME",
        "outputId": "65e63ad7-b25f-452d-e38d-71b36525fb8e"
      },
      "execution_count": 157,
      "outputs": [
        {
          "output_type": "stream",
          "name": "stdout",
          "text": [
            "(2345796, 31)\n",
            "(2345796, 31)\n",
            "(2345796,)\n"
          ]
        }
      ]
    },
    {
      "cell_type": "code",
      "source": [
        "TEST_Q1_DATA = 'test_q1.npy'\n",
        "TEST_Q2_DATA = 'test_q2.npy'\n",
        "TEST_ID_DATA = 'test_id.npy'\n",
        "\n",
        "np.save(open(DATA_IN_PATH + TEST_Q1_DATA, 'wb'), test_q1_data)\n",
        "np.save(open(DATA_IN_PATH + TEST_Q2_DATA, 'wb'), test_q2_data)\n",
        "np.save(open(DATA_IN_PATH + TEST_ID_DATA, 'wb'), test_id)\n"
      ],
      "metadata": {
        "id": "J7989LHrbfHF"
      },
      "execution_count": 158,
      "outputs": []
    },
    {
      "cell_type": "code",
      "source": [
        "# 모델링 : 총 3개의 모델링 할예정 (xg boost, malstm, CNN)\n",
        "# 1. XG 부스트 : 앙상블 모델 중 하나, 부스팅 기법을 사용하는 방법 , 트리 부스팅을 활용한 모델\n",
        "#                 트리 부스팅 방식에 경사 하강법을 통해 최적화하는 방법, 연산량을 줄이기 위해 의사결정 트리를 구성할때 병렬처리를 사용해 빠른 시간에 학습이 가능\n",
        "# 배깅 : 여러개의 학습 알고리즘, 모델을 통해 각각 결과를 예측하고 모든 결과를 동등하게 보고 취합해서 결과를 얻는 방싱, RF도 배깅의 한예임. PARALLEL\n",
        "# 부스팅 : 각 결과를 순차적으로 취합하는데, 단순히 하나씩 취합하는 방법이 아니라 이전 알고리즘, 모델이 학습 후 잘못 예측한 부분에 가중치를 줘서 다시 모델로 가서 학습하는 방식 SEQUENTIAL\n",
        "# 싱글 : CNN, RNN뜽\n",
        "\n",
        "\n"
      ],
      "metadata": {
        "id": "tiRUtMJub3fa"
      },
      "execution_count": 159,
      "outputs": []
    },
    {
      "cell_type": "code",
      "source": [
        "import numpy as np\n",
        "DATA_IN_PATH = '/content/'\n",
        "TRAIN_Q1_DATA = 'q1_train.npy'\n",
        "TRAIN_Q2_DATA = 'q2_train.npy'\n",
        "TRAIN_LABEL_DATA_FILE = 'label_train.npy'\n",
        "\n",
        "train_q1_data = np.load(open(DATA_IN_PATH + TRAIN_Q1_DATA, 'rb'))\n",
        "train_q2_data = np.load(open(DATA_IN_PATH + TRAIN_Q2_DATA, 'rb'))\n",
        "train_labels = np.load(open(DATA_IN_PATH + TRAIN_LABEL_DATA_FILE, 'rb'))\n"
      ],
      "metadata": {
        "id": "IlKdyrtHdEOe"
      },
      "execution_count": 162,
      "outputs": []
    },
    {
      "cell_type": "code",
      "source": [
        "train_input = np.stack((train_q1_data, train_q2_data), axis=1)\n",
        "# stack 두질문을 하나의 쌍으로 만들기,\n",
        "print(train_input.shape) # 29만개 데이터, 2개의 질문 각각 길이가 31\n",
        "print(train_input)"
      ],
      "metadata": {
        "colab": {
          "base_uri": "https://localhost:8080/"
        },
        "id": "tMTyFZD8danx",
        "outputId": "d0513539-661c-433e-9496-fcd362b2a0ac"
      },
      "execution_count": 165,
      "outputs": [
        {
          "output_type": "stream",
          "name": "stdout",
          "text": [
            "(298526, 2, 31)\n",
            "[[[   2    9    5 ...    0    0    0]\n",
            "  [   5 2446   29 ...    0    0    0]]\n",
            "\n",
            " [[  33 1454   38 ...    0    0    0]\n",
            "  [   4    9    5 ...    0    0    0]]\n",
            "\n",
            " [[   4    9    5 ...    0    0    0]\n",
            "  [   2    3    1 ...    0    0    0]]\n",
            "\n",
            " ...\n",
            "\n",
            " [[   4   21    7 ...    0    0    0]\n",
            "  [   4   11  135 ...    0    0    0]]\n",
            "\n",
            " [[   2   21 7931 ...    0    0    0]\n",
            "  [   2   21 7931 ...    0    0    0]]\n",
            "\n",
            " [[   9   15  311 ...    0    0    0]\n",
            "  [   3   19  249 ...    0    0    0]]]\n"
          ]
        }
      ]
    },
    {
      "cell_type": "code",
      "source": [
        "from sklearn.model_selection import train_test_split\n",
        "train_input, eval_input, train_label, eval_label = train_test_split(train_input, train_labels, test_size= 0.2, random_state =4242)"
      ],
      "metadata": {
        "id": "mHde5d8ajOOM"
      },
      "execution_count": 166,
      "outputs": []
    },
    {
      "cell_type": "code",
      "source": [
        "import xgboost as xgb\n",
        "train_data = xgb.DMatrix(train_input.sum(axis=1), label =train_label)\n",
        "eval_data = xgb.DMatrix(eval_input.sum(axis=1), label= eval_label)\n",
        "# xgb라이버리리의 데이터 형식이 dmatrix형태로 만들어야함\n",
        "# 적용과정에서 sum함수를 사용\n",
        "# 각데이터의 두 질문을 하나의 값으로 만들어 주기 위해서임\n",
        "# 두개의 데이터를 묶어서\n",
        "#하나의 리스트로 만든다\n",
        "data_list = [(train_data , 'train'), (eval_data, 'valid')]\n"
      ],
      "metadata": {
        "colab": {
          "base_uri": "https://localhost:8080/"
        },
        "id": "F_R4AprLjmc1",
        "outputId": "38c8d3ff-fc83-4ab9-f1e7-6784e05019e8"
      },
      "execution_count": 170,
      "outputs": [
        {
          "output_type": "stream",
          "name": "stdout",
          "text": [
            "<xgboost.core.DMatrix object at 0x7f4c6e41bd50>\n"
          ]
        }
      ]
    },
    {
      "cell_type": "code",
      "source": [
        "data_list"
      ],
      "metadata": {
        "colab": {
          "base_uri": "https://localhost:8080/"
        },
        "id": "QMj_yMDFkIdU",
        "outputId": "02dc7347-4cd7-4655-eeee-b367cb81c1b1"
      },
      "execution_count": 171,
      "outputs": [
        {
          "output_type": "execute_result",
          "data": {
            "text/plain": [
              "[(<xgboost.core.DMatrix at 0x7f4c6e41bd50>, 'train'),\n",
              " (<xgboost.core.DMatrix at 0x7f4c6e41b350>, 'valid')]"
            ]
          },
          "metadata": {},
          "execution_count": 171
        }
      ]
    },
    {
      "cell_type": "code",
      "source": [
        "params={}\n",
        "params['objective'] ='binary:logistic'  #목적함수\n",
        "params['eval_metric'] = 'rmse' # 평가지표  root mean square error"
      ],
      "metadata": {
        "id": "G_WGFjbAkEYl"
      },
      "execution_count": 172,
      "outputs": []
    },
    {
      "cell_type": "code",
      "source": [
        "bst = xgb.train(params, train_data, num_boost_round=1000, evals=data_list, early_stopping_rounds=10)  # epochs 1000, 조기멈춤 10"
      ],
      "metadata": {
        "colab": {
          "base_uri": "https://localhost:8080/"
        },
        "id": "pSkPdg-GkTnJ",
        "outputId": "7a8acd6f-8baa-4f7d-8ea8-efdaf4e08ede"
      },
      "execution_count": 173,
      "outputs": [
        {
          "output_type": "stream",
          "name": "stdout",
          "text": [
            "[0]\ttrain-rmse:0.483672\tvalid-rmse:0.484319\n",
            "Multiple eval metrics have been passed: 'valid-rmse' will be used for early stopping.\n",
            "\n",
            "Will train until valid-rmse hasn't improved in 10 rounds.\n",
            "[1]\ttrain-rmse:0.47349\tvalid-rmse:0.474528\n",
            "[2]\ttrain-rmse:0.466694\tvalid-rmse:0.468082\n",
            "[3]\ttrain-rmse:0.462016\tvalid-rmse:0.46378\n",
            "[4]\ttrain-rmse:0.457894\tvalid-rmse:0.459979\n",
            "[5]\ttrain-rmse:0.455313\tvalid-rmse:0.45764\n",
            "[6]\ttrain-rmse:0.453077\tvalid-rmse:0.455611\n",
            "[7]\ttrain-rmse:0.451452\tvalid-rmse:0.454219\n",
            "[8]\ttrain-rmse:0.449662\tvalid-rmse:0.452662\n",
            "[9]\ttrain-rmse:0.448382\tvalid-rmse:0.451494\n",
            "[10]\ttrain-rmse:0.447468\tvalid-rmse:0.450645\n",
            "[11]\ttrain-rmse:0.446291\tvalid-rmse:0.449658\n",
            "[12]\ttrain-rmse:0.443799\tvalid-rmse:0.447324\n",
            "[13]\ttrain-rmse:0.443225\tvalid-rmse:0.446876\n",
            "[14]\ttrain-rmse:0.442069\tvalid-rmse:0.445873\n",
            "[15]\ttrain-rmse:0.441639\tvalid-rmse:0.445531\n",
            "[16]\ttrain-rmse:0.441182\tvalid-rmse:0.445203\n",
            "[17]\ttrain-rmse:0.440396\tvalid-rmse:0.444512\n",
            "[18]\ttrain-rmse:0.439899\tvalid-rmse:0.444215\n",
            "[19]\ttrain-rmse:0.438342\tvalid-rmse:0.442796\n",
            "[20]\ttrain-rmse:0.438053\tvalid-rmse:0.442639\n",
            "[21]\ttrain-rmse:0.437737\tvalid-rmse:0.442404\n",
            "[22]\ttrain-rmse:0.437146\tvalid-rmse:0.442123\n",
            "[23]\ttrain-rmse:0.436378\tvalid-rmse:0.441463\n",
            "[24]\ttrain-rmse:0.435986\tvalid-rmse:0.441181\n",
            "[25]\ttrain-rmse:0.435657\tvalid-rmse:0.44095\n",
            "[26]\ttrain-rmse:0.434891\tvalid-rmse:0.440398\n",
            "[27]\ttrain-rmse:0.434657\tvalid-rmse:0.440238\n",
            "[28]\ttrain-rmse:0.4339\tvalid-rmse:0.439631\n",
            "[29]\ttrain-rmse:0.433679\tvalid-rmse:0.439453\n",
            "[30]\ttrain-rmse:0.433148\tvalid-rmse:0.439045\n",
            "[31]\ttrain-rmse:0.433031\tvalid-rmse:0.438965\n",
            "[32]\ttrain-rmse:0.432742\tvalid-rmse:0.438796\n",
            "[33]\ttrain-rmse:0.431869\tvalid-rmse:0.43806\n",
            "[34]\ttrain-rmse:0.430956\tvalid-rmse:0.437304\n",
            "[35]\ttrain-rmse:0.430691\tvalid-rmse:0.437246\n",
            "[36]\ttrain-rmse:0.430444\tvalid-rmse:0.437107\n",
            "[37]\ttrain-rmse:0.430011\tvalid-rmse:0.436797\n",
            "[38]\ttrain-rmse:0.429899\tvalid-rmse:0.436698\n",
            "[39]\ttrain-rmse:0.42957\tvalid-rmse:0.436481\n",
            "[40]\ttrain-rmse:0.429284\tvalid-rmse:0.436246\n",
            "[41]\ttrain-rmse:0.429093\tvalid-rmse:0.436201\n",
            "[42]\ttrain-rmse:0.428493\tvalid-rmse:0.435867\n",
            "[43]\ttrain-rmse:0.428404\tvalid-rmse:0.435835\n",
            "[44]\ttrain-rmse:0.427902\tvalid-rmse:0.435557\n",
            "[45]\ttrain-rmse:0.427471\tvalid-rmse:0.435329\n",
            "[46]\ttrain-rmse:0.427319\tvalid-rmse:0.435267\n",
            "[47]\ttrain-rmse:0.427124\tvalid-rmse:0.435191\n",
            "[48]\ttrain-rmse:0.426894\tvalid-rmse:0.435077\n",
            "[49]\ttrain-rmse:0.426831\tvalid-rmse:0.435033\n",
            "[50]\ttrain-rmse:0.426689\tvalid-rmse:0.434968\n",
            "[51]\ttrain-rmse:0.426528\tvalid-rmse:0.434877\n",
            "[52]\ttrain-rmse:0.426014\tvalid-rmse:0.434557\n",
            "[53]\ttrain-rmse:0.425787\tvalid-rmse:0.434455\n",
            "[54]\ttrain-rmse:0.425598\tvalid-rmse:0.434408\n",
            "[55]\ttrain-rmse:0.425462\tvalid-rmse:0.434342\n",
            "[56]\ttrain-rmse:0.425314\tvalid-rmse:0.434218\n",
            "[57]\ttrain-rmse:0.424882\tvalid-rmse:0.433933\n",
            "[58]\ttrain-rmse:0.424558\tvalid-rmse:0.433823\n",
            "[59]\ttrain-rmse:0.424223\tvalid-rmse:0.433656\n",
            "[60]\ttrain-rmse:0.423737\tvalid-rmse:0.433398\n",
            "[61]\ttrain-rmse:0.423641\tvalid-rmse:0.433366\n",
            "[62]\ttrain-rmse:0.423575\tvalid-rmse:0.433324\n",
            "[63]\ttrain-rmse:0.423531\tvalid-rmse:0.433307\n",
            "[64]\ttrain-rmse:0.423437\tvalid-rmse:0.43325\n",
            "[65]\ttrain-rmse:0.423392\tvalid-rmse:0.433249\n",
            "[66]\ttrain-rmse:0.422937\tvalid-rmse:0.432952\n",
            "[67]\ttrain-rmse:0.422667\tvalid-rmse:0.432914\n",
            "[68]\ttrain-rmse:0.422238\tvalid-rmse:0.432683\n",
            "[69]\ttrain-rmse:0.422087\tvalid-rmse:0.432594\n",
            "[70]\ttrain-rmse:0.421939\tvalid-rmse:0.43252\n",
            "[71]\ttrain-rmse:0.421723\tvalid-rmse:0.432391\n",
            "[72]\ttrain-rmse:0.42132\tvalid-rmse:0.432252\n",
            "[73]\ttrain-rmse:0.421093\tvalid-rmse:0.432178\n",
            "[74]\ttrain-rmse:0.421048\tvalid-rmse:0.432148\n",
            "[75]\ttrain-rmse:0.420654\tvalid-rmse:0.431971\n",
            "[76]\ttrain-rmse:0.420345\tvalid-rmse:0.431859\n",
            "[77]\ttrain-rmse:0.419963\tvalid-rmse:0.431678\n",
            "[78]\ttrain-rmse:0.41955\tvalid-rmse:0.431424\n",
            "[79]\ttrain-rmse:0.419115\tvalid-rmse:0.43125\n",
            "[80]\ttrain-rmse:0.41876\tvalid-rmse:0.431117\n",
            "[81]\ttrain-rmse:0.418366\tvalid-rmse:0.430897\n",
            "[82]\ttrain-rmse:0.418347\tvalid-rmse:0.430882\n",
            "[83]\ttrain-rmse:0.418255\tvalid-rmse:0.430839\n",
            "[84]\ttrain-rmse:0.418216\tvalid-rmse:0.430813\n",
            "[85]\ttrain-rmse:0.418184\tvalid-rmse:0.43079\n",
            "[86]\ttrain-rmse:0.418095\tvalid-rmse:0.430739\n",
            "[87]\ttrain-rmse:0.417689\tvalid-rmse:0.430578\n",
            "[88]\ttrain-rmse:0.417328\tvalid-rmse:0.430374\n",
            "[89]\ttrain-rmse:0.417286\tvalid-rmse:0.430352\n",
            "[90]\ttrain-rmse:0.417232\tvalid-rmse:0.430328\n",
            "[91]\ttrain-rmse:0.417107\tvalid-rmse:0.430267\n",
            "[92]\ttrain-rmse:0.417013\tvalid-rmse:0.430236\n",
            "[93]\ttrain-rmse:0.416612\tvalid-rmse:0.430068\n",
            "[94]\ttrain-rmse:0.416513\tvalid-rmse:0.430016\n",
            "[95]\ttrain-rmse:0.416388\tvalid-rmse:0.429995\n",
            "[96]\ttrain-rmse:0.416332\tvalid-rmse:0.429974\n",
            "[97]\ttrain-rmse:0.416161\tvalid-rmse:0.429932\n",
            "[98]\ttrain-rmse:0.416137\tvalid-rmse:0.429909\n",
            "[99]\ttrain-rmse:0.416083\tvalid-rmse:0.42988\n",
            "[100]\ttrain-rmse:0.416003\tvalid-rmse:0.429882\n",
            "[101]\ttrain-rmse:0.415969\tvalid-rmse:0.429862\n",
            "[102]\ttrain-rmse:0.415661\tvalid-rmse:0.429745\n",
            "[103]\ttrain-rmse:0.415485\tvalid-rmse:0.429642\n",
            "[104]\ttrain-rmse:0.415258\tvalid-rmse:0.429626\n",
            "[105]\ttrain-rmse:0.414946\tvalid-rmse:0.429533\n",
            "[106]\ttrain-rmse:0.41475\tvalid-rmse:0.429487\n",
            "[107]\ttrain-rmse:0.414582\tvalid-rmse:0.42944\n",
            "[108]\ttrain-rmse:0.414558\tvalid-rmse:0.429424\n",
            "[109]\ttrain-rmse:0.414405\tvalid-rmse:0.429406\n",
            "[110]\ttrain-rmse:0.414128\tvalid-rmse:0.429381\n",
            "[111]\ttrain-rmse:0.413884\tvalid-rmse:0.429304\n",
            "[112]\ttrain-rmse:0.413642\tvalid-rmse:0.429186\n",
            "[113]\ttrain-rmse:0.413319\tvalid-rmse:0.429042\n",
            "[114]\ttrain-rmse:0.413228\tvalid-rmse:0.429018\n",
            "[115]\ttrain-rmse:0.413091\tvalid-rmse:0.428998\n",
            "[116]\ttrain-rmse:0.412886\tvalid-rmse:0.428953\n",
            "[117]\ttrain-rmse:0.412698\tvalid-rmse:0.428942\n",
            "[118]\ttrain-rmse:0.412405\tvalid-rmse:0.428855\n",
            "[119]\ttrain-rmse:0.41232\tvalid-rmse:0.428835\n",
            "[120]\ttrain-rmse:0.411981\tvalid-rmse:0.428626\n",
            "[121]\ttrain-rmse:0.41167\tvalid-rmse:0.428492\n",
            "[122]\ttrain-rmse:0.411388\tvalid-rmse:0.428439\n",
            "[123]\ttrain-rmse:0.411311\tvalid-rmse:0.428425\n",
            "[124]\ttrain-rmse:0.411301\tvalid-rmse:0.428415\n",
            "[125]\ttrain-rmse:0.411241\tvalid-rmse:0.428407\n",
            "[126]\ttrain-rmse:0.410908\tvalid-rmse:0.428305\n",
            "[127]\ttrain-rmse:0.41078\tvalid-rmse:0.428314\n",
            "[128]\ttrain-rmse:0.410459\tvalid-rmse:0.428161\n",
            "[129]\ttrain-rmse:0.410427\tvalid-rmse:0.428148\n",
            "[130]\ttrain-rmse:0.410075\tvalid-rmse:0.428008\n",
            "[131]\ttrain-rmse:0.409777\tvalid-rmse:0.427913\n",
            "[132]\ttrain-rmse:0.409631\tvalid-rmse:0.427851\n",
            "[133]\ttrain-rmse:0.409588\tvalid-rmse:0.427848\n",
            "[134]\ttrain-rmse:0.40957\tvalid-rmse:0.42783\n",
            "[135]\ttrain-rmse:0.409479\tvalid-rmse:0.427815\n",
            "[136]\ttrain-rmse:0.409218\tvalid-rmse:0.427698\n",
            "[137]\ttrain-rmse:0.409015\tvalid-rmse:0.42768\n",
            "[138]\ttrain-rmse:0.408831\tvalid-rmse:0.42766\n",
            "[139]\ttrain-rmse:0.408788\tvalid-rmse:0.427641\n",
            "[140]\ttrain-rmse:0.408518\tvalid-rmse:0.427535\n",
            "[141]\ttrain-rmse:0.408313\tvalid-rmse:0.427456\n",
            "[142]\ttrain-rmse:0.407978\tvalid-rmse:0.427428\n",
            "[143]\ttrain-rmse:0.407669\tvalid-rmse:0.427329\n",
            "[144]\ttrain-rmse:0.407616\tvalid-rmse:0.427301\n",
            "[145]\ttrain-rmse:0.407144\tvalid-rmse:0.427041\n",
            "[146]\ttrain-rmse:0.407071\tvalid-rmse:0.427041\n",
            "[147]\ttrain-rmse:0.406754\tvalid-rmse:0.426926\n",
            "[148]\ttrain-rmse:0.406519\tvalid-rmse:0.426878\n",
            "[149]\ttrain-rmse:0.406505\tvalid-rmse:0.426871\n",
            "[150]\ttrain-rmse:0.406494\tvalid-rmse:0.426854\n",
            "[151]\ttrain-rmse:0.406453\tvalid-rmse:0.426839\n",
            "[152]\ttrain-rmse:0.406384\tvalid-rmse:0.42683\n",
            "[153]\ttrain-rmse:0.406227\tvalid-rmse:0.426795\n",
            "[154]\ttrain-rmse:0.406201\tvalid-rmse:0.426785\n",
            "[155]\ttrain-rmse:0.406181\tvalid-rmse:0.42678\n",
            "[156]\ttrain-rmse:0.405973\tvalid-rmse:0.426715\n",
            "[157]\ttrain-rmse:0.405955\tvalid-rmse:0.426703\n",
            "[158]\ttrain-rmse:0.405936\tvalid-rmse:0.426697\n",
            "[159]\ttrain-rmse:0.405867\tvalid-rmse:0.426678\n",
            "[160]\ttrain-rmse:0.405851\tvalid-rmse:0.426659\n",
            "[161]\ttrain-rmse:0.405828\tvalid-rmse:0.426649\n",
            "[162]\ttrain-rmse:0.405803\tvalid-rmse:0.42664\n",
            "[163]\ttrain-rmse:0.405741\tvalid-rmse:0.426644\n",
            "[164]\ttrain-rmse:0.405599\tvalid-rmse:0.426612\n",
            "[165]\ttrain-rmse:0.405481\tvalid-rmse:0.426589\n",
            "[166]\ttrain-rmse:0.405455\tvalid-rmse:0.426578\n",
            "[167]\ttrain-rmse:0.405219\tvalid-rmse:0.426456\n",
            "[168]\ttrain-rmse:0.404974\tvalid-rmse:0.426398\n",
            "[169]\ttrain-rmse:0.404825\tvalid-rmse:0.426363\n",
            "[170]\ttrain-rmse:0.404674\tvalid-rmse:0.42634\n",
            "[171]\ttrain-rmse:0.404662\tvalid-rmse:0.426331\n",
            "[172]\ttrain-rmse:0.404582\tvalid-rmse:0.426318\n",
            "[173]\ttrain-rmse:0.404316\tvalid-rmse:0.426171\n",
            "[174]\ttrain-rmse:0.403995\tvalid-rmse:0.426075\n",
            "[175]\ttrain-rmse:0.403521\tvalid-rmse:0.425769\n",
            "[176]\ttrain-rmse:0.403157\tvalid-rmse:0.425556\n",
            "[177]\ttrain-rmse:0.403071\tvalid-rmse:0.425541\n",
            "[178]\ttrain-rmse:0.402887\tvalid-rmse:0.425477\n",
            "[179]\ttrain-rmse:0.402848\tvalid-rmse:0.425464\n",
            "[180]\ttrain-rmse:0.402559\tvalid-rmse:0.425375\n",
            "[181]\ttrain-rmse:0.402261\tvalid-rmse:0.425238\n",
            "[182]\ttrain-rmse:0.401897\tvalid-rmse:0.425\n",
            "[183]\ttrain-rmse:0.401696\tvalid-rmse:0.424997\n",
            "[184]\ttrain-rmse:0.401686\tvalid-rmse:0.424992\n",
            "[185]\ttrain-rmse:0.401402\tvalid-rmse:0.424852\n",
            "[186]\ttrain-rmse:0.40126\tvalid-rmse:0.424831\n",
            "[187]\ttrain-rmse:0.401083\tvalid-rmse:0.424807\n",
            "[188]\ttrain-rmse:0.40082\tvalid-rmse:0.424774\n",
            "[189]\ttrain-rmse:0.400672\tvalid-rmse:0.424762\n",
            "[190]\ttrain-rmse:0.400664\tvalid-rmse:0.424754\n",
            "[191]\ttrain-rmse:0.400649\tvalid-rmse:0.424748\n",
            "[192]\ttrain-rmse:0.400505\tvalid-rmse:0.424686\n",
            "[193]\ttrain-rmse:0.400462\tvalid-rmse:0.424685\n",
            "[194]\ttrain-rmse:0.400323\tvalid-rmse:0.424659\n",
            "[195]\ttrain-rmse:0.400249\tvalid-rmse:0.424613\n",
            "[196]\ttrain-rmse:0.400058\tvalid-rmse:0.424613\n",
            "[197]\ttrain-rmse:0.399794\tvalid-rmse:0.424539\n",
            "[198]\ttrain-rmse:0.399541\tvalid-rmse:0.424507\n",
            "[199]\ttrain-rmse:0.399343\tvalid-rmse:0.424453\n",
            "[200]\ttrain-rmse:0.39907\tvalid-rmse:0.424329\n",
            "[201]\ttrain-rmse:0.398915\tvalid-rmse:0.424302\n",
            "[202]\ttrain-rmse:0.398882\tvalid-rmse:0.424291\n",
            "[203]\ttrain-rmse:0.398816\tvalid-rmse:0.424294\n",
            "[204]\ttrain-rmse:0.398797\tvalid-rmse:0.424291\n",
            "[205]\ttrain-rmse:0.398773\tvalid-rmse:0.424293\n",
            "[206]\ttrain-rmse:0.398766\tvalid-rmse:0.424287\n",
            "[207]\ttrain-rmse:0.398741\tvalid-rmse:0.424279\n",
            "[208]\ttrain-rmse:0.398543\tvalid-rmse:0.42426\n",
            "[209]\ttrain-rmse:0.398355\tvalid-rmse:0.424231\n",
            "[210]\ttrain-rmse:0.398137\tvalid-rmse:0.424163\n",
            "[211]\ttrain-rmse:0.397843\tvalid-rmse:0.424029\n",
            "[212]\ttrain-rmse:0.397684\tvalid-rmse:0.423949\n",
            "[213]\ttrain-rmse:0.397396\tvalid-rmse:0.423882\n",
            "[214]\ttrain-rmse:0.397091\tvalid-rmse:0.423744\n",
            "[215]\ttrain-rmse:0.39686\tvalid-rmse:0.423677\n",
            "[216]\ttrain-rmse:0.396688\tvalid-rmse:0.423619\n",
            "[217]\ttrain-rmse:0.396442\tvalid-rmse:0.423514\n",
            "[218]\ttrain-rmse:0.396195\tvalid-rmse:0.423425\n",
            "[219]\ttrain-rmse:0.396163\tvalid-rmse:0.423417\n",
            "[220]\ttrain-rmse:0.396136\tvalid-rmse:0.42342\n",
            "[221]\ttrain-rmse:0.396018\tvalid-rmse:0.423395\n",
            "[222]\ttrain-rmse:0.395825\tvalid-rmse:0.423369\n",
            "[223]\ttrain-rmse:0.395633\tvalid-rmse:0.423286\n",
            "[224]\ttrain-rmse:0.395376\tvalid-rmse:0.423175\n",
            "[225]\ttrain-rmse:0.395131\tvalid-rmse:0.423135\n",
            "[226]\ttrain-rmse:0.395009\tvalid-rmse:0.423095\n",
            "[227]\ttrain-rmse:0.394997\tvalid-rmse:0.423085\n",
            "[228]\ttrain-rmse:0.394929\tvalid-rmse:0.423056\n",
            "[229]\ttrain-rmse:0.394924\tvalid-rmse:0.423056\n",
            "[230]\ttrain-rmse:0.394881\tvalid-rmse:0.423056\n",
            "[231]\ttrain-rmse:0.394816\tvalid-rmse:0.423061\n",
            "[232]\ttrain-rmse:0.39462\tvalid-rmse:0.42299\n",
            "[233]\ttrain-rmse:0.39451\tvalid-rmse:0.422973\n",
            "[234]\ttrain-rmse:0.394503\tvalid-rmse:0.422973\n",
            "[235]\ttrain-rmse:0.394476\tvalid-rmse:0.422972\n",
            "[236]\ttrain-rmse:0.394255\tvalid-rmse:0.422917\n",
            "[237]\ttrain-rmse:0.394248\tvalid-rmse:0.422906\n",
            "[238]\ttrain-rmse:0.3942\tvalid-rmse:0.422905\n",
            "[239]\ttrain-rmse:0.393959\tvalid-rmse:0.422814\n",
            "[240]\ttrain-rmse:0.393846\tvalid-rmse:0.422824\n",
            "[241]\ttrain-rmse:0.393825\tvalid-rmse:0.422809\n",
            "[242]\ttrain-rmse:0.393802\tvalid-rmse:0.422813\n",
            "[243]\ttrain-rmse:0.393792\tvalid-rmse:0.422818\n",
            "[244]\ttrain-rmse:0.39377\tvalid-rmse:0.422807\n",
            "[245]\ttrain-rmse:0.393677\tvalid-rmse:0.422772\n",
            "[246]\ttrain-rmse:0.393475\tvalid-rmse:0.422737\n",
            "[247]\ttrain-rmse:0.393251\tvalid-rmse:0.422712\n",
            "[248]\ttrain-rmse:0.393043\tvalid-rmse:0.422661\n",
            "[249]\ttrain-rmse:0.392812\tvalid-rmse:0.422608\n",
            "[250]\ttrain-rmse:0.392568\tvalid-rmse:0.422565\n",
            "[251]\ttrain-rmse:0.392396\tvalid-rmse:0.422541\n",
            "[252]\ttrain-rmse:0.392175\tvalid-rmse:0.422506\n",
            "[253]\ttrain-rmse:0.392017\tvalid-rmse:0.422499\n",
            "[254]\ttrain-rmse:0.391813\tvalid-rmse:0.422492\n",
            "[255]\ttrain-rmse:0.39173\tvalid-rmse:0.422461\n",
            "[256]\ttrain-rmse:0.391612\tvalid-rmse:0.422444\n",
            "[257]\ttrain-rmse:0.391486\tvalid-rmse:0.422449\n",
            "[258]\ttrain-rmse:0.391384\tvalid-rmse:0.422412\n",
            "[259]\ttrain-rmse:0.391191\tvalid-rmse:0.422395\n",
            "[260]\ttrain-rmse:0.391143\tvalid-rmse:0.422388\n",
            "[261]\ttrain-rmse:0.391131\tvalid-rmse:0.422381\n",
            "[262]\ttrain-rmse:0.391101\tvalid-rmse:0.422378\n",
            "[263]\ttrain-rmse:0.390892\tvalid-rmse:0.422332\n",
            "[264]\ttrain-rmse:0.390641\tvalid-rmse:0.422282\n",
            "[265]\ttrain-rmse:0.390485\tvalid-rmse:0.42224\n",
            "[266]\ttrain-rmse:0.390302\tvalid-rmse:0.422234\n",
            "[267]\ttrain-rmse:0.390171\tvalid-rmse:0.422229\n",
            "[268]\ttrain-rmse:0.389944\tvalid-rmse:0.422175\n",
            "[269]\ttrain-rmse:0.389702\tvalid-rmse:0.422166\n",
            "[270]\ttrain-rmse:0.389568\tvalid-rmse:0.42213\n",
            "[271]\ttrain-rmse:0.389553\tvalid-rmse:0.42213\n",
            "[272]\ttrain-rmse:0.389513\tvalid-rmse:0.422147\n",
            "[273]\ttrain-rmse:0.389468\tvalid-rmse:0.422137\n",
            "[274]\ttrain-rmse:0.389458\tvalid-rmse:0.422138\n",
            "[275]\ttrain-rmse:0.389456\tvalid-rmse:0.422141\n",
            "[276]\ttrain-rmse:0.389443\tvalid-rmse:0.422139\n",
            "[277]\ttrain-rmse:0.389199\tvalid-rmse:0.42205\n",
            "[278]\ttrain-rmse:0.388993\tvalid-rmse:0.421962\n",
            "[279]\ttrain-rmse:0.388968\tvalid-rmse:0.421958\n",
            "[280]\ttrain-rmse:0.388929\tvalid-rmse:0.421939\n",
            "[281]\ttrain-rmse:0.388868\tvalid-rmse:0.421945\n",
            "[282]\ttrain-rmse:0.388826\tvalid-rmse:0.421941\n",
            "[283]\ttrain-rmse:0.388789\tvalid-rmse:0.421932\n",
            "[284]\ttrain-rmse:0.388526\tvalid-rmse:0.421922\n",
            "[285]\ttrain-rmse:0.388285\tvalid-rmse:0.421857\n",
            "[286]\ttrain-rmse:0.38808\tvalid-rmse:0.421812\n",
            "[287]\ttrain-rmse:0.388048\tvalid-rmse:0.421812\n",
            "[288]\ttrain-rmse:0.387965\tvalid-rmse:0.421824\n",
            "[289]\ttrain-rmse:0.387955\tvalid-rmse:0.421819\n",
            "[290]\ttrain-rmse:0.387855\tvalid-rmse:0.421817\n",
            "[291]\ttrain-rmse:0.387832\tvalid-rmse:0.421806\n",
            "[292]\ttrain-rmse:0.387686\tvalid-rmse:0.421784\n",
            "[293]\ttrain-rmse:0.387592\tvalid-rmse:0.421781\n",
            "[294]\ttrain-rmse:0.387453\tvalid-rmse:0.421749\n",
            "[295]\ttrain-rmse:0.387174\tvalid-rmse:0.421664\n",
            "[296]\ttrain-rmse:0.386961\tvalid-rmse:0.421598\n",
            "[297]\ttrain-rmse:0.386864\tvalid-rmse:0.421575\n",
            "[298]\ttrain-rmse:0.386592\tvalid-rmse:0.421569\n",
            "[299]\ttrain-rmse:0.386428\tvalid-rmse:0.42156\n",
            "[300]\ttrain-rmse:0.386354\tvalid-rmse:0.421557\n",
            "[301]\ttrain-rmse:0.386346\tvalid-rmse:0.421553\n",
            "[302]\ttrain-rmse:0.386343\tvalid-rmse:0.421551\n",
            "[303]\ttrain-rmse:0.386268\tvalid-rmse:0.421518\n",
            "[304]\ttrain-rmse:0.386249\tvalid-rmse:0.42151\n",
            "[305]\ttrain-rmse:0.386074\tvalid-rmse:0.421481\n",
            "[306]\ttrain-rmse:0.385969\tvalid-rmse:0.421479\n",
            "[307]\ttrain-rmse:0.385832\tvalid-rmse:0.421483\n",
            "[308]\ttrain-rmse:0.385704\tvalid-rmse:0.421449\n",
            "[309]\ttrain-rmse:0.385522\tvalid-rmse:0.421429\n",
            "[310]\ttrain-rmse:0.385349\tvalid-rmse:0.421426\n",
            "[311]\ttrain-rmse:0.385084\tvalid-rmse:0.421339\n",
            "[312]\ttrain-rmse:0.38499\tvalid-rmse:0.421337\n",
            "[313]\ttrain-rmse:0.384897\tvalid-rmse:0.421308\n",
            "[314]\ttrain-rmse:0.384762\tvalid-rmse:0.421302\n",
            "[315]\ttrain-rmse:0.384625\tvalid-rmse:0.421309\n",
            "[316]\ttrain-rmse:0.384602\tvalid-rmse:0.421307\n",
            "[317]\ttrain-rmse:0.384512\tvalid-rmse:0.421298\n",
            "[318]\ttrain-rmse:0.384443\tvalid-rmse:0.421264\n",
            "[319]\ttrain-rmse:0.384365\tvalid-rmse:0.421229\n",
            "[320]\ttrain-rmse:0.384328\tvalid-rmse:0.421234\n",
            "[321]\ttrain-rmse:0.384239\tvalid-rmse:0.421229\n",
            "[322]\ttrain-rmse:0.384057\tvalid-rmse:0.421153\n",
            "[323]\ttrain-rmse:0.384048\tvalid-rmse:0.421156\n",
            "[324]\ttrain-rmse:0.38383\tvalid-rmse:0.421155\n",
            "[325]\ttrain-rmse:0.383633\tvalid-rmse:0.421082\n",
            "[326]\ttrain-rmse:0.383628\tvalid-rmse:0.421076\n",
            "[327]\ttrain-rmse:0.383576\tvalid-rmse:0.421073\n",
            "[328]\ttrain-rmse:0.383497\tvalid-rmse:0.421053\n",
            "[329]\ttrain-rmse:0.383459\tvalid-rmse:0.421056\n",
            "[330]\ttrain-rmse:0.383284\tvalid-rmse:0.421028\n",
            "[331]\ttrain-rmse:0.383092\tvalid-rmse:0.420967\n",
            "[332]\ttrain-rmse:0.382817\tvalid-rmse:0.420824\n",
            "[333]\ttrain-rmse:0.382724\tvalid-rmse:0.420809\n",
            "[334]\ttrain-rmse:0.382691\tvalid-rmse:0.420795\n",
            "[335]\ttrain-rmse:0.382679\tvalid-rmse:0.420792\n",
            "[336]\ttrain-rmse:0.382504\tvalid-rmse:0.420804\n",
            "[337]\ttrain-rmse:0.38222\tvalid-rmse:0.420609\n",
            "[338]\ttrain-rmse:0.38204\tvalid-rmse:0.420574\n",
            "[339]\ttrain-rmse:0.381934\tvalid-rmse:0.420573\n",
            "[340]\ttrain-rmse:0.381684\tvalid-rmse:0.420481\n",
            "[341]\ttrain-rmse:0.381567\tvalid-rmse:0.420428\n",
            "[342]\ttrain-rmse:0.381478\tvalid-rmse:0.420422\n",
            "[343]\ttrain-rmse:0.38132\tvalid-rmse:0.420429\n",
            "[344]\ttrain-rmse:0.381173\tvalid-rmse:0.42039\n",
            "[345]\ttrain-rmse:0.381164\tvalid-rmse:0.420381\n",
            "[346]\ttrain-rmse:0.380993\tvalid-rmse:0.42033\n",
            "[347]\ttrain-rmse:0.380794\tvalid-rmse:0.420306\n",
            "[348]\ttrain-rmse:0.380683\tvalid-rmse:0.420306\n",
            "[349]\ttrain-rmse:0.380678\tvalid-rmse:0.420302\n",
            "[350]\ttrain-rmse:0.3805\tvalid-rmse:0.420262\n",
            "[351]\ttrain-rmse:0.380253\tvalid-rmse:0.420205\n",
            "[352]\ttrain-rmse:0.380105\tvalid-rmse:0.420175\n",
            "[353]\ttrain-rmse:0.379866\tvalid-rmse:0.420132\n",
            "[354]\ttrain-rmse:0.379663\tvalid-rmse:0.420069\n",
            "[355]\ttrain-rmse:0.379476\tvalid-rmse:0.420051\n",
            "[356]\ttrain-rmse:0.379276\tvalid-rmse:0.420002\n",
            "[357]\ttrain-rmse:0.379189\tvalid-rmse:0.419988\n",
            "[358]\ttrain-rmse:0.379048\tvalid-rmse:0.419975\n",
            "[359]\ttrain-rmse:0.37894\tvalid-rmse:0.419972\n",
            "[360]\ttrain-rmse:0.378687\tvalid-rmse:0.419876\n",
            "[361]\ttrain-rmse:0.378473\tvalid-rmse:0.419839\n",
            "[362]\ttrain-rmse:0.378325\tvalid-rmse:0.419843\n",
            "[363]\ttrain-rmse:0.37825\tvalid-rmse:0.41984\n",
            "[364]\ttrain-rmse:0.378146\tvalid-rmse:0.419838\n",
            "[365]\ttrain-rmse:0.378128\tvalid-rmse:0.419834\n",
            "[366]\ttrain-rmse:0.378114\tvalid-rmse:0.419831\n",
            "[367]\ttrain-rmse:0.378064\tvalid-rmse:0.419816\n",
            "[368]\ttrain-rmse:0.377945\tvalid-rmse:0.419821\n",
            "[369]\ttrain-rmse:0.377705\tvalid-rmse:0.419792\n",
            "[370]\ttrain-rmse:0.377585\tvalid-rmse:0.419749\n",
            "[371]\ttrain-rmse:0.377557\tvalid-rmse:0.419738\n",
            "[372]\ttrain-rmse:0.377502\tvalid-rmse:0.419729\n",
            "[373]\ttrain-rmse:0.377397\tvalid-rmse:0.419709\n",
            "[374]\ttrain-rmse:0.377376\tvalid-rmse:0.419699\n",
            "[375]\ttrain-rmse:0.377337\tvalid-rmse:0.419693\n",
            "[376]\ttrain-rmse:0.377334\tvalid-rmse:0.419689\n",
            "[377]\ttrain-rmse:0.377318\tvalid-rmse:0.419687\n",
            "[378]\ttrain-rmse:0.377298\tvalid-rmse:0.419685\n",
            "[379]\ttrain-rmse:0.377145\tvalid-rmse:0.419685\n",
            "[380]\ttrain-rmse:0.376995\tvalid-rmse:0.41965\n",
            "[381]\ttrain-rmse:0.376823\tvalid-rmse:0.419606\n",
            "[382]\ttrain-rmse:0.376614\tvalid-rmse:0.419546\n",
            "[383]\ttrain-rmse:0.376397\tvalid-rmse:0.419517\n",
            "[384]\ttrain-rmse:0.376283\tvalid-rmse:0.419524\n",
            "[385]\ttrain-rmse:0.376128\tvalid-rmse:0.419525\n",
            "[386]\ttrain-rmse:0.376026\tvalid-rmse:0.419528\n",
            "[387]\ttrain-rmse:0.375892\tvalid-rmse:0.419519\n",
            "[388]\ttrain-rmse:0.375819\tvalid-rmse:0.419533\n",
            "[389]\ttrain-rmse:0.375682\tvalid-rmse:0.419494\n",
            "[390]\ttrain-rmse:0.375447\tvalid-rmse:0.419447\n",
            "[391]\ttrain-rmse:0.375307\tvalid-rmse:0.419435\n",
            "[392]\ttrain-rmse:0.375149\tvalid-rmse:0.419437\n",
            "[393]\ttrain-rmse:0.375027\tvalid-rmse:0.419434\n",
            "[394]\ttrain-rmse:0.37492\tvalid-rmse:0.419415\n",
            "[395]\ttrain-rmse:0.374823\tvalid-rmse:0.419406\n",
            "[396]\ttrain-rmse:0.374771\tvalid-rmse:0.419394\n",
            "[397]\ttrain-rmse:0.374674\tvalid-rmse:0.419365\n",
            "[398]\ttrain-rmse:0.374465\tvalid-rmse:0.419416\n",
            "[399]\ttrain-rmse:0.374345\tvalid-rmse:0.41942\n",
            "[400]\ttrain-rmse:0.374201\tvalid-rmse:0.419409\n",
            "[401]\ttrain-rmse:0.374102\tvalid-rmse:0.419385\n",
            "[402]\ttrain-rmse:0.373902\tvalid-rmse:0.419352\n",
            "[403]\ttrain-rmse:0.373786\tvalid-rmse:0.419347\n",
            "[404]\ttrain-rmse:0.373695\tvalid-rmse:0.419356\n",
            "[405]\ttrain-rmse:0.373489\tvalid-rmse:0.41932\n",
            "[406]\ttrain-rmse:0.373343\tvalid-rmse:0.41931\n",
            "[407]\ttrain-rmse:0.373272\tvalid-rmse:0.419295\n",
            "[408]\ttrain-rmse:0.373221\tvalid-rmse:0.419285\n",
            "[409]\ttrain-rmse:0.373136\tvalid-rmse:0.419262\n",
            "[410]\ttrain-rmse:0.373005\tvalid-rmse:0.419222\n",
            "[411]\ttrain-rmse:0.372939\tvalid-rmse:0.419228\n",
            "[412]\ttrain-rmse:0.372798\tvalid-rmse:0.419207\n",
            "[413]\ttrain-rmse:0.372724\tvalid-rmse:0.419191\n",
            "[414]\ttrain-rmse:0.372711\tvalid-rmse:0.419182\n",
            "[415]\ttrain-rmse:0.372542\tvalid-rmse:0.419169\n",
            "[416]\ttrain-rmse:0.372402\tvalid-rmse:0.41916\n",
            "[417]\ttrain-rmse:0.372273\tvalid-rmse:0.419152\n",
            "[418]\ttrain-rmse:0.37221\tvalid-rmse:0.419154\n",
            "[419]\ttrain-rmse:0.372153\tvalid-rmse:0.419127\n",
            "[420]\ttrain-rmse:0.371921\tvalid-rmse:0.419067\n",
            "[421]\ttrain-rmse:0.371788\tvalid-rmse:0.419064\n",
            "[422]\ttrain-rmse:0.371579\tvalid-rmse:0.41907\n",
            "[423]\ttrain-rmse:0.371475\tvalid-rmse:0.419011\n",
            "[424]\ttrain-rmse:0.371461\tvalid-rmse:0.418999\n",
            "[425]\ttrain-rmse:0.371441\tvalid-rmse:0.419\n",
            "[426]\ttrain-rmse:0.371435\tvalid-rmse:0.418994\n",
            "[427]\ttrain-rmse:0.371421\tvalid-rmse:0.418991\n",
            "[428]\ttrain-rmse:0.371312\tvalid-rmse:0.419011\n",
            "[429]\ttrain-rmse:0.37117\tvalid-rmse:0.418997\n",
            "[430]\ttrain-rmse:0.371042\tvalid-rmse:0.41899\n",
            "[431]\ttrain-rmse:0.37098\tvalid-rmse:0.41897\n",
            "[432]\ttrain-rmse:0.37088\tvalid-rmse:0.418966\n",
            "[433]\ttrain-rmse:0.370752\tvalid-rmse:0.418957\n",
            "[434]\ttrain-rmse:0.370596\tvalid-rmse:0.418937\n",
            "[435]\ttrain-rmse:0.370532\tvalid-rmse:0.418903\n",
            "[436]\ttrain-rmse:0.370459\tvalid-rmse:0.418882\n",
            "[437]\ttrain-rmse:0.370317\tvalid-rmse:0.418883\n",
            "[438]\ttrain-rmse:0.370245\tvalid-rmse:0.418883\n",
            "[439]\ttrain-rmse:0.370157\tvalid-rmse:0.418863\n",
            "[440]\ttrain-rmse:0.37013\tvalid-rmse:0.418857\n",
            "[441]\ttrain-rmse:0.369982\tvalid-rmse:0.418826\n",
            "[442]\ttrain-rmse:0.369927\tvalid-rmse:0.418817\n",
            "[443]\ttrain-rmse:0.369886\tvalid-rmse:0.418805\n",
            "[444]\ttrain-rmse:0.369877\tvalid-rmse:0.418803\n",
            "[445]\ttrain-rmse:0.36982\tvalid-rmse:0.418788\n",
            "[446]\ttrain-rmse:0.36981\tvalid-rmse:0.418782\n",
            "[447]\ttrain-rmse:0.369686\tvalid-rmse:0.418773\n",
            "[448]\ttrain-rmse:0.369609\tvalid-rmse:0.41875\n",
            "[449]\ttrain-rmse:0.369469\tvalid-rmse:0.41874\n",
            "[450]\ttrain-rmse:0.369352\tvalid-rmse:0.41873\n",
            "[451]\ttrain-rmse:0.369146\tvalid-rmse:0.41868\n",
            "[452]\ttrain-rmse:0.368984\tvalid-rmse:0.418638\n",
            "[453]\ttrain-rmse:0.368791\tvalid-rmse:0.418597\n",
            "[454]\ttrain-rmse:0.368707\tvalid-rmse:0.418591\n",
            "[455]\ttrain-rmse:0.368531\tvalid-rmse:0.418558\n",
            "[456]\ttrain-rmse:0.368485\tvalid-rmse:0.41857\n",
            "[457]\ttrain-rmse:0.368328\tvalid-rmse:0.418552\n",
            "[458]\ttrain-rmse:0.368322\tvalid-rmse:0.418545\n",
            "[459]\ttrain-rmse:0.368295\tvalid-rmse:0.418549\n",
            "[460]\ttrain-rmse:0.368152\tvalid-rmse:0.418543\n",
            "[461]\ttrain-rmse:0.368122\tvalid-rmse:0.418537\n",
            "[462]\ttrain-rmse:0.367996\tvalid-rmse:0.418512\n",
            "[463]\ttrain-rmse:0.367867\tvalid-rmse:0.418489\n",
            "[464]\ttrain-rmse:0.367794\tvalid-rmse:0.418487\n",
            "[465]\ttrain-rmse:0.367739\tvalid-rmse:0.418488\n",
            "[466]\ttrain-rmse:0.367687\tvalid-rmse:0.418465\n",
            "[467]\ttrain-rmse:0.367497\tvalid-rmse:0.418468\n",
            "[468]\ttrain-rmse:0.367436\tvalid-rmse:0.418471\n",
            "[469]\ttrain-rmse:0.367257\tvalid-rmse:0.418417\n",
            "[470]\ttrain-rmse:0.367149\tvalid-rmse:0.418455\n",
            "[471]\ttrain-rmse:0.367027\tvalid-rmse:0.418423\n",
            "[472]\ttrain-rmse:0.366825\tvalid-rmse:0.418401\n",
            "[473]\ttrain-rmse:0.366753\tvalid-rmse:0.418408\n",
            "[474]\ttrain-rmse:0.366613\tvalid-rmse:0.418387\n",
            "[475]\ttrain-rmse:0.366605\tvalid-rmse:0.418384\n",
            "[476]\ttrain-rmse:0.366591\tvalid-rmse:0.418399\n",
            "[477]\ttrain-rmse:0.366544\tvalid-rmse:0.41839\n",
            "[478]\ttrain-rmse:0.366517\tvalid-rmse:0.41838\n",
            "[479]\ttrain-rmse:0.366456\tvalid-rmse:0.418382\n",
            "[480]\ttrain-rmse:0.36627\tvalid-rmse:0.418307\n",
            "[481]\ttrain-rmse:0.366247\tvalid-rmse:0.418302\n",
            "[482]\ttrain-rmse:0.366203\tvalid-rmse:0.418296\n",
            "[483]\ttrain-rmse:0.366011\tvalid-rmse:0.418239\n",
            "[484]\ttrain-rmse:0.366004\tvalid-rmse:0.418233\n",
            "[485]\ttrain-rmse:0.365885\tvalid-rmse:0.418233\n",
            "[486]\ttrain-rmse:0.365791\tvalid-rmse:0.418278\n",
            "[487]\ttrain-rmse:0.365569\tvalid-rmse:0.418189\n",
            "[488]\ttrain-rmse:0.365361\tvalid-rmse:0.418164\n",
            "[489]\ttrain-rmse:0.365222\tvalid-rmse:0.41816\n",
            "[490]\ttrain-rmse:0.365101\tvalid-rmse:0.418099\n",
            "[491]\ttrain-rmse:0.365003\tvalid-rmse:0.418091\n",
            "[492]\ttrain-rmse:0.364959\tvalid-rmse:0.41806\n",
            "[493]\ttrain-rmse:0.364853\tvalid-rmse:0.418064\n",
            "[494]\ttrain-rmse:0.364823\tvalid-rmse:0.418068\n",
            "[495]\ttrain-rmse:0.364727\tvalid-rmse:0.418042\n",
            "[496]\ttrain-rmse:0.364724\tvalid-rmse:0.418039\n",
            "[497]\ttrain-rmse:0.364705\tvalid-rmse:0.418034\n",
            "[498]\ttrain-rmse:0.364596\tvalid-rmse:0.418051\n",
            "[499]\ttrain-rmse:0.36458\tvalid-rmse:0.418046\n",
            "[500]\ttrain-rmse:0.364502\tvalid-rmse:0.418035\n",
            "[501]\ttrain-rmse:0.36447\tvalid-rmse:0.418033\n",
            "[502]\ttrain-rmse:0.364284\tvalid-rmse:0.418028\n",
            "[503]\ttrain-rmse:0.364185\tvalid-rmse:0.418002\n",
            "[504]\ttrain-rmse:0.364139\tvalid-rmse:0.418002\n",
            "[505]\ttrain-rmse:0.364137\tvalid-rmse:0.418001\n",
            "[506]\ttrain-rmse:0.364078\tvalid-rmse:0.418015\n",
            "[507]\ttrain-rmse:0.364068\tvalid-rmse:0.418018\n",
            "[508]\ttrain-rmse:0.363936\tvalid-rmse:0.418015\n",
            "[509]\ttrain-rmse:0.363825\tvalid-rmse:0.418008\n",
            "[510]\ttrain-rmse:0.363706\tvalid-rmse:0.417994\n",
            "[511]\ttrain-rmse:0.363696\tvalid-rmse:0.417993\n",
            "[512]\ttrain-rmse:0.363627\tvalid-rmse:0.417991\n",
            "[513]\ttrain-rmse:0.363569\tvalid-rmse:0.417995\n",
            "[514]\ttrain-rmse:0.363545\tvalid-rmse:0.417989\n",
            "[515]\ttrain-rmse:0.363493\tvalid-rmse:0.417987\n",
            "[516]\ttrain-rmse:0.363488\tvalid-rmse:0.417989\n",
            "[517]\ttrain-rmse:0.363484\tvalid-rmse:0.417987\n",
            "[518]\ttrain-rmse:0.363471\tvalid-rmse:0.417985\n",
            "[519]\ttrain-rmse:0.363464\tvalid-rmse:0.417985\n",
            "[520]\ttrain-rmse:0.363328\tvalid-rmse:0.417976\n",
            "[521]\ttrain-rmse:0.363106\tvalid-rmse:0.417973\n",
            "[522]\ttrain-rmse:0.362869\tvalid-rmse:0.417919\n",
            "[523]\ttrain-rmse:0.362665\tvalid-rmse:0.417902\n",
            "[524]\ttrain-rmse:0.362536\tvalid-rmse:0.417875\n",
            "[525]\ttrain-rmse:0.362445\tvalid-rmse:0.417845\n",
            "[526]\ttrain-rmse:0.362299\tvalid-rmse:0.417846\n",
            "[527]\ttrain-rmse:0.362151\tvalid-rmse:0.417799\n",
            "[528]\ttrain-rmse:0.36204\tvalid-rmse:0.417792\n",
            "[529]\ttrain-rmse:0.361936\tvalid-rmse:0.417783\n",
            "[530]\ttrain-rmse:0.36185\tvalid-rmse:0.41779\n",
            "[531]\ttrain-rmse:0.361696\tvalid-rmse:0.417774\n",
            "[532]\ttrain-rmse:0.36151\tvalid-rmse:0.417727\n",
            "[533]\ttrain-rmse:0.361485\tvalid-rmse:0.417718\n",
            "[534]\ttrain-rmse:0.361296\tvalid-rmse:0.417671\n",
            "[535]\ttrain-rmse:0.361149\tvalid-rmse:0.417676\n",
            "[536]\ttrain-rmse:0.360949\tvalid-rmse:0.417663\n",
            "[537]\ttrain-rmse:0.360742\tvalid-rmse:0.4176\n",
            "[538]\ttrain-rmse:0.36051\tvalid-rmse:0.417486\n",
            "[539]\ttrain-rmse:0.360357\tvalid-rmse:0.417463\n",
            "[540]\ttrain-rmse:0.360187\tvalid-rmse:0.41746\n",
            "[541]\ttrain-rmse:0.360068\tvalid-rmse:0.417436\n",
            "[542]\ttrain-rmse:0.360024\tvalid-rmse:0.417453\n",
            "[543]\ttrain-rmse:0.359989\tvalid-rmse:0.417448\n",
            "[544]\ttrain-rmse:0.359825\tvalid-rmse:0.417471\n",
            "[545]\ttrain-rmse:0.359647\tvalid-rmse:0.417469\n",
            "[546]\ttrain-rmse:0.359505\tvalid-rmse:0.417476\n",
            "[547]\ttrain-rmse:0.359329\tvalid-rmse:0.417439\n",
            "[548]\ttrain-rmse:0.359158\tvalid-rmse:0.417426\n",
            "[549]\ttrain-rmse:0.358972\tvalid-rmse:0.417387\n",
            "[550]\ttrain-rmse:0.358925\tvalid-rmse:0.417361\n",
            "[551]\ttrain-rmse:0.358852\tvalid-rmse:0.417365\n",
            "[552]\ttrain-rmse:0.358846\tvalid-rmse:0.417357\n",
            "[553]\ttrain-rmse:0.358781\tvalid-rmse:0.417363\n",
            "[554]\ttrain-rmse:0.358613\tvalid-rmse:0.417327\n",
            "[555]\ttrain-rmse:0.3585\tvalid-rmse:0.417316\n",
            "[556]\ttrain-rmse:0.358374\tvalid-rmse:0.417292\n",
            "[557]\ttrain-rmse:0.358311\tvalid-rmse:0.41729\n",
            "[558]\ttrain-rmse:0.358109\tvalid-rmse:0.41731\n",
            "[559]\ttrain-rmse:0.358107\tvalid-rmse:0.417307\n",
            "[560]\ttrain-rmse:0.357899\tvalid-rmse:0.417333\n",
            "[561]\ttrain-rmse:0.357884\tvalid-rmse:0.417332\n",
            "[562]\ttrain-rmse:0.35784\tvalid-rmse:0.41735\n",
            "[563]\ttrain-rmse:0.357835\tvalid-rmse:0.417352\n",
            "[564]\ttrain-rmse:0.357684\tvalid-rmse:0.417339\n",
            "[565]\ttrain-rmse:0.357546\tvalid-rmse:0.417313\n",
            "[566]\ttrain-rmse:0.357445\tvalid-rmse:0.417308\n",
            "[567]\ttrain-rmse:0.357398\tvalid-rmse:0.417298\n",
            "Stopping. Best iteration:\n",
            "[557]\ttrain-rmse:0.358311\tvalid-rmse:0.41729\n",
            "\n"
          ]
        }
      ]
    },
    {
      "cell_type": "code",
      "source": [
        "TEST_Q1_DATA_FILE = 'test_q1.npy'\n",
        "TEST_Q2_DATA_FILE = 'test_q2.npy'\n",
        "TEST_ID_DATA_FILE = 'test_id.npy'\n",
        "\n",
        "test_q1_data = np.load(open(DATA_IN_PATH + TEST_Q1_DATA_FILE, 'rb'))\n",
        "test_q2_data = np.load(open(DATA_IN_PATH + TEST_Q2_DATA_FILE, 'rb'))\n",
        "test_id_data = np.load(open(DATA_IN_PATH + TEST_ID_DATA_FILE, 'rb'))"
      ],
      "metadata": {
        "id": "5G6Tx9hakbfq"
      },
      "execution_count": 174,
      "outputs": []
    },
    {
      "cell_type": "code",
      "source": [
        "test_input = np.stack((test_q1_data, test_q2_data), axis=1)\n",
        "test_data =xgb.DMatrix(test_input.sum(axis=1))\n",
        "test_predict = bst.predict(test_data)\n"
      ],
      "metadata": {
        "id": "BrV2nKcTk6fx"
      },
      "execution_count": 175,
      "outputs": []
    },
    {
      "cell_type": "code",
      "source": [
        "DATA_OUT_PATH ='/content/OUT'\n",
        "if not os.path.exists(DATA_OUT_PATH):\n",
        "  os.makedirs(DATA_OUT_PATH)\n"
      ],
      "metadata": {
        "id": "tgJGSmr3lEjB"
      },
      "execution_count": 177,
      "outputs": []
    },
    {
      "cell_type": "code",
      "source": [
        "output = pd.DataFrame('test_id':test_id_data, 'is_duplicate':test_predict)\n",
        "output.to_csv(DATA_OUT_PATH + 'simple_xgb.csv', index=False)"
      ],
      "metadata": {
        "colab": {
          "base_uri": "https://localhost:8080/",
          "height": 136
        },
        "id": "RMvpEh7jl1jQ",
        "outputId": "ff22bdd7-186e-49ca-9735-c772a173a790"
      },
      "execution_count": 180,
      "outputs": [
        {
          "output_type": "error",
          "ename": "SyntaxError",
          "evalue": "ignored",
          "traceback": [
            "\u001b[0;36m  File \u001b[0;32m\"<ipython-input-180-635432621a9a>\"\u001b[0;36m, line \u001b[0;32m1\u001b[0m\n\u001b[0;31m    output = pd.DataFrame('test_id':test_id_data, 'is_duplicate':test_predict)\u001b[0m\n\u001b[0m                                   ^\u001b[0m\n\u001b[0;31mSyntaxError\u001b[0m\u001b[0;31m:\u001b[0m invalid syntax\n"
          ]
        }
      ]
    },
    {
      "cell_type": "code",
      "source": [
        ""
      ],
      "metadata": {
        "id": "KH9pJTKzmH_4"
      },
      "execution_count": null,
      "outputs": []
    },
    {
      "cell_type": "code",
      "source": [
        ""
      ],
      "metadata": {
        "id": "ntugsT-Al4_E"
      },
      "execution_count": null,
      "outputs": []
    },
    {
      "cell_type": "code",
      "source": [
        ""
      ],
      "metadata": {
        "id": "Qc9Dpu8nlZbp"
      },
      "execution_count": null,
      "outputs": []
    }
  ]
}