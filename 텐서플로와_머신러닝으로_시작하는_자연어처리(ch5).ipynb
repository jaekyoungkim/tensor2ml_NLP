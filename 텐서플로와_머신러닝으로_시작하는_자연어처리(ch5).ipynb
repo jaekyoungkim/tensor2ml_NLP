{
  "nbformat": 4,
  "nbformat_minor": 0,
  "metadata": {
    "colab": {
      "name": "텐서플로와_머신러닝으로_시작하는_자연어처리(ch5).ipynb",
      "provenance": [],
      "collapsed_sections": [],
      "machine_shape": "hm",
      "authorship_tag": "ABX9TyOb7NO4VADCEk+3NDSbWzw5",
      "include_colab_link": true
    },
    "kernelspec": {
      "name": "python3",
      "display_name": "Python 3"
    },
    "language_info": {
      "name": "python"
    },
    "accelerator": "GPU"
  },
  "cells": [
    {
      "cell_type": "markdown",
      "metadata": {
        "id": "view-in-github",
        "colab_type": "text"
      },
      "source": [
        "<a href=\"https://colab.research.google.com/github/jaekyoungkim/tensor2ml_NLP/blob/main/%ED%85%90%EC%84%9C%ED%94%8C%EB%A1%9C%EC%99%80_%EB%A8%B8%EC%8B%A0%EB%9F%AC%EB%8B%9D%EC%9C%BC%EB%A1%9C_%EC%8B%9C%EC%9E%91%ED%95%98%EB%8A%94_%EC%9E%90%EC%97%B0%EC%96%B4%EC%B2%98%EB%A6%AC(ch5).ipynb\" target=\"_parent\"><img src=\"https://colab.research.google.com/assets/colab-badge.svg\" alt=\"Open In Colab\"/></a>"
      ]
    },
    {
      "cell_type": "code",
      "execution_count": 1,
      "metadata": {
        "id": "Z2p6XzN-zcRr"
      },
      "outputs": [],
      "source": [
        "# quora questions pairs 문제\n",
        "# 서비스에 올라온 질문들 중에서 어떤 질문들 서로 유사한지 파악 (영어 데이터만 다룸)\n",
        "# 쿼라 사용자 월 1억명정도 수많은 질문들이 올라옴\n",
        "#kaggle연결\n",
        "\n",
        "# 1. 먼저 본인의 캐글 계정에서 API Token 을 다운받습니다.\n",
        "# 2. Colab 으로 가서 밑의 코드를 실행시킵니다\n",
        "#!pip install kaggle\n",
        "#from google.colab import files\n",
        "#files.upload()\n",
        "# https://medium.com/hyunjulie/%EC%BA%90%EA%B8%80%EA%B3%BC-%EA%B5%AC%EA%B8%80-colab-%EC%97%B0%EA%B2%B0%ED%95%B4%EC%A3%BC%EA%B8%B0-6a274f6de81d 참고하기"
      ]
    },
    {
      "cell_type": "code",
      "source": [
        "# 데이터 불러오기\n",
        "!pip install kaggle"
      ],
      "metadata": {
        "colab": {
          "base_uri": "https://localhost:8080/"
        },
        "id": "X4Vd5EzY6nM0",
        "outputId": "e252bd71-b4a3-459c-92e7-1a7d78b942d7"
      },
      "execution_count": 2,
      "outputs": [
        {
          "output_type": "stream",
          "name": "stdout",
          "text": [
            "Requirement already satisfied: kaggle in /usr/local/lib/python3.7/dist-packages (1.5.12)\n",
            "Requirement already satisfied: urllib3 in /usr/local/lib/python3.7/dist-packages (from kaggle) (1.24.3)\n",
            "Requirement already satisfied: requests in /usr/local/lib/python3.7/dist-packages (from kaggle) (2.23.0)\n",
            "Requirement already satisfied: six>=1.10 in /usr/local/lib/python3.7/dist-packages (from kaggle) (1.15.0)\n",
            "Requirement already satisfied: python-slugify in /usr/local/lib/python3.7/dist-packages (from kaggle) (5.0.2)\n",
            "Requirement already satisfied: tqdm in /usr/local/lib/python3.7/dist-packages (from kaggle) (4.62.3)\n",
            "Requirement already satisfied: certifi in /usr/local/lib/python3.7/dist-packages (from kaggle) (2021.10.8)\n",
            "Requirement already satisfied: python-dateutil in /usr/local/lib/python3.7/dist-packages (from kaggle) (2.8.2)\n",
            "Requirement already satisfied: text-unidecode>=1.3 in /usr/local/lib/python3.7/dist-packages (from python-slugify->kaggle) (1.3)\n",
            "Requirement already satisfied: idna<3,>=2.5 in /usr/local/lib/python3.7/dist-packages (from requests->kaggle) (2.10)\n",
            "Requirement already satisfied: chardet<4,>=3.0.2 in /usr/local/lib/python3.7/dist-packages (from requests->kaggle) (3.0.4)\n"
          ]
        }
      ]
    },
    {
      "cell_type": "code",
      "source": [
        "!pip install --upgrade --force-reinstall --no-deps kaggle"
      ],
      "metadata": {
        "colab": {
          "base_uri": "https://localhost:8080/"
        },
        "id": "NNxUM05eAG5E",
        "outputId": "36737ef2-e912-4112-8852-2511c7015c02"
      },
      "execution_count": 3,
      "outputs": [
        {
          "output_type": "stream",
          "name": "stdout",
          "text": [
            "Collecting kaggle\n",
            "  Downloading kaggle-1.5.12.tar.gz (58 kB)\n",
            "\u001b[?25l\r\u001b[K     |█████▋                          | 10 kB 28.1 MB/s eta 0:00:01\r\u001b[K     |███████████▏                    | 20 kB 18.1 MB/s eta 0:00:01\r\u001b[K     |████████████████▊               | 30 kB 10.1 MB/s eta 0:00:01\r\u001b[K     |██████████████████████▎         | 40 kB 8.2 MB/s eta 0:00:01\r\u001b[K     |███████████████████████████▉    | 51 kB 5.2 MB/s eta 0:00:01\r\u001b[K     |████████████████████████████████| 58 kB 3.1 MB/s \n",
            "\u001b[?25hBuilding wheels for collected packages: kaggle\n",
            "  Building wheel for kaggle (setup.py) ... \u001b[?25l\u001b[?25hdone\n",
            "  Created wheel for kaggle: filename=kaggle-1.5.12-py3-none-any.whl size=73051 sha256=09645e8676bcd6c493afd34ecf3bd30ca6fbf8bbad0a9e8d5188e4a237f5d9b9\n",
            "  Stored in directory: /root/.cache/pip/wheels/62/d6/58/5853130f941e75b2177d281eb7e44b4a98ed46dd155f556dc5\n",
            "Successfully built kaggle\n",
            "Installing collected packages: kaggle\n",
            "  Attempting uninstall: kaggle\n",
            "    Found existing installation: kaggle 1.5.12\n",
            "    Uninstalling kaggle-1.5.12:\n",
            "      Successfully uninstalled kaggle-1.5.12\n",
            "Successfully installed kaggle-1.5.12\n"
          ]
        }
      ]
    },
    {
      "cell_type": "code",
      "source": [
        "from google.colab import files\n",
        "files.upload()"
      ],
      "metadata": {
        "colab": {
          "resources": {
            "http://localhost:8080/nbextensions/google.colab/files.js": {
              "data": "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",
              "ok": true,
              "headers": [
                [
                  "content-type",
                  "application/javascript"
                ]
              ],
              "status": 200,
              "status_text": ""
            }
          },
          "base_uri": "https://localhost:8080/",
          "height": 95
        },
        "id": "8wKrlUWL6pJY",
        "outputId": "3171544e-75ee-427e-bd91-6620407be497"
      },
      "execution_count": 4,
      "outputs": [
        {
          "output_type": "display_data",
          "data": {
            "text/html": [
              "\n",
              "     <input type=\"file\" id=\"files-af74c59a-0621-40e5-a7c0-f51ebe1f5c17\" name=\"files[]\" multiple disabled\n",
              "        style=\"border:none\" />\n",
              "     <output id=\"result-af74c59a-0621-40e5-a7c0-f51ebe1f5c17\">\n",
              "      Upload widget is only available when the cell has been executed in the\n",
              "      current browser session. Please rerun this cell to enable.\n",
              "      </output>\n",
              "      <script src=\"/nbextensions/google.colab/files.js\"></script> "
            ],
            "text/plain": [
              "<IPython.core.display.HTML object>"
            ]
          },
          "metadata": {}
        },
        {
          "output_type": "stream",
          "name": "stdout",
          "text": [
            "Saving kaggle.json to kaggle.json\n"
          ]
        },
        {
          "output_type": "execute_result",
          "data": {
            "text/plain": [
              "{'kaggle.json': b'{\"username\":\"kimjaekyoung\",\"key\":\"3e838f9806be93b88eadf3a7744d40ff\"}'}"
            ]
          },
          "metadata": {},
          "execution_count": 4
        }
      ]
    },
    {
      "cell_type": "code",
      "source": [
        "ls -1ha kaggle.json"
      ],
      "metadata": {
        "colab": {
          "base_uri": "https://localhost:8080/"
        },
        "id": "KgigUxF06tDP",
        "outputId": "75cde73b-4c6f-4f23-e229-251751012c8c"
      },
      "execution_count": 5,
      "outputs": [
        {
          "output_type": "stream",
          "name": "stdout",
          "text": [
            "kaggle.json\n"
          ]
        }
      ]
    },
    {
      "cell_type": "code",
      "source": [
        "!mkdir -p ~/.kaggle\n",
        "!cp kaggle.json ~/.kaggle/\n",
        "# Permission Warning 이 일어나지 않도록 \n",
        "!chmod 600 ~/.kaggle/kaggle.json\n",
        "# 본인이 참가한 모든 대회 보기 \n",
        "!kaggle competitions list\n",
        "\n"
      ],
      "metadata": {
        "colab": {
          "base_uri": "https://localhost:8080/"
        },
        "id": "gR2vmDls7kvJ",
        "outputId": "12b65582-13d1-433d-98d3-fd26fef9a03a"
      },
      "execution_count": 6,
      "outputs": [
        {
          "output_type": "stream",
          "name": "stdout",
          "text": [
            "ref                                            deadline             category            reward  teamCount  userHasEntered  \n",
            "---------------------------------------------  -------------------  ---------------  ---------  ---------  --------------  \n",
            "contradictory-my-dear-watson                   2030-07-01 23:59:00  Getting Started     Prizes         78           False  \n",
            "gan-getting-started                            2030-07-01 23:59:00  Getting Started     Prizes        116           False  \n",
            "store-sales-time-series-forecasting            2030-06-30 23:59:00  Getting Started  Knowledge        863           False  \n",
            "tpu-getting-started                            2030-06-03 23:59:00  Getting Started  Knowledge        174           False  \n",
            "digit-recognizer                               2030-01-01 00:00:00  Getting Started  Knowledge       1891           False  \n",
            "titanic                                        2030-01-01 00:00:00  Getting Started  Knowledge      13737           False  \n",
            "house-prices-advanced-regression-techniques    2030-01-01 00:00:00  Getting Started  Knowledge       5062            True  \n",
            "connectx                                       2030-01-01 00:00:00  Getting Started  Knowledge        222           False  \n",
            "nlp-getting-started                            2030-01-01 00:00:00  Getting Started  Knowledge        857           False  \n",
            "competitive-data-science-predict-future-sales  2022-12-31 23:59:00  Playground           Kudos      13407           False  \n",
            "ubiquant-market-prediction                     2022-04-18 23:59:00  Featured          $100,000        274           False  \n",
            "feedback-prize-2021                            2022-03-15 23:59:00  Featured          $160,000        912           False  \n",
            "tensorflow-great-barrier-reef                  2022-02-14 23:59:00  Research          $150,000       1615           False  \n",
            "jigsaw-toxic-severity-rating                   2022-02-07 23:59:00  Featured           $50,000       2007           False  \n",
            "g-research-crypto-forecasting                  2022-02-01 23:59:00  Featured          $125,000       1860           False  \n",
            "tabular-playground-series-jan-2022             2022-01-31 23:59:00  Playground           Kudos       1207           False  \n",
            "petfinder-pawpularity-score                    2022-01-14 23:59:00  Research           $25,000       3537           False  \n",
            "santa-2021                                     2022-01-12 23:59:00  Featured           $25,000        867           False  \n",
            "optiver-realized-volatility-prediction         2022-01-10 18:36:00  Featured          $100,000       3852           False  \n",
            "nfl-big-data-bowl-2022                         2022-01-06 23:59:00  Analytics         $100,000          0           False  \n"
          ]
        }
      ]
    },
    {
      "cell_type": "code",
      "source": [
        "!mkdir -p ~/.kaggle/ && mv kaggle.json ~/.kaggle/ && chmod 600 ~/.kaggle/kaggle.json"
      ],
      "metadata": {
        "id": "wCkrJJ81AbQY"
      },
      "execution_count": 7,
      "outputs": []
    },
    {
      "cell_type": "code",
      "source": [
        "!kaggle competitions download -c quora-question-pairs"
      ],
      "metadata": {
        "colab": {
          "base_uri": "https://localhost:8080/"
        },
        "id": "z5HKHrHJ7Gga",
        "outputId": "5794877c-1c6a-4b94-a5a9-5e338927742f"
      },
      "execution_count": 8,
      "outputs": [
        {
          "output_type": "stream",
          "name": "stdout",
          "text": [
            "Downloading quora-question-pairs.zip to /content\n",
            " 94% 291M/309M [00:02<00:00, 129MB/s]\n",
            "100% 309M/309M [00:02<00:00, 148MB/s]\n"
          ]
        }
      ]
    },
    {
      "cell_type": "code",
      "source": [
        "!ls"
      ],
      "metadata": {
        "colab": {
          "base_uri": "https://localhost:8080/"
        },
        "id": "5GI9AZtt8PMR",
        "outputId": "738f537c-33bb-41f5-c7b8-9f33b6390f6e"
      },
      "execution_count": 9,
      "outputs": [
        {
          "output_type": "stream",
          "name": "stdout",
          "text": [
            "quora-question-pairs.zip  sample_data\n"
          ]
        }
      ]
    },
    {
      "cell_type": "code",
      "source": [
        "!unzip quora-question-pairs.zip"
      ],
      "metadata": {
        "colab": {
          "base_uri": "https://localhost:8080/"
        },
        "id": "FUTtac0oB_5W",
        "outputId": "f781a75a-66e8-4095-8aa1-e2e5c9cc4669"
      },
      "execution_count": 10,
      "outputs": [
        {
          "output_type": "stream",
          "name": "stdout",
          "text": [
            "Archive:  quora-question-pairs.zip\n",
            "  inflating: sample_submission.csv.zip  \n",
            "  inflating: test.csv                \n",
            "  inflating: test.csv.zip            \n",
            "  inflating: train.csv.zip           \n"
          ]
        }
      ]
    },
    {
      "cell_type": "code",
      "source": [
        "!unzip train.csv.zip\n",
        "!upzip test.csv.zip"
      ],
      "metadata": {
        "colab": {
          "base_uri": "https://localhost:8080/"
        },
        "id": "qD8AlyeOCjvw",
        "outputId": "f212eea2-ad14-462b-9b75-aa0d4936da7b"
      },
      "execution_count": 11,
      "outputs": [
        {
          "output_type": "stream",
          "name": "stdout",
          "text": [
            "Archive:  train.csv.zip\n",
            "  inflating: train.csv               \n",
            "/bin/bash: upzip: command not found\n"
          ]
        }
      ]
    },
    {
      "cell_type": "code",
      "source": [
        "\n",
        "import pandas as pd\n",
        "import numpy as np\n",
        "import os\n",
        "import matplotlib.pyplot as plt\n",
        "import seaborn as sns\n",
        "from pathlib import Path\n",
        "%matplotlib inline\n"
      ],
      "metadata": {
        "id": "jRj-aqCNCFUg"
      },
      "execution_count": 12,
      "outputs": []
    },
    {
      "cell_type": "code",
      "source": [
        "DATA_IN_PATH = '/content/'\n",
        "\n",
        "train_data = pd.read_csv(DATA_IN_PATH + 'train.csv')\n",
        "train_data.head()"
      ],
      "metadata": {
        "colab": {
          "base_uri": "https://localhost:8080/",
          "height": 206
        },
        "id": "iFkaD5LiCVk-",
        "outputId": "db0b7586-9dfe-4304-d017-63f6da4fa0b8"
      },
      "execution_count": 13,
      "outputs": [
        {
          "output_type": "execute_result",
          "data": {
            "text/html": [
              "\n",
              "  <div id=\"df-53ebdd39-854b-4ee2-9f73-6a7704118799\">\n",
              "    <div class=\"colab-df-container\">\n",
              "      <div>\n",
              "<style scoped>\n",
              "    .dataframe tbody tr th:only-of-type {\n",
              "        vertical-align: middle;\n",
              "    }\n",
              "\n",
              "    .dataframe tbody tr th {\n",
              "        vertical-align: top;\n",
              "    }\n",
              "\n",
              "    .dataframe thead th {\n",
              "        text-align: right;\n",
              "    }\n",
              "</style>\n",
              "<table border=\"1\" class=\"dataframe\">\n",
              "  <thead>\n",
              "    <tr style=\"text-align: right;\">\n",
              "      <th></th>\n",
              "      <th>id</th>\n",
              "      <th>qid1</th>\n",
              "      <th>qid2</th>\n",
              "      <th>question1</th>\n",
              "      <th>question2</th>\n",
              "      <th>is_duplicate</th>\n",
              "    </tr>\n",
              "  </thead>\n",
              "  <tbody>\n",
              "    <tr>\n",
              "      <th>0</th>\n",
              "      <td>0</td>\n",
              "      <td>1</td>\n",
              "      <td>2</td>\n",
              "      <td>What is the step by step guide to invest in sh...</td>\n",
              "      <td>What is the step by step guide to invest in sh...</td>\n",
              "      <td>0</td>\n",
              "    </tr>\n",
              "    <tr>\n",
              "      <th>1</th>\n",
              "      <td>1</td>\n",
              "      <td>3</td>\n",
              "      <td>4</td>\n",
              "      <td>What is the story of Kohinoor (Koh-i-Noor) Dia...</td>\n",
              "      <td>What would happen if the Indian government sto...</td>\n",
              "      <td>0</td>\n",
              "    </tr>\n",
              "    <tr>\n",
              "      <th>2</th>\n",
              "      <td>2</td>\n",
              "      <td>5</td>\n",
              "      <td>6</td>\n",
              "      <td>How can I increase the speed of my internet co...</td>\n",
              "      <td>How can Internet speed be increased by hacking...</td>\n",
              "      <td>0</td>\n",
              "    </tr>\n",
              "    <tr>\n",
              "      <th>3</th>\n",
              "      <td>3</td>\n",
              "      <td>7</td>\n",
              "      <td>8</td>\n",
              "      <td>Why am I mentally very lonely? How can I solve...</td>\n",
              "      <td>Find the remainder when [math]23^{24}[/math] i...</td>\n",
              "      <td>0</td>\n",
              "    </tr>\n",
              "    <tr>\n",
              "      <th>4</th>\n",
              "      <td>4</td>\n",
              "      <td>9</td>\n",
              "      <td>10</td>\n",
              "      <td>Which one dissolve in water quikly sugar, salt...</td>\n",
              "      <td>Which fish would survive in salt water?</td>\n",
              "      <td>0</td>\n",
              "    </tr>\n",
              "  </tbody>\n",
              "</table>\n",
              "</div>\n",
              "      <button class=\"colab-df-convert\" onclick=\"convertToInteractive('df-53ebdd39-854b-4ee2-9f73-6a7704118799')\"\n",
              "              title=\"Convert this dataframe to an interactive table.\"\n",
              "              style=\"display:none;\">\n",
              "        \n",
              "  <svg xmlns=\"http://www.w3.org/2000/svg\" height=\"24px\"viewBox=\"0 0 24 24\"\n",
              "       width=\"24px\">\n",
              "    <path d=\"M0 0h24v24H0V0z\" fill=\"none\"/>\n",
              "    <path d=\"M18.56 5.44l.94 2.06.94-2.06 2.06-.94-2.06-.94-.94-2.06-.94 2.06-2.06.94zm-11 1L8.5 8.5l.94-2.06 2.06-.94-2.06-.94L8.5 2.5l-.94 2.06-2.06.94zm10 10l.94 2.06.94-2.06 2.06-.94-2.06-.94-.94-2.06-.94 2.06-2.06.94z\"/><path d=\"M17.41 7.96l-1.37-1.37c-.4-.4-.92-.59-1.43-.59-.52 0-1.04.2-1.43.59L10.3 9.45l-7.72 7.72c-.78.78-.78 2.05 0 2.83L4 21.41c.39.39.9.59 1.41.59.51 0 1.02-.2 1.41-.59l7.78-7.78 2.81-2.81c.8-.78.8-2.07 0-2.86zM5.41 20L4 18.59l7.72-7.72 1.47 1.35L5.41 20z\"/>\n",
              "  </svg>\n",
              "      </button>\n",
              "      \n",
              "  <style>\n",
              "    .colab-df-container {\n",
              "      display:flex;\n",
              "      flex-wrap:wrap;\n",
              "      gap: 12px;\n",
              "    }\n",
              "\n",
              "    .colab-df-convert {\n",
              "      background-color: #E8F0FE;\n",
              "      border: none;\n",
              "      border-radius: 50%;\n",
              "      cursor: pointer;\n",
              "      display: none;\n",
              "      fill: #1967D2;\n",
              "      height: 32px;\n",
              "      padding: 0 0 0 0;\n",
              "      width: 32px;\n",
              "    }\n",
              "\n",
              "    .colab-df-convert:hover {\n",
              "      background-color: #E2EBFA;\n",
              "      box-shadow: 0px 1px 2px rgba(60, 64, 67, 0.3), 0px 1px 3px 1px rgba(60, 64, 67, 0.15);\n",
              "      fill: #174EA6;\n",
              "    }\n",
              "\n",
              "    [theme=dark] .colab-df-convert {\n",
              "      background-color: #3B4455;\n",
              "      fill: #D2E3FC;\n",
              "    }\n",
              "\n",
              "    [theme=dark] .colab-df-convert:hover {\n",
              "      background-color: #434B5C;\n",
              "      box-shadow: 0px 1px 3px 1px rgba(0, 0, 0, 0.15);\n",
              "      filter: drop-shadow(0px 1px 2px rgba(0, 0, 0, 0.3));\n",
              "      fill: #FFFFFF;\n",
              "    }\n",
              "  </style>\n",
              "\n",
              "      <script>\n",
              "        const buttonEl =\n",
              "          document.querySelector('#df-53ebdd39-854b-4ee2-9f73-6a7704118799 button.colab-df-convert');\n",
              "        buttonEl.style.display =\n",
              "          google.colab.kernel.accessAllowed ? 'block' : 'none';\n",
              "\n",
              "        async function convertToInteractive(key) {\n",
              "          const element = document.querySelector('#df-53ebdd39-854b-4ee2-9f73-6a7704118799');\n",
              "          const dataTable =\n",
              "            await google.colab.kernel.invokeFunction('convertToInteractive',\n",
              "                                                     [key], {});\n",
              "          if (!dataTable) return;\n",
              "\n",
              "          const docLinkHtml = 'Like what you see? Visit the ' +\n",
              "            '<a target=\"_blank\" href=https://colab.research.google.com/notebooks/data_table.ipynb>data table notebook</a>'\n",
              "            + ' to learn more about interactive tables.';\n",
              "          element.innerHTML = '';\n",
              "          dataTable['output_type'] = 'display_data';\n",
              "          await google.colab.output.renderOutput(dataTable, element);\n",
              "          const docLink = document.createElement('div');\n",
              "          docLink.innerHTML = docLinkHtml;\n",
              "          element.appendChild(docLink);\n",
              "        }\n",
              "      </script>\n",
              "    </div>\n",
              "  </div>\n",
              "  "
            ],
            "text/plain": [
              "   id  qid1  ...                                          question2 is_duplicate\n",
              "0   0     1  ...  What is the step by step guide to invest in sh...            0\n",
              "1   1     3  ...  What would happen if the Indian government sto...            0\n",
              "2   2     5  ...  How can Internet speed be increased by hacking...            0\n",
              "3   3     7  ...  Find the remainder when [math]23^{24}[/math] i...            0\n",
              "4   4     9  ...            Which fish would survive in salt water?            0\n",
              "\n",
              "[5 rows x 6 columns]"
            ]
          },
          "metadata": {},
          "execution_count": 13
        }
      ]
    },
    {
      "cell_type": "code",
      "source": [
        "print(\"파일크기\")\n",
        "for file in os.listdir(DATA_IN_PATH):\n",
        "  if 'csv' in file and 'zip' not in file:\n",
        "    print(file.ljust(30) + str(round(os.path.getsize(DATA_IN_PATH + file) / 1000000, 2)) + 'MB')"
      ],
      "metadata": {
        "colab": {
          "base_uri": "https://localhost:8080/"
        },
        "id": "BS2SDpPECald",
        "outputId": "d3b5c9a0-ea95-4f4a-eb94-b5618aed76fa"
      },
      "execution_count": 14,
      "outputs": [
        {
          "output_type": "stream",
          "name": "stdout",
          "text": [
            "파일크기\n",
            "test.csv                      314.02MB\n",
            "train.csv                     63.4MB\n"
          ]
        }
      ]
    },
    {
      "cell_type": "code",
      "source": [
        "print(\"전체 학습 데이터의 개수 : {}\".format(len(train_data)))\n"
      ],
      "metadata": {
        "colab": {
          "base_uri": "https://localhost:8080/"
        },
        "id": "x9-nNl-pDL33",
        "outputId": "c03e2b01-68a6-43d1-f989-6f84272f9165"
      },
      "execution_count": 15,
      "outputs": [
        {
          "output_type": "stream",
          "name": "stdout",
          "text": [
            "전체 학습 데이터의 개수 : 404290\n"
          ]
        }
      ]
    },
    {
      "cell_type": "code",
      "source": [
        "train_set = pd.Series(train_data['question1'].tolist()+ train_data['question2'].tolist()).astype(str)"
      ],
      "metadata": {
        "id": "cbFAznfTDaMi"
      },
      "execution_count": 16,
      "outputs": []
    },
    {
      "cell_type": "code",
      "source": [
        "train_set.head()  # q1과 q2 를 연결함 # 각각 40만개 씩이었으니 총 80만개의 질문이 잇엇던 셈"
      ],
      "metadata": {
        "colab": {
          "base_uri": "https://localhost:8080/"
        },
        "id": "rbdA6s8aDpZS",
        "outputId": "23af2484-0479-41cd-ef69-a302e1735281"
      },
      "execution_count": 17,
      "outputs": [
        {
          "output_type": "execute_result",
          "data": {
            "text/plain": [
              "0    What is the step by step guide to invest in sh...\n",
              "1    What is the story of Kohinoor (Koh-i-Noor) Dia...\n",
              "2    How can I increase the speed of my internet co...\n",
              "3    Why am I mentally very lonely? How can I solve...\n",
              "4    Which one dissolve in water quikly sugar, salt...\n",
              "dtype: object"
            ]
          },
          "metadata": {},
          "execution_count": 17
        }
      ]
    },
    {
      "cell_type": "code",
      "source": [
        "train_set.value_counts()"
      ],
      "metadata": {
        "colab": {
          "base_uri": "https://localhost:8080/"
        },
        "id": "HFcM04AGGzFX",
        "outputId": "4c2c7ac8-8e74-43e4-805d-c6b48d167aa5"
      },
      "execution_count": 18,
      "outputs": [
        {
          "output_type": "execute_result",
          "data": {
            "text/plain": [
              "What are the best ways to lose weight?                                             161\n",
              "How can you look at someone's private Instagram account without following them?    120\n",
              "How can I lose weight quickly?                                                     111\n",
              "What's the easiest way to make money online?                                        88\n",
              "Can you see who views your Instagram?                                               79\n",
              "                                                                                  ... \n",
              "Why are forged metals more ductile?                                                  1\n",
              "How can I study law after B.Com?                                                     1\n",
              "How can I find out my favorite color?                                                1\n",
              "What does the phrase \"quantity over quality\" mean?                                   1\n",
              "What are the best resorts for parties in Madikeri (Coorg)?                           1\n",
              "Length: 537361, dtype: int64"
            ]
          },
          "metadata": {},
          "execution_count": 18
        }
      ]
    },
    {
      "cell_type": "code",
      "source": [
        "print('교육데이터의 총 질문수: {}'.format(len(np.unique(train_set)))) # 53만개가 유니크 데이터이므로 80-53 = 27만개가 중복된것을 알 수 있음\n",
        "print('반복해서 나타나는 질문수 : {}'.format(np.sum(train_set.value_counts()>1))) # 27만개 데이터는 11만개의 고유한 질문으로 이루어짐"
      ],
      "metadata": {
        "colab": {
          "base_uri": "https://localhost:8080/"
        },
        "id": "So99vGOeDy1B",
        "outputId": "7e6e6674-2a01-493e-b496-b0a4e4d33776"
      },
      "execution_count": 19,
      "outputs": [
        {
          "output_type": "stream",
          "name": "stdout",
          "text": [
            "교육데이터의 총 질문수: 537361\n",
            "반복해서 나타나는 질문수 : 111873\n"
          ]
        }
      ]
    },
    {
      "cell_type": "code",
      "source": [
        "plt.figure(figsize=(12,5))\n",
        "plt.hist(train_set.value_counts(), bins=50, alpha=0.5, color='r', label = 'word')\n",
        "plt.yscale('log', nonposy='clip')\n",
        "plt.title('log-histogram of question appearance counts')\n",
        "plt.ylabel('number of questions')\n",
        "plt.xlabel('number of occurrences of questions')"
      ],
      "metadata": {
        "colab": {
          "base_uri": "https://localhost:8080/",
          "height": 368
        },
        "id": "NPUMyFOXDqI2",
        "outputId": "71968d25-6503-48db-c73f-01b3e6a1f95d"
      },
      "execution_count": 20,
      "outputs": [
        {
          "output_type": "execute_result",
          "data": {
            "text/plain": [
              "Text(0.5, 0, 'number of occurrences of questions')"
            ]
          },
          "metadata": {},
          "execution_count": 20
        },
        {
          "output_type": "display_data",
          "data": {
            "image/png": "[encoded data removed]",
            "text/plain": [
              "<Figure size 864x360 with 1 Axes>"
            ]
          },
          "metadata": {
            "needs_background": "light"
          }
        }
      ]
    },
    {
      "cell_type": "code",
      "source": [
        "print(\"중복 최대 개수: {}\".format(np.max(train_set.value_counts())))\n",
        "print(\"중복 최소 개수: {}\".format(np.min(train_set.value_counts())))\n",
        "print(\"중복 평균 개수: {}\".format(np.mean(train_set.value_counts())))\n",
        "print(\"중복 중간 개수: {}\".format(np.median(train_set.value_counts())))\n"
      ],
      "metadata": {
        "colab": {
          "base_uri": "https://localhost:8080/"
        },
        "id": "ef5zx82KErAi",
        "outputId": "898517ba-1089-4972-b3d9-14ddac98a374"
      },
      "execution_count": 21,
      "outputs": [
        {
          "output_type": "stream",
          "name": "stdout",
          "text": [
            "중복 최대 개수: 161\n",
            "중복 최소 개수: 1\n",
            "중복 평균 개수: 1.50472401234924\n",
            "중복 중간 개수: 1.0\n"
          ]
        }
      ]
    },
    {
      "cell_type": "code",
      "source": [
        "plt.figure(figsize=(12,5))\n",
        "plt.boxplot([train_set.value_counts()], labels=['counts'], showmeans =True)"
      ],
      "metadata": {
        "colab": {
          "base_uri": "https://localhost:8080/",
          "height": 466
        },
        "id": "d6hFTvY7HLyV",
        "outputId": "c28c7fcd-9292-4fb6-a05f-c9d1388ce052"
      },
      "execution_count": 22,
      "outputs": [
        {
          "output_type": "execute_result",
          "data": {
            "text/plain": [
              "{'boxes': [<matplotlib.lines.Line2D at 0x7fa76b1c1c10>],\n",
              " 'caps': [<matplotlib.lines.Line2D at 0x7fa76b1c5cd0>,\n",
              "  <matplotlib.lines.Line2D at 0x7fa76b1c9250>],\n",
              " 'fliers': [<matplotlib.lines.Line2D at 0x7fa76b1ce290>],\n",
              " 'means': [<matplotlib.lines.Line2D at 0x7fa76b1c9d10>],\n",
              " 'medians': [<matplotlib.lines.Line2D at 0x7fa76b1c97d0>],\n",
              " 'whiskers': [<matplotlib.lines.Line2D at 0x7fa76b1c5250>,\n",
              "  <matplotlib.lines.Line2D at 0x7fa76b1c5790>]}"
            ]
          },
          "metadata": {},
          "execution_count": 22
        },
        {
          "output_type": "display_data",
          "data": {
            "image/png": "[encoded data removed]",
            "text/plain": [
              "<Figure size 864x360 with 1 Axes>"
            ]
          },
          "metadata": {
            "needs_background": "light"
          }
        }
      ]
    },
    {
      "cell_type": "code",
      "source": [
        "from wordcloud import WordCloud \n",
        "cloud = WordCloud(width = 800, height=600).generate(\" \".join(train_set.astype(str)))\n",
        "plt.figure(figsize = (15,10))\n",
        "plt.imshow(cloud)\n",
        "plt.axis('off')"
      ],
      "metadata": {
        "colab": {
          "base_uri": "https://localhost:8080/",
          "height": 593
        },
        "id": "-oWlIAqSHZ--",
        "outputId": "75380f6a-1573-4618-e6f7-570b110bb6be"
      },
      "execution_count": 23,
      "outputs": [
        {
          "output_type": "execute_result",
          "data": {
            "text/plain": [
              "(-0.5, 799.5, 599.5, -0.5)"
            ]
          },
          "metadata": {},
          "execution_count": 23
        },
        {
          "output_type": "display_data",
          "data": {
            "image/png": "[encoded data removed]",
            "text/plain": [
              "<Figure size 1080x720 with 1 Axes>"
            ]
          },
          "metadata": {
            "needs_background": "light"
          }
        }
      ]
    },
    {
      "cell_type": "code",
      "source": [
        "fig , axe = plt.subplots(ncols=1)\n",
        "fig.set_size_inches(6,3)\n",
        "sns.countplot(train_data['is_duplicate'])\n"
      ],
      "metadata": {
        "colab": {
          "base_uri": "https://localhost:8080/",
          "height": 301
        },
        "id": "hVvNe8TlHz-y",
        "outputId": "fdfc4d1c-327f-4c84-9be5-c9c899b8224a"
      },
      "execution_count": 24,
      "outputs": [
        {
          "output_type": "stream",
          "name": "stderr",
          "text": [
            "/usr/local/lib/python3.7/dist-packages/seaborn/_decorators.py:43: FutureWarning: Pass the following variable as a keyword arg: x. From version 0.12, the only valid positional argument will be `data`, and passing other arguments without an explicit keyword will result in an error or misinterpretation.\n",
            "  FutureWarning\n"
          ]
        },
        {
          "output_type": "execute_result",
          "data": {
            "text/plain": [
              "<matplotlib.axes._subplots.AxesSubplot at 0x7fa76a7ddf50>"
            ]
          },
          "metadata": {},
          "execution_count": 24
        },
        {
          "output_type": "display_data",
          "data": {
            "image/png": "[encoded data removed]",
            "text/plain": [
              "<Figure size 432x216 with 1 Axes>"
            ]
          },
          "metadata": {
            "needs_background": "light"
          }
        }
      ]
    },
    {
      "cell_type": "code",
      "source": [
        "train_length = train_set.apply(len);train_length # 각각의 문장길이를 나타냄"
      ],
      "metadata": {
        "colab": {
          "base_uri": "https://localhost:8080/"
        },
        "id": "-7pDv99VJOI4",
        "outputId": "ef383767-4c57-4cbf-94b9-e7a51ccbd6d5"
      },
      "execution_count": 25,
      "outputs": [
        {
          "output_type": "execute_result",
          "data": {
            "text/plain": [
              "0          66\n",
              "1          51\n",
              "2          73\n",
              "3          50\n",
              "4          76\n",
              "         ... \n",
              "808575     79\n",
              "808576     42\n",
              "808577     17\n",
              "808578    127\n",
              "808579     45\n",
              "Length: 808580, dtype: int64"
            ]
          },
          "metadata": {},
          "execution_count": 25
        }
      ]
    },
    {
      "cell_type": "code",
      "source": [
        "plt.figure(figsize=(15,10))\n",
        "plt.hist(train_length, bins =200, range = [0,200], facecolor='r',density=True, label='train') # normed 대신 density사용\n",
        "plt.title('normalised histogram of character count in questions', fontsize= 10)\n",
        "plt.legend()\n",
        "plt.xlabel('number of characters')\n",
        "plt.ylabel('probability')"
      ],
      "metadata": {
        "colab": {
          "base_uri": "https://localhost:8080/",
          "height": 637
        },
        "id": "tiVJ2w18JXtk",
        "outputId": "8e7fe898-a6b4-4a33-8bc3-8abee21069a4"
      },
      "execution_count": 26,
      "outputs": [
        {
          "output_type": "execute_result",
          "data": {
            "text/plain": [
              "Text(0, 0.5, 'probability')"
            ]
          },
          "metadata": {},
          "execution_count": 26
        },
        {
          "output_type": "display_data",
          "data": {
            "image/png": "[encoded data removed]",
            "text/plain": [
              "<Figure size 1080x720 with 1 Axes>"
            ]
          },
          "metadata": {
            "needs_background": "light"
          }
        }
      ]
    },
    {
      "cell_type": "code",
      "source": [
        "print('질문 최대길이 :{}'.format(np.max(train_length)))\n",
        "print('질문 최소길이 :{}'.format(np.min(train_length)))\n",
        "print('질문 평균길이 :{}'.format(np.mean(train_length)))\n",
        "print('질문 중간길이 :{}'.format(np.median(train_length)))"
      ],
      "metadata": {
        "colab": {
          "base_uri": "https://localhost:8080/"
        },
        "id": "DthKkTB3JQkX",
        "outputId": "e211f573-2136-4c54-d599-c338cbb56814"
      },
      "execution_count": 27,
      "outputs": [
        {
          "output_type": "stream",
          "name": "stdout",
          "text": [
            "질문 최대길이 :1169\n",
            "질문 최소길이 :1\n",
            "질문 평균길이 :59.82254817086745\n",
            "질문 중간길이 :51.0\n"
          ]
        }
      ]
    },
    {
      "cell_type": "code",
      "source": [
        "plt.figure(figsize= (12,5))\n",
        "plt.boxplot(train_length, labels =['character counts'])"
      ],
      "metadata": {
        "colab": {
          "base_uri": "https://localhost:8080/",
          "height": 466
        },
        "id": "yFyi-tYYLefr",
        "outputId": "1b9a64b8-efd9-48d1-ed64-a85a89c6298a"
      },
      "execution_count": 28,
      "outputs": [
        {
          "output_type": "execute_result",
          "data": {
            "text/plain": [
              "{'boxes': [<matplotlib.lines.Line2D at 0x7fa7699efc50>],\n",
              " 'caps': [<matplotlib.lines.Line2D at 0x7fa769986d50>,\n",
              "  <matplotlib.lines.Line2D at 0x7fa769986050>],\n",
              " 'fliers': [<matplotlib.lines.Line2D at 0x7fa7699aef10>],\n",
              " 'means': [],\n",
              " 'medians': [<matplotlib.lines.Line2D at 0x7fa7699ae3d0>],\n",
              " 'whiskers': [<matplotlib.lines.Line2D at 0x7fa7699efed0>,\n",
              "  <matplotlib.lines.Line2D at 0x7fa769986290>]}"
            ]
          },
          "metadata": {},
          "execution_count": 28
        },
        {
          "output_type": "display_data",
          "data": {
            "image/png": "[encoded data removed]",
            "text/plain": [
              "<Figure size 864x360 with 1 Axes>"
            ]
          },
          "metadata": {
            "needs_background": "light"
          }
        }
      ]
    },
    {
      "cell_type": "code",
      "source": [
        "# 단어개수를 기준으로 개수 파악하기, 이전에는 문자한글자한글자를 단위로 판단함\n",
        "train_word_counts= train_set.apply(lambda x :len(x.split(' ')))"
      ],
      "metadata": {
        "id": "WsavwsbiLoHq"
      },
      "execution_count": 29,
      "outputs": []
    },
    {
      "cell_type": "code",
      "source": [
        "train_word_counts"
      ],
      "metadata": {
        "colab": {
          "base_uri": "https://localhost:8080/"
        },
        "id": "tH1f4W5xL5WU",
        "outputId": "0b374de1-8685-4af0-9bdd-a41488102c47"
      },
      "execution_count": 30,
      "outputs": [
        {
          "output_type": "execute_result",
          "data": {
            "text/plain": [
              "0         14\n",
              "1          8\n",
              "2         14\n",
              "3         11\n",
              "4         13\n",
              "          ..\n",
              "808575    13\n",
              "808576     9\n",
              "808577     3\n",
              "808578    25\n",
              "808579    10\n",
              "Length: 808580, dtype: int64"
            ]
          },
          "metadata": {},
          "execution_count": 30
        }
      ]
    },
    {
      "cell_type": "code",
      "source": [
        "plt.figure(figsize = (15,10))\n",
        "plt.hist(train_word_counts, bins =50, range =[0,50], facecolor='r', density= True, label = 'train')\n",
        "plt.title('normalised histogram of word count in question')\n",
        "plt.legend()\n",
        "plt.xlabel('number of word')\n",
        "plt.ylabel('prob')"
      ],
      "metadata": {
        "colab": {
          "base_uri": "https://localhost:8080/",
          "height": 639
        },
        "id": "9UR9rz5wMomZ",
        "outputId": "a76da1c0-2ccd-4572-d1d2-4fe1fb7d74fd"
      },
      "execution_count": 31,
      "outputs": [
        {
          "output_type": "execute_result",
          "data": {
            "text/plain": [
              "Text(0, 0.5, 'prob')"
            ]
          },
          "metadata": {},
          "execution_count": 31
        },
        {
          "output_type": "display_data",
          "data": {
            "image/png": "[encoded data removed]",
            "text/plain": [
              "<Figure size 1080x720 with 1 Axes>"
            ]
          },
          "metadata": {
            "needs_background": "light"
          }
        }
      ]
    },
    {
      "cell_type": "code",
      "source": [
        "qmarks = np.mean(train_set.apply(lambda x : \"?\" in x)) # 물음표가 구두점으로사용됨\n",
        "math =np.mean(train_set.apply( lambda x : \"[math]\" in x ))\n",
        "fullstop = np.mean(train_set.apply( lambda x  : '.' in x))\n",
        "capital_first = np.mean(train_set.apply( lambda x : x[0].isupper()))\n",
        "capitals = np.mean(train_set.apply(lambda x : max([y.isupper() for y in x])))\n",
        "numbers = np.mean(train_set.apply(lambda x : max([y.isdigit() for y in x])))\n",
        "print(qmarks) # 물음표가 있는 질문\n",
        "print(math) # 수학 태그가 있는 질문\n",
        "print(fullstop)  # 구두점. \n",
        "print(capital_first) # 첫번째 대문자\n",
        "print(capitals)  # 대문자 포함\n",
        "print(numbers) # 숫자가 있는 질문"
      ],
      "metadata": {
        "colab": {
          "base_uri": "https://localhost:8080/"
        },
        "id": "3D1OiJh7M9x9",
        "outputId": "8505c7dc-2d02-4ba0-8c9d-66cf6b3aa33e"
      },
      "execution_count": 32,
      "outputs": [
        {
          "output_type": "stream",
          "name": "stdout",
          "text": [
            "0.9987385292735412\n",
            "0.0011736624700091518\n",
            "0.06308219347498083\n",
            "0.9981325286304386\n",
            "0.9995053055974672\n",
            "0.11827153775755027\n"
          ]
        }
      ]
    },
    {
      "cell_type": "code",
      "source": [
        "# 데이터 전처리\n",
        "import pandas as pd\n",
        "import numpy as np\n",
        "import re\n",
        "import json\n",
        "from tensorflow.python.keras.preprocessing.text import Tokenizer\n",
        "from tensorflow.python.keras.preprocessing.sequence import pad_sequences"
      ],
      "metadata": {
        "id": "IRTCVqLxO0i4"
      },
      "execution_count": 33,
      "outputs": []
    },
    {
      "cell_type": "code",
      "source": [
        "DATA_IN_PATH = '/content/'\n",
        "train_data = pd.read_csv(DATA_IN_PATH + 'train.csv', encoding= 'utf-8')\n",
        "train_pos_data = train_data.loc[train_data['is_duplicate'] ==1]\n",
        "train_neg_data = train_data.loc[train_data['is_duplicate'] ==0]\n",
        "\n",
        "class_difference = len(train_neg_data) - len(train_pos_data);  class_difference"
      ],
      "metadata": {
        "colab": {
          "base_uri": "https://localhost:8080/"
        },
        "id": "vgWubwm3RZ3-",
        "outputId": "46715492-6819-4003-d798-c4ce5898449c"
      },
      "execution_count": 34,
      "outputs": [
        {
          "output_type": "execute_result",
          "data": {
            "text/plain": [
              "105764"
            ]
          },
          "metadata": {},
          "execution_count": 34
        }
      ]
    },
    {
      "cell_type": "code",
      "source": [
        "sample_frac = 1- (class_difference) / len(train_neg_data)  ;sample_frac  # 58% "
      ],
      "metadata": {
        "colab": {
          "base_uri": "https://localhost:8080/"
        },
        "id": "0sBDjZAmR-rQ",
        "outputId": "b5e9ce8d-b6ec-45ff-a4a1-d5ceba0411c4"
      },
      "execution_count": 35,
      "outputs": [
        {
          "output_type": "execute_result",
          "data": {
            "text/plain": [
              "0.5852831268846044"
            ]
          },
          "metadata": {},
          "execution_count": 35
        }
      ]
    },
    {
      "cell_type": "code",
      "source": [
        "train_neg_data = train_neg_data.sample(frac =sample_frac) "
      ],
      "metadata": {
        "id": "3GGM5jgMSGVH"
      },
      "execution_count": 36,
      "outputs": []
    },
    {
      "cell_type": "code",
      "source": [
        "# neg와 pos의 비율을 얼추 맞춤\n",
        "print(\"중복질문개수 :{}\".format(len(train_pos_data)))\n",
        "print(\"중복 아닌 질문개수 :{}\".format(len(train_neg_data)))"
      ],
      "metadata": {
        "colab": {
          "base_uri": "https://localhost:8080/"
        },
        "id": "fr1q2mlTSTgR",
        "outputId": "c5703ed7-ea44-4e20-f6b9-1ff6080e18e8"
      },
      "execution_count": 37,
      "outputs": [
        {
          "output_type": "stream",
          "name": "stdout",
          "text": [
            "중복질문개수 :149263\n",
            "중복 아닌 질문개수 :149263\n"
          ]
        }
      ]
    },
    {
      "cell_type": "code",
      "source": [
        "train_data = pd.concat([train_neg_data, train_pos_data]) ; len(train_data)"
      ],
      "metadata": {
        "colab": {
          "base_uri": "https://localhost:8080/"
        },
        "id": "hxDseuNaSRoB",
        "outputId": "c8d28d5f-b071-4a52-a7d5-c1e8c61da567"
      },
      "execution_count": 38,
      "outputs": [
        {
          "output_type": "execute_result",
          "data": {
            "text/plain": [
              "298526"
            ]
          },
          "metadata": {},
          "execution_count": 38
        }
      ]
    },
    {
      "cell_type": "code",
      "source": [
        "# 이렇게 비율을 맞춘 데이터를 가지고 전처리 진행하기\n",
        "\n",
        "\n",
        "questions1 = [str(s) for s  in train_data['question1']]\n",
        "questions2 = [str(s) for s  in train_data['question2']]\n",
        "print(questions1)\n",
        "print(questions1[1])"
      ],
      "metadata": {
        "colab": {
          "base_uri": "https://localhost:8080/"
        },
        "id": "9eeIDjvsSo9o",
        "outputId": "a5b806c4-7cae-4c5c-f005-5e8cf5ebdfa4"
      },
      "execution_count": 39,
      "outputs": [
        {
          "output_type": "stream",
          "name": "stderr",
          "text": [
            "IOPub data rate exceeded.\n",
            "The notebook server will temporarily stop sending output\n",
            "to the client in order to avoid crashing it.\n",
            "To change this limit, set the config variable\n",
            "`--NotebookApp.iopub_data_rate_limit`.\n",
            "\n",
            "Current values:\n",
            "NotebookApp.iopub_data_rate_limit=1000000.0 (bytes/sec)\n",
            "NotebookApp.rate_limit_window=3.0 (secs)\n",
            "\n"
          ]
        }
      ]
    },
    {
      "cell_type": "code",
      "source": [
        "filtered_questions1 = list()\n",
        "filtered_questions2 = list()\n",
        "FILTERS = \"([~.,!?\\\"':;)(])\"\n",
        "change_filter = re.compile(FILTERS) # 패턴 객체 생성. 정규식 표현으로 전처리 하기 위해 설정\n",
        "\n",
        "for q in questions1:\n",
        "  filtered_questions1.append(re.sub(change_filter, \"\",q).lower())\n",
        "\n",
        "for q in questions2:\n",
        "  filtered_questions2.append(re.sub(change_filter, \"\",q).lower())"
      ],
      "metadata": {
        "id": "AkLejE3yTdDH"
      },
      "execution_count": 40,
      "outputs": []
    },
    {
      "cell_type": "code",
      "source": [
        "filtered_questions1"
      ],
      "metadata": {
        "colab": {
          "base_uri": "https://localhost:8080/"
        },
        "id": "L1qBPyyYVlXm",
        "outputId": "27621e2d-3937-4921-b71f-aa73b09e17d4"
      },
      "execution_count": 41,
      "outputs": [
        {
          "output_type": "execute_result",
          "data": {
            "text/plain": [
              "['what are the best cities in the world to be single',\n",
              " 'can christian ministries offshore work to churches in developing countries',\n",
              " 'if i click on someones twitter account can they see that i viewed them',\n",
              " 'in how many days i can increase height by hanging to a bar',\n",
              " 'what are the major differences between transcription and translation in dna and rna',\n",
              " 'if anyone says india has 8% gdp what does it exactly mean',\n",
              " 'did iranians in the early ‘80s think turks were not as much as muslim as they were',\n",
              " 'where is likely to centre given by cbse for improvement exams',\n",
              " 'what is the best way to prepare for iitjee in three months of time',\n",
              " 'how do i auto-verify that a phone number is valid/invalid',\n",
              " 'what is the difference between t1 and t2 imaging in mri',\n",
              " 'what does downvoting an answer do',\n",
              " 'i did my be in ctm now working as secretary role now i understood i m good in managerial role now wanna do masters in project management in germany',\n",
              " 'what are the strongest majors in terms of job prospects and what are the weakest majors at cal state bakersfield',\n",
              " 'are any interesting questions ever asked on quora',\n",
              " 'what are the effects of the ozone layer depletion',\n",
              " 'who is a better captain dhoni or kohli',\n",
              " 'what are the most common traffic convictions in arkansas and how does the severity of the convictions differ in texas',\n",
              " 'how do i get work as an intern in a non technical startup with no experience',\n",
              " 'what are the best smart watches to buy online',\n",
              " 'should income based reservation replace caste based reservation in india',\n",
              " 'how much does it cost to replace a usps mailbox key',\n",
              " 'how do i understand the pay scale of the indian navy',\n",
              " 'what is the best face maintainance routine for men',\n",
              " 'how is the registration examination for dietitians scored',\n",
              " 'how do you know if your cell phone is being tapped by police',\n",
              " 'what was the most embarrassing moment in front of your client',\n",
              " 'what should i do to make everyone happy and respect me',\n",
              " 'advertising and promotion for fashion product',\n",
              " 'what are some rare & interesting facts about the legendary satyajit ray',\n",
              " 'whom quora moderation consist from',\n",
              " 'is it better for a man with developed breasts to wear a bra',\n",
              " 'what is the syllabus of e&tc at harvard university',\n",
              " 'when will the gregorian new year and the islamic new year be celebrated on the same day or the gregorian and chinese new year’s',\n",
              " 'with 389 marks in neet what are chances of admission in private mbbs college',\n",
              " 'how can i use watsapp on laptop',\n",
              " 'is law not a good career option anymore',\n",
              " 'any experience with windows-based gtd software like things',\n",
              " 'why is a banana a berry',\n",
              " 'what are the abilities of the mind',\n",
              " 'what is the reason for pakistan getting seperated from india though they were  together till independence',\n",
              " 'why do we yawn what is the reason',\n",
              " 'what kind of love',\n",
              " 'which institute is better for ssc cgl paramount or kd campus',\n",
              " 'where can i watch ghost in the shell 20 online',\n",
              " 'what is the main function of a database management system',\n",
              " 'can i hack a wi-fi wpa-psk password with my rooted smartphone',\n",
              " 'have you ever pretended to be someone else',\n",
              " 'what do you think of trump’s secretary of state appointment rex tillerson ceo of exxon mobil',\n",
              " 'is it illegal to date 17 year old girl',\n",
              " 'which is the best method for mathematics self study up to doctorate level',\n",
              " 'to what extent do pilots of passenger planes fly around turbulence when flying does it differ from airline to airline',\n",
              " 'what is purpose of life',\n",
              " 'is it true that every korean has not only a hangul한글 name but also a one-to-one hanja漢字 name',\n",
              " 'if pluto is not a planet what is it',\n",
              " 'what does it feel like to drown',\n",
              " 'what is the difference between reald 3d and imax as far as watching a movie in a theatre is concerned is imax worth the extra time and money required',\n",
              " 'how can i use snapchat for business',\n",
              " 'does the officer have to sign on the photo in annexure f',\n",
              " 'is it possible to play pirated games on playstation 4 if so is there a way to do it without modifying the system',\n",
              " 'why is she trying to make me jealous',\n",
              " 'why do so many republicans hate hillary clinton',\n",
              " 'what are the best and worst things about public transit in chishui china how could it be improved',\n",
              " 'when you read a choose your own adventure book did you cheat by bookmarking your last page with your finger',\n",
              " 'why would someone not set up their voicemail',\n",
              " 'what characters are most similar to batman',\n",
              " 'what are some ways to learn english online and that too for free',\n",
              " 'is the walking dead series worth watching',\n",
              " 'if you open a microwave oven before the beep will it release deadly microwave radiation',\n",
              " 'i had sex during my period without any protection but within an hour i took ‘unwanted 72’ pill is it safe',\n",
              " 'how do you achieve the freezing point of hexane how does it compare to propane',\n",
              " 'what is the coolest thing you did on your best friends boy birthday',\n",
              " 'how can you format text make text bold italic etc on facebook posts',\n",
              " 'how does the stanford cs program choose its siebel scholars',\n",
              " 'what should have hillary clinton done differently in order to defeat trump',\n",
              " 'who has the most beautiful boobs you have ever seen ',\n",
              " 'what kind of data does amazon collect from its customers',\n",
              " 'were you surprised that trump won and why',\n",
              " 'what are the things to be known as civil engineer',\n",
              " 'how many contacts can i save on my sim card',\n",
              " 'what are good gifts for a foreign visitor to bring when theyre invited to someones home in egypt for the first time',\n",
              " 'why do people waste their time when trying to prove a point when it’s pointless and counterproductive',\n",
              " 'what causes collapsed veins in the arm',\n",
              " 'how much investment reqiured for poultry in karnataka',\n",
              " 'what do you think of islamic state of iraq and syria isis/ isil/ daesh ',\n",
              " 'what’s the best way to kill yourself that a leaves the least amount of blood to clean up and b is the least painful',\n",
              " 'how do i start off a novel',\n",
              " 'what are your favourite 10/10 hollywood movies',\n",
              " 'what is the equivalent hindu word for amen and insha-allah',\n",
              " 'what is 1 divided by infinity',\n",
              " 'what is the difference between windows and linux for web hosting',\n",
              " 'why are so many refugees young men',\n",
              " 'im looking for the latin to english translation of how do you plead i cant find it anywhere',\n",
              " 'how can a mechanical engineer get job in it',\n",
              " 'what are e-wallet platforms in usa and how much is their market penetration',\n",
              " 'what sites are similar to fuskatorcom',\n",
              " 'pan number of idbi',\n",
              " 'i am looking for a baseball team to follow any tips',\n",
              " 'as small town indian should i dropout of college to follow my passion of computer technology how or get a btech it degree to become secure first',\n",
              " 'my score is 289 in the bitsat 2015 after the 3rd round the cutoff is 292 what are my chances to get into bits',\n",
              " 'what causes my sideburns to itch',\n",
              " 'which is the deadliest of the seven deadly sins',\n",
              " 'what does receiving anal sex for the first time feel like',\n",
              " 'a jellyfish can eat another jellyfish',\n",
              " 'what is the most addicting chewing gum',\n",
              " 'how well do cats understand human language',\n",
              " 'what is a superheterodyne transmitter',\n",
              " 'how can i improve my reading and understanding skills for upsc',\n",
              " 'should i move out my parents house',\n",
              " 'what is best treatment/exercises for lumber stenosis and calf muscle wastage',\n",
              " 'what does it mean to embrace life',\n",
              " 'what are some best books to study in my 20s',\n",
              " 'what languages are windows mac os x and linux written in',\n",
              " 'how much minimum time needed for prepare to get a good rank in gate civil for an average student',\n",
              " 'which are the best hip hop lyrics',\n",
              " 'how can i improve flexibility',\n",
              " 'recently i started to buy pure aloe vera gel and blend it with some natural oils like jojoba oil vitamin e oil and evening primrose oil the result is a creamy gel that i apply on my face two times a day is that enough for my skin to avoid wrinkles given that i am 35 years old',\n",
              " 'im new in navi mumbai and am missing durga puja so much where can i get info & check cultural interactions happening in navi mumbai for durga puja',\n",
              " 'is crimea a part of russia or ukraine',\n",
              " 'what are the different types of proteins in food',\n",
              " 'why was slavery wrong how was it so bad as it was',\n",
              " 'what are some leftover beef stew recipes',\n",
              " 'how do i become commercial pilot in india',\n",
              " 'what colors can be mixed to make red',\n",
              " 'what are brilliant automation ideas using scripts batch file or powershell',\n",
              " 'is it possible to study in seoul if i graduate from vocational school and not high school',\n",
              " 'how is a low mass stars life cycle',\n",
              " 'how do i calculate development length of bar in beam',\n",
              " 'what is the meaning of punjabi word ainvayi',\n",
              " 'which one is more addictive tea coffee cigarettes or alcohol',\n",
              " 'whats the difference between an ips monitor and a led monitor',\n",
              " 'whos your favorite soccer player and why',\n",
              " 'is there is any good essay on demonetization in india',\n",
              " 'should i be embarrassed about showing my nipples',\n",
              " 'how can i inspire you',\n",
              " 'do people still worship chinese gods',\n",
              " 'why do russians use cyrillic instead of the usual alphabet',\n",
              " 'how do you decide it is you whos making your choices',\n",
              " 'what is the difference between love and liking',\n",
              " 'what are some good practices whilst learning and coding in html and css',\n",
              " 'why do cats scare easily',\n",
              " 'why are kites part of the makar sankranti festival',\n",
              " 'how can we find whirlpool service center in hyderabad',\n",
              " 'how good are indigovisions products',\n",
              " 'how can i get above 90% in class 12',\n",
              " 'i am a computer science graduate  i wish to pursue cfa is it too late to start preparing for cfa level 1 for december',\n",
              " 'is it possible to use a smartphone to control my non-smart television',\n",
              " 'how can i get into nus',\n",
              " 'yaniv is a great travel game because its easy to teach and many players can play at once what are some other great card games for travelers',\n",
              " 'is it possible to write a story using words that all start with the same letter',\n",
              " 'does he like me ',\n",
              " 'what if humans dont feel hunger',\n",
              " 'what are the best motivational books for teenagers',\n",
              " 'what is the best way to learn computer programming in any language',\n",
              " 'which companies provide paid/unpaid training and experience certificate on industrial automation',\n",
              " 'can anyone let me do tcs re-hire ex employees if yes then kindly give me references',\n",
              " 'what is the the difference between nre and nro account in simple words',\n",
              " 'what would you do if a girl likes you and you already have a hint about it but you dont have similar feelings towards her',\n",
              " 'i want some genuine seo freelancing sites to work on can you please advise any good sites which we can really earn',\n",
              " 'what does it mean when you press on someones name on instagram and it says user is not found',\n",
              " 'why can you post questions anonymously but you cant leave anonymous answers on quora',\n",
              " 'what is the best place to drink a beer in vaxjo',\n",
              " 'do army officers carry mobile phones with them',\n",
              " 'is it ok to keep friendship with other cast girl inspite of my parents oppose itshe is my neighborjust frndship',\n",
              " 'can roger federer win another grand slam',\n",
              " 'what are the full forms of the vi vim and gcc  commands in linux',\n",
              " 'why does plastic surgery go wrong so often and look so strange',\n",
              " 'what is the best book to learn android development and programming',\n",
              " 'are half the uk gay',\n",
              " 'where can i learn to dance like the guys in the exo music videos',\n",
              " 'what is cupro fabric what is it used for',\n",
              " 'how does instacart and postmates manage their on demand logistics operation',\n",
              " 'was increased funding to protect benghazi before the attack denied by congress if so who voted against it',\n",
              " 'what does it feel like to be the ceo of reddit',\n",
              " 'why should we stop using quora',\n",
              " 'any one any idea about micron robotics  human resource department micron robotics wwwmicronroboticscom b-5 sector-64noida',\n",
              " 'do spiders ever show innovations in web design',\n",
              " 'what is actually happening when you get a tickle in your throat and you cant stop coughing',\n",
              " 'can i watch tutorials of all the different courses on treehouse by paying 25 usd per month',\n",
              " 'what are some signs of a failing alternator',\n",
              " 'whats the difference between had been and has been',\n",
              " 'where can i read one piece manga online',\n",
              " 'what does it feel like to have ocd',\n",
              " 'what are guys reactions when average looking girls like them',\n",
              " 'why is my nose shiny but not oily',\n",
              " 'what is it like to be discreetly wealthy in africa',\n",
              " 'how many fights did muhammad ali lose during his professional career',\n",
              " 'what is the difference between sincerity and fairness',\n",
              " 'why is a rankine cycle is used rather than carnot cycle in standard cycle',\n",
              " 'how long should you leave your motorcycle battery on a trickle charger',\n",
              " 'what are the strongest jutsu in naruto',\n",
              " 'how can i clean silicon-based personal lubricant on hardwood floors',\n",
              " 'which extra certification courses will benefit mechanical engineering students',\n",
              " 'self-improvement how can i motivate myself to work hard',\n",
              " 'what is the salary of software engineer in india per month',\n",
              " 'what are the benefits that apple gives to their employees',\n",
              " 'what will be the name for androids next mobile version',\n",
              " 'how do i send someone sms text from mobile and he/she receives a name instead of a number even though he/she does not have my mobile number in his/her contact',\n",
              " 'what is the best software for creating augmented reality',\n",
              " 'what is scp for linux',\n",
              " 'if beauty is only skin deep then why is truth beautiful',\n",
              " 'can a romantic relationship between captain america and black widow happen',\n",
              " 'whats the best compliment youve ever been given',\n",
              " 'what does an ashford university diploma look like',\n",
              " 'is there an antivirus for the iphone 6 that will actually scan for viruses',\n",
              " 'can modafinil really help with staying focused to study i have managed my adhd well in the past but failing to manage well now',\n",
              " 'what are the important things that investors consider before investing in startups',\n",
              " 'an explanation of the term yahweh in ancient epoch',\n",
              " 'who make the best kitchen tools',\n",
              " 'why i am so thin even though i eat a lot what should i do',\n",
              " 'who is the greatest wrestler in history',\n",
              " 'how much does a usps tube for a poster cost to ship',\n",
              " 'if i want to go to a top 20 college how many ap courses should i take during my junior year',\n",
              " 'does the bar code on groceries include the expiry date',\n",
              " 'why did the usa kill osho and why were they scared of him and his sannyasins',\n",
              " 'what are the compulsory and optional subjects in 11th science stream if i choose pcb',\n",
              " 'what are the good books i have to read to learn coding from the basics',\n",
              " 'which are the best methods to distract someone',\n",
              " 'how do i shave my chest and stomach',\n",
              " 'what are the best books about currency pricing',\n",
              " 'what is the quickest most efficient and painless way to kill oneself',\n",
              " 'how can i get a free activation code for clash of kings',\n",
              " 'what does fy16f mean in stock market',\n",
              " 'how to recover/restore imei numbers on android erased from command fastboot erase all ',\n",
              " 'what is a team foul in the nba',\n",
              " 'is a 21 mega-pixel front facing camera good on a smart-phone',\n",
              " 'nd she is always sad',\n",
              " 'how do you program quadcopters',\n",
              " 'is it possible to tell if someone has ignored your facebook friend request',\n",
              " 'how long does it take for sperm to regenerate between each ejaculation',\n",
              " 'what are the main events which occur within the cell cycle',\n",
              " 'who is deepika padukone marrying',\n",
              " 'in a capacitor where is the energy stored',\n",
              " 'how can you talk to her parents',\n",
              " 'what is the most effective essential oil blend aromatherapy synergy used in massage oil for depression',\n",
              " 'what do you like most and least about being an american',\n",
              " 'what is the mechanism to print currency in the country how much currency can a country print at a time',\n",
              " 'which is the best free mobile app for spying on an android phone which also saves data locally on a mobile',\n",
              " 'do we regret the stuff we didnt do',\n",
              " 'how do i study 30 chapters in 30 days',\n",
              " 'what database does sap use',\n",
              " 'in which month does tcs accenture hire through amcat or elitmus',\n",
              " 'how do i convert molar mass gram/mole into daltons',\n",
              " 'what are the best coaching centers for banking in chennai',\n",
              " 'can we use dear sir in place of respected sir in office letters',\n",
              " 'how do you get rid of ringworms with bleach',\n",
              " 'what is porto portugal well-known for',\n",
              " 'what has warren buffett said in response to those who are skeptical or dont understand his investment in ibm',\n",
              " 'what are some benefits of drinking aloe vera juice',\n",
              " 'what is 3 7/8 divided by 5 1/6',\n",
              " 'what are some software similar like audacity',\n",
              " 'why is contractual labor cheaper in india as compared to non-contractual',\n",
              " 'does donald trump hate muslims',\n",
              " 'what is the benefit of not going to an ivy league school',\n",
              " 'what online payment methods are most popular in nepal',\n",
              " 'how do i handle fights with my girlfriend',\n",
              " 'what is the difference between transexual and transgender',\n",
              " 'is this phone recommended for a certain age',\n",
              " 'how are the placements of chemical engineering at nit raipur',\n",
              " 'if i block someone in my instagram and i decide to send a direct message can she/he read that dm even if i block her/him',\n",
              " 'why arent there any animals that can breathe fire',\n",
              " 'can anybody learn front-end development how tough is it',\n",
              " 'what is validity of truth',\n",
              " 'how many keywords are there in eiffel programming language in the latest version',\n",
              " 'what does fight the enemy where they arent mean in the art of war',\n",
              " 'whats is cost of milk sold by farmers in india',\n",
              " 'is charlie charlie real',\n",
              " 'is the last vault of padmanabha temple opened',\n",
              " 'where can i find the uncut uncensored fifty shades of grey movie online',\n",
              " 'how can i suppress hunger',\n",
              " 'has narendra modi taken a risk and alienated his core support base of businessmen by going after black money',\n",
              " 'how did you learn korean',\n",
              " 'how do i identify match fixing in basketball',\n",
              " 'why none of the acm-icpc sites using hackerrank for their online coding round',\n",
              " 'what does stefano tessaro think of ben y zhao at ucsb',\n",
              " 'what are some bollywood which were straight lift from other movies movies from hollywood and other countries',\n",
              " '[06x08] is it possible that the waif killed arya and took her face',\n",
              " 'by registering and paying for xat 2017 am i eligible for xlri and other associate member institutes',\n",
              " 'if x∝y/z^2 y∝ab^2 and z∝b/a then what is the relation between x a and b the answer has been given as b^4/a^3 is that correct',\n",
              " 'i am confused between these two laptops lenovo g50-80 and dell inspiron 15 3542541tb2su1 both come in same prices i am not a heavy gamer which one should i choose hows the lenovo service these days',\n",
              " 'do women enjoy seeing men in their underwear',\n",
              " 'what does corruption mean in the united states',\n",
              " 'can you die instantly from a stab to the head',\n",
              " 'can i tell my teacher about my family problems',\n",
              " 'where should i go for an mca in pune or mumbai vesit or mitsom',\n",
              " 'which car model most often has vanity license plates',\n",
              " 'who is jose mourinho',\n",
              " 'which sentence below is grammatically correct',\n",
              " 'is it possible to build muscle and lose fat with intermittent fasting and stay lean',\n",
              " 'what is causing my ankle pain',\n",
              " 'why are radio waves more harmful than visible light even though radio waves have lower frequency',\n",
              " 'in online dating if a woman keeps writing back to you long messages but they are all about herself with no questions or inquisitiveness about myself does that mean she is completely into herself up her own arse and not worth the time',\n",
              " 'what is the cost to travel in a sleeper coach with a general ticket',\n",
              " 'what is hoovering by a narcissist',\n",
              " 'what is the electron configuration of electron',\n",
              " 'is light speed actually not the speed limit in the universe',\n",
              " 'how can i fix this error',\n",
              " 'what are biocatalysts',\n",
              " 'why do i root my phone',\n",
              " 'what are some things new employees should know going into their first day at radian group',\n",
              " 'what should i do to get my fitness back',\n",
              " 'do you guys believe that humans soul exist or not',\n",
              " 'is iowa the only team not to give up a rushing touchdown this college football season',\n",
              " 'how are careers in biology changing and whats necessary to stay current',\n",
              " 'why do hbcus historically black colleges and universities do better for blacks than hsi hispanic serving institutions do for hispanics',\n",
              " 'would it be a good idea to visit rajasthan in august',\n",
              " 'is the ktm rc 390 an appropriate bike for students',\n",
              " 'if gods do not exist what gives humans natural rights',\n",
              " 'how come ideas for new music never run out',\n",
              " 'what do you think of amazonsecretsnet is it a get rich quick scheme whats their incentive',\n",
              " 'what are the names of these plants',\n",
              " 'how do i stop thinking with my dick and start thinking with my head',\n",
              " 'what are some of the best tamil youtube channels',\n",
              " 'im indonesian and i like white guys how i can attract a white guy',\n",
              " 'why doesnt the un send a peacekeeping force to syria to stop the civil war and create safe havens for the refugees',\n",
              " 'i am a 411 female and weigh 151 lbs i want to develop a lean and totally un-muscular look what should my daily workout at the gym look like',\n",
              " 'why cant i see the last seen on my imo app',\n",
              " 'how can we use kants critique of pure reason in communication studies today',\n",
              " 'how much does a youtuber with 1 million subscribers earn in a year',\n",
              " 'how can you print an e-ticket by using a pnr number',\n",
              " 'what lessons can muslims learn from the jews',\n",
              " 'how much does it cost to have dinner at hells kitchen when the show is being taped',\n",
              " 'what are some things new employees should know going into their first day at qad',\n",
              " 'how can you simply ignore your society if they are always up to downgrade you how can one withstand such pressure',\n",
              " 'how can you tell if a voice is autotuned',\n",
              " 'how does springer nature make money',\n",
              " 'are there any apis available for to embed video chat functionality in website',\n",
              " 'what are some things new employees should know going into their first day at delek',\n",
              " 'what is the importance of ore minerals',\n",
              " 'what will be the last version of ios the iphone 6s will be able to download',\n",
              " 'why does pure metal pose machinability problem in turning operation',\n",
              " 'will i get kmc manipal with 460 marks in neet',\n",
              " 'research and analysis intern at iit delhi',\n",
              " 'which public school grade levels did martin luther king jr skip',\n",
              " 'what are the best ways to celebrate new year with my girlfriend',\n",
              " 'what are some kinds of advertisement',\n",
              " 'what motivates you to study in ridiculously hard classes what kept you going when most people dropped out',\n",
              " 'what can be the reason that i never had a boyfriend yet to',\n",
              " 'why do some politicians want to ban contraception',\n",
              " 'is 30000 per month a good starting salary for a 22 year old working as a central excise employee',\n",
              " 'how can you become faster',\n",
              " 'what are the best ways to burn belly fat',\n",
              " 'in star wars when a ship goes into lightspeed or hyperspace how does it not crash into space debris planets stars etc',\n",
              " 'how can i install windows 81 on pre-installed  laptop that comes with ubuntu and remove ubuntu after installing windows 81',\n",
              " 'what is the smartest thing you have ever heard',\n",
              " 'how can my partner get himself to stop cuming so quickly',\n",
              " 'who are some lesser known important historical figures of croatia and what should people know about them',\n",
              " 'where and how did barack obama live before he was president',\n",
              " 'can a moon of a planet have its own moon',\n",
              " 'which book is the best book for civil engineering drawing',\n",
              " 'destiny & chill 17 pve stuffs',\n",
              " 'whats the best online dating site',\n",
              " 'which disney theme park is disneys most profitable one',\n",
              " 'i havent been accepted to any university in my gap year is it ok to write an application essay describing this as my greatest hardship',\n",
              " 'is it true that the earth gets hit by comets and asteroids quite frequently or should i really start smoking something else',\n",
              " 'what is stream',\n",
              " 'how do you resolve nsis error error launching installer',\n",
              " 'is islam a religion of terror',\n",
              " 'is there any metamaterial that reflects light coming at a specific angle eg brewster angle while being transparent in the other angles',\n",
              " 'is every question asked on quora marked as needing improvement',\n",
              " 'what are some examples of people using the scientific method in everyday life',\n",
              " 'how would i develop an e-commerce website',\n",
              " 'how can we produce electricity from plastic',\n",
              " 'how do i check the data balance  in an airtel 4g usb stick',\n",
              " 'which is the best programming language courses we shall do while pursuing our 2nd year in csebe',\n",
              " 'who was hassan bulli',\n",
              " 'what is malting',\n",
              " 'should an alkali cell be used in a potentiometer circuit',\n",
              " 'our existing knowledge makes it clear that before the big bang everything about the universe was already predetermined meaning that it was predetermined down to the smallest particle and its course through the eons in its minutest details who is thought to have done that',\n",
              " 'how are annalise keating and wess gibbons related',\n",
              " 'what is a sample quinceanera checklist',\n",
              " 'what are some characteristics of membrane bounded organelles',\n",
              " 'what companies went bankrupt in 2011',\n",
              " 'how can i learn java programming language',\n",
              " 'is there a different price over the internet than in person when trying to book a room in mexico city from the us',\n",
              " 'what is the temperament of a weimaraner/pitbull mix',\n",
              " 'what are the most common traffic convictions in arkansas and how does the severity of the convictions differ in idaho',\n",
              " 'what is the salary of a railway drm',\n",
              " 'what is it like to be sub inspector of police in andhra pradesh',\n",
              " 'what are the main reasons why students from penn state dont graduate on time',\n",
              " 'how good is stanford mens soccer team',\n",
              " 'why do women never open doors for men but men are expected to open doors for women',\n",
              " 'how do i calculate p/e ratio when the eps is negative',\n",
              " 'how write to various company to get sponser ship for our college fest using aida concept',\n",
              " 'why are most car batteries of the lead-acid type',\n",
              " 'in singapore is it a good idea to buy gld 10us$ etf in sgx or buy physical gold ingot where can we get the cheapest gold ingot',\n",
              " 'what are subways healthiest sandwiches',\n",
              " 'do you think that college wrestlers are more likely to become homosexuals',\n",
              " 'what is the best tourist destination in usa',\n",
              " 'does an object having greater mass have greater weight and greater density',\n",
              " 'are credit cards and debit cards two different things',\n",
              " 'what are the applications of physics in real life and how it is used',\n",
              " 'if a guy asks me if he should die and i tell him not to and tell him positive things counsel him and not try and get him to an official practitioner and he henceforth committing suicide will it be a crime/unethical/bad on my part to not help him in any more ways possible',\n",
              " 'what are your best ways to save money',\n",
              " 'why women sleep within seconds of boarding metro trains in delhi is it result of domestic work load or to avoid men',\n",
              " 'where can i get best icl surgery in delhi',\n",
              " 'what are some nice environment related quotes to spread awareness and make people think',\n",
              " 'how is the word anticipate used in a sentence',\n",
              " 'what are the types of ninjas',\n",
              " 'why has indian pm modi failed the so called democratic values diplomacy to attract democratic investment in the world',\n",
              " 'i dont have wifi but i have an internet connection how can i create a hotspot',\n",
              " 'which is the best foreign non-us film of the year 2015',\n",
              " 'what is the melting point of rocks',\n",
              " 'what is the most important thing to know',\n",
              " 'is someone following me back on snapchat if i cant see there snap code',\n",
              " 'what makes chinese people chinese',\n",
              " 'how legitimate is steemitcom',\n",
              " 'what do lousiana residents think of mary landrieu',\n",
              " 'why do some people find it so difficult to show emotion',\n",
              " 'does information exist or is it a social construct',\n",
              " 'when is the world going to the end',\n",
              " 'did mahatma gandhi acquire a british accent in the 24 years he spent abroad',\n",
              " 'how do i stop having a dirty mind',\n",
              " 'what are the questions asked in the interview of afmc',\n",
              " 'how did itachi uchiha develop the sharingan in his eyes',\n",
              " 'what bank has the best credit cards',\n",
              " 'are there black people in russia why',\n",
              " 'will asian elephants always re-emerge through time in different universes',\n",
              " 'can anyone provide a brief summary of case sonia bhatia vs state of up & ors',\n",
              " 'how does plastic comb attract paper',\n",
              " 'will putin release donald trumps tax returns',\n",
              " 'which day of the week has the hardest crossword puzzle in the newspaper',\n",
              " 'how long are us bank account numbers',\n",
              " 'how much kale is in a bunch',\n",
              " 'can you have a negative pregnancy test 4 days before your period but still be pregnant',\n",
              " 'how should i prepare for ioi from day 1',\n",
              " 'is buying sail stocks a smart long term investment',\n",
              " 'how is school changing in the 21st century in palestine',\n",
              " 'is this guy i super liked on tinder into me at all how can i tell how can i take things further with him like meeting up irl',\n",
              " 'was the recent assassination of the russian ambassador a unique case in modern history',\n",
              " 'do i need to register my florida llc as foreign llc in the state of texas',\n",
              " 'how did caste system started in india',\n",
              " 'did napoleon bonaparte ultimately advance or undermine the ideals of the french revolution',\n",
              " 'how do i use lucky patcher without rooting the phone',\n",
              " 'should i retire i am 38 drawing 18 lakh ctc and 2 crores in stocks is it right time to say good bye',\n",
              " 'how do i enable volte in my redmi note 4g phone',\n",
              " 'if space suits are fabric and space is a near perfect vacuum & the suits have positive pressure how are they not blown up like a tire smells funny',\n",
              " 'what are the best lines in a punjabi song that you have ever heard',\n",
              " 'how can i keep myself from throwing up due to stress',\n",
              " 'is there any way to delete my activity on my personal drive on google drive',\n",
              " 'how do i find baby products importer in usa',\n",
              " 'how could i induce leadership skills in my 3 years old nephew',\n",
              " 'what is the difference between anarcho-communism and communism in the original marxist sense',\n",
              " 'how do i control my thoughts and mind',\n",
              " 'do vans and adidas have the same shoe size chart',\n",
              " 'what naruto shippuden episode does the 4th great shinobi war end in',\n",
              " 'is product eye serum effective',\n",
              " 'who were the worst dressed at the 2015 golden globes',\n",
              " 'what is crr and slr',\n",
              " 'what are some beautiful japanese myths stories and fables',\n",
              " 'debt what is going through the mind of someone who clearly owes money and has the means to repay but wont',\n",
              " 'why do dogs chase their tails',\n",
              " 'assassins creed series what is the meaning of ezio auditore de firenze',\n",
              " 'what are good thesis topic for mechanical engineering management',\n",
              " 'how do i earn money online for free',\n",
              " 'what is the most stupid question i can ask here',\n",
              " 'am i alone in liking the wheel of time',\n",
              " 'what if my scatter plots dont show a trend should i still calculate outliers',\n",
              " 'is 2nd and 4th saturday holiday for banks in india justified',\n",
              " 'how do i read my friends whatsapp chat without taking his phone',\n",
              " 'what lamp is this',\n",
              " 'when and how do opinions become facts',\n",
              " 'i left my job with a multinational company in india without resigning formally can that be a problem in the future please see details',\n",
              " 'what is the best software to use to write a math textbook',\n",
              " 'what is the meaning of the name manishaa',\n",
              " 'how loud can a human voice go who is louder men or women',\n",
              " 'were the federalists and the anti-federalists the predecessors of todays republican and democratic parties',\n",
              " 'how do jehovah’s witnesses conduct funerals',\n",
              " 'what kind of profile is required to get admission in fully funded phd programs in business/ finance in us/ canada/ eu/ australia',\n",
              " 'after i get a bachelors degree in botany should i get a job or continue my education',\n",
              " 'what is fair trade phenomenon',\n",
              " 'is the honda activa 125 worth buying',\n",
              " 'what do you do when you think you dont deserve a girl but she shows real interest in you',\n",
              " 'what are the best examples of things being organised',\n",
              " 'what are your favorite edm songs',\n",
              " 'what records are unlikely to be broken ever',\n",
              " 'how much does motorcycle insurance cost',\n",
              " 'what will happen with my google apps account when change the dns mx records on my domain',\n",
              " 'what is the hardest barrier to overcome in life',\n",
              " 'how would you use the word ‘ascribe’ in a sentence',\n",
              " 'where is the best home appliance for bpl washing machine service center in hyderabad',\n",
              " 'which are the top 10 fast-paced nail-biting suspense thrillers you have read/seen in your life',\n",
              " 'i have a crush on my friends best friend what should i do',\n",
              " 'what is the purpose of mosquitoes and flies on earth',\n",
              " 'how are adaptation and evolution similar',\n",
              " 'how do you use an rca cable for a coaxial digital connection',\n",
              " 'what are some examples on how symbols are used in sense and sensibility',\n",
              " 'what are some lesser-known sights to see when visiting glendale az',\n",
              " 'what are the pros and cons postgresql pgstrom mapd and blazingdb one over the other',\n",
              " 'what is svm^struct matlab',\n",
              " 'why do people in many developing countries think china is already a developed country in the world',\n",
              " 'if its possible to identify with different genders from my birth-gender should i be able to choose which race i identify with too',\n",
              " 'how do i learn spring framework',\n",
              " 'what does wyd mean in text conversation',\n",
              " 'we built a website to let teachers give private lesson to our users but where do i find now available teachers to register',\n",
              " 'what are the profit margins of fruit and vegetable farmers in india',\n",
              " 'what are some of the methods of excreta disposal',\n",
              " 'what are autotrophic plants with 7 examples',\n",
              " 'does tango currently offer new employees stock options or rsus',\n",
              " 'what functions do proteins not have',\n",
              " 'when do you use very appreciated versus much appreciated',\n",
              " 'what is the best alternative for ipad',\n",
              " 'what is the best team in pokemon red',\n",
              " 'how much does it cost to register a trademark in the us',\n",
              " 'has anyone got the free reliance jio 4g sim which reliance is giving to any 4g handset user',\n",
              " 'can i sign up for google adwords without creating a campaign during the signup process',\n",
              " 'is realinfojobscom legit',\n",
              " 'what makes singapore airlines one of the top-rated in the world',\n",
              " 'can i make a bootable pendrive with mobile that support pendrive otg',\n",
              " 'why do men cheat',\n",
              " 'should i buy an iphone 6',\n",
              " 'if i built a laser using antihydrogen as the lasing medium would i get the same wavelengths of light as if id used hydrogen',\n",
              " 'what is your review of game of thrones season 3',\n",
              " 'do autistic people know they are autistic',\n",
              " 'why are subreddits such as r/watchpeopledie allowed to exist',\n",
              " 'culture of china are chinatowns dirty if so why',\n",
              " 'what are the side effects of sinamet',\n",
              " 'do all secret service agents have very high iq’s and graduated as valedictorian',\n",
              " 'is it possible to hack android phone without physical access',\n",
              " 'is intel nucs cooling system good enough for always-on usage',\n",
              " 'have you ever caught someone talking about you in another language',\n",
              " 'whats it mean to move down concentration gradient',\n",
              " 'why arent the muslims of india considered indians by many sikh/hindu/buddhist/jain/christian indians',\n",
              " 'i want to create a wifi campus of our college through bsnl dsl broadband connection which type of equipment required for 100 users wifi campus',\n",
              " 'were helmut schmidts facial proportions indicative of a man of low testosterone or high testosterone',\n",
              " 'what can you do with an mpa and an mpp',\n",
              " 'why does the apparent weight of a body decrease in a lift moving downwards',\n",
              " 'should i attach my cv the first time correspond to a professor for higher studies',\n",
              " 'what are the tips and hacks for getting the classes that you want as a freshman at xavier university',\n",
              " 'how are boobs card magic tricks performed',\n",
              " 'whats it like to be elon musk',\n",
              " 'what are some characteristics of arachnids what are some examples',\n",
              " 'what is the job of a management trainee in hindustan aeronautics limited',\n",
              " 'how do i travel singapore without tour packages',\n",
              " 'my marks in class 10 sa1 are english 67/ 70  maths 52/90  ss 84/90  science 83/90 hindi 74/90 my fas are a1s can i get 10 cgpa in class 10',\n",
              " 'is there a quora detox program',\n",
              " 'my right hand hurts every time i write with it whats wrong and what can i do',\n",
              " 'why would shahrukh khan want to have a 3rd child after so many years even when he has a son and a daughter',\n",
              " 'is apathy indifference or cowardice most contemptable or dispicable from a moral standpoint',\n",
              " 'whats the truth about drug testing welfare recipients',\n",
              " 'how does it feel to be in a relationship than being single and how does our life changes when we are in a relationship',\n",
              " 'what are some major social faux pas to avoid when visiting angola',\n",
              " 'how often are winning lotto numbers picked versus randomly generated by the machine',\n",
              " 'what is holden commodore stud pattern and what are its advantages',\n",
              " 'what are the advantages and disadvantages of marrying other nationalities',\n",
              " 'is there anything wrong with masturbating and watching porn if so is it forgivable',\n",
              " 'what is the cheapest way to host nodejs',\n",
              " 'how well does the vpn called lantern work in china',\n",
              " 'what contemporary writers has j k rowling influenced',\n",
              " 'how can the coking happen on a load tap changer',\n",
              " 'how do i write a script for street play in hindi',\n",
              " 'in oklahoma what is the law regarding calling police to get my borrowed car back',\n",
              " 'what are the commonalities between bengalis kashmiris punjabis and sindhis',\n",
              " 'how could you lose weight as fast as possible',\n",
              " 'what are the best hostel blocks in the mens hostel',\n",
              " 'how was harry potter able to burn professor quirrells body with his hands in harry potter and the sorcerersphilosophers stone',\n",
              " 'who is the most famous actor or actress in the western films',\n",
              " 'if you as a low level employee have the opportunity to share a quality time with your general manager in a 11 what would you talk about',\n",
              " 'what does it mean to be shallow',\n",
              " 'what language did cleopatra speak to julius caesar/mark antony',\n",
              " 'why do we cry when we are happy and when we are sad',\n",
              " 'how do i prepare for city level times nie think and learn challenge ahmedabad',\n",
              " 'what do different colors signify on cop cars in the us',\n",
              " 'is premium silver colour in maruti baleno a great choice',\n",
              " 'what are the best places to study in nyc',\n",
              " 'why do some people love dogs so much',\n",
              " 'what are some of the best apps developed using phonegap',\n",
              " 'where can i get very affordable commercial painting services in northern beaches',\n",
              " 'if you saw a button and had no idea whatsoever what it does would you push it',\n",
              " 'can a ultrafine grinding mill process glass',\n",
              " 'how does yeti college app work',\n",
              " 'where is the best value online shopping for jewellery',\n",
              " 'how effective is krav maga for self-defense as compared to other martial arts',\n",
              " 'if a girl and a boy talk to each other on whatsapp daily for 3-4 hours continuously can i assume them to be a couple',\n",
              " 'how do i gain self-confidence',\n",
              " 'how likely is it that there was an ancient now subsided continent in the arctic circle',\n",
              " 'does coffee make you less hungry',\n",
              " 'hi i use easy soft like wysiwyg web builder to make a website is there an easy program to create responsive websites i dont want online makers',\n",
              " 'what were some of the causes of world war v',\n",
              " 'manchester uk what are the keys to impersonating a good mancunian accent',\n",
              " 'what is the highest snapchat score',\n",
              " 'which is a suitable inpatient drug and alcohol rehab center in page county ia',\n",
              " 'how do i get people to like me if people always take me seriously',\n",
              " 'how do i program with unity 3d',\n",
              " 'how can i make 20$ an hour online',\n",
              " 'what do you think is the greatest country in the world',\n",
              " 'what are the laws regarding deemed rental income tax in india regarding commercial premises',\n",
              " 'what is the best anime to watch when you are bored',\n",
              " 'how can i purchase a one plus 3t from amazon using a bajaj finserv emi card',\n",
              " 'how do i get pdf of last 10 years hsc question papers of science',\n",
              " 'how are the muslim and christian religions so similar',\n",
              " 'how do i increase my chest and arms size on which exercises i should emphasize',\n",
              " 'what are some of your favourite movies of all time',\n",
              " 'is there an effective shortcut to writing equations in a google doc',\n",
              " 'how do i poop efficiently',\n",
              " 'what does the lock symbol mean on an iphone 5 how do you remove it',\n",
              " 'what iconic photographs images or paintings are there that relate to choir singing',\n",
              " 'how will you address the situation in israel',\n",
              " 'what will be the car insurance cost in india for commercial vehicle',\n",
              " 'does having sex with men with large penises stretch out the vagina',\n",
              " 'what do you like to talk about when you got nothing left to talk about',\n",
              " 'what is the best site for publishing poetry',\n",
              " 'what is the exact english word for the amavasya',\n",
              " 'if light has zero mass then as per this [math]e=mc^2[/math] light must have zero energy is it so',\n",
              " 'has anyone used mysocialfollowingcom',\n",
              " 'what are some good places to visit in chennai when youre all by yourself',\n",
              " 'what is it like to be a data scientist at tencent',\n",
              " 'how is the 4th dimension explained or the ones past it',\n",
              " 'what is the importance of maths in our daily life',\n",
              " 'do indian actors really go nude while filming',\n",
              " 'when you make multiple page website do you make a wireframe and design for each page',\n",
              " 'why are some people just so evil',\n",
              " 'how do i hack tp-link router wi-fi to hack its password',\n",
              " 'how ant walks from corner a bottom left of front wall to the other corner c bottom right of rear wall of a 3 meter cubical room shortest route',\n",
              " 'how do random spam google groups subscribe my email id without my confirmation',\n",
              " 'types of courses after mechanical engineering',\n",
              " 'why do i suddenly feel so sad without any reason',\n",
              " 'how was the experience of the recent goa trip by maximus travellers',\n",
              " 'how does one become real estate tycoon',\n",
              " 'what universities does yodlee recruit new grads from what majors are they looking for',\n",
              " 'is it better to wear a suit or put it in a suitcase when travelling',\n",
              " 'what is coffee',\n",
              " 'how much do youtubers make when each of their videos get 50k 100k 500k 1m and 15m views',\n",
              " 'how do i add a clickable link to instagram bio',\n",
              " 'should india have to worry about russia and pakistan joint military drill',\n",
              " 'who are some individuals to have given superb performances at the inter-iit sports meet over the years',\n",
              " 'is there a term for someone who both murders and mugs/robs their victims',\n",
              " 'how do i build my resume for a deep learning job also where can i find online deep learning projects which i can work on and put my code on github',\n",
              " 'are developers working on making google chrome more efficient with memory',\n",
              " 'how do i talk like a native english speaker',\n",
              " 'am i being judgmental if i tell a person that he/she is judgmental',\n",
              " 'my icloud id is block and recovery email is also the same and i dont remember my security question how can i open it',\n",
              " 'i was working on a startup idea from 3 months and google launched same product todaywhat do i do now',\n",
              " 'when do i know when it is time to move on',\n",
              " 'what is the best scoring optional subject in upsc',\n",
              " 'is there any proof that ghosts are real',\n",
              " 'is it safe to drink tap water in tokyo',\n",
              " 'what is green building',\n",
              " 'wake work eat rest repeat i just watch people make judgments learn from them move on silent watcher why am i not happy with this life anymore',\n",
              " 'what is your biggest mistake in life',\n",
              " 'is it wrong to masturbate multiple times everyday',\n",
              " 'which is the best coaching institute for upsc general studies in delhi',\n",
              " 'what are good toys for children',\n",
              " 'what are two chemical tests which distinguish ethane from ethyne',\n",
              " 'what is the relation between velocity and speed',\n",
              " 'how do i research in computer science at mphil',\n",
              " 'what is your favorite letter in the american alphabet',\n",
              " 'are male trump-critics just closet misogynists who think women are weak',\n",
              " 'how can i get into newspaper journalism',\n",
              " 'why could a mother hate her daughter',\n",
              " 'if you were a farmer what would you grow',\n",
              " 'how much money has been deposited till 30th nov 2016 in banks',\n",
              " 'does coding grow on you over time',\n",
              " 'how do you cash a bank cheque',\n",
              " 'where do congressmen and senators live when they are in dc',\n",
              " 'how can touching each other sex give pleasure',\n",
              " 'how can you make pumpkin pie without using evaporated milk',\n",
              " 'is there a word to translate shallowin french in one wordwhen we talk about a body of liquid',\n",
              " 'how many days does it take to get permanent driving licence after taking tests in maharashtra',\n",
              " 'how many white walkers have been killed how many are still alive',\n",
              " 'walk me through your resume',\n",
              " 'what is the difference between the mechanisms of 1-star and 5-star energy rating appliances',\n",
              " 'how end customer can suggest more use cases to established startups that might interest the founders/management',\n",
              " 'what is a movable pulley what are some examples',\n",
              " 'why do indian tv channels show a lot of ads',\n",
              " 'how do you stay motivated coding',\n",
              " 'what are some differences and parallels of the great gatsby and the hunger games',\n",
              " 'why is javascript the future of web development',\n",
              " 'is there real iq testing online',\n",
              " 'what is the partial pressure of oxygen in atmosphere',\n",
              " 'shouldnt cricket not hockey be the national sport of india',\n",
              " 'where can i get ethnic bengali products',\n",
              " 'what are some major social faux pas to avoid when visiting ethiopia',\n",
              " 'how can you lessen waste production in your home',\n",
              " 'english language is it correct to use the following sentence i will update you once i get more updates',\n",
              " 'did buddhism give birth to hinduism',\n",
              " 'does blending increase sugar content of fruit',\n",
              " 'where do i start if i want to specialize in affiliate marketing ',\n",
              " 'what should be the minimum distance between two grilles in hvac ducting',\n",
              " 'why do loud noises make me dizzy',\n",
              " 'do you know aamir khan',\n",
              " 'if the cops come to my house and i dont answer the door what can happen',\n",
              " 'which is best perfume avaliable in india',\n",
              " 'how do i install craked saavn pro apk file when there is inbuilt saavn installed in android device with the conflicting signature help required',\n",
              " 'what if i apply for pan card online but my application has not reached to nsdl within 15 days',\n",
              " 'how can i lose weight without eating less',\n",
              " 'what are some very good websites or pieces of  software that are banned or not available in india',\n",
              " 'which one mobile app you cant live without',\n",
              " 'what is an android app that can change a male voice to female when someone calls',\n",
              " 'is it likely that stem cell tooth regeneration will be possible by next year 2017',\n",
              " 'what are some of the best coursera courses',\n",
              " 'how do i deal with an arrogant teacher',\n",
              " 'what is origin of that violin music before bade acche lagte hain song from movie balika vadhu ',\n",
              " 'what cities and/or states in mexico do you highly recommend to visit',\n",
              " 'did the union army enslave tens of thousands of freed black people in concentration camps',\n",
              " 'what pleases american women',\n",
              " 'do psus verify the authenticity of obc-nc certificates',\n",
              " 'what scenes in furious 7 were filmed with caleb and cody standing in for their late brother paul walker',\n",
              " 'why doesnt isis just attack the us and leave the rest of the world alone',\n",
              " 'how can i learn 3d projection mapping',\n",
              " 'how can i buy a virtual us prepaid visa card using paypal',\n",
              " 'who should win the champions league this season',\n",
              " 'what is some famous flute music',\n",
              " 'which is the highest peak of india k2 or kachenjungha',\n",
              " 'is instagram easily hacked',\n",
              " 'what are some tips for socializing in grad student parties',\n",
              " 'how do i pass a drug test for methamphetamine',\n",
              " 'who do you think is the greatest president in us history and why',\n",
              " 'why it is not a crime to reuse medical device in india',\n",
              " 'how many drops of rain fall in a heavy rain storm in a square mile in 5 minutes',\n",
              " 'what are the applications of antikythera mechanism',\n",
              " 'what loving rainy days can reveal about my personality',\n",
              " 'why was the wax museum in philadelphia built',\n",
              " 'do all animals fart if not which ones dont',\n",
              " 'i got selected for internship at inria 15th june to 15th aug am i eligible for charpak research scholarship if so please specify for how long',\n",
              " 'which is better nikon d5300',\n",
              " 'i am a heavy drinker will liv52 ds help me by protecting my liver',\n",
              " 'how much sunlight hits the earth',\n",
              " 'do those men who write clever questions on quora get hit on by beautiful quoran women',\n",
              " 'how do i find money to invest in real estate',\n",
              " 'what is the revenue model of imagesbazarcom',\n",
              " 'what is it like to work in other countries as a foreigner',\n",
              " 'where is president obama while louisiana floods and milwaukee burns',\n",
              " 'are there film jobs in oakland ca',\n",
              " 'i need to get an email address/a contact number of a national sales/marketing head of the fmcg and a consumer good companies in india how can i do that',\n",
              " 'what is the one must not do things in life',\n",
              " 'is china authoritarian or totalitarian',\n",
              " 'do employees at moduslink global have a good work-life balance does this differ across positions and departments',\n",
              " 'why doesnt the end justify the means',\n",
              " 'how many cafes are there in gangnam',\n",
              " 'how hard is it to learn russian compared to japanese',\n",
              " 'who will win the game of thrones and why',\n",
              " 'can men ever understand what women want',\n",
              " 'what universities does scivac therapeutics recruit new grads from what majors are they looking for',\n",
              " 'do you think that it is easier to learn new subjects by yourself or do you think it is better to have a teacher',\n",
              " 'what is a semi-perishable food and what are a few examples',\n",
              " 'how do i prepare for an interview for tax at ernst and young',\n",
              " 'what if the south won the american civil war',\n",
              " 'how are the principles of training applied to different sports',\n",
              " 'which is better the classic 350 or the bullet 350',\n",
              " 'how safe is adobe flash player',\n",
              " 'what is the best c++ unit testing framework',\n",
              " 'which is better coetl or coepd',\n",
              " 'what are the contents or details of the malaysian school syllabus',\n",
              " 'should i get an ipad pro or imac',\n",
              " 'what are some of the best short films available on the web',\n",
              " 'why is [math]\\\\cos 30^\\\\circ[/math] equal to [math]\\\\cos -330^\\\\circ[/math]',\n",
              " 'what are the worst breakup experiences',\n",
              " 'who is more powerful between james potter and severus snape',\n",
              " 'what are some good software internships for sophomores',\n",
              " 'why are there 3 stumps in the game of cricket',\n",
              " 'is trump winning the debate',\n",
              " 'how do you know if a lacoste bag is original',\n",
              " 'how can i invest 25000₹',\n",
              " 'i have broken the glass of my ipad air what is the cost of the original apple replacement screen',\n",
              " 'what can be the best shirt and tie combinations with grey suit',\n",
              " 'whats it like working for peter thiel',\n",
              " 'why does quora moderation delete questions about quora moderation',\n",
              " 'what are the best known all-rounder exercise regimes for strength stamina/endurance flexibility and form',\n",
              " 'everyone knows that cigarette smoking is hazardous to your health warning label in plain sight why do some people plead ignorance of the danger',\n",
              " 'why couldnt we see powered by google on every self-driving car in the world like how every computer is powered by intel',\n",
              " 'what producers live in coral reefs',\n",
              " 'how can i be happy',\n",
              " 'what does it take to think like a mathematician',\n",
              " 'i am doing a diploma in mechanical engineering am i eligible for getting a lateral entry admission in anna university rec iit bits bilani and other famous engineering colleges what is the percentage required to join',\n",
              " 'what thing that is usually reserved for kids do you wish was more socially acceptable for adults to enjoy',\n",
              " 'what is the best way of creating android apps how about phonegap',\n",
              " 'what is the difference between ‘extremist christians’ and christians',\n",
              " 'what are the best ways to train a red nose pit bull puppy',\n",
              " 'what movie was michelle williams in when she left her boyfriend for another man and things ended up the same with him',\n",
              " 'i want to become a porn star how can i apply',\n",
              " 'what do you think will be the 2017 new york yankees everyday lineuppitching rotation and total payroll',\n",
              " 'why world-class products refer only to high value/quality products shouldnt “world class products” also refer to cheap goods made for the poor',\n",
              " 'how do i cope from a failure',\n",
              " 'is margarine healthier than butter',\n",
              " 'what are some beautiful urdu/hindi couplets',\n",
              " 'why do bruises appear randomly for no reason on my arms and legs',\n",
              " 'how can i post an article on quora',\n",
              " 'how many stocks does microsoft india give for each promotion/level jump',\n",
              " 'what is your review of the evil dead 1981 movie',\n",
              " 'has the obsession with skorea negatively effected japans economy and tourism',\n",
              " 'what is it like to have a cool spouse',\n",
              " 'how is python used in website programming',\n",
              " 'what are the best free microsoft office alternatives',\n",
              " 'learning english what can i do to improve my listening and speaking skills',\n",
              " 'what is it like to wear a skirt with no underwear',\n",
              " 'how is wind energy classified and how does it differ from other energies',\n",
              " 'can you solve this logic venn diagram question',\n",
              " 'is the v-gate motor real',\n",
              " 'when i was in shanghai recently i saw someone wearing a t-shirt that said land of the free in english why would a chinese person do that how dangerous was it',\n",
              " 'my friend keeps having someone put a symbol on his vehicle its a circle with a triangle in it what could this symbol mean',\n",
              " 'should i let go of my best friend',\n",
              " 'why should cigarettes not be banned',\n",
              " 'has anyone really seen or experienced lord shiva',\n",
              " 'what is it like to be a sociology professor',\n",
              " 'what did the enlightened say',\n",
              " 'can conversations with a complete stranger on public transportation help change lives',\n",
              " 'would jeremy corbyn be a great pm',\n",
              " 'what is the scope of the indian chartered accountants abroad',\n",
              " 'how do you follow a story on snapchat',\n",
              " 'what is the possessive pronoun of it',\n",
              " 'does the rdio api let you display a users most listened to track during a period of time',\n",
              " 'which animal is considered to be the most curious in nature and why',\n",
              " 'how does hypnotism work',\n",
              " 'how competitive is the hiring process at heritage financial',\n",
              " 'how can we find the wifi password on android',\n",
              " 'why can’t i fall in love',\n",
              " 'why does my mouth smell bad',\n",
              " 'how can i join indias intelligence agency raw',\n",
              " 'how much does one can earn from being a travel partner and a driver with cab services like ola or uber',\n",
              " 'how can i get a quantitative finance summer internship',\n",
              " 'what can i do to recover photos from an app lock vault showing files are damaged',\n",
              " 'i got 112 rank in cdac a+b+c my subject of interest is vlsi is there any chance that i would get cdac pune noida for vlsi',\n",
              " 'how can i improve my communication skills and vocabulary rapidly',\n",
              " 'why does twitter not show the number of views any tweet gets',\n",
              " 'do boys like introvert girls',\n",
              " 'on a weight loss journey how harmful will  maggi be to my dieting if taken once in a week',\n",
              " 'is it true that godels incompleteness theorem is wrong or just logical fallacies',\n",
              " 'what is the ias exam procedure',\n",
              " 'what is a perfect elastic demand',\n",
              " 'why do people say quora isnt a dating site when it has clearly brought couples together',\n",
              " 'what should the philosophy of a student be',\n",
              " 'what are some examples of modern imperialism',\n",
              " 'how does the hp officejet 4620 airprint compare to the hp color laserjet enterprise m750n',\n",
              " 'which is a good solar panel installation provider near tempe arizona az',\n",
              " 'how do tall trees lift water to their top leaves and just how high can this process manage',\n",
              " 'epics of india is it true that peacocks dont mate physically',\n",
              " 'what are some examples of sentences using the word analyze',\n",
              " 'how do you make your baby hair at the edge of your hairline grow thicker',\n",
              " 'how do i find a specific song pandora played',\n",
              " 'whats the difference between literal integer int and integral in java',\n",
              " 'is it rude to say that i don’t understand “caucasian english”',\n",
              " 'what organisms belong in the kingdom eubacteria',\n",
              " 'where can i sell old coins in india',\n",
              " 'which is a suitable inpatient drug and alcohol rehab center near wayne county il',\n",
              " 'who owns historic tw inc',\n",
              " 'what happens when a atom bomb explodes',\n",
              " 'what are 2 arguments against cpi',\n",
              " 'how do i find a startup accelerator',\n",
              " 'i came to know after 26 years that i am adopted what should i do',\n",
              " 'is it safe to buy nokia 1100 refurbished',\n",
              " 'what is the word used for the psychological treatment by faith in medicine',\n",
              " 'how can i know whether i am allergic to garlic',\n",
              " 'can i have sex without losing my virginity',\n",
              " 'as a young entrepreneur how do you begin the development of an incredibly capital intensive concept eg design and manufacturing of aircraft',\n",
              " 'who is ram gopal varma',\n",
              " 'is demonetization demonetisation in india a failure',\n",
              " 'which presidential campaign is attacking the other campaign more in 2016',\n",
              " 'botswana what are the duties rights and responsibilities of motswana citizens',\n",
              " 'how can i see if my contact has read my message on whatssup even if he has not enabled read receipt',\n",
              " 'are you at the worst moment of your life',\n",
              " 'does the bond includes training program also in mindtree',\n",
              " 'what are some things new employees should know going into their first day at epizyme',\n",
              " 'what is the difference between bay gulf and straits',\n",
              " 'do airline pilots touch every button in the cockpit during a flight',\n",
              " 'why does $500 trillion rich rothschilds are not on forbes richest people list',\n",
              " 'does quora censor questions',\n",
              " 'what are the best and worst things about public transit in qinhuangdao hebei china how could it be improved',\n",
              " 'how do companies earn profit in share market',\n",
              " 'do girls like fat men',\n",
              " 'which is the best website for downloading latest english songs',\n",
              " 'google translate is not working for me what should i do',\n",
              " 'what are the health benefits of calamansi juice',\n",
              " 'do presidents have to pay taxes on their salary',\n",
              " 'why did muhammad prescribe hundred lashes for men who displayed transsexual behavior',\n",
              " 'what are some of the different reasons why people use the internet',\n",
              " 'why india does not have a porn industry',\n",
              " 'do you know career options in finance',\n",
              " 'how can i a apply and prepare for gre',\n",
              " 'what are few small things that i can do everyday to change my mindset & forget my past there few things of my past that really haunt me quite often',\n",
              " 'how do i simulate exam-time psychology at home',\n",
              " 'how can i get mooc related to md anaesthesiology developed by indian doctors/medical professorial/professors',\n",
              " 'what are some net beneficial and net detrimental effects of gun ownership',\n",
              " 'who qualifies to be a top developer on google play store',\n",
              " 'is jesus a myth',\n",
              " 'how can i become an astronomer in india',\n",
              " 'what is the best way to make new friends in college',\n",
              " 'do you say merry christmas',\n",
              " 'what does lien amount in the sbi mean',\n",
              " 'who came up with the idea of alphabet',\n",
              " 'why do men give women flowers',\n",
              " 'what is the sequence control structure',\n",
              " 'how does antitrust work for news organizations',\n",
              " 'why is it a big deal about the way you treat the indian flag while its completely opposite or chilled out in america',\n",
              " 'why do we see stars shining',\n",
              " 'what are the symptoms of chikungunya',\n",
              " 'can you get a refund on digital purchases on xbox one',\n",
              " 'as a man how can i reduce the size of my butt with exercise',\n",
              " 'i am interested in engineering mechanics and mechanics of material i am going to join mtech next year which course will be good for me',\n",
              " 'why did ross perot decide to run for president why didnt he win',\n",
              " 'does how a language sound represent the character of the nation',\n",
              " 'why is an unripe banana more difficult to digest than a ripe banana',\n",
              " 'what are the best books of ca final',\n",
              " 'how can i track my swift transfer',\n",
              " 'what are the best bschools i can apply for with 8836 percentile in cat 2016',\n",
              " 'what are those technical and non technical terms used in share market trading',\n",
              " 'is it safe to eat raw deer meat',\n",
              " 'how should californians vote on 2016s proposition 61',\n",
              " 'how do you say education in latin',\n",
              " 'how good is cable fibre or adsl broadband internet access at residential properties in shenzhen guangdong china',\n",
              " 'is my phone hacked or something i got signed out of some apps last night and am getting ssl errors everywhere my phone was working fine until now',\n",
              " 'is the police & law enforcement training ‘duluth model’ of domestic violence intervention used in california',\n",
              " 'is it true that 50% of the people have iq less than average',\n",
              " 'it has been 22 days and still my jio sim is not activated i know there is a lot of demand but still 22 days what can be the issue',\n",
              " 'can i pursue robotics and automation engineering after btech electronics engineering',\n",
              " 'what is the weight of an ounce of water',\n",
              " 'how should i pluck my eyebrows',\n",
              " 'im trying to make a program that simulates distance vector routing with a file with router tables where can i find good examples and resources',\n",
              " 'where is the best place to get a slow loris',\n",
              " 'what are the differences between yahoo answers and quora',\n",
              " 'what is the best free porn website',\n",
              " 'what does enable mean',\n",
              " 'does anyone ever become an atheist or do you just realize you always were one',\n",
              " 'why is hiring process so slow in india',\n",
              " 'what is the best way to study for cell biology and histology',\n",
              " 'how do i get the value for an electric potential difference between 2 points',\n",
              " 'cant continue gym for more than 1 month more detail in comment',\n",
              " 'what are best online jobs',\n",
              " 'how do you give a speech when you so nervous that make your brain blank it make me so embarrassed',\n",
              " 'what is the most positively impactful way to spend 5 years of life before dying',\n",
              " 'what are the best male masturbation techniques',\n",
              " 'what is the average iq of 13 year olds ',\n",
              " 'what is your favorite coffee blend',\n",
              " 'what does a hair transplant that lasts a lifetime cost',\n",
              " 'what are the best courses for commerce stream students after 12th',\n",
              " 'what are the best house plan for a plot of size 20 *50 feet',\n",
              " 'why is the dark side better',\n",
              " 'where can a 1st year engineering student find internships',\n",
              " 'which is the best gate coaching center in thrissur for ece',\n",
              " 'what should one do an msc in physics with dual in mechanical from bits pilani/goa or a btech in mechanical from bits goa',\n",
              " 'what is the minimum value of |z-1|+|z-5|',\n",
              " 'where does power come from',\n",
              " 'what is the difference between passion and obsession',\n",
              " 'which is better analysis software staad pro or cype or etabs',\n",
              " 'what is extracellular fluid what are some examples',\n",
              " 'how is mba hr from ubs chandigarh in terms of placements and overall experience',\n",
              " 'which is less unhealthy a can of coke or a can of beer',\n",
              " 'how many hours should a person read a day',\n",
              " 'how to track views from facebook instant articles in google analytics',\n",
              " 'going to dubai in december this year what are the places i must see/must go',\n",
              " 'if someone handed you a book and you started reading it but then realized that it was about your entire life would you read until the end',\n",
              " 'do you think donald trump and hillary clinton unfit for the presidency',\n",
              " 'what are the characteristics of classical art',\n",
              " 'what are the properties of solids liquids and gases how are they used',\n",
              " 'which oil filled heater is best for home what type of oil heater should i buy in india',\n",
              " 'what is the difference between a systems engineer and a systems administrator',\n",
              " 'what is the chemical equation for water and tartaric acid',\n",
              " 'which format works best for short youtube lectures drawing on a whiteboard or using a slide deck with a green screen',\n",
              " 'what trees are native to arunachal pradesh',\n",
              " 'i have a e6-2670 desktop with 32g ssd and raid 0 ssds how can i make my desktop even faster and fast-responding i want better performance',\n",
              " 'how many atoms are present in 20 mol of sulfuric acid',\n",
              " 'can i become a bookseller even if i dont read a lot of books',\n",
              " 'what are some exercises to make jawline visible',\n",
              " 'how do i play dota 2 at iit g',\n",
              " 'when will episode 278 of fairy tail come out',\n",
              " 'is it really matter what the people think about you',\n",
              " 'what is the best reliable 50cc scooter for its price',\n",
              " 'what are 3 functions of dna',\n",
              " 'how much energy does it take to pump 2 million litres of water',\n",
              " 'is it possible to grow hair on natural wide forehead with natural ingredients',\n",
              " 'my facial hair grows properly only on the right side of my face totally asymmetrically on the line dividing the face literally in two what is the reason for this',\n",
              " 'what level of software engineers are authorised to fly business class at google',\n",
              " 'what is the deepest lake in europe and how does this lakes flora and fauna compare to that of lake van',\n",
              " 'which preposition is used after verb -call',\n",
              " 'does youtube pays for videos which have been watching from unknown region',\n",
              " 'how do i get more and more room nights to achieve the targets in oyo rooms as a demand manager',\n",
              " 'how can i prepare for jee mains in a month',\n",
              " 'how do i increases mental endurance',\n",
              " 'how can i start day trading with only 50 dollars',\n",
              " 'should i change my workout routine',\n",
              " 'how can i learn to read',\n",
              " 'what are you tired of seeing on quora',\n",
              " 'should we shampoo after oiling our hair or should we apply oil after shampooing',\n",
              " 'how can the chemical formula for potassium hydrogen phosphate be balanced',\n",
              " 'how does the nodejs mocha testing library work',\n",
              " 'what best sites for design',\n",
              " 'can i study physical science and web development together',\n",
              " 'do hrs get to travel around the world',\n",
              " 'is the ma in economics at university of waterloo good',\n",
              " 'what are some research paper topics for an architecture college student',\n",
              " 'how is an orgasm different during intercourse and fingering',\n",
              " 'why is my youtube not working properly',\n",
              " 'what are the personnel requirement for a start-up collateral management company',\n",
              " 'how did soybeans become a cash crop in louisiana what is the economic impact of this industry in louisiana',\n",
              " 'what would be the consequences of finding a cure for cancer',\n",
              " 'what was the cutoff last year in tissnet exam for ma in hrm & lr course',\n",
              " 'how do you promote your app for free',\n",
              " 'how has the cia harmed the united states international relations',\n",
              " 'what are some similes for death',\n",
              " 'when will people started creating the batman costume/outfit from telltale batman game',\n",
              " 'where can i purchase all in one solar street lights',\n",
              " 'can you paint over stainless steel',\n",
              " 'what is the solution to this math problem',\n",
              " 'what is the impact factor of a journal',\n",
              " 'do period cramps improve as we age',\n",
              " 'what is the best lead generator',\n",
              " 'is it time-consuming to play the drums',\n",
              " 'why are american tv shows mostly popular in india',\n",
              " 'which building has the best architecture in china',\n",
              " 'which one do you prefer game of thrones or vikings',\n",
              " ...]"
            ]
          },
          "metadata": {},
          "execution_count": 41
        }
      ]
    },
    {
      "cell_type": "code",
      "source": [
        "tokenizer = Tokenizer()\n",
        "tokenizer.fit_on_texts(filtered_questions1 + filtered_questions2)"
      ],
      "metadata": {
        "id": "fFOZ0ODcTxt2"
      },
      "execution_count": 42,
      "outputs": []
    },
    {
      "cell_type": "code",
      "source": [
        "questions1_sequence = tokenizer.texts_to_sequences(filtered_questions1)\n",
        "questions2_sequence = tokenizer.texts_to_sequences(filtered_questions2)"
      ],
      "metadata": {
        "id": "0QuvzqDBWOMp"
      },
      "execution_count": 43,
      "outputs": []
    },
    {
      "cell_type": "code",
      "source": [
        "MAX_SEQUENCE_LENGTH =31\n",
        "q1_data =pad_sequences(questions1_sequence, maxlen = MAX_SEQUENCE_LENGTH, padding='post')\n",
        "q2_data =pad_sequences(questions2_sequence, maxlen = MAX_SEQUENCE_LENGTH, padding='post')"
      ],
      "metadata": {
        "id": "Kia-UsC5Wknr"
      },
      "execution_count": 44,
      "outputs": []
    },
    {
      "cell_type": "code",
      "source": [
        "q1_data"
      ],
      "metadata": {
        "colab": {
          "base_uri": "https://localhost:8080/"
        },
        "id": "IDhAXVGfX_X7",
        "outputId": "59070d44-eaf1-486e-83d2-eae0a5182790"
      },
      "execution_count": 45,
      "outputs": [
        {
          "output_type": "execute_result",
          "data": {
            "text/plain": [
              "array([[    2,    11,     1, ...,     0,     0,     0],\n",
              "       [   13,  1934, 25397, ...,     0,     0,     0],\n",
              "       [   24,     5,  5083, ...,     0,     0,     0],\n",
              "       ...,\n",
              "       [    4,    21,     7, ...,     0,     0,     0],\n",
              "       [    2,    21,  7818, ...,     0,     0,     0],\n",
              "       [    9,    15,   301, ...,     0,     0,     0]], dtype=int32)"
            ]
          },
          "metadata": {},
          "execution_count": 45
        }
      ]
    },
    {
      "cell_type": "code",
      "source": [
        "q1_data.shape"
      ],
      "metadata": {
        "colab": {
          "base_uri": "https://localhost:8080/"
        },
        "id": "r8oXpbnUYANh",
        "outputId": "de4a80e6-a86b-4b69-f341-3c77235a4917"
      },
      "execution_count": 46,
      "outputs": [
        {
          "output_type": "execute_result",
          "data": {
            "text/plain": [
              "(298526, 31)"
            ]
          },
          "metadata": {},
          "execution_count": 46
        }
      ]
    },
    {
      "cell_type": "code",
      "source": [
        "word_vocab={}\n",
        "word_vocab = tokenizer.word_index\n",
        "word_vocab[\"<PAD>\"] = 0\n",
        "word_vocab"
      ],
      "metadata": {
        "colab": {
          "base_uri": "https://localhost:8080/"
        },
        "id": "BcIrUQ2xYCCr",
        "outputId": "55571db4-34e1-4fc3-e3b3-3dd46156024e"
      },
      "execution_count": 47,
      "outputs": [
        {
          "output_type": "execute_result",
          "data": {
            "text/plain": [
              "{'the': 1,\n",
              " 'what': 2,\n",
              " 'is': 3,\n",
              " 'how': 4,\n",
              " 'i': 5,\n",
              " 'to': 6,\n",
              " 'a': 7,\n",
              " 'in': 8,\n",
              " 'do': 9,\n",
              " 'of': 10,\n",
              " 'are': 11,\n",
              " 'and': 12,\n",
              " 'can': 13,\n",
              " 'for': 14,\n",
              " 'you': 15,\n",
              " 'why': 16,\n",
              " 'best': 17,\n",
              " 'my': 18,\n",
              " 'it': 19,\n",
              " 'on': 20,\n",
              " 'does': 21,\n",
              " 'which': 22,\n",
              " 'be': 23,\n",
              " 'if': 24,\n",
              " 'or': 25,\n",
              " 'some': 26,\n",
              " 'get': 27,\n",
              " 'that': 28,\n",
              " 'have': 29,\n",
              " 'should': 30,\n",
              " 'with': 31,\n",
              " 'your': 32,\n",
              " 'an': 33,\n",
              " 'from': 34,\n",
              " 'india': 35,\n",
              " 'will': 36,\n",
              " 'people': 37,\n",
              " 'who': 38,\n",
              " 'when': 39,\n",
              " 'like': 40,\n",
              " 'good': 41,\n",
              " 'would': 42,\n",
              " 'at': 43,\n",
              " 'there': 44,\n",
              " 'as': 45,\n",
              " 'quora': 46,\n",
              " 'about': 47,\n",
              " 'between': 48,\n",
              " 'one': 49,\n",
              " 'way': 50,\n",
              " 'most': 51,\n",
              " 'not': 52,\n",
              " 'make': 53,\n",
              " 'we': 54,\n",
              " 'did': 55,\n",
              " 'life': 56,\n",
              " 'by': 57,\n",
              " 'where': 58,\n",
              " 'money': 59,\n",
              " 'was': 60,\n",
              " 'any': 61,\n",
              " 'so': 62,\n",
              " 'me': 63,\n",
              " 'time': 64,\n",
              " 'after': 65,\n",
              " 'learn': 66,\n",
              " 'they': 67,\n",
              " 'know': 68,\n",
              " 'this': 69,\n",
              " 'whats': 70,\n",
              " 'has': 71,\n",
              " 'difference': 72,\n",
              " 'new': 73,\n",
              " 'think': 74,\n",
              " 'trump': 75,\n",
              " 'use': 76,\n",
              " 'much': 77,\n",
              " 'am': 78,\n",
              " 'ever': 79,\n",
              " 'indian': 80,\n",
              " 'all': 81,\n",
              " 'many': 82,\n",
              " 'their': 83,\n",
              " 'work': 84,\n",
              " 'someone': 85,\n",
              " 'online': 86,\n",
              " 'become': 87,\n",
              " 'more': 88,\n",
              " 'us': 89,\n",
              " 'find': 90,\n",
              " 'start': 91,\n",
              " 'than': 92,\n",
              " 'world': 93,\n",
              " 'without': 94,\n",
              " 'better': 95,\n",
              " 'english': 96,\n",
              " 'out': 97,\n",
              " 'notes': 98,\n",
              " 'first': 99,\n",
              " '500': 100,\n",
              " 'other': 101,\n",
              " '1000': 102,\n",
              " 'but': 103,\n",
              " 'want': 104,\n",
              " 'year': 105,\n",
              " '2016': 106,\n",
              " 'questions': 107,\n",
              " 'could': 108,\n",
              " 'dont': 109,\n",
              " 'donald': 110,\n",
              " 'love': 111,\n",
              " 'possible': 112,\n",
              " 'weight': 113,\n",
              " 'job': 114,\n",
              " 'mean': 115,\n",
              " 'up': 116,\n",
              " 'ways': 117,\n",
              " 'feel': 118,\n",
              " 'improve': 119,\n",
              " 'into': 120,\n",
              " 'take': 121,\n",
              " 'day': 122,\n",
              " 'really': 123,\n",
              " 'he': 124,\n",
              " 'were': 125,\n",
              " 'phone': 126,\n",
              " 'things': 127,\n",
              " 'go': 128,\n",
              " 'buy': 129,\n",
              " 'account': 130,\n",
              " 'engineering': 131,\n",
              " 'lose': 132,\n",
              " 'its': 133,\n",
              " 'google': 134,\n",
              " 'long': 135,\n",
              " 'stop': 136,\n",
              " '2': 137,\n",
              " 'language': 138,\n",
              " 'books': 139,\n",
              " 'black': 140,\n",
              " 'person': 141,\n",
              " 'used': 142,\n",
              " 'war': 143,\n",
              " 'sex': 144,\n",
              " 'old': 145,\n",
              " 'being': 146,\n",
              " 'number': 147,\n",
              " 'question': 148,\n",
              " 'girl': 149,\n",
              " 'them': 150,\n",
              " 'thing': 151,\n",
              " 'im': 152,\n",
              " 'need': 153,\n",
              " 'book': 154,\n",
              " 'programming': 155,\n",
              " 'movie': 156,\n",
              " 'compare': 157,\n",
              " 'facebook': 158,\n",
              " 'her': 159,\n",
              " 'business': 160,\n",
              " 'using': 161,\n",
              " 'president': 162,\n",
              " 'his': 163,\n",
              " 'been': 164,\n",
              " 'movies': 165,\n",
              " 'years': 166,\n",
              " 'happen': 167,\n",
              " 'free': 168,\n",
              " '1': 169,\n",
              " 'now': 170,\n",
              " 'different': 171,\n",
              " '3': 172,\n",
              " 'see': 173,\n",
              " 'just': 174,\n",
              " 'under': 175,\n",
              " 'help': 176,\n",
              " 'had': 177,\n",
              " 'still': 178,\n",
              " 'hillary': 179,\n",
              " 'rs': 180,\n",
              " 'going': 181,\n",
              " 'ask': 182,\n",
              " 'clinton': 183,\n",
              " 'before': 184,\n",
              " 'real': 185,\n",
              " 'instagram': 186,\n",
              " 'prepare': 187,\n",
              " 'win': 188,\n",
              " 'no': 189,\n",
              " 'change': 190,\n",
              " 'increase': 191,\n",
              " 'examples': 192,\n",
              " 'website': 193,\n",
              " 'learning': 194,\n",
              " 'over': 195,\n",
              " 'only': 196,\n",
              " 'company': 197,\n",
              " 'iphone': 198,\n",
              " 'college': 199,\n",
              " 'women': 200,\n",
              " 'app': 201,\n",
              " 'computer': 202,\n",
              " 'system': 203,\n",
              " 'our': 204,\n",
              " 'important': 205,\n",
              " 'country': 206,\n",
              " 'live': 207,\n",
              " 'android': 208,\n",
              " 'earn': 209,\n",
              " 'back': 210,\n",
              " 'study': 211,\n",
              " 'bad': 212,\n",
              " 'while': 213,\n",
              " 'made': 214,\n",
              " 'read': 215,\n",
              " 'she': 216,\n",
              " 'top': 217,\n",
              " 'data': 218,\n",
              " 'c': 219,\n",
              " 'energy': 220,\n",
              " 'rupee': 221,\n",
              " 'school': 222,\n",
              " 'science': 223,\n",
              " 'government': 224,\n",
              " '10': 225,\n",
              " 'same': 226,\n",
              " 'through': 227,\n",
              " 'cant': 228,\n",
              " 'during': 229,\n",
              " 'two': 230,\n",
              " '2017': 231,\n",
              " 'water': 232,\n",
              " 'software': 233,\n",
              " 'mobile': 234,\n",
              " 'earth': 235,\n",
              " 'exam': 236,\n",
              " 'high': 237,\n",
              " 'answer': 238,\n",
              " 'give': 239,\n",
              " 'laptop': 240,\n",
              " 'card': 241,\n",
              " 'anyone': 242,\n",
              " 'travel': 243,\n",
              " 'student': 244,\n",
              " 'average': 245,\n",
              " '5': 246,\n",
              " 'password': 247,\n",
              " 'car': 248,\n",
              " 'true': 249,\n",
              " 'right': 250,\n",
              " 'days': 251,\n",
              " 'getting': 252,\n",
              " 'men': 253,\n",
              " 'name': 254,\n",
              " 'rid': 255,\n",
              " 'say': 256,\n",
              " 'favorite': 257,\n",
              " 'math': 258,\n",
              " 'pakistan': 259,\n",
              " 'doing': 260,\n",
              " 'university': 261,\n",
              " 'web': 262,\n",
              " 'career': 263,\n",
              " 'usa': 264,\n",
              " 'election': 265,\n",
              " 'own': 266,\n",
              " 'come': 267,\n",
              " 'china': 268,\n",
              " 'home': 269,\n",
              " 'social': 270,\n",
              " 'hair': 271,\n",
              " 'youtube': 272,\n",
              " 'friends': 273,\n",
              " 'tell': 274,\n",
              " 'mind': 275,\n",
              " 'then': 276,\n",
              " 'relationship': 277,\n",
              " 'video': 278,\n",
              " 'look': 279,\n",
              " 'watch': 280,\n",
              " 'word': 281,\n",
              " 'companies': 282,\n",
              " 'effects': 283,\n",
              " 'meaning': 284,\n",
              " 'write': 285,\n",
              " 'skills': 286,\n",
              " 'even': 287,\n",
              " 'affect': 288,\n",
              " 'students': 289,\n",
              " 'done': 290,\n",
              " 'interview': 291,\n",
              " 'big': 292,\n",
              " 'happens': 293,\n",
              " 'place': 294,\n",
              " 'exist': 295,\n",
              " 'eat': 296,\n",
              " 'bank': 297,\n",
              " 'girls': 298,\n",
              " 'off': 299,\n",
              " 'safe': 300,\n",
              " 'believe': 301,\n",
              " 'tv': 302,\n",
              " 'places': 303,\n",
              " 'food': 304,\n",
              " 'experience': 305,\n",
              " 'guy': 306,\n",
              " 'him': 307,\n",
              " 'man': 308,\n",
              " 'having': 309,\n",
              " 'game': 310,\n",
              " 'friend': 311,\n",
              " 'major': 312,\n",
              " 'service': 313,\n",
              " 'non': 314,\n",
              " 'visit': 315,\n",
              " 'doesnt': 316,\n",
              " 'chinese': 317,\n",
              " 'support': 318,\n",
              " 'human': 319,\n",
              " 'future': 320,\n",
              " 'myself': 321,\n",
              " 'very': 322,\n",
              " 'marketing': 323,\n",
              " 'great': 324,\n",
              " 'cost': 325,\n",
              " 'countries': 326,\n",
              " 'end': 327,\n",
              " 'play': 328,\n",
              " 'working': 329,\n",
              " '4': 330,\n",
              " 'next': 331,\n",
              " 'mechanical': 332,\n",
              " 'against': 333,\n",
              " 'whatsapp': 334,\n",
              " 'age': 335,\n",
              " 'email': 336,\n",
              " 'history': 337,\n",
              " 'gmail': 338,\n",
              " 'control': 339,\n",
              " 'test': 340,\n",
              " 'white': 341,\n",
              " 'answers': 342,\n",
              " 'download': 343,\n",
              " 'delhi': 344,\n",
              " 'modi': 345,\n",
              " 'too': 346,\n",
              " 'internet': 347,\n",
              " 'create': 348,\n",
              " 'differences': 349,\n",
              " 'java': 350,\n",
              " 'economy': 351,\n",
              " 'state': 352,\n",
              " 'last': 353,\n",
              " 'every': 354,\n",
              " 'tips': 355,\n",
              " 'makes': 356,\n",
              " 'god': 357,\n",
              " 'engineer': 358,\n",
              " 'interesting': 359,\n",
              " 'body': 360,\n",
              " 'fat': 361,\n",
              " 'these': 362,\n",
              " 'month': 363,\n",
              " 'states': 364,\n",
              " 'writing': 365,\n",
              " 'actually': 366,\n",
              " 'presidential': 367,\n",
              " 'united': 368,\n",
              " 'market': 369,\n",
              " 'worth': 370,\n",
              " 'note': 371,\n",
              " 'keep': 372,\n",
              " 'class': 373,\n",
              " 'universe': 374,\n",
              " 'hard': 375,\n",
              " 'american': 376,\n",
              " 'music': 377,\n",
              " 'ones': 378,\n",
              " 'hack': 379,\n",
              " 'youve': 380,\n",
              " 'power': 381,\n",
              " 'process': 382,\n",
              " '2000': 383,\n",
              " 'purpose': 384,\n",
              " 'never': 385,\n",
              " 'song': 386,\n",
              " 'girlfriend': 387,\n",
              " 'employees': 388,\n",
              " 'easily': 389,\n",
              " 'delete': 390,\n",
              " 'around': 391,\n",
              " 'america': 392,\n",
              " 'available': 393,\n",
              " 'series': 394,\n",
              " 'reduce': 395,\n",
              " 'making': 396,\n",
              " 'dark': 397,\n",
              " '7': 398,\n",
              " 'course': 399,\n",
              " 'got': 400,\n",
              " 'site': 401,\n",
              " 'banning': 402,\n",
              " 'self': 403,\n",
              " '6': 404,\n",
              " 'light': 405,\n",
              " 'die': 406,\n",
              " 'pay': 407,\n",
              " 'code': 408,\n",
              " 'period': 409,\n",
              " 'digital': 410,\n",
              " 'considered': 411,\n",
              " 'something': 412,\n",
              " 'currency': 413,\n",
              " 'behind': 414,\n",
              " 'always': 415,\n",
              " 'development': 416,\n",
              " 'jobs': 417,\n",
              " 'idea': 418,\n",
              " 'windows': 419,\n",
              " 'salary': 420,\n",
              " 'traffic': 421,\n",
              " 'decision': 422,\n",
              " 'ban': 423,\n",
              " 'height': 424,\n",
              " 'common': 425,\n",
              " 'deal': 426,\n",
              " 'happened': 427,\n",
              " 'speed': 428,\n",
              " 'cat': 429,\n",
              " 'each': 430,\n",
              " 'battle': 431,\n",
              " 'reason': 432,\n",
              " 'months': 433,\n",
              " 'woman': 434,\n",
              " 'another': 435,\n",
              " 'worst': 436,\n",
              " 'police': 437,\n",
              " 'space': 438,\n",
              " 'seen': 439,\n",
              " 'apply': 440,\n",
              " 'x': 441,\n",
              " 'education': 442,\n",
              " 'culture': 443,\n",
              " 'pregnant': 444,\n",
              " 'asked': 445,\n",
              " 'build': 446,\n",
              " 'services': 447,\n",
              " 'bangalore': 448,\n",
              " 'songs': 449,\n",
              " 'open': 450,\n",
              " 'websites': 451,\n",
              " 'looking': 452,\n",
              " 'parents': 453,\n",
              " 'problem': 454,\n",
              " 'score': 455,\n",
              " 'cause': 456,\n",
              " 'facts': 457,\n",
              " 'mba': 458,\n",
              " 'per': 459,\n",
              " 'list': 460,\n",
              " 'today': 461,\n",
              " 'post': 462,\n",
              " 'gain': 463,\n",
              " 'recover': 464,\n",
              " 'universities': 465,\n",
              " 'causes': 466,\n",
              " 'private': 467,\n",
              " 'technology': 468,\n",
              " 'living': 469,\n",
              " 'wrong': 470,\n",
              " 'biggest': 471,\n",
              " 'instead': 472,\n",
              " 'design': 473,\n",
              " 'apps': 474,\n",
              " 'search': 475,\n",
              " 'such': 476,\n",
              " 'games': 477,\n",
              " 'civil': 478,\n",
              " 'date': 479,\n",
              " 'review': 480,\n",
              " 'indians': 481,\n",
              " 'popular': 482,\n",
              " 'hate': 483,\n",
              " 'created': 484,\n",
              " 'kind': 485,\n",
              " 'hotel': 486,\n",
              " 'overcome': 487,\n",
              " 'python': 488,\n",
              " 'well': 489,\n",
              " 'successful': 490,\n",
              " 'show': 491,\n",
              " 'current': 492,\n",
              " 'stay': 493,\n",
              " 'able': 494,\n",
              " 'views': 495,\n",
              " 'ms': 496,\n",
              " 'desert': 497,\n",
              " 'apple': 498,\n",
              " 'join': 499,\n",
              " 'improvement': 500,\n",
              " 'law': 501,\n",
              " 'fast': 502,\n",
              " 'type': 503,\n",
              " 'sleep': 504,\n",
              " 'times': 505,\n",
              " 'run': 506,\n",
              " 'public': 507,\n",
              " 'vote': 508,\n",
              " 'plan': 509,\n",
              " 'benefits': 510,\n",
              " 'death': 511,\n",
              " 'because': 512,\n",
              " 'call': 513,\n",
              " 'preparation': 514,\n",
              " 'air': 515,\n",
              " 'speak': 516,\n",
              " 'easiest': 517,\n",
              " 'move': 518,\n",
              " 'differ': 519,\n",
              " 'management': 520,\n",
              " 'choose': 521,\n",
              " 'international': 522,\n",
              " 'face': 523,\n",
              " 'main': 524,\n",
              " 'sites': 525,\n",
              " 'based': 526,\n",
              " 'fall': 527,\n",
              " 'found': 528,\n",
              " 'family': 529,\n",
              " 'down': 530,\n",
              " 'rupees': 531,\n",
              " 'add': 532,\n",
              " 'safety': 533,\n",
              " 'order': 534,\n",
              " 'profile': 535,\n",
              " 'near': 536,\n",
              " 'machine': 537,\n",
              " 'media': 538,\n",
              " 'program': 539,\n",
              " 'less': 540,\n",
              " 'dog': 541,\n",
              " 'boyfriend': 542,\n",
              " 'suicide': 543,\n",
              " 'degree': 544,\n",
              " 'sydney': 545,\n",
              " 'iit': 546,\n",
              " 'stock': 547,\n",
              " 'startup': 548,\n",
              " 'humans': 549,\n",
              " 'remove': 550,\n",
              " 'ca': 551,\n",
              " 'coaching': 552,\n",
              " 'city': 553,\n",
              " 'child': 554,\n",
              " 'effect': 555,\n",
              " 'story': 556,\n",
              " 'videos': 557,\n",
              " 'visa': 558,\n",
              " 'part': 559,\n",
              " 'both': 560,\n",
              " 'center': 561,\n",
              " 'porn': 562,\n",
              " 'sentence': 563,\n",
              " 'jee': 564,\n",
              " 'canada': 565,\n",
              " 'distance': 566,\n",
              " 'matter': 567,\n",
              " 'faster': 568,\n",
              " 'legal': 569,\n",
              " 'products': 570,\n",
              " 'health': 571,\n",
              " 'ideas': 572,\n",
              " 'medical': 573,\n",
              " 'proposed': 574,\n",
              " 'ias': 575,\n",
              " 'theory': 576,\n",
              " 'invest': 577,\n",
              " 'house': 578,\n",
              " 'drive': 579,\n",
              " 'compared': 580,\n",
              " '20': 581,\n",
              " 'easy': 582,\n",
              " 'small': 583,\n",
              " 'yourself': 584,\n",
              " 'must': 585,\n",
              " 'level': 586,\n",
              " 'point': 587,\n",
              " 'grow': 588,\n",
              " 'also': 589,\n",
              " 'wear': 590,\n",
              " 'uk': 591,\n",
              " 'drug': 592,\n",
              " 'again': 593,\n",
              " 'advice': 594,\n",
              " 'bollywood': 595,\n",
              " 'majors': 596,\n",
              " 'gate': 597,\n",
              " 'precautions': 598,\n",
              " 'given': 599,\n",
              " 'handling': 600,\n",
              " 'terms': 601,\n",
              " 'impact': 602,\n",
              " 'project': 603,\n",
              " 'foreign': 604,\n",
              " 'russia': 605,\n",
              " 'normal': 606,\n",
              " 'pros': 607,\n",
              " 'others': 608,\n",
              " 'languages': 609,\n",
              " 'quality': 610,\n",
              " 'e': 611,\n",
              " 'called': 612,\n",
              " 'value': 613,\n",
              " 'cons': 614,\n",
              " 'hours': 615,\n",
              " 'didnt': 616,\n",
              " 'security': 617,\n",
              " 'physics': 618,\n",
              " 'form': 619,\n",
              " 'rate': 620,\n",
              " 'known': 621,\n",
              " 'pro': 622,\n",
              " '8': 623,\n",
              " 'follow': 624,\n",
              " 'shotguns': 625,\n",
              " 'green': 626,\n",
              " 'side': 627,\n",
              " 'product': 628,\n",
              " 'week': 629,\n",
              " 'nra': 630,\n",
              " 'healthy': 631,\n",
              " 'heard': 632,\n",
              " 'advantages': 633,\n",
              " 'effective': 634,\n",
              " 'famous': 635,\n",
              " 'anything': 636,\n",
              " 'send': 637,\n",
              " 'single': 638,\n",
              " 'btech': 639,\n",
              " 'view': 640,\n",
              " 'blog': 641,\n",
              " 'information': 642,\n",
              " 'research': 643,\n",
              " 'credit': 644,\n",
              " 'earthquake': 645,\n",
              " 'lot': 646,\n",
              " 'institute': 647,\n",
              " 'kill': 648,\n",
              " 'guys': 649,\n",
              " 'talk': 650,\n",
              " 'options': 651,\n",
              " 'exactly': 652,\n",
              " 'snapchat': 653,\n",
              " 'night': 654,\n",
              " 'field': 655,\n",
              " 'studying': 656,\n",
              " 'etc': 657,\n",
              " 'south': 658,\n",
              " '100': 659,\n",
              " 'investment': 660,\n",
              " 'california': 661,\n",
              " 'avoid': 662,\n",
              " 'daily': 663,\n",
              " 'courses': 664,\n",
              " 'cold': 665,\n",
              " 'happy': 666,\n",
              " 'short': 667,\n",
              " 'cell': 668,\n",
              " 'b': 669,\n",
              " 'iq': 670,\n",
              " 'put': 671,\n",
              " 'marriage': 672,\n",
              " 'deleted': 673,\n",
              " 'sell': 674,\n",
              " 'tax': 675,\n",
              " 'inr': 676,\n",
              " 'marks': 677,\n",
              " 'macbook': 678,\n",
              " 'required': 679,\n",
              " 'develop': 680,\n",
              " 'group': 681,\n",
              " 'loss': 682,\n",
              " 'australia': 683,\n",
              " 'narendra': 684,\n",
              " '2015': 685,\n",
              " 'germany': 686,\n",
              " 'low': 687,\n",
              " 'correct': 688,\n",
              " 'similar': 689,\n",
              " 'started': 690,\n",
              " '15': 691,\n",
              " 'dogs': 692,\n",
              " 'function': 693,\n",
              " 'lost': 694,\n",
              " 'star': 695,\n",
              " 'application': 696,\n",
              " 'left': 697,\n",
              " 'belly': 698,\n",
              " 'size': 699,\n",
              " 'solar': 700,\n",
              " 'dream': 701,\n",
              " 'needing': 702,\n",
              " 'force': 703,\n",
              " 'likes': 704,\n",
              " 'demonetization': 705,\n",
              " 'infinite': 706,\n",
              " 'three': 707,\n",
              " 'beautiful': 708,\n",
              " 'full': 709,\n",
              " 'someones': 710,\n",
              " 'corruption': 711,\n",
              " 'mumbai': 712,\n",
              " 'messages': 713,\n",
              " 'solve': 714,\n",
              " 'quickly': 715,\n",
              " 'reasons': 716,\n",
              " 'temperatures': 717,\n",
              " 'colleges': 718,\n",
              " 'tech': 719,\n",
              " 'electrical': 720,\n",
              " 'source': 721,\n",
              " 'alcohol': 722,\n",
              " 'developer': 723,\n",
              " 'picture': 724,\n",
              " 'mass': 725,\n",
              " 'amazon': 726,\n",
              " 'late': 727,\n",
              " 'blood': 728,\n",
              " 'jio': 729,\n",
              " 'moment': 730,\n",
              " 'sim': 731,\n",
              " 'blowing': 732,\n",
              " 'gay': 733,\n",
              " 'term': 734,\n",
              " 'children': 735,\n",
              " 'industry': 736,\n",
              " 'brain': 737,\n",
              " 'care': 738,\n",
              " 'those': 739,\n",
              " 'won': 740,\n",
              " 'general': 741,\n",
              " '30': 742,\n",
              " 'pc': 743,\n",
              " 'speaking': 744,\n",
              " 'types': 745,\n",
              " 'problems': 746,\n",
              " 'depression': 747,\n",
              " 'often': 748,\n",
              " 'isnt': 749,\n",
              " 'area': 750,\n",
              " 'turn': 751,\n",
              " 'fix': 752,\n",
              " 'communication': 753,\n",
              " 'pass': 754,\n",
              " 'prime': 755,\n",
              " 'photos': 756,\n",
              " 'hollywood': 757,\n",
              " 'japanese': 758,\n",
              " 'chemical': 759,\n",
              " 'understand': 760,\n",
              " '12': 761,\n",
              " 'set': 762,\n",
              " 'religion': 763,\n",
              " 'changed': 764,\n",
              " 'moon': 765,\n",
              " 'eating': 766,\n",
              " 'meth': 767,\n",
              " 'file': 768,\n",
              " 'exams': 769,\n",
              " 'contact': 770,\n",
              " 'office': 771,\n",
              " 'message': 772,\n",
              " 'users': 773,\n",
              " 'few': 774,\n",
              " 'words': 775,\n",
              " 'opinion': 776,\n",
              " 'chances': 777,\n",
              " 'basic': 778,\n",
              " 'male': 779,\n",
              " 'party': 780,\n",
              " 'female': 781,\n",
              " 'coming': 782,\n",
              " 'provider': 783,\n",
              " 'penis': 784,\n",
              " 'oil': 785,\n",
              " 'model': 786,\n",
              " 'text': 787,\n",
              " 'engine': 788,\n",
              " 'across': 789,\n",
              " 'gold': 790,\n",
              " 'japan': 791,\n",
              " 'married': 792,\n",
              " 'leave': 793,\n",
              " 'check': 794,\n",
              " 'bill': 795,\n",
              " 'everything': 796,\n",
              " 'price': 797,\n",
              " 'north': 798,\n",
              " 'says': 799,\n",
              " 'fight': 800,\n",
              " 'share': 801,\n",
              " 'past': 802,\n",
              " 'mix': 803,\n",
              " 'topics': 804,\n",
              " 'british': 805,\n",
              " 'kerala': 806,\n",
              " 'training': 807,\n",
              " 'everyone': 808,\n",
              " 'reading': 809,\n",
              " 'ex': 810,\n",
              " 'hyderabad': 811,\n",
              " 'second': 812,\n",
              " 'related': 813,\n",
              " 'address': 814,\n",
              " 'chance': 815,\n",
              " 'galaxy': 816,\n",
              " 'animals': 817,\n",
              " 'team': 818,\n",
              " 'numbers': 819,\n",
              " 'meet': 820,\n",
              " 'uber': 821,\n",
              " 'graduate': 822,\n",
              " 'samsung': 823,\n",
              " 'net': 824,\n",
              " 'americans': 825,\n",
              " 'once': 826,\n",
              " 'page': 827,\n",
              " 'ios': 828,\n",
              " 'likely': 829,\n",
              " 'access': 830,\n",
              " 'suitable': 831,\n",
              " 'hire': 832,\n",
              " 'pune': 833,\n",
              " 'rich': 834,\n",
              " 'political': 835,\n",
              " 'commit': 836,\n",
              " 'calculate': 837,\n",
              " 'significance': 838,\n",
              " 'film': 839,\n",
              " 'national': 840,\n",
              " 'favourite': 841,\n",
              " 'said': 842,\n",
              " 'yes': 843,\n",
              " 'store': 844,\n",
              " 'drink': 845,\n",
              " 'diet': 846,\n",
              " 'taking': 847,\n",
              " 'away': 848,\n",
              " 'smart': 849,\n",
              " 'block': 850,\n",
              " 'estate': 851,\n",
              " 'obama': 852,\n",
              " 'marked': 853,\n",
              " 'train': 854,\n",
              " 'thinking': 855,\n",
              " 'dating': 856,\n",
              " 'seo': 857,\n",
              " 'boy': 858,\n",
              " 'red': 859,\n",
              " 'offer': 860,\n",
              " 'wife': 861,\n",
              " 'hindi': 862,\n",
              " 'scope': 863,\n",
              " 'resources': 864,\n",
              " 'policy': 865,\n",
              " 'letter': 866,\n",
              " 'line': 867,\n",
              " 'vacuum': 868,\n",
              " 'news': 869,\n",
              " 'masters': 870,\n",
              " 'personal': 871,\n",
              " 'property': 872,\n",
              " 'since': 873,\n",
              " 'option': 874,\n",
              " 'taken': 875,\n",
              " 'network': 876,\n",
              " 'allowed': 877,\n",
              " 'muslims': 878,\n",
              " 'anxiety': 879,\n",
              " 'studies': 880,\n",
              " 'explain': 881,\n",
              " 'within': 882,\n",
              " 'enough': 883,\n",
              " 'knowledge': 884,\n",
              " 'solution': 885,\n",
              " 'simple': 886,\n",
              " 'limit': 887,\n",
              " 'break': 888,\n",
              " 'tea': 889,\n",
              " 'paid': 890,\n",
              " 'photo': 891,\n",
              " 'least': 892,\n",
              " 'difficult': 893,\n",
              " 'please': 894,\n",
              " 'greatest': 895,\n",
              " 'german': 896,\n",
              " 'nuclear': 897,\n",
              " 'already': 898,\n",
              " 'elections': 899,\n",
              " 'smoking': 900,\n",
              " 'blocked': 901,\n",
              " 'evidence': 902,\n",
              " 'screen': 903,\n",
              " 'track': 904,\n",
              " 'attack': 905,\n",
              " 'convert': 906,\n",
              " 'accounts': 907,\n",
              " 'tools': 908,\n",
              " '9': 909,\n",
              " 'pain': 910,\n",
              " 'season': 911,\n",
              " 'smartphone': 912,\n",
              " 'army': 913,\n",
              " 'buying': 914,\n",
              " 'candy': 915,\n",
              " 'balance': 916,\n",
              " 'imported': 917,\n",
              " 'islam': 918,\n",
              " 'crush': 919,\n",
              " 'laws': 920,\n",
              " 'professional': 921,\n",
              " 'viewed': 922,\n",
              " 'role': 923,\n",
              " 'transfer': 924,\n",
              " 'flat': 925,\n",
              " 'useful': 926,\n",
              " 'paper': 927,\n",
              " 'preparing': 928,\n",
              " 'trumps': 929,\n",
              " 'disadvantages': 930,\n",
              " 'taffy': 931,\n",
              " 'natural': 932,\n",
              " 'let': 933,\n",
              " 'bang': 934,\n",
              " 'final': 935,\n",
              " 'fake': 936,\n",
              " 'olympics': 937,\n",
              " 'presidency': 938,\n",
              " 'personality': 939,\n",
              " 'admission': 940,\n",
              " 'try': 941,\n",
              " 'western': 942,\n",
              " 'cut': 943,\n",
              " 'pictures': 944,\n",
              " 'linux': 945,\n",
              " 'following': 946,\n",
              " 'youre': 947,\n",
              " 'memory': 948,\n",
              " 'internship': 949,\n",
              " 'spend': 950,\n",
              " 'amount': 951,\n",
              " 'minister': 952,\n",
              " 'board': 953,\n",
              " 'phones': 954,\n",
              " 'income': 955,\n",
              " 'negative': 956,\n",
              " 'vs': 957,\n",
              " 'method': 958,\n",
              " 'currently': 959,\n",
              " 'capital': 960,\n",
              " 'gift': 961,\n",
              " 'followers': 962,\n",
              " 'twitter': 963,\n",
              " '50': 964,\n",
              " 'sun': 965,\n",
              " 'determine': 966,\n",
              " 'color': 967,\n",
              " 'europe': 968,\n",
              " 'feeling': 969,\n",
              " 'towards': 970,\n",
              " 'masturbation': 971,\n",
              " 'wants': 972,\n",
              " 'coding': 973,\n",
              " 'here': 974,\n",
              " 'ive': 975,\n",
              " 'muslim': 976,\n",
              " 'starting': 977,\n",
              " 'land': 978,\n",
              " 'strategy': 979,\n",
              " 'officer': 980,\n",
              " 'singapore': 981,\n",
              " 'character': 982,\n",
              " 'necessary': 983,\n",
              " 'reset': 984,\n",
              " 'resolutions': 985,\n",
              " '18': 986,\n",
              " 'structure': 987,\n",
              " 'watching': 988,\n",
              " 'financial': 989,\n",
              " 'spotify': 990,\n",
              " 'little': 991,\n",
              " 'beginner': 992,\n",
              " 'installation': 993,\n",
              " 'stories': 994,\n",
              " 'funniest': 995,\n",
              " 'rank': 996,\n",
              " 'county': 997,\n",
              " 'resolution': 998,\n",
              " 'written': 999,\n",
              " 'inside': 1000,\n",
              " ...}"
            ]
          },
          "metadata": {},
          "execution_count": 47
        }
      ]
    },
    {
      "cell_type": "code",
      "source": [
        "labels = np.array(train_data['is_duplicate'], dtype = int) ; labels.shape"
      ],
      "metadata": {
        "colab": {
          "base_uri": "https://localhost:8080/"
        },
        "id": "HjZp6YaMYKsx",
        "outputId": "a0f9f45e-84d2-4449-a802-27ca693fa77c"
      },
      "execution_count": 48,
      "outputs": [
        {
          "output_type": "execute_result",
          "data": {
            "text/plain": [
              "(298526,)"
            ]
          },
          "metadata": {},
          "execution_count": 48
        }
      ]
    },
    {
      "cell_type": "code",
      "source": [
        "data_configs = {}\n",
        "data_configs['vocab'] = word_vocab\n",
        "data_configs['vocab_size'] = len(word_vocab) ; \n",
        "print(len(word_vocab))"
      ],
      "metadata": {
        "colab": {
          "base_uri": "https://localhost:8080/"
        },
        "id": "5lhreNj5YR6p",
        "outputId": "72b06e6d-ad72-4841-f680-cba72b1a2965"
      },
      "execution_count": 49,
      "outputs": [
        {
          "output_type": "stream",
          "name": "stdout",
          "text": [
            "76532\n"
          ]
        }
      ]
    },
    {
      "cell_type": "code",
      "source": [
        "# 저장 옵션 설정하기\n",
        "TRAIN_Q1_DATA = 'q1_train.npy'\n",
        "TRAIN_Q2_DATA = 'q2_train.npy'\n",
        "TRAIN_LABEL_DATA = 'label_train.npy'\n",
        "DATA_CONFIGS = 'data_configs.json'\n",
        "\n",
        "np.save(open(DATA_IN_PATH + TRAIN_Q1_DATA , 'wb'), q1_data)\n",
        "np.save(open(DATA_IN_PATH + TRAIN_Q2_DATA , 'wb'), q2_data)\n",
        "np.save(open(DATA_IN_PATH + TRAIN_LABEL_DATA , 'wb'), labels)\n",
        "\n",
        "json.dump(data_configs, open(DATA_IN_PATH + DATA_CONFIGS, 'w'))\n",
        "# 질문과 라벨 데이터를 저장\n",
        "# 딕셔너리 형태의 데이터 정보는 json파일로 저장함\n",
        "# 전처리 완료!!"
      ],
      "metadata": {
        "id": "uH9Y5MbmYhv2"
      },
      "execution_count": 50,
      "outputs": []
    },
    {
      "cell_type": "code",
      "source": [
        "# 평가데이터에 대해서도 앞의 전처리 \n",
        "test_data = pd.read_csv(DATA_IN_PATH + 'test.csv', encoding= 'utf-8')\n",
        "print(test_data.head())\n",
        "print(test_data.shape)"
      ],
      "metadata": {
        "colab": {
          "base_uri": "https://localhost:8080/"
        },
        "id": "G5hq8NobZGyb",
        "outputId": "57a56703-87ab-4d96-9637-494f60241edf"
      },
      "execution_count": 51,
      "outputs": [
        {
          "output_type": "stream",
          "name": "stdout",
          "text": [
            "   test_id  ...                                          question2\n",
            "0        0  ...  Why did Microsoft choose core m3 and not core ...\n",
            "1        1  ...        How much cost does hair transplant require?\n",
            "2        2  ...                      What you send money to China?\n",
            "3        3  ...                                  What foods fibre?\n",
            "4        4  ...                     How their can I start reading?\n",
            "\n",
            "[5 rows x 3 columns]\n",
            "(2345796, 3)\n"
          ]
        }
      ]
    },
    {
      "cell_type": "code",
      "source": [
        "test_data.test_id"
      ],
      "metadata": {
        "colab": {
          "base_uri": "https://localhost:8080/"
        },
        "id": "HwTB1M7QZyOT",
        "outputId": "0aff9c9e-3bf4-4e45-f992-955210c09f36"
      },
      "execution_count": 52,
      "outputs": [
        {
          "output_type": "execute_result",
          "data": {
            "text/plain": [
              "0                0\n",
              "1                1\n",
              "2                2\n",
              "3                3\n",
              "4                4\n",
              "            ...   \n",
              "2345791    2345791\n",
              "2345792    2345792\n",
              "2345793    2345793\n",
              "2345794    2345794\n",
              "2345795    2345795\n",
              "Name: test_id, Length: 2345796, dtype: int64"
            ]
          },
          "metadata": {},
          "execution_count": 52
        }
      ]
    },
    {
      "cell_type": "code",
      "source": [
        "valid_ids = [type(x) == int  for x in test_data.test_id] ; print(valid_ids)\n",
        "test_data = test_data[valid_ids].drop_duplicates()"
      ],
      "metadata": {
        "colab": {
          "base_uri": "https://localhost:8080/"
        },
        "id": "SD7JD4_TZV70",
        "outputId": "240fd766-e668-4257-fbdb-6de2bead0c72"
      },
      "execution_count": 53,
      "outputs": [
        {
          "output_type": "stream",
          "name": "stderr",
          "text": [
            "IOPub data rate exceeded.\n",
            "The notebook server will temporarily stop sending output\n",
            "to the client in order to avoid crashing it.\n",
            "To change this limit, set the config variable\n",
            "`--NotebookApp.iopub_data_rate_limit`.\n",
            "\n",
            "Current values:\n",
            "NotebookApp.iopub_data_rate_limit=1000000.0 (bytes/sec)\n",
            "NotebookApp.rate_limit_window=3.0 (secs)\n",
            "\n"
          ]
        }
      ]
    },
    {
      "cell_type": "code",
      "source": [
        "test_data.shape"
      ],
      "metadata": {
        "colab": {
          "base_uri": "https://localhost:8080/"
        },
        "id": "xcvXCxhkZ1RC",
        "outputId": "0a1fb9bb-11af-4218-d103-7bd9440f09cd"
      },
      "execution_count": 54,
      "outputs": [
        {
          "output_type": "execute_result",
          "data": {
            "text/plain": [
              "(2345796, 3)"
            ]
          },
          "metadata": {},
          "execution_count": 54
        }
      ]
    },
    {
      "cell_type": "code",
      "source": [
        "test_questions1 = [str(s) for s in test_data['question1']]\n",
        "test_questions2 = [str(s) for s in test_data['question2']]\n",
        "\n",
        "filtered_test_questions1 = list()\n",
        "filtered_test_questions2 = list()\n",
        "\n",
        "for q in test_questions1 :\n",
        "  filtered_test_questions1.append(re.sub(change_filter, \"\", q).lower())\n",
        "\n",
        "for q in test_questions2 :\n",
        "  filtered_test_questions2.append(re.sub(change_filter, \"\", q).lower())  "
      ],
      "metadata": {
        "id": "4ChSI3_NaNz9"
      },
      "execution_count": 55,
      "outputs": []
    },
    {
      "cell_type": "code",
      "source": [
        "test_questions1_sequence = tokenizer.texts_to_sequences(filtered_test_questions1)\n",
        "test_questions2_sequence = tokenizer.texts_to_sequences(filtered_test_questions2)\n",
        "\n",
        "test_q1_data = pad_sequences(test_questions1_sequence, maxlen = MAX_SEQUENCE_LENGTH, padding='post')\n",
        "test_q2_data = pad_sequences(test_questions2_sequence, maxlen = MAX_SEQUENCE_LENGTH, padding='post')"
      ],
      "metadata": {
        "id": "8cxqcWAca3By"
      },
      "execution_count": 56,
      "outputs": []
    },
    {
      "cell_type": "code",
      "source": [
        "test_id = np.array(test_data['test_id']) ; test_id"
      ],
      "metadata": {
        "colab": {
          "base_uri": "https://localhost:8080/"
        },
        "id": "0yfw9mGWbQQj",
        "outputId": "f94df3c5-8856-49dd-9a96-7c2fe45215b7"
      },
      "execution_count": 57,
      "outputs": [
        {
          "output_type": "execute_result",
          "data": {
            "text/plain": [
              "array([      0,       1,       2, ..., 2345793, 2345794, 2345795])"
            ]
          },
          "metadata": {},
          "execution_count": 57
        }
      ]
    },
    {
      "cell_type": "code",
      "source": [
        "print(test_q1_data.shape)\n",
        "print(test_q2_data.shape)\n",
        "print(test_id.shape)\n"
      ],
      "metadata": {
        "colab": {
          "base_uri": "https://localhost:8080/"
        },
        "id": "JDG9KDLnbZME",
        "outputId": "c5143384-501b-473c-e88e-6312939fede1"
      },
      "execution_count": 58,
      "outputs": [
        {
          "output_type": "stream",
          "name": "stdout",
          "text": [
            "(2345796, 31)\n",
            "(2345796, 31)\n",
            "(2345796,)\n"
          ]
        }
      ]
    },
    {
      "cell_type": "code",
      "source": [
        "TEST_Q1_DATA = 'test_q1.npy'\n",
        "TEST_Q2_DATA = 'test_q2.npy'\n",
        "TEST_ID_DATA = 'test_id.npy'\n",
        "\n",
        "np.save(open(DATA_IN_PATH + TEST_Q1_DATA, 'wb'), test_q1_data)\n",
        "np.save(open(DATA_IN_PATH + TEST_Q2_DATA, 'wb'), test_q2_data)\n",
        "np.save(open(DATA_IN_PATH + TEST_ID_DATA, 'wb'), test_id)\n"
      ],
      "metadata": {
        "id": "J7989LHrbfHF"
      },
      "execution_count": 59,
      "outputs": []
    },
    {
      "cell_type": "code",
      "source": [
        "# 모델링 : 총 3개의 모델링 할예정 (xg boost, malstm, CNN)\n",
        "# 1. XG 부스트 : 앙상블 모델 중 하나, 부스팅 기법을 사용하는 방법 , 트리 부스팅을 활용한 모델\n",
        "#                 트리 부스팅 방식에 경사 하강법을 통해 최적화하는 방법, 연산량을 줄이기 위해 의사결정 트리를 구성할때 병렬처리를 사용해 빠른 시간에 학습이 가능\n",
        "# 배깅 : 여러개의 학습 알고리즘, 모델을 통해 각각 결과를 예측하고 모든 결과를 동등하게 보고 취합해서 결과를 얻는 방싱, RF도 배깅의 한예임. PARALLEL\n",
        "# 부스팅 : 각 결과를 순차적으로 취합하는데, 단순히 하나씩 취합하는 방법이 아니라 이전 알고리즘, 모델이 학습 후 잘못 예측한 부분에 가중치를 줘서 다시 모델로 가서 학습하는 방식 SEQUENTIAL\n",
        "# 싱글 : CNN, RNN뜽\n",
        "\n",
        "\n"
      ],
      "metadata": {
        "id": "tiRUtMJub3fa"
      },
      "execution_count": 60,
      "outputs": []
    },
    {
      "cell_type": "code",
      "source": [
        "import numpy as np\n",
        "DATA_IN_PATH = '/content/'\n",
        "TRAIN_Q1_DATA = 'q1_train.npy'\n",
        "TRAIN_Q2_DATA = 'q2_train.npy'\n",
        "TRAIN_LABEL_DATA_FILE = 'label_train.npy'\n",
        "\n",
        "train_q1_data = np.load(open(DATA_IN_PATH + TRAIN_Q1_DATA, 'rb'))\n",
        "train_q2_data = np.load(open(DATA_IN_PATH + TRAIN_Q2_DATA, 'rb'))\n",
        "train_labels = np.load(open(DATA_IN_PATH + TRAIN_LABEL_DATA_FILE, 'rb'))\n"
      ],
      "metadata": {
        "id": "IlKdyrtHdEOe"
      },
      "execution_count": 61,
      "outputs": []
    },
    {
      "cell_type": "code",
      "source": [
        "train_input = np.stack((train_q1_data, train_q2_data), axis=1)\n",
        "# stack 두질문을 하나의 쌍으로 만들기,\n",
        "print(train_input.shape) # 29만개 데이터, 2개의 질문 각각 길이가 31\n",
        "print(train_input)"
      ],
      "metadata": {
        "colab": {
          "base_uri": "https://localhost:8080/"
        },
        "id": "tMTyFZD8danx",
        "outputId": "90ef8714-0dc5-431f-ab41-2b519eb7ec01"
      },
      "execution_count": 62,
      "outputs": [
        {
          "output_type": "stream",
          "name": "stdout",
          "text": [
            "(298526, 2, 31)\n",
            "[[[    2    11     1 ...     0     0     0]\n",
            "  [   22     3     1 ...     0     0     0]]\n",
            "\n",
            " [[   13  1934 25397 ...     0     0     0]\n",
            "  [    4     9     5 ...     0     0     0]]\n",
            "\n",
            " [[   24     5  5083 ...     0     0     0]\n",
            "  [   24   710   963 ...     0     0     0]]\n",
            "\n",
            " ...\n",
            "\n",
            " [[    4    21     7 ...     0     0     0]\n",
            "  [    4    11   135 ...     0     0     0]]\n",
            "\n",
            " [[    2    21  7818 ...     0     0     0]\n",
            "  [    2    21  7818 ...     0     0     0]]\n",
            "\n",
            " [[    9    15   301 ...     0     0     0]\n",
            "  [    3    19   249 ...     0     0     0]]]\n"
          ]
        }
      ]
    },
    {
      "cell_type": "code",
      "source": [
        "from sklearn.model_selection import train_test_split\n",
        "train_input, eval_input, train_label, eval_label = train_test_split(train_input, train_labels, test_size= 0.2, random_state =4242)"
      ],
      "metadata": {
        "id": "mHde5d8ajOOM"
      },
      "execution_count": 63,
      "outputs": []
    },
    {
      "cell_type": "code",
      "source": [
        "import xgboost as xgb\n",
        "train_data = xgb.DMatrix(train_input.sum(axis=1), label =train_label)\n",
        "eval_data = xgb.DMatrix(eval_input.sum(axis=1), label= eval_label)\n",
        "# xgb라이버리리의 데이터 형식이 dmatrix형태로 만들어야함\n",
        "# 적용과정에서 sum함수를 사용\n",
        "# 각데이터의 두 질문을 하나의 값으로 만들어 주기 위해서임\n",
        "# 두개의 데이터를 묶어서\n",
        "#하나의 리스트로 만든다\n",
        "data_list = [(train_data , 'train'), (eval_data, 'valid')]\n"
      ],
      "metadata": {
        "id": "F_R4AprLjmc1"
      },
      "execution_count": 64,
      "outputs": []
    },
    {
      "cell_type": "code",
      "source": [
        "data_list"
      ],
      "metadata": {
        "colab": {
          "base_uri": "https://localhost:8080/"
        },
        "id": "QMj_yMDFkIdU",
        "outputId": "fb36312e-8031-451e-af8d-6a84b0dc6f06"
      },
      "execution_count": 65,
      "outputs": [
        {
          "output_type": "execute_result",
          "data": {
            "text/plain": [
              "[(<xgboost.core.DMatrix at 0x7fa677b97250>, 'train'),\n",
              " (<xgboost.core.DMatrix at 0x7fa677322bd0>, 'valid')]"
            ]
          },
          "metadata": {},
          "execution_count": 65
        }
      ]
    },
    {
      "cell_type": "code",
      "source": [
        "params={}\n",
        "params['objective'] ='binary:logistic'  #목적함수\n",
        "params['eval_metric'] = 'rmse' # 평가지표  root mean square error"
      ],
      "metadata": {
        "id": "G_WGFjbAkEYl"
      },
      "execution_count": 70,
      "outputs": []
    },
    {
      "cell_type": "code",
      "source": [
        "bst = xgb.train(params, train_data, num_boost_round=1000, evals=data_list, early_stopping_rounds=10)  # epochs 1000, 조기멈춤 10"
      ],
      "metadata": {
        "colab": {
          "base_uri": "https://localhost:8080/"
        },
        "id": "pSkPdg-GkTnJ",
        "outputId": "4fab65d6-4a6d-489e-fed2-ab89c4fd8a4f"
      },
      "execution_count": 71,
      "outputs": [
        {
          "output_type": "stream",
          "name": "stdout",
          "text": [
            "[0]\ttrain-rmse:0.483741\tvalid-rmse:0.484148\n",
            "Multiple eval metrics have been passed: 'valid-rmse' will be used for early stopping.\n",
            "\n",
            "Will train until valid-rmse hasn't improved in 10 rounds.\n",
            "[1]\ttrain-rmse:0.473706\tvalid-rmse:0.47436\n",
            "[2]\ttrain-rmse:0.466582\tvalid-rmse:0.467451\n",
            "[3]\ttrain-rmse:0.461979\tvalid-rmse:0.462881\n",
            "[4]\ttrain-rmse:0.458321\tvalid-rmse:0.459542\n",
            "[5]\ttrain-rmse:0.455522\tvalid-rmse:0.456988\n",
            "[6]\ttrain-rmse:0.453341\tvalid-rmse:0.454989\n",
            "[7]\ttrain-rmse:0.451804\tvalid-rmse:0.453742\n",
            "[8]\ttrain-rmse:0.449451\tvalid-rmse:0.451501\n",
            "[9]\ttrain-rmse:0.448192\tvalid-rmse:0.450454\n",
            "[10]\ttrain-rmse:0.446612\tvalid-rmse:0.449113\n",
            "[11]\ttrain-rmse:0.445403\tvalid-rmse:0.447994\n",
            "[12]\ttrain-rmse:0.444734\tvalid-rmse:0.447494\n",
            "[13]\ttrain-rmse:0.442785\tvalid-rmse:0.445705\n",
            "[14]\ttrain-rmse:0.441615\tvalid-rmse:0.444884\n",
            "[15]\ttrain-rmse:0.441075\tvalid-rmse:0.444461\n",
            "[16]\ttrain-rmse:0.440618\tvalid-rmse:0.444071\n",
            "[17]\ttrain-rmse:0.439883\tvalid-rmse:0.443426\n",
            "[18]\ttrain-rmse:0.439433\tvalid-rmse:0.443117\n",
            "[19]\ttrain-rmse:0.439093\tvalid-rmse:0.442848\n",
            "[20]\ttrain-rmse:0.438281\tvalid-rmse:0.442122\n",
            "[21]\ttrain-rmse:0.437363\tvalid-rmse:0.441376\n",
            "[22]\ttrain-rmse:0.437132\tvalid-rmse:0.441219\n",
            "[23]\ttrain-rmse:0.436393\tvalid-rmse:0.440673\n",
            "[24]\ttrain-rmse:0.43602\tvalid-rmse:0.440376\n",
            "[25]\ttrain-rmse:0.435788\tvalid-rmse:0.440243\n",
            "[26]\ttrain-rmse:0.435527\tvalid-rmse:0.44011\n",
            "[27]\ttrain-rmse:0.434598\tvalid-rmse:0.439306\n",
            "[28]\ttrain-rmse:0.433667\tvalid-rmse:0.438545\n",
            "[29]\ttrain-rmse:0.4329\tvalid-rmse:0.437971\n",
            "[30]\ttrain-rmse:0.432752\tvalid-rmse:0.437881\n",
            "[31]\ttrain-rmse:0.432497\tvalid-rmse:0.437743\n",
            "[32]\ttrain-rmse:0.432085\tvalid-rmse:0.437484\n",
            "[33]\ttrain-rmse:0.431935\tvalid-rmse:0.437391\n",
            "[34]\ttrain-rmse:0.431472\tvalid-rmse:0.437036\n",
            "[35]\ttrain-rmse:0.431386\tvalid-rmse:0.436952\n",
            "[36]\ttrain-rmse:0.430949\tvalid-rmse:0.436591\n",
            "[37]\ttrain-rmse:0.430367\tvalid-rmse:0.436211\n",
            "[38]\ttrain-rmse:0.430073\tvalid-rmse:0.436111\n",
            "[39]\ttrain-rmse:0.429779\tvalid-rmse:0.435892\n",
            "[40]\ttrain-rmse:0.429627\tvalid-rmse:0.435794\n",
            "[41]\ttrain-rmse:0.429101\tvalid-rmse:0.435477\n",
            "[42]\ttrain-rmse:0.428749\tvalid-rmse:0.435282\n",
            "[43]\ttrain-rmse:0.428608\tvalid-rmse:0.435175\n",
            "[44]\ttrain-rmse:0.428536\tvalid-rmse:0.435157\n",
            "[45]\ttrain-rmse:0.428402\tvalid-rmse:0.43507\n",
            "[46]\ttrain-rmse:0.428206\tvalid-rmse:0.434978\n",
            "[47]\ttrain-rmse:0.427689\tvalid-rmse:0.434663\n",
            "[48]\ttrain-rmse:0.427572\tvalid-rmse:0.434609\n",
            "[49]\ttrain-rmse:0.427348\tvalid-rmse:0.434449\n",
            "[50]\ttrain-rmse:0.427302\tvalid-rmse:0.434437\n",
            "[51]\ttrain-rmse:0.427161\tvalid-rmse:0.434358\n",
            "[52]\ttrain-rmse:0.426992\tvalid-rmse:0.434279\n",
            "[53]\ttrain-rmse:0.426902\tvalid-rmse:0.434248\n",
            "[54]\ttrain-rmse:0.426659\tvalid-rmse:0.434101\n",
            "[55]\ttrain-rmse:0.426106\tvalid-rmse:0.433715\n",
            "[56]\ttrain-rmse:0.425705\tvalid-rmse:0.433499\n",
            "[57]\ttrain-rmse:0.425174\tvalid-rmse:0.433206\n",
            "[58]\ttrain-rmse:0.424743\tvalid-rmse:0.433007\n",
            "[59]\ttrain-rmse:0.424522\tvalid-rmse:0.432858\n",
            "[60]\ttrain-rmse:0.424383\tvalid-rmse:0.432787\n",
            "[61]\ttrain-rmse:0.424318\tvalid-rmse:0.432734\n",
            "[62]\ttrain-rmse:0.423911\tvalid-rmse:0.432516\n",
            "[63]\ttrain-rmse:0.423769\tvalid-rmse:0.432409\n",
            "[64]\ttrain-rmse:0.423568\tvalid-rmse:0.432317\n",
            "[65]\ttrain-rmse:0.423473\tvalid-rmse:0.4323\n",
            "[66]\ttrain-rmse:0.423399\tvalid-rmse:0.43223\n",
            "[67]\ttrain-rmse:0.422969\tvalid-rmse:0.431874\n",
            "[68]\ttrain-rmse:0.422605\tvalid-rmse:0.431679\n",
            "[69]\ttrain-rmse:0.422481\tvalid-rmse:0.431622\n",
            "[70]\ttrain-rmse:0.422446\tvalid-rmse:0.431606\n",
            "[71]\ttrain-rmse:0.42209\tvalid-rmse:0.431478\n",
            "[72]\ttrain-rmse:0.421981\tvalid-rmse:0.431451\n",
            "[73]\ttrain-rmse:0.421901\tvalid-rmse:0.431408\n",
            "[74]\ttrain-rmse:0.421498\tvalid-rmse:0.431211\n",
            "[75]\ttrain-rmse:0.421375\tvalid-rmse:0.431207\n",
            "[76]\ttrain-rmse:0.421234\tvalid-rmse:0.431123\n",
            "[77]\ttrain-rmse:0.421183\tvalid-rmse:0.431077\n",
            "[78]\ttrain-rmse:0.421071\tvalid-rmse:0.431031\n",
            "[79]\ttrain-rmse:0.42091\tvalid-rmse:0.431013\n",
            "[80]\ttrain-rmse:0.42087\tvalid-rmse:0.430977\n",
            "[81]\ttrain-rmse:0.4207\tvalid-rmse:0.430875\n",
            "[82]\ttrain-rmse:0.420585\tvalid-rmse:0.4308\n",
            "[83]\ttrain-rmse:0.420358\tvalid-rmse:0.430687\n",
            "[84]\ttrain-rmse:0.419991\tvalid-rmse:0.430526\n",
            "[85]\ttrain-rmse:0.4196\tvalid-rmse:0.430346\n",
            "[86]\ttrain-rmse:0.419501\tvalid-rmse:0.430272\n",
            "[87]\ttrain-rmse:0.419258\tvalid-rmse:0.430192\n",
            "[88]\ttrain-rmse:0.419223\tvalid-rmse:0.430168\n",
            "[89]\ttrain-rmse:0.419075\tvalid-rmse:0.430108\n",
            "[90]\ttrain-rmse:0.419006\tvalid-rmse:0.430098\n",
            "[91]\ttrain-rmse:0.41891\tvalid-rmse:0.430043\n",
            "[92]\ttrain-rmse:0.418876\tvalid-rmse:0.430022\n",
            "[93]\ttrain-rmse:0.418821\tvalid-rmse:0.430002\n",
            "[94]\ttrain-rmse:0.418755\tvalid-rmse:0.429982\n",
            "[95]\ttrain-rmse:0.418323\tvalid-rmse:0.429655\n",
            "[96]\ttrain-rmse:0.418119\tvalid-rmse:0.429573\n",
            "[97]\ttrain-rmse:0.418039\tvalid-rmse:0.429575\n",
            "[98]\ttrain-rmse:0.417949\tvalid-rmse:0.429557\n",
            "[99]\ttrain-rmse:0.417521\tvalid-rmse:0.429363\n",
            "[100]\ttrain-rmse:0.417188\tvalid-rmse:0.429217\n",
            "[101]\ttrain-rmse:0.416969\tvalid-rmse:0.429139\n",
            "[102]\ttrain-rmse:0.416672\tvalid-rmse:0.429049\n",
            "[103]\ttrain-rmse:0.416521\tvalid-rmse:0.428998\n",
            "[104]\ttrain-rmse:0.416235\tvalid-rmse:0.428854\n",
            "[105]\ttrain-rmse:0.416089\tvalid-rmse:0.428793\n",
            "[106]\ttrain-rmse:0.415811\tvalid-rmse:0.428743\n",
            "[107]\ttrain-rmse:0.415701\tvalid-rmse:0.428691\n",
            "[108]\ttrain-rmse:0.415565\tvalid-rmse:0.428613\n",
            "[109]\ttrain-rmse:0.41524\tvalid-rmse:0.428414\n",
            "[110]\ttrain-rmse:0.41502\tvalid-rmse:0.428356\n",
            "[111]\ttrain-rmse:0.414964\tvalid-rmse:0.428344\n",
            "[112]\ttrain-rmse:0.414688\tvalid-rmse:0.42822\n",
            "[113]\ttrain-rmse:0.414308\tvalid-rmse:0.428024\n",
            "[114]\ttrain-rmse:0.414145\tvalid-rmse:0.427973\n",
            "[115]\ttrain-rmse:0.413879\tvalid-rmse:0.427879\n",
            "[116]\ttrain-rmse:0.413683\tvalid-rmse:0.427855\n",
            "[117]\ttrain-rmse:0.413663\tvalid-rmse:0.42784\n",
            "[118]\ttrain-rmse:0.413358\tvalid-rmse:0.427718\n",
            "[119]\ttrain-rmse:0.412949\tvalid-rmse:0.427567\n",
            "[120]\ttrain-rmse:0.412904\tvalid-rmse:0.427556\n",
            "[121]\ttrain-rmse:0.412872\tvalid-rmse:0.427561\n",
            "[122]\ttrain-rmse:0.412833\tvalid-rmse:0.42756\n",
            "[123]\ttrain-rmse:0.412758\tvalid-rmse:0.427586\n",
            "[124]\ttrain-rmse:0.412678\tvalid-rmse:0.427536\n",
            "[125]\ttrain-rmse:0.412627\tvalid-rmse:0.42752\n",
            "[126]\ttrain-rmse:0.412483\tvalid-rmse:0.427465\n",
            "[127]\ttrain-rmse:0.412367\tvalid-rmse:0.427463\n",
            "[128]\ttrain-rmse:0.412314\tvalid-rmse:0.427437\n",
            "[129]\ttrain-rmse:0.412299\tvalid-rmse:0.427415\n",
            "[130]\ttrain-rmse:0.412265\tvalid-rmse:0.427393\n",
            "[131]\ttrain-rmse:0.412081\tvalid-rmse:0.427314\n",
            "[132]\ttrain-rmse:0.411788\tvalid-rmse:0.427147\n",
            "[133]\ttrain-rmse:0.41137\tvalid-rmse:0.42701\n",
            "[134]\ttrain-rmse:0.411107\tvalid-rmse:0.426946\n",
            "[135]\ttrain-rmse:0.410835\tvalid-rmse:0.426828\n",
            "[136]\ttrain-rmse:0.410589\tvalid-rmse:0.426722\n",
            "[137]\ttrain-rmse:0.410489\tvalid-rmse:0.426683\n",
            "[138]\ttrain-rmse:0.41042\tvalid-rmse:0.42666\n",
            "[139]\ttrain-rmse:0.410341\tvalid-rmse:0.426626\n",
            "[140]\ttrain-rmse:0.410184\tvalid-rmse:0.426599\n",
            "[141]\ttrain-rmse:0.409977\tvalid-rmse:0.426521\n",
            "[142]\ttrain-rmse:0.409951\tvalid-rmse:0.42651\n",
            "[143]\ttrain-rmse:0.409643\tvalid-rmse:0.426408\n",
            "[144]\ttrain-rmse:0.409206\tvalid-rmse:0.426161\n",
            "[145]\ttrain-rmse:0.409129\tvalid-rmse:0.426143\n",
            "[146]\ttrain-rmse:0.408858\tvalid-rmse:0.426133\n",
            "[147]\ttrain-rmse:0.408631\tvalid-rmse:0.426079\n",
            "[148]\ttrain-rmse:0.408434\tvalid-rmse:0.42604\n",
            "[149]\ttrain-rmse:0.408396\tvalid-rmse:0.426011\n",
            "[150]\ttrain-rmse:0.40837\tvalid-rmse:0.425999\n",
            "[151]\ttrain-rmse:0.40834\tvalid-rmse:0.425983\n",
            "[152]\ttrain-rmse:0.408039\tvalid-rmse:0.425969\n",
            "[153]\ttrain-rmse:0.407786\tvalid-rmse:0.425905\n",
            "[154]\ttrain-rmse:0.407565\tvalid-rmse:0.425779\n",
            "[155]\ttrain-rmse:0.407486\tvalid-rmse:0.425755\n",
            "[156]\ttrain-rmse:0.407478\tvalid-rmse:0.425741\n",
            "[157]\ttrain-rmse:0.407218\tvalid-rmse:0.425667\n",
            "[158]\ttrain-rmse:0.407207\tvalid-rmse:0.425667\n",
            "[159]\ttrain-rmse:0.407186\tvalid-rmse:0.425652\n",
            "[160]\ttrain-rmse:0.407029\tvalid-rmse:0.425631\n",
            "[161]\ttrain-rmse:0.40681\tvalid-rmse:0.425586\n",
            "[162]\ttrain-rmse:0.406741\tvalid-rmse:0.425568\n",
            "[163]\ttrain-rmse:0.40669\tvalid-rmse:0.425559\n",
            "[164]\ttrain-rmse:0.406663\tvalid-rmse:0.425555\n",
            "[165]\ttrain-rmse:0.406642\tvalid-rmse:0.425546\n",
            "[166]\ttrain-rmse:0.406631\tvalid-rmse:0.425535\n",
            "[167]\ttrain-rmse:0.406341\tvalid-rmse:0.425463\n",
            "[168]\ttrain-rmse:0.406112\tvalid-rmse:0.425356\n",
            "[169]\ttrain-rmse:0.405825\tvalid-rmse:0.425257\n",
            "[170]\ttrain-rmse:0.405668\tvalid-rmse:0.425237\n",
            "[171]\ttrain-rmse:0.405341\tvalid-rmse:0.425161\n",
            "[172]\ttrain-rmse:0.405068\tvalid-rmse:0.425102\n",
            "[173]\ttrain-rmse:0.404655\tvalid-rmse:0.424885\n",
            "[174]\ttrain-rmse:0.404627\tvalid-rmse:0.424861\n",
            "[175]\ttrain-rmse:0.404594\tvalid-rmse:0.424846\n",
            "[176]\ttrain-rmse:0.404497\tvalid-rmse:0.424838\n",
            "[177]\ttrain-rmse:0.404409\tvalid-rmse:0.424829\n",
            "[178]\ttrain-rmse:0.404386\tvalid-rmse:0.42481\n",
            "[179]\ttrain-rmse:0.404114\tvalid-rmse:0.424683\n",
            "[180]\ttrain-rmse:0.403869\tvalid-rmse:0.424601\n",
            "[181]\ttrain-rmse:0.403773\tvalid-rmse:0.424574\n",
            "[182]\ttrain-rmse:0.403595\tvalid-rmse:0.424552\n",
            "[183]\ttrain-rmse:0.403577\tvalid-rmse:0.424544\n",
            "[184]\ttrain-rmse:0.403313\tvalid-rmse:0.424466\n",
            "[185]\ttrain-rmse:0.403297\tvalid-rmse:0.424469\n",
            "[186]\ttrain-rmse:0.40325\tvalid-rmse:0.424443\n",
            "[187]\ttrain-rmse:0.403225\tvalid-rmse:0.424429\n",
            "[188]\ttrain-rmse:0.403176\tvalid-rmse:0.424428\n",
            "[189]\ttrain-rmse:0.402988\tvalid-rmse:0.424403\n",
            "[190]\ttrain-rmse:0.402766\tvalid-rmse:0.424324\n",
            "[191]\ttrain-rmse:0.402593\tvalid-rmse:0.424251\n",
            "[192]\ttrain-rmse:0.40235\tvalid-rmse:0.424195\n",
            "[193]\ttrain-rmse:0.402063\tvalid-rmse:0.424054\n",
            "[194]\ttrain-rmse:0.401784\tvalid-rmse:0.424045\n",
            "[195]\ttrain-rmse:0.401651\tvalid-rmse:0.424008\n",
            "[196]\ttrain-rmse:0.401526\tvalid-rmse:0.423971\n",
            "[197]\ttrain-rmse:0.401271\tvalid-rmse:0.423917\n",
            "[198]\ttrain-rmse:0.401011\tvalid-rmse:0.42384\n",
            "[199]\ttrain-rmse:0.400694\tvalid-rmse:0.42371\n",
            "[200]\ttrain-rmse:0.400519\tvalid-rmse:0.423701\n",
            "[201]\ttrain-rmse:0.400502\tvalid-rmse:0.42369\n",
            "[202]\ttrain-rmse:0.400487\tvalid-rmse:0.423684\n",
            "[203]\ttrain-rmse:0.400477\tvalid-rmse:0.423679\n",
            "[204]\ttrain-rmse:0.400364\tvalid-rmse:0.423646\n",
            "[205]\ttrain-rmse:0.40033\tvalid-rmse:0.423624\n",
            "[206]\ttrain-rmse:0.400309\tvalid-rmse:0.423614\n",
            "[207]\ttrain-rmse:0.400022\tvalid-rmse:0.423464\n",
            "[208]\ttrain-rmse:0.399871\tvalid-rmse:0.423429\n",
            "[209]\ttrain-rmse:0.399717\tvalid-rmse:0.423415\n",
            "[210]\ttrain-rmse:0.399519\tvalid-rmse:0.423386\n",
            "[211]\ttrain-rmse:0.399386\tvalid-rmse:0.423329\n",
            "[212]\ttrain-rmse:0.399253\tvalid-rmse:0.423283\n",
            "[213]\ttrain-rmse:0.39924\tvalid-rmse:0.423285\n",
            "[214]\ttrain-rmse:0.399053\tvalid-rmse:0.42328\n",
            "[215]\ttrain-rmse:0.399028\tvalid-rmse:0.423251\n",
            "[216]\ttrain-rmse:0.399015\tvalid-rmse:0.423249\n",
            "[217]\ttrain-rmse:0.39897\tvalid-rmse:0.423241\n",
            "[218]\ttrain-rmse:0.398908\tvalid-rmse:0.423241\n",
            "[219]\ttrain-rmse:0.398902\tvalid-rmse:0.423245\n",
            "[220]\ttrain-rmse:0.39863\tvalid-rmse:0.42317\n",
            "[221]\ttrain-rmse:0.398542\tvalid-rmse:0.423165\n",
            "[222]\ttrain-rmse:0.398336\tvalid-rmse:0.423095\n",
            "[223]\ttrain-rmse:0.398184\tvalid-rmse:0.423085\n",
            "[224]\ttrain-rmse:0.397965\tvalid-rmse:0.423038\n",
            "[225]\ttrain-rmse:0.3978\tvalid-rmse:0.423044\n",
            "[226]\ttrain-rmse:0.397577\tvalid-rmse:0.423042\n",
            "[227]\ttrain-rmse:0.397301\tvalid-rmse:0.422949\n",
            "[228]\ttrain-rmse:0.39707\tvalid-rmse:0.422883\n",
            "[229]\ttrain-rmse:0.396938\tvalid-rmse:0.422848\n",
            "[230]\ttrain-rmse:0.396856\tvalid-rmse:0.422837\n",
            "[231]\ttrain-rmse:0.396819\tvalid-rmse:0.422843\n",
            "[232]\ttrain-rmse:0.396713\tvalid-rmse:0.422805\n",
            "[233]\ttrain-rmse:0.396434\tvalid-rmse:0.422747\n",
            "[234]\ttrain-rmse:0.396363\tvalid-rmse:0.422738\n",
            "[235]\ttrain-rmse:0.396356\tvalid-rmse:0.422727\n",
            "[236]\ttrain-rmse:0.396324\tvalid-rmse:0.422679\n",
            "[237]\ttrain-rmse:0.39623\tvalid-rmse:0.422669\n",
            "[238]\ttrain-rmse:0.396218\tvalid-rmse:0.422653\n",
            "[239]\ttrain-rmse:0.396188\tvalid-rmse:0.422651\n",
            "[240]\ttrain-rmse:0.395908\tvalid-rmse:0.422561\n",
            "[241]\ttrain-rmse:0.395758\tvalid-rmse:0.422487\n",
            "[242]\ttrain-rmse:0.395627\tvalid-rmse:0.422441\n",
            "[243]\ttrain-rmse:0.395372\tvalid-rmse:0.422345\n",
            "[244]\ttrain-rmse:0.395257\tvalid-rmse:0.422309\n",
            "[245]\ttrain-rmse:0.395231\tvalid-rmse:0.422305\n",
            "[246]\ttrain-rmse:0.395224\tvalid-rmse:0.422293\n",
            "[247]\ttrain-rmse:0.394981\tvalid-rmse:0.422294\n",
            "[248]\ttrain-rmse:0.394906\tvalid-rmse:0.422294\n",
            "[249]\ttrain-rmse:0.394794\tvalid-rmse:0.422265\n",
            "[250]\ttrain-rmse:0.394673\tvalid-rmse:0.422273\n",
            "[251]\ttrain-rmse:0.394626\tvalid-rmse:0.42222\n",
            "[252]\ttrain-rmse:0.394411\tvalid-rmse:0.42211\n",
            "[253]\ttrain-rmse:0.394393\tvalid-rmse:0.422104\n",
            "[254]\ttrain-rmse:0.394155\tvalid-rmse:0.422016\n",
            "[255]\ttrain-rmse:0.393962\tvalid-rmse:0.421963\n",
            "[256]\ttrain-rmse:0.393736\tvalid-rmse:0.421898\n",
            "[257]\ttrain-rmse:0.393468\tvalid-rmse:0.421866\n",
            "[258]\ttrain-rmse:0.393341\tvalid-rmse:0.421829\n",
            "[259]\ttrain-rmse:0.393333\tvalid-rmse:0.421823\n",
            "[260]\ttrain-rmse:0.39311\tvalid-rmse:0.421746\n",
            "[261]\ttrain-rmse:0.392998\tvalid-rmse:0.421726\n",
            "[262]\ttrain-rmse:0.392868\tvalid-rmse:0.421708\n",
            "[263]\ttrain-rmse:0.392848\tvalid-rmse:0.421694\n",
            "[264]\ttrain-rmse:0.392825\tvalid-rmse:0.421687\n",
            "[265]\ttrain-rmse:0.392723\tvalid-rmse:0.421674\n",
            "[266]\ttrain-rmse:0.39266\tvalid-rmse:0.421665\n",
            "[267]\ttrain-rmse:0.392562\tvalid-rmse:0.42168\n",
            "[268]\ttrain-rmse:0.392528\tvalid-rmse:0.421656\n",
            "[269]\ttrain-rmse:0.392453\tvalid-rmse:0.421615\n",
            "[270]\ttrain-rmse:0.392154\tvalid-rmse:0.421487\n",
            "[271]\ttrain-rmse:0.391892\tvalid-rmse:0.42142\n",
            "[272]\ttrain-rmse:0.391679\tvalid-rmse:0.421346\n",
            "[273]\ttrain-rmse:0.391415\tvalid-rmse:0.421232\n",
            "[274]\ttrain-rmse:0.391247\tvalid-rmse:0.421192\n",
            "[275]\ttrain-rmse:0.390998\tvalid-rmse:0.421135\n",
            "[276]\ttrain-rmse:0.390779\tvalid-rmse:0.421057\n",
            "[277]\ttrain-rmse:0.390621\tvalid-rmse:0.421054\n",
            "[278]\ttrain-rmse:0.390448\tvalid-rmse:0.421038\n",
            "[279]\ttrain-rmse:0.390235\tvalid-rmse:0.420964\n",
            "[280]\ttrain-rmse:0.390143\tvalid-rmse:0.420951\n",
            "[281]\ttrain-rmse:0.389919\tvalid-rmse:0.420908\n",
            "[282]\ttrain-rmse:0.389905\tvalid-rmse:0.42091\n",
            "[283]\ttrain-rmse:0.389787\tvalid-rmse:0.420855\n",
            "[284]\ttrain-rmse:0.389625\tvalid-rmse:0.420822\n",
            "[285]\ttrain-rmse:0.389417\tvalid-rmse:0.420771\n",
            "[286]\ttrain-rmse:0.389198\tvalid-rmse:0.420724\n",
            "[287]\ttrain-rmse:0.389058\tvalid-rmse:0.42071\n",
            "[288]\ttrain-rmse:0.388909\tvalid-rmse:0.420713\n",
            "[289]\ttrain-rmse:0.388707\tvalid-rmse:0.420695\n",
            "[290]\ttrain-rmse:0.38861\tvalid-rmse:0.420694\n",
            "[291]\ttrain-rmse:0.388399\tvalid-rmse:0.420686\n",
            "[292]\ttrain-rmse:0.388235\tvalid-rmse:0.420636\n",
            "[293]\ttrain-rmse:0.388097\tvalid-rmse:0.420606\n",
            "[294]\ttrain-rmse:0.388088\tvalid-rmse:0.420605\n",
            "[295]\ttrain-rmse:0.387897\tvalid-rmse:0.420596\n",
            "[296]\ttrain-rmse:0.387653\tvalid-rmse:0.420488\n",
            "[297]\ttrain-rmse:0.38757\tvalid-rmse:0.420488\n",
            "[298]\ttrain-rmse:0.38748\tvalid-rmse:0.420461\n",
            "[299]\ttrain-rmse:0.387407\tvalid-rmse:0.420473\n",
            "[300]\ttrain-rmse:0.387369\tvalid-rmse:0.420473\n",
            "[301]\ttrain-rmse:0.387122\tvalid-rmse:0.420424\n",
            "[302]\ttrain-rmse:0.387009\tvalid-rmse:0.420415\n",
            "[303]\ttrain-rmse:0.386997\tvalid-rmse:0.420408\n",
            "[304]\ttrain-rmse:0.386853\tvalid-rmse:0.420385\n",
            "[305]\ttrain-rmse:0.386731\tvalid-rmse:0.420363\n",
            "[306]\ttrain-rmse:0.386724\tvalid-rmse:0.42036\n",
            "[307]\ttrain-rmse:0.38647\tvalid-rmse:0.420251\n",
            "[308]\ttrain-rmse:0.386447\tvalid-rmse:0.420241\n",
            "[309]\ttrain-rmse:0.386427\tvalid-rmse:0.420224\n",
            "[310]\ttrain-rmse:0.38642\tvalid-rmse:0.420227\n",
            "[311]\ttrain-rmse:0.386255\tvalid-rmse:0.420132\n",
            "[312]\ttrain-rmse:0.386015\tvalid-rmse:0.420097\n",
            "[313]\ttrain-rmse:0.385896\tvalid-rmse:0.420088\n",
            "[314]\ttrain-rmse:0.385874\tvalid-rmse:0.420075\n",
            "[315]\ttrain-rmse:0.385862\tvalid-rmse:0.420071\n",
            "[316]\ttrain-rmse:0.385577\tvalid-rmse:0.419968\n",
            "[317]\ttrain-rmse:0.385409\tvalid-rmse:0.419965\n",
            "[318]\ttrain-rmse:0.385303\tvalid-rmse:0.419935\n",
            "[319]\ttrain-rmse:0.385173\tvalid-rmse:0.419903\n",
            "[320]\ttrain-rmse:0.384979\tvalid-rmse:0.419881\n",
            "[321]\ttrain-rmse:0.38488\tvalid-rmse:0.419878\n",
            "[322]\ttrain-rmse:0.384687\tvalid-rmse:0.419882\n",
            "[323]\ttrain-rmse:0.384559\tvalid-rmse:0.419884\n",
            "[324]\ttrain-rmse:0.384417\tvalid-rmse:0.41984\n",
            "[325]\ttrain-rmse:0.384257\tvalid-rmse:0.419859\n",
            "[326]\ttrain-rmse:0.384073\tvalid-rmse:0.419826\n",
            "[327]\ttrain-rmse:0.383904\tvalid-rmse:0.419775\n",
            "[328]\ttrain-rmse:0.383888\tvalid-rmse:0.419765\n",
            "[329]\ttrain-rmse:0.383844\tvalid-rmse:0.419764\n",
            "[330]\ttrain-rmse:0.383835\tvalid-rmse:0.419761\n",
            "[331]\ttrain-rmse:0.383831\tvalid-rmse:0.419755\n",
            "[332]\ttrain-rmse:0.383823\tvalid-rmse:0.419755\n",
            "[333]\ttrain-rmse:0.383793\tvalid-rmse:0.419754\n",
            "[334]\ttrain-rmse:0.383787\tvalid-rmse:0.419755\n",
            "[335]\ttrain-rmse:0.383755\tvalid-rmse:0.419745\n",
            "[336]\ttrain-rmse:0.383558\tvalid-rmse:0.419712\n",
            "[337]\ttrain-rmse:0.38351\tvalid-rmse:0.419701\n",
            "[338]\ttrain-rmse:0.383223\tvalid-rmse:0.419623\n",
            "[339]\ttrain-rmse:0.383094\tvalid-rmse:0.419648\n",
            "[340]\ttrain-rmse:0.382857\tvalid-rmse:0.419557\n",
            "[341]\ttrain-rmse:0.382671\tvalid-rmse:0.419546\n",
            "[342]\ttrain-rmse:0.382553\tvalid-rmse:0.419558\n",
            "[343]\ttrain-rmse:0.382515\tvalid-rmse:0.419553\n",
            "[344]\ttrain-rmse:0.382368\tvalid-rmse:0.419489\n",
            "[345]\ttrain-rmse:0.382254\tvalid-rmse:0.419469\n",
            "[346]\ttrain-rmse:0.382185\tvalid-rmse:0.41946\n",
            "[347]\ttrain-rmse:0.382089\tvalid-rmse:0.419442\n",
            "[348]\ttrain-rmse:0.38208\tvalid-rmse:0.419431\n",
            "[349]\ttrain-rmse:0.382064\tvalid-rmse:0.419431\n",
            "[350]\ttrain-rmse:0.382042\tvalid-rmse:0.41943\n",
            "[351]\ttrain-rmse:0.38191\tvalid-rmse:0.419404\n",
            "[352]\ttrain-rmse:0.38189\tvalid-rmse:0.419394\n",
            "[353]\ttrain-rmse:0.381633\tvalid-rmse:0.419302\n",
            "[354]\ttrain-rmse:0.381534\tvalid-rmse:0.419289\n",
            "[355]\ttrain-rmse:0.381338\tvalid-rmse:0.419228\n",
            "[356]\ttrain-rmse:0.381253\tvalid-rmse:0.419234\n",
            "[357]\ttrain-rmse:0.381107\tvalid-rmse:0.419215\n",
            "[358]\ttrain-rmse:0.381098\tvalid-rmse:0.419224\n",
            "[359]\ttrain-rmse:0.381027\tvalid-rmse:0.419216\n",
            "[360]\ttrain-rmse:0.381013\tvalid-rmse:0.419204\n",
            "[361]\ttrain-rmse:0.381001\tvalid-rmse:0.4192\n",
            "[362]\ttrain-rmse:0.380847\tvalid-rmse:0.41918\n",
            "[363]\ttrain-rmse:0.380742\tvalid-rmse:0.419174\n",
            "[364]\ttrain-rmse:0.380518\tvalid-rmse:0.419081\n",
            "[365]\ttrain-rmse:0.380472\tvalid-rmse:0.419077\n",
            "[366]\ttrain-rmse:0.380291\tvalid-rmse:0.419037\n",
            "[367]\ttrain-rmse:0.380283\tvalid-rmse:0.419029\n",
            "[368]\ttrain-rmse:0.380209\tvalid-rmse:0.419051\n",
            "[369]\ttrain-rmse:0.380082\tvalid-rmse:0.419035\n",
            "[370]\ttrain-rmse:0.379847\tvalid-rmse:0.418977\n",
            "[371]\ttrain-rmse:0.379657\tvalid-rmse:0.418947\n",
            "[372]\ttrain-rmse:0.379518\tvalid-rmse:0.41893\n",
            "[373]\ttrain-rmse:0.379295\tvalid-rmse:0.418903\n",
            "[374]\ttrain-rmse:0.379176\tvalid-rmse:0.418896\n",
            "[375]\ttrain-rmse:0.379048\tvalid-rmse:0.418864\n",
            "[376]\ttrain-rmse:0.378934\tvalid-rmse:0.418845\n",
            "[377]\ttrain-rmse:0.378758\tvalid-rmse:0.418794\n",
            "[378]\ttrain-rmse:0.378528\tvalid-rmse:0.418663\n",
            "[379]\ttrain-rmse:0.378523\tvalid-rmse:0.418647\n",
            "[380]\ttrain-rmse:0.378341\tvalid-rmse:0.418605\n",
            "[381]\ttrain-rmse:0.378139\tvalid-rmse:0.418583\n",
            "[382]\ttrain-rmse:0.377935\tvalid-rmse:0.41853\n",
            "[383]\ttrain-rmse:0.377698\tvalid-rmse:0.418489\n",
            "[384]\ttrain-rmse:0.377521\tvalid-rmse:0.418498\n",
            "[385]\ttrain-rmse:0.377363\tvalid-rmse:0.418491\n",
            "[386]\ttrain-rmse:0.377359\tvalid-rmse:0.41848\n",
            "[387]\ttrain-rmse:0.377256\tvalid-rmse:0.418427\n",
            "[388]\ttrain-rmse:0.377178\tvalid-rmse:0.418416\n",
            "[389]\ttrain-rmse:0.377128\tvalid-rmse:0.418406\n",
            "[390]\ttrain-rmse:0.377073\tvalid-rmse:0.418398\n",
            "[391]\ttrain-rmse:0.376865\tvalid-rmse:0.418327\n",
            "[392]\ttrain-rmse:0.376666\tvalid-rmse:0.418301\n",
            "[393]\ttrain-rmse:0.376549\tvalid-rmse:0.418282\n",
            "[394]\ttrain-rmse:0.376344\tvalid-rmse:0.41826\n",
            "[395]\ttrain-rmse:0.376234\tvalid-rmse:0.418247\n",
            "[396]\ttrain-rmse:0.376099\tvalid-rmse:0.418258\n",
            "[397]\ttrain-rmse:0.375946\tvalid-rmse:0.418271\n",
            "[398]\ttrain-rmse:0.375941\tvalid-rmse:0.418265\n",
            "[399]\ttrain-rmse:0.375924\tvalid-rmse:0.418265\n",
            "[400]\ttrain-rmse:0.375684\tvalid-rmse:0.418218\n",
            "[401]\ttrain-rmse:0.375646\tvalid-rmse:0.418224\n",
            "[402]\ttrain-rmse:0.375641\tvalid-rmse:0.41822\n",
            "[403]\ttrain-rmse:0.375495\tvalid-rmse:0.418225\n",
            "[404]\ttrain-rmse:0.375408\tvalid-rmse:0.418222\n",
            "[405]\ttrain-rmse:0.3754\tvalid-rmse:0.418218\n",
            "[406]\ttrain-rmse:0.375244\tvalid-rmse:0.418162\n",
            "[407]\ttrain-rmse:0.375155\tvalid-rmse:0.418148\n",
            "[408]\ttrain-rmse:0.375064\tvalid-rmse:0.418149\n",
            "[409]\ttrain-rmse:0.374967\tvalid-rmse:0.418149\n",
            "[410]\ttrain-rmse:0.374896\tvalid-rmse:0.418131\n",
            "[411]\ttrain-rmse:0.374708\tvalid-rmse:0.418138\n",
            "[412]\ttrain-rmse:0.374676\tvalid-rmse:0.41814\n",
            "[413]\ttrain-rmse:0.374558\tvalid-rmse:0.418106\n",
            "[414]\ttrain-rmse:0.374367\tvalid-rmse:0.418106\n",
            "[415]\ttrain-rmse:0.374275\tvalid-rmse:0.418079\n",
            "[416]\ttrain-rmse:0.374034\tvalid-rmse:0.417998\n",
            "[417]\ttrain-rmse:0.373864\tvalid-rmse:0.41799\n",
            "[418]\ttrain-rmse:0.373852\tvalid-rmse:0.417984\n",
            "[419]\ttrain-rmse:0.373831\tvalid-rmse:0.417973\n",
            "[420]\ttrain-rmse:0.373826\tvalid-rmse:0.417974\n",
            "[421]\ttrain-rmse:0.373817\tvalid-rmse:0.417971\n",
            "[422]\ttrain-rmse:0.373814\tvalid-rmse:0.417965\n",
            "[423]\ttrain-rmse:0.373731\tvalid-rmse:0.417955\n",
            "[424]\ttrain-rmse:0.373617\tvalid-rmse:0.41795\n",
            "[425]\ttrain-rmse:0.373606\tvalid-rmse:0.417956\n",
            "[426]\ttrain-rmse:0.37346\tvalid-rmse:0.417946\n",
            "[427]\ttrain-rmse:0.373335\tvalid-rmse:0.417941\n",
            "[428]\ttrain-rmse:0.373308\tvalid-rmse:0.417949\n",
            "[429]\ttrain-rmse:0.373138\tvalid-rmse:0.417956\n",
            "[430]\ttrain-rmse:0.373066\tvalid-rmse:0.417949\n",
            "[431]\ttrain-rmse:0.372938\tvalid-rmse:0.417898\n",
            "[432]\ttrain-rmse:0.37285\tvalid-rmse:0.417867\n",
            "[433]\ttrain-rmse:0.372758\tvalid-rmse:0.41786\n",
            "[434]\ttrain-rmse:0.372693\tvalid-rmse:0.417853\n",
            "[435]\ttrain-rmse:0.372505\tvalid-rmse:0.417806\n",
            "[436]\ttrain-rmse:0.372333\tvalid-rmse:0.417802\n",
            "[437]\ttrain-rmse:0.372192\tvalid-rmse:0.417737\n",
            "[438]\ttrain-rmse:0.372055\tvalid-rmse:0.41773\n",
            "[439]\ttrain-rmse:0.371881\tvalid-rmse:0.417664\n",
            "[440]\ttrain-rmse:0.371713\tvalid-rmse:0.417662\n",
            "[441]\ttrain-rmse:0.371667\tvalid-rmse:0.41766\n",
            "[442]\ttrain-rmse:0.371644\tvalid-rmse:0.417657\n",
            "[443]\ttrain-rmse:0.371545\tvalid-rmse:0.417618\n",
            "[444]\ttrain-rmse:0.371537\tvalid-rmse:0.417616\n",
            "[445]\ttrain-rmse:0.371371\tvalid-rmse:0.417577\n",
            "[446]\ttrain-rmse:0.371176\tvalid-rmse:0.417551\n",
            "[447]\ttrain-rmse:0.371104\tvalid-rmse:0.41752\n",
            "[448]\ttrain-rmse:0.370944\tvalid-rmse:0.41749\n",
            "[449]\ttrain-rmse:0.370895\tvalid-rmse:0.417472\n",
            "[450]\ttrain-rmse:0.370889\tvalid-rmse:0.417466\n",
            "[451]\ttrain-rmse:0.370881\tvalid-rmse:0.417468\n",
            "[452]\ttrain-rmse:0.370666\tvalid-rmse:0.417438\n",
            "[453]\ttrain-rmse:0.370499\tvalid-rmse:0.417401\n",
            "[454]\ttrain-rmse:0.370463\tvalid-rmse:0.417391\n",
            "[455]\ttrain-rmse:0.370284\tvalid-rmse:0.417347\n",
            "[456]\ttrain-rmse:0.370194\tvalid-rmse:0.417331\n",
            "[457]\ttrain-rmse:0.370136\tvalid-rmse:0.417359\n",
            "[458]\ttrain-rmse:0.369944\tvalid-rmse:0.417343\n",
            "[459]\ttrain-rmse:0.369821\tvalid-rmse:0.41734\n",
            "[460]\ttrain-rmse:0.369814\tvalid-rmse:0.417339\n",
            "[461]\ttrain-rmse:0.369781\tvalid-rmse:0.417346\n",
            "[462]\ttrain-rmse:0.369583\tvalid-rmse:0.417312\n",
            "[463]\ttrain-rmse:0.369523\tvalid-rmse:0.417316\n",
            "[464]\ttrain-rmse:0.369324\tvalid-rmse:0.417292\n",
            "[465]\ttrain-rmse:0.369209\tvalid-rmse:0.417287\n",
            "[466]\ttrain-rmse:0.369147\tvalid-rmse:0.417277\n",
            "[467]\ttrain-rmse:0.36907\tvalid-rmse:0.417286\n",
            "[468]\ttrain-rmse:0.368853\tvalid-rmse:0.417271\n",
            "[469]\ttrain-rmse:0.368756\tvalid-rmse:0.417271\n",
            "[470]\ttrain-rmse:0.368697\tvalid-rmse:0.417252\n",
            "[471]\ttrain-rmse:0.368592\tvalid-rmse:0.417233\n",
            "[472]\ttrain-rmse:0.368542\tvalid-rmse:0.417233\n",
            "[473]\ttrain-rmse:0.368534\tvalid-rmse:0.417229\n",
            "[474]\ttrain-rmse:0.368507\tvalid-rmse:0.417216\n",
            "[475]\ttrain-rmse:0.368473\tvalid-rmse:0.417215\n",
            "[476]\ttrain-rmse:0.368464\tvalid-rmse:0.417213\n",
            "[477]\ttrain-rmse:0.368404\tvalid-rmse:0.417218\n",
            "[478]\ttrain-rmse:0.368391\tvalid-rmse:0.417217\n",
            "[479]\ttrain-rmse:0.368244\tvalid-rmse:0.417176\n",
            "[480]\ttrain-rmse:0.368108\tvalid-rmse:0.417196\n",
            "[481]\ttrain-rmse:0.368013\tvalid-rmse:0.417175\n",
            "[482]\ttrain-rmse:0.367833\tvalid-rmse:0.417179\n",
            "[483]\ttrain-rmse:0.367657\tvalid-rmse:0.417144\n",
            "[484]\ttrain-rmse:0.367504\tvalid-rmse:0.417151\n",
            "[485]\ttrain-rmse:0.36748\tvalid-rmse:0.417144\n",
            "[486]\ttrain-rmse:0.367344\tvalid-rmse:0.417097\n",
            "[487]\ttrain-rmse:0.367193\tvalid-rmse:0.417088\n",
            "[488]\ttrain-rmse:0.36719\tvalid-rmse:0.417086\n",
            "[489]\ttrain-rmse:0.366929\tvalid-rmse:0.417008\n",
            "[490]\ttrain-rmse:0.366901\tvalid-rmse:0.416994\n",
            "[491]\ttrain-rmse:0.366897\tvalid-rmse:0.416993\n",
            "[492]\ttrain-rmse:0.366846\tvalid-rmse:0.416992\n",
            "[493]\ttrain-rmse:0.366834\tvalid-rmse:0.416988\n",
            "[494]\ttrain-rmse:0.36681\tvalid-rmse:0.416993\n",
            "[495]\ttrain-rmse:0.366799\tvalid-rmse:0.416995\n",
            "[496]\ttrain-rmse:0.366774\tvalid-rmse:0.416989\n",
            "[497]\ttrain-rmse:0.366728\tvalid-rmse:0.416993\n",
            "[498]\ttrain-rmse:0.366565\tvalid-rmse:0.416994\n",
            "[499]\ttrain-rmse:0.366464\tvalid-rmse:0.416996\n",
            "[500]\ttrain-rmse:0.366307\tvalid-rmse:0.416974\n",
            "[501]\ttrain-rmse:0.366247\tvalid-rmse:0.416981\n",
            "[502]\ttrain-rmse:0.366083\tvalid-rmse:0.416951\n",
            "[503]\ttrain-rmse:0.36591\tvalid-rmse:0.416962\n",
            "[504]\ttrain-rmse:0.365723\tvalid-rmse:0.416918\n",
            "[505]\ttrain-rmse:0.36565\tvalid-rmse:0.416908\n",
            "[506]\ttrain-rmse:0.365434\tvalid-rmse:0.416847\n",
            "[507]\ttrain-rmse:0.365319\tvalid-rmse:0.416824\n",
            "[508]\ttrain-rmse:0.365115\tvalid-rmse:0.416797\n",
            "[509]\ttrain-rmse:0.36496\tvalid-rmse:0.416795\n",
            "[510]\ttrain-rmse:0.364871\tvalid-rmse:0.416796\n",
            "[511]\ttrain-rmse:0.364709\tvalid-rmse:0.416776\n",
            "[512]\ttrain-rmse:0.36453\tvalid-rmse:0.416769\n",
            "[513]\ttrain-rmse:0.364435\tvalid-rmse:0.416769\n",
            "[514]\ttrain-rmse:0.364266\tvalid-rmse:0.416714\n",
            "[515]\ttrain-rmse:0.364159\tvalid-rmse:0.416675\n",
            "[516]\ttrain-rmse:0.364136\tvalid-rmse:0.41669\n",
            "[517]\ttrain-rmse:0.363936\tvalid-rmse:0.416607\n",
            "[518]\ttrain-rmse:0.363781\tvalid-rmse:0.41659\n",
            "[519]\ttrain-rmse:0.363702\tvalid-rmse:0.416574\n",
            "[520]\ttrain-rmse:0.363664\tvalid-rmse:0.416564\n",
            "[521]\ttrain-rmse:0.363544\tvalid-rmse:0.416523\n",
            "[522]\ttrain-rmse:0.363441\tvalid-rmse:0.416537\n",
            "[523]\ttrain-rmse:0.363259\tvalid-rmse:0.416486\n",
            "[524]\ttrain-rmse:0.363169\tvalid-rmse:0.416478\n",
            "[525]\ttrain-rmse:0.363092\tvalid-rmse:0.416469\n",
            "[526]\ttrain-rmse:0.362881\tvalid-rmse:0.41641\n",
            "[527]\ttrain-rmse:0.362758\tvalid-rmse:0.416378\n",
            "[528]\ttrain-rmse:0.362604\tvalid-rmse:0.416358\n",
            "[529]\ttrain-rmse:0.36256\tvalid-rmse:0.416355\n",
            "[530]\ttrain-rmse:0.36234\tvalid-rmse:0.416324\n",
            "[531]\ttrain-rmse:0.362296\tvalid-rmse:0.416338\n",
            "[532]\ttrain-rmse:0.36227\tvalid-rmse:0.416323\n",
            "[533]\ttrain-rmse:0.362116\tvalid-rmse:0.41629\n",
            "[534]\ttrain-rmse:0.362111\tvalid-rmse:0.416287\n",
            "[535]\ttrain-rmse:0.362109\tvalid-rmse:0.416281\n",
            "[536]\ttrain-rmse:0.362012\tvalid-rmse:0.416278\n",
            "[537]\ttrain-rmse:0.361845\tvalid-rmse:0.416242\n",
            "[538]\ttrain-rmse:0.361841\tvalid-rmse:0.416242\n",
            "[539]\ttrain-rmse:0.361791\tvalid-rmse:0.416225\n",
            "[540]\ttrain-rmse:0.361779\tvalid-rmse:0.416231\n",
            "[541]\ttrain-rmse:0.36173\tvalid-rmse:0.416219\n",
            "[542]\ttrain-rmse:0.361582\tvalid-rmse:0.416204\n",
            "[543]\ttrain-rmse:0.361532\tvalid-rmse:0.416215\n",
            "[544]\ttrain-rmse:0.36143\tvalid-rmse:0.416215\n",
            "[545]\ttrain-rmse:0.361299\tvalid-rmse:0.416174\n",
            "[546]\ttrain-rmse:0.361169\tvalid-rmse:0.416135\n",
            "[547]\ttrain-rmse:0.361118\tvalid-rmse:0.416136\n",
            "[548]\ttrain-rmse:0.361078\tvalid-rmse:0.416117\n",
            "[549]\ttrain-rmse:0.361048\tvalid-rmse:0.416101\n",
            "[550]\ttrain-rmse:0.360966\tvalid-rmse:0.416071\n",
            "[551]\ttrain-rmse:0.360956\tvalid-rmse:0.416075\n",
            "[552]\ttrain-rmse:0.360796\tvalid-rmse:0.416049\n",
            "[553]\ttrain-rmse:0.360603\tvalid-rmse:0.41604\n",
            "[554]\ttrain-rmse:0.360488\tvalid-rmse:0.41605\n",
            "[555]\ttrain-rmse:0.360396\tvalid-rmse:0.416031\n",
            "[556]\ttrain-rmse:0.360315\tvalid-rmse:0.416027\n",
            "[557]\ttrain-rmse:0.360193\tvalid-rmse:0.41599\n",
            "[558]\ttrain-rmse:0.36005\tvalid-rmse:0.415974\n",
            "[559]\ttrain-rmse:0.359938\tvalid-rmse:0.415942\n",
            "[560]\ttrain-rmse:0.359894\tvalid-rmse:0.415929\n",
            "[561]\ttrain-rmse:0.359841\tvalid-rmse:0.415914\n",
            "[562]\ttrain-rmse:0.359795\tvalid-rmse:0.415898\n",
            "[563]\ttrain-rmse:0.359783\tvalid-rmse:0.415894\n",
            "[564]\ttrain-rmse:0.359681\tvalid-rmse:0.415871\n",
            "[565]\ttrain-rmse:0.359576\tvalid-rmse:0.415863\n",
            "[566]\ttrain-rmse:0.3594\tvalid-rmse:0.415829\n",
            "[567]\ttrain-rmse:0.359254\tvalid-rmse:0.415814\n",
            "[568]\ttrain-rmse:0.359147\tvalid-rmse:0.415823\n",
            "[569]\ttrain-rmse:0.359034\tvalid-rmse:0.415804\n",
            "[570]\ttrain-rmse:0.358948\tvalid-rmse:0.415789\n",
            "[571]\ttrain-rmse:0.35893\tvalid-rmse:0.415789\n",
            "[572]\ttrain-rmse:0.358725\tvalid-rmse:0.415794\n",
            "[573]\ttrain-rmse:0.358608\tvalid-rmse:0.415764\n",
            "[574]\ttrain-rmse:0.358473\tvalid-rmse:0.415733\n",
            "[575]\ttrain-rmse:0.358332\tvalid-rmse:0.415708\n",
            "[576]\ttrain-rmse:0.358164\tvalid-rmse:0.415709\n",
            "[577]\ttrain-rmse:0.357955\tvalid-rmse:0.41569\n",
            "[578]\ttrain-rmse:0.357783\tvalid-rmse:0.415713\n",
            "[579]\ttrain-rmse:0.357629\tvalid-rmse:0.415687\n",
            "[580]\ttrain-rmse:0.357406\tvalid-rmse:0.415601\n",
            "[581]\ttrain-rmse:0.357229\tvalid-rmse:0.415589\n",
            "[582]\ttrain-rmse:0.357026\tvalid-rmse:0.415564\n",
            "[583]\ttrain-rmse:0.356836\tvalid-rmse:0.415457\n",
            "[584]\ttrain-rmse:0.356768\tvalid-rmse:0.415442\n",
            "[585]\ttrain-rmse:0.356567\tvalid-rmse:0.415455\n",
            "[586]\ttrain-rmse:0.356414\tvalid-rmse:0.415405\n",
            "[587]\ttrain-rmse:0.356296\tvalid-rmse:0.415339\n",
            "[588]\ttrain-rmse:0.356167\tvalid-rmse:0.415297\n",
            "[589]\ttrain-rmse:0.356037\tvalid-rmse:0.415303\n",
            "[590]\ttrain-rmse:0.355875\tvalid-rmse:0.415241\n",
            "[591]\ttrain-rmse:0.35579\tvalid-rmse:0.415232\n",
            "[592]\ttrain-rmse:0.355601\tvalid-rmse:0.415278\n",
            "[593]\ttrain-rmse:0.355522\tvalid-rmse:0.415255\n",
            "[594]\ttrain-rmse:0.35545\tvalid-rmse:0.415274\n",
            "[595]\ttrain-rmse:0.355338\tvalid-rmse:0.415286\n",
            "[596]\ttrain-rmse:0.35526\tvalid-rmse:0.415254\n",
            "[597]\ttrain-rmse:0.355198\tvalid-rmse:0.415239\n",
            "[598]\ttrain-rmse:0.355169\tvalid-rmse:0.415226\n",
            "[599]\ttrain-rmse:0.355065\tvalid-rmse:0.415228\n",
            "[600]\ttrain-rmse:0.355046\tvalid-rmse:0.415226\n",
            "[601]\ttrain-rmse:0.354847\tvalid-rmse:0.415254\n",
            "[602]\ttrain-rmse:0.354798\tvalid-rmse:0.415257\n",
            "[603]\ttrain-rmse:0.354686\tvalid-rmse:0.415262\n",
            "[604]\ttrain-rmse:0.354671\tvalid-rmse:0.415255\n",
            "[605]\ttrain-rmse:0.354663\tvalid-rmse:0.415258\n",
            "[606]\ttrain-rmse:0.354658\tvalid-rmse:0.415253\n",
            "[607]\ttrain-rmse:0.354639\tvalid-rmse:0.41524\n",
            "[608]\ttrain-rmse:0.354576\tvalid-rmse:0.415224\n",
            "[609]\ttrain-rmse:0.354448\tvalid-rmse:0.415198\n",
            "[610]\ttrain-rmse:0.354438\tvalid-rmse:0.415195\n",
            "[611]\ttrain-rmse:0.35436\tvalid-rmse:0.415193\n",
            "[612]\ttrain-rmse:0.354344\tvalid-rmse:0.415199\n",
            "[613]\ttrain-rmse:0.354313\tvalid-rmse:0.41518\n",
            "[614]\ttrain-rmse:0.354311\tvalid-rmse:0.415177\n",
            "[615]\ttrain-rmse:0.354301\tvalid-rmse:0.415172\n",
            "[616]\ttrain-rmse:0.354261\tvalid-rmse:0.415175\n",
            "[617]\ttrain-rmse:0.3542\tvalid-rmse:0.415154\n",
            "[618]\ttrain-rmse:0.354193\tvalid-rmse:0.415156\n",
            "[619]\ttrain-rmse:0.353993\tvalid-rmse:0.415116\n",
            "[620]\ttrain-rmse:0.353838\tvalid-rmse:0.415094\n",
            "[621]\ttrain-rmse:0.353682\tvalid-rmse:0.415075\n",
            "[622]\ttrain-rmse:0.353491\tvalid-rmse:0.415044\n",
            "[623]\ttrain-rmse:0.353332\tvalid-rmse:0.415013\n",
            "[624]\ttrain-rmse:0.353222\tvalid-rmse:0.414989\n",
            "[625]\ttrain-rmse:0.353058\tvalid-rmse:0.414956\n",
            "[626]\ttrain-rmse:0.352976\tvalid-rmse:0.414937\n",
            "[627]\ttrain-rmse:0.352841\tvalid-rmse:0.414923\n",
            "[628]\ttrain-rmse:0.352696\tvalid-rmse:0.414926\n",
            "[629]\ttrain-rmse:0.352689\tvalid-rmse:0.414925\n",
            "[630]\ttrain-rmse:0.352538\tvalid-rmse:0.414922\n",
            "[631]\ttrain-rmse:0.352457\tvalid-rmse:0.414916\n",
            "[632]\ttrain-rmse:0.352402\tvalid-rmse:0.414935\n",
            "[633]\ttrain-rmse:0.352333\tvalid-rmse:0.414919\n",
            "[634]\ttrain-rmse:0.352166\tvalid-rmse:0.414957\n",
            "[635]\ttrain-rmse:0.351977\tvalid-rmse:0.414961\n",
            "[636]\ttrain-rmse:0.351896\tvalid-rmse:0.41495\n",
            "[637]\ttrain-rmse:0.351838\tvalid-rmse:0.414948\n",
            "[638]\ttrain-rmse:0.351801\tvalid-rmse:0.414939\n",
            "[639]\ttrain-rmse:0.351786\tvalid-rmse:0.414941\n",
            "[640]\ttrain-rmse:0.351769\tvalid-rmse:0.41493\n",
            "[641]\ttrain-rmse:0.351736\tvalid-rmse:0.414943\n",
            "Stopping. Best iteration:\n",
            "[631]\ttrain-rmse:0.352457\tvalid-rmse:0.414916\n",
            "\n"
          ]
        }
      ]
    },
    {
      "cell_type": "code",
      "source": [
        "DATA_IN_PATH = '/content/'\n",
        "import numpy as np\n",
        "TEST_Q1_DATA_FILE = 'test_q1.npy'\n",
        "TEST_Q2_DATA_FILE = 'test_q2.npy'\n",
        "TEST_ID_DATA_FILE = 'test_id.npy'\n",
        "\n",
        "test_q1_data = np.load(open(DATA_IN_PATH + TEST_Q1_DATA_FILE, 'rb'))\n",
        "test_q2_data = np.load(open(DATA_IN_PATH + TEST_Q2_DATA_FILE, 'rb'))\n",
        "test_id_data = np.load(open(DATA_IN_PATH + TEST_ID_DATA_FILE, 'rb'))"
      ],
      "metadata": {
        "id": "5G6Tx9hakbfq"
      },
      "execution_count": 66,
      "outputs": []
    },
    {
      "cell_type": "code",
      "source": [
        "test_input = np.stack((test_q1_data, test_q2_data), axis=1)\n",
        "test_data =xgb.DMatrix(test_input.sum(axis=1))\n",
        "test_predict = bst.predict(test_data)\n"
      ],
      "metadata": {
        "id": "BrV2nKcTk6fx"
      },
      "execution_count": 72,
      "outputs": []
    },
    {
      "cell_type": "code",
      "source": [
        "DATA_OUT_PATH ='/content/OUT'\n",
        "if not os.path.exists(DATA_OUT_PATH):\n",
        "  os.makedirs(DATA_OUT_PATH)\n"
      ],
      "metadata": {
        "id": "tgJGSmr3lEjB"
      },
      "execution_count": 73,
      "outputs": []
    },
    {
      "cell_type": "code",
      "source": [
        "output = pd.DataFrame({'test_id':test_id_data, 'is_duplicate':test_predict})\n",
        "output.to_csv(DATA_OUT_PATH + 'simple_xgb.csv', index=False)"
      ],
      "metadata": {
        "id": "RMvpEh7jl1jQ"
      },
      "execution_count": 74,
      "outputs": []
    },
    {
      "cell_type": "code",
      "source": [
        "#import pandas as pd\n",
        "#student_card = pd.DataFrame({'ID':[20190103, 20190222, 20190531],\n",
        "#                             'name':['Kim', 'Lee', 'Jeong'],\n",
        "#                             'class':['H', 'W', 'S']})"
      ],
      "metadata": {
        "id": "KH9pJTKzmH_4"
      },
      "execution_count": 71,
      "outputs": []
    },
    {
      "cell_type": "code",
      "source": [
        "# 2.CNN텍스트 유사도 분석 모델\n",
        "from tensorflow.keras import layers\n",
        "import tensorflow as tf\n",
        "from keras.callbacks import EarlyStopping\n",
        "from keras.callbacks import ModelCheckpoint"
      ],
      "metadata": {
        "id": "ntugsT-Al4_E"
      },
      "execution_count": 76,
      "outputs": []
    },
    {
      "cell_type": "code",
      "source": [
        "DATA_IN_PATH = '/content/'\n",
        "DATA_OUT_PATH = '/content/'\n",
        "TRAIN_Q1_DATA_FILE = 'q1_train.npy'\n",
        "TRAIN_Q2_DATA_FILE = 'q2_train.npy'\n",
        "TRAIN_LABEL_DATA_FILE = 'label_train.npy'\n",
        "\n",
        "DATA_CONFIGS = 'data_configs.json'\n",
        "\n",
        "q1_data = np.load(open(DATA_IN_PATH + TRAIN_Q1_DATA_FILE, 'rb'))\n",
        "q2_data = np.load(open(DATA_IN_PATH + TRAIN_Q2_DATA_FILE, 'rb'))\n",
        "labels = np.load(open(DATA_IN_PATH + TRAIN_LABEL_DATA_FILE, 'rb'))\n",
        "#prepro_configs = np.load(open(DATA_IN_PATH + DATA_CONFIGS, 'rb'))\n",
        "prepro_configs = json.dump(data_configs, open(DATA_IN_PATH + DATA_CONFIGS, 'w'))\n",
        "\n",
        "SEED_NUM = 1234\n",
        "tf.random.set_seed(SEED_NUM)\n"
      ],
      "metadata": {
        "id": "FMpjPEnV8VG-"
      },
      "execution_count": 77,
      "outputs": []
    },
    {
      "cell_type": "code",
      "source": [
        "\n",
        "# 문장에 대한 입력값에서 특징을 뽑아 하나의 벡터를 추출하는 역할\n",
        "# 합성곱 레이어와 맥스풀 레이어를 사용함\n",
        "# 뽑은 특징값의 차원수를 조절하기 위한 dense 레이어를 활용\n",
        "\n",
        "class SentenceEmbedding(layers.Layer):  # 모델이 아닌 모듈을 구현, tf.keras.Model상속이 아니라 laeyers를 상속\n",
        "    def __init__(self, **kargs):\n",
        "        super(SentenceEmbedding, self).__init__()\n",
        "\n",
        "        self.conv = layers.Conv1D(kargs['conv_num_filters'], kargs['conv_window_size'], \n",
        "                                activation=tf.keras.activations.relu, \n",
        "                                padding='same')\n",
        "        self.max_pool = layers.MaxPool1D(kargs['max_pool_seq_len'], 1)\n",
        "        self.dense = layers.Dense(kargs['sent_embedding_dimension'], \n",
        "                              activation=tf.keras.activations.relu)\n",
        "\n",
        "    def call(self, x):\n",
        "        x = self.conv(x)\n",
        "        x = self.max_pool(x)\n",
        "        x = self.dense(x)\n",
        "        \n",
        "        return tf.squeeze(x, 1)"
      ],
      "metadata": {
        "id": "VYWl8mju9pwT"
      },
      "execution_count": 78,
      "outputs": []
    },
    {
      "cell_type": "code",
      "source": [
        "\n",
        "\n",
        "# 단어 임베딩 레이어 +  문장 임베딩 레이어 + 차원변환을 위한 dense 레이어로 구성\n",
        "class SentenceSimilarityModel(tf.keras.Model):\n",
        "    def __init__(self, **kargs):\n",
        "        super(SentenceSimilarityModel, self).__init__(name=kargs['model_name'])\n",
        "        \n",
        "        self.word_embedding = layers.Embedding(kargs['vocab_size'], kargs['word_embedding_dimension'])\n",
        "        self.base_encoder = SentenceEmbedding(**kargs)\n",
        "        self.hypo_encoder = SentenceEmbedding(**kargs)\n",
        "        self.dense = layers.Dense(kargs['hidden_dimension'], \n",
        "                                           activation=tf.keras.activations.relu)\n",
        "        self.logit = layers.Dense(1, activation=tf.keras.activations.sigmoid)\n",
        "        self.dropout = layers.Dropout(kargs['dropout_rate'])\n",
        "        \n",
        "    def call(self, x):\n",
        "        x1, x2 = x\n",
        "        b_x = self.word_embedding(x1)\n",
        "        h_x = self.word_embedding(x2)\n",
        "        b_x = self.dropout(b_x)\n",
        "        h_x = self.dropout(h_x)\n",
        "        \n",
        "        b_x = self.base_encoder(b_x)\n",
        "        h_x = self.hypo_encoder(h_x)\n",
        "        \n",
        "        e_x = tf.concat([b_x, h_x], -1)\n",
        "        e_x = self.dense(e_x)\n",
        "        e_x = self.dropout(e_x)\n",
        "        \n",
        "        return self.logit(e_x)"
      ],
      "metadata": {
        "id": "DjcZNXPQScgj"
      },
      "execution_count": 79,
      "outputs": []
    },
    {
      "cell_type": "code",
      "source": [
        "# 모델 하이퍼 파라미터 정의\n",
        "model_name = 'cnn_similarity'\n",
        "BATCH_SIZE = 1024\n",
        "NUM_EPOCHS=100\n",
        "VALID_SPLIT = 0.1\n",
        "MAX_LEN =31\n",
        "\n",
        "\n",
        "BATCH_SIZE = 1024\n",
        "NUM_EPOCHS = 100\n",
        "VALID_SPLIT = 0.1\n",
        "MAX_LEN = 31\n",
        "\n",
        "\n",
        "kargs = {'model_name': model_name,\n",
        "         'vocab_size': data_configs['vocab_size'],\n",
        "         'word_embedding_dimension': 100,\n",
        "         'conv_num_filters': 300,\n",
        "         'conv_window_size': 3,\n",
        "         'max_pool_seq_len': MAX_LEN,\n",
        "         'sent_embedding_dimension': 128,\n",
        "         'dropout_rate': 0.2,\n",
        "         'hidden_dimension': 200,\n",
        "         'output_dimension':1}"
      ],
      "metadata": {
        "id": "cldPfRGQXlux"
      },
      "execution_count": 80,
      "outputs": []
    },
    {
      "cell_type": "code",
      "source": [
        "# 모델 생성 : \n",
        "Model = SentenceSimilarityModel(**kargs)\n",
        "\n",
        "Model.compile(optimizer = tf.keras.optimizers.Adam(1e-3),\n",
        "              loss = tf.losses.BinaryCrossentropy(),\n",
        "              metrics = [tf.keras.metrics.BinaryAccuracy(name='accuracy')])"
      ],
      "metadata": {
        "id": "FKrkDKCHYPsO"
      },
      "execution_count": 81,
      "outputs": []
    },
    {
      "cell_type": "code",
      "source": [
        "# 모델학습 \n",
        "\n",
        "# Earlystop\n",
        "ealrystop_callback = EarlyStopping(monitor ='val_accuracy', min_delta=0.0001, patience =1)\n",
        "# min_delta : the threshold that triggers the termination\n",
        "# patience : no improvement epochs\n",
        "checkpoint_path = DATA_OUT_PATH + model_name + '/weight.h5'\n",
        "checkpoint_dir = os.path.dirname(checkpoint_path)\n",
        "\n",
        "if os.path.exists(checkpoint_dir):\n",
        "  print(\"{} --Folder already exists \\n\".format(checkpoint_dir))\n",
        "else:\n",
        "  os.makedirs(checkpoint_dir, exist_ok = True)\n",
        "  print(\"{}-- folder create complete \\n\".format(checkpoint_dir))\n",
        "\n",
        "cp_callback = ModelCheckpoint(checkpoint_path, monitor ='val_accuracy', verbose=1, save_best_only=True, save_weights_only = True)\n"
      ],
      "metadata": {
        "colab": {
          "base_uri": "https://localhost:8080/"
        },
        "id": "ii4vk1F6ZANo",
        "outputId": "1becacb3-624c-400f-d0f6-104c46e20270"
      },
      "execution_count": 82,
      "outputs": [
        {
          "output_type": "stream",
          "name": "stdout",
          "text": [
            "/content/cnn_similarity-- folder create complete \n",
            "\n"
          ]
        }
      ]
    },
    {
      "cell_type": "code",
      "source": [
        "history = Model.fit((q1_data,q2_data), labels, batch_size=BATCH_SIZE, epochs= NUM_EPOCHS, validation_split = VALID_SPLIT, \n",
        "                    callbacks = [ealrystop_callback, cp_callback])"
      ],
      "metadata": {
        "colab": {
          "base_uri": "https://localhost:8080/"
        },
        "id": "nqKQYAMkfEER",
        "outputId": "b3377334-ea77-47c4-dafa-56ca6dee8d98"
      },
      "execution_count": 83,
      "outputs": [
        {
          "output_type": "stream",
          "name": "stdout",
          "text": [
            "Epoch 1/100\n",
            "263/263 [==============================] - ETA: 0s - loss: 0.5509 - accuracy: 0.7168\n",
            "Epoch 00001: val_accuracy improved from -inf to 0.72901, saving model to /content/cnn_similarity/weight.h5\n",
            "263/263 [==============================] - 19s 37ms/step - loss: 0.5509 - accuracy: 0.7168 - val_loss: 0.5121 - val_accuracy: 0.7290\n",
            "Epoch 2/100\n",
            "263/263 [==============================] - ETA: 0s - loss: 0.4460 - accuracy: 0.7907\n",
            "Epoch 00002: val_accuracy improved from 0.72901 to 0.77319, saving model to /content/cnn_similarity/weight.h5\n",
            "263/263 [==============================] - 9s 35ms/step - loss: 0.4460 - accuracy: 0.7907 - val_loss: 0.4500 - val_accuracy: 0.7732\n",
            "Epoch 3/100\n",
            "263/263 [==============================] - ETA: 0s - loss: 0.3561 - accuracy: 0.8393\n",
            "Epoch 00003: val_accuracy improved from 0.77319 to 0.81396, saving model to /content/cnn_similarity/weight.h5\n",
            "263/263 [==============================] - 9s 35ms/step - loss: 0.3561 - accuracy: 0.8393 - val_loss: 0.4226 - val_accuracy: 0.8140\n",
            "Epoch 4/100\n",
            "263/263 [==============================] - ETA: 0s - loss: 0.2704 - accuracy: 0.8830\n",
            "Epoch 00004: val_accuracy did not improve from 0.81396\n",
            "263/263 [==============================] - 9s 35ms/step - loss: 0.2704 - accuracy: 0.8830 - val_loss: 0.6366 - val_accuracy: 0.7480\n"
          ]
        }
      ]
    },
    {
      "cell_type": "code",
      "source": [
        "def plot_graphs(history, string):\n",
        "    plt.plot(history.history[string])\n",
        "    plt.plot(history.history['val_'+string], '')\n",
        "    plt.xlabel(\"Epochs\")\n",
        "    plt.ylabel(string)\n",
        "    plt.legend([string, 'val_'+string])\n",
        "    plt.show()"
      ],
      "metadata": {
        "id": "hJ4iH-8pZGHe"
      },
      "execution_count": 87,
      "outputs": []
    },
    {
      "cell_type": "code",
      "source": [
        "import matplotlib.pyplot as plt\n",
        "plot_graphs(history, 'loss')\n"
      ],
      "metadata": {
        "colab": {
          "base_uri": "https://localhost:8080/",
          "height": 281
        },
        "id": "g7_TZCBOfrdx",
        "outputId": "d0fc17ab-a47b-4b2b-d6ad-04e5019777d0"
      },
      "execution_count": 88,
      "outputs": [
        {
          "output_type": "display_data",
          "data": {
            "image/png": "[encoded data removed]",
            "text/plain": [
              "<Figure size 432x288 with 1 Axes>"
            ]
          },
          "metadata": {
            "needs_background": "light"
          }
        }
      ]
    },
    {
      "cell_type": "code",
      "source": [
        "plot_graphs(history, 'accuracy')"
      ],
      "metadata": {
        "colab": {
          "base_uri": "https://localhost:8080/",
          "height": 279
        },
        "id": "RhHS-OTLftq0",
        "outputId": "ed437c71-036f-4980-9e30-f06de2b4e29f"
      },
      "execution_count": 89,
      "outputs": [
        {
          "output_type": "display_data",
          "data": {
            "image/png": "[encoded data removed]",
            "text/plain": [
              "<Figure size 432x288 with 1 Axes>"
            ]
          },
          "metadata": {
            "needs_background": "light"
          }
        }
      ]
    },
    {
      "cell_type": "code",
      "source": [
        "# 데이터 제출하기\n",
        "TEST_Q1_DATA_FILE = 'test_q1.npy'\n",
        "TEST_Q2_DATA_FILE = 'test_q2.npy'\n",
        "TEST_ID_LABEL_FILE = 'test_id.npy'\n",
        "\n",
        "test_q1_data = np.load(open(DATA_IN_PATH + TEST_Q1_DATA_FILE, 'rb'))\n",
        "test_q2_data = np.load(open(DATA_IN_PATH + TEST_Q2_DATA_FILE, 'rb'))\n",
        "test_id_data = np.load(open(DATA_IN_PATH + TEST_ID_LABEL_FILE, 'rb'),allow_pickle =True)\n",
        "print(test_q1_data)\n",
        "print(test_q2_data)\n",
        "print(test_id_data)"
      ],
      "metadata": {
        "colab": {
          "base_uri": "https://localhost:8080/"
        },
        "id": "Z-4qpySyfwit",
        "outputId": "f37e658d-de38-423c-a104-ba44c2991a36"
      },
      "execution_count": 94,
      "outputs": [
        {
          "output_type": "stream",
          "name": "stdout",
          "text": [
            "[[  4  21   1 ...   0   0   0]\n",
            " [ 30   5  29 ...   0   0   0]\n",
            " [  2 103   3 ...   0   0   0]\n",
            " ...\n",
            " [  2  11  26 ...   0   0   0]\n",
            " [  2 125   1 ...   0   0   0]\n",
            " [  2   3   1 ...   0   0   0]]\n",
            "[[  16   55 1005 ...    0    0    0]\n",
            " [   4   77  325 ...    0    0    0]\n",
            " [   2   15  637 ...    0    0    0]\n",
            " ...\n",
            " [  13    7  314 ...    0    0    0]\n",
            " [   2   11    1 ...    0    0    0]\n",
            " [   4    9    5 ...    0    0    0]]\n",
            "[      0       1       2 ... 2345793 2345794 2345795]\n"
          ]
        }
      ]
    },
    {
      "cell_type": "code",
      "source": [
        "SAVE_FILE_NM = 'weight.h5'\n",
        "Model.load_weights(os.path.join(DATA_OUT_PATH, model_name, SAVE_FILE_NM))\n",
        "\n",
        "predictions = Model.predict((test_q1_data, test_q2_data), batch_size= BATCH_SIZE)\n",
        "predictions = predictions.squeeze(-1)\n"
      ],
      "metadata": {
        "id": "MFR5ut9NjC8D"
      },
      "execution_count": 96,
      "outputs": []
    },
    {
      "cell_type": "code",
      "source": [
        "predictions"
      ],
      "metadata": {
        "colab": {
          "base_uri": "https://localhost:8080/"
        },
        "id": "QuNf70zb05iU",
        "outputId": "e31e7c8b-b34e-4dc8-f44d-a8135a050c66"
      },
      "execution_count": 100,
      "outputs": [
        {
          "output_type": "execute_result",
          "data": {
            "text/plain": [
              "array([0.00097708, 0.205216  , 0.35054418, ..., 0.04559937, 0.00277918,\n",
              "       0.19234014], dtype=float32)"
            ]
          },
          "metadata": {},
          "execution_count": 100
        }
      ]
    },
    {
      "cell_type": "code",
      "source": [
        "print(test_q1_data.shape)\n",
        "print(test_q2_data.shape)"
      ],
      "metadata": {
        "colab": {
          "base_uri": "https://localhost:8080/"
        },
        "id": "9ZhvN00i1Fxk",
        "outputId": "dd79419a-686e-4c54-c9a4-94e60b17812b"
      },
      "execution_count": 102,
      "outputs": [
        {
          "output_type": "stream",
          "name": "stdout",
          "text": [
            "(2345796, 31)\n",
            "(2345796, 31)\n"
          ]
        }
      ]
    },
    {
      "cell_type": "code",
      "source": [
        "predictions.shape"
      ],
      "metadata": {
        "colab": {
          "base_uri": "https://localhost:8080/"
        },
        "id": "1x5016Fi1CQo",
        "outputId": "5fcc77f8-873b-44e6-8523-eb54ffe6003d"
      },
      "execution_count": 99,
      "outputs": [
        {
          "output_type": "execute_result",
          "data": {
            "text/plain": [
              "(2345796,)"
            ]
          },
          "metadata": {},
          "execution_count": 99
        }
      ]
    },
    {
      "cell_type": "code",
      "source": [
        "# MaLSTM : 순서가 있는 입력 데이터에 적합하다는 평을 받는 순환신경망 기반의 모델\n",
        "# 2016년 MIT 조나스 밀러가 쓴 siamese recurrent architectures for learning sentence similarity 논문에서 소개됨\n",
        "# MaLSTM이란 맨허튼 거리 + LSTM의 줄임말\n",
        "# 일반적인 문장의 유사도를 계산할때 코사인 유사도를 사용하는 대신 맨허튼 거리를 사용하는 모델\n",
        "class MaLSTM(tf.keras.Model):\n",
        "    \n",
        "    def __init__(self, **kargs):\n",
        "        super(MaLSTM, self).__init__(name=model_name)\n",
        "        self.embedding = layers.Embedding(input_dim=kargs['vocab_size'],\n",
        "                                     output_dim=kargs['embedding_dimension'])\n",
        "        self.lstm = layers.LSTM(units=kargs['lstm_dimension'])\n",
        "        \n",
        "    def call(self, x):\n",
        "        x1, x2 = x\n",
        "        x1 = self.embedding(x1)\n",
        "        x2 = self.embedding(x2)\n",
        "        x1 = self.lstm(x1)\n",
        "        x2 = self.lstm(x2)\n",
        "        x = tf.exp(-tf.reduce_sum(tf.abs(x1 - x2), axis=1))\n",
        "        \n",
        "        return x"
      ],
      "metadata": {
        "id": "SBQ5rC1kgNqw"
      },
      "execution_count": 111,
      "outputs": []
    },
    {
      "cell_type": "code",
      "source": [
        "model_name = 'malstm_similarity'\n",
        "BATCH_SIZE= 128\n",
        "NUM_EPOCHS = 5\n",
        "VALID_SPLIT = 0.1\n",
        "kargs ={'vocab_size' : data_configs['vocab_size'],\n",
        "        'embedding_dimension': 100,\n",
        "        'lstm_dimension': 150 }\n",
        "\n"
      ],
      "metadata": {
        "id": "tIpRHGOQ2WXB"
      },
      "execution_count": 112,
      "outputs": []
    },
    {
      "cell_type": "code",
      "source": [
        "model = Model(**kargs)\n",
        "\n",
        "model.compile(optimizer=tf.keras.optimizers.Adam(1e-3),\n",
        "              loss=tf.keras.losses.BinaryCrossentropy(),\n",
        "              metrics=[tf.keras.metrics.BinaryAccuracy(name='accuracy')])\n"
      ],
      "metadata": {
        "id": "1tRl97ng4lSp"
      },
      "execution_count": 115,
      "outputs": []
    },
    {
      "cell_type": "code",
      "source": [
        "# 모델학습 \n",
        "\n",
        "# Earlystop\n",
        "ealrystop_callback = EarlyStopping(monitor ='val_accuracy', min_delta=0.0001, patience =1)\n",
        "# min_delta : the threshold that triggers the termination\n",
        "# patience : no improvement epochs\n",
        "checkpoint_path = DATA_OUT_PATH + model_name + '/weight.h5'\n",
        "checkpoint_dir = os.path.dirname(checkpoint_path)\n",
        "\n",
        "if os.path.exists(checkpoint_dir):\n",
        "  print(\"{} --Folder already exists \\n\".format(checkpoint_dir))\n",
        "else:\n",
        "  os.makedirs(checkpoint_dir, exist_ok = True)\n",
        "  print(\"{}-- folder create complete \\n\".format(checkpoint_dir))\n",
        "\n",
        "cp_callback = ModelCheckpoint(checkpoint_path, monitor ='val_accuracy', verbose=1, save_best_only=True, save_weights_only = True)"
      ],
      "metadata": {
        "colab": {
          "base_uri": "https://localhost:8080/"
        },
        "id": "jryqsrnd5b70",
        "outputId": "39493770-4b28-48ed-f27e-76f29ec2c96b"
      },
      "execution_count": 116,
      "outputs": [
        {
          "output_type": "stream",
          "name": "stdout",
          "text": [
            "/content/malstm_similarity-- folder create complete \n",
            "\n"
          ]
        }
      ]
    },
    {
      "cell_type": "code",
      "source": [
        "history = model.fit((q1_data, q2_data), labels, batch_size =BATCH_SIZE, epochs= NUM_EPOCHS, \n",
        "                    validation_split= VALID_SPLIT, callbacks=[ealrystop_callback, cp_callback])\n",
        "# 4epoch 에서 가장 좋은 성능을 보이는것을 알 수 있다. "
      ],
      "metadata": {
        "colab": {
          "base_uri": "https://localhost:8080/"
        },
        "id": "De1xEU035hph",
        "outputId": "5ad51b94-0cfd-44b9-a57f-50600abd7faa"
      },
      "execution_count": 118,
      "outputs": [
        {
          "output_type": "stream",
          "name": "stdout",
          "text": [
            "Epoch 1/5\n",
            "2100/2100 [==============================] - ETA: 0s - loss: 0.5342 - accuracy: 0.7333\n",
            "Epoch 00001: val_accuracy improved from -inf to 0.65781, saving model to /content/malstm_similarity/weight.h5\n",
            "2100/2100 [==============================] - 29s 12ms/step - loss: 0.5342 - accuracy: 0.7333 - val_loss: 0.6687 - val_accuracy: 0.6578\n",
            "Epoch 2/5\n",
            "2099/2100 [============================>.] - ETA: 0s - loss: 0.4060 - accuracy: 0.8190\n",
            "Epoch 00002: val_accuracy improved from 0.65781 to 0.78050, saving model to /content/malstm_similarity/weight.h5\n",
            "2100/2100 [==============================] - 25s 12ms/step - loss: 0.4060 - accuracy: 0.8191 - val_loss: 0.5016 - val_accuracy: 0.7805\n",
            "Epoch 3/5\n",
            "2099/2100 [============================>.] - ETA: 0s - loss: 0.3561 - accuracy: 0.8470\n",
            "Epoch 00003: val_accuracy did not improve from 0.78050\n",
            "2100/2100 [==============================] - 24s 12ms/step - loss: 0.3561 - accuracy: 0.8470 - val_loss: 0.5243 - val_accuracy: 0.7728\n"
          ]
        }
      ]
    },
    {
      "cell_type": "code",
      "source": [
        "plot_graphs(history, 'loss')"
      ],
      "metadata": {
        "colab": {
          "base_uri": "https://localhost:8080/",
          "height": 279
        },
        "id": "VwDBQtcn5x4U",
        "outputId": "299457eb-ec9a-44af-ad23-d395bb1d59fe"
      },
      "execution_count": 119,
      "outputs": [
        {
          "output_type": "display_data",
          "data": {
            "image/png": "[encoded data removed]",
            "text/plain": [
              "<Figure size 432x288 with 1 Axes>"
            ]
          },
          "metadata": {
            "needs_background": "light"
          }
        }
      ]
    },
    {
      "cell_type": "code",
      "source": [
        "plot_graphs(history, 'accuracy')"
      ],
      "metadata": {
        "colab": {
          "base_uri": "https://localhost:8080/",
          "height": 279
        },
        "id": "CrgNsr604s4O",
        "outputId": "d0602806-1a7f-4fd3-bf34-4b57afc97836"
      },
      "execution_count": 120,
      "outputs": [
        {
          "output_type": "display_data",
          "data": {
            "image/png": "[encoded data removed]",
            "text/plain": [
              "<Figure size 432x288 with 1 Axes>"
            ]
          },
          "metadata": {
            "needs_background": "light"
          }
        }
      ]
    },
    {
      "cell_type": "code",
      "source": [
        ""
      ],
      "metadata": {
        "id": "NDTuRnzI567M"
      },
      "execution_count": null,
      "outputs": []
    }
  ]
}