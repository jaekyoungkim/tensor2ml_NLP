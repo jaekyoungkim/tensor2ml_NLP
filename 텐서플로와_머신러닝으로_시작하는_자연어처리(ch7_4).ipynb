{
  "nbformat": 4,
  "nbformat_minor": 0,
  "metadata": {
    "colab": {
      "name": "텐서플로와_머신러닝으로_시작하는_자연어처리(ch7-4).ipynb",
      "provenance": [],
      "collapsed_sections": [],
      "toc_visible": true,
      "machine_shape": "hm",
      "authorship_tag": "ABX9TyORtQB2Ws3hCf02HV1Ldiws",
      "include_colab_link": true
    },
    "kernelspec": {
      "name": "python3",
      "display_name": "Python 3"
    },
    "language_info": {
      "name": "python"
    },
    "accelerator": "GPU"
  },
  "cells": [
    {
      "cell_type": "markdown",
      "metadata": {
        "id": "view-in-github",
        "colab_type": "text"
      },
      "source": [
        "<a href=\"https://colab.research.google.com/github/jaekyoungkim/tensor2ml_NLP/blob/main/%ED%85%90%EC%84%9C%ED%94%8C%EB%A1%9C%EC%99%80_%EB%A8%B8%EC%8B%A0%EB%9F%AC%EB%8B%9D%EC%9C%BC%EB%A1%9C_%EC%8B%9C%EC%9E%91%ED%95%98%EB%8A%94_%EC%9E%90%EC%97%B0%EC%96%B4%EC%B2%98%EB%A6%AC(ch7_4).ipynb\" target=\"_parent\"><img src=\"https://colab.research.google.com/assets/colab-badge.svg\" alt=\"Open In Colab\"/></a>"
      ]
    },
    {
      "cell_type": "markdown",
      "source": [
        "# GPT"
      ],
      "metadata": {
        "id": "2GDhf4EsXvLL"
      }
    },
    {
      "cell_type": "code",
      "source": [
        "# OPEN AI 제안한 GPT(GENERATIVE PRE TRAINING)모델\n",
        "# 논문 제목 : Improving language understanding by generative pre training \n",
        "# 버트보다 앞서 사전학습 기법을 활용\n",
        "# gpt1 : 비지도 학습으로 사전 학습한 후 학습된 가중치를 활용해 우리가 풀고자 하는 문제에 미세 조정하는 방법론, transformer구조, 대부분의 특징이나 구조가 버트와 비슷\n",
        "        # transformer의 디코더 구조만 사용함, 순방향 마스크 어텐션을 사용. 학습방식 : 앞의 단어를 활용해 다음 단어를 예측하는 방식으로 사전학습\n",
        "        # 버트에서는 사전학습에서만 언어모델의 손실값을 사용하는데 gpt1 에서는 본 학습시에도 실제로 학습해야하는 문제의 손실값과 더불어 언어모델의 손실값또한 학습함\n",
        "        # 12개의 레이어, 117만개 가중치\n",
        "# gpt2 : 모델구조는 gpt1과 대부분 동일 기존의 디코더에서 각 레이어 직후 레지듀얼 커넥션과 함께 레이어 노말라이제이션이 각 부분 블록의 입력쪽으로 위치가 이동함\n",
        "        # 48개의 레이어, 1542만개 가중치로 gpt1의 10배"
      ],
      "metadata": {
        "id": "IiO2hzE5XwIa"
      },
      "execution_count": 1,
      "outputs": []
    },
    {
      "cell_type": "code",
      "source": [
        "# 기존의 사전학습 데이터는 한 영역의 텍스트를 사용 (ex. 뉴스기사, 위키피디아)\n",
        "# gpt2는 다양한 영역의 텍스트를 활용해 사전학습을 진행, 모델이 좀더다양한 문맥과 영역의 글을 이해할 수 있게됨\n"
      ],
      "metadata": {
        "id": "Fay9YXu3avCb"
      },
      "execution_count": null,
      "outputs": []
    },
    {
      "cell_type": "markdown",
      "source": [
        "# GPT2를 활용한 한국어 언어생성 모델 "
      ],
      "metadata": {
        "id": "wm3MsReQcTkG"
      }
    },
    {
      "cell_type": "code",
      "source": [
        "# 사전학습 모델 : 아주 큰 데이터셋으로 학습해서 가장 일반화된 언어 생성모델을 만드는것이 목적\n",
        "# 미세조정 모델 : 생성하고자 하는 목적을 가진 데이터셋으로 학습해서 특정한 결과를 얻을 수 있는 언어가 생성될 수 있게하는것이 목적\n"
      ],
      "metadata": {
        "id": "mqcJqMdOcWk0"
      },
      "execution_count": 1,
      "outputs": []
    },
    {
      "cell_type": "code",
      "source": [
        "!pip install gluonnlp"
      ],
      "metadata": {
        "colab": {
          "base_uri": "https://localhost:8080/"
        },
        "id": "4GkMdASzcpIA",
        "outputId": "62657876-859a-47bd-c16c-b616436f989b"
      },
      "execution_count": 1,
      "outputs": [
        {
          "output_type": "stream",
          "name": "stdout",
          "text": [
            "Collecting gluonnlp\n",
            "  Downloading gluonnlp-0.10.0.tar.gz (344 kB)\n",
            "\u001b[?25l\r\u001b[K     |█                               | 10 kB 22.5 MB/s eta 0:00:01\r\u001b[K     |██                              | 20 kB 29.4 MB/s eta 0:00:01\r\u001b[K     |██▉                             | 30 kB 20.1 MB/s eta 0:00:01\r\u001b[K     |███▉                            | 40 kB 17.0 MB/s eta 0:00:01\r\u001b[K     |████▊                           | 51 kB 9.5 MB/s eta 0:00:01\r\u001b[K     |█████▊                          | 61 kB 10.0 MB/s eta 0:00:01\r\u001b[K     |██████▋                         | 71 kB 9.4 MB/s eta 0:00:01\r\u001b[K     |███████▋                        | 81 kB 10.4 MB/s eta 0:00:01\r\u001b[K     |████████▋                       | 92 kB 10.9 MB/s eta 0:00:01\r\u001b[K     |█████████▌                      | 102 kB 9.0 MB/s eta 0:00:01\r\u001b[K     |██████████▌                     | 112 kB 9.0 MB/s eta 0:00:01\r\u001b[K     |███████████▍                    | 122 kB 9.0 MB/s eta 0:00:01\r\u001b[K     |████████████▍                   | 133 kB 9.0 MB/s eta 0:00:01\r\u001b[K     |█████████████▎                  | 143 kB 9.0 MB/s eta 0:00:01\r\u001b[K     |██████████████▎                 | 153 kB 9.0 MB/s eta 0:00:01\r\u001b[K     |███████████████▏                | 163 kB 9.0 MB/s eta 0:00:01\r\u001b[K     |████████████████▏               | 174 kB 9.0 MB/s eta 0:00:01\r\u001b[K     |█████████████████▏              | 184 kB 9.0 MB/s eta 0:00:01\r\u001b[K     |██████████████████              | 194 kB 9.0 MB/s eta 0:00:01\r\u001b[K     |███████████████████             | 204 kB 9.0 MB/s eta 0:00:01\r\u001b[K     |████████████████████            | 215 kB 9.0 MB/s eta 0:00:01\r\u001b[K     |█████████████████████           | 225 kB 9.0 MB/s eta 0:00:01\r\u001b[K     |█████████████████████▉          | 235 kB 9.0 MB/s eta 0:00:01\r\u001b[K     |██████████████████████▉         | 245 kB 9.0 MB/s eta 0:00:01\r\u001b[K     |███████████████████████▉        | 256 kB 9.0 MB/s eta 0:00:01\r\u001b[K     |████████████████████████▊       | 266 kB 9.0 MB/s eta 0:00:01\r\u001b[K     |█████████████████████████▊      | 276 kB 9.0 MB/s eta 0:00:01\r\u001b[K     |██████████████████████████▋     | 286 kB 9.0 MB/s eta 0:00:01\r\u001b[K     |███████████████████████████▋    | 296 kB 9.0 MB/s eta 0:00:01\r\u001b[K     |████████████████████████████▌   | 307 kB 9.0 MB/s eta 0:00:01\r\u001b[K     |█████████████████████████████▌  | 317 kB 9.0 MB/s eta 0:00:01\r\u001b[K     |██████████████████████████████▍ | 327 kB 9.0 MB/s eta 0:00:01\r\u001b[K     |███████████████████████████████▍| 337 kB 9.0 MB/s eta 0:00:01\r\u001b[K     |████████████████████████████████| 344 kB 9.0 MB/s \n",
            "\u001b[?25hRequirement already satisfied: numpy>=1.16.0 in /usr/local/lib/python3.7/dist-packages (from gluonnlp) (1.19.5)\n",
            "Requirement already satisfied: cython in /usr/local/lib/python3.7/dist-packages (from gluonnlp) (0.29.27)\n",
            "Requirement already satisfied: packaging in /usr/local/lib/python3.7/dist-packages (from gluonnlp) (21.3)\n",
            "Requirement already satisfied: pyparsing!=3.0.5,>=2.0.2 in /usr/local/lib/python3.7/dist-packages (from packaging->gluonnlp) (3.0.7)\n",
            "Building wheels for collected packages: gluonnlp\n",
            "  Building wheel for gluonnlp (setup.py) ... \u001b[?25l\u001b[?25hdone\n",
            "  Created wheel for gluonnlp: filename=gluonnlp-0.10.0-cp37-cp37m-linux_x86_64.whl size=595731 sha256=582fa0a450fbc256c50f99cec2502ba0a1723a55c5829fd0d4526060f387c2c8\n",
            "  Stored in directory: /root/.cache/pip/wheels/be/b4/06/7f3fdfaf707e6b5e98b79c041e023acffbe395d78a527eae00\n",
            "Successfully built gluonnlp\n",
            "Installing collected packages: gluonnlp\n",
            "Successfully installed gluonnlp-0.10.0\n"
          ]
        }
      ]
    },
    {
      "cell_type": "code",
      "source": [
        "!pip install transformers"
      ],
      "metadata": {
        "colab": {
          "base_uri": "https://localhost:8080/"
        },
        "id": "doLitdQDcsKD",
        "outputId": "2505ff25-378a-4a70-c74e-309579b5780a"
      },
      "execution_count": 2,
      "outputs": [
        {
          "output_type": "stream",
          "name": "stdout",
          "text": [
            "Collecting transformers\n",
            "  Downloading transformers-4.16.2-py3-none-any.whl (3.5 MB)\n",
            "\u001b[K     |████████████████████████████████| 3.5 MB 6.9 MB/s \n",
            "\u001b[?25hRequirement already satisfied: filelock in /usr/local/lib/python3.7/dist-packages (from transformers) (3.4.2)\n",
            "Collecting huggingface-hub<1.0,>=0.1.0\n",
            "  Downloading huggingface_hub-0.4.0-py3-none-any.whl (67 kB)\n",
            "\u001b[K     |████████████████████████████████| 67 kB 6.4 MB/s \n",
            "\u001b[?25hRequirement already satisfied: requests in /usr/local/lib/python3.7/dist-packages (from transformers) (2.23.0)\n",
            "Requirement already satisfied: tqdm>=4.27 in /usr/local/lib/python3.7/dist-packages (from transformers) (4.62.3)\n",
            "Requirement already satisfied: packaging>=20.0 in /usr/local/lib/python3.7/dist-packages (from transformers) (21.3)\n",
            "Collecting pyyaml>=5.1\n",
            "  Downloading PyYAML-6.0-cp37-cp37m-manylinux_2_5_x86_64.manylinux1_x86_64.manylinux_2_12_x86_64.manylinux2010_x86_64.whl (596 kB)\n",
            "\u001b[K     |████████████████████████████████| 596 kB 71.7 MB/s \n",
            "\u001b[?25hCollecting sacremoses\n",
            "  Downloading sacremoses-0.0.47-py2.py3-none-any.whl (895 kB)\n",
            "\u001b[K     |████████████████████████████████| 895 kB 72.2 MB/s \n",
            "\u001b[?25hCollecting tokenizers!=0.11.3,>=0.10.1\n",
            "  Downloading tokenizers-0.11.4-cp37-cp37m-manylinux_2_12_x86_64.manylinux2010_x86_64.whl (6.8 MB)\n",
            "\u001b[K     |████████████████████████████████| 6.8 MB 58.4 MB/s \n",
            "\u001b[?25hRequirement already satisfied: importlib-metadata in /usr/local/lib/python3.7/dist-packages (from transformers) (4.10.1)\n",
            "Requirement already satisfied: regex!=2019.12.17 in /usr/local/lib/python3.7/dist-packages (from transformers) (2019.12.20)\n",
            "Requirement already satisfied: numpy>=1.17 in /usr/local/lib/python3.7/dist-packages (from transformers) (1.19.5)\n",
            "Requirement already satisfied: typing-extensions>=3.7.4.3 in /usr/local/lib/python3.7/dist-packages (from huggingface-hub<1.0,>=0.1.0->transformers) (3.10.0.2)\n",
            "Requirement already satisfied: pyparsing!=3.0.5,>=2.0.2 in /usr/local/lib/python3.7/dist-packages (from packaging>=20.0->transformers) (3.0.7)\n",
            "Requirement already satisfied: zipp>=0.5 in /usr/local/lib/python3.7/dist-packages (from importlib-metadata->transformers) (3.7.0)\n",
            "Requirement already satisfied: certifi>=2017.4.17 in /usr/local/lib/python3.7/dist-packages (from requests->transformers) (2021.10.8)\n",
            "Requirement already satisfied: idna<3,>=2.5 in /usr/local/lib/python3.7/dist-packages (from requests->transformers) (2.10)\n",
            "Requirement already satisfied: chardet<4,>=3.0.2 in /usr/local/lib/python3.7/dist-packages (from requests->transformers) (3.0.4)\n",
            "Requirement already satisfied: urllib3!=1.25.0,!=1.25.1,<1.26,>=1.21.1 in /usr/local/lib/python3.7/dist-packages (from requests->transformers) (1.24.3)\n",
            "Requirement already satisfied: click in /usr/local/lib/python3.7/dist-packages (from sacremoses->transformers) (7.1.2)\n",
            "Requirement already satisfied: six in /usr/local/lib/python3.7/dist-packages (from sacremoses->transformers) (1.15.0)\n",
            "Requirement already satisfied: joblib in /usr/local/lib/python3.7/dist-packages (from sacremoses->transformers) (1.1.0)\n",
            "Installing collected packages: pyyaml, tokenizers, sacremoses, huggingface-hub, transformers\n",
            "  Attempting uninstall: pyyaml\n",
            "    Found existing installation: PyYAML 3.13\n",
            "    Uninstalling PyYAML-3.13:\n",
            "      Successfully uninstalled PyYAML-3.13\n",
            "Successfully installed huggingface-hub-0.4.0 pyyaml-6.0 sacremoses-0.0.47 tokenizers-0.11.4 transformers-4.16.2\n"
          ]
        }
      ]
    },
    {
      "cell_type": "code",
      "source": [
        "!pip install mxnet"
      ],
      "metadata": {
        "colab": {
          "base_uri": "https://localhost:8080/"
        },
        "id": "U7dTkBo1dF5Z",
        "outputId": "e8db2794-fa1e-461c-b23c-10573d5444ea"
      },
      "execution_count": 3,
      "outputs": [
        {
          "output_type": "stream",
          "name": "stdout",
          "text": [
            "Collecting mxnet\n",
            "  Downloading mxnet-1.9.0-py3-none-manylinux2014_x86_64.whl (47.3 MB)\n",
            "\u001b[K     |████████████████████████████████| 47.3 MB 1.1 MB/s \n",
            "\u001b[?25hCollecting graphviz<0.9.0,>=0.8.1\n",
            "  Downloading graphviz-0.8.4-py2.py3-none-any.whl (16 kB)\n",
            "Requirement already satisfied: numpy<2.0.0,>1.16.0 in /usr/local/lib/python3.7/dist-packages (from mxnet) (1.19.5)\n",
            "Requirement already satisfied: requests<3,>=2.20.0 in /usr/local/lib/python3.7/dist-packages (from mxnet) (2.23.0)\n",
            "Requirement already satisfied: chardet<4,>=3.0.2 in /usr/local/lib/python3.7/dist-packages (from requests<3,>=2.20.0->mxnet) (3.0.4)\n",
            "Requirement already satisfied: urllib3!=1.25.0,!=1.25.1,<1.26,>=1.21.1 in /usr/local/lib/python3.7/dist-packages (from requests<3,>=2.20.0->mxnet) (1.24.3)\n",
            "Requirement already satisfied: certifi>=2017.4.17 in /usr/local/lib/python3.7/dist-packages (from requests<3,>=2.20.0->mxnet) (2021.10.8)\n",
            "Requirement already satisfied: idna<3,>=2.5 in /usr/local/lib/python3.7/dist-packages (from requests<3,>=2.20.0->mxnet) (2.10)\n",
            "Installing collected packages: graphviz, mxnet\n",
            "  Attempting uninstall: graphviz\n",
            "    Found existing installation: graphviz 0.10.1\n",
            "    Uninstalling graphviz-0.10.1:\n",
            "      Successfully uninstalled graphviz-0.10.1\n",
            "Successfully installed graphviz-0.8.4 mxnet-1.9.0\n"
          ]
        }
      ]
    },
    {
      "cell_type": "code",
      "source": [
        "!pip install wget"
      ],
      "metadata": {
        "colab": {
          "base_uri": "https://localhost:8080/"
        },
        "id": "CLsDdtMQg4HC",
        "outputId": "b81ec1e4-2403-40d6-cc74-0541bca08c0e"
      },
      "execution_count": 4,
      "outputs": [
        {
          "output_type": "stream",
          "name": "stdout",
          "text": [
            "Collecting wget\n",
            "  Downloading wget-3.2.zip (10 kB)\n",
            "Building wheels for collected packages: wget\n",
            "  Building wheel for wget (setup.py) ... \u001b[?25l\u001b[?25hdone\n",
            "  Created wheel for wget: filename=wget-3.2-py3-none-any.whl size=9675 sha256=67bc2b86f75c6069d3cea7301b0db59d320ff837f059c6b8c64d32b602b21424\n",
            "  Stored in directory: /root/.cache/pip/wheels/a1/b6/7c/0e63e34eb06634181c63adacca38b79ff8f35c37e3c13e3c02\n",
            "Successfully built wget\n",
            "Installing collected packages: wget\n",
            "Successfully installed wget-3.2\n"
          ]
        }
      ]
    },
    {
      "cell_type": "code",
      "source": [
        "!pip install sentencepiece"
      ],
      "metadata": {
        "colab": {
          "base_uri": "https://localhost:8080/"
        },
        "id": "WjhtX6FAo6Db",
        "outputId": "cb21c181-42a2-4d71-fe75-a35bfd6b2ab5"
      },
      "execution_count": 5,
      "outputs": [
        {
          "output_type": "stream",
          "name": "stdout",
          "text": [
            "Collecting sentencepiece\n",
            "  Downloading sentencepiece-0.1.96-cp37-cp37m-manylinux_2_17_x86_64.manylinux2014_x86_64.whl (1.2 MB)\n",
            "\u001b[?25l\r\u001b[K     |▎                               | 10 kB 28.5 MB/s eta 0:00:01\r\u001b[K     |▌                               | 20 kB 28.5 MB/s eta 0:00:01\r\u001b[K     |▉                               | 30 kB 18.8 MB/s eta 0:00:01\r\u001b[K     |█                               | 40 kB 16.1 MB/s eta 0:00:01\r\u001b[K     |█▍                              | 51 kB 8.3 MB/s eta 0:00:01\r\u001b[K     |█▋                              | 61 kB 8.4 MB/s eta 0:00:01\r\u001b[K     |██                              | 71 kB 9.0 MB/s eta 0:00:01\r\u001b[K     |██▏                             | 81 kB 10.0 MB/s eta 0:00:01\r\u001b[K     |██▍                             | 92 kB 10.0 MB/s eta 0:00:01\r\u001b[K     |██▊                             | 102 kB 8.0 MB/s eta 0:00:01\r\u001b[K     |███                             | 112 kB 8.0 MB/s eta 0:00:01\r\u001b[K     |███▎                            | 122 kB 8.0 MB/s eta 0:00:01\r\u001b[K     |███▌                            | 133 kB 8.0 MB/s eta 0:00:01\r\u001b[K     |███▉                            | 143 kB 8.0 MB/s eta 0:00:01\r\u001b[K     |████                            | 153 kB 8.0 MB/s eta 0:00:01\r\u001b[K     |████▎                           | 163 kB 8.0 MB/s eta 0:00:01\r\u001b[K     |████▋                           | 174 kB 8.0 MB/s eta 0:00:01\r\u001b[K     |████▉                           | 184 kB 8.0 MB/s eta 0:00:01\r\u001b[K     |█████▏                          | 194 kB 8.0 MB/s eta 0:00:01\r\u001b[K     |█████▍                          | 204 kB 8.0 MB/s eta 0:00:01\r\u001b[K     |█████▊                          | 215 kB 8.0 MB/s eta 0:00:01\r\u001b[K     |██████                          | 225 kB 8.0 MB/s eta 0:00:01\r\u001b[K     |██████▏                         | 235 kB 8.0 MB/s eta 0:00:01\r\u001b[K     |██████▌                         | 245 kB 8.0 MB/s eta 0:00:01\r\u001b[K     |██████▊                         | 256 kB 8.0 MB/s eta 0:00:01\r\u001b[K     |███████                         | 266 kB 8.0 MB/s eta 0:00:01\r\u001b[K     |███████▎                        | 276 kB 8.0 MB/s eta 0:00:01\r\u001b[K     |███████▋                        | 286 kB 8.0 MB/s eta 0:00:01\r\u001b[K     |███████▉                        | 296 kB 8.0 MB/s eta 0:00:01\r\u001b[K     |████████                        | 307 kB 8.0 MB/s eta 0:00:01\r\u001b[K     |████████▍                       | 317 kB 8.0 MB/s eta 0:00:01\r\u001b[K     |████████▋                       | 327 kB 8.0 MB/s eta 0:00:01\r\u001b[K     |█████████                       | 337 kB 8.0 MB/s eta 0:00:01\r\u001b[K     |█████████▏                      | 348 kB 8.0 MB/s eta 0:00:01\r\u001b[K     |█████████▌                      | 358 kB 8.0 MB/s eta 0:00:01\r\u001b[K     |█████████▊                      | 368 kB 8.0 MB/s eta 0:00:01\r\u001b[K     |██████████                      | 378 kB 8.0 MB/s eta 0:00:01\r\u001b[K     |██████████▎                     | 389 kB 8.0 MB/s eta 0:00:01\r\u001b[K     |██████████▌                     | 399 kB 8.0 MB/s eta 0:00:01\r\u001b[K     |██████████▉                     | 409 kB 8.0 MB/s eta 0:00:01\r\u001b[K     |███████████                     | 419 kB 8.0 MB/s eta 0:00:01\r\u001b[K     |███████████▍                    | 430 kB 8.0 MB/s eta 0:00:01\r\u001b[K     |███████████▋                    | 440 kB 8.0 MB/s eta 0:00:01\r\u001b[K     |███████████▉                    | 450 kB 8.0 MB/s eta 0:00:01\r\u001b[K     |████████████▏                   | 460 kB 8.0 MB/s eta 0:00:01\r\u001b[K     |████████████▍                   | 471 kB 8.0 MB/s eta 0:00:01\r\u001b[K     |████████████▊                   | 481 kB 8.0 MB/s eta 0:00:01\r\u001b[K     |█████████████                   | 491 kB 8.0 MB/s eta 0:00:01\r\u001b[K     |█████████████▎                  | 501 kB 8.0 MB/s eta 0:00:01\r\u001b[K     |█████████████▌                  | 512 kB 8.0 MB/s eta 0:00:01\r\u001b[K     |█████████████▊                  | 522 kB 8.0 MB/s eta 0:00:01\r\u001b[K     |██████████████                  | 532 kB 8.0 MB/s eta 0:00:01\r\u001b[K     |██████████████▎                 | 542 kB 8.0 MB/s eta 0:00:01\r\u001b[K     |██████████████▋                 | 552 kB 8.0 MB/s eta 0:00:01\r\u001b[K     |██████████████▉                 | 563 kB 8.0 MB/s eta 0:00:01\r\u001b[K     |███████████████▏                | 573 kB 8.0 MB/s eta 0:00:01\r\u001b[K     |███████████████▍                | 583 kB 8.0 MB/s eta 0:00:01\r\u001b[K     |███████████████▋                | 593 kB 8.0 MB/s eta 0:00:01\r\u001b[K     |████████████████                | 604 kB 8.0 MB/s eta 0:00:01\r\u001b[K     |████████████████▏               | 614 kB 8.0 MB/s eta 0:00:01\r\u001b[K     |████████████████▌               | 624 kB 8.0 MB/s eta 0:00:01\r\u001b[K     |████████████████▊               | 634 kB 8.0 MB/s eta 0:00:01\r\u001b[K     |█████████████████               | 645 kB 8.0 MB/s eta 0:00:01\r\u001b[K     |█████████████████▎              | 655 kB 8.0 MB/s eta 0:00:01\r\u001b[K     |█████████████████▌              | 665 kB 8.0 MB/s eta 0:00:01\r\u001b[K     |█████████████████▉              | 675 kB 8.0 MB/s eta 0:00:01\r\u001b[K     |██████████████████              | 686 kB 8.0 MB/s eta 0:00:01\r\u001b[K     |██████████████████▍             | 696 kB 8.0 MB/s eta 0:00:01\r\u001b[K     |██████████████████▋             | 706 kB 8.0 MB/s eta 0:00:01\r\u001b[K     |███████████████████             | 716 kB 8.0 MB/s eta 0:00:01\r\u001b[K     |███████████████████▏            | 727 kB 8.0 MB/s eta 0:00:01\r\u001b[K     |███████████████████▍            | 737 kB 8.0 MB/s eta 0:00:01\r\u001b[K     |███████████████████▊            | 747 kB 8.0 MB/s eta 0:00:01\r\u001b[K     |████████████████████            | 757 kB 8.0 MB/s eta 0:00:01\r\u001b[K     |████████████████████▎           | 768 kB 8.0 MB/s eta 0:00:01\r\u001b[K     |████████████████████▌           | 778 kB 8.0 MB/s eta 0:00:01\r\u001b[K     |████████████████████▉           | 788 kB 8.0 MB/s eta 0:00:01\r\u001b[K     |█████████████████████           | 798 kB 8.0 MB/s eta 0:00:01\r\u001b[K     |█████████████████████▎          | 808 kB 8.0 MB/s eta 0:00:01\r\u001b[K     |█████████████████████▋          | 819 kB 8.0 MB/s eta 0:00:01\r\u001b[K     |█████████████████████▉          | 829 kB 8.0 MB/s eta 0:00:01\r\u001b[K     |██████████████████████▏         | 839 kB 8.0 MB/s eta 0:00:01\r\u001b[K     |██████████████████████▍         | 849 kB 8.0 MB/s eta 0:00:01\r\u001b[K     |██████████████████████▊         | 860 kB 8.0 MB/s eta 0:00:01\r\u001b[K     |███████████████████████         | 870 kB 8.0 MB/s eta 0:00:01\r\u001b[K     |███████████████████████▏        | 880 kB 8.0 MB/s eta 0:00:01\r\u001b[K     |███████████████████████▌        | 890 kB 8.0 MB/s eta 0:00:01\r\u001b[K     |███████████████████████▊        | 901 kB 8.0 MB/s eta 0:00:01\r\u001b[K     |████████████████████████        | 911 kB 8.0 MB/s eta 0:00:01\r\u001b[K     |████████████████████████▎       | 921 kB 8.0 MB/s eta 0:00:01\r\u001b[K     |████████████████████████▋       | 931 kB 8.0 MB/s eta 0:00:01\r\u001b[K     |████████████████████████▉       | 942 kB 8.0 MB/s eta 0:00:01\r\u001b[K     |█████████████████████████       | 952 kB 8.0 MB/s eta 0:00:01\r\u001b[K     |█████████████████████████▍      | 962 kB 8.0 MB/s eta 0:00:01\r\u001b[K     |█████████████████████████▋      | 972 kB 8.0 MB/s eta 0:00:01\r\u001b[K     |██████████████████████████      | 983 kB 8.0 MB/s eta 0:00:01\r\u001b[K     |██████████████████████████▏     | 993 kB 8.0 MB/s eta 0:00:01\r\u001b[K     |██████████████████████████▌     | 1.0 MB 8.0 MB/s eta 0:00:01\r\u001b[K     |██████████████████████████▊     | 1.0 MB 8.0 MB/s eta 0:00:01\r\u001b[K     |███████████████████████████     | 1.0 MB 8.0 MB/s eta 0:00:01\r\u001b[K     |███████████████████████████▎    | 1.0 MB 8.0 MB/s eta 0:00:01\r\u001b[K     |███████████████████████████▌    | 1.0 MB 8.0 MB/s eta 0:00:01\r\u001b[K     |███████████████████████████▉    | 1.1 MB 8.0 MB/s eta 0:00:01\r\u001b[K     |████████████████████████████    | 1.1 MB 8.0 MB/s eta 0:00:01\r\u001b[K     |████████████████████████████▍   | 1.1 MB 8.0 MB/s eta 0:00:01\r\u001b[K     |████████████████████████████▋   | 1.1 MB 8.0 MB/s eta 0:00:01\r\u001b[K     |████████████████████████████▉   | 1.1 MB 8.0 MB/s eta 0:00:01\r\u001b[K     |█████████████████████████████▏  | 1.1 MB 8.0 MB/s eta 0:00:01\r\u001b[K     |█████████████████████████████▍  | 1.1 MB 8.0 MB/s eta 0:00:01\r\u001b[K     |█████████████████████████████▊  | 1.1 MB 8.0 MB/s eta 0:00:01\r\u001b[K     |██████████████████████████████  | 1.1 MB 8.0 MB/s eta 0:00:01\r\u001b[K     |██████████████████████████████▎ | 1.1 MB 8.0 MB/s eta 0:00:01\r\u001b[K     |██████████████████████████████▌ | 1.2 MB 8.0 MB/s eta 0:00:01\r\u001b[K     |██████████████████████████████▊ | 1.2 MB 8.0 MB/s eta 0:00:01\r\u001b[K     |███████████████████████████████ | 1.2 MB 8.0 MB/s eta 0:00:01\r\u001b[K     |███████████████████████████████▎| 1.2 MB 8.0 MB/s eta 0:00:01\r\u001b[K     |███████████████████████████████▋| 1.2 MB 8.0 MB/s eta 0:00:01\r\u001b[K     |███████████████████████████████▉| 1.2 MB 8.0 MB/s eta 0:00:01\r\u001b[K     |████████████████████████████████| 1.2 MB 8.0 MB/s \n",
            "\u001b[?25hInstalling collected packages: sentencepiece\n",
            "Successfully installed sentencepiece-0.1.96\n"
          ]
        }
      ]
    },
    {
      "cell_type": "code",
      "source": [
        "import mxnet\n",
        "import pandas as pd\n",
        "import os\n",
        "from tensorflow.keras.callbacks import EarlyStopping, ModelCheckpoint\n",
        "import numpy as np\n",
        "import gluonnlp as nlp\n",
        "from gluonnlp.data import SentencepieceTokenizer  \n",
        "from transformers import TFGPT2LMHeadModel\n",
        "from transformers import TFGPT2Model\n",
        "import wget\n",
        "import zipfile\n",
        "import tensorflow as tf\n",
        "from nltk.tokenize import sent_tokenize\n",
        "import matplotlib.pyplot as plt\n",
        "from tensorflow.keras.preprocessing.sequence import pad_sequences\n",
        "# 버트의 미세조정 : transformers에서 모델 클래스와 토크나이저 클래스의 두가지를 모두 불러옴\n",
        "# gpts2의 미세조정 : Transformers에 있는 토크나이저를 사용하지않고, gluonnlp의 모듈을 사용\n",
        "# 이유는 해당 모델의 경우 허깅페이스에서 학습한 모델이 아니라 skt에서 학습한 모델을 사용한 모델을 사용하기 때문에 skt가 gpt2모델을 학습할때 사용했던 토크나이저인 gluonnlp의 sentencepiecetokenizer를 사용\n"
      ],
      "metadata": {
        "id": "7Sx-sU_6ctlP"
      },
      "execution_count": 73,
      "outputs": []
    },
    {
      "cell_type": "code",
      "source": [
        "class GPT2Model(tf.keras.Model):\n",
        "  def __init__(self, dir_path):\n",
        "    super(GPT2Model, self).__init__()\n",
        "    self.gpt2 = TFGPT2LMHeadModel.from_pretrained(dir_path)  # last_hidden_states, past, hidden_states, attentions 순서로 나타냄\n",
        "  \n",
        "  def call(self, inputs):\n",
        "    return self.gpt2(inputs)[0]  # 생성모델을 활용하기 위해서는 vocabulary에 대한 logit값만 활용하도록 첫번째 값인 last_hidden_states를 출력함 \n"
      ],
      "metadata": {
        "id": "-TyRNpEOe7kQ"
      },
      "execution_count": 7,
      "outputs": []
    },
    {
      "cell_type": "code",
      "source": [
        "# 학습된 파라미터를 내려받아 준비 다음과 같은 경로로 파라미터를 이동시킨후 모델을 선언\n",
        "# 경로에는 반드시 config.json과 tf_model.h5파일이 있어야함\n",
        "wget.download('https://github.com/NLP-kr/tensorflow-ml-nlp-tf2/releases/download/v1.0/gpt_ckpt.zip')\n",
        "with zipfile.ZipFile('gpt_ckpt.zip') as z:\n",
        "  z.extractall()"
      ],
      "metadata": {
        "id": "NPVGNG4TfKFP"
      },
      "execution_count": 8,
      "outputs": []
    },
    {
      "cell_type": "code",
      "source": [
        "BASE_MODEL_PATH = '/content/gpt_ckpt' # 해당 폴더안에 3개파일이있음, config.json, tf_model.h5, gpt2_kor_tokenizer.spiece\n",
        "\n",
        "gpt_model = GPT2Model(BASE_MODEL_PATH)"
      ],
      "metadata": {
        "colab": {
          "base_uri": "https://localhost:8080/"
        },
        "id": "M9DUOwxMihjm",
        "outputId": "49ecf81b-8678-4007-ee11-0b5d2d60c74c"
      },
      "execution_count": 9,
      "outputs": [
        {
          "output_type": "stream",
          "name": "stderr",
          "text": [
            "All model checkpoint layers were used when initializing TFGPT2LMHeadModel.\n",
            "\n",
            "All the layers of TFGPT2LMHeadModel were initialized from the model checkpoint at /content/gpt_ckpt.\n",
            "If your task is similar to the task the model of the checkpoint was trained on, you can already use TFGPT2LMHeadModel for predictions without further training.\n"
          ]
        }
      ]
    },
    {
      "cell_type": "code",
      "source": [
        "gpt_model"
      ],
      "metadata": {
        "colab": {
          "base_uri": "https://localhost:8080/"
        },
        "id": "5TkC4iTOcxCC",
        "outputId": "2468cc16-93e3-4e80-8c24-6cf428691199"
      },
      "execution_count": 10,
      "outputs": [
        {
          "output_type": "execute_result",
          "data": {
            "text/plain": [
              "<__main__.GPT2Model at 0x7ff4ceb7dfd0>"
            ]
          },
          "metadata": {},
          "execution_count": 10
        }
      ]
    },
    {
      "cell_type": "code",
      "source": [
        "BATCH_SIZE = 16\n",
        "NUM_EPOCHS = 10\n",
        "MAX_LEN = 30\n",
        "\n",
        "\n",
        "# 사전 학습 모델 문장 생성\n",
        "# 사전학습된 gpt2는 언어모델을 통해 학습, gpt2는 언어모델이며 텍스트 생성이 가능함\n",
        "# 텍스트를 모델에 입력할 수 있도록 토크나이저를 생성\n",
        "# 여기서 사용하는 토크나이저는 앞서 버트에서 활용한 토크나이저 방식과는 다름에 유의\n",
        "TOKENIZER_PATH = '/content/gpt_ckpt/gpt2_kor_tokenizer.spiece'\n",
        "# 단어사전과 토크나이저를 저으이함\n",
        "tokenizer = SentencepieceTokenizer(TOKENIZER_PATH)  \n"
      ],
      "metadata": {
        "id": "GI530qTijA1N"
      },
      "execution_count": 11,
      "outputs": []
    },
    {
      "cell_type": "code",
      "source": [
        "vocab = nlp.vocab.BERTVocab.from_sentencepiece(TOKENIZER_PATH,\n",
        "                                               mask_token=None,\n",
        "                                               sep_token=None,\n",
        "                                               cls_token=None,\n",
        "                                               unknown_token='<unk>',\n",
        "                                               padding_token='<pad>',\n",
        "                                               bos_token='<s>',\n",
        "                                               eos_token='</s>')"
      ],
      "metadata": {
        "id": "iQ1ytZA2kR47"
      },
      "execution_count": 12,
      "outputs": []
    },
    {
      "cell_type": "code",
      "source": [
        "vocab"
      ],
      "metadata": {
        "colab": {
          "base_uri": "https://localhost:8080/"
        },
        "id": "zGx9IhIWcPFi",
        "outputId": "9295a032-e2cd-412a-91fe-25b23aa92973"
      },
      "execution_count": 13,
      "outputs": [
        {
          "output_type": "execute_result",
          "data": {
            "text/plain": [
              "Vocab(size=50000, unk=\"<unk>\", reserved=\"['<pad>', '<s>', '</s>']\")"
            ]
          },
          "metadata": {},
          "execution_count": 13
        }
      ]
    },
    {
      "cell_type": "code",
      "source": [
        "tokenizer"
      ],
      "metadata": {
        "colab": {
          "base_uri": "https://localhost:8080/"
        },
        "id": "2p1T8JTvo_Ji",
        "outputId": "7f7ef370-1bba-4cc2-904b-04139f8cde52"
      },
      "execution_count": 14,
      "outputs": [
        {
          "output_type": "execute_result",
          "data": {
            "text/plain": [
              "<gluonnlp.data.transforms.SentencepieceTokenizer at 0x7ff429e5a310>"
            ]
          },
          "metadata": {},
          "execution_count": 14
        }
      ]
    },
    {
      "cell_type": "code",
      "source": [
        "def tf_top_k_top_p_filtering(logits, top_k=0, top_p=0.0, filter_value=-99999):\n",
        "    _logits = logits.numpy()\n",
        "    top_k = min(top_k, logits.shape[-1])  \n",
        "    if top_k > 0:\n",
        "        indices_to_remove = logits < tf.math.top_k(logits, top_k)[0][..., -1, None]\n",
        "        _logits[indices_to_remove] = filter_value\n",
        "\n",
        "    if top_p > 0.0:\n",
        "        sorted_logits = tf.sort(logits, direction='DESCENDING')\n",
        "        sorted_indices = tf.argsort(logits, direction='DESCENDING')\n",
        "        cumulative_probs = tf.math.cumsum(tf.nn.softmax(sorted_logits, axis=-1), axis=-1)\n",
        "\n",
        "        sorted_indices_to_remove = cumulative_probs > top_p\n",
        "        sorted_indices_to_remove = tf.concat([[False], sorted_indices_to_remove[..., :-1]], axis=0)\n",
        "        indices_to_remove = sorted_indices[sorted_indices_to_remove].numpy().tolist()\n",
        "        \n",
        "        _logits[indices_to_remove] = filter_value\n",
        "    return tf.constant([_logits])\n"
      ],
      "metadata": {
        "id": "pmJnhwHcFw7j"
      },
      "execution_count": 15,
      "outputs": []
    },
    {
      "cell_type": "code",
      "source": [
        "# 생성한 토크나이저 객체와 사전학습된 gpt2모델을 활용해 문장생성결과를 확인\n",
        "# 단어 하나가 주어지면 문장을 만들어주는 방식으로 구성\n",
        "\n",
        "\n",
        "def generate_sent(seed_word, model, max_step=100, greedy=False, top_k=0. , top_p=0.):\n",
        "  sent = seed_word # 문장생성의 시작이 될 단어\n",
        "  toked = tokenizer(sent) # 토크나이즈\n",
        "\n",
        "  for _ in range(max_step): # 문장생성할 수 있는 반복문 \n",
        "  # 토크나이즈된 단어를 인덱스로 변환하고 모델에 입력값으로 넣어 출력값을 받는다. \n",
        "    input_ids = tf.constant([vocab[vocab.bos_token],] + vocab[toked])[None, :]\n",
        "    outputs = model(input_ids)[:,-1,:] # 문장 출력값중 마지막 단어만 선택\n",
        "\n",
        "    # 출력을 마쳤다면 출력한 마지막토큰에서 가장 확률이 높은 단어를 선택하거나 확률이 높은 단어중 선택하게끔 해야함\n",
        "\n",
        "    if greedy: # greedy = true : 문장출력결과에 대해 가장 확률이 높은 단어만 선택, argmax같은 역할\n",
        "    # false인 경우, 출력한 단어 가운데 확률 또는 순위가 높은 단어만 선택해 무작위로 생성\n",
        "      gen = vocab.to_tokens(tf.argmax(outputs, axis=-1).numpy().tolist()[0])\n",
        "    else:      # false인 경우, 출력한 단어 가운데 확률 또는 순위가 높은 단어만 선택해 무작위로 생성\n",
        "      output_logit = tf_top_k_top_p_filtering(outputs[0], top_k=top_k, top_p=top_p) # topk topp가 모두 0이면 필터링 하지 않음\n",
        "      gen = vocab.to_tokens(tf.random.categorical(output_logit, 1).numpy().tolist()[0])[0]\n",
        "    \n",
        "    if gen == '</s>' : # 문장의 끝을 알리는 토큰인지 확인하기, \n",
        "      break # 생성 멈추기\n",
        "    sent += gen.replace('▁', ' ') # 앞에서 만들어진 토큰들에 추가로 붙임\n",
        "    toked = tokenizer(sent)\n",
        "\n",
        "  return sent"
      ],
      "metadata": {
        "id": "2krSIonIpBT1"
      },
      "execution_count": 16,
      "outputs": []
    },
    {
      "cell_type": "code",
      "source": [
        "print(generate_sent('이때', gpt_model, greedy=True))"
      ],
      "metadata": {
        "colab": {
          "base_uri": "https://localhost:8080/"
        },
        "id": "UtjOrlH0dw8J",
        "outputId": "da63308f-9267-4369-ce42-90b2ff5939ba"
      },
      "execution_count": 17,
      "outputs": [
        {
          "output_type": "stream",
          "name": "stdout",
          "text": [
            "이때부터                                                                                                   \n"
          ]
        }
      ]
    },
    {
      "cell_type": "code",
      "source": [
        "print(generate_sent('이때', gpt_model, greedy=True))"
      ],
      "metadata": {
        "colab": {
          "base_uri": "https://localhost:8080/"
        },
        "id": "iB4MBXavk3P2",
        "outputId": "6b498500-367d-4df6-957f-691bdcbacb04"
      },
      "execution_count": 17,
      "outputs": [
        {
          "output_type": "stream",
          "name": "stdout",
          "text": [
            "이때부터                                                                                                   \n"
          ]
        }
      ]
    },
    {
      "cell_type": "code",
      "source": [
        "print(generate_sent('이때', gpt_model, top_k=0, top_p= 0.95))"
      ],
      "metadata": {
        "colab": {
          "base_uri": "https://localhost:8080/"
        },
        "id": "HOnPtqb8dxRw",
        "outputId": "5d33dc61-6309-444e-92aa-034f489c6bf6"
      },
      "execution_count": 18,
      "outputs": [
        {
          "output_type": "stream",
          "name": "stdout",
          "text": [
            "이때 말씀 전해 주세요\n"
          ]
        }
      ]
    },
    {
      "cell_type": "code",
      "source": [
        "print(generate_sent('이때', gpt_model, top_k=0, top_p= 0.95))"
      ],
      "metadata": {
        "colab": {
          "base_uri": "https://localhost:8080/"
        },
        "id": "vl85-VU1FSN4",
        "outputId": "06d10cd6-cb4a-4517-9244-32ef9022585c"
      },
      "execution_count": 18,
      "outputs": [
        {
          "output_type": "stream",
          "name": "stdout",
          "text": [
            "이때도 내가 그런 말을 하다가 이제 끝났다.\n"
          ]
        }
      ]
    },
    {
      "cell_type": "code",
      "source": [
        "print(generate_sent('이때', gpt_model, top_k=0, top_p= 0.95))"
      ],
      "metadata": {
        "colab": {
          "base_uri": "https://localhost:8080/"
        },
        "id": "HdP3_tbteTjO",
        "outputId": "e2b6f2b6-1eae-4df5-e7af-9f7727c5728e"
      },
      "execution_count": 21,
      "outputs": [
        {
          "output_type": "stream",
          "name": "stdout",
          "text": [
            "이때 시장에서 나온 산 때문이었다.\n"
          ]
        }
      ]
    },
    {
      "cell_type": "code",
      "source": [
        "print(generate_sent('이때', gpt_model, top_k=0, top_p= 0.95))"
      ],
      "metadata": {
        "colab": {
          "base_uri": "https://localhost:8080/"
        },
        "id": "w2K4arCUeX_e",
        "outputId": "7d5e2fc0-cb0b-4329-f773-1dea8d9a7a6d"
      },
      "execution_count": 23,
      "outputs": [
        {
          "output_type": "stream",
          "name": "stdout",
          "text": [
            "이때까지만 추석을 맞아 집이라도\n"
          ]
        }
      ]
    },
    {
      "cell_type": "code",
      "source": [
        "print(generate_sent('이때', gpt_model, top_k=0, top_p= 0.95))"
      ],
      "metadata": {
        "colab": {
          "base_uri": "https://localhost:8080/"
        },
        "id": "vDhtmNezecui",
        "outputId": "1ff1b5fc-17cc-45ba-c0f2-defbb4cf8c14"
      },
      "execution_count": 24,
      "outputs": [
        {
          "output_type": "stream",
          "name": "stdout",
          "text": [
            "이때 방금 들어온 1단계인데요.\n"
          ]
        }
      ]
    },
    {
      "cell_type": "code",
      "source": [
        "print(generate_sent('이때', gpt_model, top_k=0, top_p= 0.95))"
      ],
      "metadata": {
        "colab": {
          "base_uri": "https://localhost:8080/"
        },
        "id": "CH0wRJqzk49U",
        "outputId": "58014a89-2954-4cfb-cbcb-31d1f010a524"
      },
      "execution_count": 18,
      "outputs": [
        {
          "output_type": "stream",
          "name": "stdout",
          "text": [
            "이때만 해도 이경규 씨를 죽이는 거죠.\n"
          ]
        }
      ]
    },
    {
      "cell_type": "code",
      "source": [
        "# 1. top k sampling : 순위안에 해당하는 어휘만 샘플링 해서 어휘를 예측, topk값이 높을수록 무작위 샘플방식에 가까워지고 낮을수록 탐욕방식\n",
        "# 각 단어의 확률값을 고려하지 않고, 순위만 고려하는 방식\n",
        "# 2. top p sampling : 값만 조절하는 방식, 뉴클러스 샘플링이라 함, 확률값의 경계를 top p로 정하면 확률이 가장 높은 순으로 후보단어들을 더했을때 top p가 되는 단어집합에 대해 샘플링\n",
        "# MLE(최대우도 추정)을 활용해 단어 예측분포에서 가장 확률이 높은 단어를 선택하는 탐욕검색으로 새로운 단어를 예측"
      ],
      "metadata": {
        "id": "rUvr5W_h5tH0"
      },
      "execution_count": 70,
      "outputs": []
    },
    {
      "cell_type": "code",
      "source": [
        "!git clone https://github.com/NLP-kr/tensorflow-ml-nlp-tf2.git"
      ],
      "metadata": {
        "colab": {
          "base_uri": "https://localhost:8080/"
        },
        "id": "BtcR3s0VKnlS",
        "outputId": "eae068f3-1eaf-4285-b564-f821c72e6cdf"
      },
      "execution_count": 19,
      "outputs": [
        {
          "output_type": "stream",
          "name": "stdout",
          "text": [
            "Cloning into 'tensorflow-ml-nlp-tf2'...\n",
            "remote: Enumerating objects: 1725, done.\u001b[K\n",
            "remote: Counting objects: 100% (94/94), done.\u001b[K\n",
            "remote: Compressing objects: 100% (87/87), done.\u001b[K\n",
            "remote: Total 1725 (delta 48), reused 17 (delta 7), pack-reused 1631\u001b[K\n",
            "Receiving objects: 100% (1725/1725), 201.21 MiB | 28.76 MiB/s, done.\n",
            "Resolving deltas: 100% (1038/1038), done.\n",
            "Checking out files: 100% (88/88), done.\n"
          ]
        }
      ]
    },
    {
      "cell_type": "code",
      "source": [
        "# 소셜 텍스트 데이터 전처리하기 (운수좋은날)\n",
        "# 미세조정할 학습데이터를 구성하기\n",
        "DATA_IN_PATH = '/content/tensorflow-ml-nlp-tf2/7.PRETRAIN_METHOD/data_in/KOR/'\n",
        "TRAIN_DATA_FILE = 'finetune_data.txt'\n",
        "\n",
        "sents = [s[:-1] for s in open(DATA_IN_PATH + TRAIN_DATA_FILE, encoding='utf-8').readlines()]\n",
        "# 학습데이터는 소설 텍스트를 먼저 문장별로 분리해둔 텍스트 데이터이다. \n",
        "\n"
      ],
      "metadata": {
        "id": "Pt5yGGejGF0w"
      },
      "execution_count": 22,
      "outputs": []
    },
    {
      "cell_type": "code",
      "source": [
        "sents"
      ],
      "metadata": {
        "colab": {
          "base_uri": "https://localhost:8080/"
        },
        "id": "FgPXLdHJLsP3",
        "outputId": "5941f1d3-1799-4c0b-9124-2d85025b22cb"
      },
      "execution_count": 23,
      "outputs": [
        {
          "output_type": "execute_result",
          "data": {
            "text/plain": [
              "['그때에 김첨지는 대수롭지 않은듯이,',\n",
              " '만일 김첨지가 주기를 띠지 않았던들 한 발을 대문에 들여놓았을 제 그곳을 지배하는 무시무시한 정적(靜寂) ― 폭풍우가 지나간 뒤의 바다 같은 정적이 다리가 떨렸으리라.',\n",
              " '마음대로 할 양이면 거기 있는 모든 먹음먹이를 모조리 깡그리 집어삼켜도 시원치 않았다 하되 배고픈 이는 위선 분량 많은 빈대떡 두 개를 쪼이기도 하고 추어탕을 한 그릇청하였다.',\n",
              " '하고 추근추근하게도 그 여자의 들고 있는 일본식 버들고리짝에 제 손을 대었다.',\n",
              " '흡뜬 눈은 조금 바루어졌건만 이슬이 맺히었다.',\n",
              " '김첨지는 교묘하게도 정말 꾀꼬리 같은 소리를 내었다.',\n",
              " '하고 어린애 모양으로 손뼉을 치며 웃는다.',\n",
              " '응아 소리도 입에서 나는 게 아니고 마치 뱃속에서 나는 듯하였다.',\n",
              " '그러자 그 돈벌 용기가 병자에 대한 염려를 사르고 말았다.',\n",
              " '“설렁탕을 사다 놓았는데 왜 먹지를 못하니, 왜 먹지를 못하니…… 괴상하게도 오늘은!',\n",
              " '제발 덕분에 집에 붙어 있어요.',\n",
              " '한꺼번에 이런 금액을 불러라도 본 지가 그 얼마 만인가!',\n",
              " '기어이 일 원 어치를 채워서 곱배기 한 잔씩 더 먹고 나왔다.',\n",
              " '기적(奇蹟)',\n",
              " '거기 마침 마마님이신지 여학생이신지 (요새야 어디 논다니와 아가씨를 구별할 수가 있던가) 망토를 잡수시고 비를 맞고 서 있겠지.',\n",
              " '그래 그는 이전에도 여러 번 해본 일이라 바로 정거장 앞 전차 정류장에서 조금 떨어지게 사람 다니는 길과 전찻길 틈에 인력거를 세워 놓고 자기는 그 근처를 빙빙 돌며 형세를 관망하기로 하였다.',\n",
              " '하면서 풀매질을 친다.',\n",
              " '이런 말을 하며 일변 돈을 줍는다.',\n",
              " '문안에(거기도 문밖은 아니지만) 들어간답시는 앞집 마마님을 전찻길까지 모셔다 드린 것을 비롯으로 행여나 손님이 있을까 하고 정류장에서 어정어정하며 내리는 사람 하나하나에게 거의 비는 듯한 눈결을 보내고 있다가 마침내 교원인 듯한 양복쟁이를 동광학교(東光學校)까지 태워다 주기로 되었다.',\n",
              " '앓는 어미 곁에서 배고파 보채는 개똥이 (세살먹이)에게 죽을 사줄 수도 있다 - 팔십 전을 손에 쥔 김 첨지의 마음은 푼푼하였다.',\n",
              " '하고, 목메인 소리가 뒤를 따랐다.',\n",
              " '이때에 빽빽 소리가 응아 소리로 변하였다.',\n",
              " '구태여 쓰려면 못쓸 바도 아니로되 그는 병이란 놈에게 약을 주어 보내면 재미를 붙여서 자꾸 온다는 자기의 신조(信條)에 어디까지 충실하였다.',\n",
              " '이상하게도 꼬리를 맞물고 덤비는 이 행운 앞에 조금 겁이 났음이다.',\n",
              " '“여보게 치삼이, 내 우스운 이야기 하나 할까.',\n",
              " '하고 김첨지는 잠깐 주저하였다.',\n",
              " '운수가, 좋더니만…….',\n",
              " '하여간 김첨지는 방문을 왈칵 열었다.',\n",
              " '남편이 와도 일어나지를 못해.”',\n",
              " '노동으로 하여 흐른 땀이 식어지자 굶주린 창자에서, 물 흐르는 옷에서 어슬어슬 한기가 솟아나기 비롯하매 일 원 오십 전이란 돈이 얼마나 괜찮고 괴로운 것인 줄 절절히 느끼었다.',\n",
              " '혹은 김첨지도 이 불길한 침묵을 짐작했는지도 모른다.',\n",
              " '구역을 나게 하는 추기 ― 떨어진삿자리 밑에서 나온 먼지내 빨지 않은 기저귀에서 나는 똥내와 오줌내 가지각색 때가 켜켜이 앉은 옷내 병인의 땀 썩은 내가 섞인 추기가 무딘 김첨지의 코를 찔렀다.',\n",
              " '창경원 앞까지 다다라서야 그는 턱에 닿은 숨을 돌리고 걸음도 늦추잡았다.',\n",
              " '입이 붙었어, 이 오라질 년!”',\n",
              " '슬근슬근 가까이 가서 인력거 타시랍시요 하고 손가방을 받으랴니까 내 손을 탁 뿌리치고 홱 돌아서더니만 ‘왜 남을 이렇게 귀찮게 굴어!’ 그 소리야말로 꾀꼬리 소리지, 허허!”',\n",
              " '정거장까지 끌어다 주고 그 깜짝 놀란 일 원 오십 전을 정말 제 손에 쥠에 제 말마따나 십리나 되는 길을 비를 맞아 가며 질퍽거리고 온 생각은 아니하고 거저나 얻은 듯이 고마웠다.',\n",
              " '전차가 빡빡하게 사람을 싣고 움직이기 시작하였을 제 타고 남은 손 하나가 있었다.',\n",
              " '온몸이 옹송그려지며 당장 그 자리에 엎어져 못 일어날 것 같았다.',\n",
              " '김첨지는 대어섰다.',\n",
              " '다리를 재게 놀려야만 쉴새없이 자기의 머리에 떠오르는 모든 근심과 걱정을 잊을 듯이.',\n",
              " '이라고 고함을 친 게 수상하다.',\n",
              " '맞붙들고 앉았으면 누가 먹여 살릴 줄 알아.”',\n",
              " '“이 난장맞을 년, 남편이 들어오는데 나와 보지도 않아, 이 오라질 년.”',\n",
              " '“ 여보게 김첨지, 자네  문안 들어갔다 오는 모양일세그려.',\n",
              " '그런데 여보게, 자네 왼몸이 어째 물독에 빠진 새앙쥐 같은가.',\n",
              " '조밥도 굶기를 먹다시피 하는 형편이니 물론 약 한 첩 써본 일이 없다.',\n",
              " '“아따 이놈아, 사십 전이 그리 끔찍하냐.',\n",
              " '“일 원 오십 전은 너무 과한데.”',\n",
              " '바퀴도 어떻게 속히 도는지 구른다느니보다 마치 얼음을 지쳐 나가는 스케이트 모양으로 미끄러져 가는 듯하였다.',\n",
              " '“그래 남대문 정거장까지 얼마란 말이요?”',\n",
              " '정거장까지 가잔 말을 들은 순간에 경련적으로 떠는 손 유달리 큼직한 눈울 듯한 아내의 얼굴이 김첨지의 눈앞에 어른어른하였다.',\n",
              " '잇수로 치면 여기서 거기가 시오 리가 넘는답니다.',\n",
              " '한 걸음 두 걸음 집이 가까워 갈수록 그의 마음조차 괴상하게 누그러웠다.',\n",
              " '그의 우글우글 살찐 얼굴에 주홍이 덧는 듯, 온 턱과 뺨을 시커멓게 구레나룻이 덮였거늘 노르탱탱한 얼굴이 바짝 말라서 여기저기 고랑이 패고 수염도 있대야 턱밑에만 마치 솔잎 송이를 거꾸로 붙여 놓은 듯한 김첨지의 풍채하고는 기이한 대상을 짓고 있었다.',\n",
              " '라고, 모기 소리같이 중얼거리고 숨을 걸그렁걸그렁하였다.',\n",
              " '하고 학생은 초조한 듯이 인력거꾼의 얼굴을 바라보며 혼자말같이,',\n",
              " '“아따, 재미 안 좋다고 술 못 먹을 낸가.',\n",
              " '참오늘 운수가 좋았느니.”',\n",
              " '“왜 이래, 남 귀치않게.”',\n",
              " '이 육시를 할 돈!”',\n",
              " '발로 차도 그 보람이 없는 걸 보자 남편은 아내의 머리맡으로 달려들어 그야말로 까치집 같은 환자의 머리를 꺼들어 흔들며,',\n",
              " '그렇지 않으면왜 구두를 채 신지 못해서 질질 끌고, 비록 고구라 양복일망정 노박이로 비를 맞으며 김첨지를 뒤쫓아 나왔으랴.',\n",
              " '이 더러운 놈들아, 내가 돈이 없나, 다리뼉다구를 꺾어 놓을놈들 같으니.”',\n",
              " '“뭐, 마누라가 죽다니, 언제?”',\n",
              " '운대도 온 얼굴을 찡그려 붙여서 운다는 표정을 할 뿐이다.',\n",
              " '“자네는 벌써 한잔한 모양일세그려.',\n",
              " '그는 두리번두리번 사면을 살피었다.',\n",
              " '“그래 얼마를 벌었단 말인가.”',\n",
              " '김첨지는 원망스럽게 전차 타는 이를 노리고 있었다.',\n",
              " '그럴 즈음에 마침 길가 선술집에서 그의 친구 치삼이가 나온다.',\n",
              " '“이런 오라질 년!',\n",
              " '그러나 그 웃음 소리들이 사라도 지기 전에 김첨지는 훌쩍훌쩍 울기 시작하였다.',\n",
              " '“젠장맞을 것, 이 비를 맞으며 빈 인력거를 털털거리고 돌아를 간담.',\n",
              " '딸국딸국 하고 숨 모으는 소리도 나는 듯싶다.',\n",
              " '김첨지의 눈은 벌써 개개 풀리기 시작하였다.',\n",
              " '그웃음 소리가 어떻게 컸던지 술집에 있는 이의 눈은 모두 김첨지에게로 몰리었다.',\n",
              " '한동안 값으로 승강이를 하다가 육십 전에 인사동까지 태워다 주기로 하였다.',\n",
              " '아마도 그 학교 기숙사에 있는 이로 동기방학을 이용하여 귀향하려 함이리라.',\n",
              " '석쇠에 얹힌 떡 두 개를 숭덩숭덩 썰어서 볼을 불룩거리며 또 곱배기 두 잔을 부어라 하였다.',\n",
              " '따라서 의사에게 보인 적이 없으니 무슨 병인지는 알 수 없으되 반듯이 누워 가지고 일어나기는 새로 모로도 못 눕는 걸 보면 중증은 중증인 듯.',\n",
              " '김첨지는 연해 코를 들이마시며,',\n",
              " '“우리 마누라가 죽었다네.”',\n",
              " '그 학생을 태우고 나선 김첨지의 다리는 이상하게 거뿐하였다.',\n",
              " '새삼스러운 염려가 그의 가슴을 눌렀다.',\n",
              " '그 목소리는 몸집과 딴판으로 연하고 싹싹하였다.',\n",
              " '왜 눈을 바루 뜨지 못해!”하고 앓는 이의 뺨을 한 번 후려갈겼다.',\n",
              " '“이놈아, 그걸 먹고 취할 내냐, 어서 더 먹어.”',\n",
              " '하자마자 허리춤을 훔칫훔칫하더니 일 원짜리 한 장을 꺼내어 중대가리 앞에 펄쩍 집어던졌다.',\n",
              " '이날이야말로 동소문 안에서 인력거꾼 노릇을 하는 김첨지에게는 오래간만에도 닥친 운수 좋은 날이었다 .',\n",
              " '그르렁거리는 숨소리조차 들을 수 없다.',\n",
              " '더구나 이날 이때에 이 팔십 전이라는 돈이 그에게 얼마나 유용한지 몰랐다.',\n",
              " '무슨 일이 있더라도 제일 제이의 행운을 곱친 것보다고 오히려 갑절이 많은 이 행운을 놓칠 수 없다 하였다.',\n",
              " '오늘 손을 태고 정거장에 가지 않았겠나.”',\n",
              " '“……”',\n",
              " '그러자 엉엉 하고 우는 개똥이의 곡성을 들은 듯싶다.',\n",
              " '자기를 살려 준 은인이나 무엇같이 고맙기도 하였다.',\n",
              " '에 가까운 벌이를 하였다는 기쁨을 할 수 있으면 오래 지니고 싶었다.',\n",
              " '“이년아, 말을 해, 말을!',\n",
              " '정말 죽었나 버이.”',\n",
              " '그리고 술을 붓는 열다섯 살 됨직한 중대가리에게로 달려들며,',\n",
              " '마음은 급하고 불길은 달지 않아 채 익지도 않은 것을 그 오라질년이 숟가락은 고만두고 손으로 움켜서 두 뺨에 주먹덩이 같은 혹이 불거지도록 누가 빼앗을듯이 처박질하더니만 그날 저녁부터 가슴이 땡긴다, 배가 켕긴다고 눈을 흡뜨고 지랄병을 하였다.',\n",
              " '얼마 만에 기차는 왔고 수십 명이나 되는 손이 정류장으로 쏟아져 나왔다.',\n",
              " '벽에 맞아 떨어진 돈은 다시 술 끓이는 양푼에 떨어지며 정당한 매를 맞는다는 듯이 쨍 하고 울었다.',\n",
              " '“안 죽었어, 안 죽었대도 그래.”',\n",
              " '하고는 치삼의 귀를 잡아 치며 취한 이는 부르짖었다.',\n",
              " '“빌어먹을 깍쟁이 같은 년, 누가 저를 어쩌나, ‘왜 남을 귀찮게 굴어!’ 어이구 소리가 처신도 없지, 허허.”',\n",
              " '이 고함이야말로 제 몸을 엄습해 오는 무시무시한 증을 쫓아 버리려는 허장성세인 까닭이다.',\n",
              " '“이년아, 죽었단 말이냐, 왜 말이 없어.”',\n",
              " '김첨지는 화증을 내며 확신 있게 소리를 질렀으되 그 소리엔 안 죽은 것을믿으려고 애쓰는 가락이 있었다.',\n",
              " '이러다가 누운 이의 흰 창을 덮은 위로 치뜬 눈을 알아보자마자,',\n",
              " '돈 많이 벌었을테니 한잔 빨리게.”',\n",
              " '하고 치삼이도 어느 불안을 느끼는 듯이 김첨지에게 또 돌아가라고 권하였다.',\n",
              " '만일 청각(聽覺)이 예민한 이 같으면 그 빡빡소리는 빨 따름이요, 꿀떡꿀떡 하고 젖 넘어가는 소리가 없으니 빈 젖을 빤다는 것도 짐작할는지 모르리라.',\n",
              " '모든 사람은 일시에 웃었다.',\n",
              " '하는 말 끝엔 목이 메였다.',\n",
              " '내가 이렇게 아픈데…….”',\n",
              " '집이 차차 멀어 갈수록 김첨지의 걸음에는 다시금 신이 나기 시작하였다.',\n",
              " '오늘 운수가 괴상하게도 좋으니까 그런 요행이 또 한번 없으리라고 누가 보증하랴.',\n",
              " '달음질을 한다느니보다 거의 나는 듯하였다.',\n",
              " '김첨지는 어랍시요 하고 물러섰다.',\n",
              " '선술집은 훈훈하고 뜨뜻하였다.',\n",
              " '굉장하게 큰 가방을 들고 있는걸 보면 아마 붐비는 차 안에 짐이 크다 하여 차장에게 밀려 내려온 눈치였다.',\n",
              " '“예, 예.”',\n",
              " '치삼은 흥이 조금 깨어지는 얼굴로,',\n",
              " '그렇다고 정거장 인력거꾼의 등쌀이 무서우니 정거장 앞에 섰을 수는 없었다.',\n",
              " '이런 젠장맞을 술을 왜 안 부어…… 괜찮다 괜찮다, 막 먹어도 상관이 없어.',\n",
              " '그때 김첨지는 열화와 같이 성을 내며,',\n",
              " '이 말이 저도 모를 사이에 불쑥 김첨지의 입에서 떨어졌다.',\n",
              " '“왜 이리우, 기차 놓치겠구먼.”',\n",
              " '궂은비는 의연히 추적추적 내린다.',\n",
              " '주정꾼이 이 눈치를 알아보고 화를 버럭 내며,',\n",
              " '하고 탄 이의 초조한 부르짖음이 간신히 그의 귀에 들어왔다.',\n",
              " '이 환자가 그러고도 먹는 데는 물리지 않았다.',\n",
              " '“인천 차가 열한 점에 있고 그 다음에는 새로 두 점이든가.”',\n",
              " '김첨지는 구걸하는 거지나 무엇같이 연해연방 그의 기색을 살피며,',\n",
              " '“으응, 이것 봐, 아무 말이 없네.”',\n",
              " '라고 야단을 쳤다.',\n",
              " '병이 이대도록 심해지기는 열흘전에 조밥을 먹고 체한 때문이다.',\n",
              " '치삼은 의아한 듯이 김첨지를 보며,',\n",
              " '“여보게 또 붓다니, 벌써 우리가 넉 잔씩 먹었네, 돈이 사십 전일세.”',\n",
              " '제 자식뻘밖에 안 되는 어린 손님에게 몇 번 허리를 굽히며,',\n",
              " '그러나 그의 예감(豫感)은 틀리지 않았다.',\n",
              " '그 여학생인지 만지가 한참은 매우 때깔을 빼며 입술을 꼭 다문 채 김첨지를 거들떠보지도 않았다.',\n",
              " '다만 이 무덤 같은 침묵을 깨뜨리는 ― 깨뜨린다느니보다 한층 더 침묵을 깊게 하고 불길하게 하는 빡빡 하는 그윽한 소리, 어린애의 젖 빠는 소리가 날 뿐이다.',\n",
              " '그야말로 재수가 옴붙어서 근 열흘 동안 돈 구경도 못한 김첨지는 십 전짜리 백동화 서 푼, 또는 다섯 푼이 찰깍 하고 손바닥에 떨어질 제 거의 눈물을 흘릴 만큼 기뻤었다.',\n",
              " '이윽고 끄는 이의 다리는 무거워졌다.',\n",
              " '졸부나 된 듯이 기뻤다.',\n",
              " '이런 빌어먹을 제 할미를 붙을 비가 왜 남의 상판을 딱딱 때려!”',\n",
              " '그 오라질 년이 밥을 죽이지.',\n",
              " '라고 주의시켰다.',\n",
              " '“에이, 오라질년, 조랑복은 할 수가 없어, 못 먹어 병, 먹어서 병!',\n",
              " '개똥이가 물었던 젖을 빼어 놓고 운다.',\n",
              " '집이라 해도 물론셋집이요 또 집 전체를 세든 게 아니라 안과 뚝 떨어진 행랑방 한 간을 빌려 든 것인데 물을 길어 대고 한 달에 일 원씩 내는 터이다.',\n",
              " '문득 김첨지는 미친 듯이 제 얼굴을 죽은 이의 얼굴에 한데 비비대며 중얼거렸다.',\n",
              " '왜 나를 바라보지 못하고 천장만 보느냐, 응.”',\n",
              " '하고 우는 이의 팔을 잡아당기었다.',\n",
              " '“남대문 정거장까지 얼마요.”',\n",
              " '인제 나한테 속았다.”',\n",
              " '김첨지는 이 친구를 만난 게 어떻게 반가운지 몰랐다.',\n",
              " '김첨지는 취중에도 설렁탕을 사가지고 집에 다다랐다.',\n",
              " '하고, 김첨지는 또다시 달음질하였다.',\n",
              " '“그래서.”',\n",
              " '“어, 이 사람 취했군, 그만두세.”',\n",
              " '그러나 빈 인력거를 털털거리며 이 우중에 돌아갈 일이 꿈밖이었다.',\n",
              " '“에미를 붙을 이 오라질 놈들 같으니, 이놈 내가 돈이 없을 줄 알고.”',\n",
              " '어쩌란 말이야!',\n",
              " '“아씨, 인력거 아니 타시랍시요.”',\n",
              " '자기를 불러 멈춘 사람이 그 학교 학생인 줄 김첨지는 한번 보고 짐작할 수 있었다.',\n",
              " '“일 원 오십 전만 줍시요.”',\n",
              " '꼬리를 굴리는 행운이 꼭 자기를 기다리고 있다고 내기를 해도 좋을 만한 믿음을 얻게 되었다.',\n",
              " '그리고 병자의 움쑥 들어간 눈이 원망하는 듯이 자기를 노리는 듯하였다.',\n",
              " '땀과 빗물이 섞여 흐르는 목덜미를 기름주머니가 다된 왜목 수건으로 닦으며, 그 학교 문을 돌아 나올 때였다.',\n",
              " '“남대문 정거장까지 말씀입니까.”',\n",
              " '이런 말을 하며 학생은 고개를 기웃하였다.',\n",
              " '인력거가 무거워지매 그의 몸은 이상하게도 가벼워졌고 그리고 또 인력거가 가벼워지니 몸은 다시금 무거워졌건만 이번에는 마음조차 초조해 온다.',\n",
              " '조밥도 못 먹는 년이 설렁탕은.',\n",
              " '눌러 곱배기 한 잔을 또 마셨다.',\n",
              " '라고 중얼거린다.',\n",
              " '“봐라 봐!',\n",
              " '오늘 내가 돈을 막 벌었어.',\n",
              " '웃는 이는 더욱 웃으며,',\n",
              " '첫 번에 삼십전 , 둘째 번에 오십전 - 아침 댓바람에 그리 흉치 않은 일이었다.',\n",
              " '그러나 발길에 채이는 건 사람의 살이 아니고 나무등걸과 같은 느낌이 있었다.',\n",
              " '김첨지의 눈시울도 뜨끈뜨끈하였다.',\n",
              " '추어탕을 끓이는 솥뚜껑을 열 적마다 뭉게뭉게 떠오르는 흰김 석쇠에서 뻐지짓뻐지짓 구워지는 너비아니구이며 제육이며 간이며 콩팥이며 북어며 빈대떡……이 너저분하게 늘어놓인 안주 탁자에 김첨지는 갑자기 속이 쓰려서 견딜 수 없었다.',\n",
              " '정거장을 떠나는 그의 발길은 힘 하나 없었다.',\n",
              " '그는 슬근슬근 그 여자의 곁으로 다가들었다.',\n",
              " '하고 빙글빙글 웃는 차부의 얼굴에는 숨길 수 없는 기쁨이 넘쳐흘렀다.',\n",
              " '“그러면 달라는 대로 줄 터이니 빨리 가요.”',\n",
              " '나무 등걸이나 무엇 같고 제 것 같지도 않은 다리를 연해 꾸짖으며 질팡갈팡 뛰는 수밖에 없었다.',\n",
              " '언뜻 깨달으니 김첨지는 인력거를 쥔 채 길 한복판에 엉거주춤 멈춰 있지 않은가.',\n",
              " '하고 김첨지는 얼굴을 펴서 웃었다.',\n",
              " '처음 것 둘째 것으로 고만 만족하였음일까?',\n",
              " '그러자 산 사람의 눈에서 떨어진 닭의 똥 같은 눈물이 죽은 이의 뻣뻣한 얼굴을 어룽어룽 적시었다.',\n",
              " '뚱뚱보는 말라깽이를 보던 맡에 부르짖었다.',\n",
              " '“오늘은 나가지 말아요.',\n",
              " '그리고 집을 나올 제 아내의 부탁이 마음이 켕기었다 - 앞집 마마님한테서 부르러 왔을 제 병인은 뼈만 남은 얼굴에 유일의 샘물 같은 유달리 크고 움푹한 눈에 애걸하는 빛을 띄우며,',\n",
              " '“안녕히 다녀옵시요.”',\n",
              " '집의 광경이 자꾸 눈앞에 어른거리어 인제 요행을 바랄 여유도 없었다.',\n",
              " '“이 사람이 정말 미쳤단 말인가.',\n",
              " '아니다 결코 아니다.',\n",
              " '“아씨, 정거장 애들보담 아주 싸게 모셔다 드리겠습니다.',\n",
              " '그의 아내가 기침으로 쿨룩거리기는 벌써 달포가 넘었다.',\n",
              " '“이런 오라질 년, 주야장천 누워만 있으면 제일이야.',\n",
              " '방 안에 들어서며 설렁탕을 한구석에 놓을 사이도 없이 주정꾼은 목청을 있는 대로 다 내어 호통을 쳤다.',\n",
              " '그럴 즈음에 그의 머리엔 또 새로운 광명이 비쳤나니 그것은 ‘이러구 갈 게 아니라 이 근처를 빙빙 돌며 차 오기를 기다리면 또 손님을 태우게 될는지도 몰라’란 생각이었다.',\n",
              " '또 한 잔 먹고 나서 김첨지는 치삼의 어깨를 치며 문득 껄껄 웃는다.',\n",
              " '“이 눈깔!',\n",
              " '소리를 벽력같이 지르고는 돌아선다.',\n",
              " '“인력거를 타시랍시요.”',\n",
              " '흐리고 비 오는 하늘은 어둠침침하게 벌써 황혼에 가까운 듯하다.',\n",
              " '“이놈, 오라질 놈, 왜 술을 붓지 않어.”',\n",
              " '라고 깍듯이 재우쳤다.',\n",
              " '순식간에 두부와 미꾸리 든 국 한 그릇을 그냥 물같이 들이켜고 말았다.',\n",
              " '김첨지는 입술과 수염에 붙은 술을 빨아들이고 나서 매우 만족한 듯이 그 솔잎 송이 수염을 쓰다듬으며,',\n",
              " '라고 외쳤다.',\n",
              " '치삼의 끄는 손을 뿌리치더니 김첨지는 눈물이 글썽글썽한 눈으로 싱그레웃는다.',\n",
              " '저놈의 인력거꾼이 저렇게 술이 취해 가지고 이 진땅에 어찌 가노, 라고 길 가는 사람이 걱정을 하리만큼 그의 걸음은 황급하였다.',\n",
              " '“나가지 말라도 그래, 그러면 일찍이 들어와요.”',\n",
              " '하고 김첨지는 엉엉 소리를 내어 운다.',\n",
              " '자네도 오늘 재미가 좋아 보이.”',\n",
              " '그렇지 않으면 대문에 들어서자마자 전에 없이,',\n",
              " '제 입으로 부르고도 스스로 그 엄청난 돈 액수에 놀랐다.',\n",
              " '댁이 어디신가요.”',\n",
              " '주린 창자는 음식맛을 보더니 더욱더욱 비어지며 자꾸자꾸 들이라 들이라 하였다.',\n",
              " '그 모양은 마치 자기 집 ― 곧 불행을 향하고 달아가는 제 다리를 제 힘으로는 도저히 어찌할 수 없으니 누구든지 나를 좀 잡아 다고, 구해 다고 하는 듯하였다.',\n",
              " '“금방 웃고 지랄을 하더니 우는 건 또 무슨 일인가.”',\n",
              " '“원 이 사람이, 참말을 하나 거짓말을 하나.',\n",
              " '웃음 소리들은 높아졌다.',\n",
              " '그는 몹시 화증을 내며 누구에게 반항이나 하는 듯이 게걸거렸다.',\n",
              " '김첨지는 취한 중에도 돈의 거처를 살피는 듯이 눈을 크게 떠서 땅을 내려다보다가 불시에 제 하는 짓이 너무 더럽다는 듯이 고개를 소스라치자 더욱 성을 내며,',\n",
              " '언 땅에 비가 내려 미끄럽기도 하였지만.',\n",
              " '곱배기 두 잔은 또 부어질 겨를도 없이 말려 가고 말았다.',\n",
              " '셋째 그릇을 받아 들었을 제 데우던 막걸리 곱배기 두 잔이 더웠다.',\n",
              " '“엣기 미친놈, 거짓말 말아.”',\n",
              " '“죽기는 누가 죽어.”',\n",
              " '“아따, 젠장맞을 년, 별 빌어먹을 소리를 다 하네.',\n",
              " '울다가 울다가 목도 잠겼고 또 울 기운조차 시진한 것 같다.',\n",
              " '치삼이와 같이 마시자 원원이 비었던 속이라 찌르를 하고 창자에 퍼지며 얼굴이 화끈하였다.',\n",
              " '“여보게 돈 떨어졌네, 왜 돈을 막 끼얹나.”',\n",
              " '그는 불행에 다닥치기 전 시간을 얼마쯤이라도 늘이려고 버르적거렸다.',\n",
              " '그 학생은 다짜고짜로,',\n",
              " '“거짓말은 왜, 참말로 죽었어, 참말로…… 마누라 시체를 집에 뻐들쳐 놓고 내가 술을 먹다니, 내가 죽일 놈이야, 죽일 놈이야.”',\n",
              " '오늘 돈 산더미같이 벌었는데.”',\n",
              " '컬컬한 목에 모주 한 잔도 적실 수 있거니와 그보다도 앓는 아내에게 설렁탕 한 그릇도 사다 줄 수 있음이다.',\n",
              " '치삼은 어이없이 주정뱅이를 바라보며,',\n",
              " '하고 훌쩍 뛰어나오려니까 환자는 붙잡을 듯이 팔을 내저으며,',\n",
              " '어서 이리 들어와 말리게.”',\n",
              " '이 눈깔!',\n",
              " '뒤에서 “인력거!” 하고 부르는 소리가 난다.',\n",
              " '“갔다가 그저 오기가 안됐데그려.',\n",
              " '하고 득의가 양양.',\n",
              " '하고 치삼의 주워 주는 돈을 받아,',\n",
              " '라는 소리와 함께 발길로 누운 이의 다리를 몹시 찼다.',\n",
              " '인제 설렁탕을 사줄 수도 있다.',\n",
              " '“아니올시다.',\n",
              " '그러면 집으로 가세, 가.”',\n",
              " '또 이런 진날은 좀 더 주셔야지요.”',\n",
              " '“오늘은 나가지 말아요, 내가 이렇게 아픈데” 이런 말이 잉잉 그의 귀에 울렸다.',\n",
              " '전차는 왔다.',\n",
              " '자기 집 가까이 다다른 까닭이다.',\n",
              " '그러나 그의 행운은 그걸로 그치지 않았다.',\n",
              " '오늘 가기로 작정은 하였건만 비는 오고, 짐은 있고 해서 어찌할 줄 모르다가 마침 김첨지를 보고 뛰어나왔음이리라.',\n",
              " '“삼십 원을 벌었어, 삼십 원을!',\n",
              " '“이 원수엣돈!',\n",
              " '라고 물었다.',\n",
              " '“또 부어, 또 부어.”',\n",
              " '그래 전차 정류장에서 어름어름하며 손님 하나를 태울 궁리를 하지 않았나.',\n",
              " '“으응, 또 대답이 없네.',\n",
              " '사흘 전부터 설렁탕 국물이 마시고 싶다고 남편을 졸랐다.',\n",
              " '관대한 어린 손님은 이런 말을 남기고 총총히 옷도 입고 짐도 챙기러 갈 데로 갔다.',\n",
              " '또 처먹고 지랄병을 하게.” 라고, 야단을 쳐보았건만, 못 사주는 마음이 시원치는 않았다.',\n",
              " '그 사품에 몇 푼 은전이 잘그랑 하며 떨어진다.',\n",
              " '그런데 이 누그러움은 안심에서 오는 게 아니요 자기를 덮친 무서운 불행을 빈틈없이 알게 될 때가 박두한 것을 두리는 마음에서 오는 것이다.',\n",
              " '“죽기는 왜 죽어, 생때같이 살아만 있단다.',\n",
              " '중대가리는 희희 웃고 치삼을 보며 문의하는 듯이 눈짓을 하였다.',\n",
              " '나도 아주먼네가 앓는단 말은 들었는데.”',\n",
              " '설마 오늘 내로 어떠랴 싶었다.',\n",
              " '쿨룩거리는 기침 소리도 들을 수 없다.',\n",
              " '그 중에서 손님을 물색하는 김첨지의 눈엔 양머리에 뒤축 높은 구두를 신고 망토까지 두른 기생 퇴물인 듯 난봉 여학생인 듯한 여편네의 모양이 띄었다.',\n",
              " '새침하게 흐린 품이 눈이 올 듯하더니 눈은 아니 오고 얼다가 만 비가 추적추적 내리는 날이었다.',\n",
              " '“이놈아 언제는, 오늘이지.”',\n",
              " '그때도 김첨지가 오래간만에 돈을 얻어서 좁쌀 한 되와 십 전짜리 나무 한 단을 사다 주었더니 김첨지의 말에 의지하면 그 오라질 년이 천방지축으로 냄비에 대고 끓였다.',\n",
              " '그는 이 우중에 우장도 없이 그 먼 곳을 철벅거리고 가기가 싫었음일까?']"
            ]
          },
          "metadata": {},
          "execution_count": 23
        }
      ]
    },
    {
      "cell_type": "code",
      "source": [
        "input_data = []\n",
        "output_data = []\n",
        "\n",
        "for s in sents:\n",
        "  tokens = [vocab[vocab.bos_token], ] + vocab[tokenizer(s)] + [vocab[vocab.eos_token],]\n",
        "  input_data.append(tokens[:-1]) # 입력 / 마지막 단어를 예측해야하므로 마지막 단어 이전까지\n",
        "  output_data.append(tokens[1:]) # 출력 / 맨앞 다음 토큰에서 맨뒤토큰까지 출력으로 이용\n"
      ],
      "metadata": {
        "id": "RcV1BhV5LrmZ"
      },
      "execution_count": 24,
      "outputs": []
    },
    {
      "cell_type": "code",
      "source": [
        "vocab[vocab.bos_token]"
      ],
      "metadata": {
        "colab": {
          "base_uri": "https://localhost:8080/"
        },
        "id": "ftPHJiKfQvYd",
        "outputId": "b8fa6276-1d81-4fd4-8c54-9bb19354a8ff"
      },
      "execution_count": 27,
      "outputs": [
        {
          "output_type": "execute_result",
          "data": {
            "text/plain": [
              "0"
            ]
          },
          "metadata": {},
          "execution_count": 27
        }
      ]
    },
    {
      "cell_type": "code",
      "source": [
        "vocab[vocab.eos_token]"
      ],
      "metadata": {
        "colab": {
          "base_uri": "https://localhost:8080/"
        },
        "id": "LtM4Zuj2QwLG",
        "outputId": "9aa0dfec-6e76-4157-b624-d60dd2e0542a"
      },
      "execution_count": 28,
      "outputs": [
        {
          "output_type": "execute_result",
          "data": {
            "text/plain": [
              "1"
            ]
          },
          "metadata": {},
          "execution_count": 28
        }
      ]
    },
    {
      "cell_type": "code",
      "source": [
        "print(input_data)"
      ],
      "metadata": {
        "colab": {
          "base_uri": "https://localhost:8080/"
        },
        "id": "qkvqr881P1IY",
        "outputId": "5f07229e-c44a-4279-eaba-e0ffe77c403f"
      },
      "execution_count": 26,
      "outputs": [
        {
          "output_type": "stream",
          "name": "stdout",
          "text": [
            "[[0, 47437, 47522, 47675, 47442, 47437, 47633, 48120, 47445, 47441, 47437, 47455, 47467, 48139, 47445, 47437, 47676, 47459, 48090, 47438, 47453], [0, 47437, 47494, 47471, 47437, 47633, 48120, 47445, 47448, 47437, 47483, 47449, 47462, 47437, 48358, 47445, 47437, 47676, 47748, 47705, 47493, 47437, 47450, 47437, 47554, 47444, 47437, 47455, 47518, 47442, 47437, 47493, 47524, 47951, 47748, 47444, 47437, 47481, 47437, 47522, 47857, 47444, 47437, 47445, 47669, 47451, 47441, 47437, 47555, 47460, 47555, 47460, 47450, 47437, 47468, 47502, 47478, 49878, 5, 47480, 47437, 48863, 47437, 47829, 47939, 47544, 47448, 47437, 47445, 47491, 47568, 47437, 47878, 47443, 47437, 47609, 47439, 47437, 47764, 47459, 47437, 47468, 47502, 47438, 47437, 47439, 47473, 47448, 47437, 48010, 47946, 47474, 47473, 47490, 47440], [0, 47437, 47538, 47659, 47455, 47446, 47437, 47558, 47437, 47615, 47438, 47516, 47437, 47578, 47449, 47437, 47477, 47441, 47437, 47542, 47837, 47437, 48012, 47659, 48012, 47438, 47462, 47437, 47542, 47507, 47473, 47437, 48954, 47522, 47473, 47437, 47720, 47487, 47789, 48045, 47463, 47437, 47460, 47472, 47556, 47437, 47676, 47748, 47439, 47437, 47451, 47562, 47437, 47669, 47447, 48118, 47437, 47438, 47441, 47437, 47498, 47510, 47437, 47567, 47775, 47437, 47778, 47459, 47437, 48036, 47455, 48459, 47437, 47671, 47437, 47521, 47462, 47437, 48818, 47438, 47449, 47463, 47437, 47451, 47447, 47437, 47656, 47487, 48125, 47444, 47437, 47450, 47437, 47522, 48558, 47614, 47451, 47688, 47439, 47440], [0, 47437, 47451, 47447, 47437, 47656, 47667, 47656, 47667, 47451, 47517, 47463, 47437, 47522, 47437, 47524, 47461, 47443, 47437, 47493, 47447, 47437, 47477, 47441, 47437, 47471, 47646, 47594, 47437, 47750, 47493, 47447, 47473, 48243, 47442, 47437, 47481, 47437, 47822, 47444, 47437, 47455, 47595, 47439, 47440], [0, 47437, 48153, 48668, 47437, 47924, 47459, 47437, 47507, 47563, 47437, 47609, 47771, 47487, 47816, 47618, 47494, 47437, 47438, 47996, 47438, 47437, 48293, 47665, 47595, 47439, 47440], [0, 47437, 47633, 48120, 47445, 47441, 47437, 47553, 48170, 47451, 47517, 47463, 47437, 47468, 47637, 47437, 48702, 48295, 47473, 47437, 47764, 47459, 47437, 47508, 47473, 47462, 47437, 47537, 47595, 47439, 47440], [0, 47437, 47451, 47447, 47437, 47487, 47718, 47824, 47437, 47542, 47615, 47474, 47446, 47437, 47822, 5, 47444, 47437, 47556, 47559, 47437, 48070, 47441, 47439, 47440], [0, 47437, 47869, 47485, 47437, 47508, 47473, 47463, 47437, 47588, 47442, 47454, 47437, 47491, 47441, 47437, 47517, 47437, 47485, 47515, 47447, 47437, 47538, 47556, 47437, 48547, 47629, 47442, 47454, 47437, 47491, 47441, 47437, 48090, 47451, 47688, 47439, 47440], [0, 47437, 47522, 47593, 47461, 47437, 47522, 47437, 48003, 47814, 47437, 47539, 47449, 47448, 47437, 47751, 47461, 47442, 47437, 47455, 47450, 47437, 47980, 47628, 47462, 47437, 47457, 47632, 47447, 47437, 47637, 47748, 47439, 47440], [0, 47437, 47653, 47606, 48521, 48125, 47444, 47437, 47457, 47439, 47437, 47951, 47748, 47441, 47590, 47437, 48106, 47437, 48012, 47445, 47462, 47437, 47845, 47451, 47515, 47453, 47437, 48106, 47437, 48012, 47445, 47462, 47437, 47845, 47451, 47515, 47440, 47440, 47440, 47440, 47440, 47440, 47437, 48126, 47482, 47451, 47517, 47463, 47437, 47531, 47787, 47459, 47812], [0, 47437, 47481, 47554, 47437, 47992, 47567, 47442, 47437, 47720, 47442, 47437, 47990, 47487, 47437, 47477, 47487, 47580, 47440], [0, 47437, 47450, 48286, 47685, 47442, 47437, 47438, 47843, 47437, 47563, 47870, 47444, 47437, 47668, 47593, 47490, 47463, 47437, 47646, 47437, 47445, 47448, 47437, 47522, 47437, 47962, 47538, 47437, 47494, 47464, 47448, 47812], [0, 47437, 47449, 47487, 47438, 47437, 47471, 47437, 47472, 47437, 47487, 47556, 47462, 47437, 47791, 47832, 47454, 47437, 48501, 47669, 47449, 47437, 47450, 47437, 48129, 48134, 47437, 47690, 47437, 48012, 47447, 47437, 47491, 47912, 47439, 47440], [0, 47437, 47449, 47502, 47478, 49834, 5, 47480], [0, 47437, 47578, 47449, 47437, 47538, 47866, 47437, 47538, 47538, 48053, 47438, 47523, 47445, 47437, 47524, 47564, 47571, 47438, 47523, 47445, 47437, 47478, 47580, 47743, 47611, 47437, 47487, 47712, 47437, 47884, 47439, 47515, 47532, 47437, 47485, 47448, 47733, 47462, 47437, 47497, 47756, 47558, 47437, 47467, 47448, 47437, 47477, 47705, 47448, 47480, 47437, 47766, 47697, 47462, 47437, 47921, 47467, 47460, 47447, 47437, 47506, 47462, 47437, 47854, 47447, 47437, 47454, 47437, 47477, 47790, 47445, 47440], [0, 47437, 47522, 47687, 47437, 47522, 47441, 47437, 47438, 47470, 47442, 47463, 47437, 47524, 47593, 47437, 47685, 47437, 47466, 47646, 47437, 47471, 47438, 47490, 47437, 47609, 47446, 47437, 47468, 47578, 47475, 47437, 47802, 47437, 47470, 47576, 47437, 47468, 47805, 47475, 47442, 47454, 47437, 47507, 47563, 47437, 48010, 47487, 47445, 47517, 47437, 47457, 47788, 47437, 47439, 47515, 47441, 47437, 47828, 47486, 47437, 47470, 49187, 47828, 47437, 48509, 47442, 47437, 47464, 47635, 47578, 47462, 47437, 47530, 47832, 47437, 47951, 47447, 47437, 47461, 47449, 47441, 47437, 47522, 47437, 47667, 47704, 47462, 47437, 48212, 48212, 47437, 47839, 47559, 47437, 47662, 47530, 47462, 47437, 47505, 47766, 47451, 47449, 47446, 47437, 47451, 47688, 47439, 47440], [0, 47437, 47451, 47516, 47454, 47437, 48029, 47597, 47734, 47444, 47437, 47842, 47439, 47440], [0, 47437, 47438, 47843, 47437, 47637, 47444, 47437, 47451, 47559, 47437, 47471, 47745, 47437, 48003, 47444, 47437, 48825, 47441, 47439, 47440], [0, 47437, 47518, 47541, 47442, 47478, 47578, 47449, 47463, 47437, 47518, 48034, 47459, 47437, 47485, 47515, 47445, 47494, 47480, 47437, 47493, 47487, 47568, 47981, 47460, 47441, 47437, 47802, 47720, 47437, 47538, 47538, 48053, 47444, 47437, 47470, 49187, 47828, 47627, 47445, 47437, 47542, 48149, 47439, 47437, 47557, 47718, 47437, 47526, 47444, 47437, 47506, 47909, 47474, 47446, 47437, 47552, 47524, 47491, 47437, 47822, 48053, 47438, 47437, 47477, 47444, 47627, 47437, 47451, 47447, 47437, 47468, 47805, 47475, 47442, 47454, 47437, 47487, 47468, 47487, 47468, 47451, 47559, 47437, 47537, 47473, 47441, 47437, 47457, 47788, 47437, 47451, 47491, 47451, 47491, 47442, 47517, 47437, 47578, 47443, 47437, 47506, 47441, 47437, 48090, 47450, 47437, 47924, 47621, 47444, 47437, 47484, 47537, 47447, 47437, 47477, 47439, 47448, 47437, 47538, 47866, 47537, 47437, 47553, 47472, 47464, 47437, 48090, 47450, 47437, 47615, 47726, 47862, 47438, 47462, 47437, 47500, 47711, 47564, 47553, 47478, 48609, 48840, 48550, 48689, 47480, 47627, 47445, 47437, 47692, 47832, 47439, 47437, 47483, 47449, 47446, 47437, 47562, 47595, 47439, 47440], [0, 47437, 48564, 47441, 47437, 47487, 47546, 47437, 48653, 47442, 47454, 47437, 47669, 47447, 47636, 47437, 47484, 47791, 47441, 47437, 47521, 48811, 47438, 47437, 47478, 47530, 47801, 48012, 47438, 47480, 47442, 47517, 47437, 48054, 47444, 47437, 47457, 47867, 47437, 47467, 47463, 47437, 47477, 47439, 47437, 47655, 47437, 48035, 48050, 47437, 47470, 47444, 47437, 47822, 47442, 47437, 48941, 47437, 47633, 47437, 48120, 47445, 47443, 47437, 47538, 47659, 47459, 47437, 48651, 48651, 47451, 47688, 47439, 47440], [0, 47437, 47451, 47447, 47453, 47437, 47709, 47792, 47464, 47437, 47508, 47473, 47448, 47437, 47878, 47462, 47437, 47701, 48119, 47439, 47440], [0, 47437, 47438, 47675, 47442, 47437, 49120, 49120, 47437, 47508, 47473, 47448, 47437, 47869, 47485, 47437, 47508, 47473, 47446, 47437, 47745, 47451, 47688, 47439, 47440], [0, 47437, 47497, 47692, 47524, 47437, 47952, 47628, 47516, 47437, 47845, 48335, 47437, 47609, 47463, 47437, 47485, 47515, 47446, 47562, 47437, 47522, 47441, 47437, 47751, 47438, 47786, 47437, 48684, 47442, 47517, 47437, 47672, 47444, 47437, 47483, 47487, 47437, 47484, 47537, 47516, 47437, 47543, 47546, 47462, 47437, 47990, 47524, 47454, 47437, 47461, 48023, 47437, 47770, 47439, 47441, 47437, 47461, 47449, 47443, 47437, 47523, 47507, 47478, 49022, 49926, 47480, 47442, 47437, 47487, 47712, 47627, 47445, 47437, 47813, 47574, 47451, 47688, 47439, 47440], [0, 47437, 47438, 47482, 47451, 47517, 47463, 47437, 48295, 47473, 47462, 47437, 47854, 47617, 47447, 47437, 48415, 47506, 47441, 47437, 47438, 47437, 47552, 47586, 47437, 47802, 47442, 47437, 47507, 47563, 47437, 48239, 47438, 47437, 47928, 47659, 47438, 47439, 47440], [0, 47437, 47653, 47524, 47484, 47517, 47437, 47556, 47789, 47438, 47453, 47437, 47537, 47437, 47544, 47469, 47586, 47437, 47438, 47611, 47449, 47437, 47451, 47491, 47437, 47558, 47627, 47440], [0, 47437, 47451, 47447, 47437, 47633, 48120, 47445, 47441, 47437, 48024, 48705, 47437, 47483, 47674, 47451, 47688, 47439, 47440], [0, 47437, 47586, 47467, 47448, 47453, 47437, 47908, 47690, 47515, 47494, 47440, 47440, 47440, 47440, 47440, 47440, 47440], [0, 47437, 47451, 47524, 47568, 47437, 47633, 48120, 47445, 47441, 47437, 47560, 47518, 47444, 47437, 48814, 48754, 47437, 47689, 47595, 47439, 47440], [0, 47437, 47625, 47741, 47438, 47437, 47532, 47463, 47437, 47471, 47487, 47491, 47445, 47462, 47437, 47845, 47466, 47440, 47654], [0, 47437, 47644, 47500, 47474, 47446, 47437, 47451, 47524, 47437, 48115, 47738, 47437, 48579, 47438, 47437, 47594, 47487, 47445, 47461, 47437, 48945, 47483, 47718, 47437, 47763, 47461, 47442, 47454, 47453, 47437, 47617, 47437, 48115, 47632, 47441, 47437, 48284, 47442, 47454, 47437, 47487, 47996, 47487, 47996, 47437, 47450, 47449, 47448, 47437, 48531, 47485, 47491, 47449, 47437, 47506, 47909, 47451, 47597, 47437, 47471, 47437, 47472, 47437, 47531, 48050, 47437, 47470, 47438, 47786, 47437, 48003, 47438, 47437, 47962, 47538, 47491, 47437, 48619, 48539, 47447, 47437, 48126, 47446, 47586, 47437, 47526, 47464, 47437, 47867, 47437, 47793, 47793, 47665, 47437, 47915, 48059, 47595, 47439, 47440], [0, 47437, 48001, 47459, 47437, 47633, 48120, 47445, 47463, 47437, 47438, 47437, 47668, 47828, 47450, 47437, 47866, 48317, 47444, 47437, 48225, 47620, 47489, 47441, 47445, 47463, 47437, 47542, 47738, 47439, 47440], [0, 47437, 47497, 47581, 47444, 47437, 47491, 47517, 47437, 47451, 47441, 47437, 47656, 47449, 47437, 48863, 47437, 48010, 47487, 47519, 48743, 47461, 47473, 47437, 48327, 47442, 47454, 47437, 47491, 47770, 47437, 47974, 47445, 47537, 47437, 48198, 47445, 47437, 47676, 47459, 47437, 47449, 47674, 47969, 47442, 47454, 47437, 47491, 47441, 47437, 48811, 47537, 47532, 47437, 47531, 48622, 47537, 47437, 47448, 47445, 47648, 47880, 47437, 47675, 47448, 47437, 48045, 48045, 47438, 47437, 48349, 47459, 47437, 48284, 47537, 47437, 47751, 47464, 47443, 47437, 48579, 47437, 48673, 47459, 47437, 47537, 47448, 47437, 48542, 47464, 47437, 47656, 47449, 47448, 47437, 47555, 48537, 47437, 47633, 48120, 47445, 47443, 47437, 47719, 47462, 47437, 48496, 48287, 47439, 47440], [0, 47437, 47763, 47499, 47472, 47437, 47802, 47627, 47445, 47437, 47439, 47439, 47490, 47454, 47611, 47437, 47522, 47441, 47437, 48429, 47442, 47437, 48604, 47459, 47437, 48066, 47444, 47437, 47839, 47473, 47447, 47437, 47902, 47659, 47463, 47437, 48231, 47656, 47921, 47748, 47439, 47440], [0, 47437, 47588, 47438, 47437, 47990, 47595, 47487, 47453, 47437, 47438, 47437, 47531, 47490, 47734, 47437, 47504, 47812, 47654], [0, 47437, 47996, 47667, 47996, 47667, 47437, 47448, 47627, 47438, 47437, 47448, 47454, 47437, 47464, 47635, 47578, 47437, 47647, 47460, 48352, 47460, 47580, 47437, 47451, 47447, 47437, 47822, 47448, 47560, 47444, 47437, 47663, 47474, 48708, 47515, 47627, 47437, 47537, 47437, 47822, 47444, 47437, 48019, 47437, 48347, 47473, 47556, 47447, 47437, 5, 47437, 47839, 47485, 47454, 47690, 47515, 47494, 47437, 47624, 48106, 47437, 47625, 47444, 47437, 47438, 47999, 47517, 47437, 47969, 48539, 47517, 47437, 48033, 47487, 47812, 47623, 47437, 47522, 47437, 47508, 47473, 47611, 47637, 47446, 47437, 48702, 48295, 47473, 47437, 47508, 47473, 47445, 47453, 47437, 47883, 47883, 47812, 47654], [0, 47437, 47468, 47578, 47475, 47627, 47445, 47437, 48025, 47487, 47439, 47437, 47483, 47447, 47437, 47522, 47437, 48434, 48243, 47437, 48111, 47786, 47437, 47471, 47437, 47472, 47437, 47531, 48050, 47437, 47470, 47444, 47437, 47468, 47637, 47437, 47481, 47437, 47822, 47442, 47437, 5, 47442, 47437, 47481, 47437, 47637, 47538, 47701, 47491, 47437, 48050, 47473, 47491, 47437, 47562, 47441, 47437, 47828, 47444, 47437, 47506, 47462, 47437, 47854, 47485, 47437, 47448, 47559, 47437, 47734, 49545, 47578, 47473, 47447, 47437, 47770, 47437, 47571, 47648, 47459, 47437, 47485, 47515, 47451, 47447, 47437, 47578, 47674, 47491, 47437, 48079, 47459, 47437, 48090, 47438, 47437, 47447, 47538, 48183, 47439, 47440], [0, 47437, 47470, 47576, 47448, 47437, 49102, 49102, 47451, 47517, 47437, 47457, 47788, 47444, 47437, 48753, 47447, 47437, 47892, 47639, 47438, 47449, 47437, 47460, 47620, 47451, 47688, 47444, 47437, 47481, 47437, 47647, 47447, 47437, 47625, 47459, 47437, 47822, 47437, 47451, 47491, 47448, 47437, 47477, 47595, 47439, 47440], [0, 47437, 47770, 48062, 47438, 47437, 48385, 47761, 47522, 47628, 47445, 47559, 47437, 47548, 47475, 47437, 47522, 47437, 47461, 47473, 47442, 47437, 48833, 47487, 47881, 47437, 47845, 47437, 47471, 47487, 47724, 47437, 47526, 47437, 47764, 47748, 47439, 47440], [0, 47437, 47633, 48120, 47445, 47441, 47437, 47455, 47487, 48133, 47439, 47440], [0, 47437, 47439, 47473, 47462, 47437, 47543, 47517, 47437, 48111, 47628, 47611, 47494, 47437, 48837, 47743, 47673, 47438, 47437, 47461, 47449, 47443, 47437, 47825, 47473, 47442, 47437, 48056, 47531, 47632, 47441, 47437, 47542, 47837, 47437, 47667, 47651, 47486, 47437, 48345, 47468, 47444, 47437, 48498, 47444, 47437, 48090, 47438, 47440], [0, 47437, 47438, 47490, 47447, 47437, 47447, 47683, 47444, 47437, 47842, 47437, 47517, 47437, 47467, 47482, 47451, 47439, 47440], [0, 47437, 47854, 47990, 47493, 47447, 47437, 48349, 47748, 47474, 47516, 47437, 47821, 47448, 47437, 48012, 47524, 47437, 47801, 48018, 47437, 47867, 47437, 47760, 47485, 47440, 47654], [0, 47437, 47653, 47438, 47437, 47612, 47475, 47854, 47444, 47437, 47504, 47453, 47437, 47625, 47741, 47438, 47437, 47493, 47487, 47531, 47441, 47590, 47437, 47491, 47532, 47437, 47484, 47445, 47463, 47437, 47676, 47485, 47453, 47437, 47438, 47437, 47531, 47490, 47734, 47437, 47504, 47440, 47654], [0, 47437, 47653, 47437, 47524, 47484, 47517, 47437, 47633, 48120, 47445, 47453, 47437, 47461, 47797, 47437, 47518, 47541, 47437, 47493, 47487, 48078, 47439, 47437, 47531, 47441, 47437, 47542, 47615, 47471, 47530, 47522, 47628, 47440], [0, 47437, 47522, 47843, 47590, 47437, 47524, 47484, 47517, 47453, 47437, 47461, 47797, 47437, 48249, 48062, 47438, 47437, 47487, 47932, 47437, 47617, 47749, 47442, 47437, 47979, 47519, 47437, 47743, 47934, 48301, 47437, 47764, 47459, 47448, 47440], [0, 47437, 47507, 48262, 47463, 47437, 48945, 47449, 47462, 47437, 48012, 47439, 47460, 47682, 47437, 47451, 47441, 47437, 47662, 47741, 47438, 47515, 47437, 47617, 47765, 47437, 47672, 47437, 47450, 47437, 48391, 47437, 48041, 47646, 47437, 47471, 47438, 47437, 47673, 47439, 47440], [0, 47437, 47653, 47485, 47701, 47437, 47438, 48684, 47485, 47453, 47437, 47457, 48050, 47437, 47470, 47438, 47437, 47522, 47473, 47437, 48401, 48189, 47451, 48011, 47440], [0, 47437, 47653, 47471, 47437, 47472, 47437, 47531, 48050, 47437, 47470, 47459, 47437, 47851, 47555, 47437, 47486, 47450, 47590, 47440, 47654], [0, 47437, 47609, 48428, 47463, 47437, 47487, 48145, 47517, 47437, 47629, 47665, 47437, 47463, 47441, 47445, 47437, 47497, 47738, 47439, 47915, 47515, 47484, 47439, 47437, 47538, 47556, 47437, 47962, 47659, 47444, 47437, 47445, 47929, 47437, 47491, 47448, 47441, 47437, 47469, 47872, 47438, 47533, 47437, 47542, 47615, 47474, 47446, 47437, 47546, 48305, 47593, 47881, 47437, 47448, 47441, 47437, 48090, 47451, 47688, 47439, 47440], [0, 47437, 47653, 47522, 47687, 47437, 47625, 47455, 47518, 47437, 47468, 47578, 47475, 47627, 47445, 47437, 47962, 47538, 47786, 47437, 47637, 47438, 47580, 47774, 47654], [0, 47437, 47468, 47578, 47475, 47627, 47445, 47437, 47448, 48129, 47437, 47637, 47444, 47437, 47493, 47459, 47437, 47784, 47568, 47442, 47437, 47499, 47713, 47502, 47474, 47446, 47437, 48056, 47441, 47437, 47822, 47437, 47529, 47638, 47473, 47437, 48013, 47639, 47450, 47437, 47924, 47603, 47437, 48090, 47450, 47437, 47485, 47537, 47443, 47437, 47962, 48033, 47438, 47437, 47633, 48120, 47445, 47443, 47437, 47924, 47802, 47442, 47437, 47487, 47738, 47487, 47738, 47451, 47688, 47439, 47440], [0, 47437, 48154, 47467, 47446, 47437, 47556, 47516, 47437, 47524, 47449, 47454, 47437, 47578, 47449, 47448, 47437, 47460, 47531, 47437, 47473, 47448, 47437, 47926, 47441, 47981, 47515, 47439, 47440], [0, 47437, 47450, 47437, 47902, 47659, 47437, 47671, 47437, 47902, 47659, 47437, 47720, 47438, 47437, 47448, 47627, 47832, 47437, 47893, 47467, 47694, 47437, 47522, 47443, 47437, 47538, 47659, 47507, 47576, 47437, 48126, 47482, 47451, 47517, 47437, 47821, 47522, 47593, 48183, 47439, 47440], [0, 47437, 47522, 47443, 47437, 47544, 47831, 47544, 47831, 47437, 47801, 49283, 47437, 47962, 48033, 47442, 47437, 47483, 47875, 47438, 47437, 48142, 47441, 47437, 48090, 47453, 47437, 47770, 47437, 48429, 47486, 47437, 48985, 47444, 47437, 47460, 47847, 5, 47517, 47437, 47497, 47670, 47491, 48988, 47438, 47437, 48457, 47688, 47578, 47787, 47437, 47644, 47632, 48449, 48449, 47450, 47437, 47962, 48033, 47438, 47437, 47609, 48243, 47437, 47637, 47490, 47454, 47437, 47524, 47449, 47674, 47449, 47437, 47447, 47859, 47438, 47437, 47863, 47447, 47437, 47467, 47980, 47463, 47437, 47477, 47455, 47611, 47437, 48429, 48327, 47442, 47494, 47437, 47538, 47556, 47437, 48092, 48480, 47437, 47761, 47438, 47462, 47437, 47578, 48023, 47446, 47437, 47990, 47524, 47437, 47951, 47459, 47437, 48090, 47450, 47437, 47633, 48120, 47445, 47443, 47437, 47939, 47791, 47451, 47447, 47441, 47437, 47449, 47438, 47450, 47437, 47455, 47482, 47444, 47437, 48173, 47447, 47437, 47477, 47595, 47439, 47440], [0, 47437, 47490, 47447, 47453, 47437, 47542, 47449, 47437, 47508, 47473, 47764, 47438, 47437, 47512, 47962, 47578, 47473, 47447, 47437, 48066, 47444, 47437, 47902, 47522, 48521, 47902, 47522, 48521, 47451, 47688, 47439, 47440], [0, 47437, 47451, 47447, 47437, 47564, 47571, 47459, 47437, 47691, 47507, 47450, 47437, 48090, 47438, 47437, 47464, 47635, 47578, 48314, 47443, 47437, 47962, 48033, 47444, 47437, 47609, 47490, 47484, 47559, 47437, 47937, 47461, 47637, 47764, 47438, 47453], [0, 47437, 47653, 47485, 47701, 47453, 47437, 47543, 47546, 47437, 47541, 47437, 47908, 47439, 47447, 47437, 47731, 47437, 47845, 47437, 48012, 47444, 47437, 47949, 47448, 47440], [0, 47437, 47736, 47531, 47787, 47437, 47586, 47467, 47448, 47437, 47908, 47748, 47915, 47515, 47440, 47654], [0, 47437, 47653, 48106, 47437, 47438, 47687, 47453, 47437, 47625, 47437, 47969, 47556, 47676, 47517, 47440, 47654], [0, 47437, 47438, 47437, 47729, 47460, 47462, 47437, 47558, 47437, 48003, 47812, 47654], [0, 47437, 47554, 47446, 47437, 47576, 47463, 47437, 47522, 47437, 47484, 47788, 47438, 47437, 47673, 47441, 47437, 47902, 47437, 47484, 47461, 47437, 47625, 47741, 47459, 47437, 47485, 47537, 47443, 47437, 47825, 47473, 48061, 47474, 47446, 47437, 47638, 47628, 47493, 47487, 47437, 47522, 47611, 47637, 47446, 47437, 47627, 47556, 47720, 47437, 47764, 47459, 47437, 47684, 47461, 47443, 47437, 47825, 47473, 47462, 47437, 48286, 47493, 47487, 47437, 48187, 47493, 47559, 47453], [0, 47437, 47522, 47999, 47445, 47437, 47676, 47474, 47516, 48106, 47437, 47497, 47671, 47462, 47437, 47791, 47437, 47523, 47445, 47437, 47845, 47466, 47454, 47437, 47734, 47734, 47437, 48025, 47447, 47453, 47437, 47506, 47694, 47437, 47447, 47497, 47490, 47437, 47615, 47726, 47471, 47766, 47468, 47437, 47644, 47650, 47438, 47446, 47437, 47506, 47462, 47437, 47854, 47474, 47559, 47437, 47633, 48120, 47445, 47462, 47437, 47878, 48533, 47485, 47437, 47491, 47912, 47474, 48708, 47440], [0, 47437, 47438, 47437, 47690, 47593, 47586, 47437, 48684, 47493, 47485, 47453, 47437, 47537, 47448, 47437, 48003, 47438, 47437, 47673, 47491, 47453, 47437, 47439, 47473, 5, 47439, 47497, 47462, 47437, 48567, 47487, 47437, 47951, 47444, 48684, 47493, 47437, 47764, 47474, 47515, 47440, 47654], [0, 47437, 47653, 48413, 47453, 47437, 47538, 47821, 47490, 47448, 47437, 48054, 47439, 47515, 47453, 47437, 47773, 47481, 47774, 47654], [0, 47437, 47586, 47455, 47463, 47437, 47770, 47437, 47962, 48033, 47444, 47437, 49897, 47522, 47628, 47437, 47990, 47524, 47454, 47437, 47586, 47439, 47441, 47437, 47598, 47468, 47444, 47437, 47558, 47437, 48004, 47438, 47439, 47440], [0, 47437, 47653, 47461, 47797, 47441, 47437, 47814, 48041, 47437, 47450, 48129, 47450, 47437, 47542, 47615, 47471, 47530, 47522, 47628, 47440], [0, 47437, 47522, 47441, 47437, 47671, 47473, 47685, 47671, 47473, 47685, 47437, 47457, 47516, 47444, 47437, 47801, 47682, 47595, 47439, 47440], [0, 47437, 47653, 47522, 47687, 47437, 47962, 47538, 47462, 47437, 47814, 47595, 47569, 47437, 47637, 47464, 47448, 47440, 47654], [0, 47437, 47633, 48120, 47445, 47441, 47437, 47472, 47766, 47469, 47922, 47517, 47437, 47470, 47576, 47437, 47647, 47441, 47437, 47438, 47462, 47437, 47644, 47473, 47447, 47437, 47477, 47595, 47439, 47440], [0, 47437, 47522, 48143, 47437, 47844, 47659, 47442, 47437, 47538, 47866, 47437, 47828, 47448, 47437, 47510, 47731, 47720, 47442, 47454, 47437, 47522, 47443, 47437, 47842, 47497, 47437, 47556, 47789, 47438, 47448, 47437, 47491, 47770, 47439, 47440], [0, 47437, 47653, 47438, 47843, 47437, 47531, 47490, 47734, 47437, 47504, 47812], [0, 47437, 47522, 47593, 47491, 47437, 47522, 47437, 48070, 47659, 47437, 47508, 47473, 47493, 47438, 47437, 47457, 47490, 47463, 47437, 47445, 47449, 47437, 47470, 47442, 47437, 47633, 48120, 47445, 47441, 47437, 48508, 48566, 48508, 48566, 47437, 47603, 47449, 47437, 47460, 47620, 47451, 47688, 47439, 47440], [0, 47437, 47653, 48269, 47475, 47854, 47444, 47437, 47526, 47453, 47437, 47438, 47437, 47506, 47462, 47437, 47854, 47474, 47559, 47437, 48036, 47437, 47464, 47635, 47578, 47462, 47437, 48065, 48065, 47578, 47473, 47447, 47437, 47839, 47485, 47462, 47437, 47568, 47742, 47440], [0, 47437, 48185, 47479, 48185, 47479, 47437, 47451, 47447, 47437, 48066, 47437, 47542, 47474, 47441, 47437, 47508, 47473, 47463, 47437, 47491, 47441, 47437, 48090, 48102, 47439, 47440], [0, 47437, 47633, 48120, 47445, 47443, 47437, 47924, 47459, 47437, 47814, 48041, 47437, 47521, 47521, 47437, 48029, 47473, 47449, 47437, 47460, 47620, 47451, 47688, 47439, 47440], [0, 47437, 47522, 48070, 47659, 47437, 47508, 47473, 47448, 47437, 47487, 48145, 47517, 47437, 48523, 47705, 47445, 47437, 47731, 47720, 47442, 47437, 47477, 47441, 47437, 47438, 47443, 47437, 47924, 47459, 47437, 47542, 47671, 47437, 47633, 48120, 47445, 47442, 47517, 47446, 47437, 47956, 47473, 47595, 47439, 47440], [0, 47437, 47450, 47500, 47541, 47437, 48114, 47474, 47446, 47437, 47708, 47589, 47438, 47462, 47437, 47451, 47439, 47448, 47437, 47729, 48050, 47437, 47470, 47442, 47437, 47464, 47457, 47500, 47627, 47445, 47437, 47692, 47832, 47439, 47437, 47483, 47449, 47446, 47437, 47451, 47688, 47439, 47440], [0, 47437, 47485, 47538, 47463, 47437, 47522, 47437, 47564, 47553, 47437, 47449, 47995, 47457, 47442, 47437, 47477, 47441, 47437, 47438, 47446, 47437, 47500, 47449, 47560, 47564, 47444, 47437, 47438, 47539, 47451, 47524, 47437, 47969, 47744, 47451, 47628, 47437, 47683, 47438, 47473, 47490, 47440], [0, 47437, 47679, 48382, 47442, 47437, 48786, 48121, 47437, 48459, 47437, 47671, 47437, 47521, 47462, 47437, 48390, 48422, 48390, 48422, 47437, 48745, 47487, 47454, 47437, 47936, 47444, 47437, 47668, 48372, 47578, 47473, 47559, 47437, 47730, 47437, 48501, 47669, 47449, 47437, 47671, 47437, 48129, 47444, 47437, 47476, 47487, 47490, 47437, 47451, 47688, 47439, 47440], [0, 47437, 47701, 47490, 47454, 47437, 47443, 47457, 47442, 47517, 47437, 47484, 47464, 47437, 47502, 47438, 47437, 47673, 47474, 47515, 47437, 47555, 48091, 47437, 47751, 47464, 47445, 47441, 47437, 47760, 47437, 47467, 47437, 47673, 47474, 47562, 47437, 47599, 48090, 47438, 47437, 47821, 47832, 47437, 47448, 47445, 47447, 47437, 47471, 47487, 47491, 47449, 47441, 47437, 47743, 47446, 47437, 47542, 47446, 47463, 47437, 47845, 47437, 49256, 47441, 47437, 47902, 47437, 47484, 47516, 47437, 47512, 47643, 47459, 47437, 47512, 47643, 47464, 47437, 48090, 47440], [0, 47437, 47633, 48120, 47445, 47441, 47437, 47528, 47466, 47437, 47719, 47462, 47437, 47493, 47438, 47538, 47460, 47559, 47453], [0, 47437, 47653, 47544, 47473, 47437, 47538, 47821, 47490, 47448, 47437, 48054, 47595, 47439, 47797, 47440, 47654], [0, 47437, 47522, 47437, 47564, 47571, 47444, 47437, 47692, 47544, 47447, 47437, 47491, 47510, 47437, 47633, 48120, 47445, 47443, 47437, 47439, 47473, 47441, 47437, 47438, 47482, 47451, 47517, 47437, 47578, 48004, 47451, 47688, 47439, 47440], [0, 47437, 47743, 47789, 47469, 47593, 47586, 47437, 47980, 47628, 47448, 47437, 47522, 47443, 47437, 47448, 48299, 47444, 47437, 48534, 48287, 47439, 47440], [0, 47437, 47522, 47437, 47709, 47508, 47473, 47441, 47437, 48062, 47720, 47486, 47437, 48690, 47681, 47474, 47446, 47437, 47528, 47451, 47447, 47437, 48681, 48681, 47451, 47688, 47439, 47440], [0, 47437, 48106, 47437, 47924, 47444, 47437, 47609, 47771, 47437, 48176, 47445, 47437, 47845, 47466, 47812, 47654, 47451, 47447, 47437, 48564, 47441, 47437, 47438, 47443, 47437, 48985, 47444, 47437, 47450, 47437, 47685, 47437, 47577, 47628, 47893, 48181, 47439, 47440], [0, 47437, 47653, 47438, 48684, 47485, 47453, 47437, 47522, 47902, 47437, 48012, 47447, 47437, 47804, 47558, 47437, 47537, 48011, 47453, 47437, 47487, 47454, 47437, 47690, 47437, 48012, 47487, 47440, 47654], [0, 47437, 47451, 47461, 47538, 47461, 47437, 47883, 47473, 48177, 47444, 47437, 48472, 48561, 48472, 48561, 47451, 47690, 47515, 47437, 47471, 47437, 47472, 48116, 47473, 47437, 47450, 47437, 47475, 47444, 47437, 48286, 47537, 47487, 47437, 47512, 47455, 47448, 47473, 47437, 47802, 47442, 47437, 48664, 48566, 47437, 47720, 47487, 47705, 47816, 47439, 47440], [0, 47437, 47438, 47724, 47438, 47611, 47637, 47446, 47437, 47500, 47508, 47518, 47437, 47541, 47442, 47454, 47437, 47464, 47635, 47578, 48314, 47437, 47644, 48558, 47444, 47437, 47451, 47441, 47437, 47633, 48120, 47445, 47442, 47517, 47441, 47437, 47531, 47687, 47568, 47494, 47442, 47463, 47437, 48096, 47842, 47437, 47586, 47467, 47437, 47908, 47459, 47437, 47724, 47438, 47595, 47439, 47437, 47440], [0, 47437, 47522, 47632, 48521, 47578, 47473, 47441, 47437, 48066, 47508, 47473, 47507, 47576, 47437, 47493, 47444, 47437, 47467, 47437, 47673, 47439, 47440], [0, 47437, 47690, 47497, 47491, 47437, 47438, 47724, 47437, 47438, 47675, 47442, 47437, 47438, 47437, 48035, 48050, 47437, 47470, 47438, 47490, 47441, 47437, 48003, 47438, 47437, 47522, 47442, 47517, 47437, 47962, 47538, 47491, 47437, 47529, 47539, 47450, 47445, 47437, 47956, 48119, 47439, 47440], [0, 47437, 47555, 48091, 47437, 47471, 47438, 47437, 47477, 47690, 47490, 47463, 47437, 47481, 47471, 47437, 47481, 47438, 47443, 47437, 47552, 47586, 47444, 47437, 48501, 47842, 47437, 47526, 47484, 47439, 47447, 47437, 47531, 47665, 47628, 47437, 48069, 47793, 47438, 47437, 47778, 47459, 47437, 47438, 47437, 47552, 47586, 47444, 47437, 47951, 48109, 47437, 47467, 47437, 47673, 47439, 47437, 47451, 47688, 47439, 47440], [0, 47437, 47531, 47787, 47437, 47822, 47444, 47437, 47692, 47447, 47437, 47468, 47578, 47475, 47442, 47437, 47448, 47445, 47437, 47676, 47748, 47790, 47491, 47440, 47654], [0, 47437, 47653, 47440, 47440, 47440, 47440, 47440, 47440, 47654], [0, 47437, 47522, 47593, 47461, 47437, 48505, 48505, 47437, 47451, 47447, 47437, 47544, 47441, 47437, 47521, 48811, 47438, 47443, 47437, 47964, 47492, 47444, 47437, 47493, 47459, 47437, 48090, 48102, 47439, 47440], [0, 47437, 47461, 47449, 47462, 47437, 47801, 47628, 47437, 47666, 47437, 47459, 47464, 47438, 47491, 47437, 47555, 48160, 47764, 47438, 47437, 47447, 48788, 47449, 47463, 47437, 47451, 47688, 47439, 47440], [0, 47437, 47442, 47437, 47448, 47627, 47586, 47437, 47814, 47438, 47462, 47437, 47451, 47688, 47439, 47441, 47437, 47449, 48624, 47444, 47437, 47558, 47437, 47467, 47437, 47477, 47474, 47516, 47437, 47531, 47687, 47437, 47445, 47515, 47447, 47437, 48102, 47595, 47439, 47440], [0, 47437, 47653, 47438, 47504, 47485, 47453, 47437, 47637, 47444, 47437, 47466, 47453, 47437, 47637, 47444, 47812], [0, 47437, 47468, 47637, 47437, 48054, 47595, 47491, 47437, 47750, 47438, 47440, 47654], [0, 47437, 47522, 47473, 47447, 47437, 47731, 47444, 47437, 48612, 47441, 47437, 47689, 47439, 48354, 47437, 47801, 47437, 48397, 47639, 47450, 47437, 47512, 47455, 47448, 47473, 47442, 47517, 47446, 47437, 47638, 47628, 47493, 47559, 47453], [0, 47437, 47538, 47659, 47459, 47437, 47664, 47451, 47447, 47437, 47668, 47828, 47459, 47437, 47638, 47445, 47437, 47676, 47485, 47437, 47791, 47437, 47819, 47445, 47463, 47437, 47676, 47459, 47437, 47526, 47444, 47437, 47522, 47437, 47531, 47490, 47734, 47504, 47438, 47437, 49607, 47448, 47855, 47459, 47437, 47447, 47494, 47671, 47447, 47437, 47822, 47474, 47446, 47437, 47892, 48045, 47454, 47437, 47671, 47437, 48985, 47442, 47437, 47483, 48012, 48422, 47438, 47437, 47764, 47459, 47437, 48001, 47438, 47437, 47668, 47578, 47445, 47463, 47694, 47437, 47821, 47448, 47437, 48246, 48448, 47444, 48090, 47438, 47437, 47704, 47650, 47734, 47451, 47690, 47515, 47494, 47437, 47522, 47724, 47437, 47674, 48383, 47476, 47561, 47437, 47448, 48299, 47438, 47437, 49108, 47930, 47439, 47453, 47437, 47669, 47448, 47437, 5, 47930, 47439, 47447, 47437, 47924, 47444, 47437, 48153, 48176, 47447, 47437, 47445, 48410, 47751, 47444, 47437, 47451, 47688, 47439, 47440], [0, 47437, 47962, 47538, 47437, 47494, 47442, 47437, 47449, 47576, 47441, 47437, 47912, 47447, 47437, 47467, 48050, 47437, 47540, 47438, 47491, 47437, 47562, 47441, 47437, 47822, 47438, 47437, 47468, 47805, 47475, 47474, 47446, 47437, 48339, 47485, 47881, 47437, 47491, 47912, 47439, 47440], [0, 47437, 48068, 47442, 47437, 47854, 47485, 47437, 48010, 47487, 47519, 47437, 48003, 47459, 47437, 47439, 47460, 47437, 47731, 47437, 48694, 47438, 47441, 47437, 47615, 48651, 47442, 47437, 48010, 47487, 47445, 47559, 47437, 47468, 47548, 47450, 47437, 47597, 47462, 47437, 47854, 47441, 47439, 47441, 47437, 48090, 47438, 47437, 5, 47437, 47451, 47447, 47437, 47603, 47595, 47439, 47440], [0, 47437, 47653, 47541, 47437, 48054, 47595, 47487, 47453, 47437, 47541, 47437, 48054, 47595, 47455, 47463, 47437, 47522, 47687, 47440, 47654], [0, 47437, 47451, 47447, 47441, 47437, 47556, 47789, 47443, 47437, 47969, 47462, 47437, 47921, 47485, 47437, 47556, 47559, 47437, 47804, 47450, 47437, 47438, 47441, 47437, 47476, 47632, 49050, 47595, 47439, 47440], [0, 47437, 47653, 48082, 47487, 48012, 47444, 47437, 49291, 47862, 47438, 47437, 47764, 47459, 47437, 47504, 47453, 47437, 47821, 47448, 47437, 47674, 47462, 47437, 47487, 48639, 47491, 47453, 47437, 47624, 48106, 47437, 47625, 47444, 47437, 47969, 48539, 47517, 47437, 48033, 47487, 47812, 47623, 47437, 47487, 47438, 47497, 47437, 47508, 47473, 47448, 47437, 47704, 47523, 47463, 47437, 47673, 47445, 47453, 47437, 47883, 47883, 47440, 47654], [0, 47437, 47438, 47437, 47447, 47683, 47438, 47611, 47637, 47446, 47437, 47481, 47437, 48062, 47444, 47437, 47966, 47631, 47466, 47437, 47531, 47441, 47437, 47555, 47460, 47555, 47460, 47450, 47437, 47643, 47444, 47437, 48533, 47485, 47437, 47750, 47473, 47628, 47441, 47437, 47883, 47475, 47492, 47530, 47464, 47437, 47627, 48399, 47438, 47439, 47440], [0, 47437, 47653, 47438, 47504, 47485, 47453, 47437, 48054, 47595, 47569, 47437, 47637, 47438, 48011, 47453, 47437, 48106, 47437, 47637, 47438, 47437, 47673, 47487, 47440, 47654], [0, 47437, 47633, 48120, 47445, 47441, 47437, 47513, 47643, 47444, 47437, 47537, 47559, 47437, 47696, 47523, 47437, 47477, 47517, 47437, 47508, 47473, 47462, 47437, 47734, 48287, 47474, 47562, 47437, 47522, 47437, 47508, 47473, 47876, 47437, 47541, 47437, 48054, 47459, 47437, 47526, 47444, 48290, 47474, 47628, 47447, 47437, 47824, 47952, 47441, 47437, 47448, 47855, 47438, 47437, 47477, 47595, 47439, 47440], [0, 47437, 47438, 47593, 47439, 47448, 47437, 47821, 47586, 47437, 47438, 47443, 47437, 48530, 47437, 47763, 47444, 47437, 48457, 47459, 47437, 47498, 47446, 47437, 47556, 48668, 47437, 47924, 47444, 47437, 47760, 47485, 47484, 47461, 47538, 47461, 47453], [0, 47437, 48003, 47437, 47778, 47438, 47437, 47814, 47595, 47444, 47817, 47515, 47437, 47450, 48129, 47437, 48198, 47473, 47517, 47440, 47654], [0, 47437, 47451, 47447, 47437, 47556, 47789, 47438, 47463, 47437, 47487, 47915, 47437, 47668, 47541, 47444, 47437, 47915, 48059, 47441, 47437, 48090, 47438, 47437, 47633, 48120, 47445, 47442, 47517, 47437, 47730, 47437, 47839, 47485, 47448, 47490, 47447, 47437, 47607, 47451, 47688, 47439, 47440], [0, 47437, 47494, 47471, 47437, 47614, 47648, 47478, 5, 49734, 47480, 47438, 47437, 47619, 47572, 47450, 47437, 47438, 47437, 47764, 47474, 47516, 47437, 47522, 47437, 49102, 49102, 47508, 47473, 47441, 47437, 48198, 47437, 47701, 47841, 47438, 47580, 47453, 47437, 48486, 48459, 48486, 48459, 47437, 47451, 47447, 47437, 48610, 47437, 47926, 47487, 47448, 47441, 47437, 47508, 47473, 47448, 47437, 47673, 47474, 47515, 47437, 48036, 47437, 48610, 47444, 47437, 5, 47439, 47441, 47437, 47526, 47463, 47437, 48225, 47620, 47558, 47441, 47445, 47437, 47542, 47632, 47473, 47490, 47440], [0, 47437, 47542, 47837, 47437, 47457, 47788, 47459, 47437, 47471, 47460, 47442, 47437, 48070, 47595, 47439, 47440], [0, 47437, 47451, 47441, 47437, 47637, 47437, 47998, 47876, 47437, 47709, 47438, 47437, 47792, 47688, 47439, 47440], [0, 47437, 47537, 47448, 47437, 47438, 47999, 47517, 47437, 47485, 48118, 47590, 47440, 47440, 47440, 47440, 47440, 47440, 47440, 47654], [0, 47437, 47720, 47438, 47437, 47576, 47576, 47437, 48279, 47487, 47437, 47893, 47467, 47694, 47437, 47633, 48120, 47445, 47443, 47437, 47902, 47659, 47442, 47441, 47437, 47439, 47460, 47563, 47437, 47523, 47438, 47437, 47491, 47449, 47437, 47460, 47620, 47451, 47688, 47439, 47440], [0, 47437, 47531, 47787, 47437, 47586, 47467, 47448, 47437, 48126, 47482, 47451, 47517, 47463, 47437, 47908, 47474, 47515, 47627, 47437, 47522, 47843, 47437, 47580, 47552, 47438, 47437, 47730, 47437, 47450, 47685, 47437, 47673, 47474, 47473, 47490, 47447, 47437, 47821, 47448, 47437, 47484, 47643, 47451, 48708, 47440], [0, 47437, 47638, 47659, 47734, 47444, 47437, 47450, 47439, 47915, 47515, 47484, 47439, 47437, 47578, 47443, 47437, 47491, 47441, 47437, 48090, 47451, 47688, 47439, 47440], [0, 47437, 47633, 48120, 47445, 47441, 47437, 47487, 48352, 47460, 47580, 47437, 47451, 47447, 47437, 47617, 47593, 48133, 47439, 47440], [0, 47437, 47510, 47731, 47720, 47459, 47437, 47931, 47931, 47451, 47447, 47437, 48176, 48020, 47451, 47688, 47439, 47440], [0, 47437, 48524, 47475, 47451, 47517, 47437, 47916, 47437, 47448, 47560, 47444, 47437, 47493, 47447, 47437, 47477, 47441, 47902, 47437, 47484, 47516, 47437, 47485, 47538, 47437, 48617, 47506, 47441, 47437, 47576, 47437, 47541, 47442, 47437, 48225, 47438, 47437, 47658, 47439, 47437, 47451, 47524, 47437, 47576, 47475, 47442, 47517, 47437, 47913, 47628, 47437, 47537, 47628, 47770, 47437, 47924, 47556, 47688, 47439, 47440], [0, 47437, 47653, 47619, 47453, 47437, 47619, 47440, 47654], [0, 47437, 47556, 47789, 47459, 47437, 47984, 47438, 47437, 47507, 47563, 47437, 48161, 47487, 47445, 47441, 47437, 47962, 48033, 47446, 47453], [0, 47437, 47522, 47999, 47439, 47447, 47437, 47468, 47578, 47475, 47437, 47464, 47635, 47578, 48314, 47443, 47437, 47511, 48298, 47438, 47437, 47555, 47454, 47544, 47515, 47437, 47468, 47578, 47475, 47437, 47802, 47442, 47437, 48133, 47444, 47437, 47467, 47441, 47437, 47673, 47595, 47439, 47440], [0, 47437, 47438, 47843, 47437, 48269, 47475, 47854, 47444, 47437, 47731, 47444, 47437, 48106, 47437, 47541, 47437, 47476, 47487, 47440, 47440, 47440, 47440, 47440, 47440, 47437, 48619, 48539, 47439, 47437, 48619, 48539, 47439, 47453, 47437, 47873, 47437, 48012, 47487, 47463, 47437, 47482, 47505, 47438, 47437, 47673, 47487, 47440], [0, 47437, 47522, 47675, 47437, 47633, 48120, 47445, 47441, 47437, 47689, 47513, 47532, 47437, 47764, 47438, 47437, 47492, 47444, 47437, 47537, 47559, 47453], [0, 47437, 47438, 47437, 47637, 47438, 47437, 47674, 47463, 47437, 47542, 47462, 47437, 47457, 47438, 47442, 47437, 47668, 48728, 47437, 47633, 48120, 47445, 47443, 47437, 47588, 47442, 47454, 47437, 48010, 47487, 47816, 47439, 47440], [0, 47437, 47653, 48106, 47437, 47438, 47473, 47544, 47453, 47437, 47449, 47576, 47437, 47951, 47556, 47790, 47497, 47974, 47440, 47654], [0, 47437, 49407, 47459, 47506, 47441, 47437, 47443, 47528, 47665, 47437, 47656, 47502, 47656, 47502, 47437, 47537, 47718, 47439, 47440], [0, 47437, 47483, 47468, 48314, 47438, 47437, 47438, 47437, 47924, 47556, 47462, 47437, 47760, 47485, 47484, 47447, 47437, 47513, 47462, 47437, 47750, 48132, 47437, 47537, 47559, 47453], [0, 47437, 47451, 47447, 47437, 47874, 47437, 47438, 47443, 47437, 47691, 47507, 47450, 47437, 47476, 47632, 49050, 47659, 47438, 47437, 47568, 47523, 47665, 47437, 47522, 47443, 47437, 47969, 47442, 47437, 47493, 47487, 47912, 47439, 47440], [0, 47437, 47438, 47437, 47684, 47461, 47448, 47437, 47522, 47593, 47447, 47463, 47437, 48012, 47441, 47437, 47590, 47441, 47437, 47617, 47473, 47445, 47437, 47676, 47748, 47439, 47440], [0, 47437, 47653, 47464, 47652, 47437, 47576, 47448, 47437, 47689, 47450, 47437, 47645, 47442, 47437, 47477, 47447, 47437, 47522, 47437, 47439, 47659, 47442, 47441, 47437, 47743, 47446, 47437, 47671, 47437, 47645, 47438, 47837, 47448, 47440, 47654], [0, 47437, 47633, 48120, 47445, 47441, 47437, 47497, 47902, 47451, 47441, 47437, 47578, 47445, 47491, 47437, 47555, 48160, 47764, 47438, 47437, 47528, 47466, 47528, 47560, 47437, 47522, 47443, 47437, 47449, 47880, 47444, 47437, 47801, 47682, 47559, 47453], [0, 47437, 47653, 47474, 47869, 47453, 47437, 47438, 47526, 47437, 48240, 47453, 47437, 47485, 47555, 47437, 47637, 47438, 47437, 47673, 47797, 47440, 47654], [0, 47437, 47490, 47447, 47437, 47611, 47569, 47444, 47437, 48074, 47439, 47440], [0, 47437, 47751, 47438, 47437, 47438, 47455, 47463, 47694, 47437, 47651, 47466, 47445, 47449, 47441, 47437, 47689, 48207, 47470, 47442, 47437, 47507, 48262, 47444, 47437, 48012, 47447, 47437, 47579, 47450, 47437, 47675, 47518, 47438, 47439, 47440], [0, 47437, 47556, 47789, 47459, 47437, 47443, 47485, 47450, 47437, 48090, 47438, 47437, 47633, 48120, 47445, 47462, 47437, 47484, 47559, 47453], [0, 47437, 47653, 47524, 47484, 47517, 47437, 47730, 47437, 48612, 47439, 47515, 47453, 47437, 47814, 48041, 47437, 47544, 47473, 47448, 47437, 48607, 47437, 48129, 48134, 47437, 48012, 47595, 47797, 47453, 47437, 48003, 47438, 47437, 47457, 48050, 47437, 47470, 47471, 47530, 47440, 47654], [0, 47437, 47481, 47437, 47461, 47594, 49309, 48034, 47442, 47437, 47541, 47437, 47562, 47441, 47437, 47487, 47718, 47437, 47822, 48053, 47442, 47517, 47437, 48147, 47437, 47685, 47437, 47883, 47473, 47462, 47437, 48644, 47665, 47559, 47453], [0, 47437, 47522, 47593, 47491, 47437, 47522, 47443, 47437, 47619, 47640, 47478, 5, 49932, 47480, 47459, 47437, 48037, 47473, 47445, 47437, 47676, 47748, 47439, 47440], [0, 47437, 47522, 47437, 47524, 47564, 47571, 47464, 47445, 47437, 47494, 47445, 47448, 47437, 47450, 47736, 47459, 47437, 47597, 47544, 47437, 47675, 48379, 47444, 47437, 48246, 47559, 47437, 47588, 47731, 47444, 47437, 48337, 47437, 47439, 47518, 47437, 47791, 47437, 47633, 48120, 47445, 47462, 47437, 47578, 47493, 48056, 47484, 47445, 47463, 47437, 47676, 47748, 47439, 47440], [0, 47437, 47439, 47494, 47437, 47438, 47437, 47555, 48415, 47437, 47764, 47459, 47437, 47866, 48317, 47444, 47437, 48161, 48176, 47473, 47441, 47437, 48863, 47437, 48161, 48176, 47718, 47439, 47915, 47515, 47484, 47439, 47437, 47450, 47899, 47437, 47690, 47437, 47866, 48317, 47444, 47437, 48209, 47517, 47437, 47451, 47447, 47437, 47668, 47828, 47451, 47517, 47437, 47451, 47441, 47437, 49102, 49102, 47437, 47451, 47441, 47437, 47522, 49278, 47450, 47437, 47508, 47473, 47453, 47437, 47487, 47718, 47824, 47443, 47437, 48610, 47437, 47979, 47441, 47437, 47508, 47473, 47448, 47437, 47724, 47437, 48004, 47438, 47439, 47440], [0, 47437, 47522, 47611, 47637, 47446, 47437, 47543, 47467, 47448, 47437, 48682, 47990, 47487, 47454, 47437, 47667, 47437, 47689, 48207, 47437, 47500, 47541, 47437, 48003, 47437, 47497, 47499, 47463, 47437, 47845, 47450, 47437, 47633, 48120, 47445, 47441, 47437, 48050, 47437, 47470, 48116, 47473, 47437, 47827, 47500, 47513, 47437, 47454, 47437, 48651, 47453, 47437, 47730, 47441, 47437, 47439, 48354, 47437, 48651, 47438, 47437, 47768, 49291, 47437, 47451, 47447, 47437, 47822, 47609, 48096, 47442, 47437, 48010, 47487, 47734, 47437, 47481, 47437, 47578, 47443, 47437, 47924, 47617, 47444, 47437, 48207, 48018, 47437, 47494, 48013, 47437, 47449, 49824, 47595, 47439, 47440], [0, 47437, 47438, 49278, 47447, 47437, 48305, 47441, 47437, 47438, 47443, 47437, 47439, 47473, 47441, 47437, 47555, 47578, 47832, 47816, 47439, 47440], [0, 47437, 48124, 47476, 47491, 47437, 47575, 47437, 48090, 47438, 47437, 47449, 49824, 47439, 47440], [0, 47437, 47438, 47843, 47437, 48082, 47487, 48012, 47444, 47437, 47481, 47437, 47558, 47546, 47462, 47437, 47990, 47444, 47437, 47506, 47448, 47437, 48106, 47437, 47625, 47443, 47437, 47482, 47681, 47444, 47437, 48432, 48432, 47437, 47675, 47628, 47812, 47654], [0, 47437, 47522, 47437, 47531, 47490, 47734, 47437, 47504, 47438, 47437, 48262, 47444, 47437, 48054, 47438, 47445, 47440], [0, 47437, 47490, 47447, 47437, 47483, 47443, 47460, 48192, 47439, 47440], [0, 47437, 47653, 47442, 47438, 47453, 47437, 47531, 47490, 47734, 47504, 47453, 47437, 47507, 47859, 47726, 47459, 47437, 47558, 47437, 47467, 47448, 47437, 47673, 47487, 47453, 47437, 47845, 47437, 48012, 47487, 47437, 47751, 47453, 47437, 48012, 47487, 47454, 47437, 47751, 47812], [0, 47437, 47521, 48811, 47438, 47448, 47437, 47617, 47595, 47705, 47437, 48610, 47444, 47437, 48246, 47487, 47437, 47951, 47447, 47437, 47586, 47439, 47440], [0, 47437, 47720, 47438, 47490, 47437, 47466, 47463, 47437, 47617, 47765, 48277, 47720, 47438, 47580, 47437, 47730, 47437, 47720, 47437, 47470, 47579, 47462, 47437, 47530, 47837, 47437, 47517, 47437, 47485, 47515, 47490, 47437, 47541, 47486, 47437, 48515, 47437, 48010, 47487, 47519, 47437, 47552, 47859, 47560, 47437, 47450, 47437, 47568, 47444, 47437, 48082, 47628, 47437, 47837, 47437, 47526, 47464, 47590, 47437, 47617, 47444, 47437, 47828, 47487, 47437, 47455, 47447, 47437, 47450, 47437, 47638, 47442, 47437, 47471, 47437, 47472, 48134, 47437, 47537, 47441, 47437, 47561, 47438, 47439, 47440], [0, 47437, 47518, 47917, 47437, 47633, 48120, 47445, 47441, 47437, 47546, 47842, 47437, 48090, 47438, 47437, 47481, 47437, 47962, 48033, 47444, 47437, 48054, 47459, 47437, 47438, 47443, 47437, 47962, 48033, 47442, 47437, 47450, 47590, 47437, 47506, 47506, 47455, 47559, 47437, 47512, 47962, 47578, 47946, 47439, 47440], [0, 47437, 48106, 47437, 47491, 47462, 47437, 47609, 47490, 47484, 47445, 47437, 47845, 47451, 47447, 47437, 47652, 47475, 47494, 47437, 47484, 47915, 48011, 47453, 47437, 47869, 47440, 47654], [0, 47437, 47451, 47447, 47437, 47544, 47441, 47437, 47438, 47443, 47437, 48035, 47444, 47437, 47921, 47485, 47548, 47449, 47595, 47439, 47440], [0, 47437, 47653, 47625, 47455, 47518, 47437, 47468, 47578, 47475, 47627, 47445, 47437, 47962, 47538, 47580, 47440, 47654], [0, 47437, 47464, 47481, 47437, 47491, 47450, 47817, 47437, 47629, 47748, 47439, 47440, 47654], [0, 47437, 47633, 48120, 47445, 47441, 47437, 47438, 47437, 47842, 47497, 47462, 47437, 47494, 47612, 47437, 47517, 47437, 47487, 48145, 47517, 47437, 47599, 47448, 47586, 47445, 47437, 47956, 48119, 47439, 47440], [0, 47437, 47633, 48120, 47445, 47441, 47437, 47804, 47512, 47442, 47463, 47437, 47606, 48521, 48125, 47444, 47437, 47457, 47448, 47445, 47447, 47437, 47720, 47442, 47437, 47439, 47439, 48119, 47439, 47440], [0, 47437, 47451, 47447, 47453, 47437, 47633, 48120, 47445, 47441, 47437, 47730, 47439, 47460, 47437, 47638, 47659, 47734, 47451, 47688, 47439, 47440], [0, 47437, 47653, 47522, 47687, 47454, 47440, 47654], [0, 47437, 47653, 47487, 47453, 47437, 47438, 47437, 47457, 47788, 47437, 47804, 47489, 47680, 47453, 47437, 47522, 47494, 47671, 47530, 47440, 47654], [0, 47437, 47522, 47593, 47491, 47437, 48036, 47437, 47464, 47635, 47578, 47462, 47437, 48065, 48065, 47578, 47473, 47559, 47437, 47438, 47437, 47544, 47512, 47442, 47437, 47839, 47485, 47893, 47437, 47471, 47438, 47437, 48175, 48034, 47438, 47595, 47439, 47440], [0, 47437, 47653, 47442, 47546, 47462, 47437, 47990, 47444, 47437, 47438, 47437, 47531, 47490, 47734, 47437, 48684, 47493, 47437, 47764, 47474, 47515, 47453, 47437, 47438, 48684, 47437, 47537, 47448, 47437, 48003, 47438, 47437, 47673, 47444, 47437, 47867, 47437, 47760, 47447, 47440, 47654], [0, 47437, 47487, 48639, 47786, 47437, 47637, 47438, 47611, 47812], [0, 47437, 47653, 47485, 47733, 47453, 47437, 47464, 47635, 47578, 47437, 47485, 47515, 47437, 47647, 47460, 48352, 47460, 47580, 47440, 47654], [0, 47437, 47461, 47449, 47462, 47437, 47668, 47593, 47437, 48484, 48008, 47437, 47457, 47788, 47438, 47437, 47522, 47437, 47564, 47553, 47437, 47564, 47571, 47464, 47437, 47867, 47437, 47633, 48120, 47445, 47441, 47437, 47450, 47685, 47437, 47484, 47447, 47437, 48225, 47620, 47558, 47437, 47467, 47437, 47477, 47595, 47439, 47440], [0, 47437, 47653, 47471, 47437, 47472, 47437, 47531, 48050, 47437, 47470, 47494, 47437, 48825, 47460, 47580, 47440, 47654], [0, 47437, 48295, 47473, 47462, 47437, 48033, 47473, 47441, 47437, 47552, 47586, 47438, 47437, 48337, 47437, 47461, 47449, 47462, 47437, 47449, 47439, 47473, 47447, 47437, 47477, 47439, 47447, 47437, 47537, 47449, 47462, 47437, 47466, 47463, 47437, 47908, 47444, 47437, 47494, 47450, 47437, 48290, 47659, 47444, 47437, 48079, 47517, 47437, 47562, 47595, 47439, 47440], [0, 47437, 47522, 47473, 47447, 47437, 47751, 47461, 47443, 47437, 47892, 48728, 47437, 47493, 47487, 47568, 47437, 47924, 47438, 47437, 47472, 47766, 47451, 47441, 47437, 48090, 47438, 47437, 47461, 47449, 47462, 47437, 47644, 47473, 47441, 47437, 48090, 47451, 47688, 47439, 47440], [0, 47437, 48579, 47486, 47437, 48450, 47617, 47438, 47437, 48542, 47524, 47437, 48115, 47632, 47441, 47437, 47709, 48259, 47546, 47462, 47437, 47449, 47841, 47483, 47825, 47515, 47448, 47437, 47439, 47575, 47437, 48106, 47709, 47437, 47467, 47618, 47474, 47446, 47437, 48719, 47474, 47559, 47453, 47437, 47522, 47437, 47564, 47553, 47437, 47518, 47444, 47437, 47839, 47485, 47437, 47491, 47699, 47437, 47675, 47688, 47439, 47440], [0, 47437, 47653, 47625, 47455, 47518, 47437, 47468, 47578, 47475, 47627, 47445, 47437, 47637, 48364, 47588, 47515, 47627, 47440, 47654], [0, 47437, 47438, 47843, 47437, 47637, 47444, 47437, 47451, 47559, 47437, 47564, 47571, 47459, 47437, 47447, 47521, 47462, 47437, 47449, 48070, 47451, 47688, 47439, 47440], [0, 47437, 47464, 47635, 47578, 47448, 47437, 47555, 47578, 47832, 47445, 47597, 47437, 47522, 47443, 47437, 48062, 47459, 47437, 47438, 47482, 47451, 47517, 47463, 47437, 47448, 48363, 47832, 47816, 47447, 47437, 47522, 47473, 47447, 47437, 47730, 47437, 47464, 47635, 47578, 47448, 47437, 47448, 48363, 47832, 47445, 47515, 47437, 48062, 47459, 47437, 47439, 47460, 47563, 47437, 47555, 47578, 47832, 47816, 47618, 47494, 47437, 47438, 47685, 47442, 47441, 47437, 47538, 47659, 47507, 47576, 47437, 47691, 47507, 47466, 47437, 47770, 47439, 47440], [0, 47437, 47507, 48262, 47463, 47437, 47845, 47437, 48012, 47441, 47437, 47504, 47438, 47437, 47606, 48521, 48125, 47459, 47440], [0, 47437, 48534, 47593, 47437, 48501, 47669, 47449, 47437, 47450, 47437, 48129, 47444, 47437, 47730, 47437, 47538, 48360, 47439, 47440], [0, 47437, 47490, 47447, 47437, 47512, 47962, 47578, 47718, 47439, 47440], [0, 47437, 47653, 48240, 47490, 47437, 48240, 47812], [0, 47437, 47531, 47787, 47437, 47537, 47448, 47437, 48003, 47444, 47437, 47873, 47437, 47814, 47595, 47487, 47440], [0, 47437, 48070, 47441, 47437, 47438, 47441, 47437, 47690, 47987, 47437, 48070, 47474, 47559, 47453], [0, 47437, 47953, 47437, 47685, 47442, 47437, 47789, 48050, 47470, 47437, 47453, 47437, 48072, 47932, 47437, 47685, 47442, 47437, 47531, 48050, 47470, 47437, 47655, 47437, 47485, 47866, 47437, 48343, 47609, 47788, 47442, 47437, 47522, 47473, 47437, 48381, 47556, 47437, 47676, 47459, 47437, 47471, 47438, 47595, 47439, 47440], [0, 47437, 47522, 47593, 47491, 47437, 47554, 47828, 47442, 47437, 47791, 47438, 47441, 47437, 47618, 47437, 47457, 47788, 47443, 47437, 47801, 47438, 47437, 47485, 47515, 47447, 47437, 47491, 47555, 47511, 47902, 47486, 47437, 47764, 47459, 47437, 47915, 48367, 47438, 47437, 47477, 47595, 47439, 47440], [0, 47437, 47633, 48120, 47445, 47443, 47437, 47924, 47460, 47603, 47463, 47437, 48176, 48319, 48176, 48319, 47451, 47688, 47439, 47440], [0, 47437, 47656, 47487, 48125, 47444, 47437, 48694, 47438, 47441, 47437, 48924, 48400, 48776, 47444, 47437, 47689, 47437, 47502, 47538, 47439, 47437, 48623, 47517, 48623, 47517, 47437, 48056, 47531, 47632, 47441, 47437, 48530, 47633, 47437, 47679, 48382, 47442, 47454, 47437, 48722, 47445, 48173, 48722, 47445, 48173, 47437, 47497, 47832, 47445, 47441, 47437, 47851, 47506, 47485, 47515, 47497, 47438, 47559, 47437, 47481, 47729, 47438, 47559, 47437, 47568, 47438, 47559, 47437, 48190, 48909, 47438, 47559, 47437, 47686, 47487, 47559, 47437, 48036, 47455, 48459, 47440, 47440, 47440, 47440, 47440, 47440, 47438, 47437, 47851, 47674, 47567, 47451, 47517, 47437, 47787, 47487, 47951, 47464, 47437, 47541, 47483, 47437, 48019, 47461, 47442, 47437, 47633, 48120, 47445, 47441, 47437, 48069, 47461, 47449, 47437, 47629, 47438, 47437, 47952, 47628, 47454, 47437, 47818, 48389, 47437, 47467, 47437, 47673, 47595, 47439, 47440], [0, 47437, 47468, 47578, 47475, 47444, 47437, 48056, 47491, 47441, 47437, 47522, 47443, 47437, 47554, 47828, 47459, 47437, 47985, 47437, 47451, 47491, 47437, 47673, 47595, 47439, 47440], [0, 47437, 47522, 47441, 47437, 47996, 47667, 47996, 47667, 47437, 47522, 47437, 47524, 47461, 47443, 47437, 48653, 47474, 47446, 47437, 47439, 47448, 47493, 47595, 47439, 47440], [0, 47437, 47451, 47447, 47437, 48212, 47831, 48212, 47831, 47437, 48070, 47441, 47437, 47576, 47476, 47443, 47437, 47962, 48033, 47442, 47441, 47437, 48066, 47828, 47437, 47467, 47437, 47673, 47441, 47437, 47449, 48624, 47438, 47437, 47926, 47929, 48207, 48287, 47439, 47440], [0, 47437, 47653, 47522, 47593, 47516, 47437, 47638, 47490, 47441, 47437, 47455, 47446, 47437, 47867, 47437, 47561, 47438, 47515, 47437, 48198, 47473, 47437, 47448, 47580, 47440, 47654], [0, 47437, 47491, 47555, 47437, 47511, 47902, 47438, 47491, 47437, 47555, 48160, 47437, 47764, 47447, 47437, 47481, 47437, 47526, 47437, 47764, 47445, 47463, 47437, 47676, 47459, 47437, 47439, 47473, 47462, 47437, 47528, 47466, 47437, 48023, 49050, 47474, 47559, 47437, 47734, 48466, 47893, 48466, 47437, 48131, 47441, 47437, 47467, 48034, 47442, 47437, 47673, 47595, 47439, 47440], [0, 47437, 47773, 48020, 47437, 48161, 47638, 47474, 47515, 47437, 47633, 48120, 47445, 47441, 47437, 47464, 47635, 47578, 47462, 47437, 48941, 47437, 47791, 47437, 47828, 47437, 47450, 47726, 47681, 47442, 47437, 48505, 47578, 47483, 48177, 47437, 48484, 48156, 47437, 47477, 47445, 47437, 47676, 47459, 47448, 47440], [0, 47437, 47451, 47447, 47437, 47633, 48120, 47445, 47441, 47437, 47962, 48033, 47444, 47437, 48228, 47454, 47437, 48070, 47595, 47439, 47440], [0, 47437, 47704, 47659, 47437, 47526, 47437, 48072, 47932, 47437, 47526, 47474, 47446, 47437, 47447, 47494, 47437, 47494, 47823, 47451, 47688, 47659, 47471, 47627, 47774], [0, 47437, 47522, 47593, 47461, 47437, 47536, 47437, 47457, 47788, 47443, 47437, 47924, 47442, 47454, 47437, 48010, 47487, 47519, 47437, 48399, 47443, 47437, 48811, 47437, 47764, 47459, 47437, 47924, 47617, 47438, 47437, 48054, 47459, 47437, 47438, 47443, 47437, 49501, 49501, 47450, 47437, 47962, 48033, 47444, 47437, 47487, 48794, 47487, 48794, 47437, 47502, 47460, 47595, 47439, 47440], [0, 47437, 48730, 48730, 47484, 47441, 47437, 47637, 47490, 5, 47438, 47462, 47437, 47484, 47705, 47437, 48061, 47442, 47437, 47476, 47632, 49050, 47595, 47439, 47440], [0, 47437, 47653, 47531, 47787, 47459, 47437, 47491, 47448, 47445, 47437, 47637, 47485, 47580, 47440], [0, 47437, 47522, 47473, 47447, 47437, 47720, 47444, 47437, 47491, 47699, 47437, 47481, 47437, 47485, 47537, 47443, 47437, 47476, 48019, 47438, 47437, 47538, 47659, 47438, 47437, 5, 47449, 47595, 47439, 47437, 47655, 47437, 47802, 47720, 47437, 47538, 47538, 48053, 47450, 47817, 47454, 47437, 47476, 47632, 47593, 47437, 47912, 47444, 47437, 47481, 47437, 47751, 47464, 47459, 47437, 48452, 47494, 47437, 47625, 47459, 47437, 47962, 48033, 47442, 47437, 47529, 47471, 47443, 47437, 48420, 47617, 47437, 47764, 47459, 47437, 47529, 47638, 47473, 47437, 47658, 47447, 47437, 47892, 48881, 47450, 47437, 47924, 47442, 47437, 47824, 47902, 47451, 47441, 47437, 48162, 47444, 47437, 48447, 47544, 47559, 47453], [0, 47437, 47653, 47541, 48439, 47665, 47437, 47439, 47942, 48374, 47460, 47580, 47440, 47654], [0, 47437, 47720, 47443, 47437, 47711, 47499, 47438, 47437, 47461, 48023, 47437, 47924, 47802, 47442, 47437, 47487, 47738, 47578, 47473, 47487, 47437, 47464, 47481, 47437, 47580, 47552, 47444, 47437, 47609, 48410, 47437, 47524, 47529, 47463, 47437, 47673, 47595, 47439, 47440], [0, 47437, 47653, 47438, 47437, 47457, 47788, 47438, 47437, 47468, 47637, 47437, 47546, 48074, 47569, 47437, 47637, 47464, 47448, 47440], [0, 47437, 47485, 47515, 47439, 47437, 47621, 47719, 47437, 47485, 47515, 47439, 47440], [0, 47437, 47653, 47485, 47733, 47453, 47437, 47468, 47578, 47475, 47437, 47824, 47493, 47484, 47742, 47437, 47485, 47483, 47437, 48075, 47517, 47437, 47542, 48149, 47439, 47437, 47557, 47473, 47790, 47631, 47515, 47439, 47440], [0, 47437, 47522, 47443, 47437, 47485, 47537, 47448, 47437, 47449, 47866, 47474, 47446, 47437, 48377, 48372, 47578, 47473, 47449, 47441, 47437, 47814, 48041, 47437, 47638, 47602, 47448, 47437, 47926, 47595, 47439, 47440], [0, 47437, 47653, 47438, 47843, 47437, 47531, 47490, 47734, 47437, 47504, 47453, 47437, 47483, 47611, 47475, 47652, 47437, 47821, 47832, 47494, 47437, 47477, 47474, 47516, 47437, 47481, 47471, 47438, 47611, 47440], [0, 47437, 47560, 47437, 47541, 47442, 47437, 47493, 47487, 47454, 47559, 47437, 47606, 48521, 48125, 47444, 47437, 47450, 47497, 47679, 47442, 47437, 47951, 47444, 47437, 47457, 47438, 47463, 47437, 47673, 47438, 47437, 47483, 47468, 48314, 47459, 47437, 47709, 47614, 47444, 47437, 47477, 47441, 47437, 47455, 47446, 47437, 47439, 47437, 47537, 47487, 47437, 47616, 47545, 47444, 47437, 48074, 47439, 47440], [0, 47437, 47522, 48143, 47437, 47844, 47659, 47442, 47437, 47522, 47443, 47437, 47825, 47473, 47876, 47437, 47730, 47437, 47743, 47446, 47586, 47437, 47711, 47540, 47438, 47437, 47506, 48074, 47491, 47515, 47437, 47522, 47526, 47459, 47437, 47624, 47438, 47593, 47497, 47437, 47893, 47437, 47517, 47437, 47485, 47515, 47490, 47437, 47438, 47437, 47667, 47704, 47462, 47437, 48212, 48212, 47437, 47839, 47559, 47437, 47576, 47437, 47531, 47449, 47462, 47437, 47449, 47439, 47473, 47516, 47437, 47730, 47437, 47822, 48053, 47444, 47437, 47692, 47544, 47517, 47437, 47815, 47441, 47445, 47463, 47437, 47956, 47490, 47623, 47786, 47437, 47571, 47648, 47438, 47595, 47439, 47440], [0, 47437, 47730, 47437, 47450, 47437, 48129, 47437, 48012, 47447, 47437, 47491, 47454, 47437, 47633, 48120, 47445, 47441, 47437, 47556, 47789, 47443, 47437, 47487, 48161, 47462, 47437, 47556, 47559, 47437, 47518, 47917, 47437, 49500, 49500, 47437, 48070, 47441, 47439, 47440], [0, 47437, 47653, 47438, 47437, 47924, 48379, 47812], [0, 47437, 47508, 47473, 47462, 47437, 48068, 47635, 47764, 47438, 47437, 47445, 47632, 47447, 47441, 47437, 47839, 47485, 47510, 47439, 47440], [0, 47437, 47653, 47464, 47635, 47578, 47462, 47437, 47647, 47460, 48352, 47460, 47580, 47440, 47654], [0, 47437, 48115, 47473, 47447, 47437, 47506, 47437, 47531, 47441, 47437, 47451, 47787, 47459, 47437, 47487, 48838, 47866, 47866, 47451, 47517, 47437, 47814, 48041, 47437, 47776, 47937, 47442, 47437, 47448, 47627, 47586, 47437, 48090, 47451, 47439, 47440], [0, 47437, 47653, 47438, 48684, 47453, 47437, 47531, 47490, 47734, 47437, 48684, 47453, 47437, 48106, 47437, 47731, 47444, 47437, 48612, 47445, 47437, 47676, 47487, 47440, 47654], [0, 47437, 47490, 47447, 47437, 49291, 48090, 47438, 47437, 47543, 47544, 48074, 47439, 47440], [0, 47437, 47784, 47594, 47568, 47442, 47437, 47671, 47476, 47532, 47437, 47546, 48023, 47473, 47437, 47837, 47437, 47479, 47437, 47450, 47437, 47522, 48558, 47444, 47437, 47522, 48283, 47437, 47617, 47764, 47438, 47437, 47493, 47438, 48045, 47447, 47437, 47637, 47748, 47439, 47440], [0, 47437, 47633, 48120, 47445, 47441, 47437, 47588, 47731, 47486, 47437, 47467, 47980, 47442, 47437, 47990, 47459, 47437, 47731, 47444, 47437, 48198, 47485, 47493, 47438, 47447, 47437, 47491, 47454, 47437, 47597, 47544, 47437, 47494, 47823, 47450, 47437, 48090, 47438, 47437, 47522, 47437, 48092, 48480, 47437, 47761, 47438, 47437, 47467, 47980, 47444, 47437, 47952, 47439, 48365, 47474, 47559, 47453], [0, 47437, 47490, 47447, 47437, 47660, 48074, 47439, 47440], [0, 47437, 47556, 47789, 47443, 47437, 48305, 47441, 47437, 47822, 47444, 47437, 48347, 47473, 47556, 47690, 47515, 47437, 47633, 48120, 47445, 47441, 47437, 47924, 47617, 47438, 47437, 47831, 49330, 47831, 49330, 47450, 47437, 47924, 47474, 47446, 47437, 48040, 47522, 47670, 48070, 47441, 47439, 47440], [0, 47437, 47674, 48684, 47443, 47437, 47464, 47635, 47578, 48314, 47438, 47437, 47674, 47999, 47517, 47437, 47731, 47438, 47437, 47804, 47466, 47437, 47448, 47445, 47447, 47437, 47438, 47437, 47519, 48233, 47442, 47437, 47487, 48318, 47437, 47448, 47644, 47453, 47437, 47490, 47447, 47437, 47828, 47437, 47448, 47441, 47437, 47457, 47788, 47438, 47437, 48345, 47468, 47444, 47437, 47451, 47473, 47494, 48013, 47437, 47522, 47443, 47437, 47902, 47659, 47459, 47437, 47776, 47664, 47451, 47688, 47439, 47440], [0, 47437, 47653, 47491, 47448, 47445, 47437, 47637, 47490, 47463, 47437, 47522, 47687, 47453, 47437, 47522, 47593, 47516, 47437, 47471, 48189, 47438, 47437, 47493, 47487, 47532, 47580, 47440, 47654], [0, 47437, 47451, 47447, 47437, 47633, 48120, 47445, 47441, 47437, 48505, 48505, 47437, 47508, 47473, 47462, 47437, 47537, 47487, 47437, 47586, 47439, 47440], [0, 47437, 47461, 47797, 47463, 47437, 47531, 47787, 47437, 47543, 47546, 47448, 47437, 47908, 47485, 47437, 47484, 47438, 47440, 47654], [0, 47437, 47522, 47999, 47445, 47437, 47676, 47474, 47516, 47437, 47455, 47518, 47442, 47437, 47493, 47487, 47454, 47461, 47538, 47461, 47437, 47470, 47442, 47437, 47673, 47438, 47453], [0, 47437, 47481, 47437, 47588, 47474, 47446, 47437, 47476, 47632, 47447, 47463, 47437, 47469, 47469, 47446, 47437, 47522, 47437, 47966, 47614, 47612, 47437, 48003, 47437, 47870, 47467, 47442, 47437, 48111, 48119, 47439, 47440], [0, 47437, 49123, 47438, 47437, 47487, 47712, 47523, 47448, 47580, 47440, 47654], [0, 47437, 47483, 47718, 47437, 47763, 47461, 47441, 47437, 47659, 47594, 48122, 47444, 47437, 47484, 47690, 47515, 47437, 47690, 47987, 47690, 47987, 47437, 47506, 47487, 47445, 47559, 47437, 47461, 48023, 47461, 48023, 47437, 47493, 47438, 47490, 47437, 47493, 47438, 47490, 47437, 47451, 47688, 47439, 47440], [0, 47437, 47522, 47437, 47542, 47615, 47459, 47437, 47538, 47556, 47437, 47461, 47449, 47437, 47720, 47437, 48863, 47437, 48242, 47437, 47668, 47552, 47444, 47437, 47744, 47451, 47447, 47437, 47638, 47485, 47448, 47441, 47437, 47481, 47437, 47439, 47473, 47462, 47437, 47481, 47437, 47985, 47474, 47446, 47441, 47437, 47463, 47674, 47665, 47437, 47487, 48318, 47558, 47437, 47467, 47437, 47673, 47474, 47515, 47437, 47821, 47497, 47837, 47445, 47437, 47491, 47462, 47437, 48217, 47437, 47921, 47485, 47437, 47439, 47447, 47453, 47437, 47497, 47466, 47437, 47439, 47447, 47437, 47451, 47441, 47437, 48090, 47451, 47688, 47439, 47440], [0, 47437, 47653, 47563, 47560, 47437, 48070, 47447, 47437, 47445, 48410, 47444, 47437, 47451, 47690, 47515, 47437, 47544, 47441, 47437, 47618, 47437, 47730, 47437, 47555, 48091, 47437, 47471, 47464, 47448, 47440, 47654], [0, 47437, 47653, 47472, 47437, 47438, 47437, 47457, 47788, 47438, 47453, 47437, 47736, 47637, 47444, 47437, 47451, 47491, 47437, 47578, 48173, 47637, 47444, 47437, 47451, 47491, 47440], [0, 47437, 48070, 47659, 47437, 47508, 47473, 47493, 47459, 47437, 47807, 47485, 47816, 47439, 47440], [0, 47437, 47522, 47441, 47437, 48931, 47460, 47437, 47513, 47643, 47444, 47437, 47537, 47559, 47437, 47821, 47497, 47442, 47517, 47437, 47599, 47752, 47438, 47491, 47437, 47451, 47441, 47437, 48090, 47438, 47437, 47517, 47902, 47578, 47946, 47439, 47440], [0, 47437, 47633, 48120, 47445, 47441, 47437, 47804, 47450, 47437, 47512, 47442, 47463, 47437, 48003, 47443, 47437, 47578, 47704, 47462, 47437, 47801, 47682, 47441, 47437, 48090, 47438, 47437, 47924, 47444, 47437, 47658, 47517, 47437, 48056, 47454, 47437, 48233, 47444, 47437, 47537, 47628, 47439, 47484, 47439, 47448, 47437, 47668, 47460, 47442, 47437, 47481, 47437, 47451, 47441, 47437, 48173, 47438, 47437, 47851, 47555, 47437, 47690, 47922, 47439, 47441, 47437, 48090, 47438, 47437, 47447, 47521, 47462, 47437, 47508, 47469, 47490, 47556, 47461, 47437, 47690, 47987, 47437, 47492, 47444, 47437, 47537, 47559, 47453], [0, 47437, 47773, 47437, 48233, 47442, 47437, 47506, 47448, 47437, 47537, 47628, 47437, 47546, 48305, 47922, 47449, 47463, 47437, 47451, 47688, 47445, 47494, 47440], [0, 47437, 48501, 47669, 47449, 47437, 47671, 47437, 48129, 47459, 47437, 47730, 47437, 47476, 47487, 47734, 47437, 47897, 47462, 47463, 47437, 47673, 47438, 47437, 47637, 47628, 47437, 47448, 47447, 47437, 47637, 47748, 47439, 47440], [0, 47437, 48277, 47932, 47437, 47522, 48558, 47444, 47437, 47663, 47485, 47437, 47493, 47595, 47444, 47437, 47481, 47437, 47590, 47544, 47705, 47437, 47873, 47902, 47473, 47437, 48501, 47669, 47449, 47437, 47671, 47437, 48129, 47438, 47437, 47690, 48183, 47439, 47440], [0, 47437, 47653, 48620, 47449, 47437, 47546, 47842, 48684, 47453, 47437, 47578, 48173, 47637, 47437, 47637, 47485, 47440, 47654], [0, 47437, 47653, 48054, 47449, 47441, 47437, 47821, 47448, 47437, 48054, 47487, 47440, 47654], [0, 47437, 47653, 47485, 47701, 47453, 47437, 48269, 47475, 47854, 47444, 47437, 47504, 47453, 47437, 47756, 47437, 48082, 47487, 48012, 47444, 47437, 47508, 47473, 47462, 47437, 47439, 47437, 47451, 47797, 47440], [0, 47437, 47603, 47439, 47448, 47437, 47603, 47439, 47448, 47437, 47709, 47463, 47437, 48024, 48181, 47447, 47437, 47730, 47437, 47603, 47437, 47449, 47586, 47507, 47576, 47437, 47460, 47519, 47450, 47437, 47526, 47437, 47764, 47439, 47440], [0, 47437, 47556, 47789, 47438, 47532, 47437, 47764, 47438, 47437, 47538, 47460, 47461, 47437, 47472, 47472, 47438, 47437, 47506, 47595, 47705, 47437, 47629, 47438, 47490, 47437, 48318, 47632, 47462, 47437, 47451, 47447, 47437, 47763, 47461, 47442, 47437, 47920, 47445, 47559, 47437, 47962, 48033, 47438, 47437, 47513, 48319, 47451, 47688, 47439, 47440], [0, 47437, 47653, 47524, 47484, 47517, 47437, 48003, 47437, 48010, 47487, 47816, 47797, 47453, 47437, 48106, 47437, 48003, 47444, 47437, 47873, 47437, 48059, 48786, 47491, 47440, 47654], [0, 47437, 47522, 47441, 47437, 47668, 47552, 47442, 47437, 47439, 48096, 47556, 47449, 47437, 47470, 47437, 47460, 47568, 47444, 47437, 47962, 47538, 48254, 47438, 47490, 47463, 47437, 47787, 47438, 47628, 47447, 47437, 47750, 47632, 47502, 47578, 47946, 47439, 47440], [0, 47437, 47522, 47437, 47564, 47571, 47459, 47437, 47439, 48116, 47447, 48116, 47446, 47453], [0, 47437, 47653, 47578, 48173, 47637, 47459, 47437, 48106, 47453, 47437, 47736, 47637, 47446, 47437, 48054, 47595, 47487, 47453, 47437, 47736, 47637, 47446, 47440, 47440, 47440, 47440, 47440, 47440, 47437, 47538, 47821, 47490, 47437, 47460, 47579, 47462, 47437, 47720, 47442, 47437, 48722, 47493, 47929, 47437, 47951, 47447, 47437, 47537, 47448, 47437, 47731, 47444, 47437, 48012, 47439, 47515, 47453, 47437, 47537, 47448, 47437, 48054, 47471, 47437, 48684, 47438, 47611, 47453, 47437, 48054, 47471, 47437, 48684, 47438, 47611, 47440, 47654], [0, 47437, 47531, 47787, 47437, 48003, 47437, 47536, 47690, 47546, 47764, 47438, 47437, 47814, 47595, 47441, 47590, 47440, 47654], [0, 47437, 48104, 48104, 47450, 47437, 47709, 47442, 47437, 47542, 47483, 47437, 47450, 47437, 48129, 47463, 47437, 47502, 47574, 47437, 47467, 47437, 47477, 47578, 47515, 47532, 47437, 47522, 47484, 47439, 47463, 47437, 48564, 47441, 47437, 47485, 47537, 47442, 47517, 47437, 47606, 48521, 48125, 47437, 47450, 47437, 47522, 48558, 47463, 47437, 47457, 47439, 47437, 47867, 47437, 47467, 47437, 47477, 47659, 47438, 47439, 47440], [0, 47437, 47556, 47789, 47459, 47437, 47487, 47438, 47673, 47438, 47437, 47483, 47468, 48324, 47438, 47462, 47437, 47609, 47490, 47484, 47559, 47453], [0, 47437, 47451, 47447, 47437, 48508, 48566, 47437, 48131, 47487, 47491, 47531, 47628, 47515, 47627, 47437, 47684, 47461, 47441, 47437, 47990, 47921, 47444, 47437, 48090, 47438, 47437, 48035, 47444, 47437, 47537, 47674, 47474, 47559, 47453], [0, 47437, 47487, 47454, 47437, 47438, 47473, 47437, 47493, 47487, 47532, 47437, 47637, 47473, 47517, 47440, 47654], [0, 47437, 47438, 47437, 47924, 48379, 47812], [0, 47437, 47878, 47442, 47454, 47437, 47653, 47464, 47635, 47578, 47812, 47654, 47437, 47451, 47447, 47437, 47476, 47632, 47441, 47437, 47508, 47473, 47448, 47437, 47612, 47439, 47440], [0, 47437, 47653, 48078, 47439, 47448, 47437, 47522, 47674, 47437, 47531, 47449, 47448, 47437, 47541, 47723, 47590, 47522, 47628, 47440], [0, 47437, 47451, 47447, 47437, 47917, 47443, 47448, 47437, 47615, 47615, 47440], [0, 47437, 47451, 47447, 47437, 47556, 47789, 47443, 47437, 47483, 47832, 47437, 47483, 47441, 47437, 48003, 47444, 47437, 47663, 47485, 47453], [0, 47437, 47490, 47441, 47437, 47508, 47473, 47532, 47437, 47683, 47796, 47437, 47554, 47828, 47446, 47437, 47821, 47586, 47437, 47438, 47443, 47437, 47439, 47473, 47462, 47437, 48931, 47460, 47437, 49132, 47439, 47440], [0, 47437, 47464, 47481, 47437, 47606, 48521, 48125, 47444, 47437, 47457, 47867, 47437, 47467, 47463, 47437, 47477, 47439, 47440], [0, 47437, 47653, 47485, 47515, 47699, 47460, 47439, 47440], [0, 47437, 47522, 47593, 47516, 47437, 47720, 47474, 47446, 47437, 47448, 47530, 47453, 47437, 47448, 47440, 47654], [0, 47437, 47730, 47437, 47438, 47843, 47437, 47519, 47724, 47459, 47437, 48217, 47437, 47690, 47437, 47483, 48149, 47611, 47445, 47580, 47440, 47654], [0, 47437, 47653, 47531, 47787, 47459, 47437, 47491, 47448, 47445, 47437, 47637, 47485, 47580, 47453, 47437, 47537, 47448, 47437, 47438, 47999, 47517, 47437, 47485, 48118, 47590, 47654, 47437, 47438, 47843, 47437, 47637, 47438, 47437, 48251, 48251, 47437, 47522, 47443, 47437, 47969, 47442, 47437, 47603, 47946, 47439, 47440], [0, 47437, 47470, 47576, 47441, 47437, 47912, 47439, 47440], [0, 47437, 47461, 47449, 47437, 47720, 47437, 47448, 47627, 47438, 47437, 47439, 47439, 47738, 47437, 47627, 48399, 47438, 47439, 47440], [0, 47437, 47522, 47593, 47491, 47437, 47522, 47443, 47437, 47552, 47586, 47459, 47437, 47522, 47902, 47446, 47437, 47522, 47556, 47445, 47437, 47676, 47748, 47439, 47440], [0, 47437, 47531, 47787, 47437, 47448, 47449, 47446, 47437, 47620, 47468, 47459, 47437, 47451, 47688, 47618, 47494, 47437, 47506, 47441, 47437, 47531, 47447, 47453, 47437, 48225, 47459, 47437, 47477, 47447, 47437, 47466, 47454, 47437, 47487, 48318, 47558, 47437, 47867, 47437, 47542, 47632, 47439, 47448, 47437, 47538, 47866, 47437, 47633, 48120, 47445, 47462, 47437, 47484, 47447, 47437, 48131, 47487, 47491, 47912, 47659, 47438, 47473, 47490, 47440], [0, 47437, 47653, 47789, 48050, 47437, 47472, 47444, 47437, 47814, 47595, 47487, 47453, 47437, 47789, 48050, 47437, 47472, 47444, 47812], [0, 47437, 47653, 47438, 47437, 47472, 47467, 48620, 48003, 47812], [0, 47437, 47490, 47447, 47437, 47617, 47595, 47439, 47440], [0, 47437, 47653, 47730, 47437, 47476, 47487, 47453, 47437, 47730, 47437, 47476, 47487, 47440, 47654], [0, 47437, 47522, 47687, 47437, 47470, 47576, 47437, 47468, 47805, 47475, 47442, 47454, 47437, 47487, 47841, 47487, 47841, 47451, 47559, 47437, 47822, 48053, 47437, 47451, 47491, 47462, 47437, 47692, 47603, 47437, 48088, 47473, 47462, 47437, 47451, 47445, 47437, 47676, 47748, 47491, 47440], [0, 47437, 47653, 47474, 47869, 47453, 47437, 47730, 47437, 47455, 47981, 47438, 47437, 47673, 47797, 47440], [0, 47437, 47457, 48207, 47437, 47470, 47476, 47561, 47437, 47606, 48521, 48125, 47437, 47479, 47617, 47438, 47437, 47538, 47460, 47447, 47437, 48102, 47439, 47447, 47437, 47625, 47741, 47444, 47437, 48124, 48119, 47439, 47440], [0, 47437, 47505, 47455, 47450, 47437, 47487, 47718, 47437, 47822, 48053, 47459, 47437, 47438, 47843, 47437, 47637, 47444, 47437, 47625, 47449, 47447, 47437, 47707, 47707, 47665, 47437, 48284, 47463, 47437, 47588, 47447, 47437, 48225, 47463, 47437, 48348, 47449, 47593, 47437, 47893, 47437, 47590, 47446, 47437, 48078, 47439, 47440], [0, 47437, 47730, 47437, 47704, 48012, 47447, 47437, 47445, 48410, 47751, 47444, 47437, 47451, 47517, 47440, 47654, 47437, 47490, 47447, 47453, 47437, 47611, 47569, 47444, 47437, 47929, 47484, 47748, 47618, 47494, 47453, 47437, 47845, 47437, 47457, 47483, 47441, 47437, 47538, 47659, 47438, 47437, 47460, 47472, 47556, 47441, 47437, 47676, 47748, 47439, 47440], [0, 47437, 47522, 47437, 47457, 47657, 47442, 47437, 48147, 47437, 48651, 47437, 47459, 47470, 47438, 47437, 47958, 47522, 47859, 47437, 47451, 47559, 47437, 48010, 47487, 47519, 47439, 47440], [0, 47437, 47522, 47843, 47590, 47437, 47438, 47437, 47821, 47522, 47593, 47892, 47459, 47437, 47541, 47651, 47442, 47454, 47437, 47531, 47441, 47437, 47517, 47437, 47485, 47515, 47580, 47437, 47461, 47449, 47462, 47437, 48457, 47842, 47437, 47555, 47454, 47586, 47437, 47668, 47552, 47444, 47437, 48036, 48509, 47673, 47438, 47437, 47760, 47517, 47437, 47815, 47437, 47675, 47448, 47437, 47650, 47671, 47450, 47437, 47526, 47444, 47437, 47671, 47473, 47441, 47437, 47538, 47659, 47442, 47454, 47437, 47531, 47441, 47437, 47526, 47438, 47439, 47440], [0, 47437, 47653, 48054, 47449, 47441, 47437, 48106, 47437, 48054, 47487, 47453, 47437, 47571, 47675, 47764, 47438, 47437, 47801, 47485, 47494, 47437, 47477, 47569, 47439, 47440], [0, 47437, 47512, 47455, 47448, 47473, 47441, 47437, 47840, 47840, 47437, 48070, 47447, 47437, 47556, 47789, 47444, 47437, 47484, 47559, 47437, 47518, 47443, 47451, 47441, 47437, 48090, 47438, 47437, 47924, 48173, 47444, 47437, 47451, 47688, 47439, 47440], [0, 47437, 47491, 47463, 47437, 47485, 47483, 47974, 47797, 47448, 47437, 48564, 47441, 47569, 47437, 47637, 47459, 47437, 47493, 47595, 47441, 47590, 47440, 47654], [0, 47437, 47606, 47538, 47437, 47531, 47787, 47437, 47537, 47446, 47437, 47487, 48056, 48708, 47437, 48102, 47595, 47439, 47440], [0, 47437, 48377, 48372, 47578, 47473, 47441, 47437, 47449, 47866, 47437, 47508, 47473, 47463, 47437, 47493, 47444, 47437, 47467, 47437, 47673, 47439, 47440], [0, 47437, 47522, 47437, 47512, 47442, 47454, 47437, 47822, 48053, 47444, 47437, 47617, 47880, 47451, 47441, 47437, 47633, 48120, 47445, 47443, 47437, 47924, 47876, 47437, 47615, 47825, 47473, 47442, 47437, 47878, 47762, 47437, 47807, 47459, 47437, 47497, 47671, 47462, 47437, 47523, 47447, 47437, 47766, 47697, 47627, 47445, 47437, 47671, 47738, 47437, 47449, 47571, 47437, 47961, 47617, 47464, 47437, 48090, 47437, 47612, 47898, 47437, 47524, 47564, 47571, 47464, 47437, 48090, 47450, 47437, 47524, 47741, 47797, 47443, 47437, 47542, 47615, 47438, 47437, 48447, 47595, 47439, 47440], [0, 47437, 47743, 47866, 47451, 47517, 47437, 48115, 47718, 47437, 47657, 47438, 47437, 47924, 47438, 47437, 47699, 47437, 48090, 47451, 47690, 47515, 47437, 47924, 47459, 47437, 47485, 47515, 47437, 47531, 47447, 47437, 47962, 47439, 47448, 47437, 47494, 47437, 47506, 47448, 47437, 47656, 47502, 47656, 47502, 47437, 47537, 47473, 47441, 47437, 47724, 47438, 47595, 47439, 47440], [0, 47437, 47653, 47438, 48684, 47485, 47437, 47773, 47481, 47441, 47453, 47437, 47531, 47787, 47438, 47445, 47440, 47654], [0, 47437, 47522, 47675, 47463, 47437, 47633, 48120, 47445, 47448, 47437, 47531, 47687, 47568, 47494, 47442, 47437, 48003, 47444, 47437, 48079, 47487, 47454, 47437, 48463, 48298, 47437, 47450, 47437, 47562, 47532, 47437, 48050, 47437, 47470, 48116, 47473, 47437, 47491, 47555, 47437, 47450, 47437, 47569, 47444, 47437, 47457, 47439, 47437, 47483, 47595, 47690, 47515, 47437, 47633, 48120, 47445, 47443, 47437, 47637, 47442, 47437, 47443, 47445, 47451, 47516, 47437, 47522, 47437, 47531, 47490, 47734, 47437, 47504, 47438, 47437, 47652, 47560, 47445, 47762, 47474, 47446, 47437, 48474, 47506, 47442, 47437, 47455, 47447, 47437, 48694, 47688, 47439, 47440], [0, 47437, 47522, 47441, 47437, 47438, 47437, 47544, 47512, 47442, 47437, 47544, 47475, 47463, 47437, 47673, 47438, 47437, 47522, 47437, 47974, 47437, 47857, 47444, 47437, 47782, 48516, 47578, 47473, 47447, 47437, 47448, 47449, 47448, 47437, 48575, 47595, 47659, 47471, 47627, 47774]]\n"
          ]
        }
      ]
    },
    {
      "cell_type": "code",
      "source": [
        "print(output_data)"
      ],
      "metadata": {
        "colab": {
          "base_uri": "https://localhost:8080/"
        },
        "id": "MwYa4f0XQJFP",
        "outputId": "8a59470b-b96a-43c9-e7a4-f72761388c4c"
      },
      "execution_count": 27,
      "outputs": [
        {
          "output_type": "stream",
          "name": "stdout",
          "text": [
            "[[47437, 47522, 47675, 47442, 47437, 47633, 48120, 47445, 47441, 47437, 47455, 47467, 48139, 47445, 47437, 47676, 47459, 48090, 47438, 47453, 1], [47437, 47494, 47471, 47437, 47633, 48120, 47445, 47448, 47437, 47483, 47449, 47462, 47437, 48358, 47445, 47437, 47676, 47748, 47705, 47493, 47437, 47450, 47437, 47554, 47444, 47437, 47455, 47518, 47442, 47437, 47493, 47524, 47951, 47748, 47444, 47437, 47481, 47437, 47522, 47857, 47444, 47437, 47445, 47669, 47451, 47441, 47437, 47555, 47460, 47555, 47460, 47450, 47437, 47468, 47502, 47478, 49878, 5, 47480, 47437, 48863, 47437, 47829, 47939, 47544, 47448, 47437, 47445, 47491, 47568, 47437, 47878, 47443, 47437, 47609, 47439, 47437, 47764, 47459, 47437, 47468, 47502, 47438, 47437, 47439, 47473, 47448, 47437, 48010, 47946, 47474, 47473, 47490, 47440, 1], [47437, 47538, 47659, 47455, 47446, 47437, 47558, 47437, 47615, 47438, 47516, 47437, 47578, 47449, 47437, 47477, 47441, 47437, 47542, 47837, 47437, 48012, 47659, 48012, 47438, 47462, 47437, 47542, 47507, 47473, 47437, 48954, 47522, 47473, 47437, 47720, 47487, 47789, 48045, 47463, 47437, 47460, 47472, 47556, 47437, 47676, 47748, 47439, 47437, 47451, 47562, 47437, 47669, 47447, 48118, 47437, 47438, 47441, 47437, 47498, 47510, 47437, 47567, 47775, 47437, 47778, 47459, 47437, 48036, 47455, 48459, 47437, 47671, 47437, 47521, 47462, 47437, 48818, 47438, 47449, 47463, 47437, 47451, 47447, 47437, 47656, 47487, 48125, 47444, 47437, 47450, 47437, 47522, 48558, 47614, 47451, 47688, 47439, 47440, 1], [47437, 47451, 47447, 47437, 47656, 47667, 47656, 47667, 47451, 47517, 47463, 47437, 47522, 47437, 47524, 47461, 47443, 47437, 47493, 47447, 47437, 47477, 47441, 47437, 47471, 47646, 47594, 47437, 47750, 47493, 47447, 47473, 48243, 47442, 47437, 47481, 47437, 47822, 47444, 47437, 47455, 47595, 47439, 47440, 1], [47437, 48153, 48668, 47437, 47924, 47459, 47437, 47507, 47563, 47437, 47609, 47771, 47487, 47816, 47618, 47494, 47437, 47438, 47996, 47438, 47437, 48293, 47665, 47595, 47439, 47440, 1], [47437, 47633, 48120, 47445, 47441, 47437, 47553, 48170, 47451, 47517, 47463, 47437, 47468, 47637, 47437, 48702, 48295, 47473, 47437, 47764, 47459, 47437, 47508, 47473, 47462, 47437, 47537, 47595, 47439, 47440, 1], [47437, 47451, 47447, 47437, 47487, 47718, 47824, 47437, 47542, 47615, 47474, 47446, 47437, 47822, 5, 47444, 47437, 47556, 47559, 47437, 48070, 47441, 47439, 47440, 1], [47437, 47869, 47485, 47437, 47508, 47473, 47463, 47437, 47588, 47442, 47454, 47437, 47491, 47441, 47437, 47517, 47437, 47485, 47515, 47447, 47437, 47538, 47556, 47437, 48547, 47629, 47442, 47454, 47437, 47491, 47441, 47437, 48090, 47451, 47688, 47439, 47440, 1], [47437, 47522, 47593, 47461, 47437, 47522, 47437, 48003, 47814, 47437, 47539, 47449, 47448, 47437, 47751, 47461, 47442, 47437, 47455, 47450, 47437, 47980, 47628, 47462, 47437, 47457, 47632, 47447, 47437, 47637, 47748, 47439, 47440, 1], [47437, 47653, 47606, 48521, 48125, 47444, 47437, 47457, 47439, 47437, 47951, 47748, 47441, 47590, 47437, 48106, 47437, 48012, 47445, 47462, 47437, 47845, 47451, 47515, 47453, 47437, 48106, 47437, 48012, 47445, 47462, 47437, 47845, 47451, 47515, 47440, 47440, 47440, 47440, 47440, 47440, 47437, 48126, 47482, 47451, 47517, 47463, 47437, 47531, 47787, 47459, 47812, 1], [47437, 47481, 47554, 47437, 47992, 47567, 47442, 47437, 47720, 47442, 47437, 47990, 47487, 47437, 47477, 47487, 47580, 47440, 1], [47437, 47450, 48286, 47685, 47442, 47437, 47438, 47843, 47437, 47563, 47870, 47444, 47437, 47668, 47593, 47490, 47463, 47437, 47646, 47437, 47445, 47448, 47437, 47522, 47437, 47962, 47538, 47437, 47494, 47464, 47448, 47812, 1], [47437, 47449, 47487, 47438, 47437, 47471, 47437, 47472, 47437, 47487, 47556, 47462, 47437, 47791, 47832, 47454, 47437, 48501, 47669, 47449, 47437, 47450, 47437, 48129, 48134, 47437, 47690, 47437, 48012, 47447, 47437, 47491, 47912, 47439, 47440, 1], [47437, 47449, 47502, 47478, 49834, 5, 47480, 1], [47437, 47578, 47449, 47437, 47538, 47866, 47437, 47538, 47538, 48053, 47438, 47523, 47445, 47437, 47524, 47564, 47571, 47438, 47523, 47445, 47437, 47478, 47580, 47743, 47611, 47437, 47487, 47712, 47437, 47884, 47439, 47515, 47532, 47437, 47485, 47448, 47733, 47462, 47437, 47497, 47756, 47558, 47437, 47467, 47448, 47437, 47477, 47705, 47448, 47480, 47437, 47766, 47697, 47462, 47437, 47921, 47467, 47460, 47447, 47437, 47506, 47462, 47437, 47854, 47447, 47437, 47454, 47437, 47477, 47790, 47445, 47440, 1], [47437, 47522, 47687, 47437, 47522, 47441, 47437, 47438, 47470, 47442, 47463, 47437, 47524, 47593, 47437, 47685, 47437, 47466, 47646, 47437, 47471, 47438, 47490, 47437, 47609, 47446, 47437, 47468, 47578, 47475, 47437, 47802, 47437, 47470, 47576, 47437, 47468, 47805, 47475, 47442, 47454, 47437, 47507, 47563, 47437, 48010, 47487, 47445, 47517, 47437, 47457, 47788, 47437, 47439, 47515, 47441, 47437, 47828, 47486, 47437, 47470, 49187, 47828, 47437, 48509, 47442, 47437, 47464, 47635, 47578, 47462, 47437, 47530, 47832, 47437, 47951, 47447, 47437, 47461, 47449, 47441, 47437, 47522, 47437, 47667, 47704, 47462, 47437, 48212, 48212, 47437, 47839, 47559, 47437, 47662, 47530, 47462, 47437, 47505, 47766, 47451, 47449, 47446, 47437, 47451, 47688, 47439, 47440, 1], [47437, 47451, 47516, 47454, 47437, 48029, 47597, 47734, 47444, 47437, 47842, 47439, 47440, 1], [47437, 47438, 47843, 47437, 47637, 47444, 47437, 47451, 47559, 47437, 47471, 47745, 47437, 48003, 47444, 47437, 48825, 47441, 47439, 47440, 1], [47437, 47518, 47541, 47442, 47478, 47578, 47449, 47463, 47437, 47518, 48034, 47459, 47437, 47485, 47515, 47445, 47494, 47480, 47437, 47493, 47487, 47568, 47981, 47460, 47441, 47437, 47802, 47720, 47437, 47538, 47538, 48053, 47444, 47437, 47470, 49187, 47828, 47627, 47445, 47437, 47542, 48149, 47439, 47437, 47557, 47718, 47437, 47526, 47444, 47437, 47506, 47909, 47474, 47446, 47437, 47552, 47524, 47491, 47437, 47822, 48053, 47438, 47437, 47477, 47444, 47627, 47437, 47451, 47447, 47437, 47468, 47805, 47475, 47442, 47454, 47437, 47487, 47468, 47487, 47468, 47451, 47559, 47437, 47537, 47473, 47441, 47437, 47457, 47788, 47437, 47451, 47491, 47451, 47491, 47442, 47517, 47437, 47578, 47443, 47437, 47506, 47441, 47437, 48090, 47450, 47437, 47924, 47621, 47444, 47437, 47484, 47537, 47447, 47437, 47477, 47439, 47448, 47437, 47538, 47866, 47537, 47437, 47553, 47472, 47464, 47437, 48090, 47450, 47437, 47615, 47726, 47862, 47438, 47462, 47437, 47500, 47711, 47564, 47553, 47478, 48609, 48840, 48550, 48689, 47480, 47627, 47445, 47437, 47692, 47832, 47439, 47437, 47483, 47449, 47446, 47437, 47562, 47595, 47439, 47440, 1], [47437, 48564, 47441, 47437, 47487, 47546, 47437, 48653, 47442, 47454, 47437, 47669, 47447, 47636, 47437, 47484, 47791, 47441, 47437, 47521, 48811, 47438, 47437, 47478, 47530, 47801, 48012, 47438, 47480, 47442, 47517, 47437, 48054, 47444, 47437, 47457, 47867, 47437, 47467, 47463, 47437, 47477, 47439, 47437, 47655, 47437, 48035, 48050, 47437, 47470, 47444, 47437, 47822, 47442, 47437, 48941, 47437, 47633, 47437, 48120, 47445, 47443, 47437, 47538, 47659, 47459, 47437, 48651, 48651, 47451, 47688, 47439, 47440, 1], [47437, 47451, 47447, 47453, 47437, 47709, 47792, 47464, 47437, 47508, 47473, 47448, 47437, 47878, 47462, 47437, 47701, 48119, 47439, 47440, 1], [47437, 47438, 47675, 47442, 47437, 49120, 49120, 47437, 47508, 47473, 47448, 47437, 47869, 47485, 47437, 47508, 47473, 47446, 47437, 47745, 47451, 47688, 47439, 47440, 1], [47437, 47497, 47692, 47524, 47437, 47952, 47628, 47516, 47437, 47845, 48335, 47437, 47609, 47463, 47437, 47485, 47515, 47446, 47562, 47437, 47522, 47441, 47437, 47751, 47438, 47786, 47437, 48684, 47442, 47517, 47437, 47672, 47444, 47437, 47483, 47487, 47437, 47484, 47537, 47516, 47437, 47543, 47546, 47462, 47437, 47990, 47524, 47454, 47437, 47461, 48023, 47437, 47770, 47439, 47441, 47437, 47461, 47449, 47443, 47437, 47523, 47507, 47478, 49022, 49926, 47480, 47442, 47437, 47487, 47712, 47627, 47445, 47437, 47813, 47574, 47451, 47688, 47439, 47440, 1], [47437, 47438, 47482, 47451, 47517, 47463, 47437, 48295, 47473, 47462, 47437, 47854, 47617, 47447, 47437, 48415, 47506, 47441, 47437, 47438, 47437, 47552, 47586, 47437, 47802, 47442, 47437, 47507, 47563, 47437, 48239, 47438, 47437, 47928, 47659, 47438, 47439, 47440, 1], [47437, 47653, 47524, 47484, 47517, 47437, 47556, 47789, 47438, 47453, 47437, 47537, 47437, 47544, 47469, 47586, 47437, 47438, 47611, 47449, 47437, 47451, 47491, 47437, 47558, 47627, 47440, 1], [47437, 47451, 47447, 47437, 47633, 48120, 47445, 47441, 47437, 48024, 48705, 47437, 47483, 47674, 47451, 47688, 47439, 47440, 1], [47437, 47586, 47467, 47448, 47453, 47437, 47908, 47690, 47515, 47494, 47440, 47440, 47440, 47440, 47440, 47440, 47440, 1], [47437, 47451, 47524, 47568, 47437, 47633, 48120, 47445, 47441, 47437, 47560, 47518, 47444, 47437, 48814, 48754, 47437, 47689, 47595, 47439, 47440, 1], [47437, 47625, 47741, 47438, 47437, 47532, 47463, 47437, 47471, 47487, 47491, 47445, 47462, 47437, 47845, 47466, 47440, 47654, 1], [47437, 47644, 47500, 47474, 47446, 47437, 47451, 47524, 47437, 48115, 47738, 47437, 48579, 47438, 47437, 47594, 47487, 47445, 47461, 47437, 48945, 47483, 47718, 47437, 47763, 47461, 47442, 47454, 47453, 47437, 47617, 47437, 48115, 47632, 47441, 47437, 48284, 47442, 47454, 47437, 47487, 47996, 47487, 47996, 47437, 47450, 47449, 47448, 47437, 48531, 47485, 47491, 47449, 47437, 47506, 47909, 47451, 47597, 47437, 47471, 47437, 47472, 47437, 47531, 48050, 47437, 47470, 47438, 47786, 47437, 48003, 47438, 47437, 47962, 47538, 47491, 47437, 48619, 48539, 47447, 47437, 48126, 47446, 47586, 47437, 47526, 47464, 47437, 47867, 47437, 47793, 47793, 47665, 47437, 47915, 48059, 47595, 47439, 47440, 1], [47437, 48001, 47459, 47437, 47633, 48120, 47445, 47463, 47437, 47438, 47437, 47668, 47828, 47450, 47437, 47866, 48317, 47444, 47437, 48225, 47620, 47489, 47441, 47445, 47463, 47437, 47542, 47738, 47439, 47440, 1], [47437, 47497, 47581, 47444, 47437, 47491, 47517, 47437, 47451, 47441, 47437, 47656, 47449, 47437, 48863, 47437, 48010, 47487, 47519, 48743, 47461, 47473, 47437, 48327, 47442, 47454, 47437, 47491, 47770, 47437, 47974, 47445, 47537, 47437, 48198, 47445, 47437, 47676, 47459, 47437, 47449, 47674, 47969, 47442, 47454, 47437, 47491, 47441, 47437, 48811, 47537, 47532, 47437, 47531, 48622, 47537, 47437, 47448, 47445, 47648, 47880, 47437, 47675, 47448, 47437, 48045, 48045, 47438, 47437, 48349, 47459, 47437, 48284, 47537, 47437, 47751, 47464, 47443, 47437, 48579, 47437, 48673, 47459, 47437, 47537, 47448, 47437, 48542, 47464, 47437, 47656, 47449, 47448, 47437, 47555, 48537, 47437, 47633, 48120, 47445, 47443, 47437, 47719, 47462, 47437, 48496, 48287, 47439, 47440, 1], [47437, 47763, 47499, 47472, 47437, 47802, 47627, 47445, 47437, 47439, 47439, 47490, 47454, 47611, 47437, 47522, 47441, 47437, 48429, 47442, 47437, 48604, 47459, 47437, 48066, 47444, 47437, 47839, 47473, 47447, 47437, 47902, 47659, 47463, 47437, 48231, 47656, 47921, 47748, 47439, 47440, 1], [47437, 47588, 47438, 47437, 47990, 47595, 47487, 47453, 47437, 47438, 47437, 47531, 47490, 47734, 47437, 47504, 47812, 47654, 1], [47437, 47996, 47667, 47996, 47667, 47437, 47448, 47627, 47438, 47437, 47448, 47454, 47437, 47464, 47635, 47578, 47437, 47647, 47460, 48352, 47460, 47580, 47437, 47451, 47447, 47437, 47822, 47448, 47560, 47444, 47437, 47663, 47474, 48708, 47515, 47627, 47437, 47537, 47437, 47822, 47444, 47437, 48019, 47437, 48347, 47473, 47556, 47447, 47437, 5, 47437, 47839, 47485, 47454, 47690, 47515, 47494, 47437, 47624, 48106, 47437, 47625, 47444, 47437, 47438, 47999, 47517, 47437, 47969, 48539, 47517, 47437, 48033, 47487, 47812, 47623, 47437, 47522, 47437, 47508, 47473, 47611, 47637, 47446, 47437, 48702, 48295, 47473, 47437, 47508, 47473, 47445, 47453, 47437, 47883, 47883, 47812, 47654, 1], [47437, 47468, 47578, 47475, 47627, 47445, 47437, 48025, 47487, 47439, 47437, 47483, 47447, 47437, 47522, 47437, 48434, 48243, 47437, 48111, 47786, 47437, 47471, 47437, 47472, 47437, 47531, 48050, 47437, 47470, 47444, 47437, 47468, 47637, 47437, 47481, 47437, 47822, 47442, 47437, 5, 47442, 47437, 47481, 47437, 47637, 47538, 47701, 47491, 47437, 48050, 47473, 47491, 47437, 47562, 47441, 47437, 47828, 47444, 47437, 47506, 47462, 47437, 47854, 47485, 47437, 47448, 47559, 47437, 47734, 49545, 47578, 47473, 47447, 47437, 47770, 47437, 47571, 47648, 47459, 47437, 47485, 47515, 47451, 47447, 47437, 47578, 47674, 47491, 47437, 48079, 47459, 47437, 48090, 47438, 47437, 47447, 47538, 48183, 47439, 47440, 1], [47437, 47470, 47576, 47448, 47437, 49102, 49102, 47451, 47517, 47437, 47457, 47788, 47444, 47437, 48753, 47447, 47437, 47892, 47639, 47438, 47449, 47437, 47460, 47620, 47451, 47688, 47444, 47437, 47481, 47437, 47647, 47447, 47437, 47625, 47459, 47437, 47822, 47437, 47451, 47491, 47448, 47437, 47477, 47595, 47439, 47440, 1], [47437, 47770, 48062, 47438, 47437, 48385, 47761, 47522, 47628, 47445, 47559, 47437, 47548, 47475, 47437, 47522, 47437, 47461, 47473, 47442, 47437, 48833, 47487, 47881, 47437, 47845, 47437, 47471, 47487, 47724, 47437, 47526, 47437, 47764, 47748, 47439, 47440, 1], [47437, 47633, 48120, 47445, 47441, 47437, 47455, 47487, 48133, 47439, 47440, 1], [47437, 47439, 47473, 47462, 47437, 47543, 47517, 47437, 48111, 47628, 47611, 47494, 47437, 48837, 47743, 47673, 47438, 47437, 47461, 47449, 47443, 47437, 47825, 47473, 47442, 47437, 48056, 47531, 47632, 47441, 47437, 47542, 47837, 47437, 47667, 47651, 47486, 47437, 48345, 47468, 47444, 47437, 48498, 47444, 47437, 48090, 47438, 47440, 1], [47437, 47438, 47490, 47447, 47437, 47447, 47683, 47444, 47437, 47842, 47437, 47517, 47437, 47467, 47482, 47451, 47439, 47440, 1], [47437, 47854, 47990, 47493, 47447, 47437, 48349, 47748, 47474, 47516, 47437, 47821, 47448, 47437, 48012, 47524, 47437, 47801, 48018, 47437, 47867, 47437, 47760, 47485, 47440, 47654, 1], [47437, 47653, 47438, 47437, 47612, 47475, 47854, 47444, 47437, 47504, 47453, 47437, 47625, 47741, 47438, 47437, 47493, 47487, 47531, 47441, 47590, 47437, 47491, 47532, 47437, 47484, 47445, 47463, 47437, 47676, 47485, 47453, 47437, 47438, 47437, 47531, 47490, 47734, 47437, 47504, 47440, 47654, 1], [47437, 47653, 47437, 47524, 47484, 47517, 47437, 47633, 48120, 47445, 47453, 47437, 47461, 47797, 47437, 47518, 47541, 47437, 47493, 47487, 48078, 47439, 47437, 47531, 47441, 47437, 47542, 47615, 47471, 47530, 47522, 47628, 47440, 1], [47437, 47522, 47843, 47590, 47437, 47524, 47484, 47517, 47453, 47437, 47461, 47797, 47437, 48249, 48062, 47438, 47437, 47487, 47932, 47437, 47617, 47749, 47442, 47437, 47979, 47519, 47437, 47743, 47934, 48301, 47437, 47764, 47459, 47448, 47440, 1], [47437, 47507, 48262, 47463, 47437, 48945, 47449, 47462, 47437, 48012, 47439, 47460, 47682, 47437, 47451, 47441, 47437, 47662, 47741, 47438, 47515, 47437, 47617, 47765, 47437, 47672, 47437, 47450, 47437, 48391, 47437, 48041, 47646, 47437, 47471, 47438, 47437, 47673, 47439, 47440, 1], [47437, 47653, 47485, 47701, 47437, 47438, 48684, 47485, 47453, 47437, 47457, 48050, 47437, 47470, 47438, 47437, 47522, 47473, 47437, 48401, 48189, 47451, 48011, 47440, 1], [47437, 47653, 47471, 47437, 47472, 47437, 47531, 48050, 47437, 47470, 47459, 47437, 47851, 47555, 47437, 47486, 47450, 47590, 47440, 47654, 1], [47437, 47609, 48428, 47463, 47437, 47487, 48145, 47517, 47437, 47629, 47665, 47437, 47463, 47441, 47445, 47437, 47497, 47738, 47439, 47915, 47515, 47484, 47439, 47437, 47538, 47556, 47437, 47962, 47659, 47444, 47437, 47445, 47929, 47437, 47491, 47448, 47441, 47437, 47469, 47872, 47438, 47533, 47437, 47542, 47615, 47474, 47446, 47437, 47546, 48305, 47593, 47881, 47437, 47448, 47441, 47437, 48090, 47451, 47688, 47439, 47440, 1], [47437, 47653, 47522, 47687, 47437, 47625, 47455, 47518, 47437, 47468, 47578, 47475, 47627, 47445, 47437, 47962, 47538, 47786, 47437, 47637, 47438, 47580, 47774, 47654, 1], [47437, 47468, 47578, 47475, 47627, 47445, 47437, 47448, 48129, 47437, 47637, 47444, 47437, 47493, 47459, 47437, 47784, 47568, 47442, 47437, 47499, 47713, 47502, 47474, 47446, 47437, 48056, 47441, 47437, 47822, 47437, 47529, 47638, 47473, 47437, 48013, 47639, 47450, 47437, 47924, 47603, 47437, 48090, 47450, 47437, 47485, 47537, 47443, 47437, 47962, 48033, 47438, 47437, 47633, 48120, 47445, 47443, 47437, 47924, 47802, 47442, 47437, 47487, 47738, 47487, 47738, 47451, 47688, 47439, 47440, 1], [47437, 48154, 47467, 47446, 47437, 47556, 47516, 47437, 47524, 47449, 47454, 47437, 47578, 47449, 47448, 47437, 47460, 47531, 47437, 47473, 47448, 47437, 47926, 47441, 47981, 47515, 47439, 47440, 1], [47437, 47450, 47437, 47902, 47659, 47437, 47671, 47437, 47902, 47659, 47437, 47720, 47438, 47437, 47448, 47627, 47832, 47437, 47893, 47467, 47694, 47437, 47522, 47443, 47437, 47538, 47659, 47507, 47576, 47437, 48126, 47482, 47451, 47517, 47437, 47821, 47522, 47593, 48183, 47439, 47440, 1], [47437, 47522, 47443, 47437, 47544, 47831, 47544, 47831, 47437, 47801, 49283, 47437, 47962, 48033, 47442, 47437, 47483, 47875, 47438, 47437, 48142, 47441, 47437, 48090, 47453, 47437, 47770, 47437, 48429, 47486, 47437, 48985, 47444, 47437, 47460, 47847, 5, 47517, 47437, 47497, 47670, 47491, 48988, 47438, 47437, 48457, 47688, 47578, 47787, 47437, 47644, 47632, 48449, 48449, 47450, 47437, 47962, 48033, 47438, 47437, 47609, 48243, 47437, 47637, 47490, 47454, 47437, 47524, 47449, 47674, 47449, 47437, 47447, 47859, 47438, 47437, 47863, 47447, 47437, 47467, 47980, 47463, 47437, 47477, 47455, 47611, 47437, 48429, 48327, 47442, 47494, 47437, 47538, 47556, 47437, 48092, 48480, 47437, 47761, 47438, 47462, 47437, 47578, 48023, 47446, 47437, 47990, 47524, 47437, 47951, 47459, 47437, 48090, 47450, 47437, 47633, 48120, 47445, 47443, 47437, 47939, 47791, 47451, 47447, 47441, 47437, 47449, 47438, 47450, 47437, 47455, 47482, 47444, 47437, 48173, 47447, 47437, 47477, 47595, 47439, 47440, 1], [47437, 47490, 47447, 47453, 47437, 47542, 47449, 47437, 47508, 47473, 47764, 47438, 47437, 47512, 47962, 47578, 47473, 47447, 47437, 48066, 47444, 47437, 47902, 47522, 48521, 47902, 47522, 48521, 47451, 47688, 47439, 47440, 1], [47437, 47451, 47447, 47437, 47564, 47571, 47459, 47437, 47691, 47507, 47450, 47437, 48090, 47438, 47437, 47464, 47635, 47578, 48314, 47443, 47437, 47962, 48033, 47444, 47437, 47609, 47490, 47484, 47559, 47437, 47937, 47461, 47637, 47764, 47438, 47453, 1], [47437, 47653, 47485, 47701, 47453, 47437, 47543, 47546, 47437, 47541, 47437, 47908, 47439, 47447, 47437, 47731, 47437, 47845, 47437, 48012, 47444, 47437, 47949, 47448, 47440, 1], [47437, 47736, 47531, 47787, 47437, 47586, 47467, 47448, 47437, 47908, 47748, 47915, 47515, 47440, 47654, 1], [47437, 47653, 48106, 47437, 47438, 47687, 47453, 47437, 47625, 47437, 47969, 47556, 47676, 47517, 47440, 47654, 1], [47437, 47438, 47437, 47729, 47460, 47462, 47437, 47558, 47437, 48003, 47812, 47654, 1], [47437, 47554, 47446, 47437, 47576, 47463, 47437, 47522, 47437, 47484, 47788, 47438, 47437, 47673, 47441, 47437, 47902, 47437, 47484, 47461, 47437, 47625, 47741, 47459, 47437, 47485, 47537, 47443, 47437, 47825, 47473, 48061, 47474, 47446, 47437, 47638, 47628, 47493, 47487, 47437, 47522, 47611, 47637, 47446, 47437, 47627, 47556, 47720, 47437, 47764, 47459, 47437, 47684, 47461, 47443, 47437, 47825, 47473, 47462, 47437, 48286, 47493, 47487, 47437, 48187, 47493, 47559, 47453, 1], [47437, 47522, 47999, 47445, 47437, 47676, 47474, 47516, 48106, 47437, 47497, 47671, 47462, 47437, 47791, 47437, 47523, 47445, 47437, 47845, 47466, 47454, 47437, 47734, 47734, 47437, 48025, 47447, 47453, 47437, 47506, 47694, 47437, 47447, 47497, 47490, 47437, 47615, 47726, 47471, 47766, 47468, 47437, 47644, 47650, 47438, 47446, 47437, 47506, 47462, 47437, 47854, 47474, 47559, 47437, 47633, 48120, 47445, 47462, 47437, 47878, 48533, 47485, 47437, 47491, 47912, 47474, 48708, 47440, 1], [47437, 47438, 47437, 47690, 47593, 47586, 47437, 48684, 47493, 47485, 47453, 47437, 47537, 47448, 47437, 48003, 47438, 47437, 47673, 47491, 47453, 47437, 47439, 47473, 5, 47439, 47497, 47462, 47437, 48567, 47487, 47437, 47951, 47444, 48684, 47493, 47437, 47764, 47474, 47515, 47440, 47654, 1], [47437, 47653, 48413, 47453, 47437, 47538, 47821, 47490, 47448, 47437, 48054, 47439, 47515, 47453, 47437, 47773, 47481, 47774, 47654, 1], [47437, 47586, 47455, 47463, 47437, 47770, 47437, 47962, 48033, 47444, 47437, 49897, 47522, 47628, 47437, 47990, 47524, 47454, 47437, 47586, 47439, 47441, 47437, 47598, 47468, 47444, 47437, 47558, 47437, 48004, 47438, 47439, 47440, 1], [47437, 47653, 47461, 47797, 47441, 47437, 47814, 48041, 47437, 47450, 48129, 47450, 47437, 47542, 47615, 47471, 47530, 47522, 47628, 47440, 1], [47437, 47522, 47441, 47437, 47671, 47473, 47685, 47671, 47473, 47685, 47437, 47457, 47516, 47444, 47437, 47801, 47682, 47595, 47439, 47440, 1], [47437, 47653, 47522, 47687, 47437, 47962, 47538, 47462, 47437, 47814, 47595, 47569, 47437, 47637, 47464, 47448, 47440, 47654, 1], [47437, 47633, 48120, 47445, 47441, 47437, 47472, 47766, 47469, 47922, 47517, 47437, 47470, 47576, 47437, 47647, 47441, 47437, 47438, 47462, 47437, 47644, 47473, 47447, 47437, 47477, 47595, 47439, 47440, 1], [47437, 47522, 48143, 47437, 47844, 47659, 47442, 47437, 47538, 47866, 47437, 47828, 47448, 47437, 47510, 47731, 47720, 47442, 47454, 47437, 47522, 47443, 47437, 47842, 47497, 47437, 47556, 47789, 47438, 47448, 47437, 47491, 47770, 47439, 47440, 1], [47437, 47653, 47438, 47843, 47437, 47531, 47490, 47734, 47437, 47504, 47812, 1], [47437, 47522, 47593, 47491, 47437, 47522, 47437, 48070, 47659, 47437, 47508, 47473, 47493, 47438, 47437, 47457, 47490, 47463, 47437, 47445, 47449, 47437, 47470, 47442, 47437, 47633, 48120, 47445, 47441, 47437, 48508, 48566, 48508, 48566, 47437, 47603, 47449, 47437, 47460, 47620, 47451, 47688, 47439, 47440, 1], [47437, 47653, 48269, 47475, 47854, 47444, 47437, 47526, 47453, 47437, 47438, 47437, 47506, 47462, 47437, 47854, 47474, 47559, 47437, 48036, 47437, 47464, 47635, 47578, 47462, 47437, 48065, 48065, 47578, 47473, 47447, 47437, 47839, 47485, 47462, 47437, 47568, 47742, 47440, 1], [47437, 48185, 47479, 48185, 47479, 47437, 47451, 47447, 47437, 48066, 47437, 47542, 47474, 47441, 47437, 47508, 47473, 47463, 47437, 47491, 47441, 47437, 48090, 48102, 47439, 47440, 1], [47437, 47633, 48120, 47445, 47443, 47437, 47924, 47459, 47437, 47814, 48041, 47437, 47521, 47521, 47437, 48029, 47473, 47449, 47437, 47460, 47620, 47451, 47688, 47439, 47440, 1], [47437, 47522, 48070, 47659, 47437, 47508, 47473, 47448, 47437, 47487, 48145, 47517, 47437, 48523, 47705, 47445, 47437, 47731, 47720, 47442, 47437, 47477, 47441, 47437, 47438, 47443, 47437, 47924, 47459, 47437, 47542, 47671, 47437, 47633, 48120, 47445, 47442, 47517, 47446, 47437, 47956, 47473, 47595, 47439, 47440, 1], [47437, 47450, 47500, 47541, 47437, 48114, 47474, 47446, 47437, 47708, 47589, 47438, 47462, 47437, 47451, 47439, 47448, 47437, 47729, 48050, 47437, 47470, 47442, 47437, 47464, 47457, 47500, 47627, 47445, 47437, 47692, 47832, 47439, 47437, 47483, 47449, 47446, 47437, 47451, 47688, 47439, 47440, 1], [47437, 47485, 47538, 47463, 47437, 47522, 47437, 47564, 47553, 47437, 47449, 47995, 47457, 47442, 47437, 47477, 47441, 47437, 47438, 47446, 47437, 47500, 47449, 47560, 47564, 47444, 47437, 47438, 47539, 47451, 47524, 47437, 47969, 47744, 47451, 47628, 47437, 47683, 47438, 47473, 47490, 47440, 1], [47437, 47679, 48382, 47442, 47437, 48786, 48121, 47437, 48459, 47437, 47671, 47437, 47521, 47462, 47437, 48390, 48422, 48390, 48422, 47437, 48745, 47487, 47454, 47437, 47936, 47444, 47437, 47668, 48372, 47578, 47473, 47559, 47437, 47730, 47437, 48501, 47669, 47449, 47437, 47671, 47437, 48129, 47444, 47437, 47476, 47487, 47490, 47437, 47451, 47688, 47439, 47440, 1], [47437, 47701, 47490, 47454, 47437, 47443, 47457, 47442, 47517, 47437, 47484, 47464, 47437, 47502, 47438, 47437, 47673, 47474, 47515, 47437, 47555, 48091, 47437, 47751, 47464, 47445, 47441, 47437, 47760, 47437, 47467, 47437, 47673, 47474, 47562, 47437, 47599, 48090, 47438, 47437, 47821, 47832, 47437, 47448, 47445, 47447, 47437, 47471, 47487, 47491, 47449, 47441, 47437, 47743, 47446, 47437, 47542, 47446, 47463, 47437, 47845, 47437, 49256, 47441, 47437, 47902, 47437, 47484, 47516, 47437, 47512, 47643, 47459, 47437, 47512, 47643, 47464, 47437, 48090, 47440, 1], [47437, 47633, 48120, 47445, 47441, 47437, 47528, 47466, 47437, 47719, 47462, 47437, 47493, 47438, 47538, 47460, 47559, 47453, 1], [47437, 47653, 47544, 47473, 47437, 47538, 47821, 47490, 47448, 47437, 48054, 47595, 47439, 47797, 47440, 47654, 1], [47437, 47522, 47437, 47564, 47571, 47444, 47437, 47692, 47544, 47447, 47437, 47491, 47510, 47437, 47633, 48120, 47445, 47443, 47437, 47439, 47473, 47441, 47437, 47438, 47482, 47451, 47517, 47437, 47578, 48004, 47451, 47688, 47439, 47440, 1], [47437, 47743, 47789, 47469, 47593, 47586, 47437, 47980, 47628, 47448, 47437, 47522, 47443, 47437, 47448, 48299, 47444, 47437, 48534, 48287, 47439, 47440, 1], [47437, 47522, 47437, 47709, 47508, 47473, 47441, 47437, 48062, 47720, 47486, 47437, 48690, 47681, 47474, 47446, 47437, 47528, 47451, 47447, 47437, 48681, 48681, 47451, 47688, 47439, 47440, 1], [47437, 48106, 47437, 47924, 47444, 47437, 47609, 47771, 47437, 48176, 47445, 47437, 47845, 47466, 47812, 47654, 47451, 47447, 47437, 48564, 47441, 47437, 47438, 47443, 47437, 48985, 47444, 47437, 47450, 47437, 47685, 47437, 47577, 47628, 47893, 48181, 47439, 47440, 1], [47437, 47653, 47438, 48684, 47485, 47453, 47437, 47522, 47902, 47437, 48012, 47447, 47437, 47804, 47558, 47437, 47537, 48011, 47453, 47437, 47487, 47454, 47437, 47690, 47437, 48012, 47487, 47440, 47654, 1], [47437, 47451, 47461, 47538, 47461, 47437, 47883, 47473, 48177, 47444, 47437, 48472, 48561, 48472, 48561, 47451, 47690, 47515, 47437, 47471, 47437, 47472, 48116, 47473, 47437, 47450, 47437, 47475, 47444, 47437, 48286, 47537, 47487, 47437, 47512, 47455, 47448, 47473, 47437, 47802, 47442, 47437, 48664, 48566, 47437, 47720, 47487, 47705, 47816, 47439, 47440, 1], [47437, 47438, 47724, 47438, 47611, 47637, 47446, 47437, 47500, 47508, 47518, 47437, 47541, 47442, 47454, 47437, 47464, 47635, 47578, 48314, 47437, 47644, 48558, 47444, 47437, 47451, 47441, 47437, 47633, 48120, 47445, 47442, 47517, 47441, 47437, 47531, 47687, 47568, 47494, 47442, 47463, 47437, 48096, 47842, 47437, 47586, 47467, 47437, 47908, 47459, 47437, 47724, 47438, 47595, 47439, 47437, 47440, 1], [47437, 47522, 47632, 48521, 47578, 47473, 47441, 47437, 48066, 47508, 47473, 47507, 47576, 47437, 47493, 47444, 47437, 47467, 47437, 47673, 47439, 47440, 1], [47437, 47690, 47497, 47491, 47437, 47438, 47724, 47437, 47438, 47675, 47442, 47437, 47438, 47437, 48035, 48050, 47437, 47470, 47438, 47490, 47441, 47437, 48003, 47438, 47437, 47522, 47442, 47517, 47437, 47962, 47538, 47491, 47437, 47529, 47539, 47450, 47445, 47437, 47956, 48119, 47439, 47440, 1], [47437, 47555, 48091, 47437, 47471, 47438, 47437, 47477, 47690, 47490, 47463, 47437, 47481, 47471, 47437, 47481, 47438, 47443, 47437, 47552, 47586, 47444, 47437, 48501, 47842, 47437, 47526, 47484, 47439, 47447, 47437, 47531, 47665, 47628, 47437, 48069, 47793, 47438, 47437, 47778, 47459, 47437, 47438, 47437, 47552, 47586, 47444, 47437, 47951, 48109, 47437, 47467, 47437, 47673, 47439, 47437, 47451, 47688, 47439, 47440, 1], [47437, 47531, 47787, 47437, 47822, 47444, 47437, 47692, 47447, 47437, 47468, 47578, 47475, 47442, 47437, 47448, 47445, 47437, 47676, 47748, 47790, 47491, 47440, 47654, 1], [47437, 47653, 47440, 47440, 47440, 47440, 47440, 47440, 47654, 1], [47437, 47522, 47593, 47461, 47437, 48505, 48505, 47437, 47451, 47447, 47437, 47544, 47441, 47437, 47521, 48811, 47438, 47443, 47437, 47964, 47492, 47444, 47437, 47493, 47459, 47437, 48090, 48102, 47439, 47440, 1], [47437, 47461, 47449, 47462, 47437, 47801, 47628, 47437, 47666, 47437, 47459, 47464, 47438, 47491, 47437, 47555, 48160, 47764, 47438, 47437, 47447, 48788, 47449, 47463, 47437, 47451, 47688, 47439, 47440, 1], [47437, 47442, 47437, 47448, 47627, 47586, 47437, 47814, 47438, 47462, 47437, 47451, 47688, 47439, 47441, 47437, 47449, 48624, 47444, 47437, 47558, 47437, 47467, 47437, 47477, 47474, 47516, 47437, 47531, 47687, 47437, 47445, 47515, 47447, 47437, 48102, 47595, 47439, 47440, 1], [47437, 47653, 47438, 47504, 47485, 47453, 47437, 47637, 47444, 47437, 47466, 47453, 47437, 47637, 47444, 47812, 1], [47437, 47468, 47637, 47437, 48054, 47595, 47491, 47437, 47750, 47438, 47440, 47654, 1], [47437, 47522, 47473, 47447, 47437, 47731, 47444, 47437, 48612, 47441, 47437, 47689, 47439, 48354, 47437, 47801, 47437, 48397, 47639, 47450, 47437, 47512, 47455, 47448, 47473, 47442, 47517, 47446, 47437, 47638, 47628, 47493, 47559, 47453, 1], [47437, 47538, 47659, 47459, 47437, 47664, 47451, 47447, 47437, 47668, 47828, 47459, 47437, 47638, 47445, 47437, 47676, 47485, 47437, 47791, 47437, 47819, 47445, 47463, 47437, 47676, 47459, 47437, 47526, 47444, 47437, 47522, 47437, 47531, 47490, 47734, 47504, 47438, 47437, 49607, 47448, 47855, 47459, 47437, 47447, 47494, 47671, 47447, 47437, 47822, 47474, 47446, 47437, 47892, 48045, 47454, 47437, 47671, 47437, 48985, 47442, 47437, 47483, 48012, 48422, 47438, 47437, 47764, 47459, 47437, 48001, 47438, 47437, 47668, 47578, 47445, 47463, 47694, 47437, 47821, 47448, 47437, 48246, 48448, 47444, 48090, 47438, 47437, 47704, 47650, 47734, 47451, 47690, 47515, 47494, 47437, 47522, 47724, 47437, 47674, 48383, 47476, 47561, 47437, 47448, 48299, 47438, 47437, 49108, 47930, 47439, 47453, 47437, 47669, 47448, 47437, 5, 47930, 47439, 47447, 47437, 47924, 47444, 47437, 48153, 48176, 47447, 47437, 47445, 48410, 47751, 47444, 47437, 47451, 47688, 47439, 47440, 1], [47437, 47962, 47538, 47437, 47494, 47442, 47437, 47449, 47576, 47441, 47437, 47912, 47447, 47437, 47467, 48050, 47437, 47540, 47438, 47491, 47437, 47562, 47441, 47437, 47822, 47438, 47437, 47468, 47805, 47475, 47474, 47446, 47437, 48339, 47485, 47881, 47437, 47491, 47912, 47439, 47440, 1], [47437, 48068, 47442, 47437, 47854, 47485, 47437, 48010, 47487, 47519, 47437, 48003, 47459, 47437, 47439, 47460, 47437, 47731, 47437, 48694, 47438, 47441, 47437, 47615, 48651, 47442, 47437, 48010, 47487, 47445, 47559, 47437, 47468, 47548, 47450, 47437, 47597, 47462, 47437, 47854, 47441, 47439, 47441, 47437, 48090, 47438, 47437, 5, 47437, 47451, 47447, 47437, 47603, 47595, 47439, 47440, 1], [47437, 47653, 47541, 47437, 48054, 47595, 47487, 47453, 47437, 47541, 47437, 48054, 47595, 47455, 47463, 47437, 47522, 47687, 47440, 47654, 1], [47437, 47451, 47447, 47441, 47437, 47556, 47789, 47443, 47437, 47969, 47462, 47437, 47921, 47485, 47437, 47556, 47559, 47437, 47804, 47450, 47437, 47438, 47441, 47437, 47476, 47632, 49050, 47595, 47439, 47440, 1], [47437, 47653, 48082, 47487, 48012, 47444, 47437, 49291, 47862, 47438, 47437, 47764, 47459, 47437, 47504, 47453, 47437, 47821, 47448, 47437, 47674, 47462, 47437, 47487, 48639, 47491, 47453, 47437, 47624, 48106, 47437, 47625, 47444, 47437, 47969, 48539, 47517, 47437, 48033, 47487, 47812, 47623, 47437, 47487, 47438, 47497, 47437, 47508, 47473, 47448, 47437, 47704, 47523, 47463, 47437, 47673, 47445, 47453, 47437, 47883, 47883, 47440, 47654, 1], [47437, 47438, 47437, 47447, 47683, 47438, 47611, 47637, 47446, 47437, 47481, 47437, 48062, 47444, 47437, 47966, 47631, 47466, 47437, 47531, 47441, 47437, 47555, 47460, 47555, 47460, 47450, 47437, 47643, 47444, 47437, 48533, 47485, 47437, 47750, 47473, 47628, 47441, 47437, 47883, 47475, 47492, 47530, 47464, 47437, 47627, 48399, 47438, 47439, 47440, 1], [47437, 47653, 47438, 47504, 47485, 47453, 47437, 48054, 47595, 47569, 47437, 47637, 47438, 48011, 47453, 47437, 48106, 47437, 47637, 47438, 47437, 47673, 47487, 47440, 47654, 1], [47437, 47633, 48120, 47445, 47441, 47437, 47513, 47643, 47444, 47437, 47537, 47559, 47437, 47696, 47523, 47437, 47477, 47517, 47437, 47508, 47473, 47462, 47437, 47734, 48287, 47474, 47562, 47437, 47522, 47437, 47508, 47473, 47876, 47437, 47541, 47437, 48054, 47459, 47437, 47526, 47444, 48290, 47474, 47628, 47447, 47437, 47824, 47952, 47441, 47437, 47448, 47855, 47438, 47437, 47477, 47595, 47439, 47440, 1], [47437, 47438, 47593, 47439, 47448, 47437, 47821, 47586, 47437, 47438, 47443, 47437, 48530, 47437, 47763, 47444, 47437, 48457, 47459, 47437, 47498, 47446, 47437, 47556, 48668, 47437, 47924, 47444, 47437, 47760, 47485, 47484, 47461, 47538, 47461, 47453, 1], [47437, 48003, 47437, 47778, 47438, 47437, 47814, 47595, 47444, 47817, 47515, 47437, 47450, 48129, 47437, 48198, 47473, 47517, 47440, 47654, 1], [47437, 47451, 47447, 47437, 47556, 47789, 47438, 47463, 47437, 47487, 47915, 47437, 47668, 47541, 47444, 47437, 47915, 48059, 47441, 47437, 48090, 47438, 47437, 47633, 48120, 47445, 47442, 47517, 47437, 47730, 47437, 47839, 47485, 47448, 47490, 47447, 47437, 47607, 47451, 47688, 47439, 47440, 1], [47437, 47494, 47471, 47437, 47614, 47648, 47478, 5, 49734, 47480, 47438, 47437, 47619, 47572, 47450, 47437, 47438, 47437, 47764, 47474, 47516, 47437, 47522, 47437, 49102, 49102, 47508, 47473, 47441, 47437, 48198, 47437, 47701, 47841, 47438, 47580, 47453, 47437, 48486, 48459, 48486, 48459, 47437, 47451, 47447, 47437, 48610, 47437, 47926, 47487, 47448, 47441, 47437, 47508, 47473, 47448, 47437, 47673, 47474, 47515, 47437, 48036, 47437, 48610, 47444, 47437, 5, 47439, 47441, 47437, 47526, 47463, 47437, 48225, 47620, 47558, 47441, 47445, 47437, 47542, 47632, 47473, 47490, 47440, 1], [47437, 47542, 47837, 47437, 47457, 47788, 47459, 47437, 47471, 47460, 47442, 47437, 48070, 47595, 47439, 47440, 1], [47437, 47451, 47441, 47437, 47637, 47437, 47998, 47876, 47437, 47709, 47438, 47437, 47792, 47688, 47439, 47440, 1], [47437, 47537, 47448, 47437, 47438, 47999, 47517, 47437, 47485, 48118, 47590, 47440, 47440, 47440, 47440, 47440, 47440, 47440, 47654, 1], [47437, 47720, 47438, 47437, 47576, 47576, 47437, 48279, 47487, 47437, 47893, 47467, 47694, 47437, 47633, 48120, 47445, 47443, 47437, 47902, 47659, 47442, 47441, 47437, 47439, 47460, 47563, 47437, 47523, 47438, 47437, 47491, 47449, 47437, 47460, 47620, 47451, 47688, 47439, 47440, 1], [47437, 47531, 47787, 47437, 47586, 47467, 47448, 47437, 48126, 47482, 47451, 47517, 47463, 47437, 47908, 47474, 47515, 47627, 47437, 47522, 47843, 47437, 47580, 47552, 47438, 47437, 47730, 47437, 47450, 47685, 47437, 47673, 47474, 47473, 47490, 47447, 47437, 47821, 47448, 47437, 47484, 47643, 47451, 48708, 47440, 1], [47437, 47638, 47659, 47734, 47444, 47437, 47450, 47439, 47915, 47515, 47484, 47439, 47437, 47578, 47443, 47437, 47491, 47441, 47437, 48090, 47451, 47688, 47439, 47440, 1], [47437, 47633, 48120, 47445, 47441, 47437, 47487, 48352, 47460, 47580, 47437, 47451, 47447, 47437, 47617, 47593, 48133, 47439, 47440, 1], [47437, 47510, 47731, 47720, 47459, 47437, 47931, 47931, 47451, 47447, 47437, 48176, 48020, 47451, 47688, 47439, 47440, 1], [47437, 48524, 47475, 47451, 47517, 47437, 47916, 47437, 47448, 47560, 47444, 47437, 47493, 47447, 47437, 47477, 47441, 47902, 47437, 47484, 47516, 47437, 47485, 47538, 47437, 48617, 47506, 47441, 47437, 47576, 47437, 47541, 47442, 47437, 48225, 47438, 47437, 47658, 47439, 47437, 47451, 47524, 47437, 47576, 47475, 47442, 47517, 47437, 47913, 47628, 47437, 47537, 47628, 47770, 47437, 47924, 47556, 47688, 47439, 47440, 1], [47437, 47653, 47619, 47453, 47437, 47619, 47440, 47654, 1], [47437, 47556, 47789, 47459, 47437, 47984, 47438, 47437, 47507, 47563, 47437, 48161, 47487, 47445, 47441, 47437, 47962, 48033, 47446, 47453, 1], [47437, 47522, 47999, 47439, 47447, 47437, 47468, 47578, 47475, 47437, 47464, 47635, 47578, 48314, 47443, 47437, 47511, 48298, 47438, 47437, 47555, 47454, 47544, 47515, 47437, 47468, 47578, 47475, 47437, 47802, 47442, 47437, 48133, 47444, 47437, 47467, 47441, 47437, 47673, 47595, 47439, 47440, 1], [47437, 47438, 47843, 47437, 48269, 47475, 47854, 47444, 47437, 47731, 47444, 47437, 48106, 47437, 47541, 47437, 47476, 47487, 47440, 47440, 47440, 47440, 47440, 47440, 47437, 48619, 48539, 47439, 47437, 48619, 48539, 47439, 47453, 47437, 47873, 47437, 48012, 47487, 47463, 47437, 47482, 47505, 47438, 47437, 47673, 47487, 47440, 1], [47437, 47522, 47675, 47437, 47633, 48120, 47445, 47441, 47437, 47689, 47513, 47532, 47437, 47764, 47438, 47437, 47492, 47444, 47437, 47537, 47559, 47453, 1], [47437, 47438, 47437, 47637, 47438, 47437, 47674, 47463, 47437, 47542, 47462, 47437, 47457, 47438, 47442, 47437, 47668, 48728, 47437, 47633, 48120, 47445, 47443, 47437, 47588, 47442, 47454, 47437, 48010, 47487, 47816, 47439, 47440, 1], [47437, 47653, 48106, 47437, 47438, 47473, 47544, 47453, 47437, 47449, 47576, 47437, 47951, 47556, 47790, 47497, 47974, 47440, 47654, 1], [47437, 49407, 47459, 47506, 47441, 47437, 47443, 47528, 47665, 47437, 47656, 47502, 47656, 47502, 47437, 47537, 47718, 47439, 47440, 1], [47437, 47483, 47468, 48314, 47438, 47437, 47438, 47437, 47924, 47556, 47462, 47437, 47760, 47485, 47484, 47447, 47437, 47513, 47462, 47437, 47750, 48132, 47437, 47537, 47559, 47453, 1], [47437, 47451, 47447, 47437, 47874, 47437, 47438, 47443, 47437, 47691, 47507, 47450, 47437, 47476, 47632, 49050, 47659, 47438, 47437, 47568, 47523, 47665, 47437, 47522, 47443, 47437, 47969, 47442, 47437, 47493, 47487, 47912, 47439, 47440, 1], [47437, 47438, 47437, 47684, 47461, 47448, 47437, 47522, 47593, 47447, 47463, 47437, 48012, 47441, 47437, 47590, 47441, 47437, 47617, 47473, 47445, 47437, 47676, 47748, 47439, 47440, 1], [47437, 47653, 47464, 47652, 47437, 47576, 47448, 47437, 47689, 47450, 47437, 47645, 47442, 47437, 47477, 47447, 47437, 47522, 47437, 47439, 47659, 47442, 47441, 47437, 47743, 47446, 47437, 47671, 47437, 47645, 47438, 47837, 47448, 47440, 47654, 1], [47437, 47633, 48120, 47445, 47441, 47437, 47497, 47902, 47451, 47441, 47437, 47578, 47445, 47491, 47437, 47555, 48160, 47764, 47438, 47437, 47528, 47466, 47528, 47560, 47437, 47522, 47443, 47437, 47449, 47880, 47444, 47437, 47801, 47682, 47559, 47453, 1], [47437, 47653, 47474, 47869, 47453, 47437, 47438, 47526, 47437, 48240, 47453, 47437, 47485, 47555, 47437, 47637, 47438, 47437, 47673, 47797, 47440, 47654, 1], [47437, 47490, 47447, 47437, 47611, 47569, 47444, 47437, 48074, 47439, 47440, 1], [47437, 47751, 47438, 47437, 47438, 47455, 47463, 47694, 47437, 47651, 47466, 47445, 47449, 47441, 47437, 47689, 48207, 47470, 47442, 47437, 47507, 48262, 47444, 47437, 48012, 47447, 47437, 47579, 47450, 47437, 47675, 47518, 47438, 47439, 47440, 1], [47437, 47556, 47789, 47459, 47437, 47443, 47485, 47450, 47437, 48090, 47438, 47437, 47633, 48120, 47445, 47462, 47437, 47484, 47559, 47453, 1], [47437, 47653, 47524, 47484, 47517, 47437, 47730, 47437, 48612, 47439, 47515, 47453, 47437, 47814, 48041, 47437, 47544, 47473, 47448, 47437, 48607, 47437, 48129, 48134, 47437, 48012, 47595, 47797, 47453, 47437, 48003, 47438, 47437, 47457, 48050, 47437, 47470, 47471, 47530, 47440, 47654, 1], [47437, 47481, 47437, 47461, 47594, 49309, 48034, 47442, 47437, 47541, 47437, 47562, 47441, 47437, 47487, 47718, 47437, 47822, 48053, 47442, 47517, 47437, 48147, 47437, 47685, 47437, 47883, 47473, 47462, 47437, 48644, 47665, 47559, 47453, 1], [47437, 47522, 47593, 47491, 47437, 47522, 47443, 47437, 47619, 47640, 47478, 5, 49932, 47480, 47459, 47437, 48037, 47473, 47445, 47437, 47676, 47748, 47439, 47440, 1], [47437, 47522, 47437, 47524, 47564, 47571, 47464, 47445, 47437, 47494, 47445, 47448, 47437, 47450, 47736, 47459, 47437, 47597, 47544, 47437, 47675, 48379, 47444, 47437, 48246, 47559, 47437, 47588, 47731, 47444, 47437, 48337, 47437, 47439, 47518, 47437, 47791, 47437, 47633, 48120, 47445, 47462, 47437, 47578, 47493, 48056, 47484, 47445, 47463, 47437, 47676, 47748, 47439, 47440, 1], [47437, 47439, 47494, 47437, 47438, 47437, 47555, 48415, 47437, 47764, 47459, 47437, 47866, 48317, 47444, 47437, 48161, 48176, 47473, 47441, 47437, 48863, 47437, 48161, 48176, 47718, 47439, 47915, 47515, 47484, 47439, 47437, 47450, 47899, 47437, 47690, 47437, 47866, 48317, 47444, 47437, 48209, 47517, 47437, 47451, 47447, 47437, 47668, 47828, 47451, 47517, 47437, 47451, 47441, 47437, 49102, 49102, 47437, 47451, 47441, 47437, 47522, 49278, 47450, 47437, 47508, 47473, 47453, 47437, 47487, 47718, 47824, 47443, 47437, 48610, 47437, 47979, 47441, 47437, 47508, 47473, 47448, 47437, 47724, 47437, 48004, 47438, 47439, 47440, 1], [47437, 47522, 47611, 47637, 47446, 47437, 47543, 47467, 47448, 47437, 48682, 47990, 47487, 47454, 47437, 47667, 47437, 47689, 48207, 47437, 47500, 47541, 47437, 48003, 47437, 47497, 47499, 47463, 47437, 47845, 47450, 47437, 47633, 48120, 47445, 47441, 47437, 48050, 47437, 47470, 48116, 47473, 47437, 47827, 47500, 47513, 47437, 47454, 47437, 48651, 47453, 47437, 47730, 47441, 47437, 47439, 48354, 47437, 48651, 47438, 47437, 47768, 49291, 47437, 47451, 47447, 47437, 47822, 47609, 48096, 47442, 47437, 48010, 47487, 47734, 47437, 47481, 47437, 47578, 47443, 47437, 47924, 47617, 47444, 47437, 48207, 48018, 47437, 47494, 48013, 47437, 47449, 49824, 47595, 47439, 47440, 1], [47437, 47438, 49278, 47447, 47437, 48305, 47441, 47437, 47438, 47443, 47437, 47439, 47473, 47441, 47437, 47555, 47578, 47832, 47816, 47439, 47440, 1], [47437, 48124, 47476, 47491, 47437, 47575, 47437, 48090, 47438, 47437, 47449, 49824, 47439, 47440, 1], [47437, 47438, 47843, 47437, 48082, 47487, 48012, 47444, 47437, 47481, 47437, 47558, 47546, 47462, 47437, 47990, 47444, 47437, 47506, 47448, 47437, 48106, 47437, 47625, 47443, 47437, 47482, 47681, 47444, 47437, 48432, 48432, 47437, 47675, 47628, 47812, 47654, 1], [47437, 47522, 47437, 47531, 47490, 47734, 47437, 47504, 47438, 47437, 48262, 47444, 47437, 48054, 47438, 47445, 47440, 1], [47437, 47490, 47447, 47437, 47483, 47443, 47460, 48192, 47439, 47440, 1], [47437, 47653, 47442, 47438, 47453, 47437, 47531, 47490, 47734, 47504, 47453, 47437, 47507, 47859, 47726, 47459, 47437, 47558, 47437, 47467, 47448, 47437, 47673, 47487, 47453, 47437, 47845, 47437, 48012, 47487, 47437, 47751, 47453, 47437, 48012, 47487, 47454, 47437, 47751, 47812, 1], [47437, 47521, 48811, 47438, 47448, 47437, 47617, 47595, 47705, 47437, 48610, 47444, 47437, 48246, 47487, 47437, 47951, 47447, 47437, 47586, 47439, 47440, 1], [47437, 47720, 47438, 47490, 47437, 47466, 47463, 47437, 47617, 47765, 48277, 47720, 47438, 47580, 47437, 47730, 47437, 47720, 47437, 47470, 47579, 47462, 47437, 47530, 47837, 47437, 47517, 47437, 47485, 47515, 47490, 47437, 47541, 47486, 47437, 48515, 47437, 48010, 47487, 47519, 47437, 47552, 47859, 47560, 47437, 47450, 47437, 47568, 47444, 47437, 48082, 47628, 47437, 47837, 47437, 47526, 47464, 47590, 47437, 47617, 47444, 47437, 47828, 47487, 47437, 47455, 47447, 47437, 47450, 47437, 47638, 47442, 47437, 47471, 47437, 47472, 48134, 47437, 47537, 47441, 47437, 47561, 47438, 47439, 47440, 1], [47437, 47518, 47917, 47437, 47633, 48120, 47445, 47441, 47437, 47546, 47842, 47437, 48090, 47438, 47437, 47481, 47437, 47962, 48033, 47444, 47437, 48054, 47459, 47437, 47438, 47443, 47437, 47962, 48033, 47442, 47437, 47450, 47590, 47437, 47506, 47506, 47455, 47559, 47437, 47512, 47962, 47578, 47946, 47439, 47440, 1], [47437, 48106, 47437, 47491, 47462, 47437, 47609, 47490, 47484, 47445, 47437, 47845, 47451, 47447, 47437, 47652, 47475, 47494, 47437, 47484, 47915, 48011, 47453, 47437, 47869, 47440, 47654, 1], [47437, 47451, 47447, 47437, 47544, 47441, 47437, 47438, 47443, 47437, 48035, 47444, 47437, 47921, 47485, 47548, 47449, 47595, 47439, 47440, 1], [47437, 47653, 47625, 47455, 47518, 47437, 47468, 47578, 47475, 47627, 47445, 47437, 47962, 47538, 47580, 47440, 47654, 1], [47437, 47464, 47481, 47437, 47491, 47450, 47817, 47437, 47629, 47748, 47439, 47440, 47654, 1], [47437, 47633, 48120, 47445, 47441, 47437, 47438, 47437, 47842, 47497, 47462, 47437, 47494, 47612, 47437, 47517, 47437, 47487, 48145, 47517, 47437, 47599, 47448, 47586, 47445, 47437, 47956, 48119, 47439, 47440, 1], [47437, 47633, 48120, 47445, 47441, 47437, 47804, 47512, 47442, 47463, 47437, 47606, 48521, 48125, 47444, 47437, 47457, 47448, 47445, 47447, 47437, 47720, 47442, 47437, 47439, 47439, 48119, 47439, 47440, 1], [47437, 47451, 47447, 47453, 47437, 47633, 48120, 47445, 47441, 47437, 47730, 47439, 47460, 47437, 47638, 47659, 47734, 47451, 47688, 47439, 47440, 1], [47437, 47653, 47522, 47687, 47454, 47440, 47654, 1], [47437, 47653, 47487, 47453, 47437, 47438, 47437, 47457, 47788, 47437, 47804, 47489, 47680, 47453, 47437, 47522, 47494, 47671, 47530, 47440, 47654, 1], [47437, 47522, 47593, 47491, 47437, 48036, 47437, 47464, 47635, 47578, 47462, 47437, 48065, 48065, 47578, 47473, 47559, 47437, 47438, 47437, 47544, 47512, 47442, 47437, 47839, 47485, 47893, 47437, 47471, 47438, 47437, 48175, 48034, 47438, 47595, 47439, 47440, 1], [47437, 47653, 47442, 47546, 47462, 47437, 47990, 47444, 47437, 47438, 47437, 47531, 47490, 47734, 47437, 48684, 47493, 47437, 47764, 47474, 47515, 47453, 47437, 47438, 48684, 47437, 47537, 47448, 47437, 48003, 47438, 47437, 47673, 47444, 47437, 47867, 47437, 47760, 47447, 47440, 47654, 1], [47437, 47487, 48639, 47786, 47437, 47637, 47438, 47611, 47812, 1], [47437, 47653, 47485, 47733, 47453, 47437, 47464, 47635, 47578, 47437, 47485, 47515, 47437, 47647, 47460, 48352, 47460, 47580, 47440, 47654, 1], [47437, 47461, 47449, 47462, 47437, 47668, 47593, 47437, 48484, 48008, 47437, 47457, 47788, 47438, 47437, 47522, 47437, 47564, 47553, 47437, 47564, 47571, 47464, 47437, 47867, 47437, 47633, 48120, 47445, 47441, 47437, 47450, 47685, 47437, 47484, 47447, 47437, 48225, 47620, 47558, 47437, 47467, 47437, 47477, 47595, 47439, 47440, 1], [47437, 47653, 47471, 47437, 47472, 47437, 47531, 48050, 47437, 47470, 47494, 47437, 48825, 47460, 47580, 47440, 47654, 1], [47437, 48295, 47473, 47462, 47437, 48033, 47473, 47441, 47437, 47552, 47586, 47438, 47437, 48337, 47437, 47461, 47449, 47462, 47437, 47449, 47439, 47473, 47447, 47437, 47477, 47439, 47447, 47437, 47537, 47449, 47462, 47437, 47466, 47463, 47437, 47908, 47444, 47437, 47494, 47450, 47437, 48290, 47659, 47444, 47437, 48079, 47517, 47437, 47562, 47595, 47439, 47440, 1], [47437, 47522, 47473, 47447, 47437, 47751, 47461, 47443, 47437, 47892, 48728, 47437, 47493, 47487, 47568, 47437, 47924, 47438, 47437, 47472, 47766, 47451, 47441, 47437, 48090, 47438, 47437, 47461, 47449, 47462, 47437, 47644, 47473, 47441, 47437, 48090, 47451, 47688, 47439, 47440, 1], [47437, 48579, 47486, 47437, 48450, 47617, 47438, 47437, 48542, 47524, 47437, 48115, 47632, 47441, 47437, 47709, 48259, 47546, 47462, 47437, 47449, 47841, 47483, 47825, 47515, 47448, 47437, 47439, 47575, 47437, 48106, 47709, 47437, 47467, 47618, 47474, 47446, 47437, 48719, 47474, 47559, 47453, 47437, 47522, 47437, 47564, 47553, 47437, 47518, 47444, 47437, 47839, 47485, 47437, 47491, 47699, 47437, 47675, 47688, 47439, 47440, 1], [47437, 47653, 47625, 47455, 47518, 47437, 47468, 47578, 47475, 47627, 47445, 47437, 47637, 48364, 47588, 47515, 47627, 47440, 47654, 1], [47437, 47438, 47843, 47437, 47637, 47444, 47437, 47451, 47559, 47437, 47564, 47571, 47459, 47437, 47447, 47521, 47462, 47437, 47449, 48070, 47451, 47688, 47439, 47440, 1], [47437, 47464, 47635, 47578, 47448, 47437, 47555, 47578, 47832, 47445, 47597, 47437, 47522, 47443, 47437, 48062, 47459, 47437, 47438, 47482, 47451, 47517, 47463, 47437, 47448, 48363, 47832, 47816, 47447, 47437, 47522, 47473, 47447, 47437, 47730, 47437, 47464, 47635, 47578, 47448, 47437, 47448, 48363, 47832, 47445, 47515, 47437, 48062, 47459, 47437, 47439, 47460, 47563, 47437, 47555, 47578, 47832, 47816, 47618, 47494, 47437, 47438, 47685, 47442, 47441, 47437, 47538, 47659, 47507, 47576, 47437, 47691, 47507, 47466, 47437, 47770, 47439, 47440, 1], [47437, 47507, 48262, 47463, 47437, 47845, 47437, 48012, 47441, 47437, 47504, 47438, 47437, 47606, 48521, 48125, 47459, 47440, 1], [47437, 48534, 47593, 47437, 48501, 47669, 47449, 47437, 47450, 47437, 48129, 47444, 47437, 47730, 47437, 47538, 48360, 47439, 47440, 1], [47437, 47490, 47447, 47437, 47512, 47962, 47578, 47718, 47439, 47440, 1], [47437, 47653, 48240, 47490, 47437, 48240, 47812, 1], [47437, 47531, 47787, 47437, 47537, 47448, 47437, 48003, 47444, 47437, 47873, 47437, 47814, 47595, 47487, 47440, 1], [47437, 48070, 47441, 47437, 47438, 47441, 47437, 47690, 47987, 47437, 48070, 47474, 47559, 47453, 1], [47437, 47953, 47437, 47685, 47442, 47437, 47789, 48050, 47470, 47437, 47453, 47437, 48072, 47932, 47437, 47685, 47442, 47437, 47531, 48050, 47470, 47437, 47655, 47437, 47485, 47866, 47437, 48343, 47609, 47788, 47442, 47437, 47522, 47473, 47437, 48381, 47556, 47437, 47676, 47459, 47437, 47471, 47438, 47595, 47439, 47440, 1], [47437, 47522, 47593, 47491, 47437, 47554, 47828, 47442, 47437, 47791, 47438, 47441, 47437, 47618, 47437, 47457, 47788, 47443, 47437, 47801, 47438, 47437, 47485, 47515, 47447, 47437, 47491, 47555, 47511, 47902, 47486, 47437, 47764, 47459, 47437, 47915, 48367, 47438, 47437, 47477, 47595, 47439, 47440, 1], [47437, 47633, 48120, 47445, 47443, 47437, 47924, 47460, 47603, 47463, 47437, 48176, 48319, 48176, 48319, 47451, 47688, 47439, 47440, 1], [47437, 47656, 47487, 48125, 47444, 47437, 48694, 47438, 47441, 47437, 48924, 48400, 48776, 47444, 47437, 47689, 47437, 47502, 47538, 47439, 47437, 48623, 47517, 48623, 47517, 47437, 48056, 47531, 47632, 47441, 47437, 48530, 47633, 47437, 47679, 48382, 47442, 47454, 47437, 48722, 47445, 48173, 48722, 47445, 48173, 47437, 47497, 47832, 47445, 47441, 47437, 47851, 47506, 47485, 47515, 47497, 47438, 47559, 47437, 47481, 47729, 47438, 47559, 47437, 47568, 47438, 47559, 47437, 48190, 48909, 47438, 47559, 47437, 47686, 47487, 47559, 47437, 48036, 47455, 48459, 47440, 47440, 47440, 47440, 47440, 47440, 47438, 47437, 47851, 47674, 47567, 47451, 47517, 47437, 47787, 47487, 47951, 47464, 47437, 47541, 47483, 47437, 48019, 47461, 47442, 47437, 47633, 48120, 47445, 47441, 47437, 48069, 47461, 47449, 47437, 47629, 47438, 47437, 47952, 47628, 47454, 47437, 47818, 48389, 47437, 47467, 47437, 47673, 47595, 47439, 47440, 1], [47437, 47468, 47578, 47475, 47444, 47437, 48056, 47491, 47441, 47437, 47522, 47443, 47437, 47554, 47828, 47459, 47437, 47985, 47437, 47451, 47491, 47437, 47673, 47595, 47439, 47440, 1], [47437, 47522, 47441, 47437, 47996, 47667, 47996, 47667, 47437, 47522, 47437, 47524, 47461, 47443, 47437, 48653, 47474, 47446, 47437, 47439, 47448, 47493, 47595, 47439, 47440, 1], [47437, 47451, 47447, 47437, 48212, 47831, 48212, 47831, 47437, 48070, 47441, 47437, 47576, 47476, 47443, 47437, 47962, 48033, 47442, 47441, 47437, 48066, 47828, 47437, 47467, 47437, 47673, 47441, 47437, 47449, 48624, 47438, 47437, 47926, 47929, 48207, 48287, 47439, 47440, 1], [47437, 47653, 47522, 47593, 47516, 47437, 47638, 47490, 47441, 47437, 47455, 47446, 47437, 47867, 47437, 47561, 47438, 47515, 47437, 48198, 47473, 47437, 47448, 47580, 47440, 47654, 1], [47437, 47491, 47555, 47437, 47511, 47902, 47438, 47491, 47437, 47555, 48160, 47437, 47764, 47447, 47437, 47481, 47437, 47526, 47437, 47764, 47445, 47463, 47437, 47676, 47459, 47437, 47439, 47473, 47462, 47437, 47528, 47466, 47437, 48023, 49050, 47474, 47559, 47437, 47734, 48466, 47893, 48466, 47437, 48131, 47441, 47437, 47467, 48034, 47442, 47437, 47673, 47595, 47439, 47440, 1], [47437, 47773, 48020, 47437, 48161, 47638, 47474, 47515, 47437, 47633, 48120, 47445, 47441, 47437, 47464, 47635, 47578, 47462, 47437, 48941, 47437, 47791, 47437, 47828, 47437, 47450, 47726, 47681, 47442, 47437, 48505, 47578, 47483, 48177, 47437, 48484, 48156, 47437, 47477, 47445, 47437, 47676, 47459, 47448, 47440, 1], [47437, 47451, 47447, 47437, 47633, 48120, 47445, 47441, 47437, 47962, 48033, 47444, 47437, 48228, 47454, 47437, 48070, 47595, 47439, 47440, 1], [47437, 47704, 47659, 47437, 47526, 47437, 48072, 47932, 47437, 47526, 47474, 47446, 47437, 47447, 47494, 47437, 47494, 47823, 47451, 47688, 47659, 47471, 47627, 47774, 1], [47437, 47522, 47593, 47461, 47437, 47536, 47437, 47457, 47788, 47443, 47437, 47924, 47442, 47454, 47437, 48010, 47487, 47519, 47437, 48399, 47443, 47437, 48811, 47437, 47764, 47459, 47437, 47924, 47617, 47438, 47437, 48054, 47459, 47437, 47438, 47443, 47437, 49501, 49501, 47450, 47437, 47962, 48033, 47444, 47437, 47487, 48794, 47487, 48794, 47437, 47502, 47460, 47595, 47439, 47440, 1], [47437, 48730, 48730, 47484, 47441, 47437, 47637, 47490, 5, 47438, 47462, 47437, 47484, 47705, 47437, 48061, 47442, 47437, 47476, 47632, 49050, 47595, 47439, 47440, 1], [47437, 47653, 47531, 47787, 47459, 47437, 47491, 47448, 47445, 47437, 47637, 47485, 47580, 47440, 1], [47437, 47522, 47473, 47447, 47437, 47720, 47444, 47437, 47491, 47699, 47437, 47481, 47437, 47485, 47537, 47443, 47437, 47476, 48019, 47438, 47437, 47538, 47659, 47438, 47437, 5, 47449, 47595, 47439, 47437, 47655, 47437, 47802, 47720, 47437, 47538, 47538, 48053, 47450, 47817, 47454, 47437, 47476, 47632, 47593, 47437, 47912, 47444, 47437, 47481, 47437, 47751, 47464, 47459, 47437, 48452, 47494, 47437, 47625, 47459, 47437, 47962, 48033, 47442, 47437, 47529, 47471, 47443, 47437, 48420, 47617, 47437, 47764, 47459, 47437, 47529, 47638, 47473, 47437, 47658, 47447, 47437, 47892, 48881, 47450, 47437, 47924, 47442, 47437, 47824, 47902, 47451, 47441, 47437, 48162, 47444, 47437, 48447, 47544, 47559, 47453, 1], [47437, 47653, 47541, 48439, 47665, 47437, 47439, 47942, 48374, 47460, 47580, 47440, 47654, 1], [47437, 47720, 47443, 47437, 47711, 47499, 47438, 47437, 47461, 48023, 47437, 47924, 47802, 47442, 47437, 47487, 47738, 47578, 47473, 47487, 47437, 47464, 47481, 47437, 47580, 47552, 47444, 47437, 47609, 48410, 47437, 47524, 47529, 47463, 47437, 47673, 47595, 47439, 47440, 1], [47437, 47653, 47438, 47437, 47457, 47788, 47438, 47437, 47468, 47637, 47437, 47546, 48074, 47569, 47437, 47637, 47464, 47448, 47440, 1], [47437, 47485, 47515, 47439, 47437, 47621, 47719, 47437, 47485, 47515, 47439, 47440, 1], [47437, 47653, 47485, 47733, 47453, 47437, 47468, 47578, 47475, 47437, 47824, 47493, 47484, 47742, 47437, 47485, 47483, 47437, 48075, 47517, 47437, 47542, 48149, 47439, 47437, 47557, 47473, 47790, 47631, 47515, 47439, 47440, 1], [47437, 47522, 47443, 47437, 47485, 47537, 47448, 47437, 47449, 47866, 47474, 47446, 47437, 48377, 48372, 47578, 47473, 47449, 47441, 47437, 47814, 48041, 47437, 47638, 47602, 47448, 47437, 47926, 47595, 47439, 47440, 1], [47437, 47653, 47438, 47843, 47437, 47531, 47490, 47734, 47437, 47504, 47453, 47437, 47483, 47611, 47475, 47652, 47437, 47821, 47832, 47494, 47437, 47477, 47474, 47516, 47437, 47481, 47471, 47438, 47611, 47440, 1], [47437, 47560, 47437, 47541, 47442, 47437, 47493, 47487, 47454, 47559, 47437, 47606, 48521, 48125, 47444, 47437, 47450, 47497, 47679, 47442, 47437, 47951, 47444, 47437, 47457, 47438, 47463, 47437, 47673, 47438, 47437, 47483, 47468, 48314, 47459, 47437, 47709, 47614, 47444, 47437, 47477, 47441, 47437, 47455, 47446, 47437, 47439, 47437, 47537, 47487, 47437, 47616, 47545, 47444, 47437, 48074, 47439, 47440, 1], [47437, 47522, 48143, 47437, 47844, 47659, 47442, 47437, 47522, 47443, 47437, 47825, 47473, 47876, 47437, 47730, 47437, 47743, 47446, 47586, 47437, 47711, 47540, 47438, 47437, 47506, 48074, 47491, 47515, 47437, 47522, 47526, 47459, 47437, 47624, 47438, 47593, 47497, 47437, 47893, 47437, 47517, 47437, 47485, 47515, 47490, 47437, 47438, 47437, 47667, 47704, 47462, 47437, 48212, 48212, 47437, 47839, 47559, 47437, 47576, 47437, 47531, 47449, 47462, 47437, 47449, 47439, 47473, 47516, 47437, 47730, 47437, 47822, 48053, 47444, 47437, 47692, 47544, 47517, 47437, 47815, 47441, 47445, 47463, 47437, 47956, 47490, 47623, 47786, 47437, 47571, 47648, 47438, 47595, 47439, 47440, 1], [47437, 47730, 47437, 47450, 47437, 48129, 47437, 48012, 47447, 47437, 47491, 47454, 47437, 47633, 48120, 47445, 47441, 47437, 47556, 47789, 47443, 47437, 47487, 48161, 47462, 47437, 47556, 47559, 47437, 47518, 47917, 47437, 49500, 49500, 47437, 48070, 47441, 47439, 47440, 1], [47437, 47653, 47438, 47437, 47924, 48379, 47812, 1], [47437, 47508, 47473, 47462, 47437, 48068, 47635, 47764, 47438, 47437, 47445, 47632, 47447, 47441, 47437, 47839, 47485, 47510, 47439, 47440, 1], [47437, 47653, 47464, 47635, 47578, 47462, 47437, 47647, 47460, 48352, 47460, 47580, 47440, 47654, 1], [47437, 48115, 47473, 47447, 47437, 47506, 47437, 47531, 47441, 47437, 47451, 47787, 47459, 47437, 47487, 48838, 47866, 47866, 47451, 47517, 47437, 47814, 48041, 47437, 47776, 47937, 47442, 47437, 47448, 47627, 47586, 47437, 48090, 47451, 47439, 47440, 1], [47437, 47653, 47438, 48684, 47453, 47437, 47531, 47490, 47734, 47437, 48684, 47453, 47437, 48106, 47437, 47731, 47444, 47437, 48612, 47445, 47437, 47676, 47487, 47440, 47654, 1], [47437, 47490, 47447, 47437, 49291, 48090, 47438, 47437, 47543, 47544, 48074, 47439, 47440, 1], [47437, 47784, 47594, 47568, 47442, 47437, 47671, 47476, 47532, 47437, 47546, 48023, 47473, 47437, 47837, 47437, 47479, 47437, 47450, 47437, 47522, 48558, 47444, 47437, 47522, 48283, 47437, 47617, 47764, 47438, 47437, 47493, 47438, 48045, 47447, 47437, 47637, 47748, 47439, 47440, 1], [47437, 47633, 48120, 47445, 47441, 47437, 47588, 47731, 47486, 47437, 47467, 47980, 47442, 47437, 47990, 47459, 47437, 47731, 47444, 47437, 48198, 47485, 47493, 47438, 47447, 47437, 47491, 47454, 47437, 47597, 47544, 47437, 47494, 47823, 47450, 47437, 48090, 47438, 47437, 47522, 47437, 48092, 48480, 47437, 47761, 47438, 47437, 47467, 47980, 47444, 47437, 47952, 47439, 48365, 47474, 47559, 47453, 1], [47437, 47490, 47447, 47437, 47660, 48074, 47439, 47440, 1], [47437, 47556, 47789, 47443, 47437, 48305, 47441, 47437, 47822, 47444, 47437, 48347, 47473, 47556, 47690, 47515, 47437, 47633, 48120, 47445, 47441, 47437, 47924, 47617, 47438, 47437, 47831, 49330, 47831, 49330, 47450, 47437, 47924, 47474, 47446, 47437, 48040, 47522, 47670, 48070, 47441, 47439, 47440, 1], [47437, 47674, 48684, 47443, 47437, 47464, 47635, 47578, 48314, 47438, 47437, 47674, 47999, 47517, 47437, 47731, 47438, 47437, 47804, 47466, 47437, 47448, 47445, 47447, 47437, 47438, 47437, 47519, 48233, 47442, 47437, 47487, 48318, 47437, 47448, 47644, 47453, 47437, 47490, 47447, 47437, 47828, 47437, 47448, 47441, 47437, 47457, 47788, 47438, 47437, 48345, 47468, 47444, 47437, 47451, 47473, 47494, 48013, 47437, 47522, 47443, 47437, 47902, 47659, 47459, 47437, 47776, 47664, 47451, 47688, 47439, 47440, 1], [47437, 47653, 47491, 47448, 47445, 47437, 47637, 47490, 47463, 47437, 47522, 47687, 47453, 47437, 47522, 47593, 47516, 47437, 47471, 48189, 47438, 47437, 47493, 47487, 47532, 47580, 47440, 47654, 1], [47437, 47451, 47447, 47437, 47633, 48120, 47445, 47441, 47437, 48505, 48505, 47437, 47508, 47473, 47462, 47437, 47537, 47487, 47437, 47586, 47439, 47440, 1], [47437, 47461, 47797, 47463, 47437, 47531, 47787, 47437, 47543, 47546, 47448, 47437, 47908, 47485, 47437, 47484, 47438, 47440, 47654, 1], [47437, 47522, 47999, 47445, 47437, 47676, 47474, 47516, 47437, 47455, 47518, 47442, 47437, 47493, 47487, 47454, 47461, 47538, 47461, 47437, 47470, 47442, 47437, 47673, 47438, 47453, 1], [47437, 47481, 47437, 47588, 47474, 47446, 47437, 47476, 47632, 47447, 47463, 47437, 47469, 47469, 47446, 47437, 47522, 47437, 47966, 47614, 47612, 47437, 48003, 47437, 47870, 47467, 47442, 47437, 48111, 48119, 47439, 47440, 1], [47437, 49123, 47438, 47437, 47487, 47712, 47523, 47448, 47580, 47440, 47654, 1], [47437, 47483, 47718, 47437, 47763, 47461, 47441, 47437, 47659, 47594, 48122, 47444, 47437, 47484, 47690, 47515, 47437, 47690, 47987, 47690, 47987, 47437, 47506, 47487, 47445, 47559, 47437, 47461, 48023, 47461, 48023, 47437, 47493, 47438, 47490, 47437, 47493, 47438, 47490, 47437, 47451, 47688, 47439, 47440, 1], [47437, 47522, 47437, 47542, 47615, 47459, 47437, 47538, 47556, 47437, 47461, 47449, 47437, 47720, 47437, 48863, 47437, 48242, 47437, 47668, 47552, 47444, 47437, 47744, 47451, 47447, 47437, 47638, 47485, 47448, 47441, 47437, 47481, 47437, 47439, 47473, 47462, 47437, 47481, 47437, 47985, 47474, 47446, 47441, 47437, 47463, 47674, 47665, 47437, 47487, 48318, 47558, 47437, 47467, 47437, 47673, 47474, 47515, 47437, 47821, 47497, 47837, 47445, 47437, 47491, 47462, 47437, 48217, 47437, 47921, 47485, 47437, 47439, 47447, 47453, 47437, 47497, 47466, 47437, 47439, 47447, 47437, 47451, 47441, 47437, 48090, 47451, 47688, 47439, 47440, 1], [47437, 47653, 47563, 47560, 47437, 48070, 47447, 47437, 47445, 48410, 47444, 47437, 47451, 47690, 47515, 47437, 47544, 47441, 47437, 47618, 47437, 47730, 47437, 47555, 48091, 47437, 47471, 47464, 47448, 47440, 47654, 1], [47437, 47653, 47472, 47437, 47438, 47437, 47457, 47788, 47438, 47453, 47437, 47736, 47637, 47444, 47437, 47451, 47491, 47437, 47578, 48173, 47637, 47444, 47437, 47451, 47491, 47440, 1], [47437, 48070, 47659, 47437, 47508, 47473, 47493, 47459, 47437, 47807, 47485, 47816, 47439, 47440, 1], [47437, 47522, 47441, 47437, 48931, 47460, 47437, 47513, 47643, 47444, 47437, 47537, 47559, 47437, 47821, 47497, 47442, 47517, 47437, 47599, 47752, 47438, 47491, 47437, 47451, 47441, 47437, 48090, 47438, 47437, 47517, 47902, 47578, 47946, 47439, 47440, 1], [47437, 47633, 48120, 47445, 47441, 47437, 47804, 47450, 47437, 47512, 47442, 47463, 47437, 48003, 47443, 47437, 47578, 47704, 47462, 47437, 47801, 47682, 47441, 47437, 48090, 47438, 47437, 47924, 47444, 47437, 47658, 47517, 47437, 48056, 47454, 47437, 48233, 47444, 47437, 47537, 47628, 47439, 47484, 47439, 47448, 47437, 47668, 47460, 47442, 47437, 47481, 47437, 47451, 47441, 47437, 48173, 47438, 47437, 47851, 47555, 47437, 47690, 47922, 47439, 47441, 47437, 48090, 47438, 47437, 47447, 47521, 47462, 47437, 47508, 47469, 47490, 47556, 47461, 47437, 47690, 47987, 47437, 47492, 47444, 47437, 47537, 47559, 47453, 1], [47437, 47773, 47437, 48233, 47442, 47437, 47506, 47448, 47437, 47537, 47628, 47437, 47546, 48305, 47922, 47449, 47463, 47437, 47451, 47688, 47445, 47494, 47440, 1], [47437, 48501, 47669, 47449, 47437, 47671, 47437, 48129, 47459, 47437, 47730, 47437, 47476, 47487, 47734, 47437, 47897, 47462, 47463, 47437, 47673, 47438, 47437, 47637, 47628, 47437, 47448, 47447, 47437, 47637, 47748, 47439, 47440, 1], [47437, 48277, 47932, 47437, 47522, 48558, 47444, 47437, 47663, 47485, 47437, 47493, 47595, 47444, 47437, 47481, 47437, 47590, 47544, 47705, 47437, 47873, 47902, 47473, 47437, 48501, 47669, 47449, 47437, 47671, 47437, 48129, 47438, 47437, 47690, 48183, 47439, 47440, 1], [47437, 47653, 48620, 47449, 47437, 47546, 47842, 48684, 47453, 47437, 47578, 48173, 47637, 47437, 47637, 47485, 47440, 47654, 1], [47437, 47653, 48054, 47449, 47441, 47437, 47821, 47448, 47437, 48054, 47487, 47440, 47654, 1], [47437, 47653, 47485, 47701, 47453, 47437, 48269, 47475, 47854, 47444, 47437, 47504, 47453, 47437, 47756, 47437, 48082, 47487, 48012, 47444, 47437, 47508, 47473, 47462, 47437, 47439, 47437, 47451, 47797, 47440, 1], [47437, 47603, 47439, 47448, 47437, 47603, 47439, 47448, 47437, 47709, 47463, 47437, 48024, 48181, 47447, 47437, 47730, 47437, 47603, 47437, 47449, 47586, 47507, 47576, 47437, 47460, 47519, 47450, 47437, 47526, 47437, 47764, 47439, 47440, 1], [47437, 47556, 47789, 47438, 47532, 47437, 47764, 47438, 47437, 47538, 47460, 47461, 47437, 47472, 47472, 47438, 47437, 47506, 47595, 47705, 47437, 47629, 47438, 47490, 47437, 48318, 47632, 47462, 47437, 47451, 47447, 47437, 47763, 47461, 47442, 47437, 47920, 47445, 47559, 47437, 47962, 48033, 47438, 47437, 47513, 48319, 47451, 47688, 47439, 47440, 1], [47437, 47653, 47524, 47484, 47517, 47437, 48003, 47437, 48010, 47487, 47816, 47797, 47453, 47437, 48106, 47437, 48003, 47444, 47437, 47873, 47437, 48059, 48786, 47491, 47440, 47654, 1], [47437, 47522, 47441, 47437, 47668, 47552, 47442, 47437, 47439, 48096, 47556, 47449, 47437, 47470, 47437, 47460, 47568, 47444, 47437, 47962, 47538, 48254, 47438, 47490, 47463, 47437, 47787, 47438, 47628, 47447, 47437, 47750, 47632, 47502, 47578, 47946, 47439, 47440, 1], [47437, 47522, 47437, 47564, 47571, 47459, 47437, 47439, 48116, 47447, 48116, 47446, 47453, 1], [47437, 47653, 47578, 48173, 47637, 47459, 47437, 48106, 47453, 47437, 47736, 47637, 47446, 47437, 48054, 47595, 47487, 47453, 47437, 47736, 47637, 47446, 47440, 47440, 47440, 47440, 47440, 47440, 47437, 47538, 47821, 47490, 47437, 47460, 47579, 47462, 47437, 47720, 47442, 47437, 48722, 47493, 47929, 47437, 47951, 47447, 47437, 47537, 47448, 47437, 47731, 47444, 47437, 48012, 47439, 47515, 47453, 47437, 47537, 47448, 47437, 48054, 47471, 47437, 48684, 47438, 47611, 47453, 47437, 48054, 47471, 47437, 48684, 47438, 47611, 47440, 47654, 1], [47437, 47531, 47787, 47437, 48003, 47437, 47536, 47690, 47546, 47764, 47438, 47437, 47814, 47595, 47441, 47590, 47440, 47654, 1], [47437, 48104, 48104, 47450, 47437, 47709, 47442, 47437, 47542, 47483, 47437, 47450, 47437, 48129, 47463, 47437, 47502, 47574, 47437, 47467, 47437, 47477, 47578, 47515, 47532, 47437, 47522, 47484, 47439, 47463, 47437, 48564, 47441, 47437, 47485, 47537, 47442, 47517, 47437, 47606, 48521, 48125, 47437, 47450, 47437, 47522, 48558, 47463, 47437, 47457, 47439, 47437, 47867, 47437, 47467, 47437, 47477, 47659, 47438, 47439, 47440, 1], [47437, 47556, 47789, 47459, 47437, 47487, 47438, 47673, 47438, 47437, 47483, 47468, 48324, 47438, 47462, 47437, 47609, 47490, 47484, 47559, 47453, 1], [47437, 47451, 47447, 47437, 48508, 48566, 47437, 48131, 47487, 47491, 47531, 47628, 47515, 47627, 47437, 47684, 47461, 47441, 47437, 47990, 47921, 47444, 47437, 48090, 47438, 47437, 48035, 47444, 47437, 47537, 47674, 47474, 47559, 47453, 1], [47437, 47487, 47454, 47437, 47438, 47473, 47437, 47493, 47487, 47532, 47437, 47637, 47473, 47517, 47440, 47654, 1], [47437, 47438, 47437, 47924, 48379, 47812, 1], [47437, 47878, 47442, 47454, 47437, 47653, 47464, 47635, 47578, 47812, 47654, 47437, 47451, 47447, 47437, 47476, 47632, 47441, 47437, 47508, 47473, 47448, 47437, 47612, 47439, 47440, 1], [47437, 47653, 48078, 47439, 47448, 47437, 47522, 47674, 47437, 47531, 47449, 47448, 47437, 47541, 47723, 47590, 47522, 47628, 47440, 1], [47437, 47451, 47447, 47437, 47917, 47443, 47448, 47437, 47615, 47615, 47440, 1], [47437, 47451, 47447, 47437, 47556, 47789, 47443, 47437, 47483, 47832, 47437, 47483, 47441, 47437, 48003, 47444, 47437, 47663, 47485, 47453, 1], [47437, 47490, 47441, 47437, 47508, 47473, 47532, 47437, 47683, 47796, 47437, 47554, 47828, 47446, 47437, 47821, 47586, 47437, 47438, 47443, 47437, 47439, 47473, 47462, 47437, 48931, 47460, 47437, 49132, 47439, 47440, 1], [47437, 47464, 47481, 47437, 47606, 48521, 48125, 47444, 47437, 47457, 47867, 47437, 47467, 47463, 47437, 47477, 47439, 47440, 1], [47437, 47653, 47485, 47515, 47699, 47460, 47439, 47440, 1], [47437, 47522, 47593, 47516, 47437, 47720, 47474, 47446, 47437, 47448, 47530, 47453, 47437, 47448, 47440, 47654, 1], [47437, 47730, 47437, 47438, 47843, 47437, 47519, 47724, 47459, 47437, 48217, 47437, 47690, 47437, 47483, 48149, 47611, 47445, 47580, 47440, 47654, 1], [47437, 47653, 47531, 47787, 47459, 47437, 47491, 47448, 47445, 47437, 47637, 47485, 47580, 47453, 47437, 47537, 47448, 47437, 47438, 47999, 47517, 47437, 47485, 48118, 47590, 47654, 47437, 47438, 47843, 47437, 47637, 47438, 47437, 48251, 48251, 47437, 47522, 47443, 47437, 47969, 47442, 47437, 47603, 47946, 47439, 47440, 1], [47437, 47470, 47576, 47441, 47437, 47912, 47439, 47440, 1], [47437, 47461, 47449, 47437, 47720, 47437, 47448, 47627, 47438, 47437, 47439, 47439, 47738, 47437, 47627, 48399, 47438, 47439, 47440, 1], [47437, 47522, 47593, 47491, 47437, 47522, 47443, 47437, 47552, 47586, 47459, 47437, 47522, 47902, 47446, 47437, 47522, 47556, 47445, 47437, 47676, 47748, 47439, 47440, 1], [47437, 47531, 47787, 47437, 47448, 47449, 47446, 47437, 47620, 47468, 47459, 47437, 47451, 47688, 47618, 47494, 47437, 47506, 47441, 47437, 47531, 47447, 47453, 47437, 48225, 47459, 47437, 47477, 47447, 47437, 47466, 47454, 47437, 47487, 48318, 47558, 47437, 47867, 47437, 47542, 47632, 47439, 47448, 47437, 47538, 47866, 47437, 47633, 48120, 47445, 47462, 47437, 47484, 47447, 47437, 48131, 47487, 47491, 47912, 47659, 47438, 47473, 47490, 47440, 1], [47437, 47653, 47789, 48050, 47437, 47472, 47444, 47437, 47814, 47595, 47487, 47453, 47437, 47789, 48050, 47437, 47472, 47444, 47812, 1], [47437, 47653, 47438, 47437, 47472, 47467, 48620, 48003, 47812, 1], [47437, 47490, 47447, 47437, 47617, 47595, 47439, 47440, 1], [47437, 47653, 47730, 47437, 47476, 47487, 47453, 47437, 47730, 47437, 47476, 47487, 47440, 47654, 1], [47437, 47522, 47687, 47437, 47470, 47576, 47437, 47468, 47805, 47475, 47442, 47454, 47437, 47487, 47841, 47487, 47841, 47451, 47559, 47437, 47822, 48053, 47437, 47451, 47491, 47462, 47437, 47692, 47603, 47437, 48088, 47473, 47462, 47437, 47451, 47445, 47437, 47676, 47748, 47491, 47440, 1], [47437, 47653, 47474, 47869, 47453, 47437, 47730, 47437, 47455, 47981, 47438, 47437, 47673, 47797, 47440, 1], [47437, 47457, 48207, 47437, 47470, 47476, 47561, 47437, 47606, 48521, 48125, 47437, 47479, 47617, 47438, 47437, 47538, 47460, 47447, 47437, 48102, 47439, 47447, 47437, 47625, 47741, 47444, 47437, 48124, 48119, 47439, 47440, 1], [47437, 47505, 47455, 47450, 47437, 47487, 47718, 47437, 47822, 48053, 47459, 47437, 47438, 47843, 47437, 47637, 47444, 47437, 47625, 47449, 47447, 47437, 47707, 47707, 47665, 47437, 48284, 47463, 47437, 47588, 47447, 47437, 48225, 47463, 47437, 48348, 47449, 47593, 47437, 47893, 47437, 47590, 47446, 47437, 48078, 47439, 47440, 1], [47437, 47730, 47437, 47704, 48012, 47447, 47437, 47445, 48410, 47751, 47444, 47437, 47451, 47517, 47440, 47654, 47437, 47490, 47447, 47453, 47437, 47611, 47569, 47444, 47437, 47929, 47484, 47748, 47618, 47494, 47453, 47437, 47845, 47437, 47457, 47483, 47441, 47437, 47538, 47659, 47438, 47437, 47460, 47472, 47556, 47441, 47437, 47676, 47748, 47439, 47440, 1], [47437, 47522, 47437, 47457, 47657, 47442, 47437, 48147, 47437, 48651, 47437, 47459, 47470, 47438, 47437, 47958, 47522, 47859, 47437, 47451, 47559, 47437, 48010, 47487, 47519, 47439, 47440, 1], [47437, 47522, 47843, 47590, 47437, 47438, 47437, 47821, 47522, 47593, 47892, 47459, 47437, 47541, 47651, 47442, 47454, 47437, 47531, 47441, 47437, 47517, 47437, 47485, 47515, 47580, 47437, 47461, 47449, 47462, 47437, 48457, 47842, 47437, 47555, 47454, 47586, 47437, 47668, 47552, 47444, 47437, 48036, 48509, 47673, 47438, 47437, 47760, 47517, 47437, 47815, 47437, 47675, 47448, 47437, 47650, 47671, 47450, 47437, 47526, 47444, 47437, 47671, 47473, 47441, 47437, 47538, 47659, 47442, 47454, 47437, 47531, 47441, 47437, 47526, 47438, 47439, 47440, 1], [47437, 47653, 48054, 47449, 47441, 47437, 48106, 47437, 48054, 47487, 47453, 47437, 47571, 47675, 47764, 47438, 47437, 47801, 47485, 47494, 47437, 47477, 47569, 47439, 47440, 1], [47437, 47512, 47455, 47448, 47473, 47441, 47437, 47840, 47840, 47437, 48070, 47447, 47437, 47556, 47789, 47444, 47437, 47484, 47559, 47437, 47518, 47443, 47451, 47441, 47437, 48090, 47438, 47437, 47924, 48173, 47444, 47437, 47451, 47688, 47439, 47440, 1], [47437, 47491, 47463, 47437, 47485, 47483, 47974, 47797, 47448, 47437, 48564, 47441, 47569, 47437, 47637, 47459, 47437, 47493, 47595, 47441, 47590, 47440, 47654, 1], [47437, 47606, 47538, 47437, 47531, 47787, 47437, 47537, 47446, 47437, 47487, 48056, 48708, 47437, 48102, 47595, 47439, 47440, 1], [47437, 48377, 48372, 47578, 47473, 47441, 47437, 47449, 47866, 47437, 47508, 47473, 47463, 47437, 47493, 47444, 47437, 47467, 47437, 47673, 47439, 47440, 1], [47437, 47522, 47437, 47512, 47442, 47454, 47437, 47822, 48053, 47444, 47437, 47617, 47880, 47451, 47441, 47437, 47633, 48120, 47445, 47443, 47437, 47924, 47876, 47437, 47615, 47825, 47473, 47442, 47437, 47878, 47762, 47437, 47807, 47459, 47437, 47497, 47671, 47462, 47437, 47523, 47447, 47437, 47766, 47697, 47627, 47445, 47437, 47671, 47738, 47437, 47449, 47571, 47437, 47961, 47617, 47464, 47437, 48090, 47437, 47612, 47898, 47437, 47524, 47564, 47571, 47464, 47437, 48090, 47450, 47437, 47524, 47741, 47797, 47443, 47437, 47542, 47615, 47438, 47437, 48447, 47595, 47439, 47440, 1], [47437, 47743, 47866, 47451, 47517, 47437, 48115, 47718, 47437, 47657, 47438, 47437, 47924, 47438, 47437, 47699, 47437, 48090, 47451, 47690, 47515, 47437, 47924, 47459, 47437, 47485, 47515, 47437, 47531, 47447, 47437, 47962, 47439, 47448, 47437, 47494, 47437, 47506, 47448, 47437, 47656, 47502, 47656, 47502, 47437, 47537, 47473, 47441, 47437, 47724, 47438, 47595, 47439, 47440, 1], [47437, 47653, 47438, 48684, 47485, 47437, 47773, 47481, 47441, 47453, 47437, 47531, 47787, 47438, 47445, 47440, 47654, 1], [47437, 47522, 47675, 47463, 47437, 47633, 48120, 47445, 47448, 47437, 47531, 47687, 47568, 47494, 47442, 47437, 48003, 47444, 47437, 48079, 47487, 47454, 47437, 48463, 48298, 47437, 47450, 47437, 47562, 47532, 47437, 48050, 47437, 47470, 48116, 47473, 47437, 47491, 47555, 47437, 47450, 47437, 47569, 47444, 47437, 47457, 47439, 47437, 47483, 47595, 47690, 47515, 47437, 47633, 48120, 47445, 47443, 47437, 47637, 47442, 47437, 47443, 47445, 47451, 47516, 47437, 47522, 47437, 47531, 47490, 47734, 47437, 47504, 47438, 47437, 47652, 47560, 47445, 47762, 47474, 47446, 47437, 48474, 47506, 47442, 47437, 47455, 47447, 47437, 48694, 47688, 47439, 47440, 1], [47437, 47522, 47441, 47437, 47438, 47437, 47544, 47512, 47442, 47437, 47544, 47475, 47463, 47437, 47673, 47438, 47437, 47522, 47437, 47974, 47437, 47857, 47444, 47437, 47782, 48516, 47578, 47473, 47447, 47437, 47448, 47449, 47448, 47437, 48575, 47595, 47659, 47471, 47627, 47774, 1]]\n"
          ]
        }
      ]
    },
    {
      "cell_type": "code",
      "source": [
        "# 데이터 패딩\n",
        "input_data = pad_sequences(input_data, MAX_LEN, value= vocab[vocab.padding_token])\n",
        "output_data = pad_sequences(output_data, MAX_LEN, value= vocab[vocab.padding_token])"
      ],
      "metadata": {
        "id": "K1soapXMQOfP"
      },
      "execution_count": 25,
      "outputs": []
    },
    {
      "cell_type": "code",
      "source": [
        "vocab[vocab.padding_token]"
      ],
      "metadata": {
        "colab": {
          "base_uri": "https://localhost:8080/"
        },
        "id": "hoU-3ySPRA3A",
        "outputId": "7a9da3ed-68b8-4969-e311-968749c28a57"
      },
      "execution_count": 30,
      "outputs": [
        {
          "output_type": "execute_result",
          "data": {
            "text/plain": [
              "3"
            ]
          },
          "metadata": {},
          "execution_count": 30
        }
      ]
    },
    {
      "cell_type": "code",
      "source": [
        "input_data = np.array(input_data, dtype = np.int64)\n",
        "output_data = np.array(output_data, dtype = np.int64)"
      ],
      "metadata": {
        "id": "iTlWNr0iRCDx"
      },
      "execution_count": 26,
      "outputs": []
    },
    {
      "cell_type": "code",
      "source": [
        "input_data"
      ],
      "metadata": {
        "colab": {
          "base_uri": "https://localhost:8080/"
        },
        "id": "n3cZJyELRJQI",
        "outputId": "79fe9c9b-7cec-4210-e04d-ce2ea2fe3e64"
      },
      "execution_count": 27,
      "outputs": [
        {
          "output_type": "execute_result",
          "data": {
            "text/plain": [
              "array([[    3,     3,     3, ..., 48090, 47438, 47453],\n",
              "       [47544, 47448, 47437, ..., 47473, 47490, 47440],\n",
              "       [47455, 48459, 47437, ..., 47688, 47439, 47440],\n",
              "       ...,\n",
              "       [    3,     3,     3, ..., 47445, 47440, 47654],\n",
              "       [47451, 47516, 47437, ..., 47688, 47439, 47440],\n",
              "       [47544, 47475, 47463, ..., 47471, 47627, 47774]])"
            ]
          },
          "metadata": {},
          "execution_count": 27
        }
      ]
    },
    {
      "cell_type": "code",
      "source": [
        "output_data"
      ],
      "metadata": {
        "colab": {
          "base_uri": "https://localhost:8080/"
        },
        "id": "xpf2C2amRYj3",
        "outputId": "12d46094-03b1-463b-cec7-c0f41c0143cf"
      },
      "execution_count": 28,
      "outputs": [
        {
          "output_type": "execute_result",
          "data": {
            "text/plain": [
              "array([[    3,     3,     3, ..., 47438, 47453,     1],\n",
              "       [47448, 47437, 47445, ..., 47490, 47440,     1],\n",
              "       [48459, 47437, 47671, ..., 47439, 47440,     1],\n",
              "       ...,\n",
              "       [    3,     3,     3, ..., 47440, 47654,     1],\n",
              "       [47516, 47437, 47522, ..., 47439, 47440,     1],\n",
              "       [47475, 47463, 47437, ..., 47627, 47774,     1]])"
            ]
          },
          "metadata": {},
          "execution_count": 28
        }
      ]
    },
    {
      "cell_type": "code",
      "source": [
        "input_data.shape"
      ],
      "metadata": {
        "colab": {
          "base_uri": "https://localhost:8080/"
        },
        "id": "LdxNt5h3RZXS",
        "outputId": "fc7b181d-1d22-4d18-e550-1308aad3b3b0"
      },
      "execution_count": 32,
      "outputs": [
        {
          "output_type": "execute_result",
          "data": {
            "text/plain": [
              "(284, 30)"
            ]
          },
          "metadata": {},
          "execution_count": 32
        }
      ]
    },
    {
      "cell_type": "code",
      "source": [
        "output_data.shape"
      ],
      "metadata": {
        "colab": {
          "base_uri": "https://localhost:8080/"
        },
        "id": "_w3N5ZLQRcSl",
        "outputId": "7b5fbb52-d0d2-404c-ce44-618ba6615508"
      },
      "execution_count": 33,
      "outputs": [
        {
          "output_type": "execute_result",
          "data": {
            "text/plain": [
              "(284, 30)"
            ]
          },
          "metadata": {},
          "execution_count": 33
        }
      ]
    },
    {
      "cell_type": "code",
      "source": [
        "# 소설 텍스트 미세 조정 모델 학습\n",
        "loss_object = tf.keras.losses.SparseCategoricalCrossentropy(\n",
        "    from_logits=True, reduction='none')\n",
        "\n",
        "train_accuracy = tf.keras.metrics.SparseCategoricalAccuracy(name='accuracy')\n",
        "\n",
        "def loss_function(real, pred):\n",
        "    mask = tf.math.logical_not(tf.math.equal(real, vocab[vocab.padding_token]))\n",
        "    loss_ = loss_object(real, pred)\n",
        "\n",
        "    mask = tf.cast(mask, dtype=loss_.dtype)\n",
        "    loss_ *= mask\n",
        "\n",
        "    return tf.reduce_mean(loss_)\n",
        "\n",
        "def accuracy_function(real, pred):\n",
        "    mask = tf.math.logical_not(tf.math.equal(real, vocab[vocab.padding_token]))\n",
        "    mask = tf.expand_dims(tf.cast(mask, dtype=pred.dtype), axis=-1)\n",
        "    pred *= mask    \n",
        "    acc = train_accuracy(real, pred)\n",
        "\n",
        "    return tf.reduce_mean(acc)"
      ],
      "metadata": {
        "id": "1piATyKtRdX-"
      },
      "execution_count": 29,
      "outputs": []
    },
    {
      "cell_type": "code",
      "source": [
        "gpt_model.compile(loss = loss_function, optimizer =tf.keras.optimizers.Adam(1e-4), metrics=[accuracy_function])"
      ],
      "metadata": {
        "id": "M5qnP6eaWQeP"
      },
      "execution_count": 30,
      "outputs": []
    },
    {
      "cell_type": "code",
      "source": [
        "history = gpt_model.fit(input_data, output_data, batch_size = BATCH_SIZE, epochs = NUM_EPOCHS, validation_split = 0.1)"
      ],
      "metadata": {
        "colab": {
          "base_uri": "https://localhost:8080/"
        },
        "id": "UADpJUtlWY2_",
        "outputId": "7696b2ab-1d4d-4f34-d39c-0c56d75b9f9c"
      },
      "execution_count": 31,
      "outputs": [
        {
          "output_type": "stream",
          "name": "stdout",
          "text": [
            "Epoch 1/10\n",
            "16/16 [==============================] - 23s 293ms/step - loss: 4.1056 - accuracy_function: 0.1791 - val_loss: 2.8321 - val_accuracy_function: 0.2213\n",
            "Epoch 2/10\n",
            "16/16 [==============================] - 2s 118ms/step - loss: 2.8756 - accuracy_function: 0.2451 - val_loss: 2.4481 - val_accuracy_function: 0.2640\n",
            "Epoch 3/10\n",
            "16/16 [==============================] - 2s 118ms/step - loss: 2.4539 - accuracy_function: 0.2804 - val_loss: 2.3074 - val_accuracy_function: 0.2941\n",
            "Epoch 4/10\n",
            "16/16 [==============================] - 2s 118ms/step - loss: 2.1764 - accuracy_function: 0.3075 - val_loss: 2.2479 - val_accuracy_function: 0.3175\n",
            "Epoch 5/10\n",
            "16/16 [==============================] - 2s 118ms/step - loss: 1.9458 - accuracy_function: 0.3278 - val_loss: 2.2155 - val_accuracy_function: 0.3372\n",
            "Epoch 6/10\n",
            "16/16 [==============================] - 2s 118ms/step - loss: 1.7452 - accuracy_function: 0.3478 - val_loss: 2.2423 - val_accuracy_function: 0.3556\n",
            "Epoch 7/10\n",
            "16/16 [==============================] - 2s 118ms/step - loss: 1.5664 - accuracy_function: 0.3655 - val_loss: 2.2959 - val_accuracy_function: 0.3729\n",
            "Epoch 8/10\n",
            "16/16 [==============================] - 2s 118ms/step - loss: 1.3930 - accuracy_function: 0.3821 - val_loss: 2.3594 - val_accuracy_function: 0.3891\n",
            "Epoch 9/10\n",
            "16/16 [==============================] - 2s 118ms/step - loss: 1.2380 - accuracy_function: 0.3979 - val_loss: 2.4721 - val_accuracy_function: 0.4046\n",
            "Epoch 10/10\n",
            "16/16 [==============================] - 2s 118ms/step - loss: 1.0991 - accuracy_function: 0.4130 - val_loss: 2.5744 - val_accuracy_function: 0.4193\n"
          ]
        }
      ]
    },
    {
      "cell_type": "code",
      "source": [
        "DATA_OUT_PATH = '/content/data_out'\n",
        "model_name = 'tf2_gpt2_fintuned_model'\n",
        "\n",
        "save_path = os.path.join(DATA_OUT_PATH, model_name)\n",
        "\n",
        "if not os.path.exists(save_path):\n",
        "    os.makedirs(save_path)\n",
        "\n",
        "gpt_model.gpt2.save_pretrained(save_path)\n",
        "\n",
        "loaded_gpt_model = GPT2Model(save_path)"
      ],
      "metadata": {
        "colab": {
          "base_uri": "https://localhost:8080/"
        },
        "id": "vujU8aE4Wg8j",
        "outputId": "e8cbd626-4015-42ff-d0a3-f89e4cd9b3cf"
      },
      "execution_count": 45,
      "outputs": [
        {
          "output_type": "stream",
          "name": "stderr",
          "text": [
            "All model checkpoint layers were used when initializing TFGPT2LMHeadModel.\n",
            "\n",
            "All the layers of TFGPT2LMHeadModel were initialized from the model checkpoint at /content/data_out/tf2_gpt2_fintuned_model.\n",
            "If your task is similar to the task the model of the checkpoint was trained on, you can already use TFGPT2LMHeadModel for predictions without further training.\n"
          ]
        }
      ]
    },
    {
      "cell_type": "code",
      "source": [
        "generate_sent('이때', gpt_model, greedy=True)"
      ],
      "metadata": {
        "colab": {
          "base_uri": "https://localhost:8080/",
          "height": 35
        },
        "id": "mNNdw3siaZew",
        "outputId": "746a3f48-c53f-46f6-81f4-95adc21ae355"
      },
      "execution_count": 32,
      "outputs": [
        {
          "output_type": "execute_result",
          "data": {
            "application/vnd.google.colaboratory.intrinsic+json": {
              "type": "string"
            },
            "text/plain": [
              "'이때                                                                                                    '"
            ]
          },
          "metadata": {},
          "execution_count": 32
        }
      ]
    },
    {
      "cell_type": "code",
      "source": [
        "generate_sent('이때', gpt_model, top_k=0, top_p=0.95)\n",
        "# 소설의 내용과 비슷한 경향이 있지만 앞서 사전학습 모델에서 생성한 바와 같이 다양하게 생성한 문장을 확인 가능\n",
        "# 재미난 소설이나 노래가사를 만들어 보고 싶다면 다른 흥미로운 소설책의 내용을 가지고 학습해보면 좋음"
      ],
      "metadata": {
        "colab": {
          "base_uri": "https://localhost:8080/",
          "height": 35
        },
        "id": "X3cy5fpValx8",
        "outputId": "9f68c98d-ac95-4fcb-e9af-cca16520cb35"
      },
      "execution_count": 33,
      "outputs": [
        {
          "output_type": "execute_result",
          "data": {
            "application/vnd.google.colaboratory.intrinsic+json": {
              "type": "string"
            },
            "text/plain": [
              "'이때 의        기쁨은                                                                                       '"
            ]
          },
          "metadata": {},
          "execution_count": 33
        }
      ]
    },
    {
      "cell_type": "code",
      "source": [
        "generate_sent('이때', gpt_model, top_k=0, top_p=0.95)"
      ],
      "metadata": {
        "colab": {
          "base_uri": "https://localhost:8080/",
          "height": 35
        },
        "id": "XUhZSgQCoBXs",
        "outputId": "b0ceb724-1a0a-43a5-fd82-5e93f7c851ba"
      },
      "execution_count": 35,
      "outputs": [
        {
          "output_type": "execute_result",
          "data": {
            "application/vnd.google.colaboratory.intrinsic+json": {
              "type": "string"
            },
            "text/plain": [
              "'이때에                                                                                                   '"
            ]
          },
          "metadata": {},
          "execution_count": 35
        }
      ]
    },
    {
      "cell_type": "markdown",
      "source": [
        "# GPT2를 활용한 한국어 텍스트 분류모델"
      ],
      "metadata": {
        "id": "B6KlVd7Xatw5"
      }
    },
    {
      "cell_type": "code",
      "source": [
        "# GPT2를 활용한 영화리뷰 분류모델\n",
        "# 버트에서 활용한 네이버 영화 데이터셋을 활용\n",
        "# 전체적인 학습방법은 버트와 대부분 유사함\n",
        "BATCH_SIZE = 32\n",
        "NUM_EPOCHS = 3\n",
        "VALID_SPLIT = 0.1\n",
        "SENT_MAX_LEN = 39\n"
      ],
      "metadata": {
        "id": "wnIPqYmWa24e"
      },
      "execution_count": 51,
      "outputs": []
    },
    {
      "cell_type": "code",
      "source": [
        "# 네이버 영화 리뷰 데이터 전처리\n",
        "TOKENIZER_PATH = '/content/gpt_ckpt/gpt2_kor_tokenizer.spiece'\n",
        "vocab = nlp.vocab.BERTVocab.from_sentencepiece(TOKENIZER_PATH,\n",
        "                                            mask_token = None,\n",
        "                                            sep_token = '<unused0>',  # 분류를 위한 스페셜 토큰 지정\n",
        "                                            cls_token = None, \n",
        "                                            unknown_token = '<unk>',\n",
        "                                            padding_token = '<pad>',\n",
        "                                            bos_token = '<s>',\n",
        "                                            eos_token = '</s>'\n",
        "                                            )\n",
        "# UNUSED0 ~99까지 정하기 가능"
      ],
      "metadata": {
        "id": "hJ4T1Gm1a2_H"
      },
      "execution_count": 48,
      "outputs": []
    },
    {
      "cell_type": "code",
      "source": [
        "DATA_IN_PATH = '/content/tensorflow-ml-nlp-tf2/7.PRETRAIN_METHOD/data_in/KOR'\n",
        "DATA_OUT_PATH = '/content/tensorflow-ml-nlp-tf2/7.PRETRAIN_METHOD/data_out/KOR'\n",
        "\n",
        "DATA_TRAIN_PATH = os.path.join(DATA_IN_PATH, \"naver_movie\", \"ratings_train.txt\")\n",
        "DATA_TEST_PATH = os.path.join(DATA_IN_PATH, \"naver_movie\", \"ratings_test.txt\")\n",
        "\n",
        "train_data = pd.read_csv(DATA_TRAIN_PATH, header=0, delimiter = '\\t', quoting= 3)\n",
        "train_data = train_data.dropna()"
      ],
      "metadata": {
        "id": "DpzMHAx0hXxt"
      },
      "execution_count": 38,
      "outputs": []
    },
    {
      "cell_type": "code",
      "source": [
        "train_data.head(5)"
      ],
      "metadata": {
        "colab": {
          "base_uri": "https://localhost:8080/",
          "height": 206
        },
        "id": "galzLyPUpV7G",
        "outputId": "3ed16334-0036-437f-ad9c-a102880d6816"
      },
      "execution_count": 43,
      "outputs": [
        {
          "output_type": "execute_result",
          "data": {
            "text/html": [
              "\n",
              "  <div id=\"df-49aec73b-160c-4e76-b9d6-179465dd22db\">\n",
              "    <div class=\"colab-df-container\">\n",
              "      <div>\n",
              "<style scoped>\n",
              "    .dataframe tbody tr th:only-of-type {\n",
              "        vertical-align: middle;\n",
              "    }\n",
              "\n",
              "    .dataframe tbody tr th {\n",
              "        vertical-align: top;\n",
              "    }\n",
              "\n",
              "    .dataframe thead th {\n",
              "        text-align: right;\n",
              "    }\n",
              "</style>\n",
              "<table border=\"1\" class=\"dataframe\">\n",
              "  <thead>\n",
              "    <tr style=\"text-align: right;\">\n",
              "      <th></th>\n",
              "      <th>id</th>\n",
              "      <th>document</th>\n",
              "      <th>label</th>\n",
              "    </tr>\n",
              "  </thead>\n",
              "  <tbody>\n",
              "    <tr>\n",
              "      <th>0</th>\n",
              "      <td>9976970</td>\n",
              "      <td>아 더빙.. 진짜 짜증나네요 목소리</td>\n",
              "      <td>0</td>\n",
              "    </tr>\n",
              "    <tr>\n",
              "      <th>1</th>\n",
              "      <td>3819312</td>\n",
              "      <td>흠...포스터보고 초딩영화줄....오버연기조차 가볍지 않구나</td>\n",
              "      <td>1</td>\n",
              "    </tr>\n",
              "    <tr>\n",
              "      <th>2</th>\n",
              "      <td>10265843</td>\n",
              "      <td>너무재밓었다그래서보는것을추천한다</td>\n",
              "      <td>0</td>\n",
              "    </tr>\n",
              "    <tr>\n",
              "      <th>3</th>\n",
              "      <td>9045019</td>\n",
              "      <td>교도소 이야기구먼 ..솔직히 재미는 없다..평점 조정</td>\n",
              "      <td>0</td>\n",
              "    </tr>\n",
              "    <tr>\n",
              "      <th>4</th>\n",
              "      <td>6483659</td>\n",
              "      <td>사이몬페그의 익살스런 연기가 돋보였던 영화!스파이더맨에서 늙어보이기만 했던 커스틴 ...</td>\n",
              "      <td>1</td>\n",
              "    </tr>\n",
              "  </tbody>\n",
              "</table>\n",
              "</div>\n",
              "      <button class=\"colab-df-convert\" onclick=\"convertToInteractive('df-49aec73b-160c-4e76-b9d6-179465dd22db')\"\n",
              "              title=\"Convert this dataframe to an interactive table.\"\n",
              "              style=\"display:none;\">\n",
              "        \n",
              "  <svg xmlns=\"http://www.w3.org/2000/svg\" height=\"24px\"viewBox=\"0 0 24 24\"\n",
              "       width=\"24px\">\n",
              "    <path d=\"M0 0h24v24H0V0z\" fill=\"none\"/>\n",
              "    <path d=\"M18.56 5.44l.94 2.06.94-2.06 2.06-.94-2.06-.94-.94-2.06-.94 2.06-2.06.94zm-11 1L8.5 8.5l.94-2.06 2.06-.94-2.06-.94L8.5 2.5l-.94 2.06-2.06.94zm10 10l.94 2.06.94-2.06 2.06-.94-2.06-.94-.94-2.06-.94 2.06-2.06.94z\"/><path d=\"M17.41 7.96l-1.37-1.37c-.4-.4-.92-.59-1.43-.59-.52 0-1.04.2-1.43.59L10.3 9.45l-7.72 7.72c-.78.78-.78 2.05 0 2.83L4 21.41c.39.39.9.59 1.41.59.51 0 1.02-.2 1.41-.59l7.78-7.78 2.81-2.81c.8-.78.8-2.07 0-2.86zM5.41 20L4 18.59l7.72-7.72 1.47 1.35L5.41 20z\"/>\n",
              "  </svg>\n",
              "      </button>\n",
              "      \n",
              "  <style>\n",
              "    .colab-df-container {\n",
              "      display:flex;\n",
              "      flex-wrap:wrap;\n",
              "      gap: 12px;\n",
              "    }\n",
              "\n",
              "    .colab-df-convert {\n",
              "      background-color: #E8F0FE;\n",
              "      border: none;\n",
              "      border-radius: 50%;\n",
              "      cursor: pointer;\n",
              "      display: none;\n",
              "      fill: #1967D2;\n",
              "      height: 32px;\n",
              "      padding: 0 0 0 0;\n",
              "      width: 32px;\n",
              "    }\n",
              "\n",
              "    .colab-df-convert:hover {\n",
              "      background-color: #E2EBFA;\n",
              "      box-shadow: 0px 1px 2px rgba(60, 64, 67, 0.3), 0px 1px 3px 1px rgba(60, 64, 67, 0.15);\n",
              "      fill: #174EA6;\n",
              "    }\n",
              "\n",
              "    [theme=dark] .colab-df-convert {\n",
              "      background-color: #3B4455;\n",
              "      fill: #D2E3FC;\n",
              "    }\n",
              "\n",
              "    [theme=dark] .colab-df-convert:hover {\n",
              "      background-color: #434B5C;\n",
              "      box-shadow: 0px 1px 3px 1px rgba(0, 0, 0, 0.15);\n",
              "      filter: drop-shadow(0px 1px 2px rgba(0, 0, 0, 0.3));\n",
              "      fill: #FFFFFF;\n",
              "    }\n",
              "  </style>\n",
              "\n",
              "      <script>\n",
              "        const buttonEl =\n",
              "          document.querySelector('#df-49aec73b-160c-4e76-b9d6-179465dd22db button.colab-df-convert');\n",
              "        buttonEl.style.display =\n",
              "          google.colab.kernel.accessAllowed ? 'block' : 'none';\n",
              "\n",
              "        async function convertToInteractive(key) {\n",
              "          const element = document.querySelector('#df-49aec73b-160c-4e76-b9d6-179465dd22db');\n",
              "          const dataTable =\n",
              "            await google.colab.kernel.invokeFunction('convertToInteractive',\n",
              "                                                     [key], {});\n",
              "          if (!dataTable) return;\n",
              "\n",
              "          const docLinkHtml = 'Like what you see? Visit the ' +\n",
              "            '<a target=\"_blank\" href=https://colab.research.google.com/notebooks/data_table.ipynb>data table notebook</a>'\n",
              "            + ' to learn more about interactive tables.';\n",
              "          element.innerHTML = '';\n",
              "          dataTable['output_type'] = 'display_data';\n",
              "          await google.colab.output.renderOutput(dataTable, element);\n",
              "          const docLink = document.createElement('div');\n",
              "          docLink.innerHTML = docLinkHtml;\n",
              "          element.appendChild(docLink);\n",
              "        }\n",
              "      </script>\n",
              "    </div>\n",
              "  </div>\n",
              "  "
            ],
            "text/plain": [
              "         id                                           document  label\n",
              "0   9976970                                아 더빙.. 진짜 짜증나네요 목소리      0\n",
              "1   3819312                  흠...포스터보고 초딩영화줄....오버연기조차 가볍지 않구나      1\n",
              "2  10265843                                  너무재밓었다그래서보는것을추천한다      0\n",
              "3   9045019                      교도소 이야기구먼 ..솔직히 재미는 없다..평점 조정      0\n",
              "4   6483659  사이몬페그의 익살스런 연기가 돋보였던 영화!스파이더맨에서 늙어보이기만 했던 커스틴 ...      1"
            ]
          },
          "metadata": {},
          "execution_count": 43
        }
      ]
    },
    {
      "cell_type": "code",
      "source": [
        "def clean_text(sent):\n",
        "    sent_clean = re.sub(\"[^가-힣ㄱ-ㅎㅏ-ㅣ\\\\s]\", \"\", sent)\n",
        "    return sent_clean\n",
        "import re\n"
      ],
      "metadata": {
        "id": "WEZSr92nqQWF"
      },
      "execution_count": 48,
      "outputs": []
    },
    {
      "cell_type": "code",
      "source": [
        "\n",
        "train_data_sents = []\n",
        "train_data_labels = []\n",
        "for train_sent, train_label in train_data[['document', 'label']].values:\n",
        "  train_tokenized_text = vocab[tokenizer(clean_text(train_sent))]\n",
        "\n",
        "  tokens = [vocab[vocab.bos_token]]\n",
        "  tokens += pad_sequences([train_tokenized_text], SENT_MAX_LEN, value = vocab[vocab.padding_token], padding='post').tolist()[0]\n",
        "\n",
        "  tokens += [vocab[vocab.eos_token]]\n",
        "\n",
        "  train_data_sents.append(tokens)\n",
        "  train_data_labels.append(train_label)\n",
        "\n"
      ],
      "metadata": {
        "id": "LYB5rem9fXbf"
      },
      "execution_count": 52,
      "outputs": []
    },
    {
      "cell_type": "code",
      "source": [
        "train_data_sents = np.array(train_data_sents, dtype = np.int64)\n",
        "train_data_labels = np.array(train_data_labels, dtype = np.int64)\n"
      ],
      "metadata": {
        "id": "xbmsV8nvqD6e"
      },
      "execution_count": 54,
      "outputs": []
    },
    {
      "cell_type": "code",
      "source": [
        "train_data_sents"
      ],
      "metadata": {
        "colab": {
          "base_uri": "https://localhost:8080/"
        },
        "id": "VJuNazP5qvoW",
        "outputId": "a3ec7c54-7742-426c-d206-e709fe3ea9f2"
      },
      "execution_count": 55,
      "outputs": [
        {
          "output_type": "execute_result",
          "data": {
            "text/plain": [
              "array([[    0, 47437, 47485, ...,     3,     3,     1],\n",
              "       [    0, 47437, 48640, ...,     3,     3,     1],\n",
              "       [    0, 47437, 47851, ...,     3,     3,     1],\n",
              "       ...,\n",
              "       [    0, 47437, 47438, ...,     3,     3,     1],\n",
              "       [    0, 47437, 47614, ...,     3,     3,     1],\n",
              "       [    0, 47437, 47450, ...,     3,     3,     1]])"
            ]
          },
          "metadata": {},
          "execution_count": 55
        }
      ]
    },
    {
      "cell_type": "code",
      "source": [
        "train_data_labels"
      ],
      "metadata": {
        "colab": {
          "base_uri": "https://localhost:8080/"
        },
        "id": "W-i8ikk5qukG",
        "outputId": "91c10739-c7d6-4a79-d612-41fa2b12466c"
      },
      "execution_count": 56,
      "outputs": [
        {
          "output_type": "execute_result",
          "data": {
            "text/plain": [
              "array([0, 1, 0, ..., 0, 1, 0])"
            ]
          },
          "metadata": {},
          "execution_count": 56
        }
      ]
    },
    {
      "cell_type": "code",
      "source": [
        "train_data_sents.shape"
      ],
      "metadata": {
        "colab": {
          "base_uri": "https://localhost:8080/"
        },
        "id": "Lvw0CxqjqxN2",
        "outputId": "bfb9dab2-cc6c-41dd-8dd2-2b8540ad2105"
      },
      "execution_count": 57,
      "outputs": [
        {
          "output_type": "execute_result",
          "data": {
            "text/plain": [
              "(149995, 41)"
            ]
          },
          "metadata": {},
          "execution_count": 57
        }
      ]
    },
    {
      "cell_type": "code",
      "source": [
        "train_data_labels.shape"
      ],
      "metadata": {
        "colab": {
          "base_uri": "https://localhost:8080/"
        },
        "id": "rv9UjsXFqyL_",
        "outputId": "1746a72b-0f4d-4eb2-a3b0-1b8257a34554"
      },
      "execution_count": 58,
      "outputs": [
        {
          "output_type": "execute_result",
          "data": {
            "text/plain": [
              "(149995,)"
            ]
          },
          "metadata": {},
          "execution_count": 58
        }
      ]
    },
    {
      "cell_type": "code",
      "source": [
        "# 텍스트를 전처리 하는 방법은 앞서 버트 분류기를 활용해 미세조정했을때와 비슷함\n",
        "# clean text 함수를 정의해 한글데이터만 사용하도록 필터링하고 토크나이저를 통해 텍스트를 토큰 단위로 나누고 인덱싱\n",
        "# bos + 입력텍스트 + pad + eos 형태로 구성하기\n",
        "# 맨 마지막 토큰위치에는 분류할 수 있는 영역으로 cls토큰을 두는 대신 eos토큰을 활용한다.\n",
        "# 데이터 구성이 앞서 버트 학습 방법과 비슷하고 cls토큰의 위치가 뒤로가고 eos토큰이 대신하는것으로 보면 됨\n"
      ],
      "metadata": {
        "id": "-NpVnfkfqzDH"
      },
      "execution_count": 59,
      "outputs": []
    },
    {
      "cell_type": "code",
      "source": [
        "class TFGPT2Classifier(tf.keras.Model): # tf.keras.Model상속받아 학습과 평가가 가능한 모델 클래스로 구현\n",
        "  def __init__(self, dir_path, num_class):\n",
        "    super(TFGPT2Classifier, self).__init__()\n",
        "    self.gpt2 = TFGPT2Model.from_pretrained(dir_path)\n",
        "    self.num_class = num_class\n",
        "\n",
        "    self.dropout = tf.keras.layers.Dropout(self.gpt2.config.summary_first_dropout)\n",
        "    self.classifier = tf.keras.layers.Dense(self.num_class, kernel_initializer= tf.keras.initializers.TruncatedNormal(stddev=self.gpt2.config.initializer_range), name='classifier')\n",
        "\n",
        "  def call(self, inputs):\n",
        "    outputs = self.gpt2(inputs) # gpt2의 결과는  last_hidden_states, past, hidden_states, attentions순서로 나타남\n",
        "    gpt_output = outputs[0][:,-1] # 가장 마지막 토큰만 활용해 분류기를 만든다.\n",
        "\n",
        "    pooled_output = self.dropout(gpt_output)\n",
        "    logits = self.classifier(pooled_output)\n",
        "    return logits"
      ],
      "metadata": {
        "id": "sZXfZn2FruO8"
      },
      "execution_count": 64,
      "outputs": []
    },
    {
      "cell_type": "code",
      "source": [
        "cls_model = TFGPT2Classifier(dir_path = BASE_MODEL_PATH, num_class=2)\n",
        "optimizer = tf.keras.optimizers.Adam(6.25e-5)\n",
        "loss = tf.keras.losses.SparseCategoricalCrossentropy(from_logits = True)\n",
        "metric = tf.keras.metrics.SparseCategoricalAccuracy('accuracy')\n",
        "cls_model.compile(optimizer = optimizer, loss= loss, metrics = [metric])"
      ],
      "metadata": {
        "colab": {
          "base_uri": "https://localhost:8080/"
        },
        "id": "9aBWi6cKshIx",
        "outputId": "085ec4e3-3467-497a-8ae3-d361a60bb572"
      },
      "execution_count": 65,
      "outputs": [
        {
          "output_type": "stream",
          "name": "stderr",
          "text": [
            "All model checkpoint layers were used when initializing TFGPT2Model.\n",
            "\n",
            "All the layers of TFGPT2Model were initialized from the model checkpoint at /content/gpt_ckpt.\n",
            "If your task is similar to the task the model of the checkpoint was trained on, you can already use TFGPT2Model for predictions without further training.\n"
          ]
        }
      ]
    },
    {
      "cell_type": "code",
      "source": [
        "model_name = \"tf2_gpt2_naver_movie\"\n",
        "\n",
        "earlystop_callback = EarlyStopping(monitor='val_accuracy', min_delta=0.0001, patience=2)\n",
        "\n",
        "checkpoint_path = os.path.join(DATA_OUT_PATH, model_name, 'weights.h5')\n",
        "checkpoint_dir = os.path.dirname(checkpoint_path)\n",
        "\n",
        "if os.path.exists(checkpoint_dir):\n",
        "    print(\"{} -- Folder already exists \\n\".format(checkpoint_dir))\n",
        "else:\n",
        "    os.makedirs(checkpoint_dir, exist_ok=True)\n",
        "    print(\"{} -- Folder create complete \\n\".format(checkpoint_dir))\n",
        "    \n",
        "cp_callback = ModelCheckpoint(\n",
        "    checkpoint_path, monitor='val_accuracy', verbose=1, save_best_only=True, save_weights_only=True)\n",
        "\n",
        "history = cls_model.fit(train_data_sents, train_data_labels, \n",
        "                        epochs=NUM_EPOCHS, \n",
        "                        batch_size=BATCH_SIZE,\n",
        "                        validation_split=VALID_SPLIT, \n",
        "                        callbacks=[earlystop_callback, cp_callback])"
      ],
      "metadata": {
        "colab": {
          "base_uri": "https://localhost:8080/"
        },
        "id": "LSI2iKzQtR0m",
        "outputId": "b8c9583d-f5f4-4f32-d9f0-ffccac5af99e"
      },
      "execution_count": 68,
      "outputs": [
        {
          "output_type": "stream",
          "name": "stdout",
          "text": [
            "/content/tensorflow-ml-nlp-tf2/7.PRETRAIN_METHOD/data_out/KOR/tf2_gpt2_naver_movie -- Folder create complete \n",
            "\n",
            "Epoch 1/3\n",
            "4219/4219 [==============================] - ETA: 0s - loss: 0.3701 - accuracy: 0.8320\n",
            "Epoch 00001: val_accuracy improved from -inf to 0.86173, saving model to /content/tensorflow-ml-nlp-tf2/7.PRETRAIN_METHOD/data_out/KOR/tf2_gpt2_naver_movie/weights.h5\n",
            "4219/4219 [==============================] - 740s 172ms/step - loss: 0.3701 - accuracy: 0.8320 - val_loss: 0.3160 - val_accuracy: 0.8617\n",
            "Epoch 2/3\n",
            "4219/4219 [==============================] - ETA: 0s - loss: 0.2884 - accuracy: 0.8770\n",
            "Epoch 00002: val_accuracy improved from 0.86173 to 0.87433, saving model to /content/tensorflow-ml-nlp-tf2/7.PRETRAIN_METHOD/data_out/KOR/tf2_gpt2_naver_movie/weights.h5\n",
            "4219/4219 [==============================] - 720s 171ms/step - loss: 0.2884 - accuracy: 0.8770 - val_loss: 0.2984 - val_accuracy: 0.8743\n",
            "Epoch 3/3\n",
            "4219/4219 [==============================] - ETA: 0s - loss: 0.2443 - accuracy: 0.8988\n",
            "Epoch 00003: val_accuracy improved from 0.87433 to 0.87533, saving model to /content/tensorflow-ml-nlp-tf2/7.PRETRAIN_METHOD/data_out/KOR/tf2_gpt2_naver_movie/weights.h5\n",
            "4219/4219 [==============================] - 722s 171ms/step - loss: 0.2443 - accuracy: 0.8988 - val_loss: 0.3080 - val_accuracy: 0.8753\n"
          ]
        }
      ]
    },
    {
      "cell_type": "code",
      "source": [
        "# 시각화\n",
        "\n",
        "def plot_graphs(history, string):\n",
        "    plt.plot(history.history[string])\n",
        "    plt.plot(history.history['val_'+string], '')\n",
        "    plt.xlabel(\"Epochs\")\n",
        "    plt.ylabel(string)\n",
        "    plt.legend([string, 'val_'+string])\n",
        "    plt.show()"
      ],
      "metadata": {
        "id": "RVxSCoWItn-j"
      },
      "execution_count": 71,
      "outputs": []
    },
    {
      "cell_type": "code",
      "source": [
        "plot_graphs(history, 'accuracy')"
      ],
      "metadata": {
        "colab": {
          "base_uri": "https://localhost:8080/",
          "height": 279
        },
        "id": "Cbl9k49ytyei",
        "outputId": "a54d008b-e044-4e34-9d17-271e5267de9c"
      },
      "execution_count": 74,
      "outputs": [
        {
          "output_type": "display_data",
          "data": {
            "image/png": "[encoded data removed]",
            "text/plain": [
              "<Figure size 432x288 with 1 Axes>"
            ]
          },
          "metadata": {
            "needs_background": "light"
          }
        }
      ]
    },
    {
      "cell_type": "code",
      "source": [
        "plot_graphs(history, 'loss')"
      ],
      "metadata": {
        "colab": {
          "base_uri": "https://localhost:8080/",
          "height": 279
        },
        "id": "Vxvy4Jz_tyiR",
        "outputId": "a03bb9ea-9f27-4a5d-a55b-02a9f779e1ef"
      },
      "execution_count": 75,
      "outputs": [
        {
          "output_type": "display_data",
          "data": {
            "image/png": "[encoded data removed]",
            "text/plain": [
              "<Figure size 432x288 with 1 Axes>"
            ]
          },
          "metadata": {
            "needs_background": "light"
          }
        }
      ]
    },
    {
      "cell_type": "code",
      "source": [
        "# test데이터에 적용\n",
        "test_data = pd.read_csv(DATA_TEST_PATH, header=0, delimiter='\\t', quoting=3)\n",
        "test_data = test_data.dropna()\n",
        "test_data.head(5)"
      ],
      "metadata": {
        "colab": {
          "base_uri": "https://localhost:8080/",
          "height": 206
        },
        "id": "9YepwBrjt3AY",
        "outputId": "d35a78b7-fcf7-4f9f-9229-03233471d029"
      },
      "execution_count": 76,
      "outputs": [
        {
          "output_type": "execute_result",
          "data": {
            "text/html": [
              "\n",
              "  <div id=\"df-7963225a-3d81-4dce-9920-a982d9908077\">\n",
              "    <div class=\"colab-df-container\">\n",
              "      <div>\n",
              "<style scoped>\n",
              "    .dataframe tbody tr th:only-of-type {\n",
              "        vertical-align: middle;\n",
              "    }\n",
              "\n",
              "    .dataframe tbody tr th {\n",
              "        vertical-align: top;\n",
              "    }\n",
              "\n",
              "    .dataframe thead th {\n",
              "        text-align: right;\n",
              "    }\n",
              "</style>\n",
              "<table border=\"1\" class=\"dataframe\">\n",
              "  <thead>\n",
              "    <tr style=\"text-align: right;\">\n",
              "      <th></th>\n",
              "      <th>id</th>\n",
              "      <th>document</th>\n",
              "      <th>label</th>\n",
              "    </tr>\n",
              "  </thead>\n",
              "  <tbody>\n",
              "    <tr>\n",
              "      <th>0</th>\n",
              "      <td>6270596</td>\n",
              "      <td>굳 ㅋ</td>\n",
              "      <td>1</td>\n",
              "    </tr>\n",
              "    <tr>\n",
              "      <th>1</th>\n",
              "      <td>9274899</td>\n",
              "      <td>GDNTOPCLASSINTHECLUB</td>\n",
              "      <td>0</td>\n",
              "    </tr>\n",
              "    <tr>\n",
              "      <th>2</th>\n",
              "      <td>8544678</td>\n",
              "      <td>뭐야 이 평점들은.... 나쁘진 않지만 10점 짜리는 더더욱 아니잖아</td>\n",
              "      <td>0</td>\n",
              "    </tr>\n",
              "    <tr>\n",
              "      <th>3</th>\n",
              "      <td>6825595</td>\n",
              "      <td>지루하지는 않은데 완전 막장임... 돈주고 보기에는....</td>\n",
              "      <td>0</td>\n",
              "    </tr>\n",
              "    <tr>\n",
              "      <th>4</th>\n",
              "      <td>6723715</td>\n",
              "      <td>3D만 아니었어도 별 다섯 개 줬을텐데.. 왜 3D로 나와서 제 심기를 불편하게 하죠??</td>\n",
              "      <td>0</td>\n",
              "    </tr>\n",
              "  </tbody>\n",
              "</table>\n",
              "</div>\n",
              "      <button class=\"colab-df-convert\" onclick=\"convertToInteractive('df-7963225a-3d81-4dce-9920-a982d9908077')\"\n",
              "              title=\"Convert this dataframe to an interactive table.\"\n",
              "              style=\"display:none;\">\n",
              "        \n",
              "  <svg xmlns=\"http://www.w3.org/2000/svg\" height=\"24px\"viewBox=\"0 0 24 24\"\n",
              "       width=\"24px\">\n",
              "    <path d=\"M0 0h24v24H0V0z\" fill=\"none\"/>\n",
              "    <path d=\"M18.56 5.44l.94 2.06.94-2.06 2.06-.94-2.06-.94-.94-2.06-.94 2.06-2.06.94zm-11 1L8.5 8.5l.94-2.06 2.06-.94-2.06-.94L8.5 2.5l-.94 2.06-2.06.94zm10 10l.94 2.06.94-2.06 2.06-.94-2.06-.94-.94-2.06-.94 2.06-2.06.94z\"/><path d=\"M17.41 7.96l-1.37-1.37c-.4-.4-.92-.59-1.43-.59-.52 0-1.04.2-1.43.59L10.3 9.45l-7.72 7.72c-.78.78-.78 2.05 0 2.83L4 21.41c.39.39.9.59 1.41.59.51 0 1.02-.2 1.41-.59l7.78-7.78 2.81-2.81c.8-.78.8-2.07 0-2.86zM5.41 20L4 18.59l7.72-7.72 1.47 1.35L5.41 20z\"/>\n",
              "  </svg>\n",
              "      </button>\n",
              "      \n",
              "  <style>\n",
              "    .colab-df-container {\n",
              "      display:flex;\n",
              "      flex-wrap:wrap;\n",
              "      gap: 12px;\n",
              "    }\n",
              "\n",
              "    .colab-df-convert {\n",
              "      background-color: #E8F0FE;\n",
              "      border: none;\n",
              "      border-radius: 50%;\n",
              "      cursor: pointer;\n",
              "      display: none;\n",
              "      fill: #1967D2;\n",
              "      height: 32px;\n",
              "      padding: 0 0 0 0;\n",
              "      width: 32px;\n",
              "    }\n",
              "\n",
              "    .colab-df-convert:hover {\n",
              "      background-color: #E2EBFA;\n",
              "      box-shadow: 0px 1px 2px rgba(60, 64, 67, 0.3), 0px 1px 3px 1px rgba(60, 64, 67, 0.15);\n",
              "      fill: #174EA6;\n",
              "    }\n",
              "\n",
              "    [theme=dark] .colab-df-convert {\n",
              "      background-color: #3B4455;\n",
              "      fill: #D2E3FC;\n",
              "    }\n",
              "\n",
              "    [theme=dark] .colab-df-convert:hover {\n",
              "      background-color: #434B5C;\n",
              "      box-shadow: 0px 1px 3px 1px rgba(0, 0, 0, 0.15);\n",
              "      filter: drop-shadow(0px 1px 2px rgba(0, 0, 0, 0.3));\n",
              "      fill: #FFFFFF;\n",
              "    }\n",
              "  </style>\n",
              "\n",
              "      <script>\n",
              "        const buttonEl =\n",
              "          document.querySelector('#df-7963225a-3d81-4dce-9920-a982d9908077 button.colab-df-convert');\n",
              "        buttonEl.style.display =\n",
              "          google.colab.kernel.accessAllowed ? 'block' : 'none';\n",
              "\n",
              "        async function convertToInteractive(key) {\n",
              "          const element = document.querySelector('#df-7963225a-3d81-4dce-9920-a982d9908077');\n",
              "          const dataTable =\n",
              "            await google.colab.kernel.invokeFunction('convertToInteractive',\n",
              "                                                     [key], {});\n",
              "          if (!dataTable) return;\n",
              "\n",
              "          const docLinkHtml = 'Like what you see? Visit the ' +\n",
              "            '<a target=\"_blank\" href=https://colab.research.google.com/notebooks/data_table.ipynb>data table notebook</a>'\n",
              "            + ' to learn more about interactive tables.';\n",
              "          element.innerHTML = '';\n",
              "          dataTable['output_type'] = 'display_data';\n",
              "          await google.colab.output.renderOutput(dataTable, element);\n",
              "          const docLink = document.createElement('div');\n",
              "          docLink.innerHTML = docLinkHtml;\n",
              "          element.appendChild(docLink);\n",
              "        }\n",
              "      </script>\n",
              "    </div>\n",
              "  </div>\n",
              "  "
            ],
            "text/plain": [
              "        id                                           document  label\n",
              "0  6270596                                                굳 ㅋ      1\n",
              "1  9274899                               GDNTOPCLASSINTHECLUB      0\n",
              "2  8544678             뭐야 이 평점들은.... 나쁘진 않지만 10점 짜리는 더더욱 아니잖아      0\n",
              "3  6825595                   지루하지는 않은데 완전 막장임... 돈주고 보기에는....      0\n",
              "4  6723715  3D만 아니었어도 별 다섯 개 줬을텐데.. 왜 3D로 나와서 제 심기를 불편하게 하죠??      0"
            ]
          },
          "metadata": {},
          "execution_count": 76
        }
      ]
    },
    {
      "cell_type": "code",
      "source": [
        "test_data_sents = list()\n",
        "test_data_labels = list()\n",
        "for test_sent, test_label in test_data[['document','label']].values:\n",
        "  test_tokenized_text = vocab[tokenizer(clean_text(test_sent))]\n",
        "  tokens = [vocab[vocab.bos_token]] \n",
        "  tokens += pad_sequences([test_tokenized_text],\n",
        "                          SENT_MAX_LEN,\n",
        "                          value=vocab[vocab.padding_token],\n",
        "                          padding = 'post'\n",
        "                          ).tolist()[0]\n",
        "  tokens += [vocab[vocab.eos_token]]\n",
        "\n",
        "  test_data_sents.append(tokens)\n",
        "  test_data_labels.append(test_label)\n",
        "\n",
        "test_data_sents = np.array(test_data_sents, dtype = np.int64)\n",
        "test_data_labels = np.array(test_data_labels, dtype = np.int64)\n",
        "\n"
      ],
      "metadata": {
        "id": "OfH4DwP6t3EF"
      },
      "execution_count": 79,
      "outputs": []
    },
    {
      "cell_type": "code",
      "source": [
        "print(\"num sents, labels {}, {}\".format(len(test_data_sents), len(test_data_labels)))"
      ],
      "metadata": {
        "colab": {
          "base_uri": "https://localhost:8080/"
        },
        "id": "piwISPsV2ydg",
        "outputId": "f3713866-80d4-4d08-db04-169f960a0bf5"
      },
      "execution_count": 81,
      "outputs": [
        {
          "output_type": "stream",
          "name": "stdout",
          "text": [
            "num sents, labels 49997, 49997\n"
          ]
        }
      ]
    },
    {
      "cell_type": "code",
      "source": [
        "cls_model.load_weigths(checkpoint_path)\n",
        "results = cls_model.evaluate(test_data_sents, test_data_labels, batch_size= 1024)\n",
        "# 87.13% 정확도"
      ],
      "metadata": {
        "colab": {
          "base_uri": "https://localhost:8080/"
        },
        "id": "_sgCMwiqu6me",
        "outputId": "650a0ee6-ee3b-411a-e79c-aa4243090cc0"
      },
      "execution_count": 82,
      "outputs": [
        {
          "output_type": "stream",
          "name": "stdout",
          "text": [
            "49/49 [==============================] - 66s 1s/step - loss: 0.3129 - accuracy: 0.8713\n",
            "test loss, test acc:  [0.3128508925437927, 0.8713122606277466]\n"
          ]
        }
      ]
    },
    {
      "cell_type": "markdown",
      "source": [
        "# GPT2를 활용한 한국어 자연어 추론 모델 "
      ],
      "metadata": {
        "id": "EBQjBporvKX_"
      }
    },
    {
      "cell_type": "code",
      "source": [
        "# 자연어 추론모델을 미세조정하기 위한 베이스 모델은 앞에서본 TFGPT2CLASSIFIER 와 KORNLI데이터셋을 활용\n",
        "import os\n",
        "import tensorflow as tf\n",
        "from transformers import TFGPT2Model\n",
        "from tensorflow.keras.preprocessing.sequence import pad_sequences\n",
        "from tensorflow.keras.callbacks import EarlyStopping, ModelCheckpoint\n",
        "import gluonnlp as nlp\n",
        "from gluonnlp.data import SentencepieceTokenizer\n",
        "import pandas as pd\n",
        "import matplotlib.pyplot as plt\n",
        "import numpy as np\n",
        "import re\n",
        "BATCH_SIZE = 32\n",
        "NUM_EPOCHS = 3\n",
        "SENT_MAX_LEN = 31\n",
        "\n",
        "# Load Train dataset\n",
        "\n",
        "TRAIN_SNLI_DF = os.path.join(DATA_IN_PATH, 'KorNLI', 'snli_1.0_train.kor.tsv')\n",
        "TRAIN_XNLI_DF = os.path.join(DATA_IN_PATH, 'KorNLI', 'multinli.train.ko.tsv')\n",
        "DEV_XNLI_DF = os.path.join(DATA_IN_PATH, 'KorNLI', 'xnli.dev.ko.tsv')\n",
        "\n",
        "# 실제 데이터 불러오기\n",
        "train_data_snli = pd.read_csv(TRAIN_SNLI_DF, header=0, delimiter='\\t', quoting=3)\n",
        "train_data_xnli = pd.read_csv(TRAIN_XNLI_DF, header=0, delimiter='\\t', quoting=3)\n",
        "dev_data_xnli = pd.read_csv(DEV_XNLI_DF, header=0, delimiter='\\t', quoting=3)\n",
        "\n",
        "# 데이터 두개를 하나로 합치기 두문장에 대한 태스크이기때문임\n",
        "train_data_snli_xnli = train_data_snli.append(train_data_xnli)\n",
        "train_data_snli_xnli = train_data_snli_xnli.dropna() # 공란있는 행 제거\n",
        "train_data_snli_xnli = train_data_snli_xnli.reset_index() # 인덱스 리셋\n",
        "\n",
        "dev_data_xnli = dev_data_xnli.dropna()\n",
        "\n",
        "print(\"Total # dataset: train - {}, dev - {}\".format(len(train_data_snli_xnli), len(dev_data_xnli)))\n",
        "\n",
        "# 데이터셋 구성 :BOS + 입력텍스트영역1 + PAD + SEP + 입력 텍스트영역2 + PAD + EOS\n"
      ],
      "metadata": {
        "colab": {
          "base_uri": "https://localhost:8080/"
        },
        "id": "_VKajJ-OvNsN",
        "outputId": "3fd4245f-a505-4f38-8948-61ed2bb878cd"
      },
      "execution_count": 83,
      "outputs": [
        {
          "output_type": "stream",
          "name": "stdout",
          "text": [
            "Total # dataset: train - 942808, dev - 2490\n"
          ]
        }
      ]
    },
    {
      "cell_type": "code",
      "source": [
        "def clean_text(sent):\n",
        "    sent_clean = re.sub(\"[^가-힣ㄱ-ㅎㅏ-ㅣ\\\\s]\", \" \", sent)\n",
        "    return sent_clean\n"
      ],
      "metadata": {
        "id": "u-Ro5MGmvuVv"
      },
      "execution_count": 84,
      "outputs": []
    },
    {
      "cell_type": "code",
      "source": [
        "train_data_sents = list()\n",
        "for train_sent_1, train_sent_2 in train_data_snli_xnli[['sentence1', 'sentence2']].values:\n",
        "    train_tokenized_sent_1 = vocab[tokenizer(clean_text(train_sent_1))]\n",
        "    train_tokenized_sent_2 = vocab[tokenizer(clean_text(train_sent_2))]\n",
        "\n",
        "    tokens = [vocab[vocab.bos_token]] \n",
        "    tokens += pad_sequences([train_tokenized_sent_1], \n",
        "                            SENT_MAX_LEN, \n",
        "                            value=vocab[vocab.padding_token], \n",
        "                            padding='post').tolist()[0] \n",
        "    tokens += [vocab[vocab.sep_token]]  \n",
        "    tokens += pad_sequences([train_tokenized_sent_2], \n",
        "                            SENT_MAX_LEN, \n",
        "                            value=vocab[vocab.padding_token], \n",
        "                            padding='post').tolist()[0] \n",
        "    tokens += [vocab[vocab.eos_token]]\n",
        "\n",
        "    train_data_sents.append(tokens)    \n",
        "\n",
        "train_data_sents = np.array(train_data_sents, dtype=np.int64)"
      ],
      "metadata": {
        "id": "WGCpzLQvxMqd"
      },
      "execution_count": 85,
      "outputs": []
    },
    {
      "cell_type": "code",
      "source": [
        "dev_data_sents = []\n",
        "\n",
        "for dev_sent_1, dev_sent_2 in dev_data_xnli[['sentence1', 'sentence2']].values:\n",
        "    dev_tokenized_sent_1 = vocab[tokenizer(clean_text(dev_sent_1))]\n",
        "    dev_tokenized_sent_2 = vocab[tokenizer(clean_text(dev_sent_2))]\n",
        "\n",
        "    tokens = [vocab[vocab.bos_token]] \n",
        "    tokens += pad_sequences([dev_tokenized_sent_1], \n",
        "                            SENT_MAX_LEN, \n",
        "                            value=vocab[vocab.padding_token], \n",
        "                            padding='post').tolist()[0] \n",
        "    tokens += [vocab[vocab.sep_token]]  \n",
        "    tokens += pad_sequences([dev_tokenized_sent_2], \n",
        "                            SENT_MAX_LEN, \n",
        "                            value=vocab[vocab.padding_token], \n",
        "                            padding='post').tolist()[0] \n",
        "    tokens += [vocab[vocab.eos_token]]\n",
        "\n",
        "    dev_data_sents.append(tokens)    \n",
        "\n",
        "dev_data_sents = np.array(dev_data_sents, dtype=np.int64)"
      ],
      "metadata": {
        "id": "-zGEDqQTvunA"
      },
      "execution_count": 86,
      "outputs": []
    },
    {
      "cell_type": "code",
      "source": [
        "label_dict = {\"entailment\" :0, \"contradiction\" :1, \"neutral\" : 2}\n",
        "def convert_int(label): \n",
        "  num_label = label_dict[label]\n",
        "  return num_label\n"
      ],
      "metadata": {
        "id": "Q7AVkfAMvupt"
      },
      "execution_count": 88,
      "outputs": []
    },
    {
      "cell_type": "code",
      "source": [
        "train_data_snli_xnli.head(3)"
      ],
      "metadata": {
        "colab": {
          "base_uri": "https://localhost:8080/",
          "height": 143
        },
        "id": "q3WQIaIH4AMj",
        "outputId": "ef302024-4995-4594-f4db-0fd92cfa5fb1"
      },
      "execution_count": 90,
      "outputs": [
        {
          "output_type": "execute_result",
          "data": {
            "text/html": [
              "\n",
              "  <div id=\"df-cab68ce3-75bc-4c18-b225-d520869fef12\">\n",
              "    <div class=\"colab-df-container\">\n",
              "      <div>\n",
              "<style scoped>\n",
              "    .dataframe tbody tr th:only-of-type {\n",
              "        vertical-align: middle;\n",
              "    }\n",
              "\n",
              "    .dataframe tbody tr th {\n",
              "        vertical-align: top;\n",
              "    }\n",
              "\n",
              "    .dataframe thead th {\n",
              "        text-align: right;\n",
              "    }\n",
              "</style>\n",
              "<table border=\"1\" class=\"dataframe\">\n",
              "  <thead>\n",
              "    <tr style=\"text-align: right;\">\n",
              "      <th></th>\n",
              "      <th>index</th>\n",
              "      <th>sentence1</th>\n",
              "      <th>sentence2</th>\n",
              "      <th>gold_label</th>\n",
              "    </tr>\n",
              "  </thead>\n",
              "  <tbody>\n",
              "    <tr>\n",
              "      <th>0</th>\n",
              "      <td>0</td>\n",
              "      <td>말을 탄 사람이 고장난 비행기 위로 뛰어오른다.</td>\n",
              "      <td>한 사람이 경쟁을 위해 말을 훈련시키고 있다.</td>\n",
              "      <td>neutral</td>\n",
              "    </tr>\n",
              "    <tr>\n",
              "      <th>1</th>\n",
              "      <td>1</td>\n",
              "      <td>말을 탄 사람이 고장난 비행기 위로 뛰어오른다.</td>\n",
              "      <td>한 사람이 식당에서 오믈렛을 주문하고 있다.</td>\n",
              "      <td>contradiction</td>\n",
              "    </tr>\n",
              "    <tr>\n",
              "      <th>2</th>\n",
              "      <td>2</td>\n",
              "      <td>말을 탄 사람이 고장난 비행기 위로 뛰어오른다.</td>\n",
              "      <td>사람은 야외에서 말을 타고 있다.</td>\n",
              "      <td>entailment</td>\n",
              "    </tr>\n",
              "  </tbody>\n",
              "</table>\n",
              "</div>\n",
              "      <button class=\"colab-df-convert\" onclick=\"convertToInteractive('df-cab68ce3-75bc-4c18-b225-d520869fef12')\"\n",
              "              title=\"Convert this dataframe to an interactive table.\"\n",
              "              style=\"display:none;\">\n",
              "        \n",
              "  <svg xmlns=\"http://www.w3.org/2000/svg\" height=\"24px\"viewBox=\"0 0 24 24\"\n",
              "       width=\"24px\">\n",
              "    <path d=\"M0 0h24v24H0V0z\" fill=\"none\"/>\n",
              "    <path d=\"M18.56 5.44l.94 2.06.94-2.06 2.06-.94-2.06-.94-.94-2.06-.94 2.06-2.06.94zm-11 1L8.5 8.5l.94-2.06 2.06-.94-2.06-.94L8.5 2.5l-.94 2.06-2.06.94zm10 10l.94 2.06.94-2.06 2.06-.94-2.06-.94-.94-2.06-.94 2.06-2.06.94z\"/><path d=\"M17.41 7.96l-1.37-1.37c-.4-.4-.92-.59-1.43-.59-.52 0-1.04.2-1.43.59L10.3 9.45l-7.72 7.72c-.78.78-.78 2.05 0 2.83L4 21.41c.39.39.9.59 1.41.59.51 0 1.02-.2 1.41-.59l7.78-7.78 2.81-2.81c.8-.78.8-2.07 0-2.86zM5.41 20L4 18.59l7.72-7.72 1.47 1.35L5.41 20z\"/>\n",
              "  </svg>\n",
              "      </button>\n",
              "      \n",
              "  <style>\n",
              "    .colab-df-container {\n",
              "      display:flex;\n",
              "      flex-wrap:wrap;\n",
              "      gap: 12px;\n",
              "    }\n",
              "\n",
              "    .colab-df-convert {\n",
              "      background-color: #E8F0FE;\n",
              "      border: none;\n",
              "      border-radius: 50%;\n",
              "      cursor: pointer;\n",
              "      display: none;\n",
              "      fill: #1967D2;\n",
              "      height: 32px;\n",
              "      padding: 0 0 0 0;\n",
              "      width: 32px;\n",
              "    }\n",
              "\n",
              "    .colab-df-convert:hover {\n",
              "      background-color: #E2EBFA;\n",
              "      box-shadow: 0px 1px 2px rgba(60, 64, 67, 0.3), 0px 1px 3px 1px rgba(60, 64, 67, 0.15);\n",
              "      fill: #174EA6;\n",
              "    }\n",
              "\n",
              "    [theme=dark] .colab-df-convert {\n",
              "      background-color: #3B4455;\n",
              "      fill: #D2E3FC;\n",
              "    }\n",
              "\n",
              "    [theme=dark] .colab-df-convert:hover {\n",
              "      background-color: #434B5C;\n",
              "      box-shadow: 0px 1px 3px 1px rgba(0, 0, 0, 0.15);\n",
              "      filter: drop-shadow(0px 1px 2px rgba(0, 0, 0, 0.3));\n",
              "      fill: #FFFFFF;\n",
              "    }\n",
              "  </style>\n",
              "\n",
              "      <script>\n",
              "        const buttonEl =\n",
              "          document.querySelector('#df-cab68ce3-75bc-4c18-b225-d520869fef12 button.colab-df-convert');\n",
              "        buttonEl.style.display =\n",
              "          google.colab.kernel.accessAllowed ? 'block' : 'none';\n",
              "\n",
              "        async function convertToInteractive(key) {\n",
              "          const element = document.querySelector('#df-cab68ce3-75bc-4c18-b225-d520869fef12');\n",
              "          const dataTable =\n",
              "            await google.colab.kernel.invokeFunction('convertToInteractive',\n",
              "                                                     [key], {});\n",
              "          if (!dataTable) return;\n",
              "\n",
              "          const docLinkHtml = 'Like what you see? Visit the ' +\n",
              "            '<a target=\"_blank\" href=https://colab.research.google.com/notebooks/data_table.ipynb>data table notebook</a>'\n",
              "            + ' to learn more about interactive tables.';\n",
              "          element.innerHTML = '';\n",
              "          dataTable['output_type'] = 'display_data';\n",
              "          await google.colab.output.renderOutput(dataTable, element);\n",
              "          const docLink = document.createElement('div');\n",
              "          docLink.innerHTML = docLinkHtml;\n",
              "          element.appendChild(docLink);\n",
              "        }\n",
              "      </script>\n",
              "    </div>\n",
              "  </div>\n",
              "  "
            ],
            "text/plain": [
              "   index                   sentence1                  sentence2     gold_label\n",
              "0      0  말을 탄 사람이 고장난 비행기 위로 뛰어오른다.  한 사람이 경쟁을 위해 말을 훈련시키고 있다.        neutral\n",
              "1      1  말을 탄 사람이 고장난 비행기 위로 뛰어오른다.   한 사람이 식당에서 오믈렛을 주문하고 있다.  contradiction\n",
              "2      2  말을 탄 사람이 고장난 비행기 위로 뛰어오른다.         사람은 야외에서 말을 타고 있다.     entailment"
            ]
          },
          "metadata": {},
          "execution_count": 90
        }
      ]
    },
    {
      "cell_type": "code",
      "source": [
        "train_data_snli_xnli['gold_label_int'] = train_data_snli_xnli['gold_label'].apply(convert_int)\n",
        "train_data_labels = np.array(train_data_snli_xnli['gold_label_int'], dtype= int)\n",
        "\n",
        "dev_data_xnli[\"gold_label_int\"] = dev_data_xnli[\"gold_label\"].apply(convert_int)\n",
        "dev_data_labels = np.array(dev_data_xnli['gold_label_int'], dtype=int)\n",
        "\n",
        "print(\"# train labels: {}, #dev labels: {}\".format(len(train_data_labels), len(dev_data_labels)))"
      ],
      "metadata": {
        "colab": {
          "base_uri": "https://localhost:8080/"
        },
        "id": "VLFJkA8x4APo",
        "outputId": "ffb85798-45ee-451d-82cc-e98e93f962b8"
      },
      "execution_count": 91,
      "outputs": [
        {
          "output_type": "stream",
          "name": "stdout",
          "text": [
            "# train labels: 942808, #dev labels: 2490\n"
          ]
        }
      ]
    },
    {
      "cell_type": "code",
      "source": [
        "# 모델 학습\n",
        "sim_model = TFGPT2Classifier(dir_path = BASE_MODEL_PATH, num_class=3)\n",
        "loss = tf.keras.losses.SparseCategoricalCrossentropy(from_logits=True)\n",
        "metric = tf.keras.metrics.SparseCategoricalAccuracy('accuracy')\n",
        "sim_model.compile(optimizer=optimizer, loss=loss, metrics=[metric])"
      ],
      "metadata": {
        "colab": {
          "base_uri": "https://localhost:8080/"
        },
        "id": "1SgYopii09At",
        "outputId": "cb026912-3a36-4268-af0b-969baf8f487c"
      },
      "execution_count": 92,
      "outputs": [
        {
          "output_type": "stream",
          "name": "stderr",
          "text": [
            "All model checkpoint layers were used when initializing TFGPT2Model.\n",
            "\n",
            "All the layers of TFGPT2Model were initialized from the model checkpoint at /content/gpt_ckpt.\n",
            "If your task is similar to the task the model of the checkpoint was trained on, you can already use TFGPT2Model for predictions without further training.\n"
          ]
        }
      ]
    },
    {
      "cell_type": "code",
      "source": [
        "model_name = \"tf2_gpt_kornli\"\n",
        "\n",
        "earlystop_callback = EarlyStopping(monitor='val_accuracy', min_delta=0.0001, patience=2)\n",
        "\n",
        "checkpoint_path = os.path.join(DATA_OUT_PATH, model_name, 'weights.h5')\n",
        "checkpoint_dir = os.path.dirname(checkpoint_path)\n",
        "\n",
        "if os.path.exists(checkpoint_dir):\n",
        "    print(\"{} -- Folder already exists \\n\".format(checkpoint_dir))\n",
        "else:\n",
        "    os.makedirs(checkpoint_dir, exist_ok=True)\n",
        "    print(\"{} -- Folder create complete \\n\".format(checkpoint_dir))\n",
        "    \n",
        "cp_callback = ModelCheckpoint(\n",
        "    checkpoint_path, monitor='val_accuracy', verbose=1, save_best_only=True, save_weights_only=True)\n"
      ],
      "metadata": {
        "colab": {
          "base_uri": "https://localhost:8080/"
        },
        "id": "krdWUXiX09Dm",
        "outputId": "b42a7723-a5dc-48ce-ff3b-590ab26a65b6"
      },
      "execution_count": 93,
      "outputs": [
        {
          "output_type": "stream",
          "name": "stdout",
          "text": [
            "/content/tensorflow-ml-nlp-tf2/7.PRETRAIN_METHOD/data_out/KOR/tf2_gpt_kornli -- Folder create complete \n",
            "\n"
          ]
        }
      ]
    },
    {
      "cell_type": "code",
      "source": [
        "history = sim_model.fit(train_data_sents, train_data_labels, \n",
        "                        epochs=NUM_EPOCHS,\n",
        "                        validation_data=(dev_data_sents, dev_data_labels),\n",
        "                        batch_size=BATCH_SIZE, \n",
        "                        callbacks=[earlystop_callback, cp_callback])"
      ],
      "metadata": {
        "colab": {
          "base_uri": "https://localhost:8080/"
        },
        "id": "4coWStXg12Zu",
        "outputId": "48637837-85b9-4f74-9ede-e42708401e89"
      },
      "execution_count": null,
      "outputs": [
        {
          "output_type": "stream",
          "name": "stdout",
          "text": [
            "Epoch 1/3\n",
            "29463/29463 [==============================] - ETA: 0s - loss: 0.8067 - accuracy: 0.6302\n",
            "Epoch 00001: val_accuracy improved from -inf to 0.62811, saving model to /content/tensorflow-ml-nlp-tf2/7.PRETRAIN_METHOD/data_out/KOR/tf2_gpt_kornli/weights.h5\n",
            "29463/29463 [==============================] - 7290s 247ms/step - loss: 0.8067 - accuracy: 0.6302 - val_loss: 0.8307 - val_accuracy: 0.6281\n",
            "Epoch 2/3\n",
            "29463/29463 [==============================] - ETA: 0s - loss: 0.6599 - accuracy: 0.7177\n",
            "Epoch 00002: val_accuracy improved from 0.62811 to 0.66345, saving model to /content/tensorflow-ml-nlp-tf2/7.PRETRAIN_METHOD/data_out/KOR/tf2_gpt_kornli/weights.h5\n",
            "29463/29463 [==============================] - 7272s 247ms/step - loss: 0.6599 - accuracy: 0.7177 - val_loss: 0.7683 - val_accuracy: 0.6635\n",
            "Epoch 3/3\n",
            "12188/29463 [===========>..................] - ETA: 1:10:58 - loss: 0.6021 - accuracy: 0.7466"
          ]
        }
      ]
    },
    {
      "cell_type": "code",
      "source": [
        "plot_graphs(history, 'accuracy')"
      ],
      "metadata": {
        "id": "cXEF047o1-2I"
      },
      "execution_count": null,
      "outputs": []
    },
    {
      "cell_type": "code",
      "source": [
        "plot_graphs(history, 'loss')"
      ],
      "metadata": {
        "id": "34RsDG5y1_Kq"
      },
      "execution_count": null,
      "outputs": []
    },
    {
      "cell_type": "code",
      "source": [
        "# test데이터에 적용하기\n",
        "\n",
        "# Load Test dataset\n",
        "TEST_XNLI_DF = os.path.join(DATA_IN_PATH, 'KorNLI', 'xnli.test.ko.tsv')\n",
        "\n",
        "test_data_xnli = pd.read_csv(TEST_XNLI_DF, header=0, delimiter='\\t', quoting=3)"
      ],
      "metadata": {
        "id": "6Bwz67eC16k5"
      },
      "execution_count": null,
      "outputs": []
    },
    {
      "cell_type": "code",
      "source": [
        "# test_data_xnli = test_data_xnli[:50] # for test\n",
        "\n",
        "test_data_sents = []\n",
        "\n",
        "for test_sent_1, test_sent_2 in test_data_xnli[['sentence1', 'sentence2']].values:\n",
        "    test_tokenized_sent_1 = vocab[tokenizer(clean_text(test_sent_1))]\n",
        "    test_tokenized_sent_2 = vocab[tokenizer(clean_text(test_sent_2))]\n",
        "\n",
        "    tokens = [vocab[vocab.bos_token]] \n",
        "    tokens += pad_sequences([test_tokenized_sent_1], \n",
        "                            SENT_MAX_LEN, \n",
        "                            value=vocab[vocab.padding_token], \n",
        "                            padding='post').tolist()[0] \n",
        "    tokens += [vocab[vocab.sep_token]]  \n",
        "    tokens += pad_sequences([test_tokenized_sent_2], \n",
        "                            SENT_MAX_LEN, \n",
        "                            value=vocab[vocab.padding_token], \n",
        "                            padding='post').tolist()[0] \n",
        "    tokens += [vocab[vocab.eos_token]]\n",
        "\n",
        "    test_data_sents.append(tokens)    \n",
        "\n",
        "test_data_sents = np.array(test_data_sents, dtype=np.int64)"
      ],
      "metadata": {
        "id": "-3kDn7_g161s"
      },
      "execution_count": null,
      "outputs": []
    },
    {
      "cell_type": "code",
      "source": [
        "# 테스트 데이터의 라벨 숫자로 변경\n",
        "test_data_xnli[\"gold_label_int\"] = test_data_xnli[\"gold_label\"].apply(convert_int)\n",
        "test_data_labels = np.array(test_data_xnli['gold_label_int'], dtype=int)\n",
        "\n",
        "print(\"# sents: {}, # labels: {}\".format(len(test_data_sents), len(test_data_labels)))"
      ],
      "metadata": {
        "id": "5z3v6SQV3EW8"
      },
      "execution_count": null,
      "outputs": []
    },
    {
      "cell_type": "code",
      "source": [
        "# 테스트 모델에 대한 성능 검증\n",
        "sim_model.load_weights(checkpoint_path)\n",
        "\n",
        "results = sim_model.evaluate(test_data_sents, test_data_labels, batch_size=1024)\n",
        "print(\"test loss, test acc: \", results)"
      ],
      "metadata": {
        "id": "i-d-NLMW3Kun"
      },
      "execution_count": null,
      "outputs": []
    },
    {
      "cell_type": "markdown",
      "source": [
        "# GPT2를 활용한 한국어 텍스트 유사도 모델 "
      ],
      "metadata": {
        "id": "1bj4yBJjvceN"
      }
    },
    {
      "cell_type": "code",
      "source": [
        "# KorSTS 데이터셋 활용\n",
        "# 사전학습된 GPT2모델에 미세조정한 후 버트와의 성능을 비교해볼 것"
      ],
      "metadata": {
        "id": "77EbHAIXvh6L"
      },
      "execution_count": null,
      "outputs": []
    },
    {
      "cell_type": "code",
      "source": [
        "# 데이터 전처리\n",
        "# NLI문제에 미세조정하는 경우에 두개의 텍스트를 스페셜 토큰인 SEP토큰을 사이에 넣어서 모델에 입력값으로 사용함\n",
        "# 텍스트 유사도역시 마찬가지로 두개의 텍스트 사이에 SEP토큰을 두고 입력값을 만드는것을 동일하나 텍스트 위치가 바뀐 두개의 입력값이 필요\n",
        "# BOS SENT1 PAD SEP SENT2 PAD EOS\n",
        "# BOS SENT2 PAD SEP SENT1 PAD EOS\n",
        "# 두 문장이 수반 혹은 종속적인 관계가 아닌 독립적인 두문장, 선후관계 존재하지않음\n",
        "TRAIN_STS_DF = os.path.join(DATA_IN_PATH, 'KorSTS', 'sts-train.tsv')\n",
        "DEV_STS_DF = os.path.join(DATA_IN_PATH, 'KorSTS', 'sts-dev.tsv')\n",
        "train_data = pd.read_csv(TRAIN_STS_DF, header=0, delimiter ='\\t', quoting= 3)\n",
        "dev_data = pd.read_csv(DEV_STS_DF, header=0, delimiter ='\\t', quoting= 3)\n",
        "\n",
        "print(\"total # dataset : train-{}, dev-{}\".format(len(train_data), len(dev)data))\n"
      ],
      "metadata": {
        "id": "gVm6Q16xyCz9"
      },
      "execution_count": null,
      "outputs": []
    }
  ]
}